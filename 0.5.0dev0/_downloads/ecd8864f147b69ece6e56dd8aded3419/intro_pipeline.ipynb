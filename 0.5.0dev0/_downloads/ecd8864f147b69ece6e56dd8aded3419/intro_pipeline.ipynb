{
  "cells": [
    {
      "cell_type": "code",
      "execution_count": null,
      "metadata": {
        "collapsed": false
      },
      "outputs": [],
      "source": [
        "!pip install torchx[kfp]\n!wget --no-clobber https://github.com/pytorch/torchx/archive/refs/heads/main.tar.gz\n!tar xf main.tar.gz --strip-components=1\n\nNOTEBOOK = True"
      ]
    },
    {
      "cell_type": "markdown",
      "metadata": {},
      "source": [
        "\nIntro KubeFlow Pipelines Example\n================================\n\nThis an introductory pipeline using KubeFlow Pipelines built with only TorchX\ncomponents.\n\nTorchX is intended to allow making cross platform components. As such, we have\na standard definition that uses adapters to convert it to the specific\npipeline platform. This is an example of using the KFP adapter to run a TorchX\ncomponent as part of a KubeFlow Pipeline.\n\nTorchX tries to leverage standard mechanisms wherever possible. For KFP we use\nthe existing KFP pipeline definition syntax and add a single\n`component_from_app` conversion step to convert a TorchX component into one\nKFP can understand.\n\nTypically you have a separate component file but for this example we define the\nAppDef inline.\n"
      ]
    },
    {
      "cell_type": "code",
      "execution_count": null,
      "metadata": {
        "collapsed": false
      },
      "outputs": [],
      "source": [
        "import kfp\nfrom torchx import specs\nfrom torchx.pipelines.kfp.adapter import container_from_app\n\n\ndef pipeline() -> None:\n    # First we define our AppDef for the component. AppDef is a core part of TorchX\n    # and can be used to describe complex distributed multi container apps or\n    # just a single node component like here.\n    echo_app: specs.AppDef = specs.AppDef(\n        name=\"examples-intro\",\n        roles=[\n            specs.Role(\n                name=\"worker\",\n                entrypoint=\"/bin/echo\",\n                args=[\"Hello TorchX!\"],\n                image=\"alpine\",\n            )\n        ],\n    )\n\n    # To convert the TorchX AppDef into a KFP container we use\n    # the container_from_app adapter. This takes generates a KFP component\n    # definition from the TorchX app def and instantiates it into a container.\n    echo_container: kfp.dsl.ContainerOp = container_from_app(echo_app)"
      ]
    },
    {
      "cell_type": "markdown",
      "metadata": {},
      "source": [
        "To generate the pipeline definition file we need to call into the KFP compiler\nwith our pipeline function.\n\n"
      ]
    },
    {
      "cell_type": "code",
      "execution_count": null,
      "metadata": {
        "collapsed": false
      },
      "outputs": [],
      "source": [
        "kfp.compiler.Compiler().compile(\n    pipeline_func=pipeline,\n    package_path=\"pipeline.yaml\",\n)\n\nwith open(\"pipeline.yaml\", \"rt\") as f:\n    print(f.read())"
      ]
    },
    {
      "cell_type": "markdown",
      "metadata": {},
      "source": [
        "Once this has all run you should have a pipeline file (typically\npipeline.yaml) that you can upload to your KFP cluster via the UI or\na kfp.Client.\n\nSee the\n`KFP SDK Examples <https://www.kubeflow.org/docs/components/pipelines/tutorials/sdk-examples/#examples>`_\nfor more info on launching KFP pipelines.\n\n"
      ]
    },
    {
      "cell_type": "markdown",
      "metadata": {},
      "source": [
        "See the `examples_pipelines/kfp/advanced_pipeline:Advanced KubeFlow Pipelines Example` for how to chain multiple\ncomponents together and use builtin components.\n\n"
      ]
    },
    {
      "cell_type": "code",
      "execution_count": null,
      "metadata": {
        "collapsed": false
      },
      "outputs": [],
      "source": [
        "# sphinx_gallery_thumbnail_path = '_static/img/gallery-kfp.png'"
      ]
    }
  ],
  "metadata": {
    "kernelspec": {
      "display_name": "Python 3",
      "language": "python",
      "name": "python3"
    },
    "language_info": {
      "codemirror_mode": {
        "name": "ipython",
        "version": 3
      },
      "file_extension": ".py",
      "mimetype": "text/x-python",
      "name": "python",
      "nbconvert_exporter": "python",
      "pygments_lexer": "ipython3",
      "version": "3.8.15"
    }
  },
  "nbformat": 4,
  "nbformat_minor": 0
}