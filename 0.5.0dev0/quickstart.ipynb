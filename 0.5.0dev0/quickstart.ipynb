{
 "cells": [
  {
   "cell_type": "markdown",
   "id": "44d39de4",
   "metadata": {},
   "source": [
    "# Quickstart\n",
    "\n",
    "This is a self contained guide on how to write a simple app and start launching\n",
    "distributed jobs on local and remote clusters.\n",
    "\n",
    "## Installation\n",
    "\n",
    "First thing we need to do is to install the TorchX python package which includes\n",
    "the CLI and the library."
   ]
  },
  {
   "cell_type": "markdown",
   "id": "02a6debf",
   "metadata": {
    "region_name": "md"
   },
   "source": [
    "```sh\n",
    "# install torchx with all dependencies\n",
    "$ pip install torchx[dev]\n",
    "```"
   ]
  },
  {
   "cell_type": "markdown",
   "id": "7ac181fb",
   "metadata": {},
   "source": [
    "See the [README](https://github.com/pytorch/torchx) for more\n",
    "information on installation."
   ]
  },
  {
   "cell_type": "code",
   "execution_count": 1,
   "id": "9bdf0dd8",
   "metadata": {
    "execution": {
     "iopub.execute_input": "2023-03-14T06:18:49.058719Z",
     "iopub.status.busy": "2023-03-14T06:18:49.058274Z",
     "iopub.status.idle": "2023-03-14T06:18:49.316261Z",
     "shell.execute_reply": "2023-03-14T06:18:49.315496Z"
    }
   },
   "outputs": [
    {
     "name": "stdout",
     "output_type": "stream",
     "text": [
      "usage: torchx [-h] [--log_level LOG_LEVEL] [--version]\n"
     ]
    },
    {
     "name": "stdout",
     "output_type": "stream",
     "text": [
      "              {builtins,cancel,configure,describe,list,log,run,runopts,status,tracker}\n"
     ]
    },
    {
     "name": "stdout",
     "output_type": "stream",
     "text": [
      "              ...\n"
     ]
    },
    {
     "name": "stdout",
     "output_type": "stream",
     "text": [
      "\n"
     ]
    },
    {
     "name": "stdout",
     "output_type": "stream",
     "text": [
      "torchx CLI\n"
     ]
    },
    {
     "name": "stdout",
     "output_type": "stream",
     "text": [
      "\n"
     ]
    },
    {
     "name": "stdout",
     "output_type": "stream",
     "text": [
      "optional arguments:\n"
     ]
    },
    {
     "name": "stdout",
     "output_type": "stream",
     "text": [
      "  -h, --help            show this help message and exit\n"
     ]
    },
    {
     "name": "stdout",
     "output_type": "stream",
     "text": [
      "  --log_level LOG_LEVEL\n"
     ]
    },
    {
     "name": "stdout",
     "output_type": "stream",
     "text": [
      "                        Python logging log level\n"
     ]
    },
    {
     "name": "stdout",
     "output_type": "stream",
     "text": [
      "  --version             show program's version number and exit\n"
     ]
    },
    {
     "name": "stdout",
     "output_type": "stream",
     "text": [
      "\n"
     ]
    },
    {
     "name": "stdout",
     "output_type": "stream",
     "text": [
      "sub-commands:\n"
     ]
    },
    {
     "name": "stdout",
     "output_type": "stream",
     "text": [
      "  Use the following commands to run operations, e.g.: torchx run ${JOB_NAME}\n"
     ]
    },
    {
     "name": "stdout",
     "output_type": "stream",
     "text": [
      "\n"
     ]
    },
    {
     "name": "stdout",
     "output_type": "stream",
     "text": [
      "  {builtins,cancel,configure,describe,list,log,run,runopts,status,tracker}\n"
     ]
    }
   ],
   "source": [
    "%%sh\n",
    "torchx --help"
   ]
  },
  {
   "cell_type": "markdown",
   "id": "e6a3201e",
   "metadata": {},
   "source": [
    "## Hello World\n",
    "\n",
    "Lets start off with writing a simple \"Hello World\" python app. This is just a\n",
    "normal python program and can contain anything you'd like.\n",
    "\n",
    "<div class=\"admonition note\">\n",
    "<div class=\"admonition-title\">Note</div>\n",
    "This example uses Jupyter Notebook `%%writefile` to create local files for\n",
    "example purposes. Under normal usage you would have these as standalone files.\n",
    "</div>"
   ]
  },
  {
   "cell_type": "code",
   "execution_count": 2,
   "id": "e60f3731",
   "metadata": {
    "execution": {
     "iopub.execute_input": "2023-03-14T06:18:49.319314Z",
     "iopub.status.busy": "2023-03-14T06:18:49.318829Z",
     "iopub.status.idle": "2023-03-14T06:18:49.324196Z",
     "shell.execute_reply": "2023-03-14T06:18:49.323593Z"
    }
   },
   "outputs": [
    {
     "name": "stdout",
     "output_type": "stream",
     "text": [
      "Overwriting my_app.py\n"
     ]
    }
   ],
   "source": [
    "%%writefile my_app.py\n",
    "\n",
    "import sys\n",
    "\n",
    "print(f\"Hello, {sys.argv[1]}!\")"
   ]
  },
  {
   "cell_type": "markdown",
   "id": "81fbd2cc",
   "metadata": {},
   "source": [
    "## Launching\n",
    "\n",
    "We can execute our app via `torchx run`. The\n",
    "`local_cwd` scheduler executes the app relative to the current directory.\n",
    "\n",
    "For this we'll use the `utils.python` component:"
   ]
  },
  {
   "cell_type": "code",
   "execution_count": 3,
   "id": "1bf5c2eb",
   "metadata": {
    "execution": {
     "iopub.execute_input": "2023-03-14T06:18:49.327123Z",
     "iopub.status.busy": "2023-03-14T06:18:49.326525Z",
     "iopub.status.idle": "2023-03-14T06:18:49.997886Z",
     "shell.execute_reply": "2023-03-14T06:18:49.997156Z"
    }
   },
   "outputs": [
    {
     "name": "stdout",
     "output_type": "stream",
     "text": [
      "usage: torchx run <run args...> python  [--help] [-m M] [-c C]\n"
     ]
    },
    {
     "name": "stdout",
     "output_type": "stream",
     "text": [
      "                                        [--script SCRIPT] [--image IMAGE]\n"
     ]
    },
    {
     "name": "stdout",
     "output_type": "stream",
     "text": [
      "                                        [--name NAME] [--cpu CPU] [--gpu GPU]\n"
     ]
    },
    {
     "name": "stdout",
     "output_type": "stream",
     "text": [
      "                                        [--memMB MEMMB] [-h H]\n"
     ]
    },
    {
     "name": "stdout",
     "output_type": "stream",
     "text": [
      "                                        [--num_replicas NUM_REPLICAS]\n"
     ]
    },
    {
     "name": "stdout",
     "output_type": "stream",
     "text": [
      "                                        ...\n"
     ]
    },
    {
     "name": "stdout",
     "output_type": "stream",
     "text": [
      "\n"
     ]
    },
    {
     "name": "stdout",
     "output_type": "stream",
     "text": [
      "Runs ``python`` with the specified module, command or script on the specified\n"
     ]
    },
    {
     "name": "stdout",
     "output_type": "stream",
     "text": [
      "...\n"
     ]
    },
    {
     "name": "stdout",
     "output_type": "stream",
     "text": [
      "\n"
     ]
    },
    {
     "name": "stdout",
     "output_type": "stream",
     "text": [
      "positional arguments:\n"
     ]
    },
    {
     "name": "stdout",
     "output_type": "stream",
     "text": [
      "  args                  arguments passed to the program in sys.argv[1:]\n"
     ]
    },
    {
     "name": "stdout",
     "output_type": "stream",
     "text": [
      "                        (ignored with `--c`) (required)\n"
     ]
    },
    {
     "name": "stdout",
     "output_type": "stream",
     "text": [
      "\n"
     ]
    },
    {
     "name": "stdout",
     "output_type": "stream",
     "text": [
      "optional arguments:\n"
     ]
    },
    {
     "name": "stdout",
     "output_type": "stream",
     "text": [
      "  --help                show this help message and exit\n"
     ]
    },
    {
     "name": "stdout",
     "output_type": "stream",
     "text": [
      "  -m M, --m M           run library module as a script (default: None)\n"
     ]
    },
    {
     "name": "stdout",
     "output_type": "stream",
     "text": [
      "  -c C, --c C           program passed as string (may error if scheduler has a\n"
     ]
    },
    {
     "name": "stdout",
     "output_type": "stream",
     "text": [
      "                        length limit on args) (default: None)\n"
     ]
    },
    {
     "name": "stdout",
     "output_type": "stream",
     "text": [
      "  --script SCRIPT       .py script to run (default: None)\n"
     ]
    },
    {
     "name": "stdout",
     "output_type": "stream",
     "text": [
      "  --image IMAGE         image to run on (default:\n"
     ]
    },
    {
     "name": "stdout",
     "output_type": "stream",
     "text": [
      "                        ghcr.io/pytorch/torchx:0.5.0dev0)\n"
     ]
    },
    {
     "name": "stdout",
     "output_type": "stream",
     "text": [
      "  --name NAME           name of the job (default: torchx_utils_python)\n"
     ]
    },
    {
     "name": "stdout",
     "output_type": "stream",
     "text": [
      "  --cpu CPU             number of cpus per replica (default: 1)\n"
     ]
    },
    {
     "name": "stdout",
     "output_type": "stream",
     "text": [
      "  --gpu GPU             number of gpus per replica (default: 0)\n"
     ]
    },
    {
     "name": "stdout",
     "output_type": "stream",
     "text": [
      "  --memMB MEMMB         cpu memory in MB per replica (default: 1024)\n"
     ]
    },
    {
     "name": "stdout",
     "output_type": "stream",
     "text": [
      "  -h H, --h H           a registered named resource (if specified takes\n"
     ]
    },
    {
     "name": "stdout",
     "output_type": "stream",
     "text": [
      "                        precedence over cpu, gpu, memMB) (default: None)\n"
     ]
    },
    {
     "name": "stdout",
     "output_type": "stream",
     "text": [
      "  --num_replicas NUM_REPLICAS\n"
     ]
    },
    {
     "name": "stdout",
     "output_type": "stream",
     "text": [
      "                        number of copies to run (each on its own container)\n"
     ]
    },
    {
     "name": "stdout",
     "output_type": "stream",
     "text": [
      "                        (default: 1)\n"
     ]
    }
   ],
   "source": [
    "%%sh\n",
    "torchx run --scheduler local_cwd utils.python --help"
   ]
  },
  {
   "cell_type": "markdown",
   "id": "5e0cb0dc",
   "metadata": {},
   "source": [
    "The component takes in the script name and any extra arguments will be passed to\n",
    "the script itself."
   ]
  },
  {
   "cell_type": "code",
   "execution_count": 4,
   "id": "8db5c773",
   "metadata": {
    "execution": {
     "iopub.execute_input": "2023-03-14T06:18:50.001330Z",
     "iopub.status.busy": "2023-03-14T06:18:50.000612Z",
     "iopub.status.idle": "2023-03-14T06:18:51.692973Z",
     "shell.execute_reply": "2023-03-14T06:18:51.692144Z"
    }
   },
   "outputs": [
    {
     "name": "stderr",
     "output_type": "stream",
     "text": [
      "torchx 2023-03-14 06:18:50 INFO     Log directory not set in scheduler cfg. Creating a temporary log dir that will be deleted on exit. To preserve log directory set the `log_dir` cfg option\n"
     ]
    },
    {
     "name": "stderr",
     "output_type": "stream",
     "text": [
      "torchx 2023-03-14 06:18:50 INFO     Log directory is: /tmp/torchx_xeuszbv9\n"
     ]
    },
    {
     "name": "stderr",
     "output_type": "stream",
     "text": [
      "torchx 2023-03-14 06:18:50 INFO     Waiting for the app to finish...\n"
     ]
    },
    {
     "name": "stderr",
     "output_type": "stream",
     "text": [
      "python/0 Hello, your name!\n"
     ]
    },
    {
     "name": "stderr",
     "output_type": "stream",
     "text": [
      "torchx 2023-03-14 06:18:51 INFO     Job finished: SUCCEEDED\n"
     ]
    },
    {
     "name": "stdout",
     "output_type": "stream",
     "text": [
      "local_cwd://torchx/torchx_utils_python-h5jlxc1jh9bhw\n"
     ]
    }
   ],
   "source": [
    "%%sh\n",
    "torchx run --scheduler local_cwd utils.python --script my_app.py \"your name\""
   ]
  },
  {
   "cell_type": "markdown",
   "id": "b8bd8a3c",
   "metadata": {},
   "source": [
    "We can run the exact same app via the `local_docker` scheduler. This scheduler\n",
    "will package up the local workspace as a layer on top of the specified image.\n",
    "This provides a very similar environment to the container based remote\n",
    "schedulers.\n",
    "\n",
    "<div class=\"admonition note\">\n",
    "<div class=\"admonition-title\">Note</div>\n",
    "This requires Docker installed and won't work in environments such as Google\n",
    "Colab. See the Docker install instructions:\n",
    "[https://docs.docker.com/get-docker/](https://docs.docker.com/get-docker/)</a>\n",
    "</div>"
   ]
  },
  {
   "cell_type": "code",
   "execution_count": 5,
   "id": "6e52490d",
   "metadata": {
    "execution": {
     "iopub.execute_input": "2023-03-14T06:18:51.696563Z",
     "iopub.status.busy": "2023-03-14T06:18:51.696215Z",
     "iopub.status.idle": "2023-03-14T06:19:04.040051Z",
     "shell.execute_reply": "2023-03-14T06:19:04.039138Z"
    }
   },
   "outputs": [
    {
     "name": "stderr",
     "output_type": "stream",
     "text": [
      "torchx 2023-03-14 06:18:52 INFO     Checking for changes in workspace `file:///home/runner/work/torchx/torchx/docs/source`...\n"
     ]
    },
    {
     "name": "stderr",
     "output_type": "stream",
     "text": [
      "torchx 2023-03-14 06:18:52 INFO     To disable workspaces pass: --workspace=\"\" from CLI or workspace=None programmatically.\n"
     ]
    },
    {
     "name": "stderr",
     "output_type": "stream",
     "text": [
      "torchx 2023-03-14 06:18:52 INFO     Workspace `file:///home/runner/work/torchx/torchx/docs/source` resolved to filesystem path `/home/runner/work/torchx/torchx/docs/source`\n"
     ]
    },
    {
     "name": "stderr",
     "output_type": "stream",
     "text": [
      "torchx 2023-03-14 06:18:52 INFO     Building workspace docker image (this may take a while)...\n"
     ]
    },
    {
     "name": "stderr",
     "output_type": "stream",
     "text": [
      "torchx 2023-03-14 06:19:02 INFO     Built new image `sha256:e9383bf57d0a19d5540acfaec75d20e6bc0a524c4f2994eaf50c70a486f1617d` based on original image `ghcr.io/pytorch/torchx:0.5.0dev0` and changes in workspace `file:///home/runner/work/torchx/torchx/docs/source` for role[0]=python.\n"
     ]
    },
    {
     "name": "stderr",
     "output_type": "stream",
     "text": [
      "torchx 2023-03-14 06:19:02 INFO     Waiting for the app to finish...\n"
     ]
    },
    {
     "name": "stderr",
     "output_type": "stream",
     "text": [
      "python/0 Hello, your name!\n"
     ]
    },
    {
     "name": "stderr",
     "output_type": "stream",
     "text": [
      "torchx 2023-03-14 06:19:03 INFO     Job finished: SUCCEEDED\n"
     ]
    },
    {
     "name": "stdout",
     "output_type": "stream",
     "text": [
      "local_docker://torchx/torchx_utils_python-qgl1r6gww6fq2\n"
     ]
    }
   ],
   "source": [
    "%%sh\n",
    "torchx run --scheduler local_docker utils.python --script my_app.py \"your name\""
   ]
  },
  {
   "cell_type": "markdown",
   "id": "fad6e88e",
   "metadata": {},
   "source": [
    "TorchX defaults to using the\n",
    "[ghcr.io/pytorch/torchx](https://ghcr.io/pytorch/torchx) Docker container image\n",
    "which contains the PyTorch libraries, TorchX and related dependencies.\n",
    "\n",
    "## Distributed\n",
    "\n",
    "TorchX's `dist.ddp` component uses\n",
    "[TorchElastic](https://pytorch.org/docs/stable/distributed.elastic.html)\n",
    "to manage the workers. This means you can launch multi-worker and multi-host\n",
    "jobs out of the box on all of the schedulers we support."
   ]
  },
  {
   "cell_type": "code",
   "execution_count": 6,
   "id": "00daee73",
   "metadata": {
    "execution": {
     "iopub.execute_input": "2023-03-14T06:19:04.043899Z",
     "iopub.status.busy": "2023-03-14T06:19:04.043380Z",
     "iopub.status.idle": "2023-03-14T06:19:04.749948Z",
     "shell.execute_reply": "2023-03-14T06:19:04.749158Z"
    }
   },
   "outputs": [
    {
     "name": "stdout",
     "output_type": "stream",
     "text": [
      "usage: torchx run <run args...> ddp  [--help] [--script SCRIPT] [-m M]\n"
     ]
    },
    {
     "name": "stdout",
     "output_type": "stream",
     "text": [
      "                                     [--image IMAGE] [--name NAME] [-h H]\n"
     ]
    },
    {
     "name": "stdout",
     "output_type": "stream",
     "text": [
      "                                     [--cpu CPU] [--gpu GPU] [--memMB MEMMB]\n"
     ]
    },
    {
     "name": "stdout",
     "output_type": "stream",
     "text": [
      "                                     [-j J] [--env ENV]\n"
     ]
    },
    {
     "name": "stdout",
     "output_type": "stream",
     "text": [
      "                                     [--max_retries MAX_RETRIES]\n"
     ]
    },
    {
     "name": "stdout",
     "output_type": "stream",
     "text": [
      "                                     [--rdzv_port RDZV_PORT] [--mounts MOUNTS]\n"
     ]
    },
    {
     "name": "stdout",
     "output_type": "stream",
     "text": [
      "                                     [--debug DEBUG]\n"
     ]
    },
    {
     "name": "stdout",
     "output_type": "stream",
     "text": [
      "                                     ...\n"
     ]
    },
    {
     "name": "stdout",
     "output_type": "stream",
     "text": [
      "\n"
     ]
    },
    {
     "name": "stdout",
     "output_type": "stream",
     "text": [
      "Distributed data parallel style application (one role, multi-replica). ...\n"
     ]
    },
    {
     "name": "stdout",
     "output_type": "stream",
     "text": [
      "\n"
     ]
    },
    {
     "name": "stdout",
     "output_type": "stream",
     "text": [
      "positional arguments:\n"
     ]
    },
    {
     "name": "stdout",
     "output_type": "stream",
     "text": [
      "  script_args           arguments to the main module (required)\n"
     ]
    },
    {
     "name": "stdout",
     "output_type": "stream",
     "text": [
      "\n"
     ]
    },
    {
     "name": "stdout",
     "output_type": "stream",
     "text": [
      "optional arguments:\n"
     ]
    },
    {
     "name": "stdout",
     "output_type": "stream",
     "text": [
      "  --help                show this help message and exit\n"
     ]
    },
    {
     "name": "stdout",
     "output_type": "stream",
     "text": [
      "  --script SCRIPT       script or binary to run within the image (default:\n"
     ]
    },
    {
     "name": "stdout",
     "output_type": "stream",
     "text": [
      "                        None)\n"
     ]
    },
    {
     "name": "stdout",
     "output_type": "stream",
     "text": [
      "  -m M, --m M           the python module path to run (default: None)\n"
     ]
    },
    {
     "name": "stdout",
     "output_type": "stream",
     "text": [
      "  --image IMAGE         image (e.g. docker) (default:\n"
     ]
    },
    {
     "name": "stdout",
     "output_type": "stream",
     "text": [
      "                        ghcr.io/pytorch/torchx:0.5.0dev0)\n"
     ]
    },
    {
     "name": "stdout",
     "output_type": "stream",
     "text": [
      "  --name NAME           job name override (uses the script name if not\n"
     ]
    },
    {
     "name": "stdout",
     "output_type": "stream",
     "text": [
      "                        specified) (default: None)\n"
     ]
    },
    {
     "name": "stdout",
     "output_type": "stream",
     "text": [
      "  -h H, --h H           a registered named resource (if specified takes\n"
     ]
    },
    {
     "name": "stdout",
     "output_type": "stream",
     "text": [
      "                        precedence over cpu, gpu, memMB) (default: None)\n"
     ]
    },
    {
     "name": "stdout",
     "output_type": "stream",
     "text": [
      "  --cpu CPU             number of cpus per replica (default: 2)\n"
     ]
    },
    {
     "name": "stdout",
     "output_type": "stream",
     "text": [
      "  --gpu GPU             number of gpus per replica (default: 0)\n"
     ]
    },
    {
     "name": "stdout",
     "output_type": "stream",
     "text": [
      "  --memMB MEMMB         cpu memory in MB per replica (default: 1024)\n"
     ]
    },
    {
     "name": "stdout",
     "output_type": "stream",
     "text": [
      "  -j J, --j J           [{min_nnodes}:]{nnodes}x{nproc_per_node}, for gpu\n"
     ]
    },
    {
     "name": "stdout",
     "output_type": "stream",
     "text": [
      "                        hosts, nproc_per_node must not exceed num gpus\n"
     ]
    },
    {
     "name": "stdout",
     "output_type": "stream",
     "text": [
      "                        (default: 1x2)\n"
     ]
    },
    {
     "name": "stdout",
     "output_type": "stream",
     "text": [
      "  --env ENV             environment varibles to be passed to the run (e.g.\n"
     ]
    },
    {
     "name": "stdout",
     "output_type": "stream",
     "text": [
      "                        ENV1=v1,ENV2=v2,ENV3=v3) (default: None)\n"
     ]
    },
    {
     "name": "stdout",
     "output_type": "stream",
     "text": [
      "  --max_retries MAX_RETRIES\n"
     ]
    },
    {
     "name": "stdout",
     "output_type": "stream",
     "text": [
      "                        the number of scheduler retries allowed (default: 0)\n"
     ]
    },
    {
     "name": "stdout",
     "output_type": "stream",
     "text": [
      "  --rdzv_port RDZV_PORT\n"
     ]
    },
    {
     "name": "stdout",
     "output_type": "stream",
     "text": [
      "                        the port on rank0's host to use for hosting the c10d\n"
     ]
    },
    {
     "name": "stdout",
     "output_type": "stream",
     "text": [
      "                        store used for rendezvous. Only takes effect when\n"
     ]
    },
    {
     "name": "stdout",
     "output_type": "stream",
     "text": [
      "                        running multi-node. When running single node, this\n"
     ]
    },
    {
     "name": "stdout",
     "output_type": "stream",
     "text": [
      "                        parameter is ignored and a random free port is chosen.\n"
     ]
    },
    {
     "name": "stdout",
     "output_type": "stream",
     "text": [
      "                        (default: 29500)\n"
     ]
    },
    {
     "name": "stdout",
     "output_type": "stream",
     "text": [
      "  --mounts MOUNTS       mounts to mount into the worker environment/container\n"
     ]
    },
    {
     "name": "stdout",
     "output_type": "stream",
     "text": [
      "                        (ex.\n"
     ]
    },
    {
     "name": "stdout",
     "output_type": "stream",
     "text": [
      "                        type=<bind/volume>,src=/host,dst=/job[,readonly]). See\n"
     ]
    },
    {
     "name": "stdout",
     "output_type": "stream",
     "text": [
      "                        scheduler documentation for more info. (default: None)\n"
     ]
    },
    {
     "name": "stdout",
     "output_type": "stream",
     "text": [
      "  --debug DEBUG         whether to run with preset debug flags enabled\n"
     ]
    },
    {
     "name": "stdout",
     "output_type": "stream",
     "text": [
      "                        (default: False)\n"
     ]
    }
   ],
   "source": [
    "%%sh\n",
    "torchx run --scheduler local_docker dist.ddp --help"
   ]
  },
  {
   "cell_type": "markdown",
   "id": "6bbaa3b3",
   "metadata": {},
   "source": [
    "Lets create a slightly more interesting app to leverage the TorchX distributed\n",
    "support."
   ]
  },
  {
   "cell_type": "code",
   "execution_count": 7,
   "id": "6367fd8a",
   "metadata": {
    "execution": {
     "iopub.execute_input": "2023-03-14T06:19:04.752877Z",
     "iopub.status.busy": "2023-03-14T06:19:04.752612Z",
     "iopub.status.idle": "2023-03-14T06:19:04.757354Z",
     "shell.execute_reply": "2023-03-14T06:19:04.756781Z"
    }
   },
   "outputs": [
    {
     "name": "stdout",
     "output_type": "stream",
     "text": [
      "Writing dist_app.py\n"
     ]
    }
   ],
   "source": [
    "%%writefile dist_app.py\n",
    "\n",
    "import torch\n",
    "import torch.distributed as dist\n",
    "\n",
    "dist.init_process_group(backend=\"gloo\")\n",
    "print(f\"I am worker {dist.get_rank()} of {dist.get_world_size()}!\")\n",
    "\n",
    "a = torch.tensor([dist.get_rank()])\n",
    "dist.all_reduce(a)\n",
    "print(f\"all_reduce output = {a}\")"
   ]
  },
  {
   "cell_type": "markdown",
   "id": "3fe00836",
   "metadata": {},
   "source": [
    "Let launch a small job with 2 nodes and 2 worker processes per node:"
   ]
  },
  {
   "cell_type": "code",
   "execution_count": 8,
   "id": "1b05290f",
   "metadata": {
    "execution": {
     "iopub.execute_input": "2023-03-14T06:19:04.759754Z",
     "iopub.status.busy": "2023-03-14T06:19:04.759528Z",
     "iopub.status.idle": "2023-03-14T06:19:24.667279Z",
     "shell.execute_reply": "2023-03-14T06:19:24.666354Z"
    }
   },
   "outputs": [
    {
     "name": "stderr",
     "output_type": "stream",
     "text": [
      "torchx 2023-03-14 06:19:05 INFO     Checking for changes in workspace `file:///home/runner/work/torchx/torchx/docs/source`...\n"
     ]
    },
    {
     "name": "stderr",
     "output_type": "stream",
     "text": [
      "torchx 2023-03-14 06:19:05 INFO     To disable workspaces pass: --workspace=\"\" from CLI or workspace=None programmatically.\n"
     ]
    },
    {
     "name": "stderr",
     "output_type": "stream",
     "text": [
      "torchx 2023-03-14 06:19:05 INFO     Workspace `file:///home/runner/work/torchx/torchx/docs/source` resolved to filesystem path `/home/runner/work/torchx/torchx/docs/source`\n"
     ]
    },
    {
     "name": "stderr",
     "output_type": "stream",
     "text": [
      "torchx 2023-03-14 06:19:05 INFO     Building workspace docker image (this may take a while)...\n"
     ]
    },
    {
     "name": "stderr",
     "output_type": "stream",
     "text": [
      "torchx 2023-03-14 06:19:15 INFO     Built new image `sha256:0b0a375ed267ef905a71a568b8907cfba9e9977953a361d7086f18998d95ecf4` based on original image `ghcr.io/pytorch/torchx:0.5.0dev0` and changes in workspace `file:///home/runner/work/torchx/torchx/docs/source` for role[0]=dist_app.\n"
     ]
    },
    {
     "name": "stderr",
     "output_type": "stream",
     "text": [
      "torchx 2023-03-14 06:19:16 INFO     Waiting for the app to finish...\n"
     ]
    },
    {
     "name": "stderr",
     "output_type": "stream",
     "text": [
      "dist_app/0 WARNING:torch.distributed.run:\n"
     ]
    },
    {
     "name": "stderr",
     "output_type": "stream",
     "text": [
      "dist_app/0 *****************************************\n"
     ]
    },
    {
     "name": "stderr",
     "output_type": "stream",
     "text": [
      "dist_app/0 Setting OMP_NUM_THREADS environment variable for each process to be 1 in default, to avoid your system being overloaded, please further tune the variable for optimal performance in your application as needed. \n"
     ]
    },
    {
     "name": "stderr",
     "output_type": "stream",
     "text": [
      "dist_app/0 *****************************************\n"
     ]
    },
    {
     "name": "stderr",
     "output_type": "stream",
     "text": [
      "dist_app/1 WARNING:torch.distributed.run:\n"
     ]
    },
    {
     "name": "stderr",
     "output_type": "stream",
     "text": [
      "dist_app/1 *****************************************\n"
     ]
    },
    {
     "name": "stderr",
     "output_type": "stream",
     "text": [
      "dist_app/1 Setting OMP_NUM_THREADS environment variable for each process to be 1 in default, to avoid your system being overloaded, please further tune the variable for optimal performance in your application as needed. \n"
     ]
    },
    {
     "name": "stderr",
     "output_type": "stream",
     "text": [
      "dist_app/1 *****************************************\n"
     ]
    },
    {
     "name": "stderr",
     "output_type": "stream",
     "text": [
      "dist_app/1 [0]:I am worker 2 of 4!\n"
     ]
    },
    {
     "name": "stderr",
     "output_type": "stream",
     "text": [
      "dist_app/1 [0]:all_reduce output = tensor([6])\n"
     ]
    },
    {
     "name": "stderr",
     "output_type": "stream",
     "text": [
      "dist_app/1 [1]:I am worker 3 of 4!\n"
     ]
    },
    {
     "name": "stderr",
     "output_type": "stream",
     "text": [
      "dist_app/1 [1]:all_reduce output = tensor([6])\n"
     ]
    },
    {
     "name": "stderr",
     "output_type": "stream",
     "text": [
      "dist_app/0 [0]:I am worker 0 of 4!\n"
     ]
    },
    {
     "name": "stderr",
     "output_type": "stream",
     "text": [
      "dist_app/0 [0]:all_reduce output = tensor([6])\n"
     ]
    },
    {
     "name": "stderr",
     "output_type": "stream",
     "text": [
      "dist_app/0 [1]:I am worker 1 of 4!\n"
     ]
    },
    {
     "name": "stderr",
     "output_type": "stream",
     "text": [
      "dist_app/0 [1]:all_reduce output = tensor([6])\n"
     ]
    },
    {
     "name": "stderr",
     "output_type": "stream",
     "text": [
      "torchx 2023-03-14 06:19:24 INFO     Job finished: SUCCEEDED\n"
     ]
    },
    {
     "name": "stdout",
     "output_type": "stream",
     "text": [
      "local_docker://torchx/dist_app-vg2593b37btn3c\n"
     ]
    }
   ],
   "source": [
    "%%sh\n",
    "torchx run --scheduler local_docker dist.ddp -j 2x2 --script dist_app.py"
   ]
  },
  {
   "cell_type": "markdown",
   "id": "e8664d5a",
   "metadata": {},
   "source": [
    "## Workspaces / Patching\n",
    "\n",
    "For each scheduler there's a concept of an `image`. For `local_cwd` and `slurm`\n",
    "it uses the current working directory. For container based schedulers such as\n",
    "`local_docker`, `kubernetes` and `aws_batch` it uses a docker container.\n",
    "\n",
    "To provide the same environment between local and remote jobs, TorchX CLI uses\n",
    "workspaces to automatically patch images for remote jobs on a per scheduler\n",
    "basis.\n",
    "\n",
    "When you launch a job via `torchx run` it'll overlay the current directory on\n",
    "top of the provided image so your code is available in the launched job.\n",
    "\n",
    "For `docker` based schedulers you'll need a local docker daemon to build and\n",
    "push the image to your remote docker repository.\n",
    "\n",
    "## `.torchxconfig`\n",
    "\n",
    "Arguments to schedulers can be specified either via a command line flag to\n",
    "`torchx run -s <scheduler> -c <args>` or on a per scheduler basis via a\n",
    "`.torchxconfig` file."
   ]
  },
  {
   "cell_type": "code",
   "execution_count": 9,
   "id": "b6f45e98",
   "metadata": {
    "execution": {
     "iopub.execute_input": "2023-03-14T06:19:24.671831Z",
     "iopub.status.busy": "2023-03-14T06:19:24.671068Z",
     "iopub.status.idle": "2023-03-14T06:19:24.676048Z",
     "shell.execute_reply": "2023-03-14T06:19:24.675350Z"
    }
   },
   "outputs": [
    {
     "name": "stdout",
     "output_type": "stream",
     "text": [
      "Writing .torchxconfig\n"
     ]
    }
   ],
   "source": [
    "%%writefile .torchxconfig\n",
    "\n",
    "[kubernetes]\n",
    "queue=torchx\n",
    "image_repo=<your docker image repository>\n",
    "\n",
    "[slurm]\n",
    "partition=torchx"
   ]
  },
  {
   "cell_type": "markdown",
   "id": "89bde872",
   "metadata": {},
   "source": [
    "## Remote Schedulers\n",
    "\n",
    "TorchX supports a large number of schedulers.\n",
    "Don't see yours?\n",
    "[Request it!](https://github.com/pytorch/torchx/issues/new?assignees=&labels=&template=feature-request.md)\n",
    "\n",
    "Remote schedulers operate the exact same way the local schedulers do. The same\n",
    "run command for local works out of the box on remote."
   ]
  },
  {
   "cell_type": "markdown",
   "id": "4d314ee3",
   "metadata": {
    "region_name": "md"
   },
   "source": [
    "```sh\n",
    "$ torchx run --scheduler slurm dist.ddp -j 2x2 --script dist_app.py\n",
    "$ torchx run --scheduler kubernetes dist.ddp -j 2x2 --script dist_app.py\n",
    "$ torchx run --scheduler aws_batch dist.ddp -j 2x2 --script dist_app.py\n",
    "$ torchx run --scheduler ray dist.ddp -j 2x2 --script dist_app.py\n",
    "```"
   ]
  },
  {
   "cell_type": "markdown",
   "id": "fc8562bd",
   "metadata": {},
   "source": [
    "Depending on the scheduler there may be a few extra configuration parameters so\n",
    "TorchX knows where to run the job and upload built images. These can either be\n",
    "set via `-c` or in the `.torchxconfig` file."
   ]
  },
  {
   "cell_type": "markdown",
   "id": "3c59ff90",
   "metadata": {},
   "source": [
    "All config options:"
   ]
  },
  {
   "cell_type": "code",
   "execution_count": 10,
   "id": "42f438b6",
   "metadata": {
    "execution": {
     "iopub.execute_input": "2023-03-14T06:19:24.678712Z",
     "iopub.status.busy": "2023-03-14T06:19:24.678289Z",
     "iopub.status.idle": "2023-03-14T06:19:25.871934Z",
     "shell.execute_reply": "2023-03-14T06:19:25.870862Z"
    },
    "lines_to_next_cell": 2
   },
   "outputs": [
    {
     "name": "stdout",
     "output_type": "stream",
     "text": [
      "local_docker:\n"
     ]
    },
    {
     "name": "stdout",
     "output_type": "stream",
     "text": [
      "    usage:\n"
     ]
    },
    {
     "name": "stdout",
     "output_type": "stream",
     "text": [
      "        [copy_env=COPY_ENV],[image_repo=IMAGE_REPO]\n"
     ]
    },
    {
     "name": "stdout",
     "output_type": "stream",
     "text": [
      "\n"
     ]
    },
    {
     "name": "stdout",
     "output_type": "stream",
     "text": [
      "    optional arguments:\n"
     ]
    },
    {
     "name": "stdout",
     "output_type": "stream",
     "text": [
      "        copy_env=COPY_ENV (typing.List[str], None)\n"
     ]
    },
    {
     "name": "stdout",
     "output_type": "stream",
     "text": [
      "            list of glob patterns of environment variables to copy if not set in AppDef. Ex: FOO_*\n"
     ]
    },
    {
     "name": "stdout",
     "output_type": "stream",
     "text": [
      "        image_repo=IMAGE_REPO (str, None)\n"
     ]
    },
    {
     "name": "stdout",
     "output_type": "stream",
     "text": [
      "            (remote jobs) the image repository to use when pushing patched images, must have push access. Ex: example.com/your/container\n"
     ]
    },
    {
     "name": "stdout",
     "output_type": "stream",
     "text": [
      "\n"
     ]
    },
    {
     "name": "stdout",
     "output_type": "stream",
     "text": [
      "local_cwd:\n"
     ]
    },
    {
     "name": "stdout",
     "output_type": "stream",
     "text": [
      "    usage:\n"
     ]
    },
    {
     "name": "stdout",
     "output_type": "stream",
     "text": [
      "        [log_dir=LOG_DIR],[prepend_cwd=PREPEND_CWD],[auto_set_cuda_visible_devices=AUTO_SET_CUDA_VISIBLE_DEVICES]\n"
     ]
    },
    {
     "name": "stdout",
     "output_type": "stream",
     "text": [
      "\n"
     ]
    },
    {
     "name": "stdout",
     "output_type": "stream",
     "text": [
      "    optional arguments:\n"
     ]
    },
    {
     "name": "stdout",
     "output_type": "stream",
     "text": [
      "        log_dir=LOG_DIR (str, None)\n"
     ]
    },
    {
     "name": "stdout",
     "output_type": "stream",
     "text": [
      "            dir to write stdout/stderr log files of replicas\n"
     ]
    },
    {
     "name": "stdout",
     "output_type": "stream",
     "text": [
      "        prepend_cwd=PREPEND_CWD (bool, False)\n"
     ]
    },
    {
     "name": "stdout",
     "output_type": "stream",
     "text": [
      "            if set, prepends CWD to replica's PATH env var making any binaries in CWD take precedence over those in PATH\n"
     ]
    },
    {
     "name": "stdout",
     "output_type": "stream",
     "text": [
      "        auto_set_cuda_visible_devices=AUTO_SET_CUDA_VISIBLE_DEVICES (bool, False)\n"
     ]
    },
    {
     "name": "stdout",
     "output_type": "stream",
     "text": [
      "            sets the `CUDA_AVAILABLE_DEVICES` for roles that request GPU resources. Each role replica will be assigned one GPU. Does nothing if the device count is less than replicas.\n"
     ]
    },
    {
     "name": "stdout",
     "output_type": "stream",
     "text": [
      "\n"
     ]
    },
    {
     "name": "stdout",
     "output_type": "stream",
     "text": [
      "slurm:\n"
     ]
    },
    {
     "name": "stdout",
     "output_type": "stream",
     "text": [
      "    usage:\n"
     ]
    },
    {
     "name": "stdout",
     "output_type": "stream",
     "text": [
      "        [partition=PARTITION],[time=TIME],[comment=COMMENT],[constraint=CONSTRAINT],[mail-user=MAIL-USER],[mail-type=MAIL-TYPE],[job_dir=JOB_DIR]\n"
     ]
    },
    {
     "name": "stdout",
     "output_type": "stream",
     "text": [
      "\n"
     ]
    },
    {
     "name": "stdout",
     "output_type": "stream",
     "text": [
      "    optional arguments:\n"
     ]
    },
    {
     "name": "stdout",
     "output_type": "stream",
     "text": [
      "        partition=PARTITION (str, None)\n"
     ]
    },
    {
     "name": "stdout",
     "output_type": "stream",
     "text": [
      "            The partition to run the job in.\n"
     ]
    },
    {
     "name": "stdout",
     "output_type": "stream",
     "text": [
      "        time=TIME (str, None)\n"
     ]
    },
    {
     "name": "stdout",
     "output_type": "stream",
     "text": [
      "            The maximum time the job is allowed to run for. Formats:             \"minutes\", \"minutes:seconds\", \"hours:minutes:seconds\", \"days-hours\",             \"days-hours:minutes\" or \"days-hours:minutes:seconds\"\n"
     ]
    },
    {
     "name": "stdout",
     "output_type": "stream",
     "text": [
      "        comment=COMMENT (str, None)\n"
     ]
    },
    {
     "name": "stdout",
     "output_type": "stream",
     "text": [
      "            Comment to set on the slurm job.\n"
     ]
    },
    {
     "name": "stdout",
     "output_type": "stream",
     "text": [
      "        constraint=CONSTRAINT (str, None)\n"
     ]
    },
    {
     "name": "stdout",
     "output_type": "stream",
     "text": [
      "            Constraint to use for the slurm job.\n"
     ]
    },
    {
     "name": "stdout",
     "output_type": "stream",
     "text": [
      "        mail-user=MAIL-USER (str, None)\n"
     ]
    },
    {
     "name": "stdout",
     "output_type": "stream",
     "text": [
      "            User to mail on job end.\n"
     ]
    },
    {
     "name": "stdout",
     "output_type": "stream",
     "text": [
      "        mail-type=MAIL-TYPE (str, None)\n"
     ]
    },
    {
     "name": "stdout",
     "output_type": "stream",
     "text": [
      "            What events to mail users on.\n"
     ]
    },
    {
     "name": "stdout",
     "output_type": "stream",
     "text": [
      "        job_dir=JOB_DIR (str, None)\n"
     ]
    },
    {
     "name": "stdout",
     "output_type": "stream",
     "text": [
      "            The directory to place the job code and outputs. The\n"
     ]
    },
    {
     "name": "stdout",
     "output_type": "stream",
     "text": [
      "            directory must not exist and will be created. To enable log\n"
     ]
    },
    {
     "name": "stdout",
     "output_type": "stream",
     "text": [
      "            iteration, jobs will be tracked in ``.torchxslurmjobdirs``.\n"
     ]
    },
    {
     "name": "stdout",
     "output_type": "stream",
     "text": [
      "            \n"
     ]
    },
    {
     "name": "stdout",
     "output_type": "stream",
     "text": [
      "\n"
     ]
    },
    {
     "name": "stdout",
     "output_type": "stream",
     "text": [
      "kubernetes:\n"
     ]
    },
    {
     "name": "stdout",
     "output_type": "stream",
     "text": [
      "    usage:\n"
     ]
    },
    {
     "name": "stdout",
     "output_type": "stream",
     "text": [
      "        queue=QUEUE,[namespace=NAMESPACE],[service_account=SERVICE_ACCOUNT],[priority_class=PRIORITY_CLASS],[image_repo=IMAGE_REPO]\n"
     ]
    },
    {
     "name": "stdout",
     "output_type": "stream",
     "text": [
      "\n"
     ]
    },
    {
     "name": "stdout",
     "output_type": "stream",
     "text": [
      "    required arguments:\n"
     ]
    },
    {
     "name": "stdout",
     "output_type": "stream",
     "text": [
      "        queue=QUEUE (str)\n"
     ]
    },
    {
     "name": "stdout",
     "output_type": "stream",
     "text": [
      "            Volcano queue to schedule job in\n"
     ]
    },
    {
     "name": "stdout",
     "output_type": "stream",
     "text": [
      "\n"
     ]
    },
    {
     "name": "stdout",
     "output_type": "stream",
     "text": [
      "    optional arguments:\n"
     ]
    },
    {
     "name": "stdout",
     "output_type": "stream",
     "text": [
      "        namespace=NAMESPACE (str, default)\n"
     ]
    },
    {
     "name": "stdout",
     "output_type": "stream",
     "text": [
      "            Kubernetes namespace to schedule job in\n"
     ]
    },
    {
     "name": "stdout",
     "output_type": "stream",
     "text": [
      "        service_account=SERVICE_ACCOUNT (str, None)\n"
     ]
    },
    {
     "name": "stdout",
     "output_type": "stream",
     "text": [
      "            The service account name to set on the pod specs\n"
     ]
    },
    {
     "name": "stdout",
     "output_type": "stream",
     "text": [
      "        priority_class=PRIORITY_CLASS (str, None)\n"
     ]
    },
    {
     "name": "stdout",
     "output_type": "stream",
     "text": [
      "            The name of the PriorityClass to set on the job specs\n"
     ]
    },
    {
     "name": "stdout",
     "output_type": "stream",
     "text": [
      "        image_repo=IMAGE_REPO (str, None)\n"
     ]
    },
    {
     "name": "stdout",
     "output_type": "stream",
     "text": [
      "            (remote jobs) the image repository to use when pushing patched images, must have push access. Ex: example.com/your/container\n"
     ]
    },
    {
     "name": "stdout",
     "output_type": "stream",
     "text": [
      "\n"
     ]
    },
    {
     "name": "stdout",
     "output_type": "stream",
     "text": [
      "kubernetes_mcad:\n"
     ]
    },
    {
     "name": "stdout",
     "output_type": "stream",
     "text": [
      "    usage:\n"
     ]
    },
    {
     "name": "stdout",
     "output_type": "stream",
     "text": [
      "        [namespace=NAMESPACE],[image_repo=IMAGE_REPO],[service_account=SERVICE_ACCOUNT],[priority=PRIORITY],[image_secret=IMAGE_SECRET],[coscheduler_name=COSCHEDULER_NAME]\n"
     ]
    },
    {
     "name": "stdout",
     "output_type": "stream",
     "text": [
      "\n"
     ]
    },
    {
     "name": "stdout",
     "output_type": "stream",
     "text": [
      "    optional arguments:\n"
     ]
    },
    {
     "name": "stdout",
     "output_type": "stream",
     "text": [
      "        namespace=NAMESPACE (str, default)\n"
     ]
    },
    {
     "name": "stdout",
     "output_type": "stream",
     "text": [
      "            Kubernetes namespace to schedule job in\n"
     ]
    },
    {
     "name": "stdout",
     "output_type": "stream",
     "text": [
      "        image_repo=IMAGE_REPO (str, None)\n"
     ]
    },
    {
     "name": "stdout",
     "output_type": "stream",
     "text": [
      "            The image repository to use when pushing patched images, must have push access. Ex: example.com/your/container\n"
     ]
    },
    {
     "name": "stdout",
     "output_type": "stream",
     "text": [
      "        service_account=SERVICE_ACCOUNT (str, None)\n"
     ]
    },
    {
     "name": "stdout",
     "output_type": "stream",
     "text": [
      "            The service account name to set on the pod specs\n"
     ]
    },
    {
     "name": "stdout",
     "output_type": "stream",
     "text": [
      "        priority=PRIORITY (int, None)\n"
     ]
    },
    {
     "name": "stdout",
     "output_type": "stream",
     "text": [
      "            The priority level to set on the job specs. Higher integer value means higher priority\n"
     ]
    },
    {
     "name": "stdout",
     "output_type": "stream",
     "text": [
      "        image_secret=IMAGE_SECRET (str, None)\n"
     ]
    },
    {
     "name": "stdout",
     "output_type": "stream",
     "text": [
      "            The name of the Kubernetes/OpenShift secret set up for private images\n"
     ]
    },
    {
     "name": "stdout",
     "output_type": "stream",
     "text": [
      "        coscheduler_name=COSCHEDULER_NAME (str, None)\n"
     ]
    },
    {
     "name": "stdout",
     "output_type": "stream",
     "text": [
      "            Option to run TorchX-MCAD with a co-scheduler. User must provide the co-scheduler name.\n"
     ]
    },
    {
     "name": "stdout",
     "output_type": "stream",
     "text": [
      "\n"
     ]
    },
    {
     "name": "stdout",
     "output_type": "stream",
     "text": [
      "aws_batch:\n"
     ]
    },
    {
     "name": "stdout",
     "output_type": "stream",
     "text": [
      "    usage:\n"
     ]
    },
    {
     "name": "stdout",
     "output_type": "stream",
     "text": [
      "        queue=QUEUE,[user=USER],[share_id=SHARE_ID],[priority=PRIORITY],[image_repo=IMAGE_REPO]\n"
     ]
    },
    {
     "name": "stdout",
     "output_type": "stream",
     "text": [
      "\n"
     ]
    },
    {
     "name": "stdout",
     "output_type": "stream",
     "text": [
      "    required arguments:\n"
     ]
    },
    {
     "name": "stdout",
     "output_type": "stream",
     "text": [
      "        queue=QUEUE (str)\n"
     ]
    },
    {
     "name": "stdout",
     "output_type": "stream",
     "text": [
      "            queue to schedule job in\n"
     ]
    },
    {
     "name": "stdout",
     "output_type": "stream",
     "text": [
      "\n"
     ]
    },
    {
     "name": "stdout",
     "output_type": "stream",
     "text": [
      "    optional arguments:\n"
     ]
    },
    {
     "name": "stdout",
     "output_type": "stream",
     "text": [
      "        user=USER (str, runner)\n"
     ]
    },
    {
     "name": "stdout",
     "output_type": "stream",
     "text": [
      "            The username to tag the job with. `getpass.getuser()` if not specified.\n"
     ]
    },
    {
     "name": "stdout",
     "output_type": "stream",
     "text": [
      "        share_id=SHARE_ID (str, None)\n"
     ]
    },
    {
     "name": "stdout",
     "output_type": "stream",
     "text": [
      "            The share identifier for the job. This must be set if and only if the job queue has a scheduling policy.\n"
     ]
    },
    {
     "name": "stdout",
     "output_type": "stream",
     "text": [
      "        priority=PRIORITY (int, 0)\n"
     ]
    },
    {
     "name": "stdout",
     "output_type": "stream",
     "text": [
      "            The scheduling priority for the job within the context of share_id. Higher number (between 0 and 9999) means higher priority. This will only take effect if the job queue has a scheduling policy.\n"
     ]
    },
    {
     "name": "stdout",
     "output_type": "stream",
     "text": [
      "        image_repo=IMAGE_REPO (str, None)\n"
     ]
    },
    {
     "name": "stdout",
     "output_type": "stream",
     "text": [
      "            (remote jobs) the image repository to use when pushing patched images, must have push access. Ex: example.com/your/container\n"
     ]
    },
    {
     "name": "stdout",
     "output_type": "stream",
     "text": [
      "\n"
     ]
    },
    {
     "name": "stdout",
     "output_type": "stream",
     "text": [
      "gcp_batch:\n"
     ]
    },
    {
     "name": "stdout",
     "output_type": "stream",
     "text": [
      "    usage:\n"
     ]
    },
    {
     "name": "stdout",
     "output_type": "stream",
     "text": [
      "        [project=PROJECT],[location=LOCATION]\n"
     ]
    },
    {
     "name": "stdout",
     "output_type": "stream",
     "text": [
      "\n"
     ]
    },
    {
     "name": "stdout",
     "output_type": "stream",
     "text": [
      "    optional arguments:\n"
     ]
    },
    {
     "name": "stdout",
     "output_type": "stream",
     "text": [
      "        project=PROJECT (str, None)\n"
     ]
    },
    {
     "name": "stdout",
     "output_type": "stream",
     "text": [
      "            Name of the GCP project. Defaults to the configured GCP project in the environment\n"
     ]
    },
    {
     "name": "stdout",
     "output_type": "stream",
     "text": [
      "        location=LOCATION (str, us-central1)\n"
     ]
    },
    {
     "name": "stdout",
     "output_type": "stream",
     "text": [
      "            Name of the location to schedule the job in. Defaults to us-central1\n"
     ]
    },
    {
     "name": "stdout",
     "output_type": "stream",
     "text": [
      "\n"
     ]
    },
    {
     "name": "stdout",
     "output_type": "stream",
     "text": [
      "ray:\n"
     ]
    },
    {
     "name": "stdout",
     "output_type": "stream",
     "text": [
      "    usage:\n"
     ]
    },
    {
     "name": "stdout",
     "output_type": "stream",
     "text": [
      "        [cluster_config_file=CLUSTER_CONFIG_FILE],[cluster_name=CLUSTER_NAME],[dashboard_address=DASHBOARD_ADDRESS],[requirements=REQUIREMENTS]\n"
     ]
    },
    {
     "name": "stdout",
     "output_type": "stream",
     "text": [
      "\n"
     ]
    },
    {
     "name": "stdout",
     "output_type": "stream",
     "text": [
      "    optional arguments:\n"
     ]
    },
    {
     "name": "stdout",
     "output_type": "stream",
     "text": [
      "        cluster_config_file=CLUSTER_CONFIG_FILE (str, None)\n"
     ]
    },
    {
     "name": "stdout",
     "output_type": "stream",
     "text": [
      "            Use CLUSTER_CONFIG_FILE to access or create the Ray cluster.\n"
     ]
    },
    {
     "name": "stdout",
     "output_type": "stream",
     "text": [
      "        cluster_name=CLUSTER_NAME (str, None)\n"
     ]
    },
    {
     "name": "stdout",
     "output_type": "stream",
     "text": [
      "            Override the configured cluster name.\n"
     ]
    },
    {
     "name": "stdout",
     "output_type": "stream",
     "text": [
      "        dashboard_address=DASHBOARD_ADDRESS (str, 127.0.0.1:8265)\n"
     ]
    },
    {
     "name": "stdout",
     "output_type": "stream",
     "text": [
      "            Use ray status to get the dashboard address you will submit jobs against\n"
     ]
    },
    {
     "name": "stdout",
     "output_type": "stream",
     "text": [
      "        requirements=REQUIREMENTS (str, None)\n"
     ]
    },
    {
     "name": "stdout",
     "output_type": "stream",
     "text": [
      "            Path to requirements.txt\n"
     ]
    },
    {
     "name": "stdout",
     "output_type": "stream",
     "text": [
      "\n"
     ]
    },
    {
     "name": "stdout",
     "output_type": "stream",
     "text": [
      "lsf:\n"
     ]
    },
    {
     "name": "stdout",
     "output_type": "stream",
     "text": [
      "    usage:\n"
     ]
    },
    {
     "name": "stdout",
     "output_type": "stream",
     "text": [
      "        [lsf_queue=LSF_QUEUE],[jobdir=JOBDIR],[container_workdir=CONTAINER_WORKDIR],[host_network=HOST_NETWORK],[shm_size=SHM_SIZE]\n"
     ]
    },
    {
     "name": "stdout",
     "output_type": "stream",
     "text": [
      "\n"
     ]
    },
    {
     "name": "stdout",
     "output_type": "stream",
     "text": [
      "    optional arguments:\n"
     ]
    },
    {
     "name": "stdout",
     "output_type": "stream",
     "text": [
      "        lsf_queue=LSF_QUEUE (str, None)\n"
     ]
    },
    {
     "name": "stdout",
     "output_type": "stream",
     "text": [
      "            queue name to submit jobs\n"
     ]
    },
    {
     "name": "stdout",
     "output_type": "stream",
     "text": [
      "        jobdir=JOBDIR (str, None)\n"
     ]
    },
    {
     "name": "stdout",
     "output_type": "stream",
     "text": [
      "            The directory to place the job code and outputs. The directory must not exist and will be created.\n"
     ]
    },
    {
     "name": "stdout",
     "output_type": "stream",
     "text": [
      "        container_workdir=CONTAINER_WORKDIR (str, None)\n"
     ]
    },
    {
     "name": "stdout",
     "output_type": "stream",
     "text": [
      "            working directory in container jobs\n"
     ]
    },
    {
     "name": "stdout",
     "output_type": "stream",
     "text": [
      "        host_network=HOST_NETWORK (bool, False)\n"
     ]
    },
    {
     "name": "stdout",
     "output_type": "stream",
     "text": [
      "            True if using the host network for jobs\n"
     ]
    },
    {
     "name": "stdout",
     "output_type": "stream",
     "text": [
      "        shm_size=SHM_SIZE (str, 64m)\n"
     ]
    },
    {
     "name": "stdout",
     "output_type": "stream",
     "text": [
      "            size of shared memory (/dev/shm) for jobs\n"
     ]
    },
    {
     "name": "stdout",
     "output_type": "stream",
     "text": [
      "\n"
     ]
    }
   ],
   "source": [
    "%%sh\n",
    "torchx runopts"
   ]
  },
  {
   "cell_type": "markdown",
   "id": "ffe2d9c3",
   "metadata": {},
   "source": [
    "## Custom Images\n",
    "\n",
    "### Docker-based Schedulers\n",
    "\n",
    "If you want more than the standard PyTorch libraries you can add custom\n",
    "Dockerfile or build your own docker container and use it as the base image for\n",
    "your TorchX jobs.\n"
   ]
  },
  {
   "cell_type": "code",
   "execution_count": 11,
   "id": "4cce0ff8",
   "metadata": {
    "execution": {
     "iopub.execute_input": "2023-03-14T06:19:25.875999Z",
     "iopub.status.busy": "2023-03-14T06:19:25.875356Z",
     "iopub.status.idle": "2023-03-14T06:19:25.881431Z",
     "shell.execute_reply": "2023-03-14T06:19:25.880636Z"
    }
   },
   "outputs": [
    {
     "name": "stdout",
     "output_type": "stream",
     "text": [
      "Writing timm_app.py\n"
     ]
    }
   ],
   "source": [
    "%%writefile timm_app.py\n",
    "\n",
    "import timm\n",
    "\n",
    "print(timm.models.resnet18())"
   ]
  },
  {
   "cell_type": "code",
   "execution_count": 12,
   "id": "eff3a70e",
   "metadata": {
    "execution": {
     "iopub.execute_input": "2023-03-14T06:19:25.884548Z",
     "iopub.status.busy": "2023-03-14T06:19:25.883900Z",
     "iopub.status.idle": "2023-03-14T06:19:25.889242Z",
     "shell.execute_reply": "2023-03-14T06:19:25.888563Z"
    }
   },
   "outputs": [
    {
     "name": "stdout",
     "output_type": "stream",
     "text": [
      "Writing Dockerfile.torchx\n"
     ]
    }
   ],
   "source": [
    "%%writefile Dockerfile.torchx\n",
    "\n",
    "FROM pytorch/pytorch:1.10.0-cuda11.3-cudnn8-runtime\n",
    "\n",
    "RUN pip install timm\n",
    "\n",
    "COPY . ."
   ]
  },
  {
   "cell_type": "markdown",
   "id": "eaabcc16",
   "metadata": {},
   "source": [
    "Once we have the Dockerfile created we can launch as normal and TorchX will\n",
    "automatically build the image with the newly provided Dockerfile instead of the\n",
    "default one."
   ]
  },
  {
   "cell_type": "code",
   "execution_count": 13,
   "id": "4dfb9008",
   "metadata": {
    "execution": {
     "iopub.execute_input": "2023-03-14T06:19:25.892503Z",
     "iopub.status.busy": "2023-03-14T06:19:25.892054Z",
     "iopub.status.idle": "2023-03-14T06:20:46.897366Z",
     "shell.execute_reply": "2023-03-14T06:20:46.896455Z"
    }
   },
   "outputs": [
    {
     "name": "stderr",
     "output_type": "stream",
     "text": [
      "torchx 2023-03-14 06:19:26 INFO     loaded configs from /home/runner/work/torchx/torchx/docs/source/.torchxconfig\n"
     ]
    },
    {
     "name": "stderr",
     "output_type": "stream",
     "text": [
      "torchx 2023-03-14 06:19:26 INFO     Checking for changes in workspace `file:///home/runner/work/torchx/torchx/docs/source`...\n"
     ]
    },
    {
     "name": "stderr",
     "output_type": "stream",
     "text": [
      "torchx 2023-03-14 06:19:26 INFO     To disable workspaces pass: --workspace=\"\" from CLI or workspace=None programmatically.\n"
     ]
    },
    {
     "name": "stderr",
     "output_type": "stream",
     "text": [
      "torchx 2023-03-14 06:19:26 INFO     Workspace `file:///home/runner/work/torchx/torchx/docs/source` resolved to filesystem path `/home/runner/work/torchx/torchx/docs/source`\n"
     ]
    },
    {
     "name": "stderr",
     "output_type": "stream",
     "text": [
      "torchx 2023-03-14 06:19:26 INFO     Building workspace docker image (this may take a while)...\n"
     ]
    },
    {
     "name": "stderr",
     "output_type": "stream",
     "text": [
      "torchx 2023-03-14 06:20:44 INFO     Built new image `sha256:f4352c6c1ac6d14b2e52db2aee77ad0279cca593f6decd9e64f366e7ea1cb4c1` based on original image `ghcr.io/pytorch/torchx:0.5.0dev0` and changes in workspace `file:///home/runner/work/torchx/torchx/docs/source` for role[0]=python.\n"
     ]
    },
    {
     "name": "stderr",
     "output_type": "stream",
     "text": [
      "torchx 2023-03-14 06:20:44 INFO     Waiting for the app to finish...\n"
     ]
    },
    {
     "name": "stderr",
     "output_type": "stream",
     "text": [
      "python/0 ResNet(\n"
     ]
    },
    {
     "name": "stderr",
     "output_type": "stream",
     "text": [
      "python/0   (conv1): Conv2d(3, 64, kernel_size=(7, 7), stride=(2, 2), padding=(3, 3), bias=False)\n"
     ]
    },
    {
     "name": "stderr",
     "output_type": "stream",
     "text": [
      "python/0   (bn1): BatchNorm2d(64, eps=1e-05, momentum=0.1, affine=True, track_running_stats=True)\n"
     ]
    },
    {
     "name": "stderr",
     "output_type": "stream",
     "text": [
      "python/0   (act1): ReLU(inplace=True)\n"
     ]
    },
    {
     "name": "stderr",
     "output_type": "stream",
     "text": [
      "python/0   (maxpool): MaxPool2d(kernel_size=3, stride=2, padding=1, dilation=1, ceil_mode=False)\n"
     ]
    },
    {
     "name": "stderr",
     "output_type": "stream",
     "text": [
      "python/0   (layer1): Sequential(\n"
     ]
    },
    {
     "name": "stderr",
     "output_type": "stream",
     "text": [
      "python/0     (0): BasicBlock(\n"
     ]
    },
    {
     "name": "stderr",
     "output_type": "stream",
     "text": [
      "python/0       (conv1): Conv2d(64, 64, kernel_size=(3, 3), stride=(1, 1), padding=(1, 1), bias=False)\n"
     ]
    },
    {
     "name": "stderr",
     "output_type": "stream",
     "text": [
      "python/0       (bn1): BatchNorm2d(64, eps=1e-05, momentum=0.1, affine=True, track_running_stats=True)\n"
     ]
    },
    {
     "name": "stderr",
     "output_type": "stream",
     "text": [
      "python/0       (drop_block): Identity()\n"
     ]
    },
    {
     "name": "stderr",
     "output_type": "stream",
     "text": [
      "python/0       (act1): ReLU(inplace=True)\n"
     ]
    },
    {
     "name": "stderr",
     "output_type": "stream",
     "text": [
      "python/0       (aa): Identity()\n"
     ]
    },
    {
     "name": "stderr",
     "output_type": "stream",
     "text": [
      "python/0       (conv2): Conv2d(64, 64, kernel_size=(3, 3), stride=(1, 1), padding=(1, 1), bias=False)\n"
     ]
    },
    {
     "name": "stderr",
     "output_type": "stream",
     "text": [
      "python/0       (bn2): BatchNorm2d(64, eps=1e-05, momentum=0.1, affine=True, track_running_stats=True)\n"
     ]
    },
    {
     "name": "stderr",
     "output_type": "stream",
     "text": [
      "python/0       (act2): ReLU(inplace=True)\n"
     ]
    },
    {
     "name": "stderr",
     "output_type": "stream",
     "text": [
      "python/0     )\n"
     ]
    },
    {
     "name": "stderr",
     "output_type": "stream",
     "text": [
      "python/0     (1): BasicBlock(\n"
     ]
    },
    {
     "name": "stderr",
     "output_type": "stream",
     "text": [
      "python/0       (conv1): Conv2d(64, 64, kernel_size=(3, 3), stride=(1, 1), padding=(1, 1), bias=False)\n"
     ]
    },
    {
     "name": "stderr",
     "output_type": "stream",
     "text": [
      "python/0       (bn1): BatchNorm2d(64, eps=1e-05, momentum=0.1, affine=True, track_running_stats=True)\n"
     ]
    },
    {
     "name": "stderr",
     "output_type": "stream",
     "text": [
      "python/0       (drop_block): Identity()\n"
     ]
    },
    {
     "name": "stderr",
     "output_type": "stream",
     "text": [
      "python/0       (act1): ReLU(inplace=True)\n"
     ]
    },
    {
     "name": "stderr",
     "output_type": "stream",
     "text": [
      "python/0       (aa): Identity()\n"
     ]
    },
    {
     "name": "stderr",
     "output_type": "stream",
     "text": [
      "python/0       (conv2): Conv2d(64, 64, kernel_size=(3, 3), stride=(1, 1), padding=(1, 1), bias=False)\n"
     ]
    },
    {
     "name": "stderr",
     "output_type": "stream",
     "text": [
      "python/0       (bn2): BatchNorm2d(64, eps=1e-05, momentum=0.1, affine=True, track_running_stats=True)\n"
     ]
    },
    {
     "name": "stderr",
     "output_type": "stream",
     "text": [
      "python/0       (act2): ReLU(inplace=True)\n"
     ]
    },
    {
     "name": "stderr",
     "output_type": "stream",
     "text": [
      "python/0     )\n"
     ]
    },
    {
     "name": "stderr",
     "output_type": "stream",
     "text": [
      "python/0   )\n"
     ]
    },
    {
     "name": "stderr",
     "output_type": "stream",
     "text": [
      "python/0   (layer2): Sequential(\n"
     ]
    },
    {
     "name": "stderr",
     "output_type": "stream",
     "text": [
      "python/0     (0): BasicBlock(\n"
     ]
    },
    {
     "name": "stderr",
     "output_type": "stream",
     "text": [
      "python/0       (conv1): Conv2d(64, 128, kernel_size=(3, 3), stride=(2, 2), padding=(1, 1), bias=False)\n"
     ]
    },
    {
     "name": "stderr",
     "output_type": "stream",
     "text": [
      "python/0       (bn1): BatchNorm2d(128, eps=1e-05, momentum=0.1, affine=True, track_running_stats=True)\n"
     ]
    },
    {
     "name": "stderr",
     "output_type": "stream",
     "text": [
      "python/0       (drop_block): Identity()\n"
     ]
    },
    {
     "name": "stderr",
     "output_type": "stream",
     "text": [
      "python/0       (act1): ReLU(inplace=True)\n"
     ]
    },
    {
     "name": "stderr",
     "output_type": "stream",
     "text": [
      "python/0       (aa): Identity()\n"
     ]
    },
    {
     "name": "stderr",
     "output_type": "stream",
     "text": [
      "python/0       (conv2): Conv2d(128, 128, kernel_size=(3, 3), stride=(1, 1), padding=(1, 1), bias=False)\n"
     ]
    },
    {
     "name": "stderr",
     "output_type": "stream",
     "text": [
      "python/0       (bn2): BatchNorm2d(128, eps=1e-05, momentum=0.1, affine=True, track_running_stats=True)\n"
     ]
    },
    {
     "name": "stderr",
     "output_type": "stream",
     "text": [
      "python/0       (act2): ReLU(inplace=True)\n"
     ]
    },
    {
     "name": "stderr",
     "output_type": "stream",
     "text": [
      "python/0       (downsample): Sequential(\n"
     ]
    },
    {
     "name": "stderr",
     "output_type": "stream",
     "text": [
      "python/0         (0): Conv2d(64, 128, kernel_size=(1, 1), stride=(2, 2), bias=False)\n"
     ]
    },
    {
     "name": "stderr",
     "output_type": "stream",
     "text": [
      "python/0         (1): BatchNorm2d(128, eps=1e-05, momentum=0.1, affine=True, track_running_stats=True)\n"
     ]
    },
    {
     "name": "stderr",
     "output_type": "stream",
     "text": [
      "python/0       )\n"
     ]
    },
    {
     "name": "stderr",
     "output_type": "stream",
     "text": [
      "python/0     )\n"
     ]
    },
    {
     "name": "stderr",
     "output_type": "stream",
     "text": [
      "python/0     (1): BasicBlock(\n"
     ]
    },
    {
     "name": "stderr",
     "output_type": "stream",
     "text": [
      "python/0       (conv1): Conv2d(128, 128, kernel_size=(3, 3), stride=(1, 1), padding=(1, 1), bias=False)\n"
     ]
    },
    {
     "name": "stderr",
     "output_type": "stream",
     "text": [
      "python/0       (bn1): BatchNorm2d(128, eps=1e-05, momentum=0.1, affine=True, track_running_stats=True)\n"
     ]
    },
    {
     "name": "stderr",
     "output_type": "stream",
     "text": [
      "python/0       (drop_block): Identity()\n"
     ]
    },
    {
     "name": "stderr",
     "output_type": "stream",
     "text": [
      "python/0       (act1): ReLU(inplace=True)\n"
     ]
    },
    {
     "name": "stderr",
     "output_type": "stream",
     "text": [
      "python/0       (aa): Identity()\n"
     ]
    },
    {
     "name": "stderr",
     "output_type": "stream",
     "text": [
      "python/0       (conv2): Conv2d(128, 128, kernel_size=(3, 3), stride=(1, 1), padding=(1, 1), bias=False)\n"
     ]
    },
    {
     "name": "stderr",
     "output_type": "stream",
     "text": [
      "python/0       (bn2): BatchNorm2d(128, eps=1e-05, momentum=0.1, affine=True, track_running_stats=True)\n"
     ]
    },
    {
     "name": "stderr",
     "output_type": "stream",
     "text": [
      "python/0       (act2): ReLU(inplace=True)\n"
     ]
    },
    {
     "name": "stderr",
     "output_type": "stream",
     "text": [
      "python/0     )\n"
     ]
    },
    {
     "name": "stderr",
     "output_type": "stream",
     "text": [
      "python/0   )\n"
     ]
    },
    {
     "name": "stderr",
     "output_type": "stream",
     "text": [
      "python/0   (layer3): Sequential(\n"
     ]
    },
    {
     "name": "stderr",
     "output_type": "stream",
     "text": [
      "python/0     (0): BasicBlock(\n"
     ]
    },
    {
     "name": "stderr",
     "output_type": "stream",
     "text": [
      "python/0       (conv1): Conv2d(128, 256, kernel_size=(3, 3), stride=(2, 2), padding=(1, 1), bias=False)\n"
     ]
    },
    {
     "name": "stderr",
     "output_type": "stream",
     "text": [
      "python/0       (bn1): BatchNorm2d(256, eps=1e-05, momentum=0.1, affine=True, track_running_stats=True)\n"
     ]
    },
    {
     "name": "stderr",
     "output_type": "stream",
     "text": [
      "python/0       (drop_block): Identity()\n"
     ]
    },
    {
     "name": "stderr",
     "output_type": "stream",
     "text": [
      "python/0       (act1): ReLU(inplace=True)\n"
     ]
    },
    {
     "name": "stderr",
     "output_type": "stream",
     "text": [
      "python/0       (aa): Identity()\n"
     ]
    },
    {
     "name": "stderr",
     "output_type": "stream",
     "text": [
      "python/0       (conv2): Conv2d(256, 256, kernel_size=(3, 3), stride=(1, 1), padding=(1, 1), bias=False)\n"
     ]
    },
    {
     "name": "stderr",
     "output_type": "stream",
     "text": [
      "python/0       (bn2): BatchNorm2d(256, eps=1e-05, momentum=0.1, affine=True, track_running_stats=True)\n"
     ]
    },
    {
     "name": "stderr",
     "output_type": "stream",
     "text": [
      "python/0       (act2): ReLU(inplace=True)\n"
     ]
    },
    {
     "name": "stderr",
     "output_type": "stream",
     "text": [
      "python/0       (downsample): Sequential(\n"
     ]
    },
    {
     "name": "stderr",
     "output_type": "stream",
     "text": [
      "python/0         (0): Conv2d(128, 256, kernel_size=(1, 1), stride=(2, 2), bias=False)\n"
     ]
    },
    {
     "name": "stderr",
     "output_type": "stream",
     "text": [
      "python/0         (1): BatchNorm2d(256, eps=1e-05, momentum=0.1, affine=True, track_running_stats=True)\n"
     ]
    },
    {
     "name": "stderr",
     "output_type": "stream",
     "text": [
      "python/0       )\n"
     ]
    },
    {
     "name": "stderr",
     "output_type": "stream",
     "text": [
      "python/0     )\n"
     ]
    },
    {
     "name": "stderr",
     "output_type": "stream",
     "text": [
      "python/0     (1): BasicBlock(\n"
     ]
    },
    {
     "name": "stderr",
     "output_type": "stream",
     "text": [
      "python/0       (conv1): Conv2d(256, 256, kernel_size=(3, 3), stride=(1, 1), padding=(1, 1), bias=False)\n"
     ]
    },
    {
     "name": "stderr",
     "output_type": "stream",
     "text": [
      "python/0       (bn1): BatchNorm2d(256, eps=1e-05, momentum=0.1, affine=True, track_running_stats=True)\n"
     ]
    },
    {
     "name": "stderr",
     "output_type": "stream",
     "text": [
      "python/0       (drop_block): Identity()\n"
     ]
    },
    {
     "name": "stderr",
     "output_type": "stream",
     "text": [
      "python/0       (act1): ReLU(inplace=True)\n"
     ]
    },
    {
     "name": "stderr",
     "output_type": "stream",
     "text": [
      "python/0       (aa): Identity()\n"
     ]
    },
    {
     "name": "stderr",
     "output_type": "stream",
     "text": [
      "python/0       (conv2): Conv2d(256, 256, kernel_size=(3, 3), stride=(1, 1), padding=(1, 1), bias=False)\n"
     ]
    },
    {
     "name": "stderr",
     "output_type": "stream",
     "text": [
      "python/0       (bn2): BatchNorm2d(256, eps=1e-05, momentum=0.1, affine=True, track_running_stats=True)\n"
     ]
    },
    {
     "name": "stderr",
     "output_type": "stream",
     "text": [
      "python/0       (act2): ReLU(inplace=True)\n"
     ]
    },
    {
     "name": "stderr",
     "output_type": "stream",
     "text": [
      "python/0     )\n"
     ]
    },
    {
     "name": "stderr",
     "output_type": "stream",
     "text": [
      "python/0   )\n"
     ]
    },
    {
     "name": "stderr",
     "output_type": "stream",
     "text": [
      "python/0   (layer4): Sequential(\n"
     ]
    },
    {
     "name": "stderr",
     "output_type": "stream",
     "text": [
      "python/0     (0): BasicBlock(\n"
     ]
    },
    {
     "name": "stderr",
     "output_type": "stream",
     "text": [
      "python/0       (conv1): Conv2d(256, 512, kernel_size=(3, 3), stride=(2, 2), padding=(1, 1), bias=False)\n"
     ]
    },
    {
     "name": "stderr",
     "output_type": "stream",
     "text": [
      "python/0       (bn1): BatchNorm2d(512, eps=1e-05, momentum=0.1, affine=True, track_running_stats=True)\n"
     ]
    },
    {
     "name": "stderr",
     "output_type": "stream",
     "text": [
      "python/0       (drop_block): Identity()\n"
     ]
    },
    {
     "name": "stderr",
     "output_type": "stream",
     "text": [
      "python/0       (act1): ReLU(inplace=True)\n"
     ]
    },
    {
     "name": "stderr",
     "output_type": "stream",
     "text": [
      "python/0       (aa): Identity()\n"
     ]
    },
    {
     "name": "stderr",
     "output_type": "stream",
     "text": [
      "python/0       (conv2): Conv2d(512, 512, kernel_size=(3, 3), stride=(1, 1), padding=(1, 1), bias=False)\n"
     ]
    },
    {
     "name": "stderr",
     "output_type": "stream",
     "text": [
      "python/0       (bn2): BatchNorm2d(512, eps=1e-05, momentum=0.1, affine=True, track_running_stats=True)\n"
     ]
    },
    {
     "name": "stderr",
     "output_type": "stream",
     "text": [
      "python/0       (act2): ReLU(inplace=True)\n"
     ]
    },
    {
     "name": "stderr",
     "output_type": "stream",
     "text": [
      "python/0       (downsample): Sequential(\n"
     ]
    },
    {
     "name": "stderr",
     "output_type": "stream",
     "text": [
      "python/0         (0): Conv2d(256, 512, kernel_size=(1, 1), stride=(2, 2), bias=False)\n"
     ]
    },
    {
     "name": "stderr",
     "output_type": "stream",
     "text": [
      "python/0         (1): BatchNorm2d(512, eps=1e-05, momentum=0.1, affine=True, track_running_stats=True)\n"
     ]
    },
    {
     "name": "stderr",
     "output_type": "stream",
     "text": [
      "python/0       )\n"
     ]
    },
    {
     "name": "stderr",
     "output_type": "stream",
     "text": [
      "python/0     )\n"
     ]
    },
    {
     "name": "stderr",
     "output_type": "stream",
     "text": [
      "python/0     (1): BasicBlock(\n"
     ]
    },
    {
     "name": "stderr",
     "output_type": "stream",
     "text": [
      "python/0       (conv1): Conv2d(512, 512, kernel_size=(3, 3), stride=(1, 1), padding=(1, 1), bias=False)\n"
     ]
    },
    {
     "name": "stderr",
     "output_type": "stream",
     "text": [
      "python/0       (bn1): BatchNorm2d(512, eps=1e-05, momentum=0.1, affine=True, track_running_stats=True)\n"
     ]
    },
    {
     "name": "stderr",
     "output_type": "stream",
     "text": [
      "python/0       (drop_block): Identity()\n"
     ]
    },
    {
     "name": "stderr",
     "output_type": "stream",
     "text": [
      "python/0       (act1): ReLU(inplace=True)\n"
     ]
    },
    {
     "name": "stderr",
     "output_type": "stream",
     "text": [
      "python/0       (aa): Identity()\n"
     ]
    },
    {
     "name": "stderr",
     "output_type": "stream",
     "text": [
      "python/0       (conv2): Conv2d(512, 512, kernel_size=(3, 3), stride=(1, 1), padding=(1, 1), bias=False)\n"
     ]
    },
    {
     "name": "stderr",
     "output_type": "stream",
     "text": [
      "python/0       (bn2): BatchNorm2d(512, eps=1e-05, momentum=0.1, affine=True, track_running_stats=True)\n"
     ]
    },
    {
     "name": "stderr",
     "output_type": "stream",
     "text": [
      "python/0       (act2): ReLU(inplace=True)\n"
     ]
    },
    {
     "name": "stderr",
     "output_type": "stream",
     "text": [
      "python/0     )\n"
     ]
    },
    {
     "name": "stderr",
     "output_type": "stream",
     "text": [
      "python/0   )\n"
     ]
    },
    {
     "name": "stderr",
     "output_type": "stream",
     "text": [
      "python/0   (global_pool): SelectAdaptivePool2d (pool_type=avg, flatten=Flatten(start_dim=1, end_dim=-1))\n"
     ]
    },
    {
     "name": "stderr",
     "output_type": "stream",
     "text": [
      "python/0   (fc): Linear(in_features=512, out_features=1000, bias=True)\n"
     ]
    },
    {
     "name": "stderr",
     "output_type": "stream",
     "text": [
      "python/0 )\n"
     ]
    },
    {
     "name": "stderr",
     "output_type": "stream",
     "text": [
      "torchx 2023-03-14 06:20:46 INFO     Job finished: SUCCEEDED\n"
     ]
    },
    {
     "name": "stdout",
     "output_type": "stream",
     "text": [
      "local_docker://torchx/torchx_utils_python-j0rjz59v6p5kw\n"
     ]
    }
   ],
   "source": [
    "%%sh\n",
    "torchx run --scheduler local_docker utils.python --script timm_app.py"
   ]
  },
  {
   "cell_type": "markdown",
   "id": "bbb32480",
   "metadata": {},
   "source": [
    "### Slurm\n",
    "\n",
    "The `slurm` and `local_cwd` use the current environment so you can use `pip` and\n",
    "`conda` as normal."
   ]
  },
  {
   "cell_type": "markdown",
   "id": "c0c6f82e",
   "metadata": {},
   "source": [
    "## Next Steps\n",
    "\n",
    "1. Checkout other features of the [torchx CLI](cli.rst)\n",
    "2. Take a look at the [list of schedulers](schedulers.rst) supported by the runner\n",
    "3. Browse through the collection of [builtin components](components/overview.rst)\n",
    "4. See which [ML pipeline platforms](pipelines.rst) you can run components on\n",
    "5. See a [training app example](examples_apps/index.rst)"
   ]
  }
 ],
 "metadata": {
  "jupytext": {
   "text_representation": {
    "extension": ".md",
    "format_name": "markdown",
    "format_version": "1.1",
    "jupytext_version": "1.1.0"
   }
  },
  "kernelspec": {
   "display_name": "Python 3",
   "language": "python",
   "name": "python3"
  },
  "language_info": {
   "codemirror_mode": {
    "name": "ipython",
    "version": 3
   },
   "file_extension": ".py",
   "mimetype": "text/x-python",
   "name": "python",
   "nbconvert_exporter": "python",
   "pygments_lexer": "ipython3",
   "version": "3.8.16"
  }
 },
 "nbformat": 4,
 "nbformat_minor": 5
}
