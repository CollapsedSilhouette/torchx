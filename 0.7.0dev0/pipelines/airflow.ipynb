{
 "cells": [
  {
   "cell_type": "markdown",
   "id": "59930fcf",
   "metadata": {},
   "source": [
    "# Airflow\n",
    "\n",
    "For pipelines that support Python based execution you can directly use the\n",
    "TorchX API. TorchX is designed to be easily integrated in to other applications\n",
    "via the programmatic API. No special Airflow integrations are needed.\n",
    "\n",
    "With TorchX, you can use Airflow for the pipeline orchestration and run your\n",
    "PyTorch application (i.e. distributed training) on a remote GPU cluster."
   ]
  },
  {
   "cell_type": "code",
   "execution_count": 1,
   "id": "9ab01eda",
   "metadata": {
    "execution": {
     "iopub.execute_input": "2024-04-11T21:41:04.904528Z",
     "iopub.status.busy": "2024-04-11T21:41:04.904327Z",
     "iopub.status.idle": "2024-04-11T21:41:05.528415Z",
     "shell.execute_reply": "2024-04-11T21:41:05.527792Z"
    }
   },
   "outputs": [],
   "source": [
    "import datetime\n",
    "import pendulum\n",
    "\n",
    "from airflow.utils.state import DagRunState, TaskInstanceState\n",
    "from airflow.utils.types import DagRunType\n",
    "from airflow.models.dag import DAG\n",
    "from airflow.decorators import task\n",
    "\n",
    "\n",
    "DATA_INTERVAL_START = pendulum.datetime(2021, 9, 13, tz=\"UTC\")\n",
    "DATA_INTERVAL_END = DATA_INTERVAL_START + datetime.timedelta(days=1)"
   ]
  },
  {
   "cell_type": "markdown",
   "id": "9d50354d",
   "metadata": {},
   "source": [
    "To launch a TorchX job from Airflow you can create a Airflow Python task to\n",
    "import the runner, launch the job and wait for it to complete. If you're running\n",
    "on a remote cluster you may need to use the virtualenv task to install the\n",
    "`torchx` package."
   ]
  },
  {
   "cell_type": "code",
   "execution_count": 2,
   "id": "37a9762f",
   "metadata": {
    "execution": {
     "iopub.execute_input": "2024-04-11T21:41:05.531381Z",
     "iopub.status.busy": "2024-04-11T21:41:05.531079Z",
     "iopub.status.idle": "2024-04-11T21:41:05.536111Z",
     "shell.execute_reply": "2024-04-11T21:41:05.535541Z"
    }
   },
   "outputs": [],
   "source": [
    "@task(task_id=f'hello_torchx')\n",
    "def run_torchx(message):\n",
    "    \"\"\"This is a function that will run within the DAG execution\"\"\"\n",
    "    from torchx.runner import get_runner\n",
    "    with get_runner() as runner:\n",
    "        # Run the utils.sh component on the local_cwd scheduler.\n",
    "        app_id = runner.run_component(\n",
    "            \"utils.sh\",\n",
    "            [\"echo\", message],\n",
    "            scheduler=\"local_cwd\",\n",
    "        )\n",
    "\n",
    "        # Wait for the the job to complete\n",
    "        status = runner.wait(app_id, wait_interval=1)\n",
    "\n",
    "        # Raise_for_status will raise an exception if the job didn't succeed\n",
    "        status.raise_for_status()\n",
    "\n",
    "        # Finally we can print all of the log lines from the TorchX job so it\n",
    "        # will show up in the workflow logs.\n",
    "        for line in runner.log_lines(app_id, \"sh\", k=0):\n",
    "            print(line, end=\"\")"
   ]
  },
  {
   "cell_type": "markdown",
   "id": "f6ec53b8",
   "metadata": {},
   "source": [
    "Once we have the task defined we can put it into a Airflow DAG and run it like\n",
    "normal."
   ]
  },
  {
   "cell_type": "code",
   "execution_count": 3,
   "id": "97a03cd8",
   "metadata": {
    "execution": {
     "iopub.execute_input": "2024-04-11T21:41:05.538976Z",
     "iopub.status.busy": "2024-04-11T21:41:05.538365Z",
     "iopub.status.idle": "2024-04-11T21:41:06.844499Z",
     "shell.execute_reply": "2024-04-11T21:41:06.843809Z"
    }
   },
   "outputs": [
    {
     "data": {
      "text/html": [
       "<pre style=\"white-space:pre;overflow-x:auto;line-height:normal;font-family:Menlo,'DejaVu Sans Mono',consolas,'Courier New',monospace\"><span style=\"color: #808000; text-decoration-color: #808000; font-weight: bold\">/tmp/ipykernel_4401/454499020.py:</span><span style=\"color: #808000; text-decoration-color: #808000; font-weight: bold\">3</span><span style=\"color: #808000; text-decoration-color: #808000; font-weight: bold\"> RemovedInAirflow3Warning</span><span style=\"color: #808000; text-decoration-color: #808000\">: Param `schedule_interval` is deprecated and will be removed in a future release. Please use `schedule` instead.</span>\n",
       "</pre>\n"
      ],
      "text/plain": [
       "\u001b[1;33m/tmp/ipykernel_4401/\u001b[0m\u001b[1;33m454499020.py\u001b[0m\u001b[1;33m:\u001b[0m\u001b[1;33m3\u001b[0m\u001b[1;33m RemovedInAirflow3Warning\u001b[0m\u001b[33m: Param `schedule_interval` is deprecated and will be removed in a future release. Please use `schedule` instead.\u001b[0m\n"
      ]
     },
     "metadata": {},
     "output_type": "display_data"
    },
    {
     "name": "stdout",
     "output_type": "stream",
     "text": [
      "[\u001b[34m2024-04-11T21:41:05.749+0000\u001b[0m] {\u001b[34mtaskinstance.py:\u001b[0m2073} INFO\u001b[0m - Dependencies all met for dep_context=non-requeueable deps ti=<TaskInstance: example_python_operator-l3sh1dxgx6h1s.hello_torchx manual__2021-09-13T00:00:00+00:00 [None]>\u001b[0m\n"
     ]
    },
    {
     "name": "stdout",
     "output_type": "stream",
     "text": [
      "[\u001b[34m2024-04-11T21:41:05.755+0000\u001b[0m] {\u001b[34mtaskinstance.py:\u001b[0m2073} INFO\u001b[0m - Dependencies all met for dep_context=requeueable deps ti=<TaskInstance: example_python_operator-l3sh1dxgx6h1s.hello_torchx manual__2021-09-13T00:00:00+00:00 [None]>\u001b[0m\n"
     ]
    },
    {
     "name": "stdout",
     "output_type": "stream",
     "text": [
      "[\u001b[34m2024-04-11T21:41:05.756+0000\u001b[0m] {\u001b[34mtaskinstance.py:\u001b[0m2303} INFO\u001b[0m - Starting attempt 1 of 1\u001b[0m\n"
     ]
    },
    {
     "name": "stdout",
     "output_type": "stream",
     "text": [
      "[\u001b[34m2024-04-11T21:41:05.757+0000\u001b[0m] {\u001b[34mtaskinstance.py:\u001b[0m2385} WARNING\u001b[0m - cannot record queued_duration for task hello_torchx because previous state change time has not been saved\u001b[0m\n"
     ]
    },
    {
     "name": "stdout",
     "output_type": "stream",
     "text": [
      "[\u001b[34m2024-04-11T21:41:05.767+0000\u001b[0m] {\u001b[34mtaskinstance.py:\u001b[0m2327} INFO\u001b[0m - Executing <Task(_PythonDecoratedOperator): hello_torchx> on 2021-09-13 00:00:00+00:00\u001b[0m\n"
     ]
    },
    {
     "name": "stdout",
     "output_type": "stream",
     "text": [
      "[\u001b[34m2024-04-11T21:41:06.031+0000\u001b[0m] {\u001b[34mtaskinstance.py:\u001b[0m2644} INFO\u001b[0m - Exporting env vars: AIRFLOW_CTX_DAG_OWNER='airflow' AIRFLOW_CTX_DAG_ID='example_python_operator-l3sh1dxgx6h1s' AIRFLOW_CTX_TASK_ID='hello_torchx' AIRFLOW_CTX_EXECUTION_DATE='2021-09-13T00:00:00+00:00' AIRFLOW_CTX_TRY_NUMBER='1' AIRFLOW_CTX_DAG_RUN_ID='manual__2021-09-13T00:00:00+00:00'\u001b[0m\n"
     ]
    },
    {
     "name": "stdout",
     "output_type": "stream",
     "text": [
      "[\u001b[34m2024-04-11T21:41:06.034+0000\u001b[0m] {\u001b[34mtaskinstance.py:\u001b[0m430} INFO\u001b[0m - ::endgroup::\u001b[0m\n"
     ]
    },
    {
     "name": "stdout",
     "output_type": "stream",
     "text": [
      "[\u001b[34m2024-04-11T21:41:06.718+0000\u001b[0m] {\u001b[34mapi.py:\u001b[0m72} INFO\u001b[0m - Tracker configurations: {}\u001b[0m\n"
     ]
    },
    {
     "name": "stdout",
     "output_type": "stream",
     "text": [
      "[\u001b[34m2024-04-11T21:41:06.722+0000\u001b[0m] {\u001b[34mlocal_scheduler.py:\u001b[0m771} INFO\u001b[0m - Log directory not set in scheduler cfg. Creating a temporary log dir that will be deleted on exit. To preserve log directory set the `log_dir` cfg option\u001b[0m\n"
     ]
    },
    {
     "name": "stdout",
     "output_type": "stream",
     "text": [
      "[\u001b[34m2024-04-11T21:41:06.722+0000\u001b[0m] {\u001b[34mlocal_scheduler.py:\u001b[0m777} INFO\u001b[0m - Log directory is: /tmp/torchx_hdc2ycos\u001b[0m\n"
     ]
    },
    {
     "name": "stdout",
     "output_type": "stream",
     "text": [
      "Hello, TorchX!\n",
      "[\u001b[34m2024-04-11T21:41:06.831+0000\u001b[0m] {\u001b[34mpython.py:\u001b[0m237} INFO\u001b[0m - Done. Returned value was: None\u001b[0m\n"
     ]
    },
    {
     "name": "stdout",
     "output_type": "stream",
     "text": [
      "[\u001b[34m2024-04-11T21:41:06.832+0000\u001b[0m] {\u001b[34mtaskinstance.py:\u001b[0m441} INFO\u001b[0m - ::group::Post task execution logs\u001b[0m\n"
     ]
    },
    {
     "name": "stdout",
     "output_type": "stream",
     "text": [
      "[\u001b[34m2024-04-11T21:41:06.836+0000\u001b[0m] {\u001b[34mtaskinstance.py:\u001b[0m1205} INFO\u001b[0m - Marking task as SUCCESS. dag_id=example_python_operator-l3sh1dxgx6h1s, task_id=hello_torchx, execution_date=20210913T000000, start_date=20240411T214105, end_date=20240411T214106\u001b[0m\n"
     ]
    }
   ],
   "source": [
    "from torchx.schedulers.ids import make_unique\n",
    "\n",
    "with DAG(\n",
    "    dag_id=make_unique('example_python_operator'),\n",
    "    schedule_interval=None,\n",
    "    start_date=DATA_INTERVAL_START,\n",
    "    catchup=False,\n",
    "    tags=['example'],\n",
    ") as dag:\n",
    "    run_job = run_torchx(\"Hello, TorchX!\")\n",
    "\n",
    "\n",
    "dagrun = dag.create_dagrun(\n",
    "    state=DagRunState.RUNNING,\n",
    "    execution_date=DATA_INTERVAL_START,\n",
    "    data_interval=(DATA_INTERVAL_START, DATA_INTERVAL_END),\n",
    "    start_date=DATA_INTERVAL_END,\n",
    "    run_type=DagRunType.MANUAL,\n",
    ")\n",
    "ti = dagrun.get_task_instance(task_id=\"hello_torchx\")\n",
    "ti.task = dag.get_task(task_id=\"hello_torchx\")\n",
    "ti.run(ignore_ti_state=True)\n",
    "assert ti.state == TaskInstanceState.SUCCESS"
   ]
  },
  {
   "cell_type": "markdown",
   "id": "acc60d67",
   "metadata": {},
   "source": [
    "If all goes well you should see `Hello, TorchX!` printed above.\n",
    "\n",
    "## Next Steps\n",
    "\n",
    "* Checkout the [runner API documentation](../runner.rst) to learn more about\n",
    "  programmatic usage of TorchX\n",
    "* Browse through the collection of [builtin components](../components/overview.rst)\n",
    "  which can be used in your Airflow pipeline"
   ]
  }
 ],
 "metadata": {
  "jupytext": {
   "text_representation": {
    "extension": ".md",
    "format_name": "markdown",
    "format_version": "1.3",
    "jupytext_version": "1.13.7"
   }
  },
  "kernelspec": {
   "display_name": "Python 3",
   "language": "python",
   "name": "python3"
  },
  "language_info": {
   "codemirror_mode": {
    "name": "ipython",
    "version": 3
   },
   "file_extension": ".py",
   "mimetype": "text/x-python",
   "name": "python",
   "nbconvert_exporter": "python",
   "pygments_lexer": "ipython3",
   "version": "3.8.18"
  }
 },
 "nbformat": 4,
 "nbformat_minor": 5
}
