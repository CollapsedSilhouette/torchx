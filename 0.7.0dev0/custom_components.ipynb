{
 "cells": [
  {
   "cell_type": "markdown",
   "id": "6ff59bab",
   "metadata": {},
   "source": [
    "# Custom Components\n",
    "\n",
    "This is a guide on how to build a simple app and custom component spec\n",
    "and launch it via two different schedulers.\n",
    "\n",
    "See the [Quickstart Guide](quickstart.md) for installation and basic usage.\n",
    "\n",
    "## Hello World\n",
    "\n",
    "Lets start off with writing a simple \"Hello World\" python app. This is just a\n",
    "normal python program and can contain anything you'd like.\n",
    "\n",
    "<div class=\"admonition note\">\n",
    "<div class=\"admonition-title\">Note</div>\n",
    "This example uses Jupyter Notebook `%%writefile` to create local files for\n",
    "example purposes. Under normal usage you would have these as standalone files.\n",
    "</div>"
   ]
  },
  {
   "cell_type": "code",
   "execution_count": 1,
   "id": "a5452a40",
   "metadata": {
    "execution": {
     "iopub.execute_input": "2024-03-27T17:20:42.477401Z",
     "iopub.status.busy": "2024-03-27T17:20:42.477209Z",
     "iopub.status.idle": "2024-03-27T17:20:42.485095Z",
     "shell.execute_reply": "2024-03-27T17:20:42.484474Z"
    }
   },
   "outputs": [
    {
     "name": "stdout",
     "output_type": "stream",
     "text": [
      "Writing my_app.py\n"
     ]
    }
   ],
   "source": [
    "%%writefile my_app.py\n",
    "\n",
    "import sys\n",
    "import argparse\n",
    "\n",
    "def main(user: str) -> None:\n",
    "    print(f\"Hello, {user}!\")\n",
    "\n",
    "if __name__ == \"__main__\":\n",
    "    parser = argparse.ArgumentParser(\n",
    "        description=\"Hello world app\"\n",
    "    )\n",
    "    parser.add_argument(\n",
    "        \"--user\",\n",
    "        type=str,\n",
    "        help=\"the person to greet\",\n",
    "        required=True,\n",
    "    )\n",
    "    args = parser.parse_args(sys.argv[1:])\n",
    "\n",
    "    main(args.user)"
   ]
  },
  {
   "cell_type": "markdown",
   "id": "5db639e0",
   "metadata": {},
   "source": [
    "Now that we have an app we can write the component file for it. This\n",
    "function allows us to reuse and share our app in a user friendly way.\n",
    "\n",
    "We can use this component from the `torchx` cli or programmatically as part of a\n",
    "pipeline."
   ]
  },
  {
   "cell_type": "code",
   "execution_count": 2,
   "id": "57d49999",
   "metadata": {
    "execution": {
     "iopub.execute_input": "2024-03-27T17:20:42.487503Z",
     "iopub.status.busy": "2024-03-27T17:20:42.487132Z",
     "iopub.status.idle": "2024-03-27T17:20:42.490974Z",
     "shell.execute_reply": "2024-03-27T17:20:42.490398Z"
    }
   },
   "outputs": [
    {
     "name": "stdout",
     "output_type": "stream",
     "text": [
      "Writing my_component.py\n"
     ]
    }
   ],
   "source": [
    "%%writefile my_component.py\n",
    "\n",
    "import torchx.specs as specs\n",
    "\n",
    "def greet(user: str, image: str = \"my_app:latest\") -> specs.AppDef:\n",
    "    return specs.AppDef(\n",
    "        name=\"hello_world\",\n",
    "        roles=[\n",
    "            specs.Role(\n",
    "                name=\"greeter\",\n",
    "                image=image,\n",
    "                entrypoint=\"python\",\n",
    "                args=[\n",
    "                    \"-m\", \"my_app\",\n",
    "                    \"--user\", user,\n",
    "                ],\n",
    "            )\n",
    "        ],\n",
    "    )"
   ]
  },
  {
   "cell_type": "markdown",
   "id": "f91c4574",
   "metadata": {},
   "source": [
    "We can execute our component via `torchx run`. The\n",
    "`local_cwd` scheduler executes the component relative to the current directory."
   ]
  },
  {
   "cell_type": "code",
   "execution_count": 3,
   "id": "f2496c4b",
   "metadata": {
    "execution": {
     "iopub.execute_input": "2024-03-27T17:20:42.493345Z",
     "iopub.status.busy": "2024-03-27T17:20:42.492914Z",
     "iopub.status.idle": "2024-03-27T17:20:43.836242Z",
     "shell.execute_reply": "2024-03-27T17:20:43.835616Z"
    }
   },
   "outputs": [
    {
     "name": "stderr",
     "output_type": "stream",
     "text": [
      "torchx 2024-03-27 17:20:42 INFO     Tracker configurations: {}\n"
     ]
    },
    {
     "name": "stderr",
     "output_type": "stream",
     "text": [
      "torchx 2024-03-27 17:20:42 INFO     Log directory not set in scheduler cfg. Creating a temporary log dir that will be deleted on exit. To preserve log directory set the `log_dir` cfg option\n"
     ]
    },
    {
     "name": "stderr",
     "output_type": "stream",
     "text": [
      "torchx 2024-03-27 17:20:42 INFO     Log directory is: /tmp/torchx_vbhnciw5\n"
     ]
    },
    {
     "name": "stderr",
     "output_type": "stream",
     "text": [
      "torchx 2024-03-27 17:20:42 INFO     Waiting for the app to finish...\n"
     ]
    },
    {
     "name": "stderr",
     "output_type": "stream",
     "text": [
      "greeter/0 Hello, your name!\n"
     ]
    },
    {
     "name": "stderr",
     "output_type": "stream",
     "text": [
      "torchx 2024-03-27 17:20:43 INFO     Job finished: SUCCEEDED\n"
     ]
    },
    {
     "name": "stdout",
     "output_type": "stream",
     "text": [
      "local_cwd://torchx/hello_world-fmbbq4m92b9kbc\n"
     ]
    }
   ],
   "source": [
    "%%sh\n",
    "torchx run --scheduler local_cwd my_component.py:greet --user \"your name\""
   ]
  },
  {
   "cell_type": "markdown",
   "id": "2c847055",
   "metadata": {},
   "source": [
    "If we want to run in other environments, we can build a Docker container so we\n",
    "can run our component in Docker enabled environments such as Kubernetes or via\n",
    "the local Docker scheduler.\n",
    "\n",
    "<div class=\"admonition note\">\n",
    "<div class=\"admonition-title\">Note</div>\n",
    "This requires Docker installed and won't work in environments such as Google\n",
    "Colab. If you have not done so already follow the install instructions on:\n",
    "[https://docs.docker.com/get-docker/](https://docs.docker.com/get-docker/)</a>\n",
    "</div>"
   ]
  },
  {
   "cell_type": "code",
   "execution_count": 4,
   "id": "ccd3531e",
   "metadata": {
    "execution": {
     "iopub.execute_input": "2024-03-27T17:20:43.839173Z",
     "iopub.status.busy": "2024-03-27T17:20:43.838781Z",
     "iopub.status.idle": "2024-03-27T17:20:43.843077Z",
     "shell.execute_reply": "2024-03-27T17:20:43.842511Z"
    }
   },
   "outputs": [
    {
     "name": "stdout",
     "output_type": "stream",
     "text": [
      "Writing Dockerfile.custom\n"
     ]
    }
   ],
   "source": [
    "%%writefile Dockerfile.custom\n",
    "\n",
    "FROM ghcr.io/pytorch/torchx:0.1.0rc1\n",
    "\n",
    "ADD my_app.py ."
   ]
  },
  {
   "cell_type": "markdown",
   "id": "e93291d4",
   "metadata": {},
   "source": [
    "Once we have the Dockerfile created we can create our docker image."
   ]
  },
  {
   "cell_type": "code",
   "execution_count": 5,
   "id": "ce0ec4d6",
   "metadata": {
    "execution": {
     "iopub.execute_input": "2024-03-27T17:20:43.845588Z",
     "iopub.status.busy": "2024-03-27T17:20:43.845237Z",
     "iopub.status.idle": "2024-03-27T17:22:14.476816Z",
     "shell.execute_reply": "2024-03-27T17:22:14.476172Z"
    }
   },
   "outputs": [
    {
     "name": "stderr",
     "output_type": "stream",
     "text": [
      "#0 building with \"default\" instance using docker driver\n"
     ]
    },
    {
     "name": "stderr",
     "output_type": "stream",
     "text": [
      "\n"
     ]
    },
    {
     "name": "stderr",
     "output_type": "stream",
     "text": [
      "#1 [internal] load .dockerignore\n"
     ]
    },
    {
     "name": "stderr",
     "output_type": "stream",
     "text": [
      "#1 transferring context: 2B done\n"
     ]
    },
    {
     "name": "stderr",
     "output_type": "stream",
     "text": [
      "#1 DONE 0.0s\n"
     ]
    },
    {
     "name": "stderr",
     "output_type": "stream",
     "text": [
      "\n"
     ]
    },
    {
     "name": "stderr",
     "output_type": "stream",
     "text": [
      "#2 [internal] load build definition from Dockerfile.custom\n"
     ]
    },
    {
     "name": "stderr",
     "output_type": "stream",
     "text": [
      "#2 transferring dockerfile: 99B done\n"
     ]
    },
    {
     "name": "stderr",
     "output_type": "stream",
     "text": [
      "#2 DONE 0.0s\n"
     ]
    },
    {
     "name": "stderr",
     "output_type": "stream",
     "text": [
      "\n"
     ]
    },
    {
     "name": "stderr",
     "output_type": "stream",
     "text": [
      "#3 [internal] load metadata for ghcr.io/pytorch/torchx:0.1.0rc1\n"
     ]
    },
    {
     "name": "stderr",
     "output_type": "stream",
     "text": [
      "#3 DONE 0.6s\n"
     ]
    },
    {
     "name": "stderr",
     "output_type": "stream",
     "text": [
      "\n"
     ]
    },
    {
     "name": "stderr",
     "output_type": "stream",
     "text": [
      "#4 [internal] load build context\n"
     ]
    },
    {
     "name": "stderr",
     "output_type": "stream",
     "text": [
      "#4 transferring context: 425B done\n"
     ]
    },
    {
     "name": "stderr",
     "output_type": "stream",
     "text": [
      "#4 DONE 0.0s\n"
     ]
    },
    {
     "name": "stderr",
     "output_type": "stream",
     "text": [
      "\n"
     ]
    },
    {
     "name": "stderr",
     "output_type": "stream",
     "text": [
      "#5 [1/2] FROM ghcr.io/pytorch/torchx:0.1.0rc1@sha256:a738949601d82e7f100fa1efeb8dde0c35ce44c66726cf38596f96d78dcd7ad3\n"
     ]
    },
    {
     "name": "stderr",
     "output_type": "stream",
     "text": [
      "#5 resolve ghcr.io/pytorch/torchx:0.1.0rc1@sha256:a738949601d82e7f100fa1efeb8dde0c35ce44c66726cf38596f96d78dcd7ad3 done\n"
     ]
    },
    {
     "name": "stderr",
     "output_type": "stream",
     "text": [
      "#5 sha256:6009a622672af862e3a3979ffd58a348f95208a4bc3b6f6cea2efda4e8390203 0B / 9.94MB 0.1s\n"
     ]
    },
    {
     "name": "stderr",
     "output_type": "stream",
     "text": [
      "#5 sha256:a738949601d82e7f100fa1efeb8dde0c35ce44c66726cf38596f96d78dcd7ad3 3.25kB / 3.25kB done\n"
     ]
    },
    {
     "name": "stderr",
     "output_type": "stream",
     "text": [
      "#5 sha256:3dbec59e804974689ff0739216fb012d3e1cd6694632cd3a85b74b572266ec5c 7.21kB / 7.21kB done\n"
     ]
    },
    {
     "name": "stderr",
     "output_type": "stream",
     "text": [
      "#5 sha256:889a7173dcfeb409f9d88054a97ab2445f5a799a823f719a5573365ee3662b6f 189B / 189B 0.1s done\n"
     ]
    },
    {
     "name": "stderr",
     "output_type": "stream",
     "text": [
      "#5 sha256:4bbfd2c87b7524455f144a03bf387c88b6d4200e5e0df9139a9d5e79110f89ca 0B / 26.70MB 0.1s\n"
     ]
    },
    {
     "name": "stderr",
     "output_type": "stream",
     "text": [
      "#5 sha256:d2e110be24e168b42c1a2ddbc4a476a217b73cccdba69cdcb212b812a88f5726 857B / 857B 0.1s done\n"
     ]
    },
    {
     "name": "stderr",
     "output_type": "stream",
     "text": [
      "#5 sha256:143f801954310499daa44a8499a49797d2f282b5d56be601557ebe6cbf796907 0B / 2.00GB 0.1s\n"
     ]
    },
    {
     "name": "stderr",
     "output_type": "stream",
     "text": [
      "#5 sha256:6009a622672af862e3a3979ffd58a348f95208a4bc3b6f6cea2efda4e8390203 9.94MB / 9.94MB 0.3s done\n"
     ]
    },
    {
     "name": "stderr",
     "output_type": "stream",
     "text": [
      "#5 sha256:4bbfd2c87b7524455f144a03bf387c88b6d4200e5e0df9139a9d5e79110f89ca 20.97MB / 26.70MB 0.3s\n"
     ]
    },
    {
     "name": "stderr",
     "output_type": "stream",
     "text": [
      "#5 sha256:eccbe17c44e1b27c836dddc42f204bde06f73568b50833556b50324146bd43aa 0B / 132B 0.3s\n"
     ]
    },
    {
     "name": "stderr",
     "output_type": "stream",
     "text": [
      "#5 sha256:4bbfd2c87b7524455f144a03bf387c88b6d4200e5e0df9139a9d5e79110f89ca 26.70MB / 26.70MB 0.4s done\n"
     ]
    },
    {
     "name": "stderr",
     "output_type": "stream",
     "text": [
      "#5 sha256:eccbe17c44e1b27c836dddc42f204bde06f73568b50833556b50324146bd43aa 132B / 132B 0.3s done\n"
     ]
    },
    {
     "name": "stderr",
     "output_type": "stream",
     "text": [
      "#5 extracting sha256:4bbfd2c87b7524455f144a03bf387c88b6d4200e5e0df9139a9d5e79110f89ca 0.1s\n"
     ]
    },
    {
     "name": "stderr",
     "output_type": "stream",
     "text": [
      "#5 sha256:06b5edd6bf524455a7c5a54cb27ced3ecc540414ecf38c24c80ba4368ebc77de 0B / 257B 0.4s\n"
     ]
    },
    {
     "name": "stderr",
     "output_type": "stream",
     "text": [
      "#5 sha256:d4c7af0d4fa735e6727a24afcea4022492c7f29ac85e31ddf3d385bfbf704f71 0B / 21.46MB 0.4s\n"
     ]
    },
    {
     "name": "stderr",
     "output_type": "stream",
     "text": [
      "#5 sha256:06b5edd6bf524455a7c5a54cb27ced3ecc540414ecf38c24c80ba4368ebc77de 257B / 257B 0.4s done\n"
     ]
    },
    {
     "name": "stderr",
     "output_type": "stream",
     "text": [
      "#5 sha256:d4c7af0d4fa735e6727a24afcea4022492c7f29ac85e31ddf3d385bfbf704f71 7.34MB / 21.46MB 0.5s\n"
     ]
    },
    {
     "name": "stderr",
     "output_type": "stream",
     "text": [
      "#5 sha256:f18d016c4ccc1c57c9e34cb119e1e1966287b08aa9b4d52a38b30815a56574b6 0B / 1.71GB 0.5s\n"
     ]
    },
    {
     "name": "stderr",
     "output_type": "stream",
     "text": [
      "#5 sha256:d4c7af0d4fa735e6727a24afcea4022492c7f29ac85e31ddf3d385bfbf704f71 21.46MB / 21.46MB 0.6s done\n"
     ]
    },
    {
     "name": "stderr",
     "output_type": "stream",
     "text": [
      "#5 sha256:30587ba7fd6bcbd1c883125d84517055b2d7f2d35a13faedbc8b15f94b900cc2 0B / 352B 0.7s\n"
     ]
    },
    {
     "name": "stderr",
     "output_type": "stream",
     "text": [
      "#5 sha256:c0ad16d9fa05dbf708784e8aa10d69153465bae391345020be52cbe0a1701932 92B / 92B 0.6s done\n"
     ]
    },
    {
     "name": "stderr",
     "output_type": "stream",
     "text": [
      "#5 sha256:30587ba7fd6bcbd1c883125d84517055b2d7f2d35a13faedbc8b15f94b900cc2 352B / 352B 0.7s done\n"
     ]
    },
    {
     "name": "stderr",
     "output_type": "stream",
     "text": [
      "#5 sha256:909695be1d5003de345714eec2ca3020a48dd8f407fe918cbd47a8db73d7a233 0B / 341.29MB 0.8s\n"
     ]
    },
    {
     "name": "stderr",
     "output_type": "stream",
     "text": [
      "#5 sha256:143f801954310499daa44a8499a49797d2f282b5d56be601557ebe6cbf796907 100.66MB / 2.00GB 1.0s\n"
     ]
    },
    {
     "name": "stderr",
     "output_type": "stream",
     "text": [
      "#5 sha256:909695be1d5003de345714eec2ca3020a48dd8f407fe918cbd47a8db73d7a233 24.12MB / 341.29MB 1.0s\n"
     ]
    },
    {
     "name": "stderr",
     "output_type": "stream",
     "text": [
      "#5 sha256:f18d016c4ccc1c57c9e34cb119e1e1966287b08aa9b4d52a38b30815a56574b6 91.23MB / 1.71GB 1.2s\n"
     ]
    },
    {
     "name": "stderr",
     "output_type": "stream",
     "text": [
      "#5 sha256:909695be1d5003de345714eec2ca3020a48dd8f407fe918cbd47a8db73d7a233 51.38MB / 341.29MB 1.2s\n"
     ]
    },
    {
     "name": "stderr",
     "output_type": "stream",
     "text": [
      "#5 sha256:909695be1d5003de345714eec2ca3020a48dd8f407fe918cbd47a8db73d7a233 77.59MB / 341.29MB 1.4s\n"
     ]
    },
    {
     "name": "stderr",
     "output_type": "stream",
     "text": [
      "#5 sha256:909695be1d5003de345714eec2ca3020a48dd8f407fe918cbd47a8db73d7a233 96.47MB / 341.29MB 1.5s\n"
     ]
    },
    {
     "name": "stderr",
     "output_type": "stream",
     "text": [
      "#5 extracting sha256:4bbfd2c87b7524455f144a03bf387c88b6d4200e5e0df9139a9d5e79110f89ca 1.2s done\n"
     ]
    },
    {
     "name": "stderr",
     "output_type": "stream",
     "text": [
      "#5 extracting sha256:d2e110be24e168b42c1a2ddbc4a476a217b73cccdba69cdcb212b812a88f5726\n"
     ]
    },
    {
     "name": "stderr",
     "output_type": "stream",
     "text": [
      "#5 sha256:143f801954310499daa44a8499a49797d2f282b5d56be601557ebe6cbf796907 224.40MB / 2.00GB 1.8s\n"
     ]
    },
    {
     "name": "stderr",
     "output_type": "stream",
     "text": [
      "#5 sha256:909695be1d5003de345714eec2ca3020a48dd8f407fe918cbd47a8db73d7a233 149.95MB / 341.29MB 1.8s\n"
     ]
    },
    {
     "name": "stderr",
     "output_type": "stream",
     "text": [
      "#5 extracting sha256:d2e110be24e168b42c1a2ddbc4a476a217b73cccdba69cdcb212b812a88f5726 0.0s done\n"
     ]
    },
    {
     "name": "stderr",
     "output_type": "stream",
     "text": [
      "#5 sha256:f18d016c4ccc1c57c9e34cb119e1e1966287b08aa9b4d52a38b30815a56574b6 185.60MB / 1.71GB 2.0s\n"
     ]
    },
    {
     "name": "stderr",
     "output_type": "stream",
     "text": [
      "#5 sha256:909695be1d5003de345714eec2ca3020a48dd8f407fe918cbd47a8db73d7a233 196.08MB / 341.29MB 2.0s\n"
     ]
    },
    {
     "name": "stderr",
     "output_type": "stream",
     "text": [
      "#5 sha256:909695be1d5003de345714eec2ca3020a48dd8f407fe918cbd47a8db73d7a233 234.88MB / 341.29MB 2.2s\n"
     ]
    },
    {
     "name": "stderr",
     "output_type": "stream",
     "text": [
      "#5 sha256:909695be1d5003de345714eec2ca3020a48dd8f407fe918cbd47a8db73d7a233 276.82MB / 341.29MB 2.5s\n"
     ]
    },
    {
     "name": "stderr",
     "output_type": "stream",
     "text": [
      "#5 sha256:f18d016c4ccc1c57c9e34cb119e1e1966287b08aa9b4d52a38b30815a56574b6 275.78MB / 1.71GB 2.6s\n"
     ]
    },
    {
     "name": "stderr",
     "output_type": "stream",
     "text": [
      "#5 sha256:909695be1d5003de345714eec2ca3020a48dd8f407fe918cbd47a8db73d7a233 297.80MB / 341.29MB 2.6s\n"
     ]
    },
    {
     "name": "stderr",
     "output_type": "stream",
     "text": [
      "#5 sha256:909695be1d5003de345714eec2ca3020a48dd8f407fe918cbd47a8db73d7a233 327.16MB / 341.29MB 2.8s\n"
     ]
    },
    {
     "name": "stderr",
     "output_type": "stream",
     "text": [
      "#5 sha256:143f801954310499daa44a8499a49797d2f282b5d56be601557ebe6cbf796907 326.11MB / 2.00GB 2.9s\n"
     ]
    },
    {
     "name": "stderr",
     "output_type": "stream",
     "text": [
      "#5 sha256:f18d016c4ccc1c57c9e34cb119e1e1966287b08aa9b4d52a38b30815a56574b6 376.44MB / 1.71GB 3.2s\n"
     ]
    },
    {
     "name": "stderr",
     "output_type": "stream",
     "text": [
      "#5 sha256:909695be1d5003de345714eec2ca3020a48dd8f407fe918cbd47a8db73d7a233 341.29MB / 341.29MB 3.6s done\n"
     ]
    },
    {
     "name": "stderr",
     "output_type": "stream",
     "text": [
      "#5 sha256:f119a6d0a466a041afbcb08344ff624b5c5ac5f68b93d33af4827529ea1a6800 0B / 563.38kB 3.7s\n"
     ]
    },
    {
     "name": "stderr",
     "output_type": "stream",
     "text": [
      "#5 sha256:143f801954310499daa44a8499a49797d2f282b5d56be601557ebe6cbf796907 438.30MB / 2.00GB 3.9s\n"
     ]
    },
    {
     "name": "stderr",
     "output_type": "stream",
     "text": [
      "#5 sha256:f18d016c4ccc1c57c9e34cb119e1e1966287b08aa9b4d52a38b30815a56574b6 482.34MB / 1.71GB 3.9s\n"
     ]
    },
    {
     "name": "stderr",
     "output_type": "stream",
     "text": [
      "#5 sha256:f119a6d0a466a041afbcb08344ff624b5c5ac5f68b93d33af4827529ea1a6800 563.38kB / 563.38kB 3.9s\n"
     ]
    },
    {
     "name": "stderr",
     "output_type": "stream",
     "text": [
      "#5 sha256:f119a6d0a466a041afbcb08344ff624b5c5ac5f68b93d33af4827529ea1a6800 563.38kB / 563.38kB 4.4s done\n"
     ]
    },
    {
     "name": "stderr",
     "output_type": "stream",
     "text": [
      "#5 sha256:f18d016c4ccc1c57c9e34cb119e1e1966287b08aa9b4d52a38b30815a56574b6 571.47MB / 1.71GB 4.6s\n"
     ]
    },
    {
     "name": "stderr",
     "output_type": "stream",
     "text": [
      "#5 sha256:88d87059c913e67971846680d4032b75f96f599f8a67062f668fed6471fc2968 0B / 556.96kB 4.6s\n"
     ]
    },
    {
     "name": "stderr",
     "output_type": "stream",
     "text": [
      "#5 extracting sha256:889a7173dcfeb409f9d88054a97ab2445f5a799a823f719a5573365ee3662b6f done\n"
     ]
    },
    {
     "name": "stderr",
     "output_type": "stream",
     "text": [
      "#5 sha256:143f801954310499daa44a8499a49797d2f282b5d56be601557ebe6cbf796907 542.11MB / 2.00GB 4.8s\n"
     ]
    },
    {
     "name": "stderr",
     "output_type": "stream",
     "text": [
      "#5 sha256:88d87059c913e67971846680d4032b75f96f599f8a67062f668fed6471fc2968 556.96kB / 556.96kB 4.8s done\n"
     ]
    },
    {
     "name": "stderr",
     "output_type": "stream",
     "text": [
      "#5 sha256:f18d016c4ccc1c57c9e34cb119e1e1966287b08aa9b4d52a38b30815a56574b6 676.33MB / 1.71GB 5.1s\n"
     ]
    },
    {
     "name": "stderr",
     "output_type": "stream",
     "text": [
      "#5 sha256:143f801954310499daa44a8499a49797d2f282b5d56be601557ebe6cbf796907 670.04MB / 2.00GB 5.7s\n"
     ]
    },
    {
     "name": "stderr",
     "output_type": "stream",
     "text": [
      "#5 sha256:f18d016c4ccc1c57c9e34cb119e1e1966287b08aa9b4d52a38b30815a56574b6 781.19MB / 1.71GB 5.7s\n"
     ]
    },
    {
     "name": "stderr",
     "output_type": "stream",
     "text": [
      "#5 extracting sha256:6009a622672af862e3a3979ffd58a348f95208a4bc3b6f6cea2efda4e8390203\n"
     ]
    },
    {
     "name": "stderr",
     "output_type": "stream",
     "text": [
      "#5 sha256:143f801954310499daa44a8499a49797d2f282b5d56be601557ebe6cbf796907 783.29MB / 2.00GB 6.4s\n"
     ]
    },
    {
     "name": "stderr",
     "output_type": "stream",
     "text": [
      "#5 sha256:f18d016c4ccc1c57c9e34cb119e1e1966287b08aa9b4d52a38b30815a56574b6 881.85MB / 1.71GB 6.4s\n"
     ]
    },
    {
     "name": "stderr",
     "output_type": "stream",
     "text": [
      "#5 extracting sha256:6009a622672af862e3a3979ffd58a348f95208a4bc3b6f6cea2efda4e8390203 0.7s done\n"
     ]
    },
    {
     "name": "stderr",
     "output_type": "stream",
     "text": [
      "#5 sha256:143f801954310499daa44a8499a49797d2f282b5d56be601557ebe6cbf796907 902.82MB / 2.00GB 7.1s\n"
     ]
    },
    {
     "name": "stderr",
     "output_type": "stream",
     "text": [
      "#5 sha256:f18d016c4ccc1c57c9e34cb119e1e1966287b08aa9b4d52a38b30815a56574b6 973.08MB / 1.71GB 7.1s\n"
     ]
    },
    {
     "name": "stderr",
     "output_type": "stream",
     "text": [
      "#5 sha256:143f801954310499daa44a8499a49797d2f282b5d56be601557ebe6cbf796907 1.02GB / 2.00GB 7.8s\n"
     ]
    },
    {
     "name": "stderr",
     "output_type": "stream",
     "text": [
      "#5 sha256:f18d016c4ccc1c57c9e34cb119e1e1966287b08aa9b4d52a38b30815a56574b6 1.09GB / 1.71GB 7.8s\n"
     ]
    },
    {
     "name": "stderr",
     "output_type": "stream",
     "text": [
      "#5 sha256:f18d016c4ccc1c57c9e34cb119e1e1966287b08aa9b4d52a38b30815a56574b6 1.19GB / 1.71GB 8.4s\n"
     ]
    },
    {
     "name": "stderr",
     "output_type": "stream",
     "text": [
      "#5 sha256:143f801954310499daa44a8499a49797d2f282b5d56be601557ebe6cbf796907 1.14GB / 2.00GB 8.6s\n"
     ]
    },
    {
     "name": "stderr",
     "output_type": "stream",
     "text": [
      "#5 sha256:f18d016c4ccc1c57c9e34cb119e1e1966287b08aa9b4d52a38b30815a56574b6 1.28GB / 1.71GB 9.0s\n"
     ]
    },
    {
     "name": "stderr",
     "output_type": "stream",
     "text": [
      "#5 sha256:143f801954310499daa44a8499a49797d2f282b5d56be601557ebe6cbf796907 1.24GB / 2.00GB 9.2s\n"
     ]
    },
    {
     "name": "stderr",
     "output_type": "stream",
     "text": [
      "#5 sha256:143f801954310499daa44a8499a49797d2f282b5d56be601557ebe6cbf796907 1.34GB / 2.00GB 9.7s\n"
     ]
    },
    {
     "name": "stderr",
     "output_type": "stream",
     "text": [
      "#5 sha256:f18d016c4ccc1c57c9e34cb119e1e1966287b08aa9b4d52a38b30815a56574b6 1.38GB / 1.71GB 9.7s\n"
     ]
    },
    {
     "name": "stderr",
     "output_type": "stream",
     "text": [
      "#5 sha256:143f801954310499daa44a8499a49797d2f282b5d56be601557ebe6cbf796907 1.46GB / 2.00GB 10.3s\n"
     ]
    },
    {
     "name": "stderr",
     "output_type": "stream",
     "text": [
      "#5 sha256:f18d016c4ccc1c57c9e34cb119e1e1966287b08aa9b4d52a38b30815a56574b6 1.48GB / 1.71GB 10.6s\n"
     ]
    },
    {
     "name": "stderr",
     "output_type": "stream",
     "text": [
      "#5 sha256:143f801954310499daa44a8499a49797d2f282b5d56be601557ebe6cbf796907 1.59GB / 2.00GB 11.0s\n"
     ]
    },
    {
     "name": "stderr",
     "output_type": "stream",
     "text": [
      "#5 sha256:f18d016c4ccc1c57c9e34cb119e1e1966287b08aa9b4d52a38b30815a56574b6 1.58GB / 1.71GB 11.3s\n"
     ]
    },
    {
     "name": "stderr",
     "output_type": "stream",
     "text": [
      "#5 sha256:143f801954310499daa44a8499a49797d2f282b5d56be601557ebe6cbf796907 1.72GB / 2.00GB 11.7s\n"
     ]
    },
    {
     "name": "stderr",
     "output_type": "stream",
     "text": [
      "#5 sha256:f18d016c4ccc1c57c9e34cb119e1e1966287b08aa9b4d52a38b30815a56574b6 1.69GB / 1.71GB 12.0s\n"
     ]
    },
    {
     "name": "stderr",
     "output_type": "stream",
     "text": [
      "#5 sha256:143f801954310499daa44a8499a49797d2f282b5d56be601557ebe6cbf796907 1.82GB / 2.00GB 12.3s\n"
     ]
    },
    {
     "name": "stderr",
     "output_type": "stream",
     "text": [
      "#5 sha256:143f801954310499daa44a8499a49797d2f282b5d56be601557ebe6cbf796907 1.92GB / 2.00GB 12.9s\n"
     ]
    },
    {
     "name": "stderr",
     "output_type": "stream",
     "text": [
      "#5 sha256:f18d016c4ccc1c57c9e34cb119e1e1966287b08aa9b4d52a38b30815a56574b6 1.71GB / 1.71GB 13.4s done\n"
     ]
    },
    {
     "name": "stderr",
     "output_type": "stream",
     "text": [
      "#5 extracting sha256:143f801954310499daa44a8499a49797d2f282b5d56be601557ebe6cbf796907\n"
     ]
    },
    {
     "name": "stderr",
     "output_type": "stream",
     "text": [
      "#5 sha256:143f801954310499daa44a8499a49797d2f282b5d56be601557ebe6cbf796907 2.00GB / 2.00GB 15.7s done\n"
     ]
    },
    {
     "name": "stderr",
     "output_type": "stream",
     "text": [
      "#5 extracting sha256:143f801954310499daa44a8499a49797d2f282b5d56be601557ebe6cbf796907 5.0s\n"
     ]
    },
    {
     "name": "stderr",
     "output_type": "stream",
     "text": [
      "#5 extracting sha256:143f801954310499daa44a8499a49797d2f282b5d56be601557ebe6cbf796907 10.1s\n"
     ]
    },
    {
     "name": "stderr",
     "output_type": "stream",
     "text": [
      "#5 extracting sha256:143f801954310499daa44a8499a49797d2f282b5d56be601557ebe6cbf796907 15.2s\n"
     ]
    },
    {
     "name": "stderr",
     "output_type": "stream",
     "text": [
      "#5 extracting sha256:143f801954310499daa44a8499a49797d2f282b5d56be601557ebe6cbf796907 20.3s\n"
     ]
    },
    {
     "name": "stderr",
     "output_type": "stream",
     "text": [
      "#5 extracting sha256:143f801954310499daa44a8499a49797d2f282b5d56be601557ebe6cbf796907 25.4s\n"
     ]
    },
    {
     "name": "stderr",
     "output_type": "stream",
     "text": [
      "#5 extracting sha256:143f801954310499daa44a8499a49797d2f282b5d56be601557ebe6cbf796907 30.4s\n"
     ]
    },
    {
     "name": "stderr",
     "output_type": "stream",
     "text": [
      "#5 extracting sha256:143f801954310499daa44a8499a49797d2f282b5d56be601557ebe6cbf796907 30.6s done\n"
     ]
    },
    {
     "name": "stderr",
     "output_type": "stream",
     "text": [
      "#5 extracting sha256:eccbe17c44e1b27c836dddc42f204bde06f73568b50833556b50324146bd43aa\n"
     ]
    },
    {
     "name": "stderr",
     "output_type": "stream",
     "text": [
      "#5 extracting sha256:eccbe17c44e1b27c836dddc42f204bde06f73568b50833556b50324146bd43aa done\n"
     ]
    },
    {
     "name": "stderr",
     "output_type": "stream",
     "text": [
      "#5 extracting sha256:d4c7af0d4fa735e6727a24afcea4022492c7f29ac85e31ddf3d385bfbf704f71 0.1s\n"
     ]
    },
    {
     "name": "stderr",
     "output_type": "stream",
     "text": [
      "#5 extracting sha256:d4c7af0d4fa735e6727a24afcea4022492c7f29ac85e31ddf3d385bfbf704f71 0.7s done\n"
     ]
    },
    {
     "name": "stderr",
     "output_type": "stream",
     "text": [
      "#5 extracting sha256:06b5edd6bf524455a7c5a54cb27ced3ecc540414ecf38c24c80ba4368ebc77de\n"
     ]
    },
    {
     "name": "stderr",
     "output_type": "stream",
     "text": [
      "#5 extracting sha256:06b5edd6bf524455a7c5a54cb27ced3ecc540414ecf38c24c80ba4368ebc77de done\n"
     ]
    },
    {
     "name": "stderr",
     "output_type": "stream",
     "text": [
      "#5 extracting sha256:f18d016c4ccc1c57c9e34cb119e1e1966287b08aa9b4d52a38b30815a56574b6 0.1s\n"
     ]
    },
    {
     "name": "stderr",
     "output_type": "stream",
     "text": [
      "#5 extracting sha256:f18d016c4ccc1c57c9e34cb119e1e1966287b08aa9b4d52a38b30815a56574b6 5.2s\n"
     ]
    },
    {
     "name": "stderr",
     "output_type": "stream",
     "text": [
      "#5 extracting sha256:f18d016c4ccc1c57c9e34cb119e1e1966287b08aa9b4d52a38b30815a56574b6 10.2s\n"
     ]
    },
    {
     "name": "stderr",
     "output_type": "stream",
     "text": [
      "#5 extracting sha256:f18d016c4ccc1c57c9e34cb119e1e1966287b08aa9b4d52a38b30815a56574b6 15.3s\n"
     ]
    },
    {
     "name": "stderr",
     "output_type": "stream",
     "text": [
      "#5 extracting sha256:f18d016c4ccc1c57c9e34cb119e1e1966287b08aa9b4d52a38b30815a56574b6 19.3s done\n"
     ]
    },
    {
     "name": "stderr",
     "output_type": "stream",
     "text": [
      "#5 extracting sha256:c0ad16d9fa05dbf708784e8aa10d69153465bae391345020be52cbe0a1701932\n"
     ]
    },
    {
     "name": "stderr",
     "output_type": "stream",
     "text": [
      "#5 extracting sha256:c0ad16d9fa05dbf708784e8aa10d69153465bae391345020be52cbe0a1701932 done\n"
     ]
    },
    {
     "name": "stderr",
     "output_type": "stream",
     "text": [
      "#5 extracting sha256:30587ba7fd6bcbd1c883125d84517055b2d7f2d35a13faedbc8b15f94b900cc2 done\n"
     ]
    },
    {
     "name": "stderr",
     "output_type": "stream",
     "text": [
      "#5 extracting sha256:909695be1d5003de345714eec2ca3020a48dd8f407fe918cbd47a8db73d7a233 0.1s\n"
     ]
    },
    {
     "name": "stderr",
     "output_type": "stream",
     "text": [
      "#5 extracting sha256:909695be1d5003de345714eec2ca3020a48dd8f407fe918cbd47a8db73d7a233 5.5s\n"
     ]
    },
    {
     "name": "stderr",
     "output_type": "stream",
     "text": [
      "#5 extracting sha256:909695be1d5003de345714eec2ca3020a48dd8f407fe918cbd47a8db73d7a233 10.6s\n"
     ]
    },
    {
     "name": "stderr",
     "output_type": "stream",
     "text": [
      "#5 extracting sha256:909695be1d5003de345714eec2ca3020a48dd8f407fe918cbd47a8db73d7a233 12.0s done\n"
     ]
    },
    {
     "name": "stderr",
     "output_type": "stream",
     "text": [
      "#5 extracting sha256:f119a6d0a466a041afbcb08344ff624b5c5ac5f68b93d33af4827529ea1a6800\n"
     ]
    },
    {
     "name": "stderr",
     "output_type": "stream",
     "text": [
      "#5 extracting sha256:f119a6d0a466a041afbcb08344ff624b5c5ac5f68b93d33af4827529ea1a6800 0.1s done\n"
     ]
    },
    {
     "name": "stderr",
     "output_type": "stream",
     "text": [
      "#5 extracting sha256:88d87059c913e67971846680d4032b75f96f599f8a67062f668fed6471fc2968\n"
     ]
    },
    {
     "name": "stderr",
     "output_type": "stream",
     "text": [
      "#5 extracting sha256:88d87059c913e67971846680d4032b75f96f599f8a67062f668fed6471fc2968 0.0s done\n"
     ]
    },
    {
     "name": "stderr",
     "output_type": "stream",
     "text": [
      "#5 DONE 83.2s\n"
     ]
    },
    {
     "name": "stderr",
     "output_type": "stream",
     "text": [
      "\n"
     ]
    },
    {
     "name": "stderr",
     "output_type": "stream",
     "text": [
      "#6 [2/2] ADD my_app.py .\n"
     ]
    },
    {
     "name": "stderr",
     "output_type": "stream",
     "text": [
      "#6 DONE 0.0s\n"
     ]
    },
    {
     "name": "stderr",
     "output_type": "stream",
     "text": [
      "\n"
     ]
    },
    {
     "name": "stderr",
     "output_type": "stream",
     "text": [
      "#7 exporting to image\n"
     ]
    },
    {
     "name": "stderr",
     "output_type": "stream",
     "text": [
      "#7 exporting layers\n"
     ]
    },
    {
     "name": "stderr",
     "output_type": "stream",
     "text": [
      "#7 exporting layers 2.5s done\n"
     ]
    },
    {
     "name": "stderr",
     "output_type": "stream",
     "text": [
      "#7 writing image sha256:339dbba7dc44d88915f9285acdb511e1c1ee8f4e617db51e91d0cd3e56ea4f0e done\n"
     ]
    },
    {
     "name": "stderr",
     "output_type": "stream",
     "text": [
      "#7 naming to docker.io/library/my_app:latest done\n"
     ]
    },
    {
     "name": "stderr",
     "output_type": "stream",
     "text": [
      "#7 DONE 2.6s\n"
     ]
    }
   ],
   "source": [
    "%%sh\n",
    "docker build -t my_app:latest -f Dockerfile.custom ."
   ]
  },
  {
   "cell_type": "markdown",
   "id": "4ce9b4d5",
   "metadata": {},
   "source": [
    "We can then launch it on the local scheduler."
   ]
  },
  {
   "cell_type": "code",
   "execution_count": 6,
   "id": "84ffa357",
   "metadata": {
    "execution": {
     "iopub.execute_input": "2024-03-27T17:22:14.479500Z",
     "iopub.status.busy": "2024-03-27T17:22:14.479175Z",
     "iopub.status.idle": "2024-03-27T17:22:22.878630Z",
     "shell.execute_reply": "2024-03-27T17:22:22.877977Z"
    }
   },
   "outputs": [
    {
     "name": "stderr",
     "output_type": "stream",
     "text": [
      "torchx 2024-03-27 17:22:14 INFO     Tracker configurations: {}\n"
     ]
    },
    {
     "name": "stderr",
     "output_type": "stream",
     "text": [
      "torchx 2024-03-27 17:22:14 INFO     Checking for changes in workspace `file:///home/runner/work/torchx/torchx/docs/source`...\n"
     ]
    },
    {
     "name": "stderr",
     "output_type": "stream",
     "text": [
      "torchx 2024-03-27 17:22:14 INFO     To disable workspaces pass: --workspace=\"\" from CLI or workspace=None programmatically.\n"
     ]
    },
    {
     "name": "stderr",
     "output_type": "stream",
     "text": [
      "torchx 2024-03-27 17:22:15 INFO     Workspace `file:///home/runner/work/torchx/torchx/docs/source` resolved to filesystem path `/home/runner/work/torchx/torchx/docs/source`\n"
     ]
    },
    {
     "name": "stderr",
     "output_type": "stream",
     "text": [
      "torchx 2024-03-27 17:22:15 WARNING  failed to pull image my_app:latest, falling back to local: 404 Client Error for http+docker://localhost/v1.43/images/create?tag=latest&fromImage=my_app: Not Found (\"pull access denied for my_app, repository does not exist or may require 'docker login': denied: requested access to the resource is denied\")\n"
     ]
    },
    {
     "name": "stderr",
     "output_type": "stream",
     "text": [
      "torchx 2024-03-27 17:22:15 INFO     Building workspace docker image (this may take a while)...\n"
     ]
    },
    {
     "name": "stderr",
     "output_type": "stream",
     "text": [
      "torchx 2024-03-27 17:22:20 INFO     Built new image `sha256:365d6487fd6773fbc075267fb446bc7cc1a0b3db62f9eb314ae00395bce97f2d` based on original image `my_app:latest` and changes in workspace `file:///home/runner/work/torchx/torchx/docs/source` for role[0]=greeter.\n"
     ]
    },
    {
     "name": "stderr",
     "output_type": "stream",
     "text": [
      "torchx 2024-03-27 17:22:21 INFO     Waiting for the app to finish...\n"
     ]
    },
    {
     "name": "stderr",
     "output_type": "stream",
     "text": [
      "greeter/0 Hello, your name!\n"
     ]
    },
    {
     "name": "stderr",
     "output_type": "stream",
     "text": [
      "torchx 2024-03-27 17:22:22 INFO     Job finished: SUCCEEDED\n"
     ]
    },
    {
     "name": "stdout",
     "output_type": "stream",
     "text": [
      "local_docker://torchx/hello_world-nwqblmf756vstc\n"
     ]
    }
   ],
   "source": [
    "%%sh\n",
    "torchx run --scheduler local_docker my_component.py:greet --image \"my_app:latest\" --user \"your name\""
   ]
  },
  {
   "cell_type": "markdown",
   "id": "bad3cea0",
   "metadata": {},
   "source": [
    "If you have a Kubernetes cluster you can use the [Kubernetes scheduler](schedulers/kubernetes.rst) to launch\n",
    "this on the cluster instead.\n"
   ]
  },
  {
   "cell_type": "markdown",
   "id": "e819c608",
   "metadata": {
    "lines_to_next_cell": 2,
    "region_name": "md"
   },
   "source": [
    "```sh\n",
    "$ docker push my_app:latest\n",
    "$ torchx run --scheduler kubernetes my_component.py:greet --image \"my_app:latest\" --user \"your name\"\n",
    "```"
   ]
  },
  {
   "cell_type": "markdown",
   "id": "fef08daa",
   "metadata": {},
   "source": [
    "## Builtins\n",
    "\n",
    "TorchX also provides a number of builtin components with premade images. You can discover\n",
    "them via:"
   ]
  },
  {
   "cell_type": "code",
   "execution_count": 7,
   "id": "d8957927",
   "metadata": {
    "execution": {
     "iopub.execute_input": "2024-03-27T17:22:22.881837Z",
     "iopub.status.busy": "2024-03-27T17:22:22.881348Z",
     "iopub.status.idle": "2024-03-27T17:22:23.777113Z",
     "shell.execute_reply": "2024-03-27T17:22:23.776495Z"
    }
   },
   "outputs": [
    {
     "name": "stdout",
     "output_type": "stream",
     "text": [
      "Found 11 builtin components:\n"
     ]
    },
    {
     "name": "stdout",
     "output_type": "stream",
     "text": [
      "  1. dist.ddp\n"
     ]
    },
    {
     "name": "stdout",
     "output_type": "stream",
     "text": [
      "  2. dist.spmd\n"
     ]
    },
    {
     "name": "stdout",
     "output_type": "stream",
     "text": [
      "  3. metrics.tensorboard\n"
     ]
    },
    {
     "name": "stdout",
     "output_type": "stream",
     "text": [
      "  4. serve.torchserve\n"
     ]
    },
    {
     "name": "stdout",
     "output_type": "stream",
     "text": [
      "  5. utils.binary\n"
     ]
    },
    {
     "name": "stdout",
     "output_type": "stream",
     "text": [
      "  6. utils.booth\n"
     ]
    },
    {
     "name": "stdout",
     "output_type": "stream",
     "text": [
      "  7. utils.copy\n"
     ]
    },
    {
     "name": "stdout",
     "output_type": "stream",
     "text": [
      "  8. utils.echo\n"
     ]
    },
    {
     "name": "stdout",
     "output_type": "stream",
     "text": [
      "  9. utils.python\n"
     ]
    },
    {
     "name": "stdout",
     "output_type": "stream",
     "text": [
      " 10. utils.sh\n"
     ]
    },
    {
     "name": "stdout",
     "output_type": "stream",
     "text": [
      " 11. utils.touch\n"
     ]
    }
   ],
   "source": [
    "%%sh\n",
    "torchx builtins"
   ]
  },
  {
   "cell_type": "markdown",
   "id": "fe6f6718",
   "metadata": {},
   "source": [
    "You can use these either from the CLI, from a pipeline or programmatically like\n",
    "you would any other component."
   ]
  },
  {
   "cell_type": "code",
   "execution_count": 8,
   "id": "bd9cacbe",
   "metadata": {
    "execution": {
     "iopub.execute_input": "2024-03-27T17:22:23.779951Z",
     "iopub.status.busy": "2024-03-27T17:22:23.779542Z",
     "iopub.status.idle": "2024-03-27T17:24:53.573536Z",
     "shell.execute_reply": "2024-03-27T17:24:53.572869Z"
    }
   },
   "outputs": [
    {
     "name": "stderr",
     "output_type": "stream",
     "text": [
      "torchx 2024-03-27 17:22:24 INFO     Tracker configurations: {}\n"
     ]
    },
    {
     "name": "stderr",
     "output_type": "stream",
     "text": [
      "torchx 2024-03-27 17:22:24 INFO     Checking for changes in workspace `file:///home/runner/work/torchx/torchx/docs/source`...\n"
     ]
    },
    {
     "name": "stderr",
     "output_type": "stream",
     "text": [
      "torchx 2024-03-27 17:22:24 INFO     To disable workspaces pass: --workspace=\"\" from CLI or workspace=None programmatically.\n"
     ]
    },
    {
     "name": "stderr",
     "output_type": "stream",
     "text": [
      "torchx 2024-03-27 17:22:24 INFO     Workspace `file:///home/runner/work/torchx/torchx/docs/source` resolved to filesystem path `/home/runner/work/torchx/torchx/docs/source`\n"
     ]
    },
    {
     "name": "stderr",
     "output_type": "stream",
     "text": [
      "torchx 2024-03-27 17:24:44 INFO     Building workspace docker image (this may take a while)...\n"
     ]
    },
    {
     "name": "stderr",
     "output_type": "stream",
     "text": [
      "torchx 2024-03-27 17:24:53 INFO     Built new image `sha256:882920c4e77c68cd8116197eee70c9e08b779a2266261ce53c69cb8c92ea4536` based on original image `ghcr.io/pytorch/torchx:0.7.0dev0` and changes in workspace `file:///home/runner/work/torchx/torchx/docs/source` for role[0]=echo.\n"
     ]
    },
    {
     "name": "stderr",
     "output_type": "stream",
     "text": [
      "torchx 2024-03-27 17:24:53 INFO     Waiting for the app to finish...\n"
     ]
    },
    {
     "name": "stderr",
     "output_type": "stream",
     "text": [
      "torchx 2024-03-27 17:24:53 INFO     Job finished: SUCCEEDED\n"
     ]
    },
    {
     "name": "stderr",
     "output_type": "stream",
     "text": [
      "echo/0 Hello :)\n"
     ]
    },
    {
     "name": "stdout",
     "output_type": "stream",
     "text": [
      "local_docker://torchx/echo-wdf6rn5m75gbk\n"
     ]
    }
   ],
   "source": [
    "%%sh\n",
    "torchx run utils.echo --msg \"Hello :)\""
   ]
  }
 ],
 "metadata": {
  "jupytext": {
   "text_representation": {
    "extension": ".md",
    "format_name": "markdown",
    "format_version": "1.1",
    "jupytext_version": "1.1.0"
   }
  },
  "kernelspec": {
   "display_name": "Python 3",
   "language": "python",
   "name": "python3"
  },
  "language_info": {
   "codemirror_mode": {
    "name": "ipython",
    "version": 3
   },
   "file_extension": ".py",
   "mimetype": "text/x-python",
   "name": "python",
   "nbconvert_exporter": "python",
   "pygments_lexer": "ipython3",
   "version": "3.8.18"
  }
 },
 "nbformat": 4,
 "nbformat_minor": 5
}
