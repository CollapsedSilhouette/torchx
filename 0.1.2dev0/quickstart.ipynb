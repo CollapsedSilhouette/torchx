{
 "cells": [
  {
   "cell_type": "markdown",
   "id": "4211985b",
   "metadata": {},
   "source": [
    "# Quickstart\n",
    "\n",
    "This is a self contained guide on how to build a simple app and component spec\n",
    "and launch it via two different schedulers.\n",
    "\n",
    "## Installation\n",
    "\n",
    "First thing we need to do is to install the TorchX python package which includes\n",
    "the CLI and the library."
   ]
  },
  {
   "cell_type": "markdown",
   "id": "bbdf0b35",
   "metadata": {
    "region_name": "md"
   },
   "source": [
    "```sh\n",
    "# install torchx with all dependencies\n",
    "$ pip install torchx[dev]\n",
    "```"
   ]
  },
  {
   "cell_type": "markdown",
   "id": "6a1f08ea",
   "metadata": {},
   "source": [
    "See the [README](https://github.com/pytorch/torchx) for more\n",
    "information on installation."
   ]
  },
  {
   "cell_type": "code",
   "execution_count": 1,
   "id": "f290919c",
   "metadata": {
    "execution": {
     "iopub.execute_input": "2022-02-16T21:43:01.021678Z",
     "iopub.status.busy": "2022-02-16T21:43:01.021440Z",
     "iopub.status.idle": "2022-02-16T21:43:01.885528Z",
     "shell.execute_reply": "2022-02-16T21:43:01.884463Z"
    }
   },
   "outputs": [
    {
     "name": "stdout",
     "output_type": "stream",
     "text": [
      "usage: torchx [-h] [--log_level LOG_LEVEL] [--version]\n"
     ]
    },
    {
     "name": "stdout",
     "output_type": "stream",
     "text": [
      "              {describe,log,run,builtins,runopts,status,configure} ...\n"
     ]
    },
    {
     "name": "stdout",
     "output_type": "stream",
     "text": [
      "\n"
     ]
    },
    {
     "name": "stdout",
     "output_type": "stream",
     "text": [
      "torchx CLI\n"
     ]
    },
    {
     "name": "stdout",
     "output_type": "stream",
     "text": [
      "\n"
     ]
    },
    {
     "name": "stdout",
     "output_type": "stream",
     "text": [
      "optional arguments:\n"
     ]
    },
    {
     "name": "stdout",
     "output_type": "stream",
     "text": [
      "  -h, --help            show this help message and exit\n"
     ]
    },
    {
     "name": "stdout",
     "output_type": "stream",
     "text": [
      "  --log_level LOG_LEVEL\n"
     ]
    },
    {
     "name": "stdout",
     "output_type": "stream",
     "text": [
      "                        Python logging log level\n"
     ]
    },
    {
     "name": "stdout",
     "output_type": "stream",
     "text": [
      "  --version             show program's version number and exit\n"
     ]
    },
    {
     "name": "stdout",
     "output_type": "stream",
     "text": [
      "\n"
     ]
    },
    {
     "name": "stdout",
     "output_type": "stream",
     "text": [
      "sub-commands:\n"
     ]
    },
    {
     "name": "stdout",
     "output_type": "stream",
     "text": [
      "  Use the following commands to run operations, e.g.: torchx run ${JOB_NAME}\n"
     ]
    },
    {
     "name": "stdout",
     "output_type": "stream",
     "text": [
      "\n"
     ]
    },
    {
     "name": "stdout",
     "output_type": "stream",
     "text": [
      "  {describe,log,run,builtins,runopts,status,configure}\n"
     ]
    }
   ],
   "source": [
    "%%sh\n",
    "torchx --help"
   ]
  },
  {
   "cell_type": "markdown",
   "id": "1384ae25",
   "metadata": {},
   "source": [
    "## Hello World\n",
    "\n",
    "Lets start off with writing a simple \"Hello World\" python app. This is just a\n",
    "normal python program and can contain anything you'd like.\n",
    "\n",
    "<div class=\"admonition note\">\n",
    "<div class=\"admonition-title\">Note</div>\n",
    "This example uses Jupyter Notebook `%%writefile` to create local files for\n",
    "example purposes. Under normal usage you would have these as standalone files.\n",
    "</div>"
   ]
  },
  {
   "cell_type": "code",
   "execution_count": 2,
   "id": "09577e15",
   "metadata": {
    "execution": {
     "iopub.execute_input": "2022-02-16T21:43:01.889955Z",
     "iopub.status.busy": "2022-02-16T21:43:01.889543Z",
     "iopub.status.idle": "2022-02-16T21:43:01.895441Z",
     "shell.execute_reply": "2022-02-16T21:43:01.894591Z"
    }
   },
   "outputs": [
    {
     "name": "stdout",
     "output_type": "stream",
     "text": [
      "Writing my_app.py\n"
     ]
    }
   ],
   "source": [
    "%%writefile my_app.py\n",
    "\n",
    "import sys\n",
    "import argparse\n",
    "\n",
    "def main(user: str) -> None:\n",
    "    print(f\"Hello, {user}!\")\n",
    "\n",
    "if __name__ == \"__main__\":\n",
    "    parser = argparse.ArgumentParser(\n",
    "        description=\"Hello world app\"\n",
    "    )\n",
    "    parser.add_argument(\n",
    "        \"--user\",\n",
    "        type=str,\n",
    "        help=\"the person to greet\",\n",
    "        required=True,\n",
    "    )\n",
    "    args = parser.parse_args(sys.argv[1:])\n",
    "\n",
    "    main(args.user)"
   ]
  },
  {
   "cell_type": "markdown",
   "id": "9dcec461",
   "metadata": {},
   "source": [
    "Now that we have an app we can write the component file for it. This\n",
    "function allows us to reuse and share our app in a user friendly way.\n",
    "\n",
    "We can use this component from the `torchx` cli or programmatically as part of a\n",
    "pipeline."
   ]
  },
  {
   "cell_type": "code",
   "execution_count": 3,
   "id": "fc6f5ed0",
   "metadata": {
    "execution": {
     "iopub.execute_input": "2022-02-16T21:43:01.898950Z",
     "iopub.status.busy": "2022-02-16T21:43:01.898513Z",
     "iopub.status.idle": "2022-02-16T21:43:01.903637Z",
     "shell.execute_reply": "2022-02-16T21:43:01.902871Z"
    }
   },
   "outputs": [
    {
     "name": "stdout",
     "output_type": "stream",
     "text": [
      "Writing my_component.py\n"
     ]
    }
   ],
   "source": [
    "%%writefile my_component.py\n",
    "\n",
    "import torchx.specs as specs\n",
    "\n",
    "def greet(user: str, image: str = \"my_app:latest\") -> specs.AppDef:\n",
    "    return specs.AppDef(\n",
    "        name=\"hello_world\",\n",
    "        roles=[\n",
    "            specs.Role(\n",
    "                name=\"greeter\",\n",
    "                image=image,\n",
    "                entrypoint=\"python\",\n",
    "                args=[\n",
    "                    \"-m\", \"my_app\",\n",
    "                    \"--user\", user,\n",
    "                ],\n",
    "            )\n",
    "        ],\n",
    "    )"
   ]
  },
  {
   "cell_type": "markdown",
   "id": "aaed4357",
   "metadata": {},
   "source": [
    "We can execute our component via `torchx run`. The\n",
    "`local_cwd` scheduler executes the component relative to the current directory."
   ]
  },
  {
   "cell_type": "code",
   "execution_count": 4,
   "id": "137f5f49",
   "metadata": {
    "execution": {
     "iopub.execute_input": "2022-02-16T21:43:01.906770Z",
     "iopub.status.busy": "2022-02-16T21:43:01.906274Z",
     "iopub.status.idle": "2022-02-16T21:43:05.169879Z",
     "shell.execute_reply": "2022-02-16T21:43:05.169074Z"
    }
   },
   "outputs": [
    {
     "name": "stderr",
     "output_type": "stream",
     "text": [
      "torchx 2022-02-16 21:43:02 INFO     Log files located in: /tmp/torchx_3_omo3cg/torchx/hello_world-mcdgxwx9dzbjnc/greeter/0\n"
     ]
    },
    {
     "name": "stderr",
     "output_type": "stream",
     "text": [
      "torchx 2022-02-16 21:43:03 INFO     Waiting for the app to finish...\n"
     ]
    },
    {
     "name": "stderr",
     "output_type": "stream",
     "text": [
      "greeter/0 Hello, your name!\n"
     ]
    },
    {
     "name": "stderr",
     "output_type": "stream",
     "text": [
      "torchx 2022-02-16 21:43:04 INFO     Job finished: SUCCEEDED\n"
     ]
    },
    {
     "name": "stdout",
     "output_type": "stream",
     "text": [
      "local_cwd://torchx/hello_world-mcdgxwx9dzbjnc\n"
     ]
    }
   ],
   "source": [
    "%%sh\n",
    "torchx run --scheduler local_cwd my_component.py:greet --user \"your name\""
   ]
  },
  {
   "cell_type": "markdown",
   "id": "5ba840d2",
   "metadata": {},
   "source": [
    "If we want to run in other environments, we can build a Docker container so we\n",
    "can run our component in Docker enabled environments such as Kubernetes or via\n",
    "the local Docker scheduler.\n",
    "\n",
    "<div class=\"admonition note\">\n",
    "<div class=\"admonition-title\">Note</div>\n",
    "This requires Docker installed and won't work in environments such as Google\n",
    "Colab. If you have not done so already follow the install instructions on:\n",
    "[https://docs.docker.com/get-docker/](https://docs.docker.com/get-docker/)</a>\n",
    "</div>"
   ]
  },
  {
   "cell_type": "code",
   "execution_count": 5,
   "id": "3ca80cac",
   "metadata": {
    "execution": {
     "iopub.execute_input": "2022-02-16T21:43:05.174378Z",
     "iopub.status.busy": "2022-02-16T21:43:05.173864Z",
     "iopub.status.idle": "2022-02-16T21:43:05.179709Z",
     "shell.execute_reply": "2022-02-16T21:43:05.179083Z"
    }
   },
   "outputs": [
    {
     "name": "stdout",
     "output_type": "stream",
     "text": [
      "Writing Dockerfile\n"
     ]
    }
   ],
   "source": [
    "%%writefile Dockerfile\n",
    "\n",
    "FROM ghcr.io/pytorch/torchx:0.1.0rc1\n",
    "\n",
    "ADD my_app.py ."
   ]
  },
  {
   "cell_type": "markdown",
   "id": "145d4135",
   "metadata": {},
   "source": [
    "Once we have the Dockerfile created we can create our docker image."
   ]
  },
  {
   "cell_type": "code",
   "execution_count": 6,
   "id": "a7473e7d",
   "metadata": {
    "execution": {
     "iopub.execute_input": "2022-02-16T21:43:05.183698Z",
     "iopub.status.busy": "2022-02-16T21:43:05.183064Z",
     "iopub.status.idle": "2022-02-16T21:45:35.006845Z",
     "shell.execute_reply": "2022-02-16T21:45:35.006120Z"
    }
   },
   "outputs": [
    {
     "name": "stdout",
     "output_type": "stream",
     "text": [
      "Sending build context to Docker daemon  22.32MB\r",
      "\r\n"
     ]
    },
    {
     "name": "stdout",
     "output_type": "stream",
     "text": [
      "Step 1/2 : FROM ghcr.io/pytorch/torchx:0.1.0rc1\n"
     ]
    },
    {
     "name": "stdout",
     "output_type": "stream",
     "text": [
      "0.1.0rc1: Pulling from pytorch/torchx\n"
     ]
    },
    {
     "name": "stdout",
     "output_type": "stream",
     "text": [
      "4bbfd2c87b75: Pulling fs layer\n"
     ]
    },
    {
     "name": "stdout",
     "output_type": "stream",
     "text": [
      "d2e110be24e1: Pulling fs layer\n"
     ]
    },
    {
     "name": "stdout",
     "output_type": "stream",
     "text": [
      "889a7173dcfe: Pulling fs layer\n"
     ]
    },
    {
     "name": "stdout",
     "output_type": "stream",
     "text": [
      "6009a622672a: Pulling fs layer\n"
     ]
    },
    {
     "name": "stdout",
     "output_type": "stream",
     "text": [
      "143f80195431: Pulling fs layer\n"
     ]
    },
    {
     "name": "stdout",
     "output_type": "stream",
     "text": [
      "eccbe17c44e1: Pulling fs layer\n"
     ]
    },
    {
     "name": "stdout",
     "output_type": "stream",
     "text": [
      "d4c7af0d4fa7: Pulling fs layer\n"
     ]
    },
    {
     "name": "stdout",
     "output_type": "stream",
     "text": [
      "06b5edd6bf52: Pulling fs layer\n"
     ]
    },
    {
     "name": "stdout",
     "output_type": "stream",
     "text": [
      "f18d016c4ccc: Pulling fs layer\n"
     ]
    },
    {
     "name": "stdout",
     "output_type": "stream",
     "text": [
      "c0ad16d9fa05: Pulling fs layer\n"
     ]
    },
    {
     "name": "stdout",
     "output_type": "stream",
     "text": [
      "30587ba7fd6b: Pulling fs layer\n"
     ]
    },
    {
     "name": "stdout",
     "output_type": "stream",
     "text": [
      "909695be1d50: Pulling fs layer\n"
     ]
    },
    {
     "name": "stdout",
     "output_type": "stream",
     "text": [
      "f119a6d0a466: Pulling fs layer\n"
     ]
    },
    {
     "name": "stdout",
     "output_type": "stream",
     "text": [
      "88d87059c913: Pulling fs layer\n"
     ]
    },
    {
     "name": "stdout",
     "output_type": "stream",
     "text": [
      "143f80195431: Waiting\n"
     ]
    },
    {
     "name": "stdout",
     "output_type": "stream",
     "text": [
      "eccbe17c44e1: Waiting\n"
     ]
    },
    {
     "name": "stdout",
     "output_type": "stream",
     "text": [
      "d4c7af0d4fa7: Waiting\n"
     ]
    },
    {
     "name": "stdout",
     "output_type": "stream",
     "text": [
      "06b5edd6bf52: Waiting\n"
     ]
    },
    {
     "name": "stdout",
     "output_type": "stream",
     "text": [
      "f18d016c4ccc: Waiting\n"
     ]
    },
    {
     "name": "stdout",
     "output_type": "stream",
     "text": [
      "c0ad16d9fa05: Waiting\n"
     ]
    },
    {
     "name": "stdout",
     "output_type": "stream",
     "text": [
      "30587ba7fd6b: Waiting\n"
     ]
    },
    {
     "name": "stdout",
     "output_type": "stream",
     "text": [
      "909695be1d50: Waiting\n"
     ]
    },
    {
     "name": "stdout",
     "output_type": "stream",
     "text": [
      "f119a6d0a466: Waiting\n"
     ]
    },
    {
     "name": "stdout",
     "output_type": "stream",
     "text": [
      "88d87059c913: Waiting\n"
     ]
    },
    {
     "name": "stdout",
     "output_type": "stream",
     "text": [
      "889a7173dcfe: Verifying Checksum\n"
     ]
    },
    {
     "name": "stdout",
     "output_type": "stream",
     "text": [
      "889a7173dcfe: Download complete\n"
     ]
    },
    {
     "name": "stdout",
     "output_type": "stream",
     "text": [
      "d2e110be24e1: Verifying Checksum\n"
     ]
    },
    {
     "name": "stdout",
     "output_type": "stream",
     "text": [
      "d2e110be24e1: Download complete\n"
     ]
    },
    {
     "name": "stdout",
     "output_type": "stream",
     "text": [
      "4bbfd2c87b75: Verifying Checksum\n"
     ]
    },
    {
     "name": "stdout",
     "output_type": "stream",
     "text": [
      "4bbfd2c87b75: Download complete\n"
     ]
    },
    {
     "name": "stdout",
     "output_type": "stream",
     "text": [
      "6009a622672a: Verifying Checksum\n"
     ]
    },
    {
     "name": "stdout",
     "output_type": "stream",
     "text": [
      "6009a622672a: Download complete\n"
     ]
    },
    {
     "name": "stdout",
     "output_type": "stream",
     "text": [
      "eccbe17c44e1: Verifying Checksum\n"
     ]
    },
    {
     "name": "stdout",
     "output_type": "stream",
     "text": [
      "eccbe17c44e1: Download complete\n"
     ]
    },
    {
     "name": "stdout",
     "output_type": "stream",
     "text": [
      "06b5edd6bf52: Verifying Checksum\n"
     ]
    },
    {
     "name": "stdout",
     "output_type": "stream",
     "text": [
      "06b5edd6bf52: Download complete\n"
     ]
    },
    {
     "name": "stdout",
     "output_type": "stream",
     "text": [
      "d4c7af0d4fa7: Verifying Checksum\n"
     ]
    },
    {
     "name": "stdout",
     "output_type": "stream",
     "text": [
      "d4c7af0d4fa7: Download complete\n"
     ]
    },
    {
     "name": "stdout",
     "output_type": "stream",
     "text": [
      "c0ad16d9fa05: Verifying Checksum\n"
     ]
    },
    {
     "name": "stdout",
     "output_type": "stream",
     "text": [
      "c0ad16d9fa05: Download complete\n"
     ]
    },
    {
     "name": "stdout",
     "output_type": "stream",
     "text": [
      "30587ba7fd6b: Verifying Checksum\n"
     ]
    },
    {
     "name": "stdout",
     "output_type": "stream",
     "text": [
      "30587ba7fd6b: Download complete\n"
     ]
    },
    {
     "name": "stdout",
     "output_type": "stream",
     "text": [
      "909695be1d50: Verifying Checksum\n"
     ]
    },
    {
     "name": "stdout",
     "output_type": "stream",
     "text": [
      "909695be1d50: Download complete\n"
     ]
    },
    {
     "name": "stdout",
     "output_type": "stream",
     "text": [
      "f119a6d0a466: Verifying Checksum\n"
     ]
    },
    {
     "name": "stdout",
     "output_type": "stream",
     "text": [
      "f119a6d0a466: Download complete\n"
     ]
    },
    {
     "name": "stdout",
     "output_type": "stream",
     "text": [
      "88d87059c913: Verifying Checksum\n"
     ]
    },
    {
     "name": "stdout",
     "output_type": "stream",
     "text": [
      "88d87059c913: Download complete\n"
     ]
    },
    {
     "name": "stdout",
     "output_type": "stream",
     "text": [
      "4bbfd2c87b75: Pull complete\n"
     ]
    },
    {
     "name": "stdout",
     "output_type": "stream",
     "text": [
      "d2e110be24e1: Pull complete\n"
     ]
    },
    {
     "name": "stdout",
     "output_type": "stream",
     "text": [
      "889a7173dcfe: Pull complete\n"
     ]
    },
    {
     "name": "stdout",
     "output_type": "stream",
     "text": [
      "f18d016c4ccc: Verifying Checksum\n"
     ]
    },
    {
     "name": "stdout",
     "output_type": "stream",
     "text": [
      "f18d016c4ccc: Download complete\n"
     ]
    },
    {
     "name": "stdout",
     "output_type": "stream",
     "text": [
      "143f80195431: Verifying Checksum\n"
     ]
    },
    {
     "name": "stdout",
     "output_type": "stream",
     "text": [
      "143f80195431: Download complete\n"
     ]
    },
    {
     "name": "stdout",
     "output_type": "stream",
     "text": [
      "6009a622672a: Pull complete\n"
     ]
    },
    {
     "name": "stdout",
     "output_type": "stream",
     "text": [
      "143f80195431: Pull complete\n"
     ]
    },
    {
     "name": "stdout",
     "output_type": "stream",
     "text": [
      "eccbe17c44e1: Pull complete\n"
     ]
    },
    {
     "name": "stdout",
     "output_type": "stream",
     "text": [
      "d4c7af0d4fa7: Pull complete\n"
     ]
    },
    {
     "name": "stdout",
     "output_type": "stream",
     "text": [
      "06b5edd6bf52: Pull complete\n"
     ]
    },
    {
     "name": "stdout",
     "output_type": "stream",
     "text": [
      "f18d016c4ccc: Pull complete\n"
     ]
    },
    {
     "name": "stdout",
     "output_type": "stream",
     "text": [
      "c0ad16d9fa05: Pull complete\n"
     ]
    },
    {
     "name": "stdout",
     "output_type": "stream",
     "text": [
      "30587ba7fd6b: Pull complete\n"
     ]
    },
    {
     "name": "stdout",
     "output_type": "stream",
     "text": [
      "909695be1d50: Pull complete\n"
     ]
    },
    {
     "name": "stdout",
     "output_type": "stream",
     "text": [
      "f119a6d0a466: Pull complete\n"
     ]
    },
    {
     "name": "stdout",
     "output_type": "stream",
     "text": [
      "88d87059c913: Pull complete\n"
     ]
    },
    {
     "name": "stdout",
     "output_type": "stream",
     "text": [
      "Digest: sha256:a738949601d82e7f100fa1efeb8dde0c35ce44c66726cf38596f96d78dcd7ad3\n"
     ]
    },
    {
     "name": "stdout",
     "output_type": "stream",
     "text": [
      "Status: Downloaded newer image for ghcr.io/pytorch/torchx:0.1.0rc1\n"
     ]
    },
    {
     "name": "stdout",
     "output_type": "stream",
     "text": [
      " ---> 3dbec59e8049\n"
     ]
    },
    {
     "name": "stdout",
     "output_type": "stream",
     "text": [
      "Step 2/2 : ADD my_app.py .\n"
     ]
    },
    {
     "name": "stdout",
     "output_type": "stream",
     "text": [
      " ---> 3107b8b8f534\n"
     ]
    },
    {
     "name": "stdout",
     "output_type": "stream",
     "text": [
      "Successfully built 3107b8b8f534\n"
     ]
    },
    {
     "name": "stdout",
     "output_type": "stream",
     "text": [
      "Successfully tagged my_app:latest\n"
     ]
    }
   ],
   "source": [
    "%%sh\n",
    "docker build -t my_app:latest -f Dockerfile ."
   ]
  },
  {
   "cell_type": "markdown",
   "id": "4fbb4e61",
   "metadata": {},
   "source": [
    "We can then launch it on the local scheduler."
   ]
  },
  {
   "cell_type": "code",
   "execution_count": 7,
   "id": "935939c2",
   "metadata": {
    "execution": {
     "iopub.execute_input": "2022-02-16T21:45:35.011904Z",
     "iopub.status.busy": "2022-02-16T21:45:35.011669Z",
     "iopub.status.idle": "2022-02-16T21:45:49.339326Z",
     "shell.execute_reply": "2022-02-16T21:45:49.338495Z"
    }
   },
   "outputs": [
    {
     "name": "stderr",
     "output_type": "stream",
     "text": [
      "torchx 2022-02-16 21:45:36 INFO     Building workspace: file:///home/runner/work/torchx/torchx/docs/source for role[0]: greeter, image: my_app:latest\n"
     ]
    },
    {
     "name": "stderr",
     "output_type": "stream",
     "text": [
      "torchx 2022-02-16 21:45:45 INFO     Done building workspace\n"
     ]
    },
    {
     "name": "stderr",
     "output_type": "stream",
     "text": [
      "torchx 2022-02-16 21:45:45 INFO     New image: sha256:676a89ace76d62956aa87666464a7cf033decf951b777ff38db61db26b04a463 built from workspace\n"
     ]
    },
    {
     "name": "stderr",
     "output_type": "stream",
     "text": [
      "torchx 2022-02-16 21:45:47 INFO     Pulling container image: sha256:676a89ace76d62956aa87666464a7cf033decf951b777ff38db61db26b04a463 (this may take a while)\n"
     ]
    },
    {
     "name": "stderr",
     "output_type": "stream",
     "text": [
      "torchx 2022-02-16 21:45:47 WARNING  failed to pull image sha256:676a89ace76d62956aa87666464a7cf033decf951b777ff38db61db26b04a463, falling back to local: 404 Client Error for http+docker://localhost/v1.41/images/create?tag=676a89ace76d62956aa87666464a7cf033decf951b777ff38db61db26b04a463&fromImage=sha256: Not Found (\"pull access denied for sha256, repository does not exist or may require 'docker login': denied: requested access to the resource is denied\")\n"
     ]
    },
    {
     "name": "stderr",
     "output_type": "stream",
     "text": [
      "torchx 2022-02-16 21:45:48 INFO     Waiting for the app to finish...\n"
     ]
    },
    {
     "name": "stderr",
     "output_type": "stream",
     "text": [
      "greeter/0 Hello, your name!\n"
     ]
    },
    {
     "name": "stderr",
     "output_type": "stream",
     "text": [
      "torchx 2022-02-16 21:45:49 INFO     Job finished: SUCCEEDED\n"
     ]
    },
    {
     "name": "stdout",
     "output_type": "stream",
     "text": [
      "local_docker://torchx/hello_world-mlvfwsbg552ktd\n"
     ]
    }
   ],
   "source": [
    "%%sh\n",
    "torchx run --scheduler local_docker my_component.py:greet --image \"my_app:latest\" --user \"your name\""
   ]
  },
  {
   "cell_type": "markdown",
   "id": "8283dc32",
   "metadata": {},
   "source": [
    "If you have a Kubernetes cluster you can use the [Kubernetes scheduler](schedulers/kubernetes.rst) to launch\n",
    "this on the cluster instead.\n"
   ]
  },
  {
   "cell_type": "markdown",
   "id": "b2947db6",
   "metadata": {
    "lines_to_next_cell": 2,
    "region_name": "md"
   },
   "source": [
    "```sh\n",
    "$ docker push my_app:latest\n",
    "$ torchx run --scheduler kubernetes my_component.py:greet --image \"my_app:latest\" --user \"your name\"\n",
    "```"
   ]
  },
  {
   "cell_type": "markdown",
   "id": "8f1718c6",
   "metadata": {},
   "source": [
    "## Builtins\n",
    "\n",
    "TorchX also provides a number of builtin components with premade images. You can discover\n",
    "them via:"
   ]
  },
  {
   "cell_type": "code",
   "execution_count": 8,
   "id": "c0137365",
   "metadata": {
    "execution": {
     "iopub.execute_input": "2022-02-16T21:45:49.344119Z",
     "iopub.status.busy": "2022-02-16T21:45:49.343467Z",
     "iopub.status.idle": "2022-02-16T21:45:51.193289Z",
     "shell.execute_reply": "2022-02-16T21:45:51.192443Z"
    }
   },
   "outputs": [
    {
     "name": "stdout",
     "output_type": "stream",
     "text": [
      "Found 10 builtin components:\n"
     ]
    },
    {
     "name": "stdout",
     "output_type": "stream",
     "text": [
      "  1. dist.ddp\n"
     ]
    },
    {
     "name": "stdout",
     "output_type": "stream",
     "text": [
      "  2. utils.binary\n"
     ]
    },
    {
     "name": "stdout",
     "output_type": "stream",
     "text": [
      "  3. utils.booth\n"
     ]
    },
    {
     "name": "stdout",
     "output_type": "stream",
     "text": [
      "  4. utils.copy\n"
     ]
    },
    {
     "name": "stdout",
     "output_type": "stream",
     "text": [
      "  5. utils.echo\n"
     ]
    },
    {
     "name": "stdout",
     "output_type": "stream",
     "text": [
      "  6. utils.python\n"
     ]
    },
    {
     "name": "stdout",
     "output_type": "stream",
     "text": [
      "  7. utils.sh\n"
     ]
    },
    {
     "name": "stdout",
     "output_type": "stream",
     "text": [
      "  8. utils.touch\n"
     ]
    },
    {
     "name": "stdout",
     "output_type": "stream",
     "text": [
      "  9. metrics.tensorboard\n"
     ]
    },
    {
     "name": "stdout",
     "output_type": "stream",
     "text": [
      " 10. serve.torchserve\n"
     ]
    }
   ],
   "source": [
    "%%sh\n",
    "torchx builtins"
   ]
  },
  {
   "cell_type": "markdown",
   "id": "64543d84",
   "metadata": {},
   "source": [
    "You can use these either from the CLI, from a pipeline or programmatically like\n",
    "you would any other component."
   ]
  },
  {
   "cell_type": "code",
   "execution_count": 9,
   "id": "d9ebbbb4",
   "metadata": {
    "execution": {
     "iopub.execute_input": "2022-02-16T21:45:51.198092Z",
     "iopub.status.busy": "2022-02-16T21:45:51.197649Z",
     "iopub.status.idle": "2022-02-16T21:45:56.554877Z",
     "shell.execute_reply": "2022-02-16T21:45:56.553917Z"
    },
    "lines_to_next_cell": 2
   },
   "outputs": [
    {
     "name": "stderr",
     "output_type": "stream",
     "text": [
      "torchx 2022-02-16 21:45:53 INFO     Building workspace: file:///home/runner/work/torchx/torchx/docs/source for role[0]: echo, image: ghcr.io/pytorch/torchx:0.1.2dev0\n"
     ]
    },
    {
     "name": "stderr",
     "output_type": "stream",
     "text": [
      "torchx 2022-02-16 21:45:53 INFO     Done building workspace\n"
     ]
    },
    {
     "name": "stderr",
     "output_type": "stream",
     "text": [
      "torchx 2022-02-16 21:45:53 INFO     New image: sha256:676a89ace76d62956aa87666464a7cf033decf951b777ff38db61db26b04a463 built from workspace\n"
     ]
    },
    {
     "name": "stderr",
     "output_type": "stream",
     "text": [
      "torchx 2022-02-16 21:45:54 INFO     Pulling container image: sha256:676a89ace76d62956aa87666464a7cf033decf951b777ff38db61db26b04a463 (this may take a while)\n"
     ]
    },
    {
     "name": "stderr",
     "output_type": "stream",
     "text": [
      "torchx 2022-02-16 21:45:54 WARNING  failed to pull image sha256:676a89ace76d62956aa87666464a7cf033decf951b777ff38db61db26b04a463, falling back to local: 404 Client Error for http+docker://localhost/v1.41/images/create?tag=676a89ace76d62956aa87666464a7cf033decf951b777ff38db61db26b04a463&fromImage=sha256: Not Found (\"pull access denied for sha256, repository does not exist or may require 'docker login': denied: requested access to the resource is denied\")\n"
     ]
    },
    {
     "name": "stderr",
     "output_type": "stream",
     "text": [
      "torchx 2022-02-16 21:45:55 INFO     Waiting for the app to finish...\n"
     ]
    },
    {
     "name": "stderr",
     "output_type": "stream",
     "text": [
      "echo/0 Hello :)\n"
     ]
    },
    {
     "name": "stderr",
     "output_type": "stream",
     "text": [
      "torchx 2022-02-16 21:45:56 INFO     Job finished: SUCCEEDED\n"
     ]
    },
    {
     "name": "stdout",
     "output_type": "stream",
     "text": [
      "local_docker://torchx/echo-ksr6429bc65t5c\n"
     ]
    }
   ],
   "source": [
    "%%sh\n",
    "torchx run utils.echo --msg \"Hello :)\""
   ]
  },
  {
   "cell_type": "markdown",
   "id": "a0bf24f7",
   "metadata": {},
   "source": [
    "## Next Steps\n",
    "\n",
    "1. Checkout other features of the [torchx CLI](cli.rst)\n",
    "2. Learn how to author more complex app specs by referencing [specs](specs.rst)\n",
    "3. Browse through the collection of [builtin components](components/overview.rst)\n",
    "4. Take a look at the [list of schedulers](schedulers.rst) supported by the runner\n",
    "5. See which [ML pipeline platforms](pipelines.rst) you can run components on\n",
    "6. See a [training app example](examples_apps/index.rst)"
   ]
  }
 ],
 "metadata": {
  "jupytext": {
   "text_representation": {
    "extension": ".md",
    "format_name": "markdown",
    "format_version": "1.1",
    "jupytext_version": "1.1.0"
   }
  },
  "kernelspec": {
   "display_name": "Python 3",
   "language": "python",
   "name": "python3"
  },
  "language_info": {
   "codemirror_mode": {
    "name": "ipython",
    "version": 3
   },
   "file_extension": ".py",
   "mimetype": "text/x-python",
   "name": "python",
   "nbconvert_exporter": "python",
   "pygments_lexer": "ipython3",
   "version": "3.8.12"
  }
 },
 "nbformat": 4,
 "nbformat_minor": 5
}
