{
 "cells": [
  {
   "cell_type": "markdown",
   "id": "092d74fb",
   "metadata": {},
   "source": [
    "# Airflow\n",
    "\n",
    "For pipelines that support Python based execution you can directly use the\n",
    "TorchX API. TorchX is designed to be easily integrated in to other applications\n",
    "via the programmatic API. No special Airflow integrations are needed.\n",
    "\n",
    "With TorchX, you can use Airflow for the pipeline orchestration and run your\n",
    "PyTorch application (i.e. distributed training) on a remote GPU cluster."
   ]
  },
  {
   "cell_type": "code",
   "execution_count": 1,
   "id": "2f9bf59c",
   "metadata": {
    "execution": {
     "iopub.execute_input": "2023-10-05T00:06:09.873830Z",
     "iopub.status.busy": "2023-10-05T00:06:09.873281Z",
     "iopub.status.idle": "2023-10-05T00:06:10.443494Z",
     "shell.execute_reply": "2023-10-05T00:06:10.442861Z"
    }
   },
   "outputs": [],
   "source": [
    "import datetime\n",
    "import pendulum\n",
    "\n",
    "from airflow.utils.state import DagRunState, TaskInstanceState\n",
    "from airflow.utils.types import DagRunType\n",
    "from airflow.models.dag import DAG\n",
    "from airflow.decorators import task\n",
    "\n",
    "\n",
    "DATA_INTERVAL_START = pendulum.datetime(2021, 9, 13, tz=\"UTC\")\n",
    "DATA_INTERVAL_END = DATA_INTERVAL_START + datetime.timedelta(days=1)"
   ]
  },
  {
   "cell_type": "markdown",
   "id": "3fa93edf",
   "metadata": {},
   "source": [
    "To launch a TorchX job from Airflow you can create a Airflow Python task to\n",
    "import the runner, launch the job and wait for it to complete. If you're running\n",
    "on a remote cluster you may need to use the virtualenv task to install the\n",
    "`torchx` package."
   ]
  },
  {
   "cell_type": "code",
   "execution_count": 2,
   "id": "4b996eef",
   "metadata": {
    "execution": {
     "iopub.execute_input": "2023-10-05T00:06:10.446564Z",
     "iopub.status.busy": "2023-10-05T00:06:10.446185Z",
     "iopub.status.idle": "2023-10-05T00:06:10.450910Z",
     "shell.execute_reply": "2023-10-05T00:06:10.450354Z"
    }
   },
   "outputs": [],
   "source": [
    "@task(task_id=f'hello_torchx')\n",
    "def run_torchx(message):\n",
    "    \"\"\"This is a function that will run within the DAG execution\"\"\"\n",
    "    from torchx.runner import get_runner\n",
    "    with get_runner() as runner:\n",
    "        # Run the utils.sh component on the local_cwd scheduler.\n",
    "        app_id = runner.run_component(\n",
    "            \"utils.sh\",\n",
    "            [\"echo\", message],\n",
    "            scheduler=\"local_cwd\",\n",
    "        )\n",
    "\n",
    "        # Wait for the the job to complete\n",
    "        status = runner.wait(app_id, wait_interval=1)\n",
    "\n",
    "        # Raise_for_status will raise an exception if the job didn't succeed\n",
    "        status.raise_for_status()\n",
    "\n",
    "        # Finally we can print all of the log lines from the TorchX job so it\n",
    "        # will show up in the workflow logs.\n",
    "        for line in runner.log_lines(app_id, \"sh\", k=0):\n",
    "            print(line, end=\"\")"
   ]
  },
  {
   "cell_type": "markdown",
   "id": "82494967",
   "metadata": {},
   "source": [
    "Once we have the task defined we can put it into a Airflow DAG and run it like\n",
    "normal."
   ]
  },
  {
   "cell_type": "code",
   "execution_count": 3,
   "id": "3c9e338f",
   "metadata": {
    "execution": {
     "iopub.execute_input": "2023-10-05T00:06:10.453387Z",
     "iopub.status.busy": "2023-10-05T00:06:10.453019Z",
     "iopub.status.idle": "2023-10-05T00:06:11.729817Z",
     "shell.execute_reply": "2023-10-05T00:06:11.729124Z"
    }
   },
   "outputs": [
    {
     "data": {
      "text/html": [
       "<pre style=\"white-space:pre;overflow-x:auto;line-height:normal;font-family:Menlo,'DejaVu Sans Mono',consolas,'Courier New',monospace\"><span style=\"color: #808000; text-decoration-color: #808000; font-weight: bold\">/tmp/ipykernel_4756/454499020.py:</span><span style=\"color: #808000; text-decoration-color: #808000; font-weight: bold\">3</span><span style=\"color: #808000; text-decoration-color: #808000; font-weight: bold\"> RemovedInAirflow3Warning</span><span style=\"color: #808000; text-decoration-color: #808000\">: Param `schedule_interval` is deprecated and will be removed in a future release. Please use `schedule` instead.</span>\n",
       "</pre>\n"
      ],
      "text/plain": [
       "\u001b[1;33m/tmp/ipykernel_4756/\u001b[0m\u001b[1;33m454499020.py\u001b[0m\u001b[1;33m:\u001b[0m\u001b[1;33m3\u001b[0m\u001b[1;33m RemovedInAirflow3Warning\u001b[0m\u001b[33m: Param `schedule_interval` is deprecated and will be removed in a future release. Please use `schedule` instead.\u001b[0m\n"
      ]
     },
     "metadata": {},
     "output_type": "display_data"
    },
    {
     "name": "stdout",
     "output_type": "stream",
     "text": [
      "[\u001b[34m2023-10-05T00:06:10.663+0000\u001b[0m] {\u001b[34mtaskinstance.py:\u001b[0m1157} INFO\u001b[0m - Dependencies all met for dep_context=non-requeueable deps ti=<TaskInstance: example_python_operator-ghplp63j2hfppd.hello_torchx manual__2021-09-13T00:00:00+00:00 [None]>\u001b[0m\n"
     ]
    },
    {
     "name": "stdout",
     "output_type": "stream",
     "text": [
      "[\u001b[34m2023-10-05T00:06:10.670+0000\u001b[0m] {\u001b[34mtaskinstance.py:\u001b[0m1157} INFO\u001b[0m - Dependencies all met for dep_context=requeueable deps ti=<TaskInstance: example_python_operator-ghplp63j2hfppd.hello_torchx manual__2021-09-13T00:00:00+00:00 [None]>\u001b[0m\n"
     ]
    },
    {
     "name": "stdout",
     "output_type": "stream",
     "text": [
      "[\u001b[34m2023-10-05T00:06:10.671+0000\u001b[0m] {\u001b[34mtaskinstance.py:\u001b[0m1359} INFO\u001b[0m - Starting attempt 1 of 1\u001b[0m\n"
     ]
    },
    {
     "name": "stdout",
     "output_type": "stream",
     "text": [
      "[\u001b[34m2023-10-05T00:06:10.671+0000\u001b[0m] {\u001b[34mtaskinstance.py:\u001b[0m1428} WARNING\u001b[0m - cannot record queued_duration for task hello_torchx because previous state change time has not been saved\u001b[0m\n"
     ]
    },
    {
     "name": "stdout",
     "output_type": "stream",
     "text": [
      "[\u001b[34m2023-10-05T00:06:10.681+0000\u001b[0m] {\u001b[34mtaskinstance.py:\u001b[0m1380} INFO\u001b[0m - Executing <Task(_PythonDecoratedOperator): hello_torchx> on 2021-09-13 00:00:00+00:00\u001b[0m\n"
     ]
    },
    {
     "name": "stdout",
     "output_type": "stream",
     "text": [
      "[\u001b[34m2023-10-05T00:06:10.948+0000\u001b[0m] {\u001b[34mtaskinstance.py:\u001b[0m1660} INFO\u001b[0m - Exporting env vars: AIRFLOW_CTX_DAG_OWNER='airflow' AIRFLOW_CTX_DAG_ID='example_python_operator-ghplp63j2hfppd' AIRFLOW_CTX_TASK_ID='hello_torchx' AIRFLOW_CTX_EXECUTION_DATE='2021-09-13T00:00:00+00:00' AIRFLOW_CTX_TRY_NUMBER='1' AIRFLOW_CTX_DAG_RUN_ID='manual__2021-09-13T00:00:00+00:00'\u001b[0m\n"
     ]
    },
    {
     "name": "stdout",
     "output_type": "stream",
     "text": [
      "[\u001b[34m2023-10-05T00:06:11.605+0000\u001b[0m] {\u001b[34mapi.py:\u001b[0m70} INFO\u001b[0m - Tracker configurations: {}\u001b[0m\n"
     ]
    },
    {
     "name": "stdout",
     "output_type": "stream",
     "text": [
      "[\u001b[34m2023-10-05T00:06:11.608+0000\u001b[0m] {\u001b[34mlocal_scheduler.py:\u001b[0m716} INFO\u001b[0m - Log directory not set in scheduler cfg. Creating a temporary log dir that will be deleted on exit. To preserve log directory set the `log_dir` cfg option\u001b[0m\n"
     ]
    },
    {
     "name": "stdout",
     "output_type": "stream",
     "text": [
      "[\u001b[34m2023-10-05T00:06:11.609+0000\u001b[0m] {\u001b[34mlocal_scheduler.py:\u001b[0m722} INFO\u001b[0m - Log directory is: /tmp/torchx_pnkpzd0v\u001b[0m\n"
     ]
    },
    {
     "name": "stdout",
     "output_type": "stream",
     "text": [
      "Hello, TorchX!\n",
      "[\u001b[34m2023-10-05T00:06:11.717+0000\u001b[0m] {\u001b[34mpython.py:\u001b[0m194} INFO\u001b[0m - Done. Returned value was: None\u001b[0m\n"
     ]
    },
    {
     "name": "stdout",
     "output_type": "stream",
     "text": [
      "[\u001b[34m2023-10-05T00:06:11.721+0000\u001b[0m] {\u001b[34mtaskinstance.py:\u001b[0m1398} INFO\u001b[0m - Marking task as SUCCESS. dag_id=example_python_operator-ghplp63j2hfppd, task_id=hello_torchx, execution_date=20210913T000000, start_date=20231005T000610, end_date=20231005T000611\u001b[0m\n"
     ]
    }
   ],
   "source": [
    "from torchx.schedulers.ids import make_unique\n",
    "\n",
    "with DAG(\n",
    "    dag_id=make_unique('example_python_operator'),\n",
    "    schedule_interval=None,\n",
    "    start_date=DATA_INTERVAL_START,\n",
    "    catchup=False,\n",
    "    tags=['example'],\n",
    ") as dag:\n",
    "    run_job = run_torchx(\"Hello, TorchX!\")\n",
    "\n",
    "\n",
    "dagrun = dag.create_dagrun(\n",
    "    state=DagRunState.RUNNING,\n",
    "    execution_date=DATA_INTERVAL_START,\n",
    "    data_interval=(DATA_INTERVAL_START, DATA_INTERVAL_END),\n",
    "    start_date=DATA_INTERVAL_END,\n",
    "    run_type=DagRunType.MANUAL,\n",
    ")\n",
    "ti = dagrun.get_task_instance(task_id=\"hello_torchx\")\n",
    "ti.task = dag.get_task(task_id=\"hello_torchx\")\n",
    "ti.run(ignore_ti_state=True)\n",
    "assert ti.state == TaskInstanceState.SUCCESS"
   ]
  },
  {
   "cell_type": "markdown",
   "id": "0b42a74b",
   "metadata": {},
   "source": [
    "If all goes well you should see `Hello, TorchX!` printed above.\n",
    "\n",
    "## Next Steps\n",
    "\n",
    "* Checkout the [runner API documentation](../runner.rst) to learn more about\n",
    "  programmatic usage of TorchX\n",
    "* Browse through the collection of [builtin components](../components/overview.rst)\n",
    "  which can be used in your Airflow pipeline"
   ]
  }
 ],
 "metadata": {
  "jupytext": {
   "text_representation": {
    "extension": ".md",
    "format_name": "markdown",
    "format_version": "1.3",
    "jupytext_version": "1.13.7"
   }
  },
  "kernelspec": {
   "display_name": "Python 3",
   "language": "python",
   "name": "python3"
  },
  "language_info": {
   "codemirror_mode": {
    "name": "ipython",
    "version": 3
   },
   "file_extension": ".py",
   "mimetype": "text/x-python",
   "name": "python",
   "nbconvert_exporter": "python",
   "pygments_lexer": "ipython3",
   "version": "3.8.18"
  }
 },
 "nbformat": 4,
 "nbformat_minor": 5
}
