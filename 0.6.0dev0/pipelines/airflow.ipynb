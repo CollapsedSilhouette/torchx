{
 "cells": [
  {
   "cell_type": "markdown",
   "id": "c4d45ef9",
   "metadata": {},
   "source": [
    "# Airflow\n",
    "\n",
    "For pipelines that support Python based execution you can directly use the\n",
    "TorchX API. TorchX is designed to be easily integrated in to other applications\n",
    "via the programmatic API. No special Airflow integrations are needed.\n",
    "\n",
    "With TorchX, you can use Airflow for the pipeline orchestration and run your\n",
    "PyTorch application (i.e. distributed training) on a remote GPU cluster."
   ]
  },
  {
   "cell_type": "code",
   "execution_count": 1,
   "id": "719ccbf0",
   "metadata": {
    "execution": {
     "iopub.execute_input": "2023-04-19T23:35:31.531792Z",
     "iopub.status.busy": "2023-04-19T23:35:31.531489Z",
     "iopub.status.idle": "2023-04-19T23:35:32.485172Z",
     "shell.execute_reply": "2023-04-19T23:35:32.484363Z"
    }
   },
   "outputs": [
    {
     "data": {
      "text/html": [
       "<pre style=\"white-space:pre;overflow-x:auto;line-height:normal;font-family:Menlo,'DejaVu Sans Mono',consolas,'Courier New',monospace\"><span style=\"color: #808000; text-decoration-color: #808000; font-weight: bold\">/opt/hostedtoolcache/Python/3.8.16/x64/lib/python3.8/site-packages/airflow/models/base.py:</span><span style=\"color: #808000; text-decoration-color: #808000; font-weight: bold\">49</span><span style=\"color: #808000; text-decoration-color: #808000; font-weight: bold\"> MovedIn20Warning</span><span style=\"color: #808000; text-decoration-color: #808000\">: Deprecated API features detected! These </span><span style=\"color: #808000; text-decoration-color: #808000; font-weight: bold\">feature(</span><span style=\"color: #808000; text-decoration-color: #808000\">s</span><span style=\"color: #808000; text-decoration-color: #808000; font-weight: bold\">)</span><span style=\"color: #808000; text-decoration-color: #808000\"> are not compatible with SQLAlchemy </span><span style=\"color: #808000; text-decoration-color: #808000; font-weight: bold\">2.0</span><span style=\"color: #808000; text-decoration-color: #808000\">. To prevent incompatible upgrades prior to updating applications, ensure requirements files are pinned to </span><span style=\"color: #808000; text-decoration-color: #808000\">\"sqlalchemy&lt;2.0\"</span><span style=\"color: #808000; text-decoration-color: #808000\">. Set environment variable </span><span style=\"color: #808000; text-decoration-color: #808000\">SQLALCHEMY_WARN_20</span><span style=\"color: #808000; text-decoration-color: #808000\">=</span><span style=\"color: #808000; text-decoration-color: #808000; font-weight: bold\">1</span><span style=\"color: #808000; text-decoration-color: #808000\"> to show all deprecation warnings.  Set environment variable </span><span style=\"color: #808000; text-decoration-color: #808000\">SQLALCHEMY_SILENCE_UBER_WARNING</span><span style=\"color: #808000; text-decoration-color: #808000\">=</span><span style=\"color: #808000; text-decoration-color: #808000; font-weight: bold\">1</span><span style=\"color: #808000; text-decoration-color: #808000\"> to silence this message. </span><span style=\"color: #808000; text-decoration-color: #808000; font-weight: bold\">(</span><span style=\"color: #808000; text-decoration-color: #808000\">Background on SQLAlchemy </span><span style=\"color: #808000; text-decoration-color: #808000; font-weight: bold\">2.0</span><span style=\"color: #808000; text-decoration-color: #808000\"> at: </span><span style=\"color: #808000; text-decoration-color: #808000; text-decoration: underline\">https://sqlalche.me/e/b8d9)</span>\n",
       "</pre>\n"
      ],
      "text/plain": [
       "\u001b[1;33m/opt/hostedtoolcache/Python/3.8.16/x64/lib/python3.8/site-packages/airflow/models/\u001b[0m\u001b[1;33mbase.py\u001b[0m\u001b[1;33m:\u001b[0m\u001b[1;33m49\u001b[0m\u001b[1;33m MovedIn20Warning\u001b[0m\u001b[33m: Deprecated API features detected! These \u001b[0m\u001b[1;33mfeature\u001b[0m\u001b[1;33m(\u001b[0m\u001b[33ms\u001b[0m\u001b[1;33m)\u001b[0m\u001b[33m are not compatible with SQLAlchemy \u001b[0m\u001b[1;33m2.0\u001b[0m\u001b[33m. To prevent incompatible upgrades prior to updating applications, ensure requirements files are pinned to \u001b[0m\u001b[33m\"sqlalchemy<2.0\"\u001b[0m\u001b[33m. Set environment variable \u001b[0m\u001b[33mSQLALCHEMY_WARN_20\u001b[0m\u001b[33m=\u001b[0m\u001b[1;33m1\u001b[0m\u001b[33m to show all deprecation warnings.  Set environment variable \u001b[0m\u001b[33mSQLALCHEMY_SILENCE_UBER_WARNING\u001b[0m\u001b[33m=\u001b[0m\u001b[1;33m1\u001b[0m\u001b[33m to silence this message. \u001b[0m\u001b[1;33m(\u001b[0m\u001b[33mBackground on SQLAlchemy \u001b[0m\u001b[1;33m2.0\u001b[0m\u001b[33m at: \u001b[0m\u001b[4;33mhttps://sqlalche.me/e/b8d9\u001b[0m\u001b[4;33m)\u001b[0m\n"
      ]
     },
     "metadata": {},
     "output_type": "display_data"
    }
   ],
   "source": [
    "import datetime\n",
    "import pendulum\n",
    "\n",
    "from airflow.utils.state import DagRunState, TaskInstanceState\n",
    "from airflow.utils.types import DagRunType\n",
    "from airflow.models.dag import DAG\n",
    "from airflow.decorators import task\n",
    "\n",
    "\n",
    "DATA_INTERVAL_START = pendulum.datetime(2021, 9, 13, tz=\"UTC\")\n",
    "DATA_INTERVAL_END = DATA_INTERVAL_START + datetime.timedelta(days=1)"
   ]
  },
  {
   "cell_type": "markdown",
   "id": "5951d82e",
   "metadata": {},
   "source": [
    "To launch a TorchX job from Airflow you can create a Airflow Python task to\n",
    "import the runner, launch the job and wait for it to complete. If you're running\n",
    "on a remote cluster you may need to use the virtualenv task to install the\n",
    "`torchx` package."
   ]
  },
  {
   "cell_type": "code",
   "execution_count": 2,
   "id": "4be3e5dd",
   "metadata": {
    "execution": {
     "iopub.execute_input": "2023-04-19T23:35:32.488978Z",
     "iopub.status.busy": "2023-04-19T23:35:32.488395Z",
     "iopub.status.idle": "2023-04-19T23:35:32.494636Z",
     "shell.execute_reply": "2023-04-19T23:35:32.493560Z"
    }
   },
   "outputs": [],
   "source": [
    "@task(task_id=f'hello_torchx')\n",
    "def run_torchx(message):\n",
    "    \"\"\"This is a function that will run within the DAG execution\"\"\"\n",
    "    from torchx.runner import get_runner\n",
    "    with get_runner() as runner:\n",
    "        # Run the utils.sh component on the local_cwd scheduler.\n",
    "        app_id = runner.run_component(\n",
    "            \"utils.sh\",\n",
    "            [\"echo\", message],\n",
    "            scheduler=\"local_cwd\",\n",
    "        )\n",
    "\n",
    "        # Wait for the the job to complete\n",
    "        status = runner.wait(app_id, wait_interval=1)\n",
    "\n",
    "        # Raise_for_status will raise an exception if the job didn't succeed\n",
    "        status.raise_for_status()\n",
    "\n",
    "        # Finally we can print all of the log lines from the TorchX job so it\n",
    "        # will show up in the workflow logs.\n",
    "        for line in runner.log_lines(app_id, \"sh\", k=0):\n",
    "            print(line, end=\"\")"
   ]
  },
  {
   "cell_type": "markdown",
   "id": "9b617fe8",
   "metadata": {},
   "source": [
    "Once we have the task defined we can put it into a Airflow DAG and run it like\n",
    "normal."
   ]
  },
  {
   "cell_type": "code",
   "execution_count": 3,
   "id": "28fbdb0c",
   "metadata": {
    "execution": {
     "iopub.execute_input": "2023-04-19T23:35:32.498769Z",
     "iopub.status.busy": "2023-04-19T23:35:32.498435Z",
     "iopub.status.idle": "2023-04-19T23:35:34.034446Z",
     "shell.execute_reply": "2023-04-19T23:35:34.033729Z"
    }
   },
   "outputs": [
    {
     "data": {
      "text/html": [
       "<pre style=\"white-space:pre;overflow-x:auto;line-height:normal;font-family:Menlo,'DejaVu Sans Mono',consolas,'Courier New',monospace\"><span style=\"color: #808000; text-decoration-color: #808000; font-weight: bold\">/tmp/ipykernel_3987/454499020.py:</span><span style=\"color: #808000; text-decoration-color: #808000; font-weight: bold\">3</span><span style=\"color: #808000; text-decoration-color: #808000; font-weight: bold\"> RemovedInAirflow3Warning</span><span style=\"color: #808000; text-decoration-color: #808000\">: Param `schedule_interval` is deprecated and will be removed in a future release. Please use `schedule` instead.</span>\n",
       "</pre>\n"
      ],
      "text/plain": [
       "\u001b[1;33m/tmp/ipykernel_3987/\u001b[0m\u001b[1;33m454499020.py\u001b[0m\u001b[1;33m:\u001b[0m\u001b[1;33m3\u001b[0m\u001b[1;33m RemovedInAirflow3Warning\u001b[0m\u001b[33m: Param `schedule_interval` is deprecated and will be removed in a future release. Please use `schedule` instead.\u001b[0m\n"
      ]
     },
     "metadata": {},
     "output_type": "display_data"
    },
    {
     "name": "stdout",
     "output_type": "stream",
     "text": [
      "[\u001b[34m2023-04-19 23:35:33,015\u001b[0m] {\u001b[34mtaskinstance.py:\u001b[0m1090} INFO\u001b[0m - Dependencies all met for dep_context=non-requeueable deps ti=<TaskInstance: example_python_operator-dgv1699t9tm1sd.hello_torchx manual__2021-09-13T00:00:00+00:00 [None]>\u001b[0m\n"
     ]
    },
    {
     "name": "stdout",
     "output_type": "stream",
     "text": [
      "[\u001b[34m2023-04-19 23:35:33,022\u001b[0m] {\u001b[34mtaskinstance.py:\u001b[0m1090} INFO\u001b[0m - Dependencies all met for dep_context=requeueable deps ti=<TaskInstance: example_python_operator-dgv1699t9tm1sd.hello_torchx manual__2021-09-13T00:00:00+00:00 [None]>\u001b[0m\n"
     ]
    },
    {
     "name": "stdout",
     "output_type": "stream",
     "text": [
      "[\u001b[34m2023-04-19 23:35:33,023\u001b[0m] {\u001b[34mtaskinstance.py:\u001b[0m1288} INFO\u001b[0m - \n",
      "--------------------------------------------------------------------------------\u001b[0m\n"
     ]
    },
    {
     "name": "stdout",
     "output_type": "stream",
     "text": [
      "[\u001b[34m2023-04-19 23:35:33,024\u001b[0m] {\u001b[34mtaskinstance.py:\u001b[0m1289} INFO\u001b[0m - Starting attempt 1 of 1\u001b[0m\n"
     ]
    },
    {
     "name": "stdout",
     "output_type": "stream",
     "text": [
      "[\u001b[34m2023-04-19 23:35:33,025\u001b[0m] {\u001b[34mtaskinstance.py:\u001b[0m1290} INFO\u001b[0m - \n",
      "--------------------------------------------------------------------------------\u001b[0m\n"
     ]
    },
    {
     "name": "stdout",
     "output_type": "stream",
     "text": [
      "[\u001b[34m2023-04-19 23:35:33,036\u001b[0m] {\u001b[34mtaskinstance.py:\u001b[0m1309} INFO\u001b[0m - Executing <Task(_PythonDecoratedOperator): hello_torchx> on 2021-09-13 00:00:00+00:00\u001b[0m\n"
     ]
    },
    {
     "name": "stdout",
     "output_type": "stream",
     "text": [
      "[\u001b[34m2023-04-19 23:35:33,400\u001b[0m] {\u001b[34mtaskinstance.py:\u001b[0m1516} INFO\u001b[0m - Exporting the following env vars:\n",
      "AIRFLOW_CTX_DAG_OWNER=airflow\n",
      "AIRFLOW_CTX_DAG_ID=example_python_operator-dgv1699t9tm1sd\n",
      "AIRFLOW_CTX_TASK_ID=hello_torchx\n",
      "AIRFLOW_CTX_EXECUTION_DATE=2021-09-13T00:00:00+00:00\n",
      "AIRFLOW_CTX_TRY_NUMBER=1\n",
      "AIRFLOW_CTX_DAG_RUN_ID=manual__2021-09-13T00:00:00+00:00\u001b[0m\n"
     ]
    },
    {
     "name": "stdout",
     "output_type": "stream",
     "text": [
      "[\u001b[34m2023-04-19 23:35:33,900\u001b[0m] {\u001b[34mapi.py:\u001b[0m70} INFO\u001b[0m - Tracker configurations: {}\u001b[0m\n"
     ]
    },
    {
     "name": "stdout",
     "output_type": "stream",
     "text": [
      "[\u001b[34m2023-04-19 23:35:33,905\u001b[0m] {\u001b[34mlocal_scheduler.py:\u001b[0m715} INFO\u001b[0m - Log directory not set in scheduler cfg. Creating a temporary log dir that will be deleted on exit. To preserve log directory set the `log_dir` cfg option\u001b[0m\n"
     ]
    },
    {
     "name": "stdout",
     "output_type": "stream",
     "text": [
      "[\u001b[34m2023-04-19 23:35:33,905\u001b[0m] {\u001b[34mlocal_scheduler.py:\u001b[0m721} INFO\u001b[0m - Log directory is: /tmp/torchx_hq4njpe9\u001b[0m\n"
     ]
    },
    {
     "name": "stdout",
     "output_type": "stream",
     "text": [
      "Hello, TorchX!\n",
      "[\u001b[34m2023-04-19 23:35:34,016\u001b[0m] {\u001b[34mpython.py:\u001b[0m177} INFO\u001b[0m - Done. Returned value was: None\u001b[0m\n"
     ]
    },
    {
     "name": "stdout",
     "output_type": "stream",
     "text": [
      "[\u001b[34m2023-04-19 23:35:34,023\u001b[0m] {\u001b[34mtaskinstance.py:\u001b[0m1327} INFO\u001b[0m - Marking task as SUCCESS. dag_id=example_python_operator-dgv1699t9tm1sd, task_id=hello_torchx, execution_date=20210913T000000, start_date=20230419T233533, end_date=20230419T233534\u001b[0m\n"
     ]
    }
   ],
   "source": [
    "from torchx.schedulers.ids import make_unique\n",
    "\n",
    "with DAG(\n",
    "    dag_id=make_unique('example_python_operator'),\n",
    "    schedule_interval=None,\n",
    "    start_date=DATA_INTERVAL_START,\n",
    "    catchup=False,\n",
    "    tags=['example'],\n",
    ") as dag:\n",
    "    run_job = run_torchx(\"Hello, TorchX!\")\n",
    "\n",
    "\n",
    "dagrun = dag.create_dagrun(\n",
    "    state=DagRunState.RUNNING,\n",
    "    execution_date=DATA_INTERVAL_START,\n",
    "    data_interval=(DATA_INTERVAL_START, DATA_INTERVAL_END),\n",
    "    start_date=DATA_INTERVAL_END,\n",
    "    run_type=DagRunType.MANUAL,\n",
    ")\n",
    "ti = dagrun.get_task_instance(task_id=\"hello_torchx\")\n",
    "ti.task = dag.get_task(task_id=\"hello_torchx\")\n",
    "ti.run(ignore_ti_state=True)\n",
    "assert ti.state == TaskInstanceState.SUCCESS"
   ]
  },
  {
   "cell_type": "markdown",
   "id": "4e441601",
   "metadata": {},
   "source": [
    "If all goes well you should see `Hello, TorchX!` printed above.\n",
    "\n",
    "## Next Steps\n",
    "\n",
    "* Checkout the [runner API documentation](../runner.rst) to learn more about\n",
    "  programmatic usage of TorchX\n",
    "* Browse through the collection of [builtin components](../components/overview.rst)\n",
    "  which can be used in your Airflow pipeline"
   ]
  }
 ],
 "metadata": {
  "jupytext": {
   "text_representation": {
    "extension": ".md",
    "format_name": "markdown",
    "format_version": "1.3",
    "jupytext_version": "1.13.7"
   }
  },
  "kernelspec": {
   "display_name": "Python 3",
   "language": "python",
   "name": "python3"
  },
  "language_info": {
   "codemirror_mode": {
    "name": "ipython",
    "version": 3
   },
   "file_extension": ".py",
   "mimetype": "text/x-python",
   "name": "python",
   "nbconvert_exporter": "python",
   "pygments_lexer": "ipython3",
   "version": "3.8.16"
  }
 },
 "nbformat": 4,
 "nbformat_minor": 5
}
