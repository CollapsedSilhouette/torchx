{
 "cells": [
  {
   "cell_type": "markdown",
   "id": "90944b36",
   "metadata": {},
   "source": [
    "# Hello World\n",
    "\n",
    "This is a self contained guide on how to build a simple app and component spec\n",
    "and launch it via two different schedulers.\n",
    "\n",
    "See the [Quickstart](../quickstart.rst) for how to install TorchX locally before\n",
    "following this example.\n",
    "\n",
    "Lets start off with writing a simple \"Hello World\" python app. This is just a\n",
    "normal python program and can contain anything you'd like.\n",
    "\n",
    "> **NOTE**: This example uses Jupyter Notebook `%%writefile` to create local files for\n",
    "example purposes. Under normal usage you would have these as standalone files."
   ]
  },
  {
   "cell_type": "code",
   "execution_count": 1,
   "id": "e8eb3b78",
   "metadata": {
    "execution": {
     "iopub.execute_input": "2021-10-15T22:18:36.742546Z",
     "iopub.status.busy": "2021-10-15T22:18:36.741734Z",
     "iopub.status.idle": "2021-10-15T22:18:36.751560Z",
     "shell.execute_reply": "2021-10-15T22:18:36.752042Z"
    }
   },
   "outputs": [
    {
     "name": "stdout",
     "output_type": "stream",
     "text": [
      "Writing my_app.py\n"
     ]
    }
   ],
   "source": [
    "%%writefile my_app.py\n",
    "\n",
    "import sys\n",
    "import argparse\n",
    "\n",
    "def main(user: str) -> None:\n",
    "    print(f\"Hello, {user}!\")\n",
    "\n",
    "if __name__ == \"__main__\":\n",
    "    parser = argparse.ArgumentParser(\n",
    "        description=\"Hello world app\"\n",
    "    )\n",
    "    parser.add_argument(\n",
    "        \"--user\",\n",
    "        type=str,\n",
    "        help=\"the person to greet\",\n",
    "        required=True,\n",
    "    )\n",
    "    args = parser.parse_args(sys.argv[1:])\n",
    "\n",
    "    main(args.user)"
   ]
  },
  {
   "cell_type": "markdown",
   "id": "7255fe43",
   "metadata": {},
   "source": [
    "Now that we have an app we can write the component file for it. This\n",
    "function allows us to reuse and share our app in a user friendly way.\n",
    "\n",
    "We can use this component from the `torchx` cli or programmatically as part of a\n",
    "pipeline."
   ]
  },
  {
   "cell_type": "code",
   "execution_count": 2,
   "id": "e08244a7",
   "metadata": {
    "execution": {
     "iopub.execute_input": "2021-10-15T22:18:36.757150Z",
     "iopub.status.busy": "2021-10-15T22:18:36.756467Z",
     "iopub.status.idle": "2021-10-15T22:18:36.759010Z",
     "shell.execute_reply": "2021-10-15T22:18:36.759456Z"
    }
   },
   "outputs": [
    {
     "name": "stdout",
     "output_type": "stream",
     "text": [
      "Writing my_component.py\n"
     ]
    }
   ],
   "source": [
    "%%writefile my_component.py\n",
    "\n",
    "import torchx.specs as specs\n",
    "\n",
    "def greet(user: str, image: str = \"my_app:latest\") -> specs.AppDef:\n",
    "    \"\"\"\n",
    "    Echos a message to stdout (calls /bin/echo)\n",
    "\n",
    "    Args:\n",
    "        user: name of the person to greet\n",
    "        image: image to use\n",
    "    \"\"\"\n",
    "    return specs.AppDef(\n",
    "        name=\"hello_world\",\n",
    "        roles=[\n",
    "            specs.Role(\n",
    "                name=\"greeter\",\n",
    "                image=image,\n",
    "                entrypoint=\"python\",\n",
    "                args=[\n",
    "                    \"-m\", \"my_app\",\n",
    "                    \"--user\", user,\n",
    "                ],\n",
    "            )\n",
    "        ],\n",
    "    )"
   ]
  },
  {
   "cell_type": "markdown",
   "id": "46bb3973",
   "metadata": {},
   "source": [
    "Once we write our component, we can then call it via `torchx run`. The\n",
    "`local_cwd` scheduler executes the component relative to the current directory."
   ]
  },
  {
   "cell_type": "code",
   "execution_count": 3,
   "id": "51021f6a",
   "metadata": {
    "execution": {
     "iopub.execute_input": "2021-10-15T22:18:36.763705Z",
     "iopub.status.busy": "2021-10-15T22:18:36.763126Z",
     "iopub.status.idle": "2021-10-15T22:18:38.282369Z",
     "shell.execute_reply": "2021-10-15T22:18:38.281837Z"
    }
   },
   "outputs": [
    {
     "name": "stdout",
     "output_type": "stream",
     "text": [
      "Hello, your name!\n",
      "local_cwd://torchx/hello_world_777b69e6\n"
     ]
    },
    {
     "name": "stderr",
     "output_type": "stream",
     "text": [
      "torchx 2021-10-15 22:18:37 INFO     Waiting for the app to finish...\n",
      "torchx 2021-10-15 22:18:38 INFO     Job finished: SUCCEEDED\n"
     ]
    }
   ],
   "source": [
    "%%sh\n",
    "torchx run --scheduler local_cwd my_component.py:greet --user \"your name\""
   ]
  },
  {
   "cell_type": "markdown",
   "id": "37e85ac9",
   "metadata": {},
   "source": [
    "If we want to run in other environments, we can build a Docker container so we\n",
    "can run our component in Docker enabled environments such as Kubernetes or via\n",
    "the local Docker scheduler.\n",
    "\n",
    "> **NOTE:** this requires Docker installed and won't work in environments such as\n",
    "Google Colab."
   ]
  },
  {
   "cell_type": "code",
   "execution_count": 4,
   "id": "4ac1c35f",
   "metadata": {
    "execution": {
     "iopub.execute_input": "2021-10-15T22:18:38.288602Z",
     "iopub.status.busy": "2021-10-15T22:18:38.287620Z",
     "iopub.status.idle": "2021-10-15T22:18:38.292713Z",
     "shell.execute_reply": "2021-10-15T22:18:38.292111Z"
    }
   },
   "outputs": [
    {
     "name": "stdout",
     "output_type": "stream",
     "text": [
      "Writing Dockerfile\n"
     ]
    }
   ],
   "source": [
    "%%writefile Dockerfile\n",
    "\n",
    "FROM ghcr.io/pytorch/torchx:0.1.0rc1\n",
    "\n",
    "ADD my_app.py ."
   ]
  },
  {
   "cell_type": "markdown",
   "id": "e0d084a0",
   "metadata": {},
   "source": [
    "Once we have the Dockerfile created we can create our docker image."
   ]
  },
  {
   "cell_type": "code",
   "execution_count": 5,
   "id": "4f0f7b55",
   "metadata": {
    "execution": {
     "iopub.execute_input": "2021-10-15T22:18:38.296838Z",
     "iopub.status.busy": "2021-10-15T22:18:38.295215Z",
     "iopub.status.idle": "2021-10-15T22:21:09.539990Z",
     "shell.execute_reply": "2021-10-15T22:21:09.539394Z"
    }
   },
   "outputs": [
    {
     "name": "stdout",
     "output_type": "stream",
     "text": [
      "Sending build context to Docker daemon  8.192kB\r",
      "\r\n",
      "Step 1/2 : FROM ghcr.io/pytorch/torchx:0.1.0rc1\n",
      "0.1.0rc1: Pulling from pytorch/torchx\n",
      "4bbfd2c87b75: Pulling fs layer\n",
      "d2e110be24e1: Pulling fs layer\n",
      "889a7173dcfe: Pulling fs layer\n",
      "6009a622672a: Pulling fs layer\n",
      "143f80195431: Pulling fs layer\n",
      "eccbe17c44e1: Pulling fs layer\n",
      "143f23ff3be4: Pulling fs layer\n",
      "e3d6e1eac672: Pulling fs layer\n",
      "f6c7f8bc4e49: Pulling fs layer\n",
      "45e80c2917d5: Pulling fs layer\n",
      "4624bf2ca9ed: Pulling fs layer\n",
      "44d2b8b39e8d: Pulling fs layer\n",
      "415025032a3e: Pulling fs layer\n",
      "5b8810d813c6: Pulling fs layer\n",
      "6009a622672a: Waiting\n",
      "143f80195431: Waiting\n",
      "eccbe17c44e1: Waiting\n",
      "143f23ff3be4: Waiting\n",
      "e3d6e1eac672: Waiting\n",
      "f6c7f8bc4e49: Waiting\n",
      "45e80c2917d5: Waiting\n",
      "4624bf2ca9ed: Waiting\n",
      "5b8810d813c6: Waiting\n",
      "44d2b8b39e8d: Waiting\n",
      "415025032a3e: Waiting\n",
      "d2e110be24e1: Verifying Checksum\n",
      "d2e110be24e1: Download complete\n",
      "889a7173dcfe: Verifying Checksum\n",
      "889a7173dcfe: Download complete\n",
      "4bbfd2c87b75: Verifying Checksum\n",
      "4bbfd2c87b75: Download complete\n",
      "6009a622672a: Verifying Checksum\n",
      "6009a622672a: Download complete\n",
      "eccbe17c44e1: Verifying Checksum\n",
      "eccbe17c44e1: Download complete\n",
      "e3d6e1eac672: Verifying Checksum\n",
      "e3d6e1eac672: Download complete\n",
      "143f23ff3be4: Verifying Checksum\n",
      "143f23ff3be4: Download complete\n",
      "45e80c2917d5: Verifying Checksum\n",
      "45e80c2917d5: Download complete\n",
      "4624bf2ca9ed: Verifying Checksum\n",
      "4624bf2ca9ed: Download complete\n",
      "44d2b8b39e8d: Verifying Checksum\n",
      "44d2b8b39e8d: Download complete\n",
      "415025032a3e: Verifying Checksum\n",
      "415025032a3e: Download complete\n",
      "5b8810d813c6: Verifying Checksum\n",
      "5b8810d813c6: Download complete\n",
      "4bbfd2c87b75: Pull complete\n",
      "f6c7f8bc4e49: Verifying Checksum\n",
      "f6c7f8bc4e49: Download complete\n",
      "143f80195431: Verifying Checksum\n",
      "143f80195431: Download complete\n",
      "d2e110be24e1: Pull complete\n",
      "889a7173dcfe: Pull complete\n",
      "6009a622672a: Pull complete\n",
      "143f80195431: Pull complete\n",
      "eccbe17c44e1: Pull complete\n",
      "143f23ff3be4: Pull complete\n",
      "e3d6e1eac672: Pull complete\n",
      "f6c7f8bc4e49: Pull complete\n",
      "45e80c2917d5: Pull complete\n",
      "4624bf2ca9ed: Pull complete\n",
      "44d2b8b39e8d: Pull complete\n",
      "415025032a3e: Pull complete\n",
      "5b8810d813c6: Pull complete\n",
      "Digest: sha256:7e3052eb850e13a0107c560ae48a1c39fb5c22ae90cef1089164814fd4c1be2e\n",
      "Status: Downloaded newer image for ghcr.io/pytorch/torchx:0.1.0rc1\n",
      " ---> 935823c2da9a\n",
      "Step 2/2 : ADD my_app.py .\n",
      " ---> 3a886ed3b19d\n",
      "Successfully built 3a886ed3b19d\n",
      "Successfully tagged my_app:latest\n"
     ]
    }
   ],
   "source": [
    "%%sh\n",
    "docker build -t my_app:latest -f Dockerfile ."
   ]
  },
  {
   "cell_type": "markdown",
   "id": "59ba62d8",
   "metadata": {},
   "source": [
    "We can then launch it on the local scheduler."
   ]
  },
  {
   "cell_type": "code",
   "execution_count": 6,
   "id": "f398565e",
   "metadata": {
    "execution": {
     "iopub.execute_input": "2021-10-15T22:21:09.547412Z",
     "iopub.status.busy": "2021-10-15T22:21:09.546830Z",
     "iopub.status.idle": "2021-10-15T22:21:11.361477Z",
     "shell.execute_reply": "2021-10-15T22:21:11.362018Z"
    }
   },
   "outputs": [
    {
     "name": "stdout",
     "output_type": "stream",
     "text": [
      "Hello, your name!\n",
      "local_docker://torchx/hello_world_9a5be0fe\n"
     ]
    },
    {
     "name": "stderr",
     "output_type": "stream",
     "text": [
      "Error response from daemon: pull access denied for my_app, repository does not exist or may require 'docker login': denied: requested access to the resource is denied\n",
      "torchx 2021-10-15 22:21:10 WARNING  failed to fetch image my_app:latest, falling back to local: Command '['docker', 'pull', 'my_app:latest']' returned non-zero exit status 1.\n",
      "torchx 2021-10-15 22:21:10 INFO     Waiting for the app to finish...\n",
      "torchx 2021-10-15 22:21:11 INFO     Job finished: SUCCEEDED\n"
     ]
    }
   ],
   "source": [
    "%%sh\n",
    "torchx run --scheduler local_docker my_component.py:greet --image \"my_app:latest\" --user \"your name\""
   ]
  },
  {
   "cell_type": "markdown",
   "id": "b86d2555",
   "metadata": {},
   "source": [
    "If you have a Kubernetes cluster you can use the Kubernetes scheduler to launch\n",
    "this on the cluster instead."
   ]
  }
 ],
 "metadata": {
  "jupytext": {
   "cell_metadata_filter": "-all",
   "main_language": "python",
   "notebook_metadata_filter": "-all",
   "text_representation": {
    "extension": ".md",
    "format_name": "markdown"
   }
  },
  "language_info": {
   "codemirror_mode": {
    "name": "ipython",
    "version": 3
   },
   "file_extension": ".py",
   "mimetype": "text/x-python",
   "name": "python",
   "nbconvert_exporter": "python",
   "pygments_lexer": "ipython3",
   "version": "3.8.12"
  }
 },
 "nbformat": 4,
 "nbformat_minor": 5
}
