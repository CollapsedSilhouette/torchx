{
 "cells": [
  {
   "cell_type": "markdown",
   "id": "525d8848",
   "metadata": {},
   "source": [
    "# Hello World\n",
    "\n",
    "This is a self contained guide on how to build a simple app and component spec\n",
    "and launch it via two different schedulers.\n",
    "\n",
    "See the [Quickstart](../quickstart.rst) for how to install TorchX locally before\n",
    "following this example.\n",
    "\n",
    "Lets start off with writing a simple \"Hello World\" python app. This is just a\n",
    "normal python program and can contain anything you'd like.\n",
    "\n",
    "> **NOTE**: This example uses Jupyter Notebook `%%writefile` to create local files for\n",
    "example purposes. Under normal usage you would have these as standalone files."
   ]
  },
  {
   "cell_type": "code",
   "execution_count": 1,
   "id": "6f4a0653",
   "metadata": {
    "execution": {
     "iopub.execute_input": "2021-10-15T20:40:30.894052Z",
     "iopub.status.busy": "2021-10-15T20:40:30.893256Z",
     "iopub.status.idle": "2021-10-15T20:40:30.902077Z",
     "shell.execute_reply": "2021-10-15T20:40:30.902467Z"
    }
   },
   "outputs": [
    {
     "name": "stdout",
     "output_type": "stream",
     "text": [
      "Writing my_app.py\n"
     ]
    }
   ],
   "source": [
    "%%writefile my_app.py\n",
    "\n",
    "import sys\n",
    "import argparse\n",
    "\n",
    "def main(user: str) -> None:\n",
    "    print(f\"Hello, {user}!\")\n",
    "\n",
    "if __name__ == \"__main__\":\n",
    "    parser = argparse.ArgumentParser(\n",
    "        description=\"Hello world app\"\n",
    "    )\n",
    "    parser.add_argument(\n",
    "        \"--user\",\n",
    "        type=str,\n",
    "        help=\"the person to greet\",\n",
    "        required=True,\n",
    "    )\n",
    "    args = parser.parse_args(sys.argv[1:])\n",
    "\n",
    "    main(args.user)"
   ]
  },
  {
   "cell_type": "markdown",
   "id": "6cc57c41",
   "metadata": {},
   "source": [
    "Now that we have an app we can write the component file for it. This\n",
    "function allows us to reuse and share our app in a user friendly way.\n",
    "\n",
    "We can use this component from the `torchx` cli or programmatically as part of a\n",
    "pipeline."
   ]
  },
  {
   "cell_type": "code",
   "execution_count": 2,
   "id": "e6b898c1",
   "metadata": {
    "execution": {
     "iopub.execute_input": "2021-10-15T20:40:30.907832Z",
     "iopub.status.busy": "2021-10-15T20:40:30.906966Z",
     "iopub.status.idle": "2021-10-15T20:40:30.909037Z",
     "shell.execute_reply": "2021-10-15T20:40:30.909419Z"
    }
   },
   "outputs": [
    {
     "name": "stdout",
     "output_type": "stream",
     "text": [
      "Writing my_component.py\n"
     ]
    }
   ],
   "source": [
    "%%writefile my_component.py\n",
    "\n",
    "import torchx.specs as specs\n",
    "\n",
    "def greet(user: str, image: str = \"my_app:latest\") -> specs.AppDef:\n",
    "    \"\"\"\n",
    "    Echos a message to stdout (calls /bin/echo)\n",
    "\n",
    "    Args:\n",
    "        user: name of the person to greet\n",
    "        image: image to use\n",
    "    \"\"\"\n",
    "    return specs.AppDef(\n",
    "        name=\"hello_world\",\n",
    "        roles=[\n",
    "            specs.Role(\n",
    "                name=\"greeter\",\n",
    "                image=image,\n",
    "                entrypoint=\"python\",\n",
    "                args=[\n",
    "                    \"-m\", \"my_app\",\n",
    "                    \"--user\", user,\n",
    "                ],\n",
    "            )\n",
    "        ],\n",
    "    )"
   ]
  },
  {
   "cell_type": "markdown",
   "id": "5f81677b",
   "metadata": {},
   "source": [
    "Once we write our component, we can then call it via `torchx run`. The\n",
    "`local_cwd` scheduler executes the component relative to the current directory."
   ]
  },
  {
   "cell_type": "code",
   "execution_count": 3,
   "id": "54aa29a8",
   "metadata": {
    "execution": {
     "iopub.execute_input": "2021-10-15T20:40:30.913152Z",
     "iopub.status.busy": "2021-10-15T20:40:30.912655Z",
     "iopub.status.idle": "2021-10-15T20:40:32.350473Z",
     "shell.execute_reply": "2021-10-15T20:40:32.350941Z"
    }
   },
   "outputs": [
    {
     "name": "stdout",
     "output_type": "stream",
     "text": [
      "Hello, your name!\n",
      "local_cwd://torchx/hello_world_71d6a6b4\n"
     ]
    },
    {
     "name": "stderr",
     "output_type": "stream",
     "text": [
      "torchx 2021-10-15 20:40:31 INFO     Waiting for the app to finish...\n",
      "torchx 2021-10-15 20:40:32 INFO     Job finished: SUCCEEDED\n"
     ]
    }
   ],
   "source": [
    "%%sh\n",
    "torchx run --scheduler local_cwd my_component.py:greet --user \"your name\""
   ]
  },
  {
   "cell_type": "markdown",
   "id": "89d04138",
   "metadata": {},
   "source": [
    "If we want to run in other environments, we can build a Docker container so we\n",
    "can run our component in Docker enabled environments such as Kubernetes or via\n",
    "the local Docker scheduler.\n",
    "\n",
    "> **NOTE:** this requires Docker installed and won't work in environments such as\n",
    "Google Colab."
   ]
  },
  {
   "cell_type": "code",
   "execution_count": 4,
   "id": "b2afbcd6",
   "metadata": {
    "execution": {
     "iopub.execute_input": "2021-10-15T20:40:32.356476Z",
     "iopub.status.busy": "2021-10-15T20:40:32.355458Z",
     "iopub.status.idle": "2021-10-15T20:40:32.358999Z",
     "shell.execute_reply": "2021-10-15T20:40:32.359355Z"
    }
   },
   "outputs": [
    {
     "name": "stdout",
     "output_type": "stream",
     "text": [
      "Writing Dockerfile\n"
     ]
    }
   ],
   "source": [
    "%%writefile Dockerfile\n",
    "\n",
    "FROM ghcr.io/pytorch/torchx:0.1.0rc1\n",
    "\n",
    "ADD my_app.py ."
   ]
  },
  {
   "cell_type": "markdown",
   "id": "5959a7aa",
   "metadata": {},
   "source": [
    "Once we have the Dockerfile created we can create our docker image."
   ]
  },
  {
   "cell_type": "code",
   "execution_count": 5,
   "id": "0a0baf05",
   "metadata": {
    "execution": {
     "iopub.execute_input": "2021-10-15T20:40:32.363234Z",
     "iopub.status.busy": "2021-10-15T20:40:32.362768Z",
     "iopub.status.idle": "2021-10-15T20:42:47.650004Z",
     "shell.execute_reply": "2021-10-15T20:42:47.650415Z"
    }
   },
   "outputs": [
    {
     "name": "stdout",
     "output_type": "stream",
     "text": [
      "Sending build context to Docker daemon  8.192kB\r",
      "\r\n",
      "Step 1/2 : FROM ghcr.io/pytorch/torchx:0.1.0rc1\n",
      "0.1.0rc1: Pulling from pytorch/torchx\n",
      "4bbfd2c87b75: Pulling fs layer\n",
      "d2e110be24e1: Pulling fs layer\n",
      "889a7173dcfe: Pulling fs layer\n",
      "6009a622672a: Pulling fs layer\n",
      "143f80195431: Pulling fs layer\n",
      "eccbe17c44e1: Pulling fs layer\n",
      "6bf98b4f4059: Pulling fs layer\n",
      "692fa2b54750: Pulling fs layer\n",
      "0c770338dc26: Pulling fs layer\n",
      "f88500b788c1: Pulling fs layer\n",
      "bed782606238: Pulling fs layer\n",
      "dabf8ec6b5a9: Pulling fs layer\n",
      "c34ee71f5137: Pulling fs layer\n",
      "323e65d74a45: Pulling fs layer\n",
      "6009a622672a: Waiting\n",
      "143f80195431: Waiting\n",
      "eccbe17c44e1: Waiting\n",
      "6bf98b4f4059: Waiting\n",
      "692fa2b54750: Waiting\n",
      "0c770338dc26: Waiting\n",
      "f88500b788c1: Waiting\n",
      "bed782606238: Waiting\n",
      "dabf8ec6b5a9: Waiting\n",
      "c34ee71f5137: Waiting\n",
      "323e65d74a45: Waiting\n",
      "889a7173dcfe: Verifying Checksum\n",
      "889a7173dcfe: Download complete\n",
      "d2e110be24e1: Verifying Checksum\n",
      "d2e110be24e1: Download complete\n",
      "4bbfd2c87b75: Verifying Checksum\n",
      "4bbfd2c87b75: Download complete\n",
      "6009a622672a: Verifying Checksum\n",
      "6009a622672a: Download complete\n",
      "eccbe17c44e1: Verifying Checksum\n",
      "eccbe17c44e1: Download complete\n",
      "692fa2b54750: Verifying Checksum\n",
      "692fa2b54750: Download complete\n",
      "6bf98b4f4059: Verifying Checksum\n",
      "6bf98b4f4059: Download complete\n",
      "f88500b788c1: Verifying Checksum\n",
      "f88500b788c1: Download complete\n",
      "bed782606238: Verifying Checksum\n",
      "bed782606238: Download complete\n",
      "4bbfd2c87b75: Pull complete\n",
      "dabf8ec6b5a9: Verifying Checksum\n",
      "dabf8ec6b5a9: Download complete\n",
      "c34ee71f5137: Verifying Checksum\n",
      "c34ee71f5137: Download complete\n",
      "323e65d74a45: Verifying Checksum\n",
      "323e65d74a45: Download complete\n",
      "143f80195431: Verifying Checksum\n",
      "143f80195431: Download complete\n",
      "0c770338dc26: Verifying Checksum\n",
      "0c770338dc26: Download complete\n",
      "d2e110be24e1: Pull complete\n",
      "889a7173dcfe: Pull complete\n",
      "6009a622672a: Pull complete\n",
      "143f80195431: Pull complete\n",
      "eccbe17c44e1: Pull complete\n",
      "6bf98b4f4059: Pull complete\n",
      "692fa2b54750: Pull complete\n",
      "0c770338dc26: Pull complete\n",
      "f88500b788c1: Pull complete\n",
      "bed782606238: Pull complete\n",
      "dabf8ec6b5a9: Pull complete\n",
      "c34ee71f5137: Pull complete\n",
      "323e65d74a45: Pull complete\n",
      "Digest: sha256:d29ea5afcac536c24bcad2bd7cc7378d86ec4798f5da5ff8e47d94ec929ca24a\n",
      "Status: Downloaded newer image for ghcr.io/pytorch/torchx:0.1.0rc1\n",
      " ---> d8eacc6172ab\n",
      "Step 2/2 : ADD my_app.py .\n",
      " ---> 2aa24a408bb6\n",
      "Successfully built 2aa24a408bb6\n",
      "Successfully tagged my_app:latest\n"
     ]
    }
   ],
   "source": [
    "%%sh\n",
    "docker build -t my_app:latest -f Dockerfile ."
   ]
  },
  {
   "cell_type": "markdown",
   "id": "4d60a1b8",
   "metadata": {},
   "source": [
    "We can then launch it on the local scheduler."
   ]
  },
  {
   "cell_type": "code",
   "execution_count": 6,
   "id": "601c5c24",
   "metadata": {
    "execution": {
     "iopub.execute_input": "2021-10-15T20:42:47.665175Z",
     "iopub.status.busy": "2021-10-15T20:42:47.655318Z",
     "iopub.status.idle": "2021-10-15T20:42:49.470021Z",
     "shell.execute_reply": "2021-10-15T20:42:49.469325Z"
    }
   },
   "outputs": [
    {
     "name": "stdout",
     "output_type": "stream",
     "text": [
      "Hello, your name!\n",
      "local_docker://torchx/hello_world_dda362cd\n"
     ]
    },
    {
     "name": "stderr",
     "output_type": "stream",
     "text": [
      "Error response from daemon: pull access denied for my_app, repository does not exist or may require 'docker login': denied: requested access to the resource is denied\n",
      "torchx 2021-10-15 20:42:48 WARNING  failed to fetch image my_app:latest, falling back to local: Command '['docker', 'pull', 'my_app:latest']' returned non-zero exit status 1.\n",
      "torchx 2021-10-15 20:42:48 INFO     Waiting for the app to finish...\n",
      "torchx 2021-10-15 20:42:49 INFO     Job finished: SUCCEEDED\n"
     ]
    }
   ],
   "source": [
    "%%sh\n",
    "torchx run --scheduler local_docker my_component.py:greet --image \"my_app:latest\" --user \"your name\""
   ]
  },
  {
   "cell_type": "markdown",
   "id": "a1d03899",
   "metadata": {},
   "source": [
    "If you have a Kubernetes cluster you can use the Kubernetes scheduler to launch\n",
    "this on the cluster instead."
   ]
  }
 ],
 "metadata": {
  "jupytext": {
   "cell_metadata_filter": "-all",
   "main_language": "python",
   "notebook_metadata_filter": "-all",
   "text_representation": {
    "extension": ".md",
    "format_name": "markdown"
   }
  },
  "language_info": {
   "codemirror_mode": {
    "name": "ipython",
    "version": 3
   },
   "file_extension": ".py",
   "mimetype": "text/x-python",
   "name": "python",
   "nbconvert_exporter": "python",
   "pygments_lexer": "ipython3",
   "version": "3.8.12"
  }
 },
 "nbformat": 4,
 "nbformat_minor": 5
}
