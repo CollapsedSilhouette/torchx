{
 "cells": [
  {
   "cell_type": "markdown",
   "id": "5b1bff24",
   "metadata": {},
   "source": [
    "# Hello World\n",
    "\n",
    "This is a self contained guide on how to build a simple app and component spec\n",
    "and launch it via two different schedulers.\n",
    "\n",
    "See the [Quickstart](../quickstart.rst) for how to install TorchX locally before\n",
    "following this example.\n",
    "\n",
    "Lets start off with writing a simple \"Hello World\" python app. This is just a\n",
    "normal python program and can contain anything you'd like.\n",
    "\n",
    "> **NOTE**: This example uses Jupyter Notebook `%%writefile` to create local files for\n",
    "example purposes. Under normal usage you would have these as standalone files."
   ]
  },
  {
   "cell_type": "code",
   "execution_count": 1,
   "id": "36e565ac",
   "metadata": {
    "execution": {
     "iopub.execute_input": "2021-10-15T20:44:44.196571Z",
     "iopub.status.busy": "2021-10-15T20:44:44.195803Z",
     "iopub.status.idle": "2021-10-15T20:44:44.204322Z",
     "shell.execute_reply": "2021-10-15T20:44:44.204708Z"
    }
   },
   "outputs": [
    {
     "name": "stdout",
     "output_type": "stream",
     "text": [
      "Writing my_app.py\n"
     ]
    }
   ],
   "source": [
    "%%writefile my_app.py\n",
    "\n",
    "import sys\n",
    "import argparse\n",
    "\n",
    "def main(user: str) -> None:\n",
    "    print(f\"Hello, {user}!\")\n",
    "\n",
    "if __name__ == \"__main__\":\n",
    "    parser = argparse.ArgumentParser(\n",
    "        description=\"Hello world app\"\n",
    "    )\n",
    "    parser.add_argument(\n",
    "        \"--user\",\n",
    "        type=str,\n",
    "        help=\"the person to greet\",\n",
    "        required=True,\n",
    "    )\n",
    "    args = parser.parse_args(sys.argv[1:])\n",
    "\n",
    "    main(args.user)"
   ]
  },
  {
   "cell_type": "markdown",
   "id": "639e9feb",
   "metadata": {},
   "source": [
    "Now that we have an app we can write the component file for it. This\n",
    "function allows us to reuse and share our app in a user friendly way.\n",
    "\n",
    "We can use this component from the `torchx` cli or programmatically as part of a\n",
    "pipeline."
   ]
  },
  {
   "cell_type": "code",
   "execution_count": 2,
   "id": "3b5daa52",
   "metadata": {
    "execution": {
     "iopub.execute_input": "2021-10-15T20:44:44.209391Z",
     "iopub.status.busy": "2021-10-15T20:44:44.208908Z",
     "iopub.status.idle": "2021-10-15T20:44:44.210509Z",
     "shell.execute_reply": "2021-10-15T20:44:44.210953Z"
    }
   },
   "outputs": [
    {
     "name": "stdout",
     "output_type": "stream",
     "text": [
      "Writing my_component.py\n"
     ]
    }
   ],
   "source": [
    "%%writefile my_component.py\n",
    "\n",
    "import torchx.specs as specs\n",
    "\n",
    "def greet(user: str, image: str = \"my_app:latest\") -> specs.AppDef:\n",
    "    \"\"\"\n",
    "    Echos a message to stdout (calls /bin/echo)\n",
    "\n",
    "    Args:\n",
    "        user: name of the person to greet\n",
    "        image: image to use\n",
    "    \"\"\"\n",
    "    return specs.AppDef(\n",
    "        name=\"hello_world\",\n",
    "        roles=[\n",
    "            specs.Role(\n",
    "                name=\"greeter\",\n",
    "                image=image,\n",
    "                entrypoint=\"python\",\n",
    "                args=[\n",
    "                    \"-m\", \"my_app\",\n",
    "                    \"--user\", user,\n",
    "                ],\n",
    "            )\n",
    "        ],\n",
    "    )"
   ]
  },
  {
   "cell_type": "markdown",
   "id": "3b6e1e98",
   "metadata": {},
   "source": [
    "Once we write our component, we can then call it via `torchx run`. The\n",
    "`local_cwd` scheduler executes the component relative to the current directory."
   ]
  },
  {
   "cell_type": "code",
   "execution_count": 3,
   "id": "8c86bb4d",
   "metadata": {
    "execution": {
     "iopub.execute_input": "2021-10-15T20:44:44.214664Z",
     "iopub.status.busy": "2021-10-15T20:44:44.214184Z",
     "iopub.status.idle": "2021-10-15T20:44:45.647170Z",
     "shell.execute_reply": "2021-10-15T20:44:45.646701Z"
    }
   },
   "outputs": [
    {
     "name": "stdout",
     "output_type": "stream",
     "text": [
      "Hello, your name!\n",
      "local_cwd://torchx/hello_world_4e9b64f2\n"
     ]
    },
    {
     "name": "stderr",
     "output_type": "stream",
     "text": [
      "torchx 2021-10-15 20:44:44 INFO     Waiting for the app to finish...\n",
      "torchx 2021-10-15 20:44:45 INFO     Job finished: SUCCEEDED\n"
     ]
    }
   ],
   "source": [
    "%%sh\n",
    "torchx run --scheduler local_cwd my_component.py:greet --user \"your name\""
   ]
  },
  {
   "cell_type": "markdown",
   "id": "4d07b5a5",
   "metadata": {},
   "source": [
    "If we want to run in other environments, we can build a Docker container so we\n",
    "can run our component in Docker enabled environments such as Kubernetes or via\n",
    "the local Docker scheduler.\n",
    "\n",
    "> **NOTE:** this requires Docker installed and won't work in environments such as\n",
    "Google Colab."
   ]
  },
  {
   "cell_type": "code",
   "execution_count": 4,
   "id": "18aecae5",
   "metadata": {
    "execution": {
     "iopub.execute_input": "2021-10-15T20:44:45.651927Z",
     "iopub.status.busy": "2021-10-15T20:44:45.651417Z",
     "iopub.status.idle": "2021-10-15T20:44:45.654153Z",
     "shell.execute_reply": "2021-10-15T20:44:45.653743Z"
    }
   },
   "outputs": [
    {
     "name": "stdout",
     "output_type": "stream",
     "text": [
      "Writing Dockerfile\n"
     ]
    }
   ],
   "source": [
    "%%writefile Dockerfile\n",
    "\n",
    "FROM ghcr.io/pytorch/torchx:0.1.0rc1\n",
    "\n",
    "ADD my_app.py ."
   ]
  },
  {
   "cell_type": "markdown",
   "id": "2889006a",
   "metadata": {},
   "source": [
    "Once we have the Dockerfile created we can create our docker image."
   ]
  },
  {
   "cell_type": "code",
   "execution_count": 5,
   "id": "af73aa9c",
   "metadata": {
    "execution": {
     "iopub.execute_input": "2021-10-15T20:44:45.657659Z",
     "iopub.status.busy": "2021-10-15T20:44:45.656343Z",
     "iopub.status.idle": "2021-10-15T20:47:01.139531Z",
     "shell.execute_reply": "2021-10-15T20:47:01.138752Z"
    }
   },
   "outputs": [
    {
     "name": "stdout",
     "output_type": "stream",
     "text": [
      "Sending build context to Docker daemon  8.192kB\r",
      "\r\n",
      "Step 1/2 : FROM ghcr.io/pytorch/torchx:0.1.0rc1\n",
      "0.1.0rc1: Pulling from pytorch/torchx\n",
      "4bbfd2c87b75: Pulling fs layer\n",
      "d2e110be24e1: Pulling fs layer\n",
      "889a7173dcfe: Pulling fs layer\n",
      "6009a622672a: Pulling fs layer\n",
      "143f80195431: Pulling fs layer\n",
      "eccbe17c44e1: Pulling fs layer\n",
      "c4cd934092e7: Pulling fs layer\n",
      "d61c70aa1e93: Pulling fs layer\n",
      "001b034ddad5: Pulling fs layer\n",
      "182a871c314a: Pulling fs layer\n",
      "e183586e7d41: Pulling fs layer\n",
      "c2fb7190f97a: Pulling fs layer\n",
      "6de368d18056: Pulling fs layer\n",
      "957f2522dff4: Pulling fs layer\n",
      "6009a622672a: Waiting\n",
      "143f80195431: Waiting\n",
      "eccbe17c44e1: Waiting\n",
      "c4cd934092e7: Waiting\n",
      "d61c70aa1e93: Waiting\n",
      "001b034ddad5: Waiting\n",
      "182a871c314a: Waiting\n",
      "e183586e7d41: Waiting\n",
      "c2fb7190f97a: Waiting\n",
      "6de368d18056: Waiting\n",
      "957f2522dff4: Waiting\n",
      "d2e110be24e1: Verifying Checksum\n",
      "d2e110be24e1: Download complete\n",
      "889a7173dcfe: Verifying Checksum\n",
      "889a7173dcfe: Download complete\n",
      "4bbfd2c87b75: Verifying Checksum\n",
      "4bbfd2c87b75: Download complete\n",
      "6009a622672a: Verifying Checksum\n",
      "6009a622672a: Download complete\n",
      "eccbe17c44e1: Verifying Checksum\n",
      "eccbe17c44e1: Download complete\n",
      "d61c70aa1e93: Verifying Checksum\n",
      "d61c70aa1e93: Download complete\n",
      "c4cd934092e7: Verifying Checksum\n",
      "c4cd934092e7: Download complete\n",
      "182a871c314a: Verifying Checksum\n",
      "182a871c314a: Download complete\n",
      "e183586e7d41: Verifying Checksum\n",
      "e183586e7d41: Download complete\n",
      "4bbfd2c87b75: Pull complete\n",
      "c2fb7190f97a: Verifying Checksum\n",
      "c2fb7190f97a: Download complete\n",
      "6de368d18056: Verifying Checksum\n",
      "6de368d18056: Download complete\n",
      "957f2522dff4: Verifying Checksum\n",
      "957f2522dff4: Download complete\n",
      "d2e110be24e1: Pull complete\n",
      "143f80195431: Verifying Checksum\n",
      "143f80195431: Download complete\n",
      "001b034ddad5: Verifying Checksum\n",
      "001b034ddad5: Download complete\n",
      "889a7173dcfe: Pull complete\n",
      "6009a622672a: Pull complete\n",
      "143f80195431: Pull complete\n",
      "eccbe17c44e1: Pull complete\n",
      "c4cd934092e7: Pull complete\n",
      "d61c70aa1e93: Pull complete\n",
      "001b034ddad5: Pull complete\n",
      "182a871c314a: Pull complete\n",
      "e183586e7d41: Pull complete\n",
      "c2fb7190f97a: Pull complete\n",
      "6de368d18056: Pull complete\n",
      "957f2522dff4: Pull complete\n",
      "Digest: sha256:745da0b169d57ae85592824e6d380bb1db20da7084b7e0bfa7bba2a997907caf\n",
      "Status: Downloaded newer image for ghcr.io/pytorch/torchx:0.1.0rc1\n",
      " ---> 39111ab6e741\n",
      "Step 2/2 : ADD my_app.py .\n",
      " ---> 3eddcb679c1f\n",
      "Successfully built 3eddcb679c1f\n",
      "Successfully tagged my_app:latest\n"
     ]
    }
   ],
   "source": [
    "%%sh\n",
    "docker build -t my_app:latest -f Dockerfile ."
   ]
  },
  {
   "cell_type": "markdown",
   "id": "f79dc14e",
   "metadata": {},
   "source": [
    "We can then launch it on the local scheduler."
   ]
  },
  {
   "cell_type": "code",
   "execution_count": 6,
   "id": "6477bcc7",
   "metadata": {
    "execution": {
     "iopub.execute_input": "2021-10-15T20:47:01.150250Z",
     "iopub.status.busy": "2021-10-15T20:47:01.149532Z",
     "iopub.status.idle": "2021-10-15T20:47:02.933085Z",
     "shell.execute_reply": "2021-10-15T20:47:02.932624Z"
    }
   },
   "outputs": [
    {
     "name": "stdout",
     "output_type": "stream",
     "text": [
      "Hello, your name!\n",
      "local_docker://torchx/hello_world_05a092fb\n"
     ]
    },
    {
     "name": "stderr",
     "output_type": "stream",
     "text": [
      "Error response from daemon: pull access denied for my_app, repository does not exist or may require 'docker login': denied: requested access to the resource is denied\n",
      "torchx 2021-10-15 20:47:01 WARNING  failed to fetch image my_app:latest, falling back to local: Command '['docker', 'pull', 'my_app:latest']' returned non-zero exit status 1.\n",
      "torchx 2021-10-15 20:47:01 INFO     Waiting for the app to finish...\n",
      "torchx 2021-10-15 20:47:02 INFO     Job finished: SUCCEEDED\n"
     ]
    }
   ],
   "source": [
    "%%sh\n",
    "torchx run --scheduler local_docker my_component.py:greet --image \"my_app:latest\" --user \"your name\""
   ]
  },
  {
   "cell_type": "markdown",
   "id": "dcb53532",
   "metadata": {},
   "source": [
    "If you have a Kubernetes cluster you can use the Kubernetes scheduler to launch\n",
    "this on the cluster instead."
   ]
  }
 ],
 "metadata": {
  "jupytext": {
   "cell_metadata_filter": "-all",
   "main_language": "python",
   "notebook_metadata_filter": "-all",
   "text_representation": {
    "extension": ".md",
    "format_name": "markdown"
   }
  },
  "language_info": {
   "codemirror_mode": {
    "name": "ipython",
    "version": 3
   },
   "file_extension": ".py",
   "mimetype": "text/x-python",
   "name": "python",
   "nbconvert_exporter": "python",
   "pygments_lexer": "ipython3",
   "version": "3.8.12"
  }
 },
 "nbformat": 4,
 "nbformat_minor": 5
}
