{
 "cells": [
  {
   "cell_type": "markdown",
   "id": "8322ec61",
   "metadata": {},
   "source": [
    "# Hello World\n",
    "\n",
    "This is a self contained guide on how to build a simple app and component spec\n",
    "and launch it via two different schedulers.\n",
    "\n",
    "See the [Quickstart](../quickstart.rst) for how to install TorchX locally before\n",
    "following this example.\n",
    "\n",
    "Lets start off with writing a simple \"Hello World\" python app. This is just a\n",
    "normal python program and can contain anything you'd like.\n",
    "\n",
    "> **NOTE**: This example uses Jupyter Notebook `%%writefile` to create local files for\n",
    "example purposes. Under normal usage you would have these as standalone files."
   ]
  },
  {
   "cell_type": "code",
   "execution_count": 1,
   "id": "5ee3d69b",
   "metadata": {
    "execution": {
     "iopub.execute_input": "2021-10-15T22:35:00.755845Z",
     "iopub.status.busy": "2021-10-15T22:35:00.753857Z",
     "iopub.status.idle": "2021-10-15T22:35:00.758227Z",
     "shell.execute_reply": "2021-10-15T22:35:00.758550Z"
    }
   },
   "outputs": [
    {
     "name": "stdout",
     "output_type": "stream",
     "text": [
      "Writing my_app.py\n"
     ]
    }
   ],
   "source": [
    "%%writefile my_app.py\n",
    "\n",
    "import sys\n",
    "import argparse\n",
    "\n",
    "def main(user: str) -> None:\n",
    "    print(f\"Hello, {user}!\")\n",
    "\n",
    "if __name__ == \"__main__\":\n",
    "    parser = argparse.ArgumentParser(\n",
    "        description=\"Hello world app\"\n",
    "    )\n",
    "    parser.add_argument(\n",
    "        \"--user\",\n",
    "        type=str,\n",
    "        help=\"the person to greet\",\n",
    "        required=True,\n",
    "    )\n",
    "    args = parser.parse_args(sys.argv[1:])\n",
    "\n",
    "    main(args.user)"
   ]
  },
  {
   "cell_type": "markdown",
   "id": "9c8b16e1",
   "metadata": {},
   "source": [
    "Now that we have an app we can write the component file for it. This\n",
    "function allows us to reuse and share our app in a user friendly way.\n",
    "\n",
    "We can use this component from the `torchx` cli or programmatically as part of a\n",
    "pipeline."
   ]
  },
  {
   "cell_type": "code",
   "execution_count": 2,
   "id": "1bca8a92",
   "metadata": {
    "execution": {
     "iopub.execute_input": "2021-10-15T22:35:00.763824Z",
     "iopub.status.busy": "2021-10-15T22:35:00.762828Z",
     "iopub.status.idle": "2021-10-15T22:35:00.765307Z",
     "shell.execute_reply": "2021-10-15T22:35:00.764907Z"
    }
   },
   "outputs": [
    {
     "name": "stdout",
     "output_type": "stream",
     "text": [
      "Writing my_component.py\n"
     ]
    }
   ],
   "source": [
    "%%writefile my_component.py\n",
    "\n",
    "import torchx.specs as specs\n",
    "\n",
    "def greet(user: str, image: str = \"my_app:latest\") -> specs.AppDef:\n",
    "    \"\"\"\n",
    "    Echos a message to stdout (calls /bin/echo)\n",
    "\n",
    "    Args:\n",
    "        user: name of the person to greet\n",
    "        image: image to use\n",
    "    \"\"\"\n",
    "    return specs.AppDef(\n",
    "        name=\"hello_world\",\n",
    "        roles=[\n",
    "            specs.Role(\n",
    "                name=\"greeter\",\n",
    "                image=image,\n",
    "                entrypoint=\"python\",\n",
    "                args=[\n",
    "                    \"-m\", \"my_app\",\n",
    "                    \"--user\", user,\n",
    "                ],\n",
    "            )\n",
    "        ],\n",
    "    )"
   ]
  },
  {
   "cell_type": "markdown",
   "id": "bb806571",
   "metadata": {},
   "source": [
    "Once we write our component, we can then call it via `torchx run`. The\n",
    "`local_cwd` scheduler executes the component relative to the current directory."
   ]
  },
  {
   "cell_type": "code",
   "execution_count": 3,
   "id": "ec2e00dd",
   "metadata": {
    "execution": {
     "iopub.execute_input": "2021-10-15T22:35:00.771589Z",
     "iopub.status.busy": "2021-10-15T22:35:00.768313Z",
     "iopub.status.idle": "2021-10-15T22:35:02.216658Z",
     "shell.execute_reply": "2021-10-15T22:35:02.216170Z"
    }
   },
   "outputs": [
    {
     "name": "stdout",
     "output_type": "stream",
     "text": [
      "Hello, your name!\n",
      "local_cwd://torchx/hello_world_51ccaa34\n"
     ]
    },
    {
     "name": "stderr",
     "output_type": "stream",
     "text": [
      "torchx 2021-10-15 22:35:01 INFO     Waiting for the app to finish...\n",
      "torchx 2021-10-15 22:35:02 INFO     Job finished: SUCCEEDED\n"
     ]
    }
   ],
   "source": [
    "%%sh\n",
    "torchx run --scheduler local_cwd my_component.py:greet --user \"your name\""
   ]
  },
  {
   "cell_type": "markdown",
   "id": "2ff49f18",
   "metadata": {},
   "source": [
    "If we want to run in other environments, we can build a Docker container so we\n",
    "can run our component in Docker enabled environments such as Kubernetes or via\n",
    "the local Docker scheduler.\n",
    "\n",
    "> **NOTE:** this requires Docker installed and won't work in environments such as\n",
    "Google Colab."
   ]
  },
  {
   "cell_type": "code",
   "execution_count": 4,
   "id": "ab4a5ff0",
   "metadata": {
    "execution": {
     "iopub.execute_input": "2021-10-15T22:35:02.222015Z",
     "iopub.status.busy": "2021-10-15T22:35:02.221479Z",
     "iopub.status.idle": "2021-10-15T22:35:02.225641Z",
     "shell.execute_reply": "2021-10-15T22:35:02.225137Z"
    }
   },
   "outputs": [
    {
     "name": "stdout",
     "output_type": "stream",
     "text": [
      "Writing Dockerfile\n"
     ]
    }
   ],
   "source": [
    "%%writefile Dockerfile\n",
    "\n",
    "FROM ghcr.io/pytorch/torchx:0.1.0rc1\n",
    "\n",
    "ADD my_app.py ."
   ]
  },
  {
   "cell_type": "markdown",
   "id": "2e2f5b3f",
   "metadata": {},
   "source": [
    "Once we have the Dockerfile created we can create our docker image."
   ]
  },
  {
   "cell_type": "code",
   "execution_count": 5,
   "id": "166e1894",
   "metadata": {
    "execution": {
     "iopub.execute_input": "2021-10-15T22:35:02.232351Z",
     "iopub.status.busy": "2021-10-15T22:35:02.229243Z",
     "iopub.status.idle": "2021-10-15T22:37:26.598453Z",
     "shell.execute_reply": "2021-10-15T22:37:26.598052Z"
    }
   },
   "outputs": [
    {
     "name": "stdout",
     "output_type": "stream",
     "text": [
      "Sending build context to Docker daemon  8.192kB\r",
      "\r\n",
      "Step 1/2 : FROM ghcr.io/pytorch/torchx:0.1.0rc1\n",
      "0.1.0rc1: Pulling from pytorch/torchx\n",
      "4bbfd2c87b75: Pulling fs layer\n",
      "d2e110be24e1: Pulling fs layer\n",
      "889a7173dcfe: Pulling fs layer\n",
      "6009a622672a: Pulling fs layer\n",
      "143f80195431: Pulling fs layer\n",
      "eccbe17c44e1: Pulling fs layer\n",
      "764aa5f3c75c: Pulling fs layer\n",
      "03bbae226dd3: Pulling fs layer\n",
      "f91ce314e3e5: Pulling fs layer\n",
      "9abb026e37ac: Pulling fs layer\n",
      "ce7611d0e903: Pulling fs layer\n",
      "4fbc52a9cbf0: Pulling fs layer\n",
      "b539c764bee5: Pulling fs layer\n",
      "291efc29e62d: Pulling fs layer\n",
      "6009a622672a: Waiting\n",
      "143f80195431: Waiting\n",
      "eccbe17c44e1: Waiting\n",
      "764aa5f3c75c: Waiting\n",
      "03bbae226dd3: Waiting\n",
      "f91ce314e3e5: Waiting\n",
      "9abb026e37ac: Waiting\n",
      "ce7611d0e903: Waiting\n",
      "4fbc52a9cbf0: Waiting\n",
      "b539c764bee5: Waiting\n",
      "291efc29e62d: Waiting\n",
      "d2e110be24e1: Verifying Checksum\n",
      "d2e110be24e1: Download complete\n",
      "889a7173dcfe: Verifying Checksum\n",
      "889a7173dcfe: Download complete\n",
      "6009a622672a: Verifying Checksum\n",
      "6009a622672a: Download complete\n",
      "eccbe17c44e1: Verifying Checksum\n",
      "eccbe17c44e1: Download complete\n",
      "4bbfd2c87b75: Verifying Checksum\n",
      "4bbfd2c87b75: Download complete\n",
      "03bbae226dd3: Verifying Checksum\n",
      "03bbae226dd3: Download complete\n",
      "764aa5f3c75c: Verifying Checksum\n",
      "764aa5f3c75c: Download complete\n",
      "9abb026e37ac: Verifying Checksum\n",
      "9abb026e37ac: Download complete\n",
      "ce7611d0e903: Verifying Checksum\n",
      "ce7611d0e903: Download complete\n",
      "4fbc52a9cbf0: Verifying Checksum\n",
      "4fbc52a9cbf0: Download complete\n",
      "b539c764bee5: Verifying Checksum\n",
      "b539c764bee5: Download complete\n",
      "291efc29e62d: Verifying Checksum\n",
      "291efc29e62d: Download complete\n",
      "4bbfd2c87b75: Pull complete\n",
      "143f80195431: Verifying Checksum\n",
      "143f80195431: Download complete\n",
      "f91ce314e3e5: Verifying Checksum\n",
      "f91ce314e3e5: Download complete\n",
      "d2e110be24e1: Pull complete\n",
      "889a7173dcfe: Pull complete\n",
      "6009a622672a: Pull complete\n",
      "143f80195431: Pull complete\n",
      "eccbe17c44e1: Pull complete\n",
      "764aa5f3c75c: Pull complete\n",
      "03bbae226dd3: Pull complete\n",
      "f91ce314e3e5: Pull complete\n",
      "9abb026e37ac: Pull complete\n",
      "ce7611d0e903: Pull complete\n",
      "4fbc52a9cbf0: Pull complete\n",
      "b539c764bee5: Pull complete\n",
      "291efc29e62d: Pull complete\n",
      "Digest: sha256:7a46d90dcb71281ab965ebee6cc305658d9316222012851b042e54e15a7bcd58\n",
      "Status: Downloaded newer image for ghcr.io/pytorch/torchx:0.1.0rc1\n",
      " ---> ad6ad956e8c7\n",
      "Step 2/2 : ADD my_app.py .\n",
      " ---> 3b132c566080\n",
      "Successfully built 3b132c566080\n",
      "Successfully tagged my_app:latest\n"
     ]
    }
   ],
   "source": [
    "%%sh\n",
    "docker build -t my_app:latest -f Dockerfile ."
   ]
  },
  {
   "cell_type": "markdown",
   "id": "85683397",
   "metadata": {},
   "source": [
    "We can then launch it on the local scheduler."
   ]
  },
  {
   "cell_type": "code",
   "execution_count": 6,
   "id": "ea798423",
   "metadata": {
    "execution": {
     "iopub.execute_input": "2021-10-15T22:37:26.608207Z",
     "iopub.status.busy": "2021-10-15T22:37:26.606611Z",
     "iopub.status.idle": "2021-10-15T22:37:28.491086Z",
     "shell.execute_reply": "2021-10-15T22:37:28.491850Z"
    }
   },
   "outputs": [
    {
     "name": "stdout",
     "output_type": "stream",
     "text": [
      "Hello, your name!\n",
      "local_docker://torchx/hello_world_e906d47e\n"
     ]
    },
    {
     "name": "stderr",
     "output_type": "stream",
     "text": [
      "Error response from daemon: pull access denied for my_app, repository does not exist or may require 'docker login': denied: requested access to the resource is denied\n",
      "torchx 2021-10-15 22:37:27 WARNING  failed to fetch image my_app:latest, falling back to local: Command '['docker', 'pull', 'my_app:latest']' returned non-zero exit status 1.\n",
      "torchx 2021-10-15 22:37:27 INFO     Waiting for the app to finish...\n",
      "torchx 2021-10-15 22:37:28 INFO     Job finished: SUCCEEDED\n"
     ]
    }
   ],
   "source": [
    "%%sh\n",
    "torchx run --scheduler local_docker my_component.py:greet --image \"my_app:latest\" --user \"your name\""
   ]
  },
  {
   "cell_type": "markdown",
   "id": "dab11f90",
   "metadata": {},
   "source": [
    "If you have a Kubernetes cluster you can use the Kubernetes scheduler to launch\n",
    "this on the cluster instead."
   ]
  }
 ],
 "metadata": {
  "jupytext": {
   "cell_metadata_filter": "-all",
   "main_language": "python",
   "notebook_metadata_filter": "-all",
   "text_representation": {
    "extension": ".md",
    "format_name": "markdown"
   }
  },
  "language_info": {
   "codemirror_mode": {
    "name": "ipython",
    "version": 3
   },
   "file_extension": ".py",
   "mimetype": "text/x-python",
   "name": "python",
   "nbconvert_exporter": "python",
   "pygments_lexer": "ipython3",
   "version": "3.8.12"
  }
 },
 "nbformat": 4,
 "nbformat_minor": 5
}
