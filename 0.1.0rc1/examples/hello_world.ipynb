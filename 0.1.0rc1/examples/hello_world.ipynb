{
 "cells": [
  {
   "cell_type": "markdown",
   "id": "26b21b67",
   "metadata": {},
   "source": [
    "# Hello World\n",
    "\n",
    "This is a self contained guide on how to build a simple app and component spec\n",
    "and launch it via two different schedulers.\n",
    "\n",
    "See the [Quickstart](../quickstart.rst) for how to install TorchX locally before\n",
    "following this example.\n",
    "\n",
    "Lets start off with writing a simple \"Hello World\" python app. This is just a\n",
    "normal python program and can contain anything you'd like.\n",
    "\n",
    "> **NOTE**: This example uses Jupyter Notebook `%%writefile` to create local files for\n",
    "example purposes. Under normal usage you would have these as standalone files."
   ]
  },
  {
   "cell_type": "code",
   "execution_count": 1,
   "id": "9d28b261",
   "metadata": {
    "execution": {
     "iopub.execute_input": "2021-10-18T18:48:45.008043Z",
     "iopub.status.busy": "2021-10-18T18:48:45.007263Z",
     "iopub.status.idle": "2021-10-18T18:48:45.010105Z",
     "shell.execute_reply": "2021-10-18T18:48:45.010406Z"
    }
   },
   "outputs": [
    {
     "name": "stdout",
     "output_type": "stream",
     "text": [
      "Overwriting my_app.py\n"
     ]
    }
   ],
   "source": [
    "%%writefile my_app.py\n",
    "\n",
    "import sys\n",
    "import argparse\n",
    "\n",
    "def main(user: str) -> None:\n",
    "    print(f\"Hello, {user}!\")\n",
    "\n",
    "if __name__ == \"__main__\":\n",
    "    parser = argparse.ArgumentParser(\n",
    "        description=\"Hello world app\"\n",
    "    )\n",
    "    parser.add_argument(\n",
    "        \"--user\",\n",
    "        type=str,\n",
    "        help=\"the person to greet\",\n",
    "        required=True,\n",
    "    )\n",
    "    args = parser.parse_args(sys.argv[1:])\n",
    "\n",
    "    main(args.user)"
   ]
  },
  {
   "cell_type": "markdown",
   "id": "6dad16a7",
   "metadata": {},
   "source": [
    "Now that we have an app we can write the component file for it. This\n",
    "function allows us to reuse and share our app in a user friendly way.\n",
    "\n",
    "We can use this component from the `torchx` cli or programmatically as part of a\n",
    "pipeline."
   ]
  },
  {
   "cell_type": "code",
   "execution_count": 2,
   "id": "c94ba8d3",
   "metadata": {
    "execution": {
     "iopub.execute_input": "2021-10-18T18:48:45.014334Z",
     "iopub.status.busy": "2021-10-18T18:48:45.013871Z",
     "iopub.status.idle": "2021-10-18T18:48:45.015844Z",
     "shell.execute_reply": "2021-10-18T18:48:45.016145Z"
    }
   },
   "outputs": [
    {
     "name": "stdout",
     "output_type": "stream",
     "text": [
      "Overwriting my_component.py\n"
     ]
    }
   ],
   "source": [
    "%%writefile my_component.py\n",
    "\n",
    "import torchx.specs as specs\n",
    "\n",
    "def greet(user: str, image: str = \"my_app:latest\") -> specs.AppDef:\n",
    "    \"\"\"\n",
    "    Echos a message to stdout (calls /bin/echo)\n",
    "\n",
    "    Args:\n",
    "        user: name of the person to greet\n",
    "        image: image to use\n",
    "    \"\"\"\n",
    "    return specs.AppDef(\n",
    "        name=\"hello_world\",\n",
    "        roles=[\n",
    "            specs.Role(\n",
    "                name=\"greeter\",\n",
    "                image=image,\n",
    "                entrypoint=\"python\",\n",
    "                args=[\n",
    "                    \"-m\", \"my_app\",\n",
    "                    \"--user\", user,\n",
    "                ],\n",
    "            )\n",
    "        ],\n",
    "    )"
   ]
  },
  {
   "cell_type": "markdown",
   "id": "781f10dc",
   "metadata": {},
   "source": [
    "Once we write our component, we can then call it via `torchx run`. The\n",
    "`local_cwd` scheduler executes the component relative to the current directory."
   ]
  },
  {
   "cell_type": "code",
   "execution_count": 3,
   "id": "58f976d4",
   "metadata": {
    "execution": {
     "iopub.execute_input": "2021-10-18T18:48:45.018866Z",
     "iopub.status.busy": "2021-10-18T18:48:45.018514Z",
     "iopub.status.idle": "2021-10-18T18:48:46.355290Z",
     "shell.execute_reply": "2021-10-18T18:48:46.354715Z"
    }
   },
   "outputs": [
    {
     "name": "stdout",
     "output_type": "stream",
     "text": [
      "Hello, your name!\n",
      "local_cwd://torchx/hello_world_ed42ed11\n"
     ]
    },
    {
     "name": "stderr",
     "output_type": "stream",
     "text": [
      "torchx 2021-10-18 11:48:45 INFO     Waiting for the app to finish...\n",
      "torchx 2021-10-18 11:48:46 INFO     Job finished: SUCCEEDED\n"
     ]
    }
   ],
   "source": [
    "%%sh\n",
    "torchx run --scheduler local_cwd my_component.py:greet --user \"your name\""
   ]
  },
  {
   "cell_type": "markdown",
   "id": "3024e635",
   "metadata": {},
   "source": [
    "If we want to run in other environments, we can build a Docker container so we\n",
    "can run our component in Docker enabled environments such as Kubernetes or via\n",
    "the local Docker scheduler.\n",
    "\n",
    "> **NOTE:** this requires Docker installed and won't work in environments such as\n",
    "Google Colab."
   ]
  },
  {
   "cell_type": "code",
   "execution_count": 4,
   "id": "5f93b7d6",
   "metadata": {
    "execution": {
     "iopub.execute_input": "2021-10-18T18:48:46.360365Z",
     "iopub.status.busy": "2021-10-18T18:48:46.359765Z",
     "iopub.status.idle": "2021-10-18T18:48:46.362723Z",
     "shell.execute_reply": "2021-10-18T18:48:46.362163Z"
    }
   },
   "outputs": [
    {
     "name": "stdout",
     "output_type": "stream",
     "text": [
      "Overwriting Dockerfile\n"
     ]
    }
   ],
   "source": [
    "%%writefile Dockerfile\n",
    "\n",
    "FROM ghcr.io/pytorch/torchx:0.1.0rc1\n",
    "\n",
    "ADD my_app.py ."
   ]
  },
  {
   "cell_type": "markdown",
   "id": "e53caee4",
   "metadata": {},
   "source": [
    "Once we have the Dockerfile created we can create our docker image."
   ]
  },
  {
   "cell_type": "code",
   "execution_count": 5,
   "id": "5820c964",
   "metadata": {
    "execution": {
     "iopub.execute_input": "2021-10-18T18:48:46.366449Z",
     "iopub.status.busy": "2021-10-18T18:48:46.365897Z",
     "iopub.status.idle": "2021-10-18T18:48:46.432761Z",
     "shell.execute_reply": "2021-10-18T18:48:46.432393Z"
    }
   },
   "outputs": [
    {
     "name": "stdout",
     "output_type": "stream",
     "text": [
      "Sending build context to Docker daemon  9.728kB\r",
      "\r\n",
      "Step 1/2 : FROM ghcr.io/pytorch/torchx:0.1.0rc1\n",
      " ---> 15fd31611433\n",
      "Step 2/2 : ADD my_app.py .\n",
      " ---> Using cache\n",
      " ---> 9cedd7f457fb\n",
      "Successfully built 9cedd7f457fb\n",
      "Successfully tagged my_app:latest\n"
     ]
    }
   ],
   "source": [
    "%%sh\n",
    "docker build -t my_app:latest -f Dockerfile ."
   ]
  },
  {
   "cell_type": "markdown",
   "id": "38f5a83e",
   "metadata": {},
   "source": [
    "We can then launch it on the local scheduler."
   ]
  },
  {
   "cell_type": "code",
   "execution_count": 6,
   "id": "22a0d50b",
   "metadata": {
    "execution": {
     "iopub.execute_input": "2021-10-18T18:48:46.437750Z",
     "iopub.status.busy": "2021-10-18T18:48:46.437351Z",
     "iopub.status.idle": "2021-10-18T18:48:49.699727Z",
     "shell.execute_reply": "2021-10-18T18:48:49.699140Z"
    }
   },
   "outputs": [
    {
     "name": "stdout",
     "output_type": "stream",
     "text": [
      "Hello, your name!\n",
      "local_docker://torchx/hello_world_0619d6b3\n"
     ]
    },
    {
     "name": "stderr",
     "output_type": "stream",
     "text": [
      "Error response from daemon: pull access denied for my_app, repository does not exist or may require 'docker login': denied: requested access to the resource is denied\n",
      "torchx 2021-10-18 11:48:48 WARNING  failed to fetch image my_app:latest, falling back to local: Command '['docker', 'pull', 'my_app:latest']' returned non-zero exit status 1.\n",
      "torchx 2021-10-18 11:48:48 INFO     Waiting for the app to finish...\n",
      "WARNING: IPv4 forwarding is disabled. Networking will not work.\n",
      "torchx 2021-10-18 11:48:49 INFO     Job finished: SUCCEEDED\n"
     ]
    }
   ],
   "source": [
    "%%sh\n",
    "torchx run --scheduler local_docker my_component.py:greet --image \"my_app:latest\" --user \"your name\""
   ]
  },
  {
   "cell_type": "markdown",
   "id": "a96563ce",
   "metadata": {},
   "source": [
    "If you have a Kubernetes cluster you can use the Kubernetes scheduler to launch\n",
    "this on the cluster instead."
   ]
  }
 ],
 "metadata": {
  "jupytext": {
   "cell_metadata_filter": "-all",
   "main_language": "python",
   "notebook_metadata_filter": "-all",
   "text_representation": {
    "extension": ".md",
    "format_name": "markdown"
   }
  },
  "language_info": {
   "codemirror_mode": {
    "name": "ipython",
    "version": 3
   },
   "file_extension": ".py",
   "mimetype": "text/x-python",
   "name": "python",
   "nbconvert_exporter": "python",
   "pygments_lexer": "ipython3",
   "version": "3.8.10"
  }
 },
 "nbformat": 4,
 "nbformat_minor": 5
}
