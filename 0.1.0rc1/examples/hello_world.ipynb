{
 "cells": [
  {
   "cell_type": "markdown",
   "id": "538b5319",
   "metadata": {},
   "source": [
    "# Hello World\n",
    "\n",
    "This is a self contained guide on how to build a simple app and component spec\n",
    "and launch it via two different schedulers.\n",
    "\n",
    "See the [Quickstart](../quickstart.rst) for how to install TorchX locally before\n",
    "following this example.\n",
    "\n",
    "Lets start off with writing a simple \"Hello World\" python app. This is just a\n",
    "normal python program and can contain anything you'd like.\n",
    "\n",
    "> **NOTE**: This example uses Jupyter Notebook `%%writefile` to create local files for\n",
    "example purposes. Under normal usage you would have these as standalone files."
   ]
  },
  {
   "cell_type": "code",
   "execution_count": 1,
   "id": "e438d090",
   "metadata": {
    "execution": {
     "iopub.execute_input": "2021-10-15T17:31:01.989943Z",
     "iopub.status.busy": "2021-10-15T17:31:01.989237Z",
     "iopub.status.idle": "2021-10-15T17:31:01.998515Z",
     "shell.execute_reply": "2021-10-15T17:31:01.998964Z"
    }
   },
   "outputs": [
    {
     "name": "stdout",
     "output_type": "stream",
     "text": [
      "Writing my_app.py\n"
     ]
    }
   ],
   "source": [
    "%%writefile my_app.py\n",
    "\n",
    "import sys\n",
    "import argparse\n",
    "\n",
    "def main(user: str) -> None:\n",
    "    print(f\"Hello, {user}!\")\n",
    "\n",
    "if __name__ == \"__main__\":\n",
    "    parser = argparse.ArgumentParser(\n",
    "        description=\"Hello world app\"\n",
    "    )\n",
    "    parser.add_argument(\n",
    "        \"--user\",\n",
    "        type=str,\n",
    "        help=\"the person to greet\",\n",
    "        required=True,\n",
    "    )\n",
    "    args = parser.parse_args(sys.argv[1:])\n",
    "\n",
    "    main(args.user)"
   ]
  },
  {
   "cell_type": "markdown",
   "id": "2170a0fe",
   "metadata": {},
   "source": [
    "Now that we have an app we can write the component file for it. This\n",
    "function allows us to reuse and share our app in a user friendly way.\n",
    "\n",
    "We can use this component from the `torchx` cli or programmatically as part of a\n",
    "pipeline."
   ]
  },
  {
   "cell_type": "code",
   "execution_count": 2,
   "id": "8bc4a481",
   "metadata": {
    "execution": {
     "iopub.execute_input": "2021-10-15T17:31:02.004825Z",
     "iopub.status.busy": "2021-10-15T17:31:02.003695Z",
     "iopub.status.idle": "2021-10-15T17:31:02.006677Z",
     "shell.execute_reply": "2021-10-15T17:31:02.006175Z"
    }
   },
   "outputs": [
    {
     "name": "stdout",
     "output_type": "stream",
     "text": [
      "Writing my_component.py\n"
     ]
    }
   ],
   "source": [
    "%%writefile my_component.py\n",
    "\n",
    "import torchx.specs as specs\n",
    "\n",
    "def greet(user: str, image: str = \"my_app:latest\") -> specs.AppDef:\n",
    "    \"\"\"\n",
    "    Echos a message to stdout (calls /bin/echo)\n",
    "\n",
    "    Args:\n",
    "        user: name of the person to greet\n",
    "        image: image to use\n",
    "    \"\"\"\n",
    "    return specs.AppDef(\n",
    "        name=\"hello_world\",\n",
    "        roles=[\n",
    "            specs.Role(\n",
    "                name=\"greeter\",\n",
    "                image=image,\n",
    "                entrypoint=\"python\",\n",
    "                args=[\n",
    "                    \"-m\", \"my_app\",\n",
    "                    \"--user\", user,\n",
    "                ],\n",
    "            )\n",
    "        ],\n",
    "    )"
   ]
  },
  {
   "cell_type": "markdown",
   "id": "ec431be8",
   "metadata": {},
   "source": [
    "Once we write our component, we can then call it via `torchx run`. The\n",
    "`local_cwd` scheduler executes the component relative to the current directory."
   ]
  },
  {
   "cell_type": "code",
   "execution_count": 3,
   "id": "c16dc298",
   "metadata": {
    "execution": {
     "iopub.execute_input": "2021-10-15T17:31:02.010721Z",
     "iopub.status.busy": "2021-10-15T17:31:02.010123Z",
     "iopub.status.idle": "2021-10-15T17:31:03.505452Z",
     "shell.execute_reply": "2021-10-15T17:31:03.504978Z"
    }
   },
   "outputs": [
    {
     "name": "stdout",
     "output_type": "stream",
     "text": [
      "Hello, your name!\n",
      "local_cwd://torchx/hello_world_95241e66\n"
     ]
    },
    {
     "name": "stderr",
     "output_type": "stream",
     "text": [
      "torchx 2021-10-15 17:31:02 INFO     Waiting for the app to finish...\n",
      "torchx 2021-10-15 17:31:03 INFO     Job finished: SUCCEEDED\n"
     ]
    }
   ],
   "source": [
    "%%sh\n",
    "torchx run --scheduler local_cwd my_component.py:greet --user \"your name\""
   ]
  },
  {
   "cell_type": "markdown",
   "id": "1c6689ed",
   "metadata": {},
   "source": [
    "If we want to run in other environments, we can build a Docker container so we\n",
    "can run our component in Docker enabled environments such as Kubernetes or via\n",
    "the local Docker scheduler.\n",
    "\n",
    "> **NOTE:** this requires Docker installed and won't work in environments such as\n",
    "Google Colab."
   ]
  },
  {
   "cell_type": "code",
   "execution_count": 4,
   "id": "a6b22783",
   "metadata": {
    "execution": {
     "iopub.execute_input": "2021-10-15T17:31:03.510746Z",
     "iopub.status.busy": "2021-10-15T17:31:03.510095Z",
     "iopub.status.idle": "2021-10-15T17:31:03.512445Z",
     "shell.execute_reply": "2021-10-15T17:31:03.512804Z"
    }
   },
   "outputs": [
    {
     "name": "stdout",
     "output_type": "stream",
     "text": [
      "Writing Dockerfile\n"
     ]
    }
   ],
   "source": [
    "%%writefile Dockerfile\n",
    "\n",
    "FROM ghcr.io/pytorch/torchx:0.1.0rc1\n",
    "\n",
    "ADD my_app.py ."
   ]
  },
  {
   "cell_type": "markdown",
   "id": "7e06b9f4",
   "metadata": {},
   "source": [
    "Once we have the Dockerfile created we can create our docker image."
   ]
  },
  {
   "cell_type": "code",
   "execution_count": 5,
   "id": "84c79753",
   "metadata": {
    "execution": {
     "iopub.execute_input": "2021-10-15T17:31:03.516667Z",
     "iopub.status.busy": "2021-10-15T17:31:03.516139Z",
     "iopub.status.idle": "2021-10-15T17:33:28.877123Z",
     "shell.execute_reply": "2021-10-15T17:33:28.877528Z"
    }
   },
   "outputs": [
    {
     "name": "stdout",
     "output_type": "stream",
     "text": [
      "Sending build context to Docker daemon  8.192kB\r",
      "\r\n",
      "Step 1/2 : FROM ghcr.io/pytorch/torchx:0.1.0rc1\n",
      "0.1.0rc1: Pulling from pytorch/torchx\n",
      "4bbfd2c87b75: Pulling fs layer\n",
      "d2e110be24e1: Pulling fs layer\n",
      "889a7173dcfe: Pulling fs layer\n",
      "6009a622672a: Pulling fs layer\n",
      "143f80195431: Pulling fs layer\n",
      "eccbe17c44e1: Pulling fs layer\n",
      "7ab8618e265d: Pulling fs layer\n",
      "620843314fc2: Pulling fs layer\n",
      "2a7a8a52b596: Pulling fs layer\n",
      "af4490a4ffe5: Pulling fs layer\n",
      "f800102da56c: Pulling fs layer\n",
      "ca39f4119515: Pulling fs layer\n",
      "4e17c43bb52f: Pulling fs layer\n",
      "d3cd5cdc60e6: Pulling fs layer\n",
      "6009a622672a: Waiting\n",
      "143f80195431: Waiting\n",
      "eccbe17c44e1: Waiting\n",
      "7ab8618e265d: Waiting\n",
      "620843314fc2: Waiting\n",
      "2a7a8a52b596: Waiting\n",
      "af4490a4ffe5: Waiting\n",
      "f800102da56c: Waiting\n",
      "ca39f4119515: Waiting\n",
      "4e17c43bb52f: Waiting\n",
      "d3cd5cdc60e6: Waiting\n",
      "889a7173dcfe: Download complete\n",
      "d2e110be24e1: Verifying Checksum\n",
      "d2e110be24e1: Download complete\n",
      "6009a622672a: Verifying Checksum\n",
      "6009a622672a: Download complete\n",
      "4bbfd2c87b75: Verifying Checksum\n",
      "4bbfd2c87b75: Download complete\n",
      "eccbe17c44e1: Verifying Checksum\n",
      "eccbe17c44e1: Download complete\n",
      "620843314fc2: Verifying Checksum\n",
      "620843314fc2: Download complete\n",
      "7ab8618e265d: Verifying Checksum\n",
      "7ab8618e265d: Download complete\n",
      "af4490a4ffe5: Verifying Checksum\n",
      "af4490a4ffe5: Download complete\n",
      "f800102da56c: Verifying Checksum\n",
      "f800102da56c: Download complete\n",
      "ca39f4119515: Verifying Checksum\n",
      "ca39f4119515: Download complete\n",
      "4e17c43bb52f: Verifying Checksum\n",
      "4e17c43bb52f: Download complete\n",
      "d3cd5cdc60e6: Verifying Checksum\n",
      "d3cd5cdc60e6: Download complete\n",
      "4bbfd2c87b75: Pull complete\n",
      "2a7a8a52b596: Verifying Checksum\n",
      "2a7a8a52b596: Download complete\n",
      "143f80195431: Verifying Checksum\n",
      "143f80195431: Download complete\n",
      "d2e110be24e1: Pull complete\n",
      "889a7173dcfe: Pull complete\n",
      "6009a622672a: Pull complete\n",
      "143f80195431: Pull complete\n",
      "eccbe17c44e1: Pull complete\n",
      "7ab8618e265d: Pull complete\n",
      "620843314fc2: Pull complete\n",
      "2a7a8a52b596: Pull complete\n",
      "af4490a4ffe5: Pull complete\n",
      "f800102da56c: Pull complete\n",
      "ca39f4119515: Pull complete\n",
      "4e17c43bb52f: Pull complete\n",
      "d3cd5cdc60e6: Pull complete\n",
      "Digest: sha256:20eeb43ea995276bb34a3b4f840d75d9c8a1a820473dcb5ab150fe8bc4cef5ca\n",
      "Status: Downloaded newer image for ghcr.io/pytorch/torchx:0.1.0rc1\n",
      " ---> f61233e09955\n",
      "Step 2/2 : ADD my_app.py .\n",
      " ---> 51816a79ff0a\n",
      "Successfully built 51816a79ff0a\n",
      "Successfully tagged my_app:latest\n"
     ]
    }
   ],
   "source": [
    "%%sh\n",
    "docker build -t my_app:latest -f Dockerfile ."
   ]
  },
  {
   "cell_type": "markdown",
   "id": "ead1b860",
   "metadata": {},
   "source": [
    "We can then launch it on the local scheduler."
   ]
  },
  {
   "cell_type": "code",
   "execution_count": 6,
   "id": "032a42b5",
   "metadata": {
    "execution": {
     "iopub.execute_input": "2021-10-15T17:33:28.882655Z",
     "iopub.status.busy": "2021-10-15T17:33:28.882075Z",
     "iopub.status.idle": "2021-10-15T17:33:30.790614Z",
     "shell.execute_reply": "2021-10-15T17:33:30.791096Z"
    }
   },
   "outputs": [
    {
     "name": "stdout",
     "output_type": "stream",
     "text": [
      "Hello, your name!\n",
      "local_docker://torchx/hello_world_f719ccca\n"
     ]
    },
    {
     "name": "stderr",
     "output_type": "stream",
     "text": [
      "Error response from daemon: pull access denied for my_app, repository does not exist or may require 'docker login': denied: requested access to the resource is denied\n",
      "torchx 2021-10-15 17:33:29 WARNING  failed to fetch image my_app:latest, falling back to local: Command '['docker', 'pull', 'my_app:latest']' returned non-zero exit status 1.\n",
      "torchx 2021-10-15 17:33:29 INFO     Waiting for the app to finish...\n",
      "torchx 2021-10-15 17:33:30 INFO     Job finished: SUCCEEDED\n"
     ]
    }
   ],
   "source": [
    "%%sh\n",
    "torchx run --scheduler local_docker my_component.py:greet --image \"my_app:latest\" --user \"your name\""
   ]
  },
  {
   "cell_type": "markdown",
   "id": "af05858f",
   "metadata": {},
   "source": [
    "If you have a Kubernetes cluster you can use the Kubernetes scheduler to launch\n",
    "this on the cluster instead."
   ]
  }
 ],
 "metadata": {
  "jupytext": {
   "cell_metadata_filter": "-all",
   "main_language": "python",
   "notebook_metadata_filter": "-all",
   "text_representation": {
    "extension": ".md",
    "format_name": "markdown"
   }
  },
  "language_info": {
   "codemirror_mode": {
    "name": "ipython",
    "version": 3
   },
   "file_extension": ".py",
   "mimetype": "text/x-python",
   "name": "python",
   "nbconvert_exporter": "python",
   "pygments_lexer": "ipython3",
   "version": "3.8.12"
  }
 },
 "nbformat": 4,
 "nbformat_minor": 5
}
