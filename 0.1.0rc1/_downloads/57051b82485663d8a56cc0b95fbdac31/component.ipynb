{
  "cells": [
    {
      "cell_type": "code",
      "execution_count": null,
      "metadata": {
        "collapsed": false
      },
      "outputs": [],
      "source": [
        "!pip install torchx[kfp]\n!wget --no-clobber https://github.com/pytorch/torchx/archive/refs/heads/main.tar.gz\n!tar xf main.tar.gz --strip-components=1\n\nNOTEBOOK = True"
      ]
    },
    {
      "cell_type": "markdown",
      "metadata": {},
      "source": [
        "\n# Trainer Component Example\n\nThis is a component definition that runs the example lightning_classy_vision app.\n"
      ]
    },
    {
      "cell_type": "code",
      "execution_count": null,
      "metadata": {
        "collapsed": false
      },
      "outputs": [],
      "source": [
        "from typing import Optional, Dict\n\nimport torchx.specs.api as torchx\nfrom torchx.specs import named_resources\n\n\ndef trainer(\n    image: str,\n    output_path: str,\n    data_path: Optional[str] = None,\n    load_path: str = \"\",\n    log_path: str = \"/logs\",\n    resource: Optional[str] = None,\n    env: Optional[Dict[str, str]] = None,\n    skip_export: bool = False,\n    epochs: int = 1,\n) -> torchx.AppDef:\n    \"\"\"Runs the example lightning_classy_vision app.\n\n    Args:\n        image: image to run (e.g. foobar:latest)\n        output_path: output path for model checkpoints (e.g. file:///foo/bar)\n        load_path: path to load pretrained model from\n        data_path: path to the data to load, if data_path is not provided,\n            auto generated test data will be used\n        log_path: path to save tensorboard logs to\n        resource: the resources to use\n        env: env variables for the app\n        skip_export: disable model export\n        epochs: number of epochs to run\n    \"\"\"\n    env = env or {}\n    args = [\n        \"-m\",\n        \"torchx.examples.apps.lightning_classy_vision.train\",\n        \"--output_path\",\n        output_path,\n        \"--load_path\",\n        load_path,\n        \"--log_path\",\n        log_path,\n        \"--epochs\",\n        str(epochs),\n    ]\n    if data_path:\n        args += [\"--data_path\", data_path]\n    else:\n        args.append(\"--test\")\n    if skip_export:\n        args.append(\"--skip_export\")\n    return torchx.AppDef(\n        name=\"cv-trainer\",\n        roles=[\n            torchx.Role(\n                name=\"worker\",\n                entrypoint=\"python\",\n                args=args,\n                env=env,\n                image=image,\n                resource=named_resources[resource]\n                if resource\n                else torchx.Resource(cpu=1, gpu=0, memMB=1500),\n            )\n        ],\n    )\n\n\ndef interpret(\n    image: str,\n    load_path: str,\n    data_path: str,\n    output_path: str,\n    resource: Optional[str] = None,\n) -> torchx.AppDef:\n    \"\"\"Runs the model interpretability app on the model outputted by the training\n    component.\n\n    Args:\n        image: image to run (e.g. foobar:latest)\n        load_path: path to load pretrained model from\n        data_path: path to the data to load\n        output_path: output path for model checkpoints (e.g. file:///foo/bar)\n        resource: the resources to use\n    \"\"\"\n    return torchx.AppDef(\n        name=\"cv-interpret\",\n        roles=[\n            torchx.Role(\n                name=\"worker\",\n                entrypoint=\"python\",\n                args=[\n                    \"-m\",\n                    \"torchx.examples.apps.lightning_classy_vision.interpret\",\n                    \"--load_path\",\n                    load_path,\n                    \"--data_path\",\n                    data_path,\n                    \"--output_path\",\n                    output_path,\n                ],\n                image=image,\n                resource=named_resources[resource]\n                if resource\n                else torchx.Resource(cpu=1, gpu=0, memMB=1024),\n            )\n        ],\n    )"
      ]
    }
  ],
  "metadata": {
    "kernelspec": {
      "display_name": "Python 3",
      "language": "python",
      "name": "python3"
    },
    "language_info": {
      "codemirror_mode": {
        "name": "ipython",
        "version": 3
      },
      "file_extension": ".py",
      "mimetype": "text/x-python",
      "name": "python",
      "nbconvert_exporter": "python",
      "pygments_lexer": "ipython3",
      "version": "3.8.12"
    }
  },
  "nbformat": 4,
  "nbformat_minor": 0
}