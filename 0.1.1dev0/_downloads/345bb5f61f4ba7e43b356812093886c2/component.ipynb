{
  "cells": [
    {
      "cell_type": "code",
      "execution_count": null,
      "metadata": {
        "collapsed": false
      },
      "outputs": [],
      "source": [
        "!pip install torchx[kfp]\n!wget --no-clobber https://github.com/pytorch/torchx/archive/refs/heads/main.tar.gz\n!tar xf main.tar.gz --strip-components=1\n\nNOTEBOOK = True"
      ]
    },
    {
      "cell_type": "markdown",
      "metadata": {},
      "source": [
        "\nData Preprocessing Example Components\n======================================\n\nThis is a component definition that runs the example datapreproc app.\n"
      ]
    },
    {
      "cell_type": "code",
      "execution_count": null,
      "metadata": {
        "collapsed": false
      },
      "outputs": [],
      "source": [
        "from typing import Dict, Optional\n\nimport torchx.specs as specs\n\n\ndef data_preproc(\n    image: str,\n    output_path: str,\n    input_path: str = \"http://cs231n.stanford.edu/tiny-imagenet-200.zip\",\n    env: Optional[Dict[str, str]] = None,\n    resource: Optional[str] = None,\n) -> specs.AppDef:\n    \"\"\"Data PreProc app.\n\n    Data PreProc app.\n\n    Args:\n        image: Image to use\n        output_path: Url-like path to save the processes compressed images\n        input_path: Url-like path to fetch the imagenet dataset\n        env: Env variables to transfer to the user script\n        resource: String representation of the resource\n        dryrun: Starts the app, but does not actually perform any work.\n\n    Returns:\n        specs.AppDef: TorchX AppDef\n    \"\"\"\n\n    env = env or {}\n    args = [\n        \"-m\",\n        \"torchx.examples.apps.datapreproc.datapreproc\",\n        \"--input_path\",\n        input_path,\n        \"--output_path\",\n        output_path,\n    ]\n\n    if resource:\n        resource_def = specs.named_resources[resource]\n    else:\n        resource_def = specs.Resource(cpu=1, gpu=0, memMB=1024)\n    return specs.AppDef(\n        name=\"datapreproc\",\n        roles=[\n            specs.Role(\n                name=\"worker\",\n                image=image,\n                entrypoint=\"python\",\n                args=args,\n                env=env,\n                resource=resource_def,\n            )\n        ],\n    )\n\n\n# sphinx_gallery_thumbnail_path = '_static/img/gallery-component.png'"
      ]
    }
  ],
  "metadata": {
    "kernelspec": {
      "display_name": "Python 3",
      "language": "python",
      "name": "python3"
    },
    "language_info": {
      "codemirror_mode": {
        "name": "ipython",
        "version": 3
      },
      "file_extension": ".py",
      "mimetype": "text/x-python",
      "name": "python",
      "nbconvert_exporter": "python",
      "pygments_lexer": "ipython3",
      "version": "3.8.12"
    }
  },
  "nbformat": 4,
  "nbformat_minor": 0
}