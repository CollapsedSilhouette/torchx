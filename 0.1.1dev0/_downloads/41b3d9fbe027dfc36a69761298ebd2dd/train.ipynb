{
  "cells": [
    {
      "cell_type": "code",
      "execution_count": null,
      "metadata": {
        "collapsed": false
      },
      "outputs": [],
      "source": [
        "!pip install torchx[kfp]\n!wget --no-clobber https://github.com/pytorch/torchx/archive/refs/heads/main.tar.gz\n!tar xf main.tar.gz --strip-components=1\n\nNOTEBOOK = True"
      ]
    },
    {
      "cell_type": "markdown",
      "metadata": {},
      "source": [
        "\nTrainer App Example\n=============================================\n\nThis is an example TorchX app that uses PyTorch Lightning and ClassyVision to\ntrain a model.\n\nThis app only uses standard OSS libraries and has no runtime torchx\ndependencies. For saving and loading data and models it uses fsspec which makes\nthe app agnostic to the environment it's running in.\n"
      ]
    },
    {
      "cell_type": "code",
      "execution_count": null,
      "metadata": {
        "collapsed": false
      },
      "outputs": [],
      "source": [
        "import argparse\nimport os\nimport sys\nimport tempfile\nfrom typing import List, Optional\n\nimport pytorch_lightning as pl\nimport torch\nfrom pytorch_lightning.callbacks import ModelCheckpoint\nfrom pytorch_lightning.loggers import TensorBoardLogger\nfrom torchx.examples.apps.lightning_classy_vision.data import (\n    TinyImageNetDataModule,\n    create_random_data,\n    download_data,\n)\nfrom torchx.examples.apps.lightning_classy_vision.model import (\n    TinyImageNetModel,\n    export_inference_model,\n)\nfrom torchx.examples.apps.lightning_classy_vision.profiler import SimpleLoggingProfiler\n\n\n# ensure data and module are on the path\nsys.path.append(\".\")\n\n\ndef parse_args(argv: List[str]) -> argparse.Namespace:\n    parser = argparse.ArgumentParser(\n        description=\"pytorch lightning + classy vision TorchX example app\"\n    )\n    parser.add_argument(\n        \"--epochs\", type=int, default=3, help=\"number of epochs to train\"\n    )\n    parser.add_argument(\"--lr\", type=float, help=\"learning rate\")\n    parser.add_argument(\n        \"--batch_size\", type=int, default=32, help=\"batch size to use for training\"\n    )\n    parser.add_argument(\"--num_samples\", type=int, default=10, help=\"num_samples\")\n    parser.add_argument(\n        \"--data_path\",\n        type=str,\n        help=\"path to load the training data from, if not provided, random data will be generated\",\n    )\n    parser.add_argument(\"--skip_export\", action=\"store_true\")\n    parser.add_argument(\"--load_path\", type=str, help=\"checkpoint path to load from\")\n    parser.add_argument(\n        \"--output_path\",\n        type=str,\n        help=\"path to place checkpoints and model outputs, if not specified, checkpoints are not saved\",\n    )\n    parser.add_argument(\n        \"--log_path\",\n        type=str,\n        help=\"path to place the tensorboard logs\",\n        default=\"/tmp\",\n    )\n    parser.add_argument(\n        \"--layers\",\n        nargs=\"+\",\n        type=int,\n        help=\"the MLP hidden layers and sizes, used for neural architecture search\",\n    )\n    return parser.parse_args(argv)\n\n\ndef get_model_checkpoint(args: argparse.Namespace) -> Optional[ModelCheckpoint]:\n    if not args.output_path:\n        return None\n    # Note: It is important that each rank behaves the same.\n    # All of the ranks, or none of them should return ModelCheckpoint\n    # Otherwise, there will be deadlock for distributed training\n    return ModelCheckpoint(\n        monitor=\"train_loss\",\n        dirpath=args.output_path,\n        save_last=True,\n    )\n\n\ndef main(argv: List[str]) -> None:\n    with tempfile.TemporaryDirectory() as tmpdir:\n        args = parse_args(argv)\n\n        # Init our model\n        model = TinyImageNetModel(args.layers)\n        print(model)\n\n        # Download and setup the data module\n        if not args.data_path:\n            data_path = os.path.join(tmpdir, \"data\")\n            os.makedirs(data_path)\n            create_random_data(data_path)\n        else:\n            data_path = download_data(args.data_path, tmpdir)\n\n        data = TinyImageNetDataModule(\n            data_dir=data_path,\n            batch_size=args.batch_size,\n            num_samples=args.num_samples,\n        )\n\n        # Setup model checkpointing\n        checkpoint_callback = get_model_checkpoint(args)\n        callbacks = []\n        if checkpoint_callback:\n            callbacks.append(checkpoint_callback)\n        if args.load_path:\n            print(f\"loading checkpoint: {args.load_path}...\")\n            model.load_from_checkpoint(checkpoint_path=args.load_path)\n\n        logger = TensorBoardLogger(\n            save_dir=args.log_path, version=1, name=\"lightning_logs\"\n        )\n        # Initialize a trainer\n        num_nodes = int(os.environ.get(\"GROUP_WORLD_SIZE\", 1))\n        num_processes = int(os.environ.get(\"LOCAL_WORLD_SIZE\", 1))\n\n        if torch.cuda.is_available():\n            gpus = num_processes\n        else:\n            gpus = None\n\n        trainer = pl.Trainer(\n            num_nodes=num_nodes,\n            num_processes=num_processes,\n            gpus=gpus,\n            accelerator=\"ddp\",\n            logger=logger,\n            max_epochs=args.epochs,\n            callbacks=callbacks,\n            profiler=SimpleLoggingProfiler(logger),\n        )\n\n        # Train the model \u26a1\n        trainer.fit(model, data)\n        print(\n            f\"train acc: {model.train_acc.compute()}, val acc: {model.val_acc.compute()}\"\n        )\n\n        rank = int(os.environ.get(\"RANK\", 0))\n        if rank == 0 and not args.skip_export and args.output_path:\n            # Export the inference model\n            export_inference_model(model, args.output_path, tmpdir)\n\n\nif __name__ == \"__main__\" and \"NOTEBOOK\" not in globals():\n    main(sys.argv[1:])\n\n\n# sphinx_gallery_thumbnail_path = '_static/img/gallery-app.png'"
      ]
    }
  ],
  "metadata": {
    "kernelspec": {
      "display_name": "Python 3",
      "language": "python",
      "name": "python3"
    },
    "language_info": {
      "codemirror_mode": {
        "name": "ipython",
        "version": 3
      },
      "file_extension": ".py",
      "mimetype": "text/x-python",
      "name": "python",
      "nbconvert_exporter": "python",
      "pygments_lexer": "ipython3",
      "version": "3.8.12"
    }
  },
  "nbformat": 4,
  "nbformat_minor": 0
}