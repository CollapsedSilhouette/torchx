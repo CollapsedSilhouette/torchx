{
 "cells": [
  {
   "cell_type": "markdown",
   "id": "f4b4ce9d",
   "metadata": {},
   "source": [
    "# Quickstart\n",
    "\n",
    "This is a self contained guide on how to build a simple app and component spec\n",
    "and launch it via two different schedulers.\n",
    "\n",
    "## Installation\n",
    "\n",
    "First thing we need to do is to install the TorchX python package which includes\n",
    "the CLI and the library."
   ]
  },
  {
   "cell_type": "markdown",
   "id": "11704a6f",
   "metadata": {
    "region_name": "md"
   },
   "source": [
    "```sh\n",
    "# install torchx with all dependencies\n",
    "$ pip install torchx[dev]\n",
    "```"
   ]
  },
  {
   "cell_type": "markdown",
   "id": "e7dfb271",
   "metadata": {},
   "source": [
    "See the [README](https://github.com/pytorch/torchx) for more\n",
    "information on installation."
   ]
  },
  {
   "cell_type": "code",
   "execution_count": 1,
   "id": "3aae7300",
   "metadata": {
    "execution": {
     "iopub.execute_input": "2021-10-28T02:26:44.339011Z",
     "iopub.status.busy": "2021-10-28T02:26:44.338236Z",
     "iopub.status.idle": "2021-10-28T02:26:44.635564Z",
     "shell.execute_reply": "2021-10-28T02:26:44.634984Z"
    }
   },
   "outputs": [
    {
     "name": "stdout",
     "output_type": "stream",
     "text": [
      "usage: torchx [-h] [--log_level LOG_LEVEL] [--version]\n",
      "              {describe,log,run,builtins,runopts,status,configure} ...\n",
      "\n",
      "torchx CLI\n",
      "\n",
      "optional arguments:\n",
      "  -h, --help            show this help message and exit\n",
      "  --log_level LOG_LEVEL\n",
      "                        Python logging log level\n",
      "  --version             show program's version number and exit\n",
      "\n",
      "sub-commands:\n",
      "  Use the following commands to run operations, e.g.: torchx run ${JOB_NAME}\n",
      "\n",
      "  {describe,log,run,builtins,runopts,status,configure}\n"
     ]
    }
   ],
   "source": [
    "%%sh\n",
    "torchx --help"
   ]
  },
  {
   "cell_type": "markdown",
   "id": "01717a6f",
   "metadata": {},
   "source": [
    "## Hello World\n",
    "\n",
    "Lets start off with writing a simple \"Hello World\" python app. This is just a\n",
    "normal python program and can contain anything you'd like.\n",
    "\n",
    "<div class=\"admonition note\">\n",
    "<div class=\"admonition-title\">Note</div>\n",
    "This example uses Jupyter Notebook `%%writefile` to create local files for\n",
    "example purposes. Under normal usage you would have these as standalone files.\n",
    "</div>"
   ]
  },
  {
   "cell_type": "code",
   "execution_count": 2,
   "id": "0888ceaf",
   "metadata": {
    "execution": {
     "iopub.execute_input": "2021-10-28T02:26:44.641531Z",
     "iopub.status.busy": "2021-10-28T02:26:44.640452Z",
     "iopub.status.idle": "2021-10-28T02:26:44.644407Z",
     "shell.execute_reply": "2021-10-28T02:26:44.644008Z"
    }
   },
   "outputs": [
    {
     "name": "stdout",
     "output_type": "stream",
     "text": [
      "Writing my_app.py\n"
     ]
    }
   ],
   "source": [
    "%%writefile my_app.py\n",
    "\n",
    "import sys\n",
    "import argparse\n",
    "\n",
    "def main(user: str) -> None:\n",
    "    print(f\"Hello, {user}!\")\n",
    "\n",
    "if __name__ == \"__main__\":\n",
    "    parser = argparse.ArgumentParser(\n",
    "        description=\"Hello world app\"\n",
    "    )\n",
    "    parser.add_argument(\n",
    "        \"--user\",\n",
    "        type=str,\n",
    "        help=\"the person to greet\",\n",
    "        required=True,\n",
    "    )\n",
    "    args = parser.parse_args(sys.argv[1:])\n",
    "\n",
    "    main(args.user)"
   ]
  },
  {
   "cell_type": "markdown",
   "id": "d173e169",
   "metadata": {},
   "source": [
    "Now that we have an app we can write the component file for it. This\n",
    "function allows us to reuse and share our app in a user friendly way.\n",
    "\n",
    "We can use this component from the `torchx` cli or programmatically as part of a\n",
    "pipeline."
   ]
  },
  {
   "cell_type": "code",
   "execution_count": 3,
   "id": "13aae860",
   "metadata": {
    "execution": {
     "iopub.execute_input": "2021-10-28T02:26:44.649784Z",
     "iopub.status.busy": "2021-10-28T02:26:44.648696Z",
     "iopub.status.idle": "2021-10-28T02:26:44.651507Z",
     "shell.execute_reply": "2021-10-28T02:26:44.651061Z"
    }
   },
   "outputs": [
    {
     "name": "stdout",
     "output_type": "stream",
     "text": [
      "Writing my_component.py\n"
     ]
    }
   ],
   "source": [
    "%%writefile my_component.py\n",
    "\n",
    "import torchx.specs as specs\n",
    "\n",
    "def greet(user: str, image: str = \"my_app:latest\") -> specs.AppDef:\n",
    "    return specs.AppDef(\n",
    "        name=\"hello_world\",\n",
    "        roles=[\n",
    "            specs.Role(\n",
    "                name=\"greeter\",\n",
    "                image=image,\n",
    "                entrypoint=\"python\",\n",
    "                args=[\n",
    "                    \"-m\", \"my_app\",\n",
    "                    \"--user\", user,\n",
    "                ],\n",
    "            )\n",
    "        ],\n",
    "    )"
   ]
  },
  {
   "cell_type": "markdown",
   "id": "e68875b8",
   "metadata": {},
   "source": [
    "We can execute our component via `torchx run`. The\n",
    "`local_cwd` scheduler executes the component relative to the current directory."
   ]
  },
  {
   "cell_type": "code",
   "execution_count": 4,
   "id": "33644e78",
   "metadata": {
    "execution": {
     "iopub.execute_input": "2021-10-28T02:26:44.655070Z",
     "iopub.status.busy": "2021-10-28T02:26:44.654600Z",
     "iopub.status.idle": "2021-10-28T02:26:46.063238Z",
     "shell.execute_reply": "2021-10-28T02:26:46.063606Z"
    }
   },
   "outputs": [
    {
     "name": "stdout",
     "output_type": "stream",
     "text": [
      "Hello, your name!\n",
      "local_cwd://torchx/hello_world_c0a695d5\n"
     ]
    },
    {
     "name": "stderr",
     "output_type": "stream",
     "text": [
      "torchx 2021-10-28 02:26:45 INFO     Waiting for the app to finish...\n",
      "torchx 2021-10-28 02:26:46 INFO     Job finished: SUCCEEDED\n"
     ]
    }
   ],
   "source": [
    "%%sh\n",
    "torchx run --scheduler local_cwd my_component.py:greet --user \"your name\""
   ]
  },
  {
   "cell_type": "markdown",
   "id": "3e9e63fc",
   "metadata": {},
   "source": [
    "If we want to run in other environments, we can build a Docker container so we\n",
    "can run our component in Docker enabled environments such as Kubernetes or via\n",
    "the local Docker scheduler.\n",
    "\n",
    "<div class=\"admonition note\">\n",
    "<div class=\"admonition-title\">Note</div>\n",
    "This requires Docker installed and won't work in environments such as Google\n",
    "Colab. If you have not done so already follow the install instructions on:\n",
    "[https://docs.docker.com/get-docker/](https://docs.docker.com/get-docker/)</a>\n",
    "</div>"
   ]
  },
  {
   "cell_type": "code",
   "execution_count": 5,
   "id": "58bf6d4e",
   "metadata": {
    "execution": {
     "iopub.execute_input": "2021-10-28T02:26:46.068826Z",
     "iopub.status.busy": "2021-10-28T02:26:46.067850Z",
     "iopub.status.idle": "2021-10-28T02:26:46.071549Z",
     "shell.execute_reply": "2021-10-28T02:26:46.071108Z"
    }
   },
   "outputs": [
    {
     "name": "stdout",
     "output_type": "stream",
     "text": [
      "Writing Dockerfile\n"
     ]
    }
   ],
   "source": [
    "%%writefile Dockerfile\n",
    "\n",
    "FROM ghcr.io/pytorch/torchx:0.1.0rc1\n",
    "\n",
    "ADD my_app.py ."
   ]
  },
  {
   "cell_type": "markdown",
   "id": "1ff07058",
   "metadata": {},
   "source": [
    "Once we have the Dockerfile created we can create our docker image."
   ]
  },
  {
   "cell_type": "code",
   "execution_count": 6,
   "id": "41a0b910",
   "metadata": {
    "execution": {
     "iopub.execute_input": "2021-10-28T02:26:46.076545Z",
     "iopub.status.busy": "2021-10-28T02:26:46.074925Z",
     "iopub.status.idle": "2021-10-28T02:29:05.008647Z",
     "shell.execute_reply": "2021-10-28T02:29:05.008173Z"
    }
   },
   "outputs": [
    {
     "name": "stdout",
     "output_type": "stream",
     "text": [
      "Sending build context to Docker daemon  22.25MB\r",
      "\r\n",
      "Step 1/2 : FROM ghcr.io/pytorch/torchx:0.1.0rc1\n",
      "0.1.0rc1: Pulling from pytorch/torchx\n",
      "4bbfd2c87b75: Pulling fs layer\n",
      "d2e110be24e1: Pulling fs layer\n",
      "889a7173dcfe: Pulling fs layer\n",
      "6009a622672a: Pulling fs layer\n",
      "143f80195431: Pulling fs layer\n",
      "eccbe17c44e1: Pulling fs layer\n",
      "d4c7af0d4fa7: Pulling fs layer\n",
      "06b5edd6bf52: Pulling fs layer\n",
      "f18d016c4ccc: Pulling fs layer\n",
      "c0ad16d9fa05: Pulling fs layer\n",
      "30587ba7fd6b: Pulling fs layer\n",
      "909695be1d50: Pulling fs layer\n",
      "f119a6d0a466: Pulling fs layer\n",
      "88d87059c913: Pulling fs layer\n",
      "143f80195431: Waiting\n",
      "eccbe17c44e1: Waiting\n",
      "d4c7af0d4fa7: Waiting\n",
      "06b5edd6bf52: Waiting\n",
      "f18d016c4ccc: Waiting\n",
      "c0ad16d9fa05: Waiting\n",
      "30587ba7fd6b: Waiting\n",
      "909695be1d50: Waiting\n",
      "f119a6d0a466: Waiting\n",
      "88d87059c913: Waiting\n",
      "6009a622672a: Waiting\n",
      "889a7173dcfe: Verifying Checksum\n",
      "889a7173dcfe: Download complete\n",
      "d2e110be24e1: Verifying Checksum\n",
      "d2e110be24e1: Download complete\n",
      "4bbfd2c87b75: Verifying Checksum\n",
      "4bbfd2c87b75: Download complete\n",
      "eccbe17c44e1: Verifying Checksum\n",
      "eccbe17c44e1: Download complete\n",
      "6009a622672a: Verifying Checksum\n",
      "6009a622672a: Download complete\n",
      "06b5edd6bf52: Verifying Checksum\n",
      "06b5edd6bf52: Download complete\n",
      "d4c7af0d4fa7: Verifying Checksum\n",
      "d4c7af0d4fa7: Download complete\n",
      "c0ad16d9fa05: Verifying Checksum\n",
      "c0ad16d9fa05: Download complete\n",
      "30587ba7fd6b: Verifying Checksum\n",
      "30587ba7fd6b: Download complete\n",
      "4bbfd2c87b75: Pull complete\n",
      "909695be1d50: Verifying Checksum\n",
      "909695be1d50: Download complete\n",
      "f119a6d0a466: Verifying Checksum\n",
      "f119a6d0a466: Download complete\n",
      "88d87059c913: Verifying Checksum\n",
      "88d87059c913: Download complete\n",
      "f18d016c4ccc: Verifying Checksum\n",
      "f18d016c4ccc: Download complete\n",
      "143f80195431: Verifying Checksum\n",
      "143f80195431: Download complete\n",
      "d2e110be24e1: Pull complete\n",
      "889a7173dcfe: Pull complete\n",
      "6009a622672a: Pull complete\n",
      "143f80195431: Pull complete\n",
      "eccbe17c44e1: Pull complete\n",
      "d4c7af0d4fa7: Pull complete\n",
      "06b5edd6bf52: Pull complete\n",
      "f18d016c4ccc: Pull complete\n",
      "c0ad16d9fa05: Pull complete\n",
      "30587ba7fd6b: Pull complete\n",
      "909695be1d50: Pull complete\n",
      "f119a6d0a466: Pull complete\n",
      "88d87059c913: Pull complete\n",
      "Digest: sha256:a738949601d82e7f100fa1efeb8dde0c35ce44c66726cf38596f96d78dcd7ad3\n",
      "Status: Downloaded newer image for ghcr.io/pytorch/torchx:0.1.0rc1\n",
      " ---> 3dbec59e8049\n",
      "Step 2/2 : ADD my_app.py .\n",
      " ---> cbb3868e8f24\n",
      "Successfully built cbb3868e8f24\n",
      "Successfully tagged my_app:latest\n"
     ]
    }
   ],
   "source": [
    "%%sh\n",
    "docker build -t my_app:latest -f Dockerfile ."
   ]
  },
  {
   "cell_type": "markdown",
   "id": "7c3bc599",
   "metadata": {},
   "source": [
    "We can then launch it on the local scheduler."
   ]
  },
  {
   "cell_type": "code",
   "execution_count": 7,
   "id": "54169cd9",
   "metadata": {
    "execution": {
     "iopub.execute_input": "2021-10-28T02:29:05.016160Z",
     "iopub.status.busy": "2021-10-28T02:29:05.013005Z",
     "iopub.status.idle": "2021-10-28T02:29:06.772781Z",
     "shell.execute_reply": "2021-10-28T02:29:06.772369Z"
    }
   },
   "outputs": [
    {
     "name": "stdout",
     "output_type": "stream",
     "text": [
      "Hello, your name!\n",
      "local_docker://torchx/hello_world_ce54c226\n"
     ]
    },
    {
     "name": "stderr",
     "output_type": "stream",
     "text": [
      "Error response from daemon: pull access denied for my_app, repository does not exist or may require 'docker login': denied: requested access to the resource is denied\n",
      "torchx 2021-10-28 02:29:05 WARNING  failed to fetch image my_app:latest, falling back to local: Command '['docker', 'pull', 'my_app:latest']' returned non-zero exit status 1.\n",
      "torchx 2021-10-28 02:29:05 INFO     Waiting for the app to finish...\n",
      "torchx 2021-10-28 02:29:06 INFO     Job finished: SUCCEEDED\n"
     ]
    }
   ],
   "source": [
    "%%sh\n",
    "torchx run --scheduler local_docker my_component.py:greet --image \"my_app:latest\" --user \"your name\""
   ]
  },
  {
   "cell_type": "markdown",
   "id": "1405b729",
   "metadata": {},
   "source": [
    "If you have a Kubernetes cluster you can use the [Kubernetes scheduler](schedulers/kubernetes.rst) to launch\n",
    "this on the cluster instead.\n"
   ]
  },
  {
   "cell_type": "markdown",
   "id": "012ee448",
   "metadata": {
    "lines_to_next_cell": 2,
    "region_name": "md"
   },
   "source": [
    "```sh\n",
    "$ docker push my_app:latest\n",
    "$ torchx run --scheduler kubernetes my_component.py:greet --image \"my_app:latest\" --user \"your name\"\n",
    "```"
   ]
  },
  {
   "cell_type": "markdown",
   "id": "ae00ea7a",
   "metadata": {},
   "source": [
    "## Builtins\n",
    "\n",
    "TorchX also provides a number of builtin components with premade images. You can discover\n",
    "them via:"
   ]
  },
  {
   "cell_type": "code",
   "execution_count": 8,
   "id": "80316b1e",
   "metadata": {
    "execution": {
     "iopub.execute_input": "2021-10-28T02:29:06.780111Z",
     "iopub.status.busy": "2021-10-28T02:29:06.778055Z",
     "iopub.status.idle": "2021-10-28T02:29:07.558087Z",
     "shell.execute_reply": "2021-10-28T02:29:07.557243Z"
    }
   },
   "outputs": [
    {
     "name": "stdout",
     "output_type": "stream",
     "text": [
      "Found 8 builtin components:\n",
      "  1. dist.ddp\n",
      "  2. utils.booth\n",
      "  3. utils.copy\n",
      "  4. utils.echo\n",
      "  5. utils.python\n",
      "  6. utils.sh\n",
      "  7. utils.touch\n",
      "  8. serve.torchserve\n"
     ]
    }
   ],
   "source": [
    "%%sh\n",
    "torchx builtins"
   ]
  },
  {
   "cell_type": "markdown",
   "id": "a26fb6f8",
   "metadata": {},
   "source": [
    "You can use these either from the CLI, from a pipeline or programmatically like\n",
    "you would any other component."
   ]
  },
  {
   "cell_type": "code",
   "execution_count": 9,
   "id": "64c9a1ca",
   "metadata": {
    "execution": {
     "iopub.execute_input": "2021-10-28T02:29:07.566777Z",
     "iopub.status.busy": "2021-10-28T02:29:07.566275Z",
     "iopub.status.idle": "2021-10-28T02:30:11.334839Z",
     "shell.execute_reply": "2021-10-28T02:30:11.334343Z"
    },
    "lines_to_next_cell": 2
   },
   "outputs": [
    {
     "name": "stdout",
     "output_type": "stream",
     "text": [
      "Hello :)\n",
      "local_docker://torchx/echo_b4c6c37b\n"
     ]
    },
    {
     "name": "stderr",
     "output_type": "stream",
     "text": [
      "0.1.1dev0: Pulling from pytorch/torchx\n",
      "4bbfd2c87b75: Already exists\n",
      "d2e110be24e1: Already exists\n",
      "889a7173dcfe: Already exists\n",
      "6009a622672a: Already exists\n",
      "143f80195431: Already exists\n",
      "eccbe17c44e1: Already exists\n",
      "769566213d5a: Pulling fs layer\n",
      "d9c47d8307eb: Pulling fs layer\n",
      "56b9e2452b82: Pulling fs layer\n",
      "6e8f44fa963e: Pulling fs layer\n",
      "b2ea48287415: Pulling fs layer\n",
      "a59a2136f869: Pulling fs layer\n",
      "6e8f44fa963e: Waiting\n",
      "b2ea48287415: Waiting\n",
      "a59a2136f869: Waiting\n",
      "56b9e2452b82: Verifying Checksum\n",
      "56b9e2452b82: Download complete\n",
      "d9c47d8307eb: Verifying Checksum\n",
      "d9c47d8307eb: Download complete\n",
      "b2ea48287415: Download complete\n",
      "a59a2136f869: Verifying Checksum\n",
      "a59a2136f869: Download complete\n",
      "769566213d5a: Verifying Checksum\n",
      "769566213d5a: Download complete\n",
      "769566213d5a: Pull complete\n",
      "d9c47d8307eb: Pull complete\n",
      "56b9e2452b82: Pull complete\n",
      "6e8f44fa963e: Download complete\n",
      "6e8f44fa963e: Pull complete\n",
      "b2ea48287415: Pull complete\n",
      "a59a2136f869: Pull complete\n",
      "Digest: sha256:1909f8f28da91a4eb578eab46c6bbdc41446b8ad2b75ed3da3ed9e76fd741d16\n",
      "Status: Downloaded newer image for ghcr.io/pytorch/torchx:0.1.1dev0\n",
      "ghcr.io/pytorch/torchx:0.1.1dev0\n",
      "torchx 2021-10-28 02:30:10 INFO     Waiting for the app to finish...\n",
      "torchx 2021-10-28 02:30:11 INFO     Job finished: SUCCEEDED\n"
     ]
    }
   ],
   "source": [
    "%%sh\n",
    "torchx run utils.echo --msg \"Hello :)\""
   ]
  },
  {
   "cell_type": "markdown",
   "id": "22c39750",
   "metadata": {},
   "source": [
    "## Next Steps\n",
    "\n",
    "1. Checkout other features of the [torchx CLI](cli.rst)\n",
    "2. Learn how to author more complex app specs by referencing [specs](specs.rst)\n",
    "3. Browse through the collection of [builtin components](components/overview.rst)\n",
    "4. Take a look at the [list of schedulers](schedulers.rst) supported by the runner\n",
    "5. See which [ML pipeline platforms](pipelines.rst) you can run components on\n",
    "6. See a [training app example](examples_apps/index.rst)"
   ]
  }
 ],
 "metadata": {
  "jupytext": {
   "text_representation": {
    "extension": ".md",
    "format_name": "markdown",
    "format_version": "1.1",
    "jupytext_version": "1.1.0"
   }
  },
  "kernelspec": {
   "display_name": "Python 3",
   "language": "python",
   "name": "python3"
  },
  "language_info": {
   "codemirror_mode": {
    "name": "ipython",
    "version": 3
   },
   "file_extension": ".py",
   "mimetype": "text/x-python",
   "name": "python",
   "nbconvert_exporter": "python",
   "pygments_lexer": "ipython3",
   "version": "3.8.12"
  }
 },
 "nbformat": 4,
 "nbformat_minor": 5
}
