{
 "cells": [
  {
   "cell_type": "markdown",
   "id": "d0ada955",
   "metadata": {},
   "source": [
    "# Quickstart\n",
    "\n",
    "This is a self contained guide on how to build a simple app and component spec\n",
    "and launch it via two different schedulers.\n",
    "\n",
    "## Installation\n",
    "\n",
    "First thing we need to do is to install the TorchX python package which includes\n",
    "the CLI and the library."
   ]
  },
  {
   "cell_type": "markdown",
   "id": "14510ac4",
   "metadata": {
    "region_name": "md"
   },
   "source": [
    "```sh\n",
    "# install torchx with all dependencies\n",
    "$ pip install torchx[dev]\n",
    "```"
   ]
  },
  {
   "cell_type": "markdown",
   "id": "a288cfb4",
   "metadata": {},
   "source": [
    "See the [README](https://github.com/pytorch/torchx) for more\n",
    "information on installation."
   ]
  },
  {
   "cell_type": "code",
   "execution_count": 1,
   "id": "5c240f65",
   "metadata": {
    "execution": {
     "iopub.execute_input": "2021-11-17T05:05:02.318455Z",
     "iopub.status.busy": "2021-11-17T05:05:02.317730Z",
     "iopub.status.idle": "2021-11-17T05:05:03.012030Z",
     "shell.execute_reply": "2021-11-17T05:05:03.011424Z"
    }
   },
   "outputs": [
    {
     "name": "stdout",
     "output_type": "stream",
     "text": [
      "usage: torchx [-h] [--log_level LOG_LEVEL] [--version]\n",
      "              {describe,log,run,builtins,runopts,status,configure} ...\n",
      "\n",
      "torchx CLI\n",
      "\n",
      "optional arguments:\n",
      "  -h, --help            show this help message and exit\n",
      "  --log_level LOG_LEVEL\n",
      "                        Python logging log level\n",
      "  --version             show program's version number and exit\n",
      "\n",
      "sub-commands:\n",
      "  Use the following commands to run operations, e.g.: torchx run ${JOB_NAME}\n",
      "\n",
      "  {describe,log,run,builtins,runopts,status,configure}\n"
     ]
    },
    {
     "name": "stderr",
     "output_type": "stream",
     "text": [
      "/opt/hostedtoolcache/Python/3.8.12/x64/lib/python3.8/site-packages/redis/connection.py:77: UserWarning: redis-py works best with hiredis. Please consider installing\n",
      "  warnings.warn(msg)\n"
     ]
    }
   ],
   "source": [
    "%%sh\n",
    "torchx --help"
   ]
  },
  {
   "cell_type": "markdown",
   "id": "29eef52f",
   "metadata": {},
   "source": [
    "## Hello World\n",
    "\n",
    "Lets start off with writing a simple \"Hello World\" python app. This is just a\n",
    "normal python program and can contain anything you'd like.\n",
    "\n",
    "<div class=\"admonition note\">\n",
    "<div class=\"admonition-title\">Note</div>\n",
    "This example uses Jupyter Notebook `%%writefile` to create local files for\n",
    "example purposes. Under normal usage you would have these as standalone files.\n",
    "</div>"
   ]
  },
  {
   "cell_type": "code",
   "execution_count": 2,
   "id": "1471e987",
   "metadata": {
    "execution": {
     "iopub.execute_input": "2021-11-17T05:05:03.018443Z",
     "iopub.status.busy": "2021-11-17T05:05:03.017394Z",
     "iopub.status.idle": "2021-11-17T05:05:03.020857Z",
     "shell.execute_reply": "2021-11-17T05:05:03.021350Z"
    }
   },
   "outputs": [
    {
     "name": "stdout",
     "output_type": "stream",
     "text": [
      "Writing my_app.py\n"
     ]
    }
   ],
   "source": [
    "%%writefile my_app.py\n",
    "\n",
    "import sys\n",
    "import argparse\n",
    "\n",
    "def main(user: str) -> None:\n",
    "    print(f\"Hello, {user}!\")\n",
    "\n",
    "if __name__ == \"__main__\":\n",
    "    parser = argparse.ArgumentParser(\n",
    "        description=\"Hello world app\"\n",
    "    )\n",
    "    parser.add_argument(\n",
    "        \"--user\",\n",
    "        type=str,\n",
    "        help=\"the person to greet\",\n",
    "        required=True,\n",
    "    )\n",
    "    args = parser.parse_args(sys.argv[1:])\n",
    "\n",
    "    main(args.user)"
   ]
  },
  {
   "cell_type": "markdown",
   "id": "5be5674a",
   "metadata": {},
   "source": [
    "Now that we have an app we can write the component file for it. This\n",
    "function allows us to reuse and share our app in a user friendly way.\n",
    "\n",
    "We can use this component from the `torchx` cli or programmatically as part of a\n",
    "pipeline."
   ]
  },
  {
   "cell_type": "code",
   "execution_count": 3,
   "id": "7e74c150",
   "metadata": {
    "execution": {
     "iopub.execute_input": "2021-11-17T05:05:03.024303Z",
     "iopub.status.busy": "2021-11-17T05:05:03.023656Z",
     "iopub.status.idle": "2021-11-17T05:05:03.029438Z",
     "shell.execute_reply": "2021-11-17T05:05:03.028816Z"
    }
   },
   "outputs": [
    {
     "name": "stdout",
     "output_type": "stream",
     "text": [
      "Writing my_component.py\n"
     ]
    }
   ],
   "source": [
    "%%writefile my_component.py\n",
    "\n",
    "import torchx.specs as specs\n",
    "\n",
    "def greet(user: str, image: str = \"my_app:latest\") -> specs.AppDef:\n",
    "    return specs.AppDef(\n",
    "        name=\"hello_world\",\n",
    "        roles=[\n",
    "            specs.Role(\n",
    "                name=\"greeter\",\n",
    "                image=image,\n",
    "                entrypoint=\"python\",\n",
    "                args=[\n",
    "                    \"-m\", \"my_app\",\n",
    "                    \"--user\", user,\n",
    "                ],\n",
    "            )\n",
    "        ],\n",
    "    )"
   ]
  },
  {
   "cell_type": "markdown",
   "id": "8568790e",
   "metadata": {},
   "source": [
    "We can execute our component via `torchx run`. The\n",
    "`local_cwd` scheduler executes the component relative to the current directory."
   ]
  },
  {
   "cell_type": "code",
   "execution_count": 4,
   "id": "c765ecbe",
   "metadata": {
    "execution": {
     "iopub.execute_input": "2021-11-17T05:05:03.032545Z",
     "iopub.status.busy": "2021-11-17T05:05:03.031751Z",
     "iopub.status.idle": "2021-11-17T05:05:04.868942Z",
     "shell.execute_reply": "2021-11-17T05:05:04.868412Z"
    }
   },
   "outputs": [
    {
     "name": "stdout",
     "output_type": "stream",
     "text": [
      "local_cwd://torchx/hello_world-bcrqph975hk7rd\n"
     ]
    },
    {
     "name": "stderr",
     "output_type": "stream",
     "text": [
      "/opt/hostedtoolcache/Python/3.8.12/x64/lib/python3.8/site-packages/redis/connection.py:77: UserWarning: redis-py works best with hiredis. Please consider installing\n",
      "  warnings.warn(msg)\n",
      "torchx 2021-11-17 05:05:03 INFO     Log files located in: /tmp/torchx_j7bp4dfs/torchx/hello_world-bcrqph975hk7rd/greeter/0\n",
      "torchx 2021-11-17 05:05:03 INFO     Waiting for the app to finish...\n",
      "greeter/0 Hello, your name!\n",
      "torchx 2021-11-17 05:05:04 INFO     Job finished: SUCCEEDED\n"
     ]
    }
   ],
   "source": [
    "%%sh\n",
    "torchx run --scheduler local_cwd my_component.py:greet --user \"your name\""
   ]
  },
  {
   "cell_type": "markdown",
   "id": "3434ec4a",
   "metadata": {},
   "source": [
    "If we want to run in other environments, we can build a Docker container so we\n",
    "can run our component in Docker enabled environments such as Kubernetes or via\n",
    "the local Docker scheduler.\n",
    "\n",
    "<div class=\"admonition note\">\n",
    "<div class=\"admonition-title\">Note</div>\n",
    "This requires Docker installed and won't work in environments such as Google\n",
    "Colab. If you have not done so already follow the install instructions on:\n",
    "[https://docs.docker.com/get-docker/](https://docs.docker.com/get-docker/)</a>\n",
    "</div>"
   ]
  },
  {
   "cell_type": "code",
   "execution_count": 5,
   "id": "bf708783",
   "metadata": {
    "execution": {
     "iopub.execute_input": "2021-11-17T05:05:04.874555Z",
     "iopub.status.busy": "2021-11-17T05:05:04.873504Z",
     "iopub.status.idle": "2021-11-17T05:05:04.877258Z",
     "shell.execute_reply": "2021-11-17T05:05:04.876788Z"
    }
   },
   "outputs": [
    {
     "name": "stdout",
     "output_type": "stream",
     "text": [
      "Writing Dockerfile\n"
     ]
    }
   ],
   "source": [
    "%%writefile Dockerfile\n",
    "\n",
    "FROM ghcr.io/pytorch/torchx:0.1.0rc1\n",
    "\n",
    "ADD my_app.py ."
   ]
  },
  {
   "cell_type": "markdown",
   "id": "fd12f886",
   "metadata": {},
   "source": [
    "Once we have the Dockerfile created we can create our docker image."
   ]
  },
  {
   "cell_type": "code",
   "execution_count": 6,
   "id": "bb0e2412",
   "metadata": {
    "execution": {
     "iopub.execute_input": "2021-11-17T05:05:04.881965Z",
     "iopub.status.busy": "2021-11-17T05:05:04.881372Z",
     "iopub.status.idle": "2021-11-17T05:07:41.582262Z",
     "shell.execute_reply": "2021-11-17T05:07:41.581705Z"
    }
   },
   "outputs": [
    {
     "name": "stdout",
     "output_type": "stream",
     "text": [
      "Sending build context to Docker daemon  22.31MB\r",
      "\r\n",
      "Step 1/2 : FROM ghcr.io/pytorch/torchx:0.1.0rc1\n",
      "0.1.0rc1: Pulling from pytorch/torchx\n",
      "4bbfd2c87b75: Pulling fs layer\n",
      "d2e110be24e1: Pulling fs layer\n",
      "889a7173dcfe: Pulling fs layer\n",
      "6009a622672a: Pulling fs layer\n",
      "143f80195431: Pulling fs layer\n",
      "eccbe17c44e1: Pulling fs layer\n",
      "d4c7af0d4fa7: Pulling fs layer\n",
      "06b5edd6bf52: Pulling fs layer\n",
      "f18d016c4ccc: Pulling fs layer\n",
      "c0ad16d9fa05: Pulling fs layer\n",
      "30587ba7fd6b: Pulling fs layer\n",
      "909695be1d50: Pulling fs layer\n",
      "f119a6d0a466: Pulling fs layer\n",
      "88d87059c913: Pulling fs layer\n",
      "6009a622672a: Waiting\n",
      "143f80195431: Waiting\n",
      "eccbe17c44e1: Waiting\n",
      "f18d016c4ccc: Waiting\n",
      "d4c7af0d4fa7: Waiting\n",
      "c0ad16d9fa05: Waiting\n",
      "06b5edd6bf52: Waiting\n",
      "30587ba7fd6b: Waiting\n",
      "88d87059c913: Waiting\n",
      "909695be1d50: Waiting\n",
      "f119a6d0a466: Waiting\n",
      "d2e110be24e1: Download complete\n",
      "889a7173dcfe: Verifying Checksum\n",
      "889a7173dcfe: Download complete\n",
      "4bbfd2c87b75: Verifying Checksum\n",
      "4bbfd2c87b75: Download complete\n",
      "6009a622672a: Verifying Checksum\n",
      "6009a622672a: Download complete\n",
      "eccbe17c44e1: Verifying Checksum\n",
      "eccbe17c44e1: Download complete\n",
      "06b5edd6bf52: Verifying Checksum\n",
      "06b5edd6bf52: Download complete\n",
      "d4c7af0d4fa7: Verifying Checksum\n",
      "d4c7af0d4fa7: Download complete\n",
      "c0ad16d9fa05: Verifying Checksum\n",
      "c0ad16d9fa05: Download complete\n",
      "30587ba7fd6b: Download complete\n",
      "909695be1d50: Verifying Checksum\n",
      "909695be1d50: Download complete\n",
      "f119a6d0a466: Verifying Checksum\n",
      "f119a6d0a466: Download complete\n",
      "88d87059c913: Verifying Checksum\n",
      "88d87059c913: Download complete\n",
      "4bbfd2c87b75: Pull complete\n",
      "f18d016c4ccc: Verifying Checksum\n",
      "f18d016c4ccc: Download complete\n",
      "143f80195431: Verifying Checksum\n",
      "143f80195431: Download complete\n",
      "d2e110be24e1: Pull complete\n",
      "889a7173dcfe: Pull complete\n",
      "6009a622672a: Pull complete\n",
      "143f80195431: Pull complete\n",
      "eccbe17c44e1: Pull complete\n",
      "d4c7af0d4fa7: Pull complete\n",
      "06b5edd6bf52: Pull complete\n",
      "f18d016c4ccc: Pull complete\n",
      "c0ad16d9fa05: Pull complete\n",
      "30587ba7fd6b: Pull complete\n",
      "909695be1d50: Pull complete\n",
      "f119a6d0a466: Pull complete\n",
      "88d87059c913: Pull complete\n",
      "Digest: sha256:a738949601d82e7f100fa1efeb8dde0c35ce44c66726cf38596f96d78dcd7ad3\n",
      "Status: Downloaded newer image for ghcr.io/pytorch/torchx:0.1.0rc1\n",
      " ---> 3dbec59e8049\n",
      "Step 2/2 : ADD my_app.py .\n",
      " ---> 618ff1774853\n",
      "Successfully built 618ff1774853\n",
      "Successfully tagged my_app:latest\n"
     ]
    }
   ],
   "source": [
    "%%sh\n",
    "docker build -t my_app:latest -f Dockerfile ."
   ]
  },
  {
   "cell_type": "markdown",
   "id": "a2d67255",
   "metadata": {},
   "source": [
    "We can then launch it on the local scheduler."
   ]
  },
  {
   "cell_type": "code",
   "execution_count": 7,
   "id": "4c1b8ba8",
   "metadata": {
    "execution": {
     "iopub.execute_input": "2021-11-17T05:07:41.591417Z",
     "iopub.status.busy": "2021-11-17T05:07:41.590837Z",
     "iopub.status.idle": "2021-11-17T05:07:45.576881Z",
     "shell.execute_reply": "2021-11-17T05:07:45.577946Z"
    }
   },
   "outputs": [
    {
     "name": "stdout",
     "output_type": "stream",
     "text": [
      "local_docker://torchx/hello_world-l9ncqzjgzd5bmc\n"
     ]
    },
    {
     "name": "stderr",
     "output_type": "stream",
     "text": [
      "/opt/hostedtoolcache/Python/3.8.12/x64/lib/python3.8/site-packages/redis/connection.py:77: UserWarning: redis-py works best with hiredis. Please consider installing\n",
      "  warnings.warn(msg)\n",
      "torchx 2021-11-17 05:07:42 INFO     Pulling container image: my_app:latest (this may take a while)\n",
      "torchx 2021-11-17 05:07:43 WARNING  failed to pull image my_app:latest, falling back to local: 404 Client Error for http+docker://localhost/v1.41/images/create?tag=latest&fromImage=my_app: Not Found (\"pull access denied for my_app, repository does not exist or may require 'docker login': denied: requested access to the resource is denied\")\n",
      "torchx 2021-11-17 05:07:44 INFO     Waiting for the app to finish...\n",
      "greeter/0 Hello, your name!\n",
      "torchx 2021-11-17 05:07:45 INFO     Job finished: SUCCEEDED\n"
     ]
    }
   ],
   "source": [
    "%%sh\n",
    "torchx run --scheduler local_docker my_component.py:greet --image \"my_app:latest\" --user \"your name\""
   ]
  },
  {
   "cell_type": "markdown",
   "id": "fc0e7985",
   "metadata": {},
   "source": [
    "If you have a Kubernetes cluster you can use the [Kubernetes scheduler](schedulers/kubernetes.rst) to launch\n",
    "this on the cluster instead.\n"
   ]
  },
  {
   "cell_type": "markdown",
   "id": "76afc35c",
   "metadata": {
    "lines_to_next_cell": 2,
    "region_name": "md"
   },
   "source": [
    "```sh\n",
    "$ docker push my_app:latest\n",
    "$ torchx run --scheduler kubernetes my_component.py:greet --image \"my_app:latest\" --user \"your name\"\n",
    "```"
   ]
  },
  {
   "cell_type": "markdown",
   "id": "f94c09c7",
   "metadata": {},
   "source": [
    "## Builtins\n",
    "\n",
    "TorchX also provides a number of builtin components with premade images. You can discover\n",
    "them via:"
   ]
  },
  {
   "cell_type": "code",
   "execution_count": 8,
   "id": "6627564e",
   "metadata": {
    "execution": {
     "iopub.execute_input": "2021-11-17T05:07:45.584090Z",
     "iopub.status.busy": "2021-11-17T05:07:45.583482Z",
     "iopub.status.idle": "2021-11-17T05:07:47.283478Z",
     "shell.execute_reply": "2021-11-17T05:07:47.283962Z"
    }
   },
   "outputs": [
    {
     "name": "stdout",
     "output_type": "stream",
     "text": [
      "Found 9 builtin components:\n",
      "  1. metrics.tensorboard\n",
      "  2. serve.torchserve\n",
      "  3. dist.ddp\n",
      "  4. utils.booth\n",
      "  5. utils.copy\n",
      "  6. utils.echo\n",
      "  7. utils.python\n",
      "  8. utils.sh\n",
      "  9. utils.touch\n"
     ]
    },
    {
     "name": "stderr",
     "output_type": "stream",
     "text": [
      "/opt/hostedtoolcache/Python/3.8.12/x64/lib/python3.8/site-packages/redis/connection.py:77: UserWarning: redis-py works best with hiredis. Please consider installing\n",
      "  warnings.warn(msg)\n"
     ]
    }
   ],
   "source": [
    "%%sh\n",
    "torchx builtins"
   ]
  },
  {
   "cell_type": "markdown",
   "id": "251766be",
   "metadata": {},
   "source": [
    "You can use these either from the CLI, from a pipeline or programmatically like\n",
    "you would any other component."
   ]
  },
  {
   "cell_type": "code",
   "execution_count": 9,
   "id": "112ccb23",
   "metadata": {
    "execution": {
     "iopub.execute_input": "2021-11-17T05:07:47.291810Z",
     "iopub.status.busy": "2021-11-17T05:07:47.289174Z",
     "iopub.status.idle": "2021-11-17T05:10:02.688479Z",
     "shell.execute_reply": "2021-11-17T05:10:02.687856Z"
    },
    "lines_to_next_cell": 2
   },
   "outputs": [
    {
     "name": "stdout",
     "output_type": "stream",
     "text": [
      "local_docker://torchx/echo-hp1r27x52220pd\n"
     ]
    },
    {
     "name": "stderr",
     "output_type": "stream",
     "text": [
      "/opt/hostedtoolcache/Python/3.8.12/x64/lib/python3.8/site-packages/redis/connection.py:77: UserWarning: redis-py works best with hiredis. Please consider installing\n",
      "  warnings.warn(msg)\n",
      "torchx 2021-11-17 05:07:49 INFO     Pulling container image: ghcr.io/pytorch/torchx:0.1.1dev0 (this may take a while)\n",
      "torchx 2021-11-17 05:10:01 INFO     Waiting for the app to finish...\n",
      "echo/0 Hello :)\n",
      "torchx 2021-11-17 05:10:02 INFO     Job finished: SUCCEEDED\n"
     ]
    }
   ],
   "source": [
    "%%sh\n",
    "torchx run utils.echo --msg \"Hello :)\""
   ]
  },
  {
   "cell_type": "markdown",
   "id": "8bcb995b",
   "metadata": {},
   "source": [
    "## Next Steps\n",
    "\n",
    "1. Checkout other features of the [torchx CLI](cli.rst)\n",
    "2. Learn how to author more complex app specs by referencing [specs](specs.rst)\n",
    "3. Browse through the collection of [builtin components](components/overview.rst)\n",
    "4. Take a look at the [list of schedulers](schedulers.rst) supported by the runner\n",
    "5. See which [ML pipeline platforms](pipelines.rst) you can run components on\n",
    "6. See a [training app example](examples_apps/index.rst)"
   ]
  }
 ],
 "metadata": {
  "jupytext": {
   "text_representation": {
    "extension": ".md",
    "format_name": "markdown",
    "format_version": "1.1",
    "jupytext_version": "1.1.0"
   }
  },
  "kernelspec": {
   "display_name": "Python 3",
   "language": "python",
   "name": "python3"
  },
  "language_info": {
   "codemirror_mode": {
    "name": "ipython",
    "version": 3
   },
   "file_extension": ".py",
   "mimetype": "text/x-python",
   "name": "python",
   "nbconvert_exporter": "python",
   "pygments_lexer": "ipython3",
   "version": "3.8.12"
  }
 },
 "nbformat": 4,
 "nbformat_minor": 5
}
