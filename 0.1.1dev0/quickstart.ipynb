{
 "cells": [
  {
   "cell_type": "markdown",
   "id": "3d332825",
   "metadata": {},
   "source": [
    "# Quickstart\n",
    "\n",
    "This is a self contained guide on how to build a simple app and component spec\n",
    "and launch it via two different schedulers.\n",
    "\n",
    "## Installation\n",
    "\n",
    "First thing we need to do is to install the TorchX python package which includes\n",
    "the CLI and the library."
   ]
  },
  {
   "cell_type": "markdown",
   "id": "fe751bbc",
   "metadata": {
    "region_name": "md"
   },
   "source": [
    "```sh\n",
    "# install torchx with all dependencies\n",
    "$ pip install torchx[dev]\n",
    "```"
   ]
  },
  {
   "cell_type": "markdown",
   "id": "4d5526cb",
   "metadata": {},
   "source": [
    "See the [README](https://github.com/pytorch/torchx) for more\n",
    "information on installation."
   ]
  },
  {
   "cell_type": "code",
   "execution_count": 1,
   "id": "aa8a9a44",
   "metadata": {
    "execution": {
     "iopub.execute_input": "2021-11-02T01:08:22.483857Z",
     "iopub.status.busy": "2021-11-02T01:08:22.483200Z",
     "iopub.status.idle": "2021-11-02T01:08:22.817623Z",
     "shell.execute_reply": "2021-11-02T01:08:22.816942Z"
    }
   },
   "outputs": [
    {
     "name": "stdout",
     "output_type": "stream",
     "text": [
      "usage: torchx [-h] [--log_level LOG_LEVEL] [--version]\n",
      "              {describe,log,run,builtins,runopts,status,configure} ...\n",
      "\n",
      "torchx CLI\n",
      "\n",
      "optional arguments:\n",
      "  -h, --help            show this help message and exit\n",
      "  --log_level LOG_LEVEL\n",
      "                        Python logging log level\n",
      "  --version             show program's version number and exit\n",
      "\n",
      "sub-commands:\n",
      "  Use the following commands to run operations, e.g.: torchx run ${JOB_NAME}\n",
      "\n",
      "  {describe,log,run,builtins,runopts,status,configure}\n"
     ]
    }
   ],
   "source": [
    "%%sh\n",
    "torchx --help"
   ]
  },
  {
   "cell_type": "markdown",
   "id": "f40b9ea6",
   "metadata": {},
   "source": [
    "## Hello World\n",
    "\n",
    "Lets start off with writing a simple \"Hello World\" python app. This is just a\n",
    "normal python program and can contain anything you'd like.\n",
    "\n",
    "<div class=\"admonition note\">\n",
    "<div class=\"admonition-title\">Note</div>\n",
    "This example uses Jupyter Notebook `%%writefile` to create local files for\n",
    "example purposes. Under normal usage you would have these as standalone files.\n",
    "</div>"
   ]
  },
  {
   "cell_type": "code",
   "execution_count": 2,
   "id": "80985632",
   "metadata": {
    "execution": {
     "iopub.execute_input": "2021-11-02T01:08:22.822941Z",
     "iopub.status.busy": "2021-11-02T01:08:22.822487Z",
     "iopub.status.idle": "2021-11-02T01:08:22.826604Z",
     "shell.execute_reply": "2021-11-02T01:08:22.826156Z"
    }
   },
   "outputs": [
    {
     "name": "stdout",
     "output_type": "stream",
     "text": [
      "Writing my_app.py\n"
     ]
    }
   ],
   "source": [
    "%%writefile my_app.py\n",
    "\n",
    "import sys\n",
    "import argparse\n",
    "\n",
    "def main(user: str) -> None:\n",
    "    print(f\"Hello, {user}!\")\n",
    "\n",
    "if __name__ == \"__main__\":\n",
    "    parser = argparse.ArgumentParser(\n",
    "        description=\"Hello world app\"\n",
    "    )\n",
    "    parser.add_argument(\n",
    "        \"--user\",\n",
    "        type=str,\n",
    "        help=\"the person to greet\",\n",
    "        required=True,\n",
    "    )\n",
    "    args = parser.parse_args(sys.argv[1:])\n",
    "\n",
    "    main(args.user)"
   ]
  },
  {
   "cell_type": "markdown",
   "id": "04ca4975",
   "metadata": {},
   "source": [
    "Now that we have an app we can write the component file for it. This\n",
    "function allows us to reuse and share our app in a user friendly way.\n",
    "\n",
    "We can use this component from the `torchx` cli or programmatically as part of a\n",
    "pipeline."
   ]
  },
  {
   "cell_type": "code",
   "execution_count": 3,
   "id": "4398714f",
   "metadata": {
    "execution": {
     "iopub.execute_input": "2021-11-02T01:08:22.830783Z",
     "iopub.status.busy": "2021-11-02T01:08:22.830310Z",
     "iopub.status.idle": "2021-11-02T01:08:22.831974Z",
     "shell.execute_reply": "2021-11-02T01:08:22.832440Z"
    }
   },
   "outputs": [
    {
     "name": "stdout",
     "output_type": "stream",
     "text": [
      "Writing my_component.py\n"
     ]
    }
   ],
   "source": [
    "%%writefile my_component.py\n",
    "\n",
    "import torchx.specs as specs\n",
    "\n",
    "def greet(user: str, image: str = \"my_app:latest\") -> specs.AppDef:\n",
    "    return specs.AppDef(\n",
    "        name=\"hello_world\",\n",
    "        roles=[\n",
    "            specs.Role(\n",
    "                name=\"greeter\",\n",
    "                image=image,\n",
    "                entrypoint=\"python\",\n",
    "                args=[\n",
    "                    \"-m\", \"my_app\",\n",
    "                    \"--user\", user,\n",
    "                ],\n",
    "            )\n",
    "        ],\n",
    "    )"
   ]
  },
  {
   "cell_type": "markdown",
   "id": "a8d065d8",
   "metadata": {},
   "source": [
    "We can execute our component via `torchx run`. The\n",
    "`local_cwd` scheduler executes the component relative to the current directory."
   ]
  },
  {
   "cell_type": "code",
   "execution_count": 4,
   "id": "f20669ad",
   "metadata": {
    "execution": {
     "iopub.execute_input": "2021-11-02T01:08:22.836224Z",
     "iopub.status.busy": "2021-11-02T01:08:22.835656Z",
     "iopub.status.idle": "2021-11-02T01:08:24.258568Z",
     "shell.execute_reply": "2021-11-02T01:08:24.258106Z"
    }
   },
   "outputs": [
    {
     "name": "stdout",
     "output_type": "stream",
     "text": [
      "local_cwd://torchx/hello_world-wdv6mbzd53h0ld\n"
     ]
    },
    {
     "name": "stderr",
     "output_type": "stream",
     "text": [
      "torchx 2021-11-02 01:08:23 INFO     Log files located in: /tmp/torchx_ydf4j3r_/torchx/hello_world-wdv6mbzd53h0ld/greeter/0\n",
      "torchx 2021-11-02 01:08:23 INFO     Waiting for the app to finish...\n",
      "greeter/0 Hello, your name!\n",
      "torchx 2021-11-02 01:08:24 INFO     Job finished: SUCCEEDED\n"
     ]
    }
   ],
   "source": [
    "%%sh\n",
    "torchx run --scheduler local_cwd my_component.py:greet --user \"your name\""
   ]
  },
  {
   "cell_type": "markdown",
   "id": "30e243fb",
   "metadata": {},
   "source": [
    "If we want to run in other environments, we can build a Docker container so we\n",
    "can run our component in Docker enabled environments such as Kubernetes or via\n",
    "the local Docker scheduler.\n",
    "\n",
    "<div class=\"admonition note\">\n",
    "<div class=\"admonition-title\">Note</div>\n",
    "This requires Docker installed and won't work in environments such as Google\n",
    "Colab. If you have not done so already follow the install instructions on:\n",
    "[https://docs.docker.com/get-docker/](https://docs.docker.com/get-docker/)</a>\n",
    "</div>"
   ]
  },
  {
   "cell_type": "code",
   "execution_count": 5,
   "id": "f18aef74",
   "metadata": {
    "execution": {
     "iopub.execute_input": "2021-11-02T01:08:24.263312Z",
     "iopub.status.busy": "2021-11-02T01:08:24.262835Z",
     "iopub.status.idle": "2021-11-02T01:08:24.265508Z",
     "shell.execute_reply": "2021-11-02T01:08:24.265937Z"
    }
   },
   "outputs": [
    {
     "name": "stdout",
     "output_type": "stream",
     "text": [
      "Writing Dockerfile\n"
     ]
    }
   ],
   "source": [
    "%%writefile Dockerfile\n",
    "\n",
    "FROM ghcr.io/pytorch/torchx:0.1.0rc1\n",
    "\n",
    "ADD my_app.py ."
   ]
  },
  {
   "cell_type": "markdown",
   "id": "3dffdf87",
   "metadata": {},
   "source": [
    "Once we have the Dockerfile created we can create our docker image."
   ]
  },
  {
   "cell_type": "code",
   "execution_count": 6,
   "id": "a2ecacbe",
   "metadata": {
    "execution": {
     "iopub.execute_input": "2021-11-02T01:08:24.272048Z",
     "iopub.status.busy": "2021-11-02T01:08:24.269281Z",
     "iopub.status.idle": "2021-11-02T01:10:50.808721Z",
     "shell.execute_reply": "2021-11-02T01:10:50.807926Z"
    }
   },
   "outputs": [
    {
     "name": "stdout",
     "output_type": "stream",
     "text": [
      "Sending build context to Docker daemon  22.25MB\r",
      "\r\n",
      "Step 1/2 : FROM ghcr.io/pytorch/torchx:0.1.0rc1\n",
      "0.1.0rc1: Pulling from pytorch/torchx\n",
      "4bbfd2c87b75: Pulling fs layer\n",
      "d2e110be24e1: Pulling fs layer\n",
      "889a7173dcfe: Pulling fs layer\n",
      "6009a622672a: Pulling fs layer\n",
      "143f80195431: Pulling fs layer\n",
      "eccbe17c44e1: Pulling fs layer\n",
      "d4c7af0d4fa7: Pulling fs layer\n",
      "06b5edd6bf52: Pulling fs layer\n",
      "f18d016c4ccc: Pulling fs layer\n",
      "c0ad16d9fa05: Pulling fs layer\n",
      "30587ba7fd6b: Pulling fs layer\n",
      "909695be1d50: Pulling fs layer\n",
      "f119a6d0a466: Pulling fs layer\n",
      "88d87059c913: Pulling fs layer\n",
      "6009a622672a: Waiting\n",
      "143f80195431: Waiting\n",
      "eccbe17c44e1: Waiting\n",
      "d4c7af0d4fa7: Waiting\n",
      "06b5edd6bf52: Waiting\n",
      "f18d016c4ccc: Waiting\n",
      "c0ad16d9fa05: Waiting\n",
      "30587ba7fd6b: Waiting\n",
      "909695be1d50: Waiting\n",
      "f119a6d0a466: Waiting\n",
      "88d87059c913: Waiting\n",
      "889a7173dcfe: Verifying Checksum\n",
      "889a7173dcfe: Download complete\n",
      "d2e110be24e1: Download complete\n",
      "4bbfd2c87b75: Verifying Checksum\n",
      "4bbfd2c87b75: Download complete\n",
      "6009a622672a: Verifying Checksum\n",
      "6009a622672a: Download complete\n",
      "eccbe17c44e1: Verifying Checksum\n",
      "eccbe17c44e1: Download complete\n",
      "06b5edd6bf52: Verifying Checksum\n",
      "06b5edd6bf52: Download complete\n",
      "d4c7af0d4fa7: Verifying Checksum\n",
      "d4c7af0d4fa7: Download complete\n",
      "c0ad16d9fa05: Verifying Checksum\n",
      "c0ad16d9fa05: Download complete\n",
      "30587ba7fd6b: Verifying Checksum\n",
      "30587ba7fd6b: Download complete\n",
      "909695be1d50: Verifying Checksum\n",
      "909695be1d50: Download complete\n",
      "f119a6d0a466: Verifying Checksum\n",
      "f119a6d0a466: Download complete\n",
      "88d87059c913: Verifying Checksum\n",
      "88d87059c913: Download complete\n",
      "4bbfd2c87b75: Pull complete\n",
      "f18d016c4ccc: Verifying Checksum\n",
      "f18d016c4ccc: Download complete\n",
      "143f80195431: Verifying Checksum\n",
      "143f80195431: Download complete\n",
      "d2e110be24e1: Pull complete\n",
      "889a7173dcfe: Pull complete\n",
      "6009a622672a: Pull complete\n",
      "143f80195431: Pull complete\n",
      "eccbe17c44e1: Pull complete\n",
      "d4c7af0d4fa7: Pull complete\n",
      "06b5edd6bf52: Pull complete\n",
      "f18d016c4ccc: Pull complete\n",
      "c0ad16d9fa05: Pull complete\n",
      "30587ba7fd6b: Pull complete\n",
      "909695be1d50: Pull complete\n",
      "f119a6d0a466: Pull complete\n",
      "88d87059c913: Pull complete\n",
      "Digest: sha256:a738949601d82e7f100fa1efeb8dde0c35ce44c66726cf38596f96d78dcd7ad3\n",
      "Status: Downloaded newer image for ghcr.io/pytorch/torchx:0.1.0rc1\n",
      " ---> 3dbec59e8049\n",
      "Step 2/2 : ADD my_app.py .\n",
      " ---> 2fb3c25ca6cf\n",
      "Successfully built 2fb3c25ca6cf\n",
      "Successfully tagged my_app:latest\n"
     ]
    }
   ],
   "source": [
    "%%sh\n",
    "docker build -t my_app:latest -f Dockerfile ."
   ]
  },
  {
   "cell_type": "markdown",
   "id": "eae716b0",
   "metadata": {},
   "source": [
    "We can then launch it on the local scheduler."
   ]
  },
  {
   "cell_type": "code",
   "execution_count": 7,
   "id": "7e31cd9d",
   "metadata": {
    "execution": {
     "iopub.execute_input": "2021-11-02T01:10:50.815988Z",
     "iopub.status.busy": "2021-11-02T01:10:50.812925Z",
     "iopub.status.idle": "2021-11-02T01:10:53.563639Z",
     "shell.execute_reply": "2021-11-02T01:10:53.563148Z"
    }
   },
   "outputs": [
    {
     "name": "stdout",
     "output_type": "stream",
     "text": [
      "local_docker://torchx/hello_world-gbmz5l3pknkqrd\n"
     ]
    },
    {
     "name": "stderr",
     "output_type": "stream",
     "text": [
      "torchx 2021-11-02 01:10:51 INFO     Pulling container image: my_app:latest (this may take a while)\n",
      "torchx 2021-11-02 01:10:51 WARNING  failed to pull image my_app:latest, falling back to local: 404 Client Error for http+docker://localhost/v1.41/images/create?tag=latest&fromImage=my_app: Not Found (\"pull access denied for my_app, repository does not exist or may require 'docker login': denied: requested access to the resource is denied\")\n",
      "torchx 2021-11-02 01:10:52 INFO     Waiting for the app to finish...\n",
      "Exception in thread Thread-2:\n",
      "Traceback (most recent call last):\n",
      "  File \"/opt/hostedtoolcache/Python/3.8.12/x64/lib/python3.8/threading.py\", line 932, in _bootstrap_inner\n",
      "    self.run()\n",
      "  File \"/opt/hostedtoolcache/Python/3.8.12/x64/lib/python3.8/threading.py\", line 870, in run\n",
      "    self._target(*self._args, **self._kwargs)\n",
      "  File \"/opt/hostedtoolcache/Python/3.8.12/x64/lib/python3.8/site-packages/torchx-0.1.1.dev0-py3.8.egg/torchx/cli/cmd_log.py\", line 50, in print_log_lines\n",
      "    for line in runner.log_lines(\n",
      "  File \"/opt/hostedtoolcache/Python/3.8.12/x64/lib/python3.8/site-packages/torchx-0.1.1.dev0-py3.8.egg/torchx/runner/api.py\", line 487, in log_lines\n",
      "    log_iter = scheduler.log_iter(\n",
      "  File \"/opt/hostedtoolcache/Python/3.8.12/x64/lib/python3.8/site-packages/torchx-0.1.1.dev0-py3.8.egg/torchx/schedulers/docker_scheduler.py\", line 349, in log_iter\n",
      "    if len(logs) == 0:\n",
      "TypeError: object of type 'CancellableStream' has no len()\n",
      "Exception in thread Thread-1:\n",
      "Traceback (most recent call last):\n",
      "  File \"/opt/hostedtoolcache/Python/3.8.12/x64/lib/python3.8/threading.py\", line 932, in _bootstrap_inner\n",
      "    self.run()\n",
      "  File \"/opt/hostedtoolcache/Python/3.8.12/x64/lib/python3.8/threading.py\", line 870, in run\n",
      "    self._target(*self._args, **self._kwargs)\n",
      "  File \"/opt/hostedtoolcache/Python/3.8.12/x64/lib/python3.8/site-packages/torchx-0.1.1.dev0-py3.8.egg/torchx/cli/cmd_log.py\", line 147, in get_logs\n",
      "    raise threads_exceptions[0]\n",
      "  File \"/opt/hostedtoolcache/Python/3.8.12/x64/lib/python3.8/threading.py\", line 932, in _bootstrap_inner\n",
      "    self.run()\n",
      "  File \"/opt/hostedtoolcache/Python/3.8.12/x64/lib/python3.8/threading.py\", line 870, in run\n",
      "    self._target(*self._args, **self._kwargs)\n",
      "  File \"/opt/hostedtoolcache/Python/3.8.12/x64/lib/python3.8/site-packages/torchx-0.1.1.dev0-py3.8.egg/torchx/cli/cmd_log.py\", line 50, in print_log_lines\n",
      "    for line in runner.log_lines(\n",
      "  File \"/opt/hostedtoolcache/Python/3.8.12/x64/lib/python3.8/site-packages/torchx-0.1.1.dev0-py3.8.egg/torchx/runner/api.py\", line 487, in log_lines\n",
      "    log_iter = scheduler.log_iter(\n",
      "  File \"/opt/hostedtoolcache/Python/3.8.12/x64/lib/python3.8/site-packages/torchx-0.1.1.dev0-py3.8.egg/torchx/schedulers/docker_scheduler.py\", line 349, in log_iter\n",
      "    if len(logs) == 0:\n",
      "TypeError: object of type 'CancellableStream' has no len()\n",
      "torchx 2021-11-02 01:10:53 INFO     Job finished: SUCCEEDED\n"
     ]
    }
   ],
   "source": [
    "%%sh\n",
    "torchx run --scheduler local_docker my_component.py:greet --image \"my_app:latest\" --user \"your name\""
   ]
  },
  {
   "cell_type": "markdown",
   "id": "d91daaae",
   "metadata": {},
   "source": [
    "If you have a Kubernetes cluster you can use the [Kubernetes scheduler](schedulers/kubernetes.rst) to launch\n",
    "this on the cluster instead.\n"
   ]
  },
  {
   "cell_type": "markdown",
   "id": "74b935ed",
   "metadata": {
    "lines_to_next_cell": 2,
    "region_name": "md"
   },
   "source": [
    "```sh\n",
    "$ docker push my_app:latest\n",
    "$ torchx run --scheduler kubernetes my_component.py:greet --image \"my_app:latest\" --user \"your name\"\n",
    "```"
   ]
  },
  {
   "cell_type": "markdown",
   "id": "50dc0580",
   "metadata": {},
   "source": [
    "## Builtins\n",
    "\n",
    "TorchX also provides a number of builtin components with premade images. You can discover\n",
    "them via:"
   ]
  },
  {
   "cell_type": "code",
   "execution_count": 8,
   "id": "98b7174f",
   "metadata": {
    "execution": {
     "iopub.execute_input": "2021-11-02T01:10:53.571679Z",
     "iopub.status.busy": "2021-11-02T01:10:53.568828Z",
     "iopub.status.idle": "2021-11-02T01:10:54.441637Z",
     "shell.execute_reply": "2021-11-02T01:10:54.440796Z"
    }
   },
   "outputs": [
    {
     "name": "stdout",
     "output_type": "stream",
     "text": [
      "Found 8 builtin components:\n",
      "  1. dist.ddp\n",
      "  2. utils.booth\n",
      "  3. utils.copy\n",
      "  4. utils.echo\n",
      "  5. utils.python\n",
      "  6. utils.sh\n",
      "  7. utils.touch\n",
      "  8. serve.torchserve\n"
     ]
    }
   ],
   "source": [
    "%%sh\n",
    "torchx builtins"
   ]
  },
  {
   "cell_type": "markdown",
   "id": "3665a643",
   "metadata": {},
   "source": [
    "You can use these either from the CLI, from a pipeline or programmatically like\n",
    "you would any other component."
   ]
  },
  {
   "cell_type": "code",
   "execution_count": 9,
   "id": "a332c1da",
   "metadata": {
    "execution": {
     "iopub.execute_input": "2021-11-02T01:10:54.446470Z",
     "iopub.status.busy": "2021-11-02T01:10:54.445976Z",
     "iopub.status.idle": "2021-11-02T01:13:18.949010Z",
     "shell.execute_reply": "2021-11-02T01:13:18.948490Z"
    },
    "lines_to_next_cell": 2
   },
   "outputs": [
    {
     "name": "stdout",
     "output_type": "stream",
     "text": [
      "local_docker://torchx/echo-cp6rzm4t3c527\n"
     ]
    },
    {
     "name": "stderr",
     "output_type": "stream",
     "text": [
      "torchx 2021-11-02 01:10:55 INFO     Pulling container image: ghcr.io/pytorch/torchx:0.1.1dev0 (this may take a while)\n",
      "torchx 2021-11-02 01:13:17 INFO     Waiting for the app to finish...\n",
      "Exception in thread Thread-2:\n",
      "Traceback (most recent call last):\n",
      "  File \"/opt/hostedtoolcache/Python/3.8.12/x64/lib/python3.8/threading.py\", line 932, in _bootstrap_inner\n",
      "    self.run()\n",
      "  File \"/opt/hostedtoolcache/Python/3.8.12/x64/lib/python3.8/threading.py\", line 870, in run\n",
      "    self._target(*self._args, **self._kwargs)\n",
      "  File \"/opt/hostedtoolcache/Python/3.8.12/x64/lib/python3.8/site-packages/torchx-0.1.1.dev0-py3.8.egg/torchx/cli/cmd_log.py\", line 50, in print_log_lines\n",
      "    for line in runner.log_lines(\n",
      "  File \"/opt/hostedtoolcache/Python/3.8.12/x64/lib/python3.8/site-packages/torchx-0.1.1.dev0-py3.8.egg/torchx/runner/api.py\", line 487, in log_lines\n",
      "    log_iter = scheduler.log_iter(\n",
      "  File \"/opt/hostedtoolcache/Python/3.8.12/x64/lib/python3.8/site-packages/torchx-0.1.1.dev0-py3.8.egg/torchx/schedulers/docker_scheduler.py\", line 349, in log_iter\n",
      "    if len(logs) == 0:\n",
      "TypeError: object of type 'CancellableStream' has no len()\n",
      "Exception in thread Thread-1:\n",
      "Traceback (most recent call last):\n",
      "  File \"/opt/hostedtoolcache/Python/3.8.12/x64/lib/python3.8/threading.py\", line 932, in _bootstrap_inner\n",
      "    self.run()\n",
      "  File \"/opt/hostedtoolcache/Python/3.8.12/x64/lib/python3.8/threading.py\", line 870, in run\n",
      "    self._target(*self._args, **self._kwargs)\n",
      "  File \"/opt/hostedtoolcache/Python/3.8.12/x64/lib/python3.8/site-packages/torchx-0.1.1.dev0-py3.8.egg/torchx/cli/cmd_log.py\", line 147, in get_logs\n",
      "    raise threads_exceptions[0]\n",
      "  File \"/opt/hostedtoolcache/Python/3.8.12/x64/lib/python3.8/threading.py\", line 932, in _bootstrap_inner\n",
      "    self.run()\n",
      "  File \"/opt/hostedtoolcache/Python/3.8.12/x64/lib/python3.8/threading.py\", line 870, in run\n",
      "    self._target(*self._args, **self._kwargs)\n",
      "  File \"/opt/hostedtoolcache/Python/3.8.12/x64/lib/python3.8/site-packages/torchx-0.1.1.dev0-py3.8.egg/torchx/cli/cmd_log.py\", line 50, in print_log_lines\n",
      "    for line in runner.log_lines(\n",
      "  File \"/opt/hostedtoolcache/Python/3.8.12/x64/lib/python3.8/site-packages/torchx-0.1.1.dev0-py3.8.egg/torchx/runner/api.py\", line 487, in log_lines\n",
      "    log_iter = scheduler.log_iter(\n",
      "  File \"/opt/hostedtoolcache/Python/3.8.12/x64/lib/python3.8/site-packages/torchx-0.1.1.dev0-py3.8.egg/torchx/schedulers/docker_scheduler.py\", line 349, in log_iter\n",
      "    if len(logs) == 0:\n",
      "TypeError: object of type 'CancellableStream' has no len()\n",
      "torchx 2021-11-02 01:13:18 INFO     Job finished: SUCCEEDED\n"
     ]
    }
   ],
   "source": [
    "%%sh\n",
    "torchx run utils.echo --msg \"Hello :)\""
   ]
  },
  {
   "cell_type": "markdown",
   "id": "aeb48088",
   "metadata": {},
   "source": [
    "## Next Steps\n",
    "\n",
    "1. Checkout other features of the [torchx CLI](cli.rst)\n",
    "2. Learn how to author more complex app specs by referencing [specs](specs.rst)\n",
    "3. Browse through the collection of [builtin components](components/overview.rst)\n",
    "4. Take a look at the [list of schedulers](schedulers.rst) supported by the runner\n",
    "5. See which [ML pipeline platforms](pipelines.rst) you can run components on\n",
    "6. See a [training app example](examples_apps/index.rst)"
   ]
  }
 ],
 "metadata": {
  "jupytext": {
   "text_representation": {
    "extension": ".md",
    "format_name": "markdown",
    "format_version": "1.1",
    "jupytext_version": "1.1.0"
   }
  },
  "kernelspec": {
   "display_name": "Python 3",
   "language": "python",
   "name": "python3"
  },
  "language_info": {
   "codemirror_mode": {
    "name": "ipython",
    "version": 3
   },
   "file_extension": ".py",
   "mimetype": "text/x-python",
   "name": "python",
   "nbconvert_exporter": "python",
   "pygments_lexer": "ipython3",
   "version": "3.8.12"
  }
 },
 "nbformat": 4,
 "nbformat_minor": 5
}
