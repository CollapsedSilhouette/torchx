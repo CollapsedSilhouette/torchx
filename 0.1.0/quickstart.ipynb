{
 "cells": [
  {
   "cell_type": "markdown",
   "id": "58ab2c13",
   "metadata": {},
   "source": [
    "# Quickstart\n",
    "\n",
    "This is a self contained guide on how to build a simple app and component spec\n",
    "and launch it via two different schedulers.\n",
    "\n",
    "## Installation\n",
    "\n",
    "First thing we need to do is to install the TorchX python package which includes\n",
    "the CLI and the library."
   ]
  },
  {
   "cell_type": "markdown",
   "id": "63aa7e2e",
   "metadata": {
    "region_name": "md"
   },
   "source": [
    "```sh\n",
    "# install torchx with all dependencies\n",
    "$ pip install torchx[dev]\n",
    "```"
   ]
  },
  {
   "cell_type": "markdown",
   "id": "d2245850",
   "metadata": {},
   "source": [
    "See the [README](https://github.com/pytorch/torchx) for more\n",
    "information on installation."
   ]
  },
  {
   "cell_type": "code",
   "execution_count": 1,
   "id": "7a911f91",
   "metadata": {
    "execution": {
     "iopub.execute_input": "2021-10-21T03:16:06.621414Z",
     "iopub.status.busy": "2021-10-21T03:16:06.620574Z",
     "iopub.status.idle": "2021-10-21T03:16:06.989043Z",
     "shell.execute_reply": "2021-10-21T03:16:06.988446Z"
    }
   },
   "outputs": [
    {
     "name": "stdout",
     "output_type": "stream",
     "text": [
      "usage: torchx [-h] [--log_level LOG_LEVEL] [--version]\n",
      "              {describe,log,run,builtins,runopts,status,configure} ...\n",
      "\n",
      "torchx CLI\n",
      "\n",
      "optional arguments:\n",
      "  -h, --help            show this help message and exit\n",
      "  --log_level LOG_LEVEL\n",
      "                        Python logging log level\n",
      "  --version             show program's version number and exit\n",
      "\n",
      "sub-commands:\n",
      "  Use the following commands to run operations, e.g.: torchx run ${JOB_NAME}\n",
      "\n",
      "  {describe,log,run,builtins,runopts,status,configure}\n"
     ]
    }
   ],
   "source": [
    "%%sh\n",
    "torchx --help"
   ]
  },
  {
   "cell_type": "markdown",
   "id": "468ff7b4",
   "metadata": {},
   "source": [
    "## Hello World\n",
    "\n",
    "Lets start off with writing a simple \"Hello World\" python app. This is just a\n",
    "normal python program and can contain anything you'd like.\n",
    "\n",
    "<div class=\"admonition note\">\n",
    "<div class=\"admonition-title\">Note</div>\n",
    "This example uses Jupyter Notebook `%%writefile` to create local files for\n",
    "example purposes. Under normal usage you would have these as standalone files.\n",
    "</div>"
   ]
  },
  {
   "cell_type": "code",
   "execution_count": 2,
   "id": "ea84b295",
   "metadata": {
    "execution": {
     "iopub.execute_input": "2021-10-21T03:16:06.996703Z",
     "iopub.status.busy": "2021-10-21T03:16:06.995304Z",
     "iopub.status.idle": "2021-10-21T03:16:06.999919Z",
     "shell.execute_reply": "2021-10-21T03:16:06.998908Z"
    }
   },
   "outputs": [
    {
     "name": "stdout",
     "output_type": "stream",
     "text": [
      "Writing my_app.py\n"
     ]
    }
   ],
   "source": [
    "%%writefile my_app.py\n",
    "\n",
    "import sys\n",
    "import argparse\n",
    "\n",
    "def main(user: str) -> None:\n",
    "    print(f\"Hello, {user}!\")\n",
    "\n",
    "if __name__ == \"__main__\":\n",
    "    parser = argparse.ArgumentParser(\n",
    "        description=\"Hello world app\"\n",
    "    )\n",
    "    parser.add_argument(\n",
    "        \"--user\",\n",
    "        type=str,\n",
    "        help=\"the person to greet\",\n",
    "        required=True,\n",
    "    )\n",
    "    args = parser.parse_args(sys.argv[1:])\n",
    "\n",
    "    main(args.user)"
   ]
  },
  {
   "cell_type": "markdown",
   "id": "26cf160f",
   "metadata": {},
   "source": [
    "Now that we have an app we can write the component file for it. This\n",
    "function allows us to reuse and share our app in a user friendly way.\n",
    "\n",
    "We can use this component from the `torchx` cli or programmatically as part of a\n",
    "pipeline."
   ]
  },
  {
   "cell_type": "code",
   "execution_count": 3,
   "id": "4475a7f0",
   "metadata": {
    "execution": {
     "iopub.execute_input": "2021-10-21T03:16:07.005691Z",
     "iopub.status.busy": "2021-10-21T03:16:07.004959Z",
     "iopub.status.idle": "2021-10-21T03:16:07.009750Z",
     "shell.execute_reply": "2021-10-21T03:16:07.010220Z"
    }
   },
   "outputs": [
    {
     "name": "stdout",
     "output_type": "stream",
     "text": [
      "Writing my_component.py\n"
     ]
    }
   ],
   "source": [
    "%%writefile my_component.py\n",
    "\n",
    "import torchx.specs as specs\n",
    "\n",
    "def greet(user: str, image: str = \"my_app:latest\") -> specs.AppDef:\n",
    "    return specs.AppDef(\n",
    "        name=\"hello_world\",\n",
    "        roles=[\n",
    "            specs.Role(\n",
    "                name=\"greeter\",\n",
    "                image=image,\n",
    "                entrypoint=\"python\",\n",
    "                args=[\n",
    "                    \"-m\", \"my_app\",\n",
    "                    \"--user\", user,\n",
    "                ],\n",
    "            )\n",
    "        ],\n",
    "    )"
   ]
  },
  {
   "cell_type": "markdown",
   "id": "0deceee1",
   "metadata": {},
   "source": [
    "We can execute our component via `torchx run`. The\n",
    "`local_cwd` scheduler executes the component relative to the current directory."
   ]
  },
  {
   "cell_type": "code",
   "execution_count": 4,
   "id": "2807ae65",
   "metadata": {
    "execution": {
     "iopub.execute_input": "2021-10-21T03:16:07.017238Z",
     "iopub.status.busy": "2021-10-21T03:16:07.014308Z",
     "iopub.status.idle": "2021-10-21T03:16:08.559486Z",
     "shell.execute_reply": "2021-10-21T03:16:08.558869Z"
    }
   },
   "outputs": [
    {
     "name": "stdout",
     "output_type": "stream",
     "text": [
      "Hello, your name!\n",
      "local_cwd://torchx/hello_world_90342df0\n"
     ]
    },
    {
     "name": "stderr",
     "output_type": "stream",
     "text": [
      "torchx 2021-10-21 03:16:07 INFO     Waiting for the app to finish...\n",
      "torchx 2021-10-21 03:16:08 INFO     Job finished: SUCCEEDED\n"
     ]
    }
   ],
   "source": [
    "%%sh\n",
    "torchx run --scheduler local_cwd my_component.py:greet --user \"your name\""
   ]
  },
  {
   "cell_type": "markdown",
   "id": "0fe46830",
   "metadata": {},
   "source": [
    "If we want to run in other environments, we can build a Docker container so we\n",
    "can run our component in Docker enabled environments such as Kubernetes or via\n",
    "the local Docker scheduler.\n",
    "\n",
    "<div class=\"admonition note\">\n",
    "<div class=\"admonition-title\">Note</div>\n",
    "This requires Docker installed and won't work in environments such as Google\n",
    "Colab. If you have not done so already follow the install instructions on:\n",
    "[https://docs.docker.com/get-docker/](https://docs.docker.com/get-docker/)</a>\n",
    "</div>"
   ]
  },
  {
   "cell_type": "code",
   "execution_count": 5,
   "id": "0f33a5e8",
   "metadata": {
    "execution": {
     "iopub.execute_input": "2021-10-21T03:16:08.565707Z",
     "iopub.status.busy": "2021-10-21T03:16:08.564943Z",
     "iopub.status.idle": "2021-10-21T03:16:08.570500Z",
     "shell.execute_reply": "2021-10-21T03:16:08.571014Z"
    }
   },
   "outputs": [
    {
     "name": "stdout",
     "output_type": "stream",
     "text": [
      "Writing Dockerfile\n"
     ]
    }
   ],
   "source": [
    "%%writefile Dockerfile\n",
    "\n",
    "FROM ghcr.io/pytorch/torchx:0.1.0rc1\n",
    "\n",
    "ADD my_app.py ."
   ]
  },
  {
   "cell_type": "markdown",
   "id": "a92261f6",
   "metadata": {},
   "source": [
    "Once we have the Dockerfile created we can create our docker image."
   ]
  },
  {
   "cell_type": "code",
   "execution_count": 6,
   "id": "0cfccc4a",
   "metadata": {
    "execution": {
     "iopub.execute_input": "2021-10-21T03:16:08.576751Z",
     "iopub.status.busy": "2021-10-21T03:16:08.574973Z",
     "iopub.status.idle": "2021-10-21T03:18:48.536108Z",
     "shell.execute_reply": "2021-10-21T03:18:48.535066Z"
    }
   },
   "outputs": [
    {
     "name": "stdout",
     "output_type": "stream",
     "text": [
      "Sending build context to Docker daemon  22.25MB\r",
      "\r\n",
      "Step 1/2 : FROM ghcr.io/pytorch/torchx:0.1.0rc1\n",
      "0.1.0rc1: Pulling from pytorch/torchx\n",
      "4bbfd2c87b75: Pulling fs layer\n",
      "d2e110be24e1: Pulling fs layer\n",
      "889a7173dcfe: Pulling fs layer\n",
      "6009a622672a: Pulling fs layer\n",
      "143f80195431: Pulling fs layer\n",
      "eccbe17c44e1: Pulling fs layer\n",
      "d4c7af0d4fa7: Pulling fs layer\n",
      "06b5edd6bf52: Pulling fs layer\n",
      "f18d016c4ccc: Pulling fs layer\n",
      "c0ad16d9fa05: Pulling fs layer\n",
      "30587ba7fd6b: Pulling fs layer\n",
      "909695be1d50: Pulling fs layer\n",
      "f119a6d0a466: Pulling fs layer\n",
      "88d87059c913: Pulling fs layer\n",
      "6009a622672a: Waiting\n",
      "143f80195431: Waiting\n",
      "eccbe17c44e1: Waiting\n",
      "d4c7af0d4fa7: Waiting\n",
      "06b5edd6bf52: Waiting\n",
      "f18d016c4ccc: Waiting\n",
      "c0ad16d9fa05: Waiting\n",
      "30587ba7fd6b: Waiting\n",
      "909695be1d50: Waiting\n",
      "f119a6d0a466: Waiting\n",
      "88d87059c913: Waiting\n",
      "889a7173dcfe: Verifying Checksum\n",
      "889a7173dcfe: Download complete\n",
      "d2e110be24e1: Download complete\n",
      "4bbfd2c87b75: Verifying Checksum\n",
      "4bbfd2c87b75: Download complete\n",
      "6009a622672a: Verifying Checksum\n",
      "6009a622672a: Download complete\n",
      "eccbe17c44e1: Verifying Checksum\n",
      "eccbe17c44e1: Download complete\n",
      "06b5edd6bf52: Verifying Checksum\n",
      "06b5edd6bf52: Download complete\n",
      "d4c7af0d4fa7: Verifying Checksum\n",
      "d4c7af0d4fa7: Download complete\n",
      "c0ad16d9fa05: Verifying Checksum\n",
      "c0ad16d9fa05: Download complete\n",
      "30587ba7fd6b: Verifying Checksum\n",
      "30587ba7fd6b: Download complete\n",
      "909695be1d50: Verifying Checksum\n",
      "909695be1d50: Download complete\n",
      "f119a6d0a466: Verifying Checksum\n",
      "f119a6d0a466: Download complete\n",
      "88d87059c913: Verifying Checksum\n",
      "88d87059c913: Download complete\n",
      "4bbfd2c87b75: Pull complete\n",
      "f18d016c4ccc: Verifying Checksum\n",
      "f18d016c4ccc: Download complete\n",
      "143f80195431: Verifying Checksum\n",
      "143f80195431: Download complete\n",
      "d2e110be24e1: Pull complete\n",
      "889a7173dcfe: Pull complete\n",
      "6009a622672a: Pull complete\n",
      "143f80195431: Pull complete\n",
      "eccbe17c44e1: Pull complete\n",
      "d4c7af0d4fa7: Pull complete\n",
      "06b5edd6bf52: Pull complete\n",
      "f18d016c4ccc: Pull complete\n",
      "c0ad16d9fa05: Pull complete\n",
      "30587ba7fd6b: Pull complete\n",
      "909695be1d50: Pull complete\n",
      "f119a6d0a466: Pull complete\n",
      "88d87059c913: Pull complete\n",
      "Digest: sha256:a738949601d82e7f100fa1efeb8dde0c35ce44c66726cf38596f96d78dcd7ad3\n",
      "Status: Downloaded newer image for ghcr.io/pytorch/torchx:0.1.0rc1\n",
      " ---> 3dbec59e8049\n",
      "Step 2/2 : ADD my_app.py .\n",
      " ---> 48b2a5f668e8\n",
      "Successfully built 48b2a5f668e8\n",
      "Successfully tagged my_app:latest\n"
     ]
    }
   ],
   "source": [
    "%%sh\n",
    "docker build -t my_app:latest -f Dockerfile ."
   ]
  },
  {
   "cell_type": "markdown",
   "id": "1afc8798",
   "metadata": {},
   "source": [
    "We can then launch it on the local scheduler."
   ]
  },
  {
   "cell_type": "code",
   "execution_count": 7,
   "id": "5555c19f",
   "metadata": {
    "execution": {
     "iopub.execute_input": "2021-10-21T03:18:48.542151Z",
     "iopub.status.busy": "2021-10-21T03:18:48.541547Z",
     "iopub.status.idle": "2021-10-21T03:18:50.489410Z",
     "shell.execute_reply": "2021-10-21T03:18:50.488845Z"
    }
   },
   "outputs": [
    {
     "name": "stdout",
     "output_type": "stream",
     "text": [
      "Hello, your name!\n",
      "local_docker://torchx/hello_world_e3d398ac\n"
     ]
    },
    {
     "name": "stderr",
     "output_type": "stream",
     "text": [
      "Error response from daemon: pull access denied for my_app, repository does not exist or may require 'docker login': denied: requested access to the resource is denied\n",
      "torchx 2021-10-21 03:18:49 WARNING  failed to fetch image my_app:latest, falling back to local: Command '['docker', 'pull', 'my_app:latest']' returned non-zero exit status 1.\n",
      "torchx 2021-10-21 03:18:49 INFO     Waiting for the app to finish...\n",
      "torchx 2021-10-21 03:18:50 INFO     Job finished: SUCCEEDED\n"
     ]
    }
   ],
   "source": [
    "%%sh\n",
    "torchx run --scheduler local_docker my_component.py:greet --image \"my_app:latest\" --user \"your name\""
   ]
  },
  {
   "cell_type": "markdown",
   "id": "34f27dc1",
   "metadata": {},
   "source": [
    "If you have a Kubernetes cluster you can use the [Kubernetes scheduler](schedulers/kubernetes.rst) to launch\n",
    "this on the cluster instead.\n"
   ]
  },
  {
   "cell_type": "markdown",
   "id": "12c5fe50",
   "metadata": {
    "lines_to_next_cell": 2,
    "region_name": "md"
   },
   "source": [
    "```sh\n",
    "$ docker push my_app:latest\n",
    "$ torchx run --scheduler kubernetes my_component.py:greet --image \"my_app:latest\" --user \"your name\"\n",
    "```"
   ]
  },
  {
   "cell_type": "markdown",
   "id": "31c0b653",
   "metadata": {},
   "source": [
    "## Builtins\n",
    "\n",
    "TorchX also provides a number of builtin components with premade images. You can discover\n",
    "them via:"
   ]
  },
  {
   "cell_type": "code",
   "execution_count": 8,
   "id": "2d6d5818",
   "metadata": {
    "execution": {
     "iopub.execute_input": "2021-10-21T03:18:50.498269Z",
     "iopub.status.busy": "2021-10-21T03:18:50.497636Z",
     "iopub.status.idle": "2021-10-21T03:18:51.655626Z",
     "shell.execute_reply": "2021-10-21T03:18:51.654642Z"
    }
   },
   "outputs": [
    {
     "name": "stdout",
     "output_type": "stream",
     "text": [
      "Found 7 builtin components:\n",
      "  1. dist.ddp\n",
      "  2. utils.booth\n",
      "  3. utils.copy\n",
      "  4. utils.echo\n",
      "  5. utils.sh\n",
      "  6. utils.touch\n",
      "  7. serve.torchserve\n"
     ]
    }
   ],
   "source": [
    "%%sh\n",
    "torchx builtins"
   ]
  },
  {
   "cell_type": "markdown",
   "id": "c105b0f7",
   "metadata": {},
   "source": [
    "You can use these either from the CLI, from a pipeline or programmatically like\n",
    "you would any other component."
   ]
  },
  {
   "cell_type": "code",
   "execution_count": 9,
   "id": "de2d56fd",
   "metadata": {
    "execution": {
     "iopub.execute_input": "2021-10-21T03:18:51.673671Z",
     "iopub.status.busy": "2021-10-21T03:18:51.672988Z",
     "iopub.status.idle": "2021-10-21T03:22:36.875347Z",
     "shell.execute_reply": "2021-10-21T03:22:36.874783Z"
    },
    "lines_to_next_cell": 2
   },
   "outputs": [
    {
     "name": "stdout",
     "output_type": "stream",
     "text": [
      "Hello :)\n",
      "local_docker://torchx/echo_54cdda3f\n"
     ]
    },
    {
     "name": "stderr",
     "output_type": "stream",
     "text": [
      "0.1.0: Pulling from pytorch/torchx\n",
      "4bbfd2c87b75: Already exists\n",
      "d2e110be24e1: Already exists\n",
      "889a7173dcfe: Already exists\n",
      "6009a622672a: Already exists\n",
      "143f80195431: Already exists\n",
      "eccbe17c44e1: Already exists\n",
      "7d5ad4ee9e86: Pulling fs layer\n",
      "7cee61c039db: Pulling fs layer\n",
      "9c8d7572a1cb: Pulling fs layer\n",
      "24800ada3d7c: Pulling fs layer\n",
      "1c4f0137b06a: Pulling fs layer\n",
      "96dd313b57d6: Pulling fs layer\n",
      "eec24112ff8d: Pulling fs layer\n",
      "abbab9c12784: Pulling fs layer\n",
      "92588350a6e6: Pulling fs layer\n",
      "1a5d89df9964: Pulling fs layer\n",
      "fd898d7407c6: Pulling fs layer\n",
      "198d1359b1af: Pulling fs layer\n",
      "24800ada3d7c: Waiting\n",
      "1c4f0137b06a: Waiting\n",
      "abbab9c12784: Waiting\n",
      "92588350a6e6: Waiting\n",
      "1a5d89df9964: Waiting\n",
      "fd898d7407c6: Waiting\n",
      "198d1359b1af: Waiting\n",
      "96dd313b57d6: Waiting\n",
      "eec24112ff8d: Waiting\n",
      "7cee61c039db: Verifying Checksum\n",
      "7cee61c039db: Download complete\n",
      "24800ada3d7c: Verifying Checksum\n",
      "24800ada3d7c: Download complete\n",
      "7d5ad4ee9e86: Verifying Checksum\n",
      "7d5ad4ee9e86: Download complete\n",
      "1c4f0137b06a: Verifying Checksum\n",
      "1c4f0137b06a: Download complete\n",
      "eec24112ff8d: Verifying Checksum\n",
      "eec24112ff8d: Download complete\n",
      "96dd313b57d6: Verifying Checksum\n",
      "96dd313b57d6: Download complete\n",
      "92588350a6e6: Verifying Checksum\n",
      "92588350a6e6: Download complete\n",
      "9c8d7572a1cb: Verifying Checksum\n",
      "9c8d7572a1cb: Download complete\n",
      "fd898d7407c6: Verifying Checksum\n",
      "fd898d7407c6: Download complete\n",
      "198d1359b1af: Verifying Checksum\n",
      "198d1359b1af: Download complete\n",
      "7d5ad4ee9e86: Pull complete\n",
      "1a5d89df9964: Verifying Checksum\n",
      "1a5d89df9964: Download complete\n",
      "7cee61c039db: Pull complete\n",
      "abbab9c12784: Verifying Checksum\n",
      "abbab9c12784: Download complete\n",
      "9c8d7572a1cb: Pull complete\n",
      "24800ada3d7c: Pull complete\n",
      "1c4f0137b06a: Pull complete\n",
      "96dd313b57d6: Pull complete\n",
      "eec24112ff8d: Pull complete\n",
      "abbab9c12784: Pull complete\n",
      "92588350a6e6: Pull complete\n",
      "1a5d89df9964: Pull complete\n",
      "fd898d7407c6: Pull complete\n",
      "198d1359b1af: Pull complete\n",
      "Digest: sha256:15f584a06ef4e96d5bb93b4ab1b961adc14794d8d22948ca3e58269d55ff1400\n",
      "Status: Downloaded newer image for ghcr.io/pytorch/torchx:0.1.0\n",
      "ghcr.io/pytorch/torchx:0.1.0\n",
      "torchx 2021-10-21 03:22:35 INFO     Waiting for the app to finish...\n",
      "torchx 2021-10-21 03:22:36 INFO     Job finished: SUCCEEDED\n"
     ]
    }
   ],
   "source": [
    "%%sh\n",
    "torchx run utils.echo --msg \"Hello :)\""
   ]
  },
  {
   "cell_type": "markdown",
   "id": "d50ccadc",
   "metadata": {},
   "source": [
    "## Next Steps\n",
    "\n",
    "1. Checkout other features of the [torchx CLI](cli.rst)\n",
    "2. Learn how to author more complex app specs by referencing [specs](specs.rst)\n",
    "3. Browse through the collection of [builtin components](components/overview.rst)\n",
    "4. Take a look at the [list of schedulers](schedulers.rst) supported by the runner\n",
    "5. See which [ML pipeline platforms](pipelines.rst) you can run components on\n",
    "6. See a [training app example](examples_apps/index.rst)"
   ]
  }
 ],
 "metadata": {
  "jupytext": {
   "text_representation": {
    "extension": ".md",
    "format_name": "markdown",
    "format_version": "1.1",
    "jupytext_version": "1.1.0"
   }
  },
  "kernelspec": {
   "display_name": "Python 3",
   "language": "python",
   "name": "python3"
  },
  "language_info": {
   "codemirror_mode": {
    "name": "ipython",
    "version": 3
   },
   "file_extension": ".py",
   "mimetype": "text/x-python",
   "name": "python",
   "nbconvert_exporter": "python",
   "pygments_lexer": "ipython3",
   "version": "3.8.12"
  }
 },
 "nbformat": 4,
 "nbformat_minor": 5
}
