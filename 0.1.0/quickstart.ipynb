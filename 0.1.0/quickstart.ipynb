{
 "cells": [
  {
   "cell_type": "markdown",
   "id": "6421013f",
   "metadata": {},
   "source": [
    "# Quickstart\n",
    "\n",
    "This is a self contained guide on how to build a simple app and component spec\n",
    "and launch it via two different schedulers.\n",
    "\n",
    "## Installation\n",
    "\n",
    "First thing we need to do is to install the TorchX python package which includes\n",
    "the CLI and the library."
   ]
  },
  {
   "cell_type": "markdown",
   "id": "de0a4f78",
   "metadata": {
    "region_name": "md"
   },
   "source": [
    "```sh\n",
    "# install torchx with all dependencies\n",
    "$ pip install torchx[dev]\n",
    "```"
   ]
  },
  {
   "cell_type": "markdown",
   "id": "058ab63e",
   "metadata": {},
   "source": [
    "See the [README](https://github.com/pytorch/torchx) for more\n",
    "information on installation."
   ]
  },
  {
   "cell_type": "code",
   "execution_count": 1,
   "id": "ed74ad0b",
   "metadata": {
    "execution": {
     "iopub.execute_input": "2021-10-21T16:53:19.572752Z",
     "iopub.status.busy": "2021-10-21T16:53:19.571868Z",
     "iopub.status.idle": "2021-10-21T16:53:19.944109Z",
     "shell.execute_reply": "2021-10-21T16:53:19.943452Z"
    }
   },
   "outputs": [
    {
     "name": "stdout",
     "output_type": "stream",
     "text": [
      "usage: torchx [-h] [--log_level LOG_LEVEL] [--version]\n",
      "              {describe,log,run,builtins,runopts,status,configure} ...\n",
      "\n",
      "torchx CLI\n",
      "\n",
      "optional arguments:\n",
      "  -h, --help            show this help message and exit\n",
      "  --log_level LOG_LEVEL\n",
      "                        Python logging log level\n",
      "  --version             show program's version number and exit\n",
      "\n",
      "sub-commands:\n",
      "  Use the following commands to run operations, e.g.: torchx run ${JOB_NAME}\n",
      "\n",
      "  {describe,log,run,builtins,runopts,status,configure}\n"
     ]
    }
   ],
   "source": [
    "%%sh\n",
    "torchx --help"
   ]
  },
  {
   "cell_type": "markdown",
   "id": "7685e875",
   "metadata": {},
   "source": [
    "## Hello World\n",
    "\n",
    "Lets start off with writing a simple \"Hello World\" python app. This is just a\n",
    "normal python program and can contain anything you'd like.\n",
    "\n",
    "<div class=\"admonition note\">\n",
    "<div class=\"admonition-title\">Note</div>\n",
    "This example uses Jupyter Notebook `%%writefile` to create local files for\n",
    "example purposes. Under normal usage you would have these as standalone files.\n",
    "</div>"
   ]
  },
  {
   "cell_type": "code",
   "execution_count": 2,
   "id": "bfacac50",
   "metadata": {
    "execution": {
     "iopub.execute_input": "2021-10-21T16:53:19.951350Z",
     "iopub.status.busy": "2021-10-21T16:53:19.949586Z",
     "iopub.status.idle": "2021-10-21T16:53:19.954316Z",
     "shell.execute_reply": "2021-10-21T16:53:19.954824Z"
    }
   },
   "outputs": [
    {
     "name": "stdout",
     "output_type": "stream",
     "text": [
      "Writing my_app.py\n"
     ]
    }
   ],
   "source": [
    "%%writefile my_app.py\n",
    "\n",
    "import sys\n",
    "import argparse\n",
    "\n",
    "def main(user: str) -> None:\n",
    "    print(f\"Hello, {user}!\")\n",
    "\n",
    "if __name__ == \"__main__\":\n",
    "    parser = argparse.ArgumentParser(\n",
    "        description=\"Hello world app\"\n",
    "    )\n",
    "    parser.add_argument(\n",
    "        \"--user\",\n",
    "        type=str,\n",
    "        help=\"the person to greet\",\n",
    "        required=True,\n",
    "    )\n",
    "    args = parser.parse_args(sys.argv[1:])\n",
    "\n",
    "    main(args.user)"
   ]
  },
  {
   "cell_type": "markdown",
   "id": "d402229f",
   "metadata": {},
   "source": [
    "Now that we have an app we can write the component file for it. This\n",
    "function allows us to reuse and share our app in a user friendly way.\n",
    "\n",
    "We can use this component from the `torchx` cli or programmatically as part of a\n",
    "pipeline."
   ]
  },
  {
   "cell_type": "code",
   "execution_count": 3,
   "id": "bccc3597",
   "metadata": {
    "execution": {
     "iopub.execute_input": "2021-10-21T16:53:19.959525Z",
     "iopub.status.busy": "2021-10-21T16:53:19.958895Z",
     "iopub.status.idle": "2021-10-21T16:53:19.963883Z",
     "shell.execute_reply": "2021-10-21T16:53:19.963343Z"
    }
   },
   "outputs": [
    {
     "name": "stdout",
     "output_type": "stream",
     "text": [
      "Writing my_component.py\n"
     ]
    }
   ],
   "source": [
    "%%writefile my_component.py\n",
    "\n",
    "import torchx.specs as specs\n",
    "\n",
    "def greet(user: str, image: str = \"my_app:latest\") -> specs.AppDef:\n",
    "    return specs.AppDef(\n",
    "        name=\"hello_world\",\n",
    "        roles=[\n",
    "            specs.Role(\n",
    "                name=\"greeter\",\n",
    "                image=image,\n",
    "                entrypoint=\"python\",\n",
    "                args=[\n",
    "                    \"-m\", \"my_app\",\n",
    "                    \"--user\", user,\n",
    "                ],\n",
    "            )\n",
    "        ],\n",
    "    )"
   ]
  },
  {
   "cell_type": "markdown",
   "id": "5c1d8554",
   "metadata": {},
   "source": [
    "We can execute our component via `torchx run`. The\n",
    "`local_cwd` scheduler executes the component relative to the current directory."
   ]
  },
  {
   "cell_type": "code",
   "execution_count": 4,
   "id": "14a2741f",
   "metadata": {
    "execution": {
     "iopub.execute_input": "2021-10-21T16:53:19.971694Z",
     "iopub.status.busy": "2021-10-21T16:53:19.970796Z",
     "iopub.status.idle": "2021-10-21T16:53:21.497084Z",
     "shell.execute_reply": "2021-10-21T16:53:21.497584Z"
    }
   },
   "outputs": [
    {
     "name": "stdout",
     "output_type": "stream",
     "text": [
      "Hello, your name!\n",
      "local_cwd://torchx/hello_world_d3fb3148\n"
     ]
    },
    {
     "name": "stderr",
     "output_type": "stream",
     "text": [
      "torchx 2021-10-21 16:53:20 INFO     Waiting for the app to finish...\n",
      "torchx 2021-10-21 16:53:21 INFO     Job finished: SUCCEEDED\n"
     ]
    }
   ],
   "source": [
    "%%sh\n",
    "torchx run --scheduler local_cwd my_component.py:greet --user \"your name\""
   ]
  },
  {
   "cell_type": "markdown",
   "id": "598cea7c",
   "metadata": {},
   "source": [
    "If we want to run in other environments, we can build a Docker container so we\n",
    "can run our component in Docker enabled environments such as Kubernetes or via\n",
    "the local Docker scheduler.\n",
    "\n",
    "<div class=\"admonition note\">\n",
    "<div class=\"admonition-title\">Note</div>\n",
    "This requires Docker installed and won't work in environments such as Google\n",
    "Colab. If you have not done so already follow the install instructions on:\n",
    "[https://docs.docker.com/get-docker/](https://docs.docker.com/get-docker/)</a>\n",
    "</div>"
   ]
  },
  {
   "cell_type": "code",
   "execution_count": 5,
   "id": "ae5e661c",
   "metadata": {
    "execution": {
     "iopub.execute_input": "2021-10-21T16:53:21.503812Z",
     "iopub.status.busy": "2021-10-21T16:53:21.502852Z",
     "iopub.status.idle": "2021-10-21T16:53:21.507571Z",
     "shell.execute_reply": "2021-10-21T16:53:21.508082Z"
    }
   },
   "outputs": [
    {
     "name": "stdout",
     "output_type": "stream",
     "text": [
      "Writing Dockerfile\n"
     ]
    }
   ],
   "source": [
    "%%writefile Dockerfile\n",
    "\n",
    "FROM ghcr.io/pytorch/torchx:0.1.0rc1\n",
    "\n",
    "ADD my_app.py ."
   ]
  },
  {
   "cell_type": "markdown",
   "id": "c3c9fccc",
   "metadata": {},
   "source": [
    "Once we have the Dockerfile created we can create our docker image."
   ]
  },
  {
   "cell_type": "code",
   "execution_count": 6,
   "id": "db743b88",
   "metadata": {
    "execution": {
     "iopub.execute_input": "2021-10-21T16:53:21.512662Z",
     "iopub.status.busy": "2021-10-21T16:53:21.511986Z",
     "iopub.status.idle": "2021-10-21T16:55:57.869049Z",
     "shell.execute_reply": "2021-10-21T16:55:57.867733Z"
    }
   },
   "outputs": [
    {
     "name": "stdout",
     "output_type": "stream",
     "text": [
      "Sending build context to Docker daemon  22.25MB\r",
      "\r\n",
      "Step 1/2 : FROM ghcr.io/pytorch/torchx:0.1.0rc1\n",
      "0.1.0rc1: Pulling from pytorch/torchx\n",
      "4bbfd2c87b75: Pulling fs layer\n",
      "d2e110be24e1: Pulling fs layer\n",
      "889a7173dcfe: Pulling fs layer\n",
      "6009a622672a: Pulling fs layer\n",
      "143f80195431: Pulling fs layer\n",
      "eccbe17c44e1: Pulling fs layer\n",
      "d4c7af0d4fa7: Pulling fs layer\n",
      "06b5edd6bf52: Pulling fs layer\n",
      "f18d016c4ccc: Pulling fs layer\n",
      "c0ad16d9fa05: Pulling fs layer\n",
      "30587ba7fd6b: Pulling fs layer\n",
      "909695be1d50: Pulling fs layer\n",
      "f119a6d0a466: Pulling fs layer\n",
      "88d87059c913: Pulling fs layer\n",
      "6009a622672a: Waiting\n",
      "143f80195431: Waiting\n",
      "eccbe17c44e1: Waiting\n",
      "d4c7af0d4fa7: Waiting\n",
      "06b5edd6bf52: Waiting\n",
      "f18d016c4ccc: Waiting\n",
      "c0ad16d9fa05: Waiting\n",
      "30587ba7fd6b: Waiting\n",
      "909695be1d50: Waiting\n",
      "f119a6d0a466: Waiting\n",
      "88d87059c913: Waiting\n",
      "d2e110be24e1: Verifying Checksum\n",
      "d2e110be24e1: Download complete\n",
      "889a7173dcfe: Verifying Checksum\n",
      "889a7173dcfe: Download complete\n",
      "4bbfd2c87b75: Verifying Checksum\n",
      "4bbfd2c87b75: Download complete\n",
      "6009a622672a: Verifying Checksum\n",
      "6009a622672a: Download complete\n",
      "eccbe17c44e1: Verifying Checksum\n",
      "eccbe17c44e1: Download complete\n",
      "06b5edd6bf52: Verifying Checksum\n",
      "06b5edd6bf52: Download complete\n",
      "d4c7af0d4fa7: Verifying Checksum\n",
      "d4c7af0d4fa7: Download complete\n",
      "c0ad16d9fa05: Verifying Checksum\n",
      "c0ad16d9fa05: Download complete\n",
      "30587ba7fd6b: Verifying Checksum\n",
      "30587ba7fd6b: Download complete\n",
      "909695be1d50: Verifying Checksum\n",
      "909695be1d50: Download complete\n",
      "f119a6d0a466: Verifying Checksum\n",
      "f119a6d0a466: Download complete\n",
      "88d87059c913: Verifying Checksum\n",
      "88d87059c913: Download complete\n",
      "4bbfd2c87b75: Pull complete\n",
      "f18d016c4ccc: Verifying Checksum\n",
      "f18d016c4ccc: Download complete\n",
      "143f80195431: Verifying Checksum\n",
      "143f80195431: Download complete\n",
      "d2e110be24e1: Pull complete\n",
      "889a7173dcfe: Pull complete\n",
      "6009a622672a: Pull complete\n",
      "143f80195431: Pull complete\n",
      "eccbe17c44e1: Pull complete\n",
      "d4c7af0d4fa7: Pull complete\n",
      "06b5edd6bf52: Pull complete\n",
      "f18d016c4ccc: Pull complete\n",
      "c0ad16d9fa05: Pull complete\n",
      "30587ba7fd6b: Pull complete\n",
      "909695be1d50: Pull complete\n",
      "f119a6d0a466: Pull complete\n",
      "88d87059c913: Pull complete\n",
      "Digest: sha256:a738949601d82e7f100fa1efeb8dde0c35ce44c66726cf38596f96d78dcd7ad3\n",
      "Status: Downloaded newer image for ghcr.io/pytorch/torchx:0.1.0rc1\n",
      " ---> 3dbec59e8049\n",
      "Step 2/2 : ADD my_app.py .\n",
      " ---> 527400c4dee5\n",
      "Successfully built 527400c4dee5\n",
      "Successfully tagged my_app:latest\n"
     ]
    }
   ],
   "source": [
    "%%sh\n",
    "docker build -t my_app:latest -f Dockerfile ."
   ]
  },
  {
   "cell_type": "markdown",
   "id": "d987353d",
   "metadata": {},
   "source": [
    "We can then launch it on the local scheduler."
   ]
  },
  {
   "cell_type": "code",
   "execution_count": 7,
   "id": "6a444728",
   "metadata": {
    "execution": {
     "iopub.execute_input": "2021-10-21T16:55:57.879051Z",
     "iopub.status.busy": "2021-10-21T16:55:57.878412Z",
     "iopub.status.idle": "2021-10-21T16:55:59.837392Z",
     "shell.execute_reply": "2021-10-21T16:55:59.836699Z"
    }
   },
   "outputs": [
    {
     "name": "stdout",
     "output_type": "stream",
     "text": [
      "Hello, your name!\n",
      "local_docker://torchx/hello_world_8f4411cf\n"
     ]
    },
    {
     "name": "stderr",
     "output_type": "stream",
     "text": [
      "Error response from daemon: pull access denied for my_app, repository does not exist or may require 'docker login': denied: requested access to the resource is denied\n",
      "torchx 2021-10-21 16:55:58 WARNING  failed to fetch image my_app:latest, falling back to local: Command '['docker', 'pull', 'my_app:latest']' returned non-zero exit status 1.\n",
      "torchx 2021-10-21 16:55:58 INFO     Waiting for the app to finish...\n",
      "torchx 2021-10-21 16:55:59 INFO     Job finished: SUCCEEDED\n"
     ]
    }
   ],
   "source": [
    "%%sh\n",
    "torchx run --scheduler local_docker my_component.py:greet --image \"my_app:latest\" --user \"your name\""
   ]
  },
  {
   "cell_type": "markdown",
   "id": "fa8532f9",
   "metadata": {},
   "source": [
    "If you have a Kubernetes cluster you can use the [Kubernetes scheduler](schedulers/kubernetes.rst) to launch\n",
    "this on the cluster instead.\n"
   ]
  },
  {
   "cell_type": "markdown",
   "id": "cd16dacd",
   "metadata": {
    "lines_to_next_cell": 2,
    "region_name": "md"
   },
   "source": [
    "```sh\n",
    "$ docker push my_app:latest\n",
    "$ torchx run --scheduler kubernetes my_component.py:greet --image \"my_app:latest\" --user \"your name\"\n",
    "```"
   ]
  },
  {
   "cell_type": "markdown",
   "id": "4f04f6e3",
   "metadata": {},
   "source": [
    "## Builtins\n",
    "\n",
    "TorchX also provides a number of builtin components with premade images. You can discover\n",
    "them via:"
   ]
  },
  {
   "cell_type": "code",
   "execution_count": 8,
   "id": "c8d1e5af",
   "metadata": {
    "execution": {
     "iopub.execute_input": "2021-10-21T16:55:59.842783Z",
     "iopub.status.busy": "2021-10-21T16:55:59.842127Z",
     "iopub.status.idle": "2021-10-21T16:56:00.985744Z",
     "shell.execute_reply": "2021-10-21T16:56:00.986702Z"
    }
   },
   "outputs": [
    {
     "name": "stdout",
     "output_type": "stream",
     "text": [
      "Found 7 builtin components:\n",
      "  1. dist.ddp\n",
      "  2. utils.booth\n",
      "  3. utils.copy\n",
      "  4. utils.echo\n",
      "  5. utils.sh\n",
      "  6. utils.touch\n",
      "  7. serve.torchserve\n"
     ]
    }
   ],
   "source": [
    "%%sh\n",
    "torchx builtins"
   ]
  },
  {
   "cell_type": "markdown",
   "id": "d57dbb99",
   "metadata": {},
   "source": [
    "You can use these either from the CLI, from a pipeline or programmatically like\n",
    "you would any other component."
   ]
  },
  {
   "cell_type": "code",
   "execution_count": 9,
   "id": "edd6e8d8",
   "metadata": {
    "execution": {
     "iopub.execute_input": "2021-10-21T16:56:00.990967Z",
     "iopub.status.busy": "2021-10-21T16:56:00.989795Z",
     "iopub.status.idle": "2021-10-21T16:59:39.008419Z",
     "shell.execute_reply": "2021-10-21T16:59:39.007283Z"
    },
    "lines_to_next_cell": 2
   },
   "outputs": [
    {
     "name": "stdout",
     "output_type": "stream",
     "text": [
      "Hello :)\n",
      "local_docker://torchx/echo_1f833ff4\n"
     ]
    },
    {
     "name": "stderr",
     "output_type": "stream",
     "text": [
      "0.1.0: Pulling from pytorch/torchx\n",
      "4bbfd2c87b75: Already exists\n",
      "d2e110be24e1: Already exists\n",
      "889a7173dcfe: Already exists\n",
      "6009a622672a: Already exists\n",
      "143f80195431: Already exists\n",
      "eccbe17c44e1: Already exists\n",
      "fe3cf22ee2bd: Pulling fs layer\n",
      "bd67bd056e4d: Pulling fs layer\n",
      "8f7bfd940548: Pulling fs layer\n",
      "a2b3b2b69ff0: Pulling fs layer\n",
      "5006961ceb76: Pulling fs layer\n",
      "964dad2226b9: Pulling fs layer\n",
      "79f34d9930c5: Pulling fs layer\n",
      "2099dda89e9a: Pulling fs layer\n",
      "e398152aa90f: Pulling fs layer\n",
      "7fae8d1da3d1: Pulling fs layer\n",
      "e2c7b886366d: Pulling fs layer\n",
      "c2a7249364c9: Pulling fs layer\n",
      "a2b3b2b69ff0: Waiting\n",
      "5006961ceb76: Waiting\n",
      "964dad2226b9: Waiting\n",
      "79f34d9930c5: Waiting\n",
      "2099dda89e9a: Waiting\n",
      "e398152aa90f: Waiting\n",
      "7fae8d1da3d1: Waiting\n",
      "e2c7b886366d: Waiting\n",
      "c2a7249364c9: Waiting\n",
      "bd67bd056e4d: Verifying Checksum\n",
      "bd67bd056e4d: Download complete\n",
      "a2b3b2b69ff0: Verifying Checksum\n",
      "a2b3b2b69ff0: Download complete\n",
      "fe3cf22ee2bd: Verifying Checksum\n",
      "fe3cf22ee2bd: Download complete\n",
      "5006961ceb76: Verifying Checksum\n",
      "5006961ceb76: Download complete\n",
      "79f34d9930c5: Verifying Checksum\n",
      "79f34d9930c5: Download complete\n",
      "964dad2226b9: Verifying Checksum\n",
      "964dad2226b9: Download complete\n",
      "e398152aa90f: Verifying Checksum\n",
      "e398152aa90f: Download complete\n",
      "8f7bfd940548: Verifying Checksum\n",
      "8f7bfd940548: Download complete\n",
      "e2c7b886366d: Verifying Checksum\n",
      "e2c7b886366d: Download complete\n",
      "c2a7249364c9: Verifying Checksum\n",
      "c2a7249364c9: Download complete\n",
      "7fae8d1da3d1: Verifying Checksum\n",
      "7fae8d1da3d1: Download complete\n",
      "fe3cf22ee2bd: Pull complete\n",
      "bd67bd056e4d: Pull complete\n",
      "2099dda89e9a: Verifying Checksum\n",
      "2099dda89e9a: Download complete\n",
      "8f7bfd940548: Pull complete\n",
      "a2b3b2b69ff0: Pull complete\n",
      "5006961ceb76: Pull complete\n",
      "964dad2226b9: Pull complete\n",
      "79f34d9930c5: Pull complete\n",
      "2099dda89e9a: Pull complete\n",
      "e398152aa90f: Pull complete\n",
      "7fae8d1da3d1: Pull complete\n",
      "e2c7b886366d: Pull complete\n",
      "c2a7249364c9: Pull complete\n",
      "Digest: sha256:c02703cb7d66dfe39b5b55ed814e3ae7855cc966293bfc533a93d72699c79b03\n",
      "Status: Downloaded newer image for ghcr.io/pytorch/torchx:0.1.0\n",
      "ghcr.io/pytorch/torchx:0.1.0\n",
      "torchx 2021-10-21 16:59:37 INFO     Waiting for the app to finish...\n",
      "torchx 2021-10-21 16:59:38 INFO     Job finished: SUCCEEDED\n"
     ]
    }
   ],
   "source": [
    "%%sh\n",
    "torchx run utils.echo --msg \"Hello :)\""
   ]
  },
  {
   "cell_type": "markdown",
   "id": "2dc91aaa",
   "metadata": {},
   "source": [
    "## Next Steps\n",
    "\n",
    "1. Checkout other features of the [torchx CLI](cli.rst)\n",
    "2. Learn how to author more complex app specs by referencing [specs](specs.rst)\n",
    "3. Browse through the collection of [builtin components](components/overview.rst)\n",
    "4. Take a look at the [list of schedulers](schedulers.rst) supported by the runner\n",
    "5. See which [ML pipeline platforms](pipelines.rst) you can run components on\n",
    "6. See a [training app example](examples_apps/index.rst)"
   ]
  }
 ],
 "metadata": {
  "jupytext": {
   "text_representation": {
    "extension": ".md",
    "format_name": "markdown",
    "format_version": "1.1",
    "jupytext_version": "1.1.0"
   }
  },
  "kernelspec": {
   "display_name": "Python 3",
   "language": "python",
   "name": "python3"
  },
  "language_info": {
   "codemirror_mode": {
    "name": "ipython",
    "version": 3
   },
   "file_extension": ".py",
   "mimetype": "text/x-python",
   "name": "python",
   "nbconvert_exporter": "python",
   "pygments_lexer": "ipython3",
   "version": "3.8.12"
  }
 },
 "nbformat": 4,
 "nbformat_minor": 5
}
