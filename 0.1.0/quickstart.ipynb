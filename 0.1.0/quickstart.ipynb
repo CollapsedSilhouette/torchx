{
 "cells": [
  {
   "cell_type": "markdown",
   "id": "c9bcdc0c",
   "metadata": {},
   "source": [
    "# Quickstart\n",
    "\n",
    "This is a self contained guide on how to build a simple app and component spec\n",
    "and launch it via two different schedulers.\n",
    "\n",
    "## Installation\n",
    "\n",
    "First thing we need to do is to install the TorchX python package which includes\n",
    "the CLI and the library."
   ]
  },
  {
   "cell_type": "markdown",
   "id": "87b7f38c",
   "metadata": {
    "region_name": "md"
   },
   "source": [
    "```sh\n",
    "# install torchx with all dependencies\n",
    "$ pip install torchx[dev]\n",
    "```"
   ]
  },
  {
   "cell_type": "markdown",
   "id": "e3d5fe95",
   "metadata": {},
   "source": [
    "See the [README](https://github.com/pytorch/torchx) for more\n",
    "information on installation."
   ]
  },
  {
   "cell_type": "code",
   "execution_count": 1,
   "id": "829094d8",
   "metadata": {
    "execution": {
     "iopub.execute_input": "2021-10-21T18:04:08.468148Z",
     "iopub.status.busy": "2021-10-21T18:04:08.467153Z",
     "iopub.status.idle": "2021-10-21T18:04:08.654706Z",
     "shell.execute_reply": "2021-10-21T18:04:08.654956Z"
    }
   },
   "outputs": [
    {
     "name": "stdout",
     "output_type": "stream",
     "text": [
      "usage: torchx [-h] [--log_level LOG_LEVEL] [--version]\n",
      "              {describe,log,run,builtins,runopts,status,configure} ...\n",
      "\n",
      "torchx CLI\n",
      "\n",
      "optional arguments:\n",
      "  -h, --help            show this help message and exit\n",
      "  --log_level LOG_LEVEL\n",
      "                        Python logging log level\n",
      "  --version             show program's version number and exit\n",
      "\n",
      "sub-commands:\n",
      "  Use the following commands to run operations, e.g.: torchx run ${JOB_NAME}\n",
      "\n",
      "  {describe,log,run,builtins,runopts,status,configure}\n"
     ]
    }
   ],
   "source": [
    "%%sh\n",
    "torchx --help"
   ]
  },
  {
   "cell_type": "markdown",
   "id": "2cb21584",
   "metadata": {},
   "source": [
    "## Hello World\n",
    "\n",
    "Lets start off with writing a simple \"Hello World\" python app. This is just a\n",
    "normal python program and can contain anything you'd like.\n",
    "\n",
    "<div class=\"admonition note\">\n",
    "<div class=\"admonition-title\">Note</div>\n",
    "This example uses Jupyter Notebook `%%writefile` to create local files for\n",
    "example purposes. Under normal usage you would have these as standalone files.\n",
    "</div>"
   ]
  },
  {
   "cell_type": "code",
   "execution_count": 2,
   "id": "5c951f7f",
   "metadata": {
    "execution": {
     "iopub.execute_input": "2021-10-21T18:04:08.658472Z",
     "iopub.status.busy": "2021-10-21T18:04:08.658141Z",
     "iopub.status.idle": "2021-10-21T18:04:08.659829Z",
     "shell.execute_reply": "2021-10-21T18:04:08.659523Z"
    }
   },
   "outputs": [
    {
     "name": "stdout",
     "output_type": "stream",
     "text": [
      "Overwriting my_app.py\n"
     ]
    }
   ],
   "source": [
    "%%writefile my_app.py\n",
    "\n",
    "import sys\n",
    "import argparse\n",
    "\n",
    "def main(user: str) -> None:\n",
    "    print(f\"Hello, {user}!\")\n",
    "\n",
    "if __name__ == \"__main__\":\n",
    "    parser = argparse.ArgumentParser(\n",
    "        description=\"Hello world app\"\n",
    "    )\n",
    "    parser.add_argument(\n",
    "        \"--user\",\n",
    "        type=str,\n",
    "        help=\"the person to greet\",\n",
    "        required=True,\n",
    "    )\n",
    "    args = parser.parse_args(sys.argv[1:])\n",
    "\n",
    "    main(args.user)"
   ]
  },
  {
   "cell_type": "markdown",
   "id": "f1431989",
   "metadata": {},
   "source": [
    "Now that we have an app we can write the component file for it. This\n",
    "function allows us to reuse and share our app in a user friendly way.\n",
    "\n",
    "We can use this component from the `torchx` cli or programmatically as part of a\n",
    "pipeline."
   ]
  },
  {
   "cell_type": "code",
   "execution_count": 3,
   "id": "46e67d99",
   "metadata": {
    "execution": {
     "iopub.execute_input": "2021-10-21T18:04:08.662608Z",
     "iopub.status.busy": "2021-10-21T18:04:08.662248Z",
     "iopub.status.idle": "2021-10-21T18:04:08.663956Z",
     "shell.execute_reply": "2021-10-21T18:04:08.663652Z"
    }
   },
   "outputs": [
    {
     "name": "stdout",
     "output_type": "stream",
     "text": [
      "Overwriting my_component.py\n"
     ]
    }
   ],
   "source": [
    "%%writefile my_component.py\n",
    "\n",
    "import torchx.specs as specs\n",
    "\n",
    "def greet(user: str, image: str = \"my_app:latest\") -> specs.AppDef:\n",
    "    return specs.AppDef(\n",
    "        name=\"hello_world\",\n",
    "        roles=[\n",
    "            specs.Role(\n",
    "                name=\"greeter\",\n",
    "                image=image,\n",
    "                entrypoint=\"python\",\n",
    "                args=[\n",
    "                    \"-m\", \"my_app\",\n",
    "                    \"--user\", user,\n",
    "                ],\n",
    "            )\n",
    "        ],\n",
    "    )"
   ]
  },
  {
   "cell_type": "markdown",
   "id": "a38b7bd5",
   "metadata": {},
   "source": [
    "We can execute our component via `torchx run`. The\n",
    "`local_cwd` scheduler executes the component relative to the current directory."
   ]
  },
  {
   "cell_type": "code",
   "execution_count": 4,
   "id": "2015f467",
   "metadata": {
    "execution": {
     "iopub.execute_input": "2021-10-21T18:04:08.667763Z",
     "iopub.status.busy": "2021-10-21T18:04:08.667424Z",
     "iopub.status.idle": "2021-10-21T18:04:09.979768Z",
     "shell.execute_reply": "2021-10-21T18:04:09.979161Z"
    }
   },
   "outputs": [
    {
     "name": "stdout",
     "output_type": "stream",
     "text": [
      "Hello, your name!\n",
      "local_cwd://torchx/hello_world_027ccd22\n"
     ]
    },
    {
     "name": "stderr",
     "output_type": "stream",
     "text": [
      "torchx 2021-10-21 11:04:08 INFO     Waiting for the app to finish...\n",
      "torchx 2021-10-21 11:04:09 INFO     Job finished: SUCCEEDED\n"
     ]
    }
   ],
   "source": [
    "%%sh\n",
    "torchx run --scheduler local_cwd my_component.py:greet --user \"your name\""
   ]
  },
  {
   "cell_type": "markdown",
   "id": "dc58c8df",
   "metadata": {},
   "source": [
    "If we want to run in other environments, we can build a Docker container so we\n",
    "can run our component in Docker enabled environments such as Kubernetes or via\n",
    "the local Docker scheduler.\n",
    "\n",
    "<div class=\"admonition note\">\n",
    "<div class=\"admonition-title\">Note</div>\n",
    "This requires Docker installed and won't work in environments such as Google\n",
    "Colab. If you have not done so already follow the install instructions on:\n",
    "[https://docs.docker.com/get-docker/](https://docs.docker.com/get-docker/)</a>\n",
    "</div>"
   ]
  },
  {
   "cell_type": "code",
   "execution_count": 5,
   "id": "92abed9c",
   "metadata": {
    "execution": {
     "iopub.execute_input": "2021-10-21T18:04:09.985041Z",
     "iopub.status.busy": "2021-10-21T18:04:09.984435Z",
     "iopub.status.idle": "2021-10-21T18:04:09.987647Z",
     "shell.execute_reply": "2021-10-21T18:04:09.987090Z"
    }
   },
   "outputs": [
    {
     "name": "stdout",
     "output_type": "stream",
     "text": [
      "Overwriting Dockerfile\n"
     ]
    }
   ],
   "source": [
    "%%writefile Dockerfile\n",
    "\n",
    "FROM ghcr.io/pytorch/torchx:0.1.0rc1\n",
    "\n",
    "ADD my_app.py ."
   ]
  },
  {
   "cell_type": "markdown",
   "id": "99cf2bbc",
   "metadata": {},
   "source": [
    "Once we have the Dockerfile created we can create our docker image."
   ]
  },
  {
   "cell_type": "code",
   "execution_count": 6,
   "id": "0b1afe1e",
   "metadata": {
    "execution": {
     "iopub.execute_input": "2021-10-21T18:04:09.994533Z",
     "iopub.status.busy": "2021-10-21T18:04:09.993938Z",
     "iopub.status.idle": "2021-10-21T18:04:10.155019Z",
     "shell.execute_reply": "2021-10-21T18:04:10.155287Z"
    }
   },
   "outputs": [
    {
     "name": "stdout",
     "output_type": "stream",
     "text": [
      "Sending build context to Docker daemon  22.26MB\r",
      "\r\n",
      "Step 1/2 : FROM ghcr.io/pytorch/torchx:0.1.0rc1\n",
      " ---> 3dbec59e8049\n",
      "Step 2/2 : ADD my_app.py .\n",
      " ---> Using cache\n",
      " ---> f92c28cde348\n",
      "Successfully built f92c28cde348\n",
      "Successfully tagged my_app:latest\n"
     ]
    }
   ],
   "source": [
    "%%sh\n",
    "docker build -t my_app:latest -f Dockerfile ."
   ]
  },
  {
   "cell_type": "markdown",
   "id": "1a100086",
   "metadata": {},
   "source": [
    "We can then launch it on the local scheduler."
   ]
  },
  {
   "cell_type": "code",
   "execution_count": 7,
   "id": "ce6d3394",
   "metadata": {
    "execution": {
     "iopub.execute_input": "2021-10-21T18:04:10.159322Z",
     "iopub.status.busy": "2021-10-21T18:04:10.159012Z",
     "iopub.status.idle": "2021-10-21T18:04:13.887738Z",
     "shell.execute_reply": "2021-10-21T18:04:13.888244Z"
    }
   },
   "outputs": [
    {
     "name": "stdout",
     "output_type": "stream",
     "text": [
      "Hello, your name!\n",
      "local_docker://torchx/hello_world_66b38e5c\n"
     ]
    },
    {
     "name": "stderr",
     "output_type": "stream",
     "text": [
      "Error response from daemon: pull access denied for my_app, repository does not exist or may require 'docker login': denied: requested access to the resource is denied\n",
      "torchx 2021-10-21 11:04:12 WARNING  failed to fetch image my_app:latest, falling back to local: Command '['docker', 'pull', 'my_app:latest']' returned non-zero exit status 1.\n",
      "torchx 2021-10-21 11:04:12 INFO     Waiting for the app to finish...\n",
      "WARNING: IPv4 forwarding is disabled. Networking will not work.\n",
      "torchx 2021-10-21 11:04:13 INFO     Job finished: SUCCEEDED\n"
     ]
    }
   ],
   "source": [
    "%%sh\n",
    "torchx run --scheduler local_docker my_component.py:greet --image \"my_app:latest\" --user \"your name\""
   ]
  },
  {
   "cell_type": "markdown",
   "id": "0bd9958e",
   "metadata": {},
   "source": [
    "If you have a Kubernetes cluster you can use the [Kubernetes scheduler](schedulers/kubernetes.rst) to launch\n",
    "this on the cluster instead.\n"
   ]
  },
  {
   "cell_type": "markdown",
   "id": "50c0de09",
   "metadata": {
    "lines_to_next_cell": 2,
    "region_name": "md"
   },
   "source": [
    "```sh\n",
    "$ docker push my_app:latest\n",
    "$ torchx run --scheduler kubernetes my_component.py:greet --image \"my_app:latest\" --user \"your name\"\n",
    "```"
   ]
  },
  {
   "cell_type": "markdown",
   "id": "35fde65d",
   "metadata": {},
   "source": [
    "## Builtins\n",
    "\n",
    "TorchX also provides a number of builtin components with premade images. You can discover\n",
    "them via:"
   ]
  },
  {
   "cell_type": "code",
   "execution_count": 8,
   "id": "ec524352",
   "metadata": {
    "execution": {
     "iopub.execute_input": "2021-10-21T18:04:13.895735Z",
     "iopub.status.busy": "2021-10-21T18:04:13.895124Z",
     "iopub.status.idle": "2021-10-21T18:04:14.481761Z",
     "shell.execute_reply": "2021-10-21T18:04:14.481389Z"
    }
   },
   "outputs": [
    {
     "name": "stdout",
     "output_type": "stream",
     "text": [
      "Found 7 builtin components:\n",
      "  1. utils.booth\n",
      "  2. utils.copy\n",
      "  3. utils.echo\n",
      "  4. utils.sh\n",
      "  5. utils.touch\n",
      "  6. serve.torchserve\n",
      "  7. dist.ddp\n"
     ]
    }
   ],
   "source": [
    "%%sh\n",
    "torchx builtins"
   ]
  },
  {
   "cell_type": "markdown",
   "id": "e19abd99",
   "metadata": {},
   "source": [
    "You can use these either from the CLI, from a pipeline or programmatically like\n",
    "you would any other component."
   ]
  },
  {
   "cell_type": "code",
   "execution_count": 9,
   "id": "3fb25fe2",
   "metadata": {
    "execution": {
     "iopub.execute_input": "2021-10-21T18:04:14.485419Z",
     "iopub.status.busy": "2021-10-21T18:04:14.485019Z",
     "iopub.status.idle": "2021-10-21T18:04:17.341704Z",
     "shell.execute_reply": "2021-10-21T18:04:17.341151Z"
    },
    "lines_to_next_cell": 2
   },
   "outputs": [
    {
     "name": "stdout",
     "output_type": "stream",
     "text": [
      "Hello :)\n",
      "local_docker://torchx/echo_4779c0a5\n"
     ]
    },
    {
     "name": "stderr",
     "output_type": "stream",
     "text": [
      "0.1.0: Pulling from pytorch/torchx\n",
      "Digest: sha256:de22d3014f9a02f5e9c2e71e9a55cf5426d18ce72f91d1d5405b1a75838555d2\n",
      "Status: Image is up to date for ghcr.io/pytorch/torchx:0.1.0\n",
      "ghcr.io/pytorch/torchx:0.1.0\n",
      "torchx 2021-10-21 11:04:16 INFO     Waiting for the app to finish...\n",
      "WARNING: IPv4 forwarding is disabled. Networking will not work.\n",
      "torchx 2021-10-21 11:04:17 INFO     Job finished: SUCCEEDED\n"
     ]
    }
   ],
   "source": [
    "%%sh\n",
    "torchx run utils.echo --msg \"Hello :)\""
   ]
  },
  {
   "cell_type": "markdown",
   "id": "3272696e",
   "metadata": {},
   "source": [
    "## Next Steps\n",
    "\n",
    "1. Checkout other features of the [torchx CLI](cli.rst)\n",
    "2. Learn how to author more complex app specs by referencing [specs](specs.rst)\n",
    "3. Browse through the collection of [builtin components](components/overview.rst)\n",
    "4. Take a look at the [list of schedulers](schedulers.rst) supported by the runner\n",
    "5. See which [ML pipeline platforms](pipelines.rst) you can run components on\n",
    "6. See a [training app example](examples_apps/index.rst)"
   ]
  }
 ],
 "metadata": {
  "jupytext": {
   "text_representation": {
    "extension": ".md",
    "format_name": "markdown",
    "format_version": "1.1",
    "jupytext_version": "1.1.0"
   }
  },
  "kernelspec": {
   "display_name": "Python 3",
   "language": "python",
   "name": "python3"
  },
  "language_info": {
   "codemirror_mode": {
    "name": "ipython",
    "version": 3
   },
   "file_extension": ".py",
   "mimetype": "text/x-python",
   "name": "python",
   "nbconvert_exporter": "python",
   "pygments_lexer": "ipython3",
   "version": "3.9.7"
  }
 },
 "nbformat": 4,
 "nbformat_minor": 5
}
