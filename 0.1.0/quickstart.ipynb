{
 "cells": [
  {
   "cell_type": "markdown",
   "id": "659ab1a7",
   "metadata": {},
   "source": [
    "# Quickstart\n",
    "\n",
    "This is a self contained guide on how to build a simple app and component spec\n",
    "and launch it via two different schedulers.\n",
    "\n",
    "## Installation\n",
    "\n",
    "First thing we need to do is to install the TorchX python package which includes\n",
    "the CLI and the library."
   ]
  },
  {
   "cell_type": "markdown",
   "id": "df2a97dc",
   "metadata": {
    "region_name": "md"
   },
   "source": [
    "```sh\n",
    "# install torchx with all dependencies\n",
    "$ pip install torchx[dev]\n",
    "```"
   ]
  },
  {
   "cell_type": "markdown",
   "id": "fb93e437",
   "metadata": {},
   "source": [
    "See the [README](https://github.com/pytorch/torchx) for more\n",
    "information on installation."
   ]
  },
  {
   "cell_type": "code",
   "execution_count": 1,
   "id": "8e13c1b3",
   "metadata": {
    "execution": {
     "iopub.execute_input": "2021-10-20T21:48:06.142901Z",
     "iopub.status.busy": "2021-10-20T21:48:06.141744Z",
     "iopub.status.idle": "2021-10-20T21:48:06.566332Z",
     "shell.execute_reply": "2021-10-20T21:48:06.565588Z"
    }
   },
   "outputs": [
    {
     "name": "stdout",
     "output_type": "stream",
     "text": [
      "usage: torchx [-h] [--log_level LOG_LEVEL] [--version]\n",
      "              {describe,log,run,builtins,runopts,status,configure} ...\n",
      "\n",
      "torchx CLI\n",
      "\n",
      "optional arguments:\n",
      "  -h, --help            show this help message and exit\n",
      "  --log_level LOG_LEVEL\n",
      "                        Python logging log level\n",
      "  --version             show program's version number and exit\n",
      "\n",
      "sub-commands:\n",
      "  Use the following commands to run operations, e.g.: torchx run ${JOB_NAME}\n",
      "\n",
      "  {describe,log,run,builtins,runopts,status,configure}\n"
     ]
    }
   ],
   "source": [
    "%%sh\n",
    "torchx --help"
   ]
  },
  {
   "cell_type": "markdown",
   "id": "5b58f552",
   "metadata": {},
   "source": [
    "## Hello World\n",
    "\n",
    "Lets start off with writing a simple \"Hello World\" python app. This is just a\n",
    "normal python program and can contain anything you'd like.\n",
    "\n",
    "<div class=\"admonition note\">\n",
    "<div class=\"admonition-title\">Note</div>\n",
    "This example uses Jupyter Notebook `%%writefile` to create local files for\n",
    "example purposes. Under normal usage you would have these as standalone files.\n",
    "</div>"
   ]
  },
  {
   "cell_type": "code",
   "execution_count": 2,
   "id": "b73b5549",
   "metadata": {
    "execution": {
     "iopub.execute_input": "2021-10-20T21:48:06.573831Z",
     "iopub.status.busy": "2021-10-20T21:48:06.572253Z",
     "iopub.status.idle": "2021-10-20T21:48:06.577530Z",
     "shell.execute_reply": "2021-10-20T21:48:06.578083Z"
    }
   },
   "outputs": [
    {
     "name": "stdout",
     "output_type": "stream",
     "text": [
      "Writing my_app.py\n"
     ]
    }
   ],
   "source": [
    "%%writefile my_app.py\n",
    "\n",
    "import sys\n",
    "import argparse\n",
    "\n",
    "def main(user: str) -> None:\n",
    "    print(f\"Hello, {user}!\")\n",
    "\n",
    "if __name__ == \"__main__\":\n",
    "    parser = argparse.ArgumentParser(\n",
    "        description=\"Hello world app\"\n",
    "    )\n",
    "    parser.add_argument(\n",
    "        \"--user\",\n",
    "        type=str,\n",
    "        help=\"the person to greet\",\n",
    "        required=True,\n",
    "    )\n",
    "    args = parser.parse_args(sys.argv[1:])\n",
    "\n",
    "    main(args.user)"
   ]
  },
  {
   "cell_type": "markdown",
   "id": "a96e23f1",
   "metadata": {},
   "source": [
    "Now that we have an app we can write the component file for it. This\n",
    "function allows us to reuse and share our app in a user friendly way.\n",
    "\n",
    "We can use this component from the `torchx` cli or programmatically as part of a\n",
    "pipeline."
   ]
  },
  {
   "cell_type": "code",
   "execution_count": 3,
   "id": "fee174b5",
   "metadata": {
    "execution": {
     "iopub.execute_input": "2021-10-20T21:48:06.583630Z",
     "iopub.status.busy": "2021-10-20T21:48:06.582269Z",
     "iopub.status.idle": "2021-10-20T21:48:06.588377Z",
     "shell.execute_reply": "2021-10-20T21:48:06.587764Z"
    }
   },
   "outputs": [
    {
     "name": "stdout",
     "output_type": "stream",
     "text": [
      "Writing my_component.py\n"
     ]
    }
   ],
   "source": [
    "%%writefile my_component.py\n",
    "\n",
    "import torchx.specs as specs\n",
    "\n",
    "def greet(user: str, image: str = \"my_app:latest\") -> specs.AppDef:\n",
    "    return specs.AppDef(\n",
    "        name=\"hello_world\",\n",
    "        roles=[\n",
    "            specs.Role(\n",
    "                name=\"greeter\",\n",
    "                image=image,\n",
    "                entrypoint=\"python\",\n",
    "                args=[\n",
    "                    \"-m\", \"my_app\",\n",
    "                    \"--user\", user,\n",
    "                ],\n",
    "            )\n",
    "        ],\n",
    "    )"
   ]
  },
  {
   "cell_type": "markdown",
   "id": "6302071d",
   "metadata": {},
   "source": [
    "We can execute our component via `torchx run`. The\n",
    "`local_cwd` scheduler executes the component relative to the current directory."
   ]
  },
  {
   "cell_type": "code",
   "execution_count": 4,
   "id": "bc3d237f",
   "metadata": {
    "execution": {
     "iopub.execute_input": "2021-10-20T21:48:06.592687Z",
     "iopub.status.busy": "2021-10-20T21:48:06.592026Z",
     "iopub.status.idle": "2021-10-20T21:48:08.125395Z",
     "shell.execute_reply": "2021-10-20T21:48:08.125894Z"
    }
   },
   "outputs": [
    {
     "name": "stdout",
     "output_type": "stream",
     "text": [
      "Hello, your name!\n",
      "local_cwd://torchx/hello_world_62ee8941\n"
     ]
    },
    {
     "name": "stderr",
     "output_type": "stream",
     "text": [
      "torchx 2021-10-20 21:48:07 INFO     Waiting for the app to finish...\n",
      "torchx 2021-10-20 21:48:08 INFO     Job finished: SUCCEEDED\n"
     ]
    }
   ],
   "source": [
    "%%sh\n",
    "torchx run --scheduler local_cwd my_component.py:greet --user \"your name\""
   ]
  },
  {
   "cell_type": "markdown",
   "id": "7a5f03ed",
   "metadata": {},
   "source": [
    "If we want to run in other environments, we can build a Docker container so we\n",
    "can run our component in Docker enabled environments such as Kubernetes or via\n",
    "the local Docker scheduler.\n",
    "\n",
    "<div class=\"admonition note\">\n",
    "<div class=\"admonition-title\">Note</div>\n",
    "This requires Docker installed and won't work in environments such as Google\n",
    "Colab. If you have not done so already follow the install instructions on:\n",
    "[https://docs.docker.com/get-docker/](https://docs.docker.com/get-docker/)</a>\n",
    "</div>"
   ]
  },
  {
   "cell_type": "code",
   "execution_count": 5,
   "id": "3e62ab00",
   "metadata": {
    "execution": {
     "iopub.execute_input": "2021-10-20T21:48:08.131774Z",
     "iopub.status.busy": "2021-10-20T21:48:08.131158Z",
     "iopub.status.idle": "2021-10-20T21:48:08.136981Z",
     "shell.execute_reply": "2021-10-20T21:48:08.136398Z"
    }
   },
   "outputs": [
    {
     "name": "stdout",
     "output_type": "stream",
     "text": [
      "Writing Dockerfile\n"
     ]
    }
   ],
   "source": [
    "%%writefile Dockerfile\n",
    "\n",
    "FROM ghcr.io/pytorch/torchx:0.1.0rc1\n",
    "\n",
    "ADD my_app.py ."
   ]
  },
  {
   "cell_type": "markdown",
   "id": "16d866ad",
   "metadata": {},
   "source": [
    "Once we have the Dockerfile created we can create our docker image."
   ]
  },
  {
   "cell_type": "code",
   "execution_count": 6,
   "id": "aa8cd32f",
   "metadata": {
    "execution": {
     "iopub.execute_input": "2021-10-20T21:48:08.144405Z",
     "iopub.status.busy": "2021-10-20T21:48:08.141391Z",
     "iopub.status.idle": "2021-10-20T21:50:46.889636Z",
     "shell.execute_reply": "2021-10-20T21:50:46.888327Z"
    }
   },
   "outputs": [
    {
     "name": "stdout",
     "output_type": "stream",
     "text": [
      "Sending build context to Docker daemon  22.25MB\r",
      "\r\n",
      "Step 1/2 : FROM ghcr.io/pytorch/torchx:0.1.0rc1\n",
      "0.1.0rc1: Pulling from pytorch/torchx\n",
      "4bbfd2c87b75: Pulling fs layer\n",
      "d2e110be24e1: Pulling fs layer\n",
      "889a7173dcfe: Pulling fs layer\n",
      "6009a622672a: Pulling fs layer\n",
      "143f80195431: Pulling fs layer\n",
      "eccbe17c44e1: Pulling fs layer\n",
      "d4c7af0d4fa7: Pulling fs layer\n",
      "06b5edd6bf52: Pulling fs layer\n",
      "f18d016c4ccc: Pulling fs layer\n",
      "c0ad16d9fa05: Pulling fs layer\n",
      "30587ba7fd6b: Pulling fs layer\n",
      "909695be1d50: Pulling fs layer\n",
      "f119a6d0a466: Pulling fs layer\n",
      "88d87059c913: Pulling fs layer\n",
      "6009a622672a: Waiting\n",
      "143f80195431: Waiting\n",
      "eccbe17c44e1: Waiting\n",
      "d4c7af0d4fa7: Waiting\n",
      "06b5edd6bf52: Waiting\n",
      "f18d016c4ccc: Waiting\n",
      "c0ad16d9fa05: Waiting\n",
      "30587ba7fd6b: Waiting\n",
      "909695be1d50: Waiting\n",
      "88d87059c913: Waiting\n",
      "f119a6d0a466: Waiting\n",
      "d2e110be24e1: Verifying Checksum\n",
      "d2e110be24e1: Download complete\n",
      "889a7173dcfe: Verifying Checksum\n",
      "889a7173dcfe: Download complete\n",
      "4bbfd2c87b75: Verifying Checksum\n",
      "4bbfd2c87b75: Download complete\n",
      "6009a622672a: Verifying Checksum\n",
      "6009a622672a: Download complete\n",
      "eccbe17c44e1: Verifying Checksum\n",
      "eccbe17c44e1: Download complete\n",
      "06b5edd6bf52: Verifying Checksum\n",
      "06b5edd6bf52: Download complete\n",
      "d4c7af0d4fa7: Verifying Checksum\n",
      "d4c7af0d4fa7: Download complete\n",
      "c0ad16d9fa05: Verifying Checksum\n",
      "c0ad16d9fa05: Download complete\n",
      "30587ba7fd6b: Verifying Checksum\n",
      "30587ba7fd6b: Download complete\n",
      "4bbfd2c87b75: Pull complete\n",
      "909695be1d50: Verifying Checksum\n",
      "909695be1d50: Download complete\n",
      "f119a6d0a466: Verifying Checksum\n",
      "f119a6d0a466: Download complete\n",
      "88d87059c913: Verifying Checksum\n",
      "88d87059c913: Download complete\n",
      "d2e110be24e1: Pull complete\n",
      "889a7173dcfe: Pull complete\n",
      "f18d016c4ccc: Verifying Checksum\n",
      "f18d016c4ccc: Download complete\n",
      "143f80195431: Verifying Checksum\n",
      "143f80195431: Download complete\n",
      "6009a622672a: Pull complete\n",
      "143f80195431: Pull complete\n",
      "eccbe17c44e1: Pull complete\n",
      "d4c7af0d4fa7: Pull complete\n",
      "06b5edd6bf52: Pull complete\n",
      "f18d016c4ccc: Pull complete\n",
      "c0ad16d9fa05: Pull complete\n",
      "30587ba7fd6b: Pull complete\n",
      "909695be1d50: Pull complete\n",
      "f119a6d0a466: Pull complete\n",
      "88d87059c913: Pull complete\n",
      "Digest: sha256:a738949601d82e7f100fa1efeb8dde0c35ce44c66726cf38596f96d78dcd7ad3\n",
      "Status: Downloaded newer image for ghcr.io/pytorch/torchx:0.1.0rc1\n",
      " ---> 3dbec59e8049\n",
      "Step 2/2 : ADD my_app.py .\n",
      " ---> 6c1f636dd563\n",
      "Successfully built 6c1f636dd563\n",
      "Successfully tagged my_app:latest\n"
     ]
    }
   ],
   "source": [
    "%%sh\n",
    "docker build -t my_app:latest -f Dockerfile ."
   ]
  },
  {
   "cell_type": "markdown",
   "id": "089c5744",
   "metadata": {},
   "source": [
    "We can then launch it on the local scheduler."
   ]
  },
  {
   "cell_type": "code",
   "execution_count": 7,
   "id": "d4196c10",
   "metadata": {
    "execution": {
     "iopub.execute_input": "2021-10-20T21:50:46.899962Z",
     "iopub.status.busy": "2021-10-20T21:50:46.898070Z",
     "iopub.status.idle": "2021-10-20T21:50:48.842775Z",
     "shell.execute_reply": "2021-10-20T21:50:48.841214Z"
    }
   },
   "outputs": [
    {
     "name": "stdout",
     "output_type": "stream",
     "text": [
      "Client:\n",
      " Version:           20.10.9+azure-1\n",
      " API version:       1.41\n",
      " Go version:        go1.16.8\n",
      " Git commit:        c2ea9bc90bacf19bdbe37fd13eec8772432aca99\n",
      " Built:             Thu Sep 23 18:26:34 2021\n",
      " OS/Arch:           linux/amd64\n",
      " Context:           default\n",
      " Experimental:      true\n",
      "\n",
      "Server:\n",
      " Engine:\n",
      "  Version:          20.10.9+azure-1\n",
      "  API version:      1.41 (minimum version 1.12)\n",
      "  Go version:       go1.16.8\n",
      "  Git commit:       79ea9d3080181d755855d5924d0f4f116faa9463\n",
      "  Built:            Thu Sep 23 18:26:18 2021\n",
      "  OS/Arch:          linux/amd64\n",
      "  Experimental:     false\n",
      " containerd:\n",
      "  Version:          1.4.11+azure\n",
      "  GitCommit:        5b46e404f6b9f661a205e28d59c982d3634148f8\n",
      " runc:\n",
      "  Version:          1.0.2\n",
      "  GitCommit:        52b36a2dd837e8462de8e01458bf02cf9eea47dd\n",
      " docker-init:\n",
      "  Version:          0.19.0\n",
      "  GitCommit:        \n",
      "Hello, your name!\n",
      "local_docker://torchx/hello_world_e218bc32\n"
     ]
    },
    {
     "name": "stderr",
     "output_type": "stream",
     "text": [
      "Error response from daemon: pull access denied for my_app, repository does not exist or may require 'docker login': denied: requested access to the resource is denied\n",
      "torchx 2021-10-20 21:50:47 WARNING  failed to fetch image my_app:latest, falling back to local: Command '['docker', 'pull', 'my_app:latest']' returned non-zero exit status 1.\n",
      "torchx 2021-10-20 21:50:47 INFO     Waiting for the app to finish...\n",
      "torchx 2021-10-20 21:50:48 INFO     Job finished: SUCCEEDED\n"
     ]
    }
   ],
   "source": [
    "%%sh\n",
    "torchx run --scheduler local_docker my_component.py:greet --image \"my_app:latest\" --user \"your name\""
   ]
  },
  {
   "cell_type": "markdown",
   "id": "973d4a99",
   "metadata": {},
   "source": [
    "If you have a Kubernetes cluster you can use the [Kubernetes scheduler](schedulers/kubernetes.rst) to launch\n",
    "this on the cluster instead.\n"
   ]
  },
  {
   "cell_type": "markdown",
   "id": "ae3cefa6",
   "metadata": {
    "lines_to_next_cell": 2,
    "region_name": "md"
   },
   "source": [
    "```sh\n",
    "$ docker push my_app:latest\n",
    "$ torchx run --scheduler kubernetes my_component.py:greet --image \"my_app:latest\" --user \"your name\"\n",
    "```"
   ]
  },
  {
   "cell_type": "markdown",
   "id": "891dcc06",
   "metadata": {},
   "source": [
    "## Builtins\n",
    "\n",
    "TorchX also provides a number of builtin components with premade images. You can discover\n",
    "them via:"
   ]
  },
  {
   "cell_type": "code",
   "execution_count": 8,
   "id": "659073e7",
   "metadata": {
    "execution": {
     "iopub.execute_input": "2021-10-20T21:50:48.850334Z",
     "iopub.status.busy": "2021-10-20T21:50:48.849713Z",
     "iopub.status.idle": "2021-10-20T21:50:49.916551Z",
     "shell.execute_reply": "2021-10-20T21:50:49.913065Z"
    }
   },
   "outputs": [
    {
     "name": "stdout",
     "output_type": "stream",
     "text": [
      "Found 7 builtin components:\n",
      "  1. dist.ddp\n",
      "  2. utils.booth\n",
      "  3. utils.copy\n",
      "  4. utils.echo\n",
      "  5. utils.sh\n",
      "  6. utils.touch\n",
      "  7. serve.torchserve\n"
     ]
    }
   ],
   "source": [
    "%%sh\n",
    "torchx builtins"
   ]
  },
  {
   "cell_type": "markdown",
   "id": "5838ab46",
   "metadata": {},
   "source": [
    "You can use these either from the CLI, from a pipeline or programmatically like\n",
    "you would any other component."
   ]
  },
  {
   "cell_type": "code",
   "execution_count": 9,
   "id": "41e9eff7",
   "metadata": {
    "execution": {
     "iopub.execute_input": "2021-10-20T21:50:49.922918Z",
     "iopub.status.busy": "2021-10-20T21:50:49.922304Z",
     "iopub.status.idle": "2021-10-20T21:51:58.127823Z",
     "shell.execute_reply": "2021-10-20T21:51:58.127092Z"
    },
    "lines_to_next_cell": 2
   },
   "outputs": [
    {
     "name": "stdout",
     "output_type": "stream",
     "text": [
      "Client:\n",
      " Version:           20.10.9+azure-1\n",
      " API version:       1.41\n",
      " Go version:        go1.16.8\n",
      " Git commit:        c2ea9bc90bacf19bdbe37fd13eec8772432aca99\n",
      " Built:             Thu Sep 23 18:26:34 2021\n",
      " OS/Arch:           linux/amd64\n",
      " Context:           default\n",
      " Experimental:      true\n",
      "\n",
      "Server:\n",
      " Engine:\n",
      "  Version:          20.10.9+azure-1\n",
      "  API version:      1.41 (minimum version 1.12)\n",
      "  Go version:       go1.16.8\n",
      "  Git commit:       79ea9d3080181d755855d5924d0f4f116faa9463\n",
      "  Built:            Thu Sep 23 18:26:18 2021\n",
      "  OS/Arch:          linux/amd64\n",
      "  Experimental:     false\n",
      " containerd:\n",
      "  Version:          1.4.11+azure\n",
      "  GitCommit:        5b46e404f6b9f661a205e28d59c982d3634148f8\n",
      " runc:\n",
      "  Version:          1.0.2\n",
      "  GitCommit:        52b36a2dd837e8462de8e01458bf02cf9eea47dd\n",
      " docker-init:\n",
      "  Version:          0.19.0\n",
      "  GitCommit:        \n",
      "Hello :)\n",
      "local_docker://torchx/echo_f4606894\n"
     ]
    },
    {
     "name": "stderr",
     "output_type": "stream",
     "text": [
      "0.1.0: Pulling from pytorch/torchx\n",
      "4bbfd2c87b75: Already exists\n",
      "d2e110be24e1: Already exists\n",
      "889a7173dcfe: Already exists\n",
      "6009a622672a: Already exists\n",
      "143f80195431: Already exists\n",
      "eccbe17c44e1: Already exists\n",
      "43816ffbaafd: Pulling fs layer\n",
      "6a947bdcd633: Pulling fs layer\n",
      "a05bc569b1b8: Pulling fs layer\n",
      "e7e04288977f: Pulling fs layer\n",
      "706411270dbf: Pulling fs layer\n",
      "30c79e8be50e: Pulling fs layer\n",
      "b3cecbaad1f1: Pulling fs layer\n",
      "40b39224f19c: Pulling fs layer\n",
      "e7e04288977f: Waiting\n",
      "706411270dbf: Waiting\n",
      "30c79e8be50e: Waiting\n",
      "b3cecbaad1f1: Waiting\n",
      "40b39224f19c: Waiting\n",
      "6a947bdcd633: Verifying Checksum\n",
      "6a947bdcd633: Download complete\n",
      "e7e04288977f: Verifying Checksum\n",
      "e7e04288977f: Download complete\n",
      "43816ffbaafd: Verifying Checksum\n",
      "43816ffbaafd: Download complete\n",
      "706411270dbf: Verifying Checksum\n",
      "706411270dbf: Download complete\n",
      "b3cecbaad1f1: Verifying Checksum\n",
      "b3cecbaad1f1: Download complete\n",
      "40b39224f19c: Verifying Checksum\n",
      "40b39224f19c: Download complete\n",
      "30c79e8be50e: Verifying Checksum\n",
      "30c79e8be50e: Download complete\n",
      "43816ffbaafd: Pull complete\n",
      "6a947bdcd633: Pull complete\n",
      "a05bc569b1b8: Verifying Checksum\n",
      "a05bc569b1b8: Download complete\n",
      "a05bc569b1b8: Pull complete\n",
      "e7e04288977f: Pull complete\n",
      "706411270dbf: Pull complete\n",
      "30c79e8be50e: Pull complete\n",
      "b3cecbaad1f1: Pull complete\n",
      "40b39224f19c: Pull complete\n",
      "Digest: sha256:3d9e6d929e1c70cf83954fceabbc4055e1f6217647252c20ea229ae990eb5a7e\n",
      "Status: Downloaded newer image for ghcr.io/pytorch/torchx:0.1.0\n",
      "ghcr.io/pytorch/torchx:0.1.0\n",
      "torchx 2021-10-20 21:51:57 INFO     Waiting for the app to finish...\n",
      "torchx 2021-10-20 21:51:58 INFO     Job finished: SUCCEEDED\n"
     ]
    }
   ],
   "source": [
    "%%sh\n",
    "torchx run utils.echo --msg \"Hello :)\""
   ]
  },
  {
   "cell_type": "markdown",
   "id": "83133582",
   "metadata": {},
   "source": [
    "## Next Steps\n",
    "\n",
    "1. Checkout other features of the [torchx CLI](cli.rst)\n",
    "2. Learn how to author more complex app specs by referencing [specs](specs.rst)\n",
    "3. Browse through the collection of [builtin components](components/overview.rst)\n",
    "4. Take a look at the [list of schedulers](schedulers.rst) supported by the runner\n",
    "5. See which [ML pipeline platforms](pipelines.rst) you can run components on\n",
    "6. See a [training app example](examples_apps/index.rst)"
   ]
  }
 ],
 "metadata": {
  "jupytext": {
   "text_representation": {
    "extension": ".md",
    "format_name": "markdown",
    "format_version": "1.1",
    "jupytext_version": "1.1.0"
   }
  },
  "kernelspec": {
   "display_name": "Python 3",
   "language": "python",
   "name": "python3"
  },
  "language_info": {
   "codemirror_mode": {
    "name": "ipython",
    "version": 3
   },
   "file_extension": ".py",
   "mimetype": "text/x-python",
   "name": "python",
   "nbconvert_exporter": "python",
   "pygments_lexer": "ipython3",
   "version": "3.8.12"
  }
 },
 "nbformat": 4,
 "nbformat_minor": 5
}
