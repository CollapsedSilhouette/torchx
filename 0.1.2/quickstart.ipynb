{
 "cells": [
  {
   "cell_type": "markdown",
   "id": "d0d6de3c",
   "metadata": {},
   "source": [
    "# Quickstart\n",
    "\n",
    "This is a self contained guide on how to write a simple app and start launching\n",
    "distributed jobs on local and remote clusters.\n",
    "\n",
    "## Installation\n",
    "\n",
    "First thing we need to do is to install the TorchX python package which includes\n",
    "the CLI and the library."
   ]
  },
  {
   "cell_type": "markdown",
   "id": "ffc4b5bb",
   "metadata": {
    "region_name": "md"
   },
   "source": [
    "```sh\n",
    "# install torchx with all dependencies\n",
    "$ pip install torchx[dev]\n",
    "```"
   ]
  },
  {
   "cell_type": "markdown",
   "id": "3b2fa4b7",
   "metadata": {},
   "source": [
    "See the [README](https://github.com/pytorch/torchx) for more\n",
    "information on installation."
   ]
  },
  {
   "cell_type": "code",
   "execution_count": 1,
   "id": "7d976916",
   "metadata": {
    "execution": {
     "iopub.execute_input": "2022-03-29T02:17:09.404954Z",
     "iopub.status.busy": "2022-03-29T02:17:09.404487Z",
     "iopub.status.idle": "2022-03-29T02:17:11.047626Z",
     "shell.execute_reply": "2022-03-29T02:17:11.046788Z"
    }
   },
   "outputs": [
    {
     "name": "stdout",
     "output_type": "stream",
     "text": [
      "usage: torchx [-h] [--log_level LOG_LEVEL] [--version]\n"
     ]
    },
    {
     "name": "stdout",
     "output_type": "stream",
     "text": [
      "              {describe,log,run,builtins,runopts,status,configure} ...\n"
     ]
    },
    {
     "name": "stdout",
     "output_type": "stream",
     "text": [
      "\n"
     ]
    },
    {
     "name": "stdout",
     "output_type": "stream",
     "text": [
      "torchx CLI\n"
     ]
    },
    {
     "name": "stdout",
     "output_type": "stream",
     "text": [
      "\n"
     ]
    },
    {
     "name": "stdout",
     "output_type": "stream",
     "text": [
      "optional arguments:\n"
     ]
    },
    {
     "name": "stdout",
     "output_type": "stream",
     "text": [
      "  -h, --help            show this help message and exit\n"
     ]
    },
    {
     "name": "stdout",
     "output_type": "stream",
     "text": [
      "  --log_level LOG_LEVEL\n"
     ]
    },
    {
     "name": "stdout",
     "output_type": "stream",
     "text": [
      "                        Python logging log level\n"
     ]
    },
    {
     "name": "stdout",
     "output_type": "stream",
     "text": [
      "  --version             show program's version number and exit\n"
     ]
    },
    {
     "name": "stdout",
     "output_type": "stream",
     "text": [
      "\n"
     ]
    },
    {
     "name": "stdout",
     "output_type": "stream",
     "text": [
      "sub-commands:\n"
     ]
    },
    {
     "name": "stdout",
     "output_type": "stream",
     "text": [
      "  Use the following commands to run operations, e.g.: torchx run ${JOB_NAME}\n"
     ]
    },
    {
     "name": "stdout",
     "output_type": "stream",
     "text": [
      "\n"
     ]
    },
    {
     "name": "stdout",
     "output_type": "stream",
     "text": [
      "  {describe,log,run,builtins,runopts,status,configure}\n"
     ]
    }
   ],
   "source": [
    "%%sh\n",
    "torchx --help"
   ]
  },
  {
   "cell_type": "markdown",
   "id": "842191c9",
   "metadata": {},
   "source": [
    "## Hello World\n",
    "\n",
    "Lets start off with writing a simple \"Hello World\" python app. This is just a\n",
    "normal python program and can contain anything you'd like.\n",
    "\n",
    "<div class=\"admonition note\">\n",
    "<div class=\"admonition-title\">Note</div>\n",
    "This example uses Jupyter Notebook `%%writefile` to create local files for\n",
    "example purposes. Under normal usage you would have these as standalone files.\n",
    "</div>"
   ]
  },
  {
   "cell_type": "code",
   "execution_count": 2,
   "id": "54b8b027",
   "metadata": {
    "execution": {
     "iopub.execute_input": "2022-03-29T02:17:11.051883Z",
     "iopub.status.busy": "2022-03-29T02:17:11.051181Z",
     "iopub.status.idle": "2022-03-29T02:17:11.056640Z",
     "shell.execute_reply": "2022-03-29T02:17:11.055962Z"
    }
   },
   "outputs": [
    {
     "name": "stdout",
     "output_type": "stream",
     "text": [
      "Overwriting my_app.py\n"
     ]
    }
   ],
   "source": [
    "%%writefile my_app.py\n",
    "\n",
    "import sys\n",
    "\n",
    "print(f\"Hello, {sys.argv[1]}!\")"
   ]
  },
  {
   "cell_type": "markdown",
   "id": "3ecb5eb2",
   "metadata": {},
   "source": [
    "## Launching\n",
    "\n",
    "We can execute our app via `torchx run`. The\n",
    "`local_cwd` scheduler executes the app relative to the current directory.\n",
    "\n",
    "For this we'll use the `utils.python` component:"
   ]
  },
  {
   "cell_type": "code",
   "execution_count": 3,
   "id": "f5e494f9",
   "metadata": {
    "execution": {
     "iopub.execute_input": "2022-03-29T02:17:11.059965Z",
     "iopub.status.busy": "2022-03-29T02:17:11.059525Z",
     "iopub.status.idle": "2022-03-29T02:17:13.160471Z",
     "shell.execute_reply": "2022-03-29T02:17:13.159715Z"
    }
   },
   "outputs": [
    {
     "name": "stdout",
     "output_type": "stream",
     "text": [
      "usage: torchx run <run args...> python  [--help] [-m M] [-c C]\n"
     ]
    },
    {
     "name": "stdout",
     "output_type": "stream",
     "text": [
      "                                        [--script SCRIPT] [--image IMAGE]\n"
     ]
    },
    {
     "name": "stdout",
     "output_type": "stream",
     "text": [
      "                                        [--name NAME] [--cpu CPU] [--gpu GPU]\n"
     ]
    },
    {
     "name": "stdout",
     "output_type": "stream",
     "text": [
      "                                        [--memMB MEMMB] [-h H]\n"
     ]
    },
    {
     "name": "stdout",
     "output_type": "stream",
     "text": [
      "                                        [--num_replicas NUM_REPLICAS]\n"
     ]
    },
    {
     "name": "stdout",
     "output_type": "stream",
     "text": [
      "                                        ...\n"
     ]
    },
    {
     "name": "stdout",
     "output_type": "stream",
     "text": [
      "\n"
     ]
    },
    {
     "name": "stdout",
     "output_type": "stream",
     "text": [
      "Runs ``python`` with the specified module, command or script on the specified\n"
     ]
    },
    {
     "name": "stdout",
     "output_type": "stream",
     "text": [
      "...\n"
     ]
    },
    {
     "name": "stdout",
     "output_type": "stream",
     "text": [
      "\n"
     ]
    },
    {
     "name": "stdout",
     "output_type": "stream",
     "text": [
      "positional arguments:\n"
     ]
    },
    {
     "name": "stdout",
     "output_type": "stream",
     "text": [
      "  args                  arguments passed to the program in sys.argv[1:]\n"
     ]
    },
    {
     "name": "stdout",
     "output_type": "stream",
     "text": [
      "                        (ignored with `--c`) (required)\n"
     ]
    },
    {
     "name": "stdout",
     "output_type": "stream",
     "text": [
      "\n"
     ]
    },
    {
     "name": "stdout",
     "output_type": "stream",
     "text": [
      "optional arguments:\n"
     ]
    },
    {
     "name": "stdout",
     "output_type": "stream",
     "text": [
      "  --help                show this help message and exit\n"
     ]
    },
    {
     "name": "stdout",
     "output_type": "stream",
     "text": [
      "  -m M, --m M           run library module as a script (default: None)\n"
     ]
    },
    {
     "name": "stdout",
     "output_type": "stream",
     "text": [
      "  -c C, --c C           program passed as string (may error if scheduler has a\n"
     ]
    },
    {
     "name": "stdout",
     "output_type": "stream",
     "text": [
      "                        length limit on args) (default: None)\n"
     ]
    },
    {
     "name": "stdout",
     "output_type": "stream",
     "text": [
      "  --script SCRIPT       .py script to run (default: None)\n"
     ]
    },
    {
     "name": "stdout",
     "output_type": "stream",
     "text": [
      "  --image IMAGE         image to run on (default:\n"
     ]
    },
    {
     "name": "stdout",
     "output_type": "stream",
     "text": [
      "                        ghcr.io/pytorch/torchx:0.1.2)\n"
     ]
    },
    {
     "name": "stdout",
     "output_type": "stream",
     "text": [
      "  --name NAME           name of the job (default: torchx_utils_python)\n"
     ]
    },
    {
     "name": "stdout",
     "output_type": "stream",
     "text": [
      "  --cpu CPU             number of cpus per replica (default: 1)\n"
     ]
    },
    {
     "name": "stdout",
     "output_type": "stream",
     "text": [
      "  --gpu GPU             number of gpus per replica (default: 0)\n"
     ]
    },
    {
     "name": "stdout",
     "output_type": "stream",
     "text": [
      "  --memMB MEMMB         cpu memory in MB per replica (default: 1024)\n"
     ]
    },
    {
     "name": "stdout",
     "output_type": "stream",
     "text": [
      "  -h H, --h H           a registered named resource (if specified takes\n"
     ]
    },
    {
     "name": "stdout",
     "output_type": "stream",
     "text": [
      "                        precedence over cpu, gpu, memMB) (default: None)\n"
     ]
    },
    {
     "name": "stdout",
     "output_type": "stream",
     "text": [
      "  --num_replicas NUM_REPLICAS\n"
     ]
    },
    {
     "name": "stdout",
     "output_type": "stream",
     "text": [
      "                        number of copies to run (each on its own container)\n"
     ]
    },
    {
     "name": "stdout",
     "output_type": "stream",
     "text": [
      "                        (default: 1)\n"
     ]
    }
   ],
   "source": [
    "%%sh\n",
    "torchx run --scheduler local_cwd utils.python --help"
   ]
  },
  {
   "cell_type": "markdown",
   "id": "be7220b9",
   "metadata": {},
   "source": [
    "The component takes in the script name and any extra arguments will be passed to\n",
    "the script itself."
   ]
  },
  {
   "cell_type": "code",
   "execution_count": 4,
   "id": "1718b40a",
   "metadata": {
    "execution": {
     "iopub.execute_input": "2022-03-29T02:17:13.164470Z",
     "iopub.status.busy": "2022-03-29T02:17:13.164143Z",
     "iopub.status.idle": "2022-03-29T02:17:16.982303Z",
     "shell.execute_reply": "2022-03-29T02:17:16.981402Z"
    }
   },
   "outputs": [
    {
     "name": "stderr",
     "output_type": "stream",
     "text": [
      "torchx 2022-03-29 02:17:15 INFO     Log files located in: /tmp/torchx_kk60p9v6/torchx/torchx_utils_python-jgtn9k4wccm33c/python/0\n"
     ]
    },
    {
     "name": "stderr",
     "output_type": "stream",
     "text": [
      "torchx 2022-03-29 02:17:15 INFO     Waiting for the app to finish...\n"
     ]
    },
    {
     "name": "stderr",
     "output_type": "stream",
     "text": [
      "python/0 Hello, your name!\n"
     ]
    },
    {
     "name": "stderr",
     "output_type": "stream",
     "text": [
      "torchx 2022-03-29 02:17:16 INFO     Job finished: SUCCEEDED\n"
     ]
    },
    {
     "name": "stdout",
     "output_type": "stream",
     "text": [
      "local_cwd://torchx/torchx_utils_python-jgtn9k4wccm33c\n"
     ]
    }
   ],
   "source": [
    "%%sh\n",
    "torchx run --scheduler local_cwd utils.python --script my_app.py \"your name\""
   ]
  },
  {
   "cell_type": "markdown",
   "id": "7f4a5e5a",
   "metadata": {},
   "source": [
    "We can run the exact same app via the `local_docker` scheduler. This scheduler\n",
    "will package up the local workspace as a layer on top of the specified image.\n",
    "This provides a very similar environment to the container based remote\n",
    "schedulers.\n",
    "\n",
    "<div class=\"admonition note\">\n",
    "<div class=\"admonition-title\">Note</div>\n",
    "This requires Docker installed and won't work in environments such as Google\n",
    "Colab. See the Docker install instructions:\n",
    "[https://docs.docker.com/get-docker/](https://docs.docker.com/get-docker/)</a>\n",
    "</div>"
   ]
  },
  {
   "cell_type": "code",
   "execution_count": 5,
   "id": "832753f1",
   "metadata": {
    "execution": {
     "iopub.execute_input": "2022-03-29T02:17:16.987613Z",
     "iopub.status.busy": "2022-03-29T02:17:16.987066Z",
     "iopub.status.idle": "2022-03-29T02:17:31.387338Z",
     "shell.execute_reply": "2022-03-29T02:17:31.386278Z"
    }
   },
   "outputs": [
    {
     "name": "stderr",
     "output_type": "stream",
     "text": [
      "torchx 2022-03-29 02:17:19 INFO     Building workspace: file:///home/runner/work/torchx/torchx/docs/source for role[0]: python, image: ghcr.io/pytorch/torchx:0.1.2\n"
     ]
    },
    {
     "name": "stderr",
     "output_type": "stream",
     "text": [
      "torchx 2022-03-29 02:17:29 INFO     Done building workspace\n"
     ]
    },
    {
     "name": "stderr",
     "output_type": "stream",
     "text": [
      "torchx 2022-03-29 02:17:29 INFO     New image: sha256:0470f803e3b362dff7f331ee78f8532f0b7ee84502592c74c70ec4f9f62e9daa built from workspace\n"
     ]
    },
    {
     "name": "stderr",
     "output_type": "stream",
     "text": [
      "torchx 2022-03-29 02:17:30 INFO     Waiting for the app to finish...\n"
     ]
    },
    {
     "name": "stderr",
     "output_type": "stream",
     "text": [
      "python/0 Hello, your name!\n"
     ]
    },
    {
     "name": "stderr",
     "output_type": "stream",
     "text": [
      "torchx 2022-03-29 02:17:31 INFO     Job finished: SUCCEEDED\n"
     ]
    },
    {
     "name": "stdout",
     "output_type": "stream",
     "text": [
      "local_docker://torchx/torchx_utils_python-p0hl5nm0hr4mkd\n"
     ]
    }
   ],
   "source": [
    "%%sh\n",
    "torchx run --scheduler local_docker utils.python --script my_app.py \"your name\""
   ]
  },
  {
   "cell_type": "markdown",
   "id": "b3d2ec1b",
   "metadata": {},
   "source": [
    "TorchX defaults to using the\n",
    "[ghcr.io/pytorch/torchx](https://ghcr.io/pytorch/torchx) Docker container image\n",
    "which contains the PyTorch libraries, TorchX and related dependencies.\n",
    "\n",
    "## Distributed\n",
    "\n",
    "TorchX's `dist.ddp` component uses\n",
    "[TorchElastic](https://pytorch.org/docs/stable/distributed.elastic.html)\n",
    "to manage the workers. This means you can launch multi-worker and multi-host\n",
    "jobs out of the box on all of the schedulers we support."
   ]
  },
  {
   "cell_type": "code",
   "execution_count": 6,
   "id": "c1627f19",
   "metadata": {
    "execution": {
     "iopub.execute_input": "2022-03-29T02:17:31.391943Z",
     "iopub.status.busy": "2022-03-29T02:17:31.391370Z",
     "iopub.status.idle": "2022-03-29T02:17:33.519257Z",
     "shell.execute_reply": "2022-03-29T02:17:33.518565Z"
    }
   },
   "outputs": [
    {
     "name": "stdout",
     "output_type": "stream",
     "text": [
      "usage: torchx run <run args...> ddp  [--help] [--script SCRIPT] [-m M]\n"
     ]
    },
    {
     "name": "stdout",
     "output_type": "stream",
     "text": [
      "                                     [--image IMAGE] [--name NAME] [-h H]\n"
     ]
    },
    {
     "name": "stdout",
     "output_type": "stream",
     "text": [
      "                                     [--cpu CPU] [--gpu GPU] [--memMB MEMMB]\n"
     ]
    },
    {
     "name": "stdout",
     "output_type": "stream",
     "text": [
      "                                     [-j J] [--env ENV]\n"
     ]
    },
    {
     "name": "stdout",
     "output_type": "stream",
     "text": [
      "                                     [--max_retries MAX_RETRIES]\n"
     ]
    },
    {
     "name": "stdout",
     "output_type": "stream",
     "text": [
      "                                     [--rdzv_port RDZV_PORT] [--mounts MOUNTS]\n"
     ]
    },
    {
     "name": "stdout",
     "output_type": "stream",
     "text": [
      "                                     ...\n"
     ]
    },
    {
     "name": "stdout",
     "output_type": "stream",
     "text": [
      "\n"
     ]
    },
    {
     "name": "stdout",
     "output_type": "stream",
     "text": [
      "Distributed data parallel style application (one role, multi-replica). ...\n"
     ]
    },
    {
     "name": "stdout",
     "output_type": "stream",
     "text": [
      "\n"
     ]
    },
    {
     "name": "stdout",
     "output_type": "stream",
     "text": [
      "positional arguments:\n"
     ]
    },
    {
     "name": "stdout",
     "output_type": "stream",
     "text": [
      "  script_args           arguments to the main module (required)\n"
     ]
    },
    {
     "name": "stdout",
     "output_type": "stream",
     "text": [
      "\n"
     ]
    },
    {
     "name": "stdout",
     "output_type": "stream",
     "text": [
      "optional arguments:\n"
     ]
    },
    {
     "name": "stdout",
     "output_type": "stream",
     "text": [
      "  --help                show this help message and exit\n"
     ]
    },
    {
     "name": "stdout",
     "output_type": "stream",
     "text": [
      "  --script SCRIPT       script or binary to run within the image (default:\n"
     ]
    },
    {
     "name": "stdout",
     "output_type": "stream",
     "text": [
      "                        None)\n"
     ]
    },
    {
     "name": "stdout",
     "output_type": "stream",
     "text": [
      "  -m M, --m M           the python module path to run (default: None)\n"
     ]
    },
    {
     "name": "stdout",
     "output_type": "stream",
     "text": [
      "  --image IMAGE         image (e.g. docker) (default:\n"
     ]
    },
    {
     "name": "stdout",
     "output_type": "stream",
     "text": [
      "                        ghcr.io/pytorch/torchx:0.1.2)\n"
     ]
    },
    {
     "name": "stdout",
     "output_type": "stream",
     "text": [
      "  --name NAME           job name override (uses the script name if not\n"
     ]
    },
    {
     "name": "stdout",
     "output_type": "stream",
     "text": [
      "                        specified) (default: None)\n"
     ]
    },
    {
     "name": "stdout",
     "output_type": "stream",
     "text": [
      "  -h H, --h H           a registered named resource (if specified takes\n"
     ]
    },
    {
     "name": "stdout",
     "output_type": "stream",
     "text": [
      "                        precedence over cpu, gpu, memMB) (default: None)\n"
     ]
    },
    {
     "name": "stdout",
     "output_type": "stream",
     "text": [
      "  --cpu CPU             number of cpus per replica (default: 2)\n"
     ]
    },
    {
     "name": "stdout",
     "output_type": "stream",
     "text": [
      "  --gpu GPU             number of gpus per replica (default: 0)\n"
     ]
    },
    {
     "name": "stdout",
     "output_type": "stream",
     "text": [
      "  --memMB MEMMB         cpu memory in MB per replica (default: 1024)\n"
     ]
    },
    {
     "name": "stdout",
     "output_type": "stream",
     "text": [
      "  -j J, --j J           {nnodes}x{nproc_per_node}, for gpu hosts,\n"
     ]
    },
    {
     "name": "stdout",
     "output_type": "stream",
     "text": [
      "                        nproc_per_node must not exceed num gpus (default: 1x2)\n"
     ]
    },
    {
     "name": "stdout",
     "output_type": "stream",
     "text": [
      "  --env ENV             environment varibles to be passed to the run (e.g.\n"
     ]
    },
    {
     "name": "stdout",
     "output_type": "stream",
     "text": [
      "                        ENV1=v1,ENV2=v2,ENV3=v3) (default: None)\n"
     ]
    },
    {
     "name": "stdout",
     "output_type": "stream",
     "text": [
      "  --max_retries MAX_RETRIES\n"
     ]
    },
    {
     "name": "stdout",
     "output_type": "stream",
     "text": [
      "                        the number of scheduler retries allowed (default: 0)\n"
     ]
    },
    {
     "name": "stdout",
     "output_type": "stream",
     "text": [
      "  --rdzv_port RDZV_PORT\n"
     ]
    },
    {
     "name": "stdout",
     "output_type": "stream",
     "text": [
      "                        the port on rank0's host to use for hosting the c10d\n"
     ]
    },
    {
     "name": "stdout",
     "output_type": "stream",
     "text": [
      "                        store used for rendezvous. Only takes effect when\n"
     ]
    },
    {
     "name": "stdout",
     "output_type": "stream",
     "text": [
      "                        running multi-node. When running single node, this\n"
     ]
    },
    {
     "name": "stdout",
     "output_type": "stream",
     "text": [
      "                        parameter is ignored and a random free port is chosen.\n"
     ]
    },
    {
     "name": "stdout",
     "output_type": "stream",
     "text": [
      "                        (default: 29500)\n"
     ]
    },
    {
     "name": "stdout",
     "output_type": "stream",
     "text": [
      "  --mounts MOUNTS       mounts to mount into the worker environment/container\n"
     ]
    },
    {
     "name": "stdout",
     "output_type": "stream",
     "text": [
      "                        (ex.\n"
     ]
    },
    {
     "name": "stdout",
     "output_type": "stream",
     "text": [
      "                        type=<bind/volume>,src=/host,dst=/job[,readonly]). See\n"
     ]
    },
    {
     "name": "stdout",
     "output_type": "stream",
     "text": [
      "                        scheduler documentation for more info. (default: None)\n"
     ]
    }
   ],
   "source": [
    "%%sh\n",
    "torchx run --scheduler local_docker dist.ddp --help"
   ]
  },
  {
   "cell_type": "markdown",
   "id": "52a3d005",
   "metadata": {},
   "source": [
    "Lets create a slightly more interesting app to leverage the TorchX distributed\n",
    "support."
   ]
  },
  {
   "cell_type": "code",
   "execution_count": 7,
   "id": "5a099afc",
   "metadata": {
    "execution": {
     "iopub.execute_input": "2022-03-29T02:17:33.524229Z",
     "iopub.status.busy": "2022-03-29T02:17:33.523576Z",
     "iopub.status.idle": "2022-03-29T02:17:33.529647Z",
     "shell.execute_reply": "2022-03-29T02:17:33.529029Z"
    }
   },
   "outputs": [
    {
     "name": "stdout",
     "output_type": "stream",
     "text": [
      "Writing dist_app.py\n"
     ]
    }
   ],
   "source": [
    "%%writefile dist_app.py\n",
    "\n",
    "import torch\n",
    "import torch.distributed as dist\n",
    "\n",
    "dist.init_process_group(backend=\"gloo\")\n",
    "print(f\"I am worker {dist.get_rank()} of {dist.get_world_size()}!\")\n",
    "\n",
    "a = torch.tensor([dist.get_rank()])\n",
    "dist.all_reduce(a)\n",
    "print(f\"all_reduce output = {a}\")"
   ]
  },
  {
   "cell_type": "markdown",
   "id": "80b27a2c",
   "metadata": {},
   "source": [
    "Let launch a small job with 2 nodes and 2 worker processes per node:"
   ]
  },
  {
   "cell_type": "code",
   "execution_count": 8,
   "id": "7bdd0075",
   "metadata": {
    "execution": {
     "iopub.execute_input": "2022-03-29T02:17:33.533571Z",
     "iopub.status.busy": "2022-03-29T02:17:33.533087Z",
     "iopub.status.idle": "2022-03-29T02:17:55.072579Z",
     "shell.execute_reply": "2022-03-29T02:17:55.070645Z"
    }
   },
   "outputs": [
    {
     "name": "stderr",
     "output_type": "stream",
     "text": [
      "torchx 2022-03-29 02:17:35 INFO     Building workspace: file:///home/runner/work/torchx/torchx/docs/source for role[0]: dist_app, image: ghcr.io/pytorch/torchx:0.1.2\n"
     ]
    },
    {
     "name": "stderr",
     "output_type": "stream",
     "text": [
      "torchx 2022-03-29 02:17:45 INFO     Done building workspace\n"
     ]
    },
    {
     "name": "stderr",
     "output_type": "stream",
     "text": [
      "torchx 2022-03-29 02:17:45 INFO     New image: sha256:ae504ae34bd8678e7351797eb56aa7ff6f040ab34f655de698f7126a8ab061ef built from workspace\n"
     ]
    },
    {
     "name": "stderr",
     "output_type": "stream",
     "text": [
      "torchx 2022-03-29 02:17:46 INFO     Waiting for the app to finish...\n"
     ]
    },
    {
     "name": "stderr",
     "output_type": "stream",
     "text": [
      "dist_app/0 WARNING:__main__:\n"
     ]
    },
    {
     "name": "stderr",
     "output_type": "stream",
     "text": [
      "dist_app/0 *****************************************\n"
     ]
    },
    {
     "name": "stderr",
     "output_type": "stream",
     "text": [
      "dist_app/0 Setting OMP_NUM_THREADS environment variable for each process to be 1 in default, to avoid your system being overloaded, please further tune the variable for optimal performance in your application as needed. \n"
     ]
    },
    {
     "name": "stderr",
     "output_type": "stream",
     "text": [
      "dist_app/0 *****************************************\n"
     ]
    },
    {
     "name": "stderr",
     "output_type": "stream",
     "text": [
      "dist_app/1 WARNING:__main__:\n"
     ]
    },
    {
     "name": "stderr",
     "output_type": "stream",
     "text": [
      "dist_app/1 *****************************************\n"
     ]
    },
    {
     "name": "stderr",
     "output_type": "stream",
     "text": [
      "dist_app/1 Setting OMP_NUM_THREADS environment variable for each process to be 1 in default, to avoid your system being overloaded, please further tune the variable for optimal performance in your application as needed. \n"
     ]
    },
    {
     "name": "stderr",
     "output_type": "stream",
     "text": [
      "dist_app/1 *****************************************\n"
     ]
    },
    {
     "name": "stderr",
     "output_type": "stream",
     "text": [
      "dist_app/1 [0]:I am worker 2 of 4!\n"
     ]
    },
    {
     "name": "stderr",
     "output_type": "stream",
     "text": [
      "dist_app/1 [0]:all_reduce output = tensor([6])\n"
     ]
    },
    {
     "name": "stderr",
     "output_type": "stream",
     "text": [
      "dist_app/1 [1]:I am worker 3 of 4!\n"
     ]
    },
    {
     "name": "stderr",
     "output_type": "stream",
     "text": [
      "dist_app/1 [1]:all_reduce output = tensor([6])\n"
     ]
    },
    {
     "name": "stderr",
     "output_type": "stream",
     "text": [
      "dist_app/0 [1]:I am worker 1 of 4!\n"
     ]
    },
    {
     "name": "stderr",
     "output_type": "stream",
     "text": [
      "dist_app/0 [1]:all_reduce output = tensor([6])\n"
     ]
    },
    {
     "name": "stderr",
     "output_type": "stream",
     "text": [
      "dist_app/0 [0]:I am worker 0 of 4!\n"
     ]
    },
    {
     "name": "stderr",
     "output_type": "stream",
     "text": [
      "dist_app/0 [0]:all_reduce output = tensor([6])\n"
     ]
    },
    {
     "name": "stderr",
     "output_type": "stream",
     "text": [
      "torchx 2022-03-29 02:17:54 INFO     Job finished: SUCCEEDED\n"
     ]
    },
    {
     "name": "stdout",
     "output_type": "stream",
     "text": [
      "local_docker://torchx/dist_app-pt040g665612sd\n"
     ]
    }
   ],
   "source": [
    "%%sh\n",
    "torchx run --scheduler local_docker dist.ddp -j 2x2 --script dist_app.py"
   ]
  },
  {
   "cell_type": "markdown",
   "id": "720c1932",
   "metadata": {},
   "source": [
    "## Workspaces / Patching\n",
    "\n",
    "For each scheduler there's a concept of an `image`. For `local_cwd` and `slurm`\n",
    "it uses the current working directory. For container based schedulers such as\n",
    "`local_docker`, `kubernetes` and `aws_batch` it uses a docker container.\n",
    "\n",
    "To provide the same environment between local and remote jobs, TorchX CLI uses\n",
    "workspaces to automatically patch images for remote jobs on a per scheduler\n",
    "basis.\n",
    "\n",
    "When you launch a job via `torchx run` it'll overlay the current directory on\n",
    "top of the provided image so your code is available in the launched job.\n",
    "\n",
    "For `docker` based schedulers you'll need a local docker daemon to build and\n",
    "push the image to your remote docker repository.\n",
    "\n",
    "## `.torchxconfig`\n",
    "\n",
    "Arguments to schedulers can be specified either via a command line flag to\n",
    "`torchx run -s <scheduler> -c <args>` or on a per scheduler basis via a\n",
    "`.torchxconfig` file."
   ]
  },
  {
   "cell_type": "code",
   "execution_count": 9,
   "id": "67647e69",
   "metadata": {
    "execution": {
     "iopub.execute_input": "2022-03-29T02:17:55.077371Z",
     "iopub.status.busy": "2022-03-29T02:17:55.076909Z",
     "iopub.status.idle": "2022-03-29T02:17:55.081543Z",
     "shell.execute_reply": "2022-03-29T02:17:55.080886Z"
    }
   },
   "outputs": [
    {
     "name": "stdout",
     "output_type": "stream",
     "text": [
      "Writing .torchxconfig\n"
     ]
    }
   ],
   "source": [
    "%%writefile .torchxconfig\n",
    "\n",
    "[kubernetes]\n",
    "queue=torchx\n",
    "image_repo=<your docker image repository>\n",
    "\n",
    "[slurm]\n",
    "partition=torchx"
   ]
  },
  {
   "cell_type": "markdown",
   "id": "bb7e3b14",
   "metadata": {},
   "source": [
    "## Remote Schedulers\n",
    "\n",
    "TorchX supports a large number of schedulers.\n",
    "Don't see yours?\n",
    "[Request it!](https://github.com/pytorch/torchx/issues/new?assignees=&labels=&template=feature-request.md)\n",
    "\n",
    "Remote schedulers operate the exact same way the local schedulers do. The same\n",
    "run command for local works out of the box on remote."
   ]
  },
  {
   "cell_type": "markdown",
   "id": "7e2394cb",
   "metadata": {
    "region_name": "md"
   },
   "source": [
    "```sh\n",
    "$ torchx run --scheduler slurm dist.ddp -j 2x2 --script dist_app.py\n",
    "$ torchx run --scheduler kubernetes dist.ddp -j 2x2 --script dist_app.py\n",
    "$ torchx run --scheduler aws_batch dist.ddp -j 2x2 --script dist_app.py\n",
    "$ torchx run --scheduler ray dist.ddp -j 2x2 --script dist_app.py\n",
    "```"
   ]
  },
  {
   "cell_type": "markdown",
   "id": "92b54d08",
   "metadata": {},
   "source": [
    "Depending on the scheduler there may be a few extra configuration parameters so\n",
    "TorchX knows where to run the job and upload built images. These can either be\n",
    "set via `-c` or in the `.torchxconfig` file."
   ]
  },
  {
   "cell_type": "markdown",
   "id": "40f76eb8",
   "metadata": {},
   "source": [
    "All config options:"
   ]
  },
  {
   "cell_type": "code",
   "execution_count": 10,
   "id": "5a7d5c97",
   "metadata": {
    "execution": {
     "iopub.execute_input": "2022-03-29T02:17:55.086500Z",
     "iopub.status.busy": "2022-03-29T02:17:55.086094Z",
     "iopub.status.idle": "2022-03-29T02:17:56.356294Z",
     "shell.execute_reply": "2022-03-29T02:17:56.355589Z"
    },
    "lines_to_next_cell": 2
   },
   "outputs": [
    {
     "name": "stdout",
     "output_type": "stream",
     "text": [
      "local_docker:\n"
     ]
    },
    {
     "name": "stdout",
     "output_type": "stream",
     "text": [
      "    usage:\n"
     ]
    },
    {
     "name": "stdout",
     "output_type": "stream",
     "text": [
      "        [copy_env=COPY_ENV]\n"
     ]
    },
    {
     "name": "stdout",
     "output_type": "stream",
     "text": [
      "\n"
     ]
    },
    {
     "name": "stdout",
     "output_type": "stream",
     "text": [
      "    optional arguments:\n"
     ]
    },
    {
     "name": "stdout",
     "output_type": "stream",
     "text": [
      "        copy_env=COPY_ENV (typing.List[str], None)\n"
     ]
    },
    {
     "name": "stdout",
     "output_type": "stream",
     "text": [
      "            list of glob patterns of environment variables to copy if not set in AppDef. Ex: FOO_*\n"
     ]
    },
    {
     "name": "stdout",
     "output_type": "stream",
     "text": [
      "\n"
     ]
    },
    {
     "name": "stdout",
     "output_type": "stream",
     "text": [
      "local_cwd:\n"
     ]
    },
    {
     "name": "stdout",
     "output_type": "stream",
     "text": [
      "    usage:\n"
     ]
    },
    {
     "name": "stdout",
     "output_type": "stream",
     "text": [
      "        [log_dir=LOG_DIR],[prepend_cwd=PREPEND_CWD],[auto_set_cuda_visible_devices=AUTO_SET_CUDA_VISIBLE_DEVICES]\n"
     ]
    },
    {
     "name": "stdout",
     "output_type": "stream",
     "text": [
      "\n"
     ]
    },
    {
     "name": "stdout",
     "output_type": "stream",
     "text": [
      "    optional arguments:\n"
     ]
    },
    {
     "name": "stdout",
     "output_type": "stream",
     "text": [
      "        log_dir=LOG_DIR (str, None)\n"
     ]
    },
    {
     "name": "stdout",
     "output_type": "stream",
     "text": [
      "            dir to write stdout/stderr log files of replicas\n"
     ]
    },
    {
     "name": "stdout",
     "output_type": "stream",
     "text": [
      "        prepend_cwd=PREPEND_CWD (bool, False)\n"
     ]
    },
    {
     "name": "stdout",
     "output_type": "stream",
     "text": [
      "            if set, prepends CWD to replica's PATH env var making any binaries in CWD take precedence over those in PATH\n"
     ]
    },
    {
     "name": "stdout",
     "output_type": "stream",
     "text": [
      "        auto_set_cuda_visible_devices=AUTO_SET_CUDA_VISIBLE_DEVICES (bool, False)\n"
     ]
    },
    {
     "name": "stdout",
     "output_type": "stream",
     "text": [
      "            sets the `CUDA_AVAILABLE_DEVICES` for roles that request GPU resources. Each role replica will be assigned one GPU. Does nothing if the device count is less than replicas.\n"
     ]
    },
    {
     "name": "stdout",
     "output_type": "stream",
     "text": [
      "\n"
     ]
    },
    {
     "name": "stdout",
     "output_type": "stream",
     "text": [
      "slurm:\n"
     ]
    },
    {
     "name": "stdout",
     "output_type": "stream",
     "text": [
      "    usage:\n"
     ]
    },
    {
     "name": "stdout",
     "output_type": "stream",
     "text": [
      "        [partition=PARTITION],[time=TIME],[nomem=NOMEM],[comment=COMMENT],[constraint=CONSTRAINT],[mail-user=MAIL-USER],[mail-type=MAIL-TYPE],[job_dir=JOB_DIR]\n"
     ]
    },
    {
     "name": "stdout",
     "output_type": "stream",
     "text": [
      "\n"
     ]
    },
    {
     "name": "stdout",
     "output_type": "stream",
     "text": [
      "    optional arguments:\n"
     ]
    },
    {
     "name": "stdout",
     "output_type": "stream",
     "text": [
      "        partition=PARTITION (str, None)\n"
     ]
    },
    {
     "name": "stdout",
     "output_type": "stream",
     "text": [
      "            The partition to run the job in.\n"
     ]
    },
    {
     "name": "stdout",
     "output_type": "stream",
     "text": [
      "        time=TIME (str, None)\n"
     ]
    },
    {
     "name": "stdout",
     "output_type": "stream",
     "text": [
      "            The maximum time the job is allowed to run for. Formats:             \"minutes\", \"minutes:seconds\", \"hours:minutes:seconds\", \"days-hours\",             \"days-hours:minutes\" or \"days-hours:minutes:seconds\"\n"
     ]
    },
    {
     "name": "stdout",
     "output_type": "stream",
     "text": [
      "        nomem=NOMEM (bool, False)\n"
     ]
    },
    {
     "name": "stdout",
     "output_type": "stream",
     "text": [
      "            disables memory request to workaround https://github.com/aws/aws-parallelcluster/issues/2198\n"
     ]
    },
    {
     "name": "stdout",
     "output_type": "stream",
     "text": [
      "        comment=COMMENT (str, None)\n"
     ]
    },
    {
     "name": "stdout",
     "output_type": "stream",
     "text": [
      "            Comment to set on the slurm job.\n"
     ]
    },
    {
     "name": "stdout",
     "output_type": "stream",
     "text": [
      "        constraint=CONSTRAINT (str, None)\n"
     ]
    },
    {
     "name": "stdout",
     "output_type": "stream",
     "text": [
      "            Constraint to use for the slurm job.\n"
     ]
    },
    {
     "name": "stdout",
     "output_type": "stream",
     "text": [
      "        mail-user=MAIL-USER (str, None)\n"
     ]
    },
    {
     "name": "stdout",
     "output_type": "stream",
     "text": [
      "            User to mail on job end.\n"
     ]
    },
    {
     "name": "stdout",
     "output_type": "stream",
     "text": [
      "        mail-type=MAIL-TYPE (str, None)\n"
     ]
    },
    {
     "name": "stdout",
     "output_type": "stream",
     "text": [
      "            What events to mail users on.\n"
     ]
    },
    {
     "name": "stdout",
     "output_type": "stream",
     "text": [
      "        job_dir=JOB_DIR (str, None)\n"
     ]
    },
    {
     "name": "stdout",
     "output_type": "stream",
     "text": [
      "            The directory to place the job code and outputs. The\n"
     ]
    },
    {
     "name": "stdout",
     "output_type": "stream",
     "text": [
      "            directory must not exist and will be created. To enable log\n"
     ]
    },
    {
     "name": "stdout",
     "output_type": "stream",
     "text": [
      "            iteration, jobs will be tracked in ``.torchxslurmjobdirs``.\n"
     ]
    },
    {
     "name": "stdout",
     "output_type": "stream",
     "text": [
      "            \n"
     ]
    },
    {
     "name": "stdout",
     "output_type": "stream",
     "text": [
      "\n"
     ]
    },
    {
     "name": "stdout",
     "output_type": "stream",
     "text": [
      "kubernetes:\n"
     ]
    },
    {
     "name": "stdout",
     "output_type": "stream",
     "text": [
      "    usage:\n"
     ]
    },
    {
     "name": "stdout",
     "output_type": "stream",
     "text": [
      "        queue=QUEUE,[namespace=NAMESPACE],[image_repo=IMAGE_REPO],[service_account=SERVICE_ACCOUNT]\n"
     ]
    },
    {
     "name": "stdout",
     "output_type": "stream",
     "text": [
      "\n"
     ]
    },
    {
     "name": "stdout",
     "output_type": "stream",
     "text": [
      "    required arguments:\n"
     ]
    },
    {
     "name": "stdout",
     "output_type": "stream",
     "text": [
      "        queue=QUEUE (str)\n"
     ]
    },
    {
     "name": "stdout",
     "output_type": "stream",
     "text": [
      "            Volcano queue to schedule job in\n"
     ]
    },
    {
     "name": "stdout",
     "output_type": "stream",
     "text": [
      "\n"
     ]
    },
    {
     "name": "stdout",
     "output_type": "stream",
     "text": [
      "    optional arguments:\n"
     ]
    },
    {
     "name": "stdout",
     "output_type": "stream",
     "text": [
      "        namespace=NAMESPACE (str, default)\n"
     ]
    },
    {
     "name": "stdout",
     "output_type": "stream",
     "text": [
      "            Kubernetes namespace to schedule job in\n"
     ]
    },
    {
     "name": "stdout",
     "output_type": "stream",
     "text": [
      "        image_repo=IMAGE_REPO (str, None)\n"
     ]
    },
    {
     "name": "stdout",
     "output_type": "stream",
     "text": [
      "            The image repository to use when pushing patched images, must have push access. Ex: example.com/your/container\n"
     ]
    },
    {
     "name": "stdout",
     "output_type": "stream",
     "text": [
      "        service_account=SERVICE_ACCOUNT (str, None)\n"
     ]
    },
    {
     "name": "stdout",
     "output_type": "stream",
     "text": [
      "            The service account name to set on the pod specs\n"
     ]
    },
    {
     "name": "stdout",
     "output_type": "stream",
     "text": [
      "\n"
     ]
    },
    {
     "name": "stdout",
     "output_type": "stream",
     "text": [
      "aws_batch:\n"
     ]
    },
    {
     "name": "stdout",
     "output_type": "stream",
     "text": [
      "    usage:\n"
     ]
    },
    {
     "name": "stdout",
     "output_type": "stream",
     "text": [
      "        queue=QUEUE,[image_repo=IMAGE_REPO]\n"
     ]
    },
    {
     "name": "stdout",
     "output_type": "stream",
     "text": [
      "\n"
     ]
    },
    {
     "name": "stdout",
     "output_type": "stream",
     "text": [
      "    required arguments:\n"
     ]
    },
    {
     "name": "stdout",
     "output_type": "stream",
     "text": [
      "        queue=QUEUE (str)\n"
     ]
    },
    {
     "name": "stdout",
     "output_type": "stream",
     "text": [
      "            queue to schedule job in\n"
     ]
    },
    {
     "name": "stdout",
     "output_type": "stream",
     "text": [
      "\n"
     ]
    },
    {
     "name": "stdout",
     "output_type": "stream",
     "text": [
      "    optional arguments:\n"
     ]
    },
    {
     "name": "stdout",
     "output_type": "stream",
     "text": [
      "        image_repo=IMAGE_REPO (str, None)\n"
     ]
    },
    {
     "name": "stdout",
     "output_type": "stream",
     "text": [
      "            The image repository to use when pushing patched images, must have push access. Ex: example.com/your/container\n"
     ]
    },
    {
     "name": "stdout",
     "output_type": "stream",
     "text": [
      "\n"
     ]
    },
    {
     "name": "stdout",
     "output_type": "stream",
     "text": [
      "ray:\n"
     ]
    },
    {
     "name": "stdout",
     "output_type": "stream",
     "text": [
      "    usage:\n"
     ]
    },
    {
     "name": "stdout",
     "output_type": "stream",
     "text": [
      "        [cluster_config_file=CLUSTER_CONFIG_FILE],[cluster_name=CLUSTER_NAME],[dashboard_address=DASHBOARD_ADDRESS],[working_dir=WORKING_DIR],[requirements=REQUIREMENTS]\n"
     ]
    },
    {
     "name": "stdout",
     "output_type": "stream",
     "text": [
      "\n"
     ]
    },
    {
     "name": "stdout",
     "output_type": "stream",
     "text": [
      "    optional arguments:\n"
     ]
    },
    {
     "name": "stdout",
     "output_type": "stream",
     "text": [
      "        cluster_config_file=CLUSTER_CONFIG_FILE (str, None)\n"
     ]
    },
    {
     "name": "stdout",
     "output_type": "stream",
     "text": [
      "            Use CLUSTER_CONFIG_FILE to access or create the Ray cluster.\n"
     ]
    },
    {
     "name": "stdout",
     "output_type": "stream",
     "text": [
      "        cluster_name=CLUSTER_NAME (str, None)\n"
     ]
    },
    {
     "name": "stdout",
     "output_type": "stream",
     "text": [
      "            Override the configured cluster name.\n"
     ]
    },
    {
     "name": "stdout",
     "output_type": "stream",
     "text": [
      "        dashboard_address=DASHBOARD_ADDRESS (str, 127.0.0.1:8265)\n"
     ]
    },
    {
     "name": "stdout",
     "output_type": "stream",
     "text": [
      "            Use ray status to get the dashboard address you will submit jobs against\n"
     ]
    },
    {
     "name": "stdout",
     "output_type": "stream",
     "text": [
      "        working_dir=WORKING_DIR (str, None)\n"
     ]
    },
    {
     "name": "stdout",
     "output_type": "stream",
     "text": [
      "            Copy the the working directory containing the Python scripts to the cluster.\n"
     ]
    },
    {
     "name": "stdout",
     "output_type": "stream",
     "text": [
      "        requirements=REQUIREMENTS (str, None)\n"
     ]
    },
    {
     "name": "stdout",
     "output_type": "stream",
     "text": [
      "            Path to requirements.txt\n"
     ]
    },
    {
     "name": "stdout",
     "output_type": "stream",
     "text": [
      "\n"
     ]
    }
   ],
   "source": [
    "%%sh\n",
    "torchx runopts"
   ]
  },
  {
   "cell_type": "markdown",
   "id": "0823e204",
   "metadata": {},
   "source": [
    "## Custom Images\n",
    "\n",
    "### Docker-based Schedulers\n",
    "\n",
    "If you want more than the standard PyTorch libraries you can add custom\n",
    "Dockerfile or build your own docker container and use it as the base image for\n",
    "your TorchX jobs.\n"
   ]
  },
  {
   "cell_type": "code",
   "execution_count": 11,
   "id": "cdfd90a8",
   "metadata": {
    "execution": {
     "iopub.execute_input": "2022-03-29T02:17:56.363740Z",
     "iopub.status.busy": "2022-03-29T02:17:56.363417Z",
     "iopub.status.idle": "2022-03-29T02:17:56.369324Z",
     "shell.execute_reply": "2022-03-29T02:17:56.368485Z"
    }
   },
   "outputs": [
    {
     "name": "stdout",
     "output_type": "stream",
     "text": [
      "Writing timm_app.py\n"
     ]
    }
   ],
   "source": [
    "%%writefile timm_app.py\n",
    "\n",
    "import timm\n",
    "\n",
    "print(timm.models.resnet18())"
   ]
  },
  {
   "cell_type": "code",
   "execution_count": 12,
   "id": "a8a1ab87",
   "metadata": {
    "execution": {
     "iopub.execute_input": "2022-03-29T02:17:56.375884Z",
     "iopub.status.busy": "2022-03-29T02:17:56.375690Z",
     "iopub.status.idle": "2022-03-29T02:17:56.379914Z",
     "shell.execute_reply": "2022-03-29T02:17:56.379230Z"
    }
   },
   "outputs": [
    {
     "name": "stdout",
     "output_type": "stream",
     "text": [
      "Writing Dockerfile.torchx\n"
     ]
    }
   ],
   "source": [
    "%%writefile Dockerfile.torchx\n",
    "\n",
    "FROM pytorch/pytorch:1.10.0-cuda11.3-cudnn8-runtime\n",
    "\n",
    "RUN pip install timm\n",
    "\n",
    "COPY . ."
   ]
  },
  {
   "cell_type": "markdown",
   "id": "24b4b1b4",
   "metadata": {},
   "source": [
    "Once we have the Dockerfile created we can launch as normal and TorchX will\n",
    "automatically build the image with the newly provided Dockerfile instead of the\n",
    "default one."
   ]
  },
  {
   "cell_type": "code",
   "execution_count": 13,
   "id": "e5844603",
   "metadata": {
    "execution": {
     "iopub.execute_input": "2022-03-29T02:17:56.383824Z",
     "iopub.status.busy": "2022-03-29T02:17:56.383403Z",
     "iopub.status.idle": "2022-03-29T02:19:50.719752Z",
     "shell.execute_reply": "2022-03-29T02:19:50.718718Z"
    }
   },
   "outputs": [
    {
     "name": "stderr",
     "output_type": "stream",
     "text": [
      "torchx 2022-03-29 02:17:57 INFO     loaded configs from /home/runner/work/torchx/torchx/docs/source/.torchxconfig\n"
     ]
    },
    {
     "name": "stderr",
     "output_type": "stream",
     "text": [
      "torchx 2022-03-29 02:17:58 INFO     Building workspace: file:///home/runner/work/torchx/torchx/docs/source for role[0]: python, image: ghcr.io/pytorch/torchx:0.1.2\n"
     ]
    },
    {
     "name": "stderr",
     "output_type": "stream",
     "text": [
      "torchx 2022-03-29 02:19:46 INFO     Done building workspace\n"
     ]
    },
    {
     "name": "stderr",
     "output_type": "stream",
     "text": [
      "torchx 2022-03-29 02:19:46 INFO     New image: sha256:f612f877bb1f1626bcfea37d96de6dff5d9b0ad748da4c223baed35516f72c3e built from workspace\n"
     ]
    },
    {
     "name": "stderr",
     "output_type": "stream",
     "text": [
      "torchx 2022-03-29 02:19:48 INFO     Waiting for the app to finish...\n"
     ]
    },
    {
     "name": "stderr",
     "output_type": "stream",
     "text": [
      "python/0 ResNet(\n"
     ]
    },
    {
     "name": "stderr",
     "output_type": "stream",
     "text": [
      "python/0   (conv1): Conv2d(3, 64, kernel_size=(7, 7), stride=(2, 2), padding=(3, 3), bias=False)\n"
     ]
    },
    {
     "name": "stderr",
     "output_type": "stream",
     "text": [
      "python/0   (bn1): BatchNorm2d(64, eps=1e-05, momentum=0.1, affine=True, track_running_stats=True)\n"
     ]
    },
    {
     "name": "stderr",
     "output_type": "stream",
     "text": [
      "python/0   (act1): ReLU(inplace=True)\n"
     ]
    },
    {
     "name": "stderr",
     "output_type": "stream",
     "text": [
      "python/0   (maxpool): MaxPool2d(kernel_size=3, stride=2, padding=1, dilation=1, ceil_mode=False)\n"
     ]
    },
    {
     "name": "stderr",
     "output_type": "stream",
     "text": [
      "python/0   (layer1): Sequential(\n"
     ]
    },
    {
     "name": "stderr",
     "output_type": "stream",
     "text": [
      "python/0     (0): BasicBlock(\n"
     ]
    },
    {
     "name": "stderr",
     "output_type": "stream",
     "text": [
      "python/0       (conv1): Conv2d(64, 64, kernel_size=(3, 3), stride=(1, 1), padding=(1, 1), bias=False)\n"
     ]
    },
    {
     "name": "stderr",
     "output_type": "stream",
     "text": [
      "python/0       (bn1): BatchNorm2d(64, eps=1e-05, momentum=0.1, affine=True, track_running_stats=True)\n"
     ]
    },
    {
     "name": "stderr",
     "output_type": "stream",
     "text": [
      "python/0       (act1): ReLU(inplace=True)\n"
     ]
    },
    {
     "name": "stderr",
     "output_type": "stream",
     "text": [
      "python/0       (conv2): Conv2d(64, 64, kernel_size=(3, 3), stride=(1, 1), padding=(1, 1), bias=False)\n"
     ]
    },
    {
     "name": "stderr",
     "output_type": "stream",
     "text": [
      "python/0       (bn2): BatchNorm2d(64, eps=1e-05, momentum=0.1, affine=True, track_running_stats=True)\n"
     ]
    },
    {
     "name": "stderr",
     "output_type": "stream",
     "text": [
      "python/0       (act2): ReLU(inplace=True)\n"
     ]
    },
    {
     "name": "stderr",
     "output_type": "stream",
     "text": [
      "python/0     )\n"
     ]
    },
    {
     "name": "stderr",
     "output_type": "stream",
     "text": [
      "python/0     (1): BasicBlock(\n"
     ]
    },
    {
     "name": "stderr",
     "output_type": "stream",
     "text": [
      "python/0       (conv1): Conv2d(64, 64, kernel_size=(3, 3), stride=(1, 1), padding=(1, 1), bias=False)\n"
     ]
    },
    {
     "name": "stderr",
     "output_type": "stream",
     "text": [
      "python/0       (bn1): BatchNorm2d(64, eps=1e-05, momentum=0.1, affine=True, track_running_stats=True)\n"
     ]
    },
    {
     "name": "stderr",
     "output_type": "stream",
     "text": [
      "python/0       (act1): ReLU(inplace=True)\n"
     ]
    },
    {
     "name": "stderr",
     "output_type": "stream",
     "text": [
      "python/0       (conv2): Conv2d(64, 64, kernel_size=(3, 3), stride=(1, 1), padding=(1, 1), bias=False)\n"
     ]
    },
    {
     "name": "stderr",
     "output_type": "stream",
     "text": [
      "python/0       (bn2): BatchNorm2d(64, eps=1e-05, momentum=0.1, affine=True, track_running_stats=True)\n"
     ]
    },
    {
     "name": "stderr",
     "output_type": "stream",
     "text": [
      "python/0       (act2): ReLU(inplace=True)\n"
     ]
    },
    {
     "name": "stderr",
     "output_type": "stream",
     "text": [
      "python/0     )\n"
     ]
    },
    {
     "name": "stderr",
     "output_type": "stream",
     "text": [
      "python/0   )\n"
     ]
    },
    {
     "name": "stderr",
     "output_type": "stream",
     "text": [
      "python/0   (layer2): Sequential(\n"
     ]
    },
    {
     "name": "stderr",
     "output_type": "stream",
     "text": [
      "python/0     (0): BasicBlock(\n"
     ]
    },
    {
     "name": "stderr",
     "output_type": "stream",
     "text": [
      "python/0       (conv1): Conv2d(64, 128, kernel_size=(3, 3), stride=(2, 2), padding=(1, 1), bias=False)\n"
     ]
    },
    {
     "name": "stderr",
     "output_type": "stream",
     "text": [
      "python/0       (bn1): BatchNorm2d(128, eps=1e-05, momentum=0.1, affine=True, track_running_stats=True)\n"
     ]
    },
    {
     "name": "stderr",
     "output_type": "stream",
     "text": [
      "python/0       (act1): ReLU(inplace=True)\n"
     ]
    },
    {
     "name": "stderr",
     "output_type": "stream",
     "text": [
      "python/0       (conv2): Conv2d(128, 128, kernel_size=(3, 3), stride=(1, 1), padding=(1, 1), bias=False)\n"
     ]
    },
    {
     "name": "stderr",
     "output_type": "stream",
     "text": [
      "python/0       (bn2): BatchNorm2d(128, eps=1e-05, momentum=0.1, affine=True, track_running_stats=True)\n"
     ]
    },
    {
     "name": "stderr",
     "output_type": "stream",
     "text": [
      "python/0       (act2): ReLU(inplace=True)\n"
     ]
    },
    {
     "name": "stderr",
     "output_type": "stream",
     "text": [
      "python/0       (downsample): Sequential(\n"
     ]
    },
    {
     "name": "stderr",
     "output_type": "stream",
     "text": [
      "python/0         (0): Conv2d(64, 128, kernel_size=(1, 1), stride=(2, 2), bias=False)\n"
     ]
    },
    {
     "name": "stderr",
     "output_type": "stream",
     "text": [
      "python/0         (1): BatchNorm2d(128, eps=1e-05, momentum=0.1, affine=True, track_running_stats=True)\n"
     ]
    },
    {
     "name": "stderr",
     "output_type": "stream",
     "text": [
      "python/0       )\n"
     ]
    },
    {
     "name": "stderr",
     "output_type": "stream",
     "text": [
      "python/0     )\n"
     ]
    },
    {
     "name": "stderr",
     "output_type": "stream",
     "text": [
      "python/0     (1): BasicBlock(\n"
     ]
    },
    {
     "name": "stderr",
     "output_type": "stream",
     "text": [
      "python/0       (conv1): Conv2d(128, 128, kernel_size=(3, 3), stride=(1, 1), padding=(1, 1), bias=False)\n"
     ]
    },
    {
     "name": "stderr",
     "output_type": "stream",
     "text": [
      "python/0       (bn1): BatchNorm2d(128, eps=1e-05, momentum=0.1, affine=True, track_running_stats=True)\n"
     ]
    },
    {
     "name": "stderr",
     "output_type": "stream",
     "text": [
      "python/0       (act1): ReLU(inplace=True)\n"
     ]
    },
    {
     "name": "stderr",
     "output_type": "stream",
     "text": [
      "python/0       (conv2): Conv2d(128, 128, kernel_size=(3, 3), stride=(1, 1), padding=(1, 1), bias=False)\n"
     ]
    },
    {
     "name": "stderr",
     "output_type": "stream",
     "text": [
      "python/0       (bn2): BatchNorm2d(128, eps=1e-05, momentum=0.1, affine=True, track_running_stats=True)\n"
     ]
    },
    {
     "name": "stderr",
     "output_type": "stream",
     "text": [
      "python/0       (act2): ReLU(inplace=True)\n"
     ]
    },
    {
     "name": "stderr",
     "output_type": "stream",
     "text": [
      "python/0     )\n"
     ]
    },
    {
     "name": "stderr",
     "output_type": "stream",
     "text": [
      "python/0   )\n"
     ]
    },
    {
     "name": "stderr",
     "output_type": "stream",
     "text": [
      "python/0   (layer3): Sequential(\n"
     ]
    },
    {
     "name": "stderr",
     "output_type": "stream",
     "text": [
      "python/0     (0): BasicBlock(\n"
     ]
    },
    {
     "name": "stderr",
     "output_type": "stream",
     "text": [
      "python/0       (conv1): Conv2d(128, 256, kernel_size=(3, 3), stride=(2, 2), padding=(1, 1), bias=False)\n"
     ]
    },
    {
     "name": "stderr",
     "output_type": "stream",
     "text": [
      "python/0       (bn1): BatchNorm2d(256, eps=1e-05, momentum=0.1, affine=True, track_running_stats=True)\n"
     ]
    },
    {
     "name": "stderr",
     "output_type": "stream",
     "text": [
      "python/0       (act1): ReLU(inplace=True)\n"
     ]
    },
    {
     "name": "stderr",
     "output_type": "stream",
     "text": [
      "python/0       (conv2): Conv2d(256, 256, kernel_size=(3, 3), stride=(1, 1), padding=(1, 1), bias=False)\n"
     ]
    },
    {
     "name": "stderr",
     "output_type": "stream",
     "text": [
      "python/0       (bn2): BatchNorm2d(256, eps=1e-05, momentum=0.1, affine=True, track_running_stats=True)\n"
     ]
    },
    {
     "name": "stderr",
     "output_type": "stream",
     "text": [
      "python/0       (act2): ReLU(inplace=True)\n"
     ]
    },
    {
     "name": "stderr",
     "output_type": "stream",
     "text": [
      "python/0       (downsample): Sequential(\n"
     ]
    },
    {
     "name": "stderr",
     "output_type": "stream",
     "text": [
      "python/0         (0): Conv2d(128, 256, kernel_size=(1, 1), stride=(2, 2), bias=False)\n"
     ]
    },
    {
     "name": "stderr",
     "output_type": "stream",
     "text": [
      "python/0         (1): BatchNorm2d(256, eps=1e-05, momentum=0.1, affine=True, track_running_stats=True)\n"
     ]
    },
    {
     "name": "stderr",
     "output_type": "stream",
     "text": [
      "python/0       )\n"
     ]
    },
    {
     "name": "stderr",
     "output_type": "stream",
     "text": [
      "python/0     )\n"
     ]
    },
    {
     "name": "stderr",
     "output_type": "stream",
     "text": [
      "python/0     (1): BasicBlock(\n"
     ]
    },
    {
     "name": "stderr",
     "output_type": "stream",
     "text": [
      "python/0       (conv1): Conv2d(256, 256, kernel_size=(3, 3), stride=(1, 1), padding=(1, 1), bias=False)\n"
     ]
    },
    {
     "name": "stderr",
     "output_type": "stream",
     "text": [
      "python/0       (bn1): BatchNorm2d(256, eps=1e-05, momentum=0.1, affine=True, track_running_stats=True)\n"
     ]
    },
    {
     "name": "stderr",
     "output_type": "stream",
     "text": [
      "python/0       (act1): ReLU(inplace=True)\n"
     ]
    },
    {
     "name": "stderr",
     "output_type": "stream",
     "text": [
      "python/0       (conv2): Conv2d(256, 256, kernel_size=(3, 3), stride=(1, 1), padding=(1, 1), bias=False)\n"
     ]
    },
    {
     "name": "stderr",
     "output_type": "stream",
     "text": [
      "python/0       (bn2): BatchNorm2d(256, eps=1e-05, momentum=0.1, affine=True, track_running_stats=True)\n"
     ]
    },
    {
     "name": "stderr",
     "output_type": "stream",
     "text": [
      "python/0       (act2): ReLU(inplace=True)\n"
     ]
    },
    {
     "name": "stderr",
     "output_type": "stream",
     "text": [
      "python/0     )\n"
     ]
    },
    {
     "name": "stderr",
     "output_type": "stream",
     "text": [
      "python/0   )\n"
     ]
    },
    {
     "name": "stderr",
     "output_type": "stream",
     "text": [
      "python/0   (layer4): Sequential(\n"
     ]
    },
    {
     "name": "stderr",
     "output_type": "stream",
     "text": [
      "python/0     (0): BasicBlock(\n"
     ]
    },
    {
     "name": "stderr",
     "output_type": "stream",
     "text": [
      "python/0       (conv1): Conv2d(256, 512, kernel_size=(3, 3), stride=(2, 2), padding=(1, 1), bias=False)\n"
     ]
    },
    {
     "name": "stderr",
     "output_type": "stream",
     "text": [
      "python/0       (bn1): BatchNorm2d(512, eps=1e-05, momentum=0.1, affine=True, track_running_stats=True)\n"
     ]
    },
    {
     "name": "stderr",
     "output_type": "stream",
     "text": [
      "python/0       (act1): ReLU(inplace=True)\n"
     ]
    },
    {
     "name": "stderr",
     "output_type": "stream",
     "text": [
      "python/0       (conv2): Conv2d(512, 512, kernel_size=(3, 3), stride=(1, 1), padding=(1, 1), bias=False)\n"
     ]
    },
    {
     "name": "stderr",
     "output_type": "stream",
     "text": [
      "python/0       (bn2): BatchNorm2d(512, eps=1e-05, momentum=0.1, affine=True, track_running_stats=True)\n"
     ]
    },
    {
     "name": "stderr",
     "output_type": "stream",
     "text": [
      "python/0       (act2): ReLU(inplace=True)\n"
     ]
    },
    {
     "name": "stderr",
     "output_type": "stream",
     "text": [
      "python/0       (downsample): Sequential(\n"
     ]
    },
    {
     "name": "stderr",
     "output_type": "stream",
     "text": [
      "python/0         (0): Conv2d(256, 512, kernel_size=(1, 1), stride=(2, 2), bias=False)\n"
     ]
    },
    {
     "name": "stderr",
     "output_type": "stream",
     "text": [
      "python/0         (1): BatchNorm2d(512, eps=1e-05, momentum=0.1, affine=True, track_running_stats=True)\n"
     ]
    },
    {
     "name": "stderr",
     "output_type": "stream",
     "text": [
      "python/0       )\n"
     ]
    },
    {
     "name": "stderr",
     "output_type": "stream",
     "text": [
      "python/0     )\n"
     ]
    },
    {
     "name": "stderr",
     "output_type": "stream",
     "text": [
      "python/0     (1): BasicBlock(\n"
     ]
    },
    {
     "name": "stderr",
     "output_type": "stream",
     "text": [
      "python/0       (conv1): Conv2d(512, 512, kernel_size=(3, 3), stride=(1, 1), padding=(1, 1), bias=False)\n"
     ]
    },
    {
     "name": "stderr",
     "output_type": "stream",
     "text": [
      "python/0       (bn1): BatchNorm2d(512, eps=1e-05, momentum=0.1, affine=True, track_running_stats=True)\n"
     ]
    },
    {
     "name": "stderr",
     "output_type": "stream",
     "text": [
      "python/0       (act1): ReLU(inplace=True)\n"
     ]
    },
    {
     "name": "stderr",
     "output_type": "stream",
     "text": [
      "python/0       (conv2): Conv2d(512, 512, kernel_size=(3, 3), stride=(1, 1), padding=(1, 1), bias=False)\n"
     ]
    },
    {
     "name": "stderr",
     "output_type": "stream",
     "text": [
      "python/0       (bn2): BatchNorm2d(512, eps=1e-05, momentum=0.1, affine=True, track_running_stats=True)\n"
     ]
    },
    {
     "name": "stderr",
     "output_type": "stream",
     "text": [
      "python/0       (act2): ReLU(inplace=True)\n"
     ]
    },
    {
     "name": "stderr",
     "output_type": "stream",
     "text": [
      "python/0     )\n"
     ]
    },
    {
     "name": "stderr",
     "output_type": "stream",
     "text": [
      "python/0   )\n"
     ]
    },
    {
     "name": "stderr",
     "output_type": "stream",
     "text": [
      "python/0   (global_pool): SelectAdaptivePool2d (pool_type=avg, flatten=Flatten(start_dim=1, end_dim=-1))\n"
     ]
    },
    {
     "name": "stderr",
     "output_type": "stream",
     "text": [
      "python/0   (fc): Linear(in_features=512, out_features=1000, bias=True)\n"
     ]
    },
    {
     "name": "stderr",
     "output_type": "stream",
     "text": [
      "python/0 )\n"
     ]
    },
    {
     "name": "stderr",
     "output_type": "stream",
     "text": [
      "torchx 2022-03-29 02:19:50 INFO     Job finished: SUCCEEDED\n"
     ]
    },
    {
     "name": "stdout",
     "output_type": "stream",
     "text": [
      "local_docker://torchx/torchx_utils_python-f5xdxmwft2jm6\n"
     ]
    }
   ],
   "source": [
    "%%sh\n",
    "torchx run --scheduler local_docker utils.python --script timm_app.py \"your name\""
   ]
  },
  {
   "cell_type": "markdown",
   "id": "01ca9d57",
   "metadata": {},
   "source": [
    "### Slurm\n",
    "\n",
    "The `slurm` and `local_cwd` use the current environment so you can use `pip` and\n",
    "`conda` as normal."
   ]
  },
  {
   "cell_type": "markdown",
   "id": "8999a38e",
   "metadata": {},
   "source": [
    "## Next Steps\n",
    "\n",
    "1. Checkout other features of the [torchx CLI](cli.rst)\n",
    "2. Take a look at the [list of schedulers](schedulers.rst) supported by the runner\n",
    "3. Browse through the collection of [builtin components](components/overview.rst)\n",
    "4. See which [ML pipeline platforms](pipelines.rst) you can run components on\n",
    "5. See a [training app example](examples_apps/index.rst)"
   ]
  }
 ],
 "metadata": {
  "jupytext": {
   "text_representation": {
    "extension": ".md",
    "format_name": "markdown",
    "format_version": "1.1",
    "jupytext_version": "1.1.0"
   }
  },
  "kernelspec": {
   "display_name": "Python 3",
   "language": "python",
   "name": "python3"
  },
  "language_info": {
   "codemirror_mode": {
    "name": "ipython",
    "version": 3
   },
   "file_extension": ".py",
   "mimetype": "text/x-python",
   "name": "python",
   "nbconvert_exporter": "python",
   "pygments_lexer": "ipython3",
   "version": "3.8.12"
  }
 },
 "nbformat": 4,
 "nbformat_minor": 5
}
