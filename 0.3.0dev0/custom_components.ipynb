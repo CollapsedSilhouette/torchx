{
 "cells": [
  {
   "cell_type": "markdown",
   "id": "c22966df",
   "metadata": {},
   "source": [
    "# Custom Components\n",
    "\n",
    "This is a guide on how to build a simple app and custom component spec\n",
    "and launch it via two different schedulers.\n",
    "\n",
    "See the [Quickstart Guide](quickstart.md) for installation and basic usage.\n",
    "\n",
    "## Hello World\n",
    "\n",
    "Lets start off with writing a simple \"Hello World\" python app. This is just a\n",
    "normal python program and can contain anything you'd like.\n",
    "\n",
    "<div class=\"admonition note\">\n",
    "<div class=\"admonition-title\">Note</div>\n",
    "This example uses Jupyter Notebook `%%writefile` to create local files for\n",
    "example purposes. Under normal usage you would have these as standalone files.\n",
    "</div>"
   ]
  },
  {
   "cell_type": "code",
   "execution_count": 1,
   "id": "f3b295fe",
   "metadata": {
    "execution": {
     "iopub.execute_input": "2022-06-16T01:30:48.803159Z",
     "iopub.status.busy": "2022-06-16T01:30:48.802831Z",
     "iopub.status.idle": "2022-06-16T01:30:48.812808Z",
     "shell.execute_reply": "2022-06-16T01:30:48.812115Z"
    }
   },
   "outputs": [
    {
     "name": "stdout",
     "output_type": "stream",
     "text": [
      "Writing my_app.py\n"
     ]
    }
   ],
   "source": [
    "%%writefile my_app.py\n",
    "\n",
    "import sys\n",
    "import argparse\n",
    "\n",
    "def main(user: str) -> None:\n",
    "    print(f\"Hello, {user}!\")\n",
    "\n",
    "if __name__ == \"__main__\":\n",
    "    parser = argparse.ArgumentParser(\n",
    "        description=\"Hello world app\"\n",
    "    )\n",
    "    parser.add_argument(\n",
    "        \"--user\",\n",
    "        type=str,\n",
    "        help=\"the person to greet\",\n",
    "        required=True,\n",
    "    )\n",
    "    args = parser.parse_args(sys.argv[1:])\n",
    "\n",
    "    main(args.user)"
   ]
  },
  {
   "cell_type": "markdown",
   "id": "147cc547",
   "metadata": {},
   "source": [
    "Now that we have an app we can write the component file for it. This\n",
    "function allows us to reuse and share our app in a user friendly way.\n",
    "\n",
    "We can use this component from the `torchx` cli or programmatically as part of a\n",
    "pipeline."
   ]
  },
  {
   "cell_type": "code",
   "execution_count": 2,
   "id": "8b22995f",
   "metadata": {
    "execution": {
     "iopub.execute_input": "2022-06-16T01:30:48.816641Z",
     "iopub.status.busy": "2022-06-16T01:30:48.816414Z",
     "iopub.status.idle": "2022-06-16T01:30:48.820720Z",
     "shell.execute_reply": "2022-06-16T01:30:48.820039Z"
    }
   },
   "outputs": [
    {
     "name": "stdout",
     "output_type": "stream",
     "text": [
      "Writing my_component.py\n"
     ]
    }
   ],
   "source": [
    "%%writefile my_component.py\n",
    "\n",
    "import torchx.specs as specs\n",
    "\n",
    "def greet(user: str, image: str = \"my_app:latest\") -> specs.AppDef:\n",
    "    return specs.AppDef(\n",
    "        name=\"hello_world\",\n",
    "        roles=[\n",
    "            specs.Role(\n",
    "                name=\"greeter\",\n",
    "                image=image,\n",
    "                entrypoint=\"python\",\n",
    "                args=[\n",
    "                    \"-m\", \"my_app\",\n",
    "                    \"--user\", user,\n",
    "                ],\n",
    "            )\n",
    "        ],\n",
    "    )"
   ]
  },
  {
   "cell_type": "markdown",
   "id": "507997f6",
   "metadata": {},
   "source": [
    "We can execute our component via `torchx run`. The\n",
    "`local_cwd` scheduler executes the component relative to the current directory."
   ]
  },
  {
   "cell_type": "code",
   "execution_count": 3,
   "id": "fa8cfd66",
   "metadata": {
    "execution": {
     "iopub.execute_input": "2022-06-16T01:30:48.824705Z",
     "iopub.status.busy": "2022-06-16T01:30:48.824402Z",
     "iopub.status.idle": "2022-06-16T01:30:51.467589Z",
     "shell.execute_reply": "2022-06-16T01:30:51.466784Z"
    }
   },
   "outputs": [
    {
     "name": "stderr",
     "output_type": "stream",
     "text": [
      "torchx 2022-06-16 01:30:49 INFO     Log directory not set in scheduler cfg. Creating a temporary log dir that will be deleted on exit. To preserve log directory set the `log_dir` cfg option\n"
     ]
    },
    {
     "name": "stderr",
     "output_type": "stream",
     "text": [
      "torchx 2022-06-16 01:30:49 INFO     Log directory is: /tmp/torchx_cdcekmg1\n"
     ]
    },
    {
     "name": "stderr",
     "output_type": "stream",
     "text": [
      "torchx 2022-06-16 01:30:50 INFO     Waiting for the app to finish...\n"
     ]
    },
    {
     "name": "stderr",
     "output_type": "stream",
     "text": [
      "greeter/0 Hello, your name!\n"
     ]
    },
    {
     "name": "stderr",
     "output_type": "stream",
     "text": [
      "torchx 2022-06-16 01:30:51 INFO     Job finished: SUCCEEDED\n"
     ]
    },
    {
     "name": "stdout",
     "output_type": "stream",
     "text": [
      "local_cwd://torchx/hello_world-vfc3qftz3qrb0\n"
     ]
    }
   ],
   "source": [
    "%%sh\n",
    "torchx run --scheduler local_cwd my_component.py:greet --user \"your name\""
   ]
  },
  {
   "cell_type": "markdown",
   "id": "1d83118d",
   "metadata": {},
   "source": [
    "If we want to run in other environments, we can build a Docker container so we\n",
    "can run our component in Docker enabled environments such as Kubernetes or via\n",
    "the local Docker scheduler.\n",
    "\n",
    "<div class=\"admonition note\">\n",
    "<div class=\"admonition-title\">Note</div>\n",
    "This requires Docker installed and won't work in environments such as Google\n",
    "Colab. If you have not done so already follow the install instructions on:\n",
    "[https://docs.docker.com/get-docker/](https://docs.docker.com/get-docker/)</a>\n",
    "</div>"
   ]
  },
  {
   "cell_type": "code",
   "execution_count": 4,
   "id": "c7ea61cc",
   "metadata": {
    "execution": {
     "iopub.execute_input": "2022-06-16T01:30:51.471484Z",
     "iopub.status.busy": "2022-06-16T01:30:51.471225Z",
     "iopub.status.idle": "2022-06-16T01:30:51.475629Z",
     "shell.execute_reply": "2022-06-16T01:30:51.474976Z"
    }
   },
   "outputs": [
    {
     "name": "stdout",
     "output_type": "stream",
     "text": [
      "Writing Dockerfile.custom\n"
     ]
    }
   ],
   "source": [
    "%%writefile Dockerfile.custom\n",
    "\n",
    "FROM ghcr.io/pytorch/torchx:0.1.0rc1\n",
    "\n",
    "ADD my_app.py ."
   ]
  },
  {
   "cell_type": "markdown",
   "id": "08d27e19",
   "metadata": {},
   "source": [
    "Once we have the Dockerfile created we can create our docker image."
   ]
  },
  {
   "cell_type": "code",
   "execution_count": 5,
   "id": "79db6272",
   "metadata": {
    "execution": {
     "iopub.execute_input": "2022-06-16T01:30:51.479317Z",
     "iopub.status.busy": "2022-06-16T01:30:51.478986Z",
     "iopub.status.idle": "2022-06-16T01:32:50.078574Z",
     "shell.execute_reply": "2022-06-16T01:32:50.077890Z"
    }
   },
   "outputs": [
    {
     "name": "stdout",
     "output_type": "stream",
     "text": [
      "Sending build context to Docker daemon  21.42MB\r",
      "\r\n"
     ]
    },
    {
     "name": "stdout",
     "output_type": "stream",
     "text": [
      "Step 1/2 : FROM ghcr.io/pytorch/torchx:0.1.0rc1\n"
     ]
    },
    {
     "name": "stdout",
     "output_type": "stream",
     "text": [
      "0.1.0rc1: Pulling from pytorch/torchx\n"
     ]
    },
    {
     "name": "stdout",
     "output_type": "stream",
     "text": [
      "4bbfd2c87b75: Pulling fs layer\n"
     ]
    },
    {
     "name": "stdout",
     "output_type": "stream",
     "text": [
      "d2e110be24e1: Pulling fs layer\n"
     ]
    },
    {
     "name": "stdout",
     "output_type": "stream",
     "text": [
      "889a7173dcfe: Pulling fs layer\n"
     ]
    },
    {
     "name": "stdout",
     "output_type": "stream",
     "text": [
      "6009a622672a: Pulling fs layer\n"
     ]
    },
    {
     "name": "stdout",
     "output_type": "stream",
     "text": [
      "143f80195431: Pulling fs layer\n"
     ]
    },
    {
     "name": "stdout",
     "output_type": "stream",
     "text": [
      "eccbe17c44e1: Pulling fs layer\n"
     ]
    },
    {
     "name": "stdout",
     "output_type": "stream",
     "text": [
      "d4c7af0d4fa7: Pulling fs layer\n"
     ]
    },
    {
     "name": "stdout",
     "output_type": "stream",
     "text": [
      "06b5edd6bf52: Pulling fs layer\n"
     ]
    },
    {
     "name": "stdout",
     "output_type": "stream",
     "text": [
      "f18d016c4ccc: Pulling fs layer\n"
     ]
    },
    {
     "name": "stdout",
     "output_type": "stream",
     "text": [
      "c0ad16d9fa05: Pulling fs layer\n"
     ]
    },
    {
     "name": "stdout",
     "output_type": "stream",
     "text": [
      "30587ba7fd6b: Pulling fs layer\n"
     ]
    },
    {
     "name": "stdout",
     "output_type": "stream",
     "text": [
      "909695be1d50: Pulling fs layer\n"
     ]
    },
    {
     "name": "stdout",
     "output_type": "stream",
     "text": [
      "f119a6d0a466: Pulling fs layer\n"
     ]
    },
    {
     "name": "stdout",
     "output_type": "stream",
     "text": [
      "88d87059c913: Pulling fs layer\n"
     ]
    },
    {
     "name": "stdout",
     "output_type": "stream",
     "text": [
      "6009a622672a: Waiting\n"
     ]
    },
    {
     "name": "stdout",
     "output_type": "stream",
     "text": [
      "143f80195431: Waiting\n"
     ]
    },
    {
     "name": "stdout",
     "output_type": "stream",
     "text": [
      "eccbe17c44e1: Waiting\n"
     ]
    },
    {
     "name": "stdout",
     "output_type": "stream",
     "text": [
      "d4c7af0d4fa7: Waiting\n"
     ]
    },
    {
     "name": "stdout",
     "output_type": "stream",
     "text": [
      "06b5edd6bf52: Waiting\n"
     ]
    },
    {
     "name": "stdout",
     "output_type": "stream",
     "text": [
      "f18d016c4ccc: Waiting\n"
     ]
    },
    {
     "name": "stdout",
     "output_type": "stream",
     "text": [
      "c0ad16d9fa05: Waiting\n"
     ]
    },
    {
     "name": "stdout",
     "output_type": "stream",
     "text": [
      "30587ba7fd6b: Waiting\n"
     ]
    },
    {
     "name": "stdout",
     "output_type": "stream",
     "text": [
      "909695be1d50: Waiting\n"
     ]
    },
    {
     "name": "stdout",
     "output_type": "stream",
     "text": [
      "88d87059c913: Waiting\n"
     ]
    },
    {
     "name": "stdout",
     "output_type": "stream",
     "text": [
      "f119a6d0a466: Waiting\n"
     ]
    },
    {
     "name": "stdout",
     "output_type": "stream",
     "text": [
      "d2e110be24e1: Verifying Checksum\n"
     ]
    },
    {
     "name": "stdout",
     "output_type": "stream",
     "text": [
      "d2e110be24e1: Download complete\n"
     ]
    },
    {
     "name": "stdout",
     "output_type": "stream",
     "text": [
      "889a7173dcfe: Verifying Checksum\n"
     ]
    },
    {
     "name": "stdout",
     "output_type": "stream",
     "text": [
      "889a7173dcfe: Download complete\n"
     ]
    },
    {
     "name": "stdout",
     "output_type": "stream",
     "text": [
      "4bbfd2c87b75: Verifying Checksum\n"
     ]
    },
    {
     "name": "stdout",
     "output_type": "stream",
     "text": [
      "4bbfd2c87b75: Download complete\n"
     ]
    },
    {
     "name": "stdout",
     "output_type": "stream",
     "text": [
      "6009a622672a: Verifying Checksum\n"
     ]
    },
    {
     "name": "stdout",
     "output_type": "stream",
     "text": [
      "6009a622672a: Download complete\n"
     ]
    },
    {
     "name": "stdout",
     "output_type": "stream",
     "text": [
      "eccbe17c44e1: Verifying Checksum\n"
     ]
    },
    {
     "name": "stdout",
     "output_type": "stream",
     "text": [
      "eccbe17c44e1: Download complete\n"
     ]
    },
    {
     "name": "stdout",
     "output_type": "stream",
     "text": [
      "06b5edd6bf52: Verifying Checksum\n"
     ]
    },
    {
     "name": "stdout",
     "output_type": "stream",
     "text": [
      "06b5edd6bf52: Download complete\n"
     ]
    },
    {
     "name": "stdout",
     "output_type": "stream",
     "text": [
      "d4c7af0d4fa7: Verifying Checksum\n"
     ]
    },
    {
     "name": "stdout",
     "output_type": "stream",
     "text": [
      "d4c7af0d4fa7: Download complete\n"
     ]
    },
    {
     "name": "stdout",
     "output_type": "stream",
     "text": [
      "c0ad16d9fa05: Verifying Checksum\n"
     ]
    },
    {
     "name": "stdout",
     "output_type": "stream",
     "text": [
      "c0ad16d9fa05: Download complete\n"
     ]
    },
    {
     "name": "stdout",
     "output_type": "stream",
     "text": [
      "30587ba7fd6b: Verifying Checksum\n"
     ]
    },
    {
     "name": "stdout",
     "output_type": "stream",
     "text": [
      "30587ba7fd6b: Download complete\n"
     ]
    },
    {
     "name": "stdout",
     "output_type": "stream",
     "text": [
      "909695be1d50: Verifying Checksum\n"
     ]
    },
    {
     "name": "stdout",
     "output_type": "stream",
     "text": [
      "909695be1d50: Download complete\n"
     ]
    },
    {
     "name": "stdout",
     "output_type": "stream",
     "text": [
      "f119a6d0a466: Verifying Checksum\n"
     ]
    },
    {
     "name": "stdout",
     "output_type": "stream",
     "text": [
      "f119a6d0a466: Download complete\n"
     ]
    },
    {
     "name": "stdout",
     "output_type": "stream",
     "text": [
      "4bbfd2c87b75: Pull complete\n"
     ]
    },
    {
     "name": "stdout",
     "output_type": "stream",
     "text": [
      "88d87059c913: Verifying Checksum\n"
     ]
    },
    {
     "name": "stdout",
     "output_type": "stream",
     "text": [
      "88d87059c913: Download complete\n"
     ]
    },
    {
     "name": "stdout",
     "output_type": "stream",
     "text": [
      "143f80195431: Verifying Checksum\n"
     ]
    },
    {
     "name": "stdout",
     "output_type": "stream",
     "text": [
      "143f80195431: Download complete\n"
     ]
    },
    {
     "name": "stdout",
     "output_type": "stream",
     "text": [
      "f18d016c4ccc: Verifying Checksum\n"
     ]
    },
    {
     "name": "stdout",
     "output_type": "stream",
     "text": [
      "f18d016c4ccc: Download complete\n"
     ]
    },
    {
     "name": "stdout",
     "output_type": "stream",
     "text": [
      "d2e110be24e1: Pull complete\n"
     ]
    },
    {
     "name": "stdout",
     "output_type": "stream",
     "text": [
      "889a7173dcfe: Pull complete\n"
     ]
    },
    {
     "name": "stdout",
     "output_type": "stream",
     "text": [
      "6009a622672a: Pull complete\n"
     ]
    },
    {
     "name": "stdout",
     "output_type": "stream",
     "text": [
      "143f80195431: Pull complete\n"
     ]
    },
    {
     "name": "stdout",
     "output_type": "stream",
     "text": [
      "eccbe17c44e1: Pull complete\n"
     ]
    },
    {
     "name": "stdout",
     "output_type": "stream",
     "text": [
      "d4c7af0d4fa7: Pull complete\n"
     ]
    },
    {
     "name": "stdout",
     "output_type": "stream",
     "text": [
      "06b5edd6bf52: Pull complete\n"
     ]
    },
    {
     "name": "stdout",
     "output_type": "stream",
     "text": [
      "f18d016c4ccc: Pull complete\n"
     ]
    },
    {
     "name": "stdout",
     "output_type": "stream",
     "text": [
      "c0ad16d9fa05: Pull complete\n"
     ]
    },
    {
     "name": "stdout",
     "output_type": "stream",
     "text": [
      "30587ba7fd6b: Pull complete\n"
     ]
    },
    {
     "name": "stdout",
     "output_type": "stream",
     "text": [
      "909695be1d50: Pull complete\n"
     ]
    },
    {
     "name": "stdout",
     "output_type": "stream",
     "text": [
      "f119a6d0a466: Pull complete\n"
     ]
    },
    {
     "name": "stdout",
     "output_type": "stream",
     "text": [
      "88d87059c913: Pull complete\n"
     ]
    },
    {
     "name": "stdout",
     "output_type": "stream",
     "text": [
      "Digest: sha256:a738949601d82e7f100fa1efeb8dde0c35ce44c66726cf38596f96d78dcd7ad3\n"
     ]
    },
    {
     "name": "stdout",
     "output_type": "stream",
     "text": [
      "Status: Downloaded newer image for ghcr.io/pytorch/torchx:0.1.0rc1\n"
     ]
    },
    {
     "name": "stdout",
     "output_type": "stream",
     "text": [
      " ---> 3dbec59e8049\n"
     ]
    },
    {
     "name": "stdout",
     "output_type": "stream",
     "text": [
      "Step 2/2 : ADD my_app.py .\n"
     ]
    },
    {
     "name": "stdout",
     "output_type": "stream",
     "text": [
      " ---> 020d8ed7fed3\n"
     ]
    },
    {
     "name": "stdout",
     "output_type": "stream",
     "text": [
      "Successfully built 020d8ed7fed3\n"
     ]
    },
    {
     "name": "stdout",
     "output_type": "stream",
     "text": [
      "Successfully tagged my_app:latest\n"
     ]
    }
   ],
   "source": [
    "%%sh\n",
    "docker build -t my_app:latest -f Dockerfile.custom ."
   ]
  },
  {
   "cell_type": "markdown",
   "id": "1c26ccae",
   "metadata": {},
   "source": [
    "We can then launch it on the local scheduler."
   ]
  },
  {
   "cell_type": "code",
   "execution_count": 6,
   "id": "01b4dccf",
   "metadata": {
    "execution": {
     "iopub.execute_input": "2022-06-16T01:32:50.082278Z",
     "iopub.status.busy": "2022-06-16T01:32:50.082040Z",
     "iopub.status.idle": "2022-06-16T01:33:00.860932Z",
     "shell.execute_reply": "2022-06-16T01:33:00.860061Z"
    }
   },
   "outputs": [
    {
     "name": "stderr",
     "output_type": "stream",
     "text": [
      "torchx 2022-06-16 01:32:51 INFO     Checking for changes in workspace `file:///home/runner/work/torchx/torchx/docs/source`...\n"
     ]
    },
    {
     "name": "stderr",
     "output_type": "stream",
     "text": [
      "torchx 2022-06-16 01:32:51 INFO     To disable workspaces pass: --workspace=\"\" from CLI or workspace=None programmatically.\n"
     ]
    },
    {
     "name": "stderr",
     "output_type": "stream",
     "text": [
      "torchx 2022-06-16 01:32:51 WARNING  failed to pull image my_app:latest, falling back to local: 404 Client Error for http+docker://localhost/v1.41/images/create?tag=latest&fromImage=my_app: Not Found (\"pull access denied for my_app, repository does not exist or may require 'docker login': denied: requested access to the resource is denied\")\n"
     ]
    },
    {
     "name": "stderr",
     "output_type": "stream",
     "text": [
      "torchx 2022-06-16 01:32:58 INFO     Built new image `sha256:3ccef0efe45158a1910756bdbaac431685ded8216b087fc6eff8a4961c2653c7` based on original image `my_app:latest` and changes in workspace `file:///home/runner/work/torchx/torchx/docs/source` for role[0]=greeter.\n"
     ]
    },
    {
     "name": "stderr",
     "output_type": "stream",
     "text": [
      "torchx 2022-06-16 01:32:59 INFO     Waiting for the app to finish...\n"
     ]
    },
    {
     "name": "stderr",
     "output_type": "stream",
     "text": [
      "greeter/0 Hello, your name!\n"
     ]
    },
    {
     "name": "stderr",
     "output_type": "stream",
     "text": [
      "torchx 2022-06-16 01:33:00 INFO     Job finished: SUCCEEDED\n"
     ]
    },
    {
     "name": "stdout",
     "output_type": "stream",
     "text": [
      "local_docker://torchx/hello_world-b7whsmhpn6xfc\n"
     ]
    }
   ],
   "source": [
    "%%sh\n",
    "torchx run --scheduler local_docker my_component.py:greet --image \"my_app:latest\" --user \"your name\""
   ]
  },
  {
   "cell_type": "markdown",
   "id": "137a6e9c",
   "metadata": {},
   "source": [
    "If you have a Kubernetes cluster you can use the [Kubernetes scheduler](schedulers/kubernetes.rst) to launch\n",
    "this on the cluster instead.\n"
   ]
  },
  {
   "cell_type": "markdown",
   "id": "298d7376",
   "metadata": {
    "lines_to_next_cell": 2,
    "region_name": "md"
   },
   "source": [
    "```sh\n",
    "$ docker push my_app:latest\n",
    "$ torchx run --scheduler kubernetes my_component.py:greet --image \"my_app:latest\" --user \"your name\"\n",
    "```"
   ]
  },
  {
   "cell_type": "markdown",
   "id": "69a30680",
   "metadata": {},
   "source": [
    "## Builtins\n",
    "\n",
    "TorchX also provides a number of builtin components with premade images. You can discover\n",
    "them via:"
   ]
  },
  {
   "cell_type": "code",
   "execution_count": 7,
   "id": "341d4cb6",
   "metadata": {
    "execution": {
     "iopub.execute_input": "2022-06-16T01:33:00.866097Z",
     "iopub.status.busy": "2022-06-16T01:33:00.865435Z",
     "iopub.status.idle": "2022-06-16T01:33:02.572513Z",
     "shell.execute_reply": "2022-06-16T01:33:02.571621Z"
    }
   },
   "outputs": [
    {
     "name": "stdout",
     "output_type": "stream",
     "text": [
      "Found 10 builtin components:\n"
     ]
    },
    {
     "name": "stdout",
     "output_type": "stream",
     "text": [
      "  1. dist.ddp\n"
     ]
    },
    {
     "name": "stdout",
     "output_type": "stream",
     "text": [
      "  2. metrics.tensorboard\n"
     ]
    },
    {
     "name": "stdout",
     "output_type": "stream",
     "text": [
      "  3. serve.torchserve\n"
     ]
    },
    {
     "name": "stdout",
     "output_type": "stream",
     "text": [
      "  4. utils.binary\n"
     ]
    },
    {
     "name": "stdout",
     "output_type": "stream",
     "text": [
      "  5. utils.booth\n"
     ]
    },
    {
     "name": "stdout",
     "output_type": "stream",
     "text": [
      "  6. utils.copy\n"
     ]
    },
    {
     "name": "stdout",
     "output_type": "stream",
     "text": [
      "  7. utils.echo\n"
     ]
    },
    {
     "name": "stdout",
     "output_type": "stream",
     "text": [
      "  8. utils.python\n"
     ]
    },
    {
     "name": "stdout",
     "output_type": "stream",
     "text": [
      "  9. utils.sh\n"
     ]
    },
    {
     "name": "stdout",
     "output_type": "stream",
     "text": [
      " 10. utils.touch\n"
     ]
    }
   ],
   "source": [
    "%%sh\n",
    "torchx builtins"
   ]
  },
  {
   "cell_type": "markdown",
   "id": "110e165c",
   "metadata": {},
   "source": [
    "You can use these either from the CLI, from a pipeline or programmatically like\n",
    "you would any other component."
   ]
  },
  {
   "cell_type": "code",
   "execution_count": 8,
   "id": "eb1b63b4",
   "metadata": {
    "execution": {
     "iopub.execute_input": "2022-06-16T01:33:02.576669Z",
     "iopub.status.busy": "2022-06-16T01:33:02.576287Z",
     "iopub.status.idle": "2022-06-16T01:34:52.968643Z",
     "shell.execute_reply": "2022-06-16T01:34:52.967697Z"
    }
   },
   "outputs": [
    {
     "name": "stderr",
     "output_type": "stream",
     "text": [
      "torchx 2022-06-16 01:33:04 INFO     Checking for changes in workspace `file:///home/runner/work/torchx/torchx/docs/source`...\n"
     ]
    },
    {
     "name": "stderr",
     "output_type": "stream",
     "text": [
      "torchx 2022-06-16 01:33:04 INFO     To disable workspaces pass: --workspace=\"\" from CLI or workspace=None programmatically.\n"
     ]
    },
    {
     "name": "stderr",
     "output_type": "stream",
     "text": [
      "torchx 2022-06-16 01:34:50 INFO     Built new image `sha256:9e7fa455e0bfde091c7636f0181a232e36e2aee6af908e6342073ef1685d9b75` based on original image `ghcr.io/pytorch/torchx:0.3.0dev0` and changes in workspace `file:///home/runner/work/torchx/torchx/docs/source` for role[0]=echo.\n"
     ]
    },
    {
     "name": "stderr",
     "output_type": "stream",
     "text": [
      "torchx 2022-06-16 01:34:51 INFO     Waiting for the app to finish...\n"
     ]
    },
    {
     "name": "stderr",
     "output_type": "stream",
     "text": [
      "echo/0 Hello :)\n"
     ]
    },
    {
     "name": "stderr",
     "output_type": "stream",
     "text": [
      "torchx 2022-06-16 01:34:52 INFO     Job finished: SUCCEEDED\n"
     ]
    },
    {
     "name": "stdout",
     "output_type": "stream",
     "text": [
      "local_docker://torchx/echo-v77q00g2tcknnc\n"
     ]
    }
   ],
   "source": [
    "%%sh\n",
    "torchx run utils.echo --msg \"Hello :)\""
   ]
  }
 ],
 "metadata": {
  "jupytext": {
   "text_representation": {
    "extension": ".md",
    "format_name": "markdown",
    "format_version": "1.1",
    "jupytext_version": "1.1.0"
   }
  },
  "kernelspec": {
   "display_name": "Python 3",
   "language": "python",
   "name": "python3"
  },
  "language_info": {
   "codemirror_mode": {
    "name": "ipython",
    "version": 3
   },
   "file_extension": ".py",
   "mimetype": "text/x-python",
   "name": "python",
   "nbconvert_exporter": "python",
   "pygments_lexer": "ipython3",
   "version": "3.8.12"
  }
 },
 "nbformat": 4,
 "nbformat_minor": 5
}
