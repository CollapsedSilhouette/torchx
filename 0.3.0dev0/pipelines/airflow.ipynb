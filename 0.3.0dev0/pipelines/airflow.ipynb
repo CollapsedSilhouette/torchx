{
 "cells": [
  {
   "cell_type": "markdown",
   "id": "5d6a3919",
   "metadata": {},
   "source": [
    "# Airflow\n",
    "\n",
    "For pipelines that support Python based execution you can directly use the\n",
    "TorchX API. TorchX is designed to be easily integrated in to other applications\n",
    "via the programmatic API. No special Airflow integrations are needed.\n",
    "\n",
    "With TorchX, you can use Airflow for the pipeline orchestration and run your\n",
    "PyTorch application (i.e. distributed training) on a remote GPU cluster."
   ]
  },
  {
   "cell_type": "code",
   "execution_count": 1,
   "id": "66fcfb3f",
   "metadata": {
    "execution": {
     "iopub.execute_input": "2022-09-23T19:20:09.517652Z",
     "iopub.status.busy": "2022-09-23T19:20:09.517024Z",
     "iopub.status.idle": "2022-09-23T19:20:10.264814Z",
     "shell.execute_reply": "2022-09-23T19:20:10.263804Z"
    }
   },
   "outputs": [],
   "source": [
    "import datetime\n",
    "import pendulum\n",
    "\n",
    "from airflow.utils.state import DagRunState, TaskInstanceState\n",
    "from airflow.utils.types import DagRunType\n",
    "from airflow.models.dag import DAG\n",
    "from airflow.decorators import task\n",
    "\n",
    "\n",
    "DATA_INTERVAL_START = pendulum.datetime(2021, 9, 13, tz=\"UTC\")\n",
    "DATA_INTERVAL_END = DATA_INTERVAL_START + datetime.timedelta(days=1)"
   ]
  },
  {
   "cell_type": "markdown",
   "id": "742714a7",
   "metadata": {},
   "source": [
    "To launch a TorchX job from Airflow you can create a Airflow Python task to\n",
    "import the runner, launch the job and wait for it to complete. If you're running\n",
    "on a remote cluster you may need to use the virtualenv task to install the\n",
    "`torchx` package."
   ]
  },
  {
   "cell_type": "code",
   "execution_count": 2,
   "id": "bae9f501",
   "metadata": {
    "execution": {
     "iopub.execute_input": "2022-09-23T19:20:10.272002Z",
     "iopub.status.busy": "2022-09-23T19:20:10.270329Z",
     "iopub.status.idle": "2022-09-23T19:20:10.278954Z",
     "shell.execute_reply": "2022-09-23T19:20:10.278106Z"
    }
   },
   "outputs": [],
   "source": [
    "@task(task_id=f'hello_torchx')\n",
    "def run_torchx(message):\n",
    "    \"\"\"This is a function that will run within the DAG execution\"\"\"\n",
    "    from torchx.runner import get_runner\n",
    "    with get_runner() as runner:\n",
    "        # Run the utils.sh component on the local_cwd scheduler.\n",
    "        app_id = runner.run_component(\n",
    "            \"utils.sh\",\n",
    "            [\"echo\", message],\n",
    "            scheduler=\"local_cwd\",\n",
    "        )\n",
    "\n",
    "        # Wait for the the job to complete\n",
    "        status = runner.wait(app_id, wait_interval=1)\n",
    "\n",
    "        # Raise_for_status will raise an exception if the job didn't succeed\n",
    "        status.raise_for_status()\n",
    "\n",
    "        # Finally we can print all of the log lines from the TorchX job so it\n",
    "        # will show up in the workflow logs.\n",
    "        for line in runner.log_lines(app_id, \"sh\", k=0):\n",
    "            print(line, end=\"\")"
   ]
  },
  {
   "cell_type": "markdown",
   "id": "581469b0",
   "metadata": {},
   "source": [
    "Once we have the task defined we can put it into a Airflow DAG and run it like\n",
    "normal."
   ]
  },
  {
   "cell_type": "code",
   "execution_count": 3,
   "id": "dcb27ad9",
   "metadata": {
    "execution": {
     "iopub.execute_input": "2022-09-23T19:20:10.285006Z",
     "iopub.status.busy": "2022-09-23T19:20:10.283507Z",
     "iopub.status.idle": "2022-09-23T19:20:12.598735Z",
     "shell.execute_reply": "2022-09-23T19:20:12.597798Z"
    }
   },
   "outputs": [
    {
     "data": {
      "text/html": [
       "<pre style=\"white-space:pre;overflow-x:auto;line-height:normal;font-family:Menlo,'DejaVu Sans Mono',consolas,'Courier New',monospace\"><span style=\"color: #808000; text-decoration-color: #808000; font-weight: bold\">/tmp/ipykernel_4643/454499020.py:</span><span style=\"color: #808000; text-decoration-color: #808000; font-weight: bold\">3</span><span style=\"color: #808000; text-decoration-color: #808000; font-weight: bold\"> RemovedInAirflow3Warning</span><span style=\"color: #808000; text-decoration-color: #808000\">: Param `schedule_interval` is deprecated and will be removed in a future release. Please use `schedule` instead.</span>\n",
       "</pre>\n"
      ],
      "text/plain": [
       "\u001b[1;33m/tmp/ipykernel_4643/\u001b[0m\u001b[1;33m454499020.py\u001b[0m\u001b[1;33m:\u001b[0m\u001b[1;33m3\u001b[0m\u001b[1;33m RemovedInAirflow3Warning\u001b[0m\u001b[33m: Param `schedule_interval` is deprecated and will be removed in a future release. Please use `schedule` instead.\u001b[0m\n"
      ]
     },
     "metadata": {},
     "output_type": "display_data"
    },
    {
     "data": {
      "text/html": [
       "<pre style=\"white-space:pre;overflow-x:auto;line-height:normal;font-family:Menlo,'DejaVu Sans Mono',consolas,'Courier New',monospace\"><span style=\"color: #808000; text-decoration-color: #808000; font-weight: bold\">/opt/hostedtoolcache/Python/3.8.13/x64/lib/python3.8/site-packages/airflow/models/taskinstance.py:</span><span style=\"color: #808000; text-decoration-color: #808000; font-weight: bold\">871</span><span style=\"color: #808000; text-decoration-color: #808000; font-weight: bold\"> SAWarning</span><span style=\"color: #808000; text-decoration-color: #808000\">: TypeDecorator </span><span style=\"color: #808000; text-decoration-color: #808000; font-weight: bold\">ExecutorConfigType()</span><span style=\"color: #808000; text-decoration-color: #808000\"> will not produce a cache key because the ``cache_ok`` attribute is not set to </span><span style=\"color: #808000; text-decoration-color: #808000; font-style: italic\">True</span><span style=\"color: #808000; text-decoration-color: #808000\">.  This can have significant performance implications including some performance degradations in comparison to prior SQLAlchemy versions.  Set this attribute to </span><span style=\"color: #808000; text-decoration-color: #808000; font-style: italic\">True</span><span style=\"color: #808000; text-decoration-color: #808000\"> if this type object's state is safe to use in a cache key, or </span><span style=\"color: #808000; text-decoration-color: #808000; font-style: italic\">False</span><span style=\"color: #808000; text-decoration-color: #808000\"> to disable this warning. </span><span style=\"color: #808000; text-decoration-color: #808000; font-weight: bold\">(</span><span style=\"color: #808000; text-decoration-color: #808000\">Background on this error at: </span><span style=\"color: #808000; text-decoration-color: #808000; text-decoration: underline\">https://sqlalche.me/e/14/cprf)</span>\n",
       "</pre>\n"
      ],
      "text/plain": [
       "\u001b[1;33m/opt/hostedtoolcache/Python/3.8.13/x64/lib/python3.8/site-packages/airflow/models/\u001b[0m\u001b[1;33mtaskinstance.py\u001b[0m\u001b[1;33m:\u001b[0m\u001b[1;33m871\u001b[0m\u001b[1;33m SAWarning\u001b[0m\u001b[33m: TypeDecorator \u001b[0m\u001b[1;33mExecutorConfigType\u001b[0m\u001b[1;33m(\u001b[0m\u001b[1;33m)\u001b[0m\u001b[33m will not produce a cache key because the ``cache_ok`` attribute is not set to \u001b[0m\u001b[3;33mTrue\u001b[0m\u001b[33m.  This can have significant performance implications including some performance degradations in comparison to prior SQLAlchemy versions.  Set this attribute to \u001b[0m\u001b[3;33mTrue\u001b[0m\u001b[33m if this type object's state is safe to use in a cache key, or \u001b[0m\u001b[3;33mFalse\u001b[0m\u001b[33m to disable this warning. \u001b[0m\u001b[1;33m(\u001b[0m\u001b[33mBackground on this error at: \u001b[0m\u001b[4;33mhttps://sqlalche.me/e/14/cprf\u001b[0m\u001b[4;33m)\u001b[0m\n"
      ]
     },
     "metadata": {},
     "output_type": "display_data"
    },
    {
     "data": {
      "text/html": [
       "<pre style=\"white-space:pre;overflow-x:auto;line-height:normal;font-family:Menlo,'DejaVu Sans Mono',consolas,'Courier New',monospace\"><span style=\"color: #808000; text-decoration-color: #808000; font-weight: bold\">/opt/hostedtoolcache/Python/3.8.13/x64/lib/python3.8/site-packages/airflow/models/taskinstance.py:</span><span style=\"color: #808000; text-decoration-color: #808000; font-weight: bold\">873</span><span style=\"color: #808000; text-decoration-color: #808000; font-weight: bold\"> SAWarning</span><span style=\"color: #808000; text-decoration-color: #808000\">: TypeDecorator </span><span style=\"color: #808000; text-decoration-color: #808000; font-weight: bold\">ExecutorConfigType()</span><span style=\"color: #808000; text-decoration-color: #808000\"> will not produce a cache key because the ``cache_ok`` attribute is not set to </span><span style=\"color: #808000; text-decoration-color: #808000; font-style: italic\">True</span><span style=\"color: #808000; text-decoration-color: #808000\">.  This can have significant performance implications including some performance degradations in comparison to prior SQLAlchemy versions.  Set this attribute to </span><span style=\"color: #808000; text-decoration-color: #808000; font-style: italic\">True</span><span style=\"color: #808000; text-decoration-color: #808000\"> if this type object's state is safe to use in a cache key, or </span><span style=\"color: #808000; text-decoration-color: #808000; font-style: italic\">False</span><span style=\"color: #808000; text-decoration-color: #808000\"> to disable this warning. </span><span style=\"color: #808000; text-decoration-color: #808000; font-weight: bold\">(</span><span style=\"color: #808000; text-decoration-color: #808000\">Background on this error at: </span><span style=\"color: #808000; text-decoration-color: #808000; text-decoration: underline\">https://sqlalche.me/e/14/cprf)</span>\n",
       "</pre>\n"
      ],
      "text/plain": [
       "\u001b[1;33m/opt/hostedtoolcache/Python/3.8.13/x64/lib/python3.8/site-packages/airflow/models/\u001b[0m\u001b[1;33mtaskinstance.py\u001b[0m\u001b[1;33m:\u001b[0m\u001b[1;33m873\u001b[0m\u001b[1;33m SAWarning\u001b[0m\u001b[33m: TypeDecorator \u001b[0m\u001b[1;33mExecutorConfigType\u001b[0m\u001b[1;33m(\u001b[0m\u001b[1;33m)\u001b[0m\u001b[33m will not produce a cache key because the ``cache_ok`` attribute is not set to \u001b[0m\u001b[3;33mTrue\u001b[0m\u001b[33m.  This can have significant performance implications including some performance degradations in comparison to prior SQLAlchemy versions.  Set this attribute to \u001b[0m\u001b[3;33mTrue\u001b[0m\u001b[33m if this type object's state is safe to use in a cache key, or \u001b[0m\u001b[3;33mFalse\u001b[0m\u001b[33m to disable this warning. \u001b[0m\u001b[1;33m(\u001b[0m\u001b[33mBackground on this error at: \u001b[0m\u001b[4;33mhttps://sqlalche.me/e/14/cprf\u001b[0m\u001b[4;33m)\u001b[0m\n"
      ]
     },
     "metadata": {},
     "output_type": "display_data"
    },
    {
     "name": "stdout",
     "output_type": "stream",
     "text": [
      "[\u001b[34m2022-09-23 19:20:11,450\u001b[0m] {\u001b[34mlocal_scheduler.py:\u001b[0m714} INFO\u001b[0m - Log directory not set in scheduler cfg. Creating a temporary log dir that will be deleted on exit. To preserve log directory set the `log_dir` cfg option\u001b[0m\n"
     ]
    },
    {
     "name": "stdout",
     "output_type": "stream",
     "text": [
      "[\u001b[34m2022-09-23 19:20:11,457\u001b[0m] {\u001b[34mlocal_scheduler.py:\u001b[0m720} INFO\u001b[0m - Log directory is: /tmp/torchx_x2cjp39o\u001b[0m\n"
     ]
    },
    {
     "name": "stdout",
     "output_type": "stream",
     "text": [
      "Hello, TorchX!\n"
     ]
    },
    {
     "data": {
      "text/html": [
       "<pre style=\"white-space:pre;overflow-x:auto;line-height:normal;font-family:Menlo,'DejaVu Sans Mono',consolas,'Courier New',monospace\"><span style=\"color: #808000; text-decoration-color: #808000; font-weight: bold\">/opt/hostedtoolcache/Python/3.8.13/x64/lib/python3.8/site-packages/airflow/models/taskinstance.py:</span><span style=\"color: #808000; text-decoration-color: #808000; font-weight: bold\">871</span><span style=\"color: #808000; text-decoration-color: #808000; font-weight: bold\"> SAWarning</span><span style=\"color: #808000; text-decoration-color: #808000\">: TypeDecorator </span><span style=\"color: #808000; text-decoration-color: #808000; font-weight: bold\">ExecutorConfigType()</span><span style=\"color: #808000; text-decoration-color: #808000\"> will not produce a cache key because the ``cache_ok`` attribute is not set to </span><span style=\"color: #808000; text-decoration-color: #808000; font-style: italic\">True</span><span style=\"color: #808000; text-decoration-color: #808000\">.  This can have significant performance implications including some performance degradations in comparison to prior SQLAlchemy versions.  Set this attribute to </span><span style=\"color: #808000; text-decoration-color: #808000; font-style: italic\">True</span><span style=\"color: #808000; text-decoration-color: #808000\"> if this type object's state is safe to use in a cache key, or </span><span style=\"color: #808000; text-decoration-color: #808000; font-style: italic\">False</span><span style=\"color: #808000; text-decoration-color: #808000\"> to disable this warning. </span><span style=\"color: #808000; text-decoration-color: #808000; font-weight: bold\">(</span><span style=\"color: #808000; text-decoration-color: #808000\">Background on this error at: </span><span style=\"color: #808000; text-decoration-color: #808000; text-decoration: underline\">https://sqlalche.me/e/14/cprf)</span>\n",
       "</pre>\n"
      ],
      "text/plain": [
       "\u001b[1;33m/opt/hostedtoolcache/Python/3.8.13/x64/lib/python3.8/site-packages/airflow/models/\u001b[0m\u001b[1;33mtaskinstance.py\u001b[0m\u001b[1;33m:\u001b[0m\u001b[1;33m871\u001b[0m\u001b[1;33m SAWarning\u001b[0m\u001b[33m: TypeDecorator \u001b[0m\u001b[1;33mExecutorConfigType\u001b[0m\u001b[1;33m(\u001b[0m\u001b[1;33m)\u001b[0m\u001b[33m will not produce a cache key because the ``cache_ok`` attribute is not set to \u001b[0m\u001b[3;33mTrue\u001b[0m\u001b[33m.  This can have significant performance implications including some performance degradations in comparison to prior SQLAlchemy versions.  Set this attribute to \u001b[0m\u001b[3;33mTrue\u001b[0m\u001b[33m if this type object's state is safe to use in a cache key, or \u001b[0m\u001b[3;33mFalse\u001b[0m\u001b[33m to disable this warning. \u001b[0m\u001b[1;33m(\u001b[0m\u001b[33mBackground on this error at: \u001b[0m\u001b[4;33mhttps://sqlalche.me/e/14/cprf\u001b[0m\u001b[4;33m)\u001b[0m\n"
      ]
     },
     "metadata": {},
     "output_type": "display_data"
    }
   ],
   "source": [
    "from torchx.schedulers.ids import make_unique\n",
    "\n",
    "with DAG(\n",
    "    dag_id=make_unique('example_python_operator'),\n",
    "    schedule_interval=None,\n",
    "    start_date=DATA_INTERVAL_START,\n",
    "    catchup=False,\n",
    "    tags=['example'],\n",
    ") as dag:\n",
    "    run_job = run_torchx(\"Hello, TorchX!\")\n",
    "\n",
    "\n",
    "dagrun = dag.create_dagrun(\n",
    "    state=DagRunState.RUNNING,\n",
    "    execution_date=DATA_INTERVAL_START,\n",
    "    data_interval=(DATA_INTERVAL_START, DATA_INTERVAL_END),\n",
    "    start_date=DATA_INTERVAL_END,\n",
    "    run_type=DagRunType.MANUAL,\n",
    ")\n",
    "ti = dagrun.get_task_instance(task_id=\"hello_torchx\")\n",
    "ti.task = dag.get_task(task_id=\"hello_torchx\")\n",
    "ti.run(ignore_ti_state=True)\n",
    "assert ti.state == TaskInstanceState.SUCCESS"
   ]
  },
  {
   "cell_type": "markdown",
   "id": "213ccbe2",
   "metadata": {},
   "source": [
    "If all goes well you should see `Hello, TorchX!` printed above.\n",
    "\n",
    "## Next Steps\n",
    "\n",
    "* Checkout the [runner API documentation](../runner.rst) to learn more about\n",
    "  programmatic usage of TorchX\n",
    "* Browse through the collection of [builtin components](../components/overview.rst)\n",
    "  which can be used in your Airflow pipeline"
   ]
  }
 ],
 "metadata": {
  "jupytext": {
   "text_representation": {
    "extension": ".md",
    "format_name": "markdown",
    "format_version": "1.3",
    "jupytext_version": "1.13.7"
   }
  },
  "kernelspec": {
   "display_name": "Python 3",
   "language": "python",
   "name": "python3"
  },
  "language_info": {
   "codemirror_mode": {
    "name": "ipython",
    "version": 3
   },
   "file_extension": ".py",
   "mimetype": "text/x-python",
   "name": "python",
   "nbconvert_exporter": "python",
   "pygments_lexer": "ipython3",
   "version": "3.8.13"
  }
 },
 "nbformat": 4,
 "nbformat_minor": 5
}
