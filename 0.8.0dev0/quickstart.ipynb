{
 "cells": [
  {
   "cell_type": "markdown",
   "id": "583fcc58",
   "metadata": {},
   "source": [
    "# Quickstart\n",
    "\n",
    "This is a self contained guide on how to write a simple app and start launching\n",
    "distributed jobs on local and remote clusters.\n",
    "\n",
    "## Installation\n",
    "\n",
    "First thing we need to do is to install the TorchX python package which includes\n",
    "the CLI and the library."
   ]
  },
  {
   "cell_type": "markdown",
   "id": "6bf276b2",
   "metadata": {
    "region_name": "md"
   },
   "source": [
    "```sh\n",
    "# install torchx with all dependencies\n",
    "$ pip install \"torchx[dev]\"\n",
    "```"
   ]
  },
  {
   "cell_type": "markdown",
   "id": "23f5bb0c",
   "metadata": {},
   "source": [
    "See the [README](https://github.com/pytorch/torchx) for more\n",
    "information on installation."
   ]
  },
  {
   "cell_type": "code",
   "execution_count": 1,
   "id": "745e6bc8",
   "metadata": {
    "execution": {
     "iopub.execute_input": "2025-03-28T21:32:25.481908Z",
     "iopub.status.busy": "2025-03-28T21:32:25.481714Z",
     "iopub.status.idle": "2025-03-28T21:32:25.804183Z",
     "shell.execute_reply": "2025-03-28T21:32:25.803615Z"
    }
   },
   "outputs": [
    {
     "name": "stdout",
     "output_type": "stream",
     "text": [
      "usage: torchx [-h] [--log_level LOG_LEVEL] [--version]\n",
      "              {builtins,cancel,configure,desc"
     ]
    },
    {
     "name": "stdout",
     "output_type": "stream",
     "text": [
      "ribe,list,log,run,runopts,status,tracker}\n",
      "              ...\n",
      "\n",
      "torchx CLI\n",
      "\n",
      "options:\n",
      "  -h, --help      "
     ]
    },
    {
     "name": "stdout",
     "output_type": "stream",
     "text": [
      "      show this help message and exit\n",
      "  --log_level LOG_LEVEL\n",
      "                        Python logging"
     ]
    },
    {
     "name": "stdout",
     "output_type": "stream",
     "text": [
      " log level\n",
      "  --version             show program's version number and exit\n",
      "\n",
      "sub-commands:\n",
      "  Use the f"
     ]
    },
    {
     "name": "stdout",
     "output_type": "stream",
     "text": [
      "ollowing commands to run operations, e.g.: torchx run ${JOB_NAME}\n",
      "\n",
      "  {builtins,cancel,configure,desc"
     ]
    },
    {
     "name": "stdout",
     "output_type": "stream",
     "text": [
      "ribe,list,log,run,runopts,status,tracker}\n"
     ]
    }
   ],
   "source": [
    "%%sh\n",
    "torchx --help"
   ]
  },
  {
   "cell_type": "markdown",
   "id": "419271c0",
   "metadata": {},
   "source": [
    "## Hello World\n",
    "\n",
    "Lets start off with writing a simple \"Hello World\" python app. This is just a\n",
    "normal python program and can contain anything you'd like.\n",
    "\n",
    "<div class=\"admonition note\">\n",
    "<div class=\"admonition-title\">Note</div>\n",
    "This example uses Jupyter Notebook `%%writefile` to create local files for\n",
    "example purposes. Under normal usage you would have these as standalone files.\n",
    "</div>"
   ]
  },
  {
   "cell_type": "code",
   "execution_count": 2,
   "id": "f2d9046f",
   "metadata": {
    "execution": {
     "iopub.execute_input": "2025-03-28T21:32:25.806473Z",
     "iopub.status.busy": "2025-03-28T21:32:25.806113Z",
     "iopub.status.idle": "2025-03-28T21:32:25.810114Z",
     "shell.execute_reply": "2025-03-28T21:32:25.809567Z"
    }
   },
   "outputs": [
    {
     "name": "stdout",
     "output_type": "stream",
     "text": [
      "Overwriting my_app.py\n"
     ]
    }
   ],
   "source": [
    "%%writefile my_app.py\n",
    "\n",
    "import sys\n",
    "\n",
    "print(f\"Hello, {sys.argv[1]}!\")"
   ]
  },
  {
   "cell_type": "markdown",
   "id": "28be70db",
   "metadata": {},
   "source": [
    "## Launching\n",
    "\n",
    "We can execute our app via `torchx run`. The\n",
    "`local_cwd` scheduler executes the app relative to the current directory.\n",
    "\n",
    "For this we'll use the `utils.python` component:"
   ]
  },
  {
   "cell_type": "code",
   "execution_count": 3,
   "id": "7c660bf2",
   "metadata": {
    "execution": {
     "iopub.execute_input": "2025-03-28T21:32:25.812128Z",
     "iopub.status.busy": "2025-03-28T21:32:25.811690Z",
     "iopub.status.idle": "2025-03-28T21:32:26.788442Z",
     "shell.execute_reply": "2025-03-28T21:32:26.787770Z"
    }
   },
   "outputs": [
    {
     "name": "stdout",
     "output_type": "stream",
     "text": [
      "usage: torchx run <run args...> python  [--help] [-m str] [-c str]\n",
      "                                 "
     ]
    },
    {
     "name": "stdout",
     "output_type": "stream",
     "text": [
      "       [--script str] [--image str]\n",
      "                                        [--name str] [--cpu int]"
     ]
    },
    {
     "name": "stdout",
     "output_type": "stream",
     "text": [
      " [--gpu int]\n",
      "                                        [--memMB int] [-h str]\n",
      "                        "
     ]
    },
    {
     "name": "stdout",
     "output_type": "stream",
     "text": [
      "                [--num_replicas int]\n",
      "                                        ...\n",
      "\n",
      "Runs ``python`` wi"
     ]
    },
    {
     "name": "stdout",
     "output_type": "stream",
     "text": [
      "th the specified module, command or script on the specified\n",
      "image and host. Use ``--`` to separate c"
     ]
    },
    {
     "name": "stdout",
     "output_type": "stream",
     "text": [
      "omponent args and program args\n",
      "(e.g. ``torchx run utils.python --m foo.main -- --args to --main``)\n",
      "\n"
     ]
    },
    {
     "name": "stdout",
     "output_type": "stream",
     "text": [
      "Note: (cpu, gpu, memMB) parameters are mutually exclusive with ``h`` (named resource) where\n",
      "      ``"
     ]
    },
    {
     "name": "stdout",
     "output_type": "stream",
     "text": [
      "h`` takes precedence if specified for setting resource requirements.\n",
      "      See `registering named re"
     ]
    },
    {
     "name": "stdout",
     "output_type": "stream",
     "text": [
      "sources <https://pytorch.org/torchx/latest/advanced.html#registering-named-resources>`_.\n",
      "\n",
      "positional"
     ]
    },
    {
     "name": "stdout",
     "output_type": "stream",
     "text": [
      " arguments:\n",
      "  str                 arguments passed to the program in sys.argv[1:] (ignored\n",
      "         "
     ]
    },
    {
     "name": "stdout",
     "output_type": "stream",
     "text": [
      "             with `--c`) (required)\n",
      "\n",
      "options:\n",
      "  --help              show this help message and exit\n"
     ]
    },
    {
     "name": "stdout",
     "output_type": "stream",
     "text": [
      "  -m str, --m str     run library module as a script (default: None)\n",
      "  -c str, --c str     program p"
     ]
    },
    {
     "name": "stdout",
     "output_type": "stream",
     "text": [
      "assed as string (may error if scheduler has a\n",
      "                      length limit on args) (default: "
     ]
    },
    {
     "name": "stdout",
     "output_type": "stream",
     "text": [
      "None)\n",
      "  --script str        .py script to run (default: None)\n",
      "  --image str         image to run on "
     ]
    },
    {
     "name": "stdout",
     "output_type": "stream",
     "text": [
      "(default:\n",
      "                      ghcr.io/pytorch/torchx:0.8.0dev0)\n",
      "  --name str          name of the "
     ]
    },
    {
     "name": "stdout",
     "output_type": "stream",
     "text": [
      "job (default: torchx_utils_python)\n",
      "  --cpu int           number of cpus per replica (default: 1)\n",
      "  -"
     ]
    },
    {
     "name": "stdout",
     "output_type": "stream",
     "text": [
      "-gpu int           number of gpus per replica (default: 0)\n",
      "  --memMB int         cpu memory in MB pe"
     ]
    },
    {
     "name": "stdout",
     "output_type": "stream",
     "text": [
      "r replica (default: 1024)\n",
      "  -h str, --h str     a registered named resource (if specified takes\n",
      "    "
     ]
    },
    {
     "name": "stdout",
     "output_type": "stream",
     "text": [
      "                  precedence over cpu, gpu, memMB) (default: None)\n",
      "  --num_replicas int  number of c"
     ]
    },
    {
     "name": "stdout",
     "output_type": "stream",
     "text": [
      "opies to run (each on its own container)\n",
      "                      (default: 1)\n"
     ]
    }
   ],
   "source": [
    "%%sh\n",
    "torchx run --scheduler local_cwd utils.python --help"
   ]
  },
  {
   "cell_type": "markdown",
   "id": "9ad6614a",
   "metadata": {},
   "source": [
    "The component takes in the script name and any extra arguments will be passed to\n",
    "the script itself."
   ]
  },
  {
   "cell_type": "code",
   "execution_count": 4,
   "id": "e67b73cb",
   "metadata": {
    "execution": {
     "iopub.execute_input": "2025-03-28T21:32:26.790571Z",
     "iopub.status.busy": "2025-03-28T21:32:26.790212Z",
     "iopub.status.idle": "2025-03-28T21:32:28.734427Z",
     "shell.execute_reply": "2025-03-28T21:32:28.733707Z"
    }
   },
   "outputs": [
    {
     "name": "stderr",
     "output_type": "stream",
     "text": [
      "torchx 2025-03-28 21:32:27 INFO     Tracker configurations: {}\n"
     ]
    },
    {
     "name": "stderr",
     "output_type": "stream",
     "text": [
      "torchx 2025-03-28 21:32:27 INFO     Log directory not set in scheduler cfg. Creating a temporary log"
     ]
    },
    {
     "name": "stderr",
     "output_type": "stream",
     "text": [
      " dir that will be deleted on exit. To preserve log directory set the `log_dir` cfg option\n",
      "torchx 202"
     ]
    },
    {
     "name": "stderr",
     "output_type": "stream",
     "text": [
      "5-03-28 21:32:27 INFO     Log directory is: /tmp/torchx_k6hqtgcs\n"
     ]
    },
    {
     "name": "stderr",
     "output_type": "stream",
     "text": [
      "torchx 2025-03-28 21:32:27 INFO     Waiting for the app to finish...\n"
     ]
    },
    {
     "name": "stderr",
     "output_type": "stream",
     "text": [
      "python/0 Hello, your name!\n"
     ]
    },
    {
     "name": "stderr",
     "output_type": "stream",
     "text": [
      "torchx 2025-03-28 21:32:28 INFO     Job finished: SUCCEEDED\n"
     ]
    },
    {
     "name": "stdout",
     "output_type": "stream",
     "text": [
      "local_cwd://torchx/torchx_utils_python-ms4bz7f1pz9ftd\n"
     ]
    }
   ],
   "source": [
    "%%sh\n",
    "torchx run --scheduler local_cwd utils.python --script my_app.py \"your name\""
   ]
  },
  {
   "cell_type": "markdown",
   "id": "48e0fca1",
   "metadata": {},
   "source": [
    "We can run the exact same app via the `local_docker` scheduler. This scheduler\n",
    "will package up the local workspace as a layer on top of the specified image.\n",
    "This provides a very similar environment to the container based remote\n",
    "schedulers.\n",
    "\n",
    "<div class=\"admonition note\">\n",
    "<div class=\"admonition-title\">Note</div>\n",
    "This requires Docker installed and won't work in environments such as Google\n",
    "Colab. See the Docker install instructions:\n",
    "[https://docs.docker.com/get-docker/](https://docs.docker.com/get-docker/)</a>\n",
    "</div>"
   ]
  },
  {
   "cell_type": "code",
   "execution_count": 5,
   "id": "ec508c87",
   "metadata": {
    "execution": {
     "iopub.execute_input": "2025-03-28T21:32:28.736920Z",
     "iopub.status.busy": "2025-03-28T21:32:28.736436Z",
     "iopub.status.idle": "2025-03-28T21:32:47.077407Z",
     "shell.execute_reply": "2025-03-28T21:32:47.076611Z"
    }
   },
   "outputs": [
    {
     "name": "stderr",
     "output_type": "stream",
     "text": [
      "torchx 2025-03-28 21:32:29 INFO     Tracker configurations: {}\n"
     ]
    },
    {
     "name": "stderr",
     "output_type": "stream",
     "text": [
      "torchx 2025-03-28 21:32:29 INFO     Checking for changes in workspace `file:///home/runner/work/torc"
     ]
    },
    {
     "name": "stderr",
     "output_type": "stream",
     "text": [
      "hx/torchx/docs/source`...\n",
      "torchx 2025-03-28 21:32:29 INFO     To disable workspaces pass: --workspac"
     ]
    },
    {
     "name": "stderr",
     "output_type": "stream",
     "text": [
      "e=\"\" from CLI or workspace=None programmatically.\n"
     ]
    },
    {
     "name": "stderr",
     "output_type": "stream",
     "text": [
      "torchx 2025-03-28 21:32:29 INFO     Workspace `file:///home/runner/work/torchx/torchx/docs/source` r"
     ]
    },
    {
     "name": "stderr",
     "output_type": "stream",
     "text": [
      "esolved to filesystem path `/home/runner/work/torchx/torchx/docs/source`\n"
     ]
    },
    {
     "name": "stderr",
     "output_type": "stream",
     "text": [
      "torchx 2025-03-28 21:32:30 INFO     Building workspace docker image (this may take a while)...\n"
     ]
    },
    {
     "name": "stderr",
     "output_type": "stream",
     "text": [
      "torchx 2025-03-28 21:32:30 INFO     Step 1/4 : ARG IMAGE\n"
     ]
    },
    {
     "name": "stderr",
     "output_type": "stream",
     "text": [
      "torchx 2025-03-28 21:32:30 INFO     Step 2/4 : FROM $IMAGE\n",
      "torchx 2025-03-28 21:32:30 INFO      --->"
     ]
    },
    {
     "name": "stderr",
     "output_type": "stream",
     "text": [
      " be5f9b1cd2f1\n",
      "torchx 2025-03-28 21:32:30 INFO     Step 3/4 : COPY . .\n"
     ]
    },
    {
     "name": "stderr",
     "output_type": "stream",
     "text": [
      "torchx 2025-03-28 21:32:38 INFO      ---> 3fafbb50b4c5\n"
     ]
    },
    {
     "name": "stderr",
     "output_type": "stream",
     "text": [
      "torchx 2025-03-28 21:32:38 INFO     Step 4/4 : LABEL torchx.pytorch.org/version=0.8.0dev0\n"
     ]
    },
    {
     "name": "stderr",
     "output_type": "stream",
     "text": [
      "torchx 2025-03-28 21:32:38 INFO      ---> Running in dca415ed2031\n"
     ]
    },
    {
     "name": "stderr",
     "output_type": "stream",
     "text": [
      "torchx 2025-03-28 21:32:45 INFO      ---> Removed intermediate container dca415ed2031\n"
     ]
    },
    {
     "name": "stderr",
     "output_type": "stream",
     "text": [
      "torchx 2025-03-28 21:32:45 INFO      ---> a8a7c6c09702\n"
     ]
    },
    {
     "name": "stderr",
     "output_type": "stream",
     "text": [
      "torchx 2025-03-28 21:32:45 INFO     [Warning] One or more build-args [WORKSPACE] were not consumed\n"
     ]
    },
    {
     "name": "stderr",
     "output_type": "stream",
     "text": [
      "torchx 2025-03-28 21:32:45 INFO     Successfully built a8a7c6c09702\n"
     ]
    },
    {
     "name": "stderr",
     "output_type": "stream",
     "text": [
      "torchx 2025-03-28 21:32:45 INFO     Built new image `sha256:a8a7c6c09702e7644415505209a69c9e7e4e4d8e"
     ]
    },
    {
     "name": "stderr",
     "output_type": "stream",
     "text": [
      "c80434a6673aa6375cb892d7` based on original image `ghcr.io/pytorch/torchx:0.8.0dev0` and changes in "
     ]
    },
    {
     "name": "stderr",
     "output_type": "stream",
     "text": [
      "workspace `file:///home/runner/work/torchx/torchx/docs/source` for role[0]=python.\n"
     ]
    },
    {
     "name": "stderr",
     "output_type": "stream",
     "text": [
      "torchx 2025-03-28 21:32:46 INFO     Waiting for the app to finish...\n"
     ]
    },
    {
     "name": "stderr",
     "output_type": "stream",
     "text": [
      "python/0 Hello, your name!\n"
     ]
    },
    {
     "name": "stderr",
     "output_type": "stream",
     "text": [
      "torchx 2025-03-28 21:32:47 INFO     Job finished: SUCCEEDED\n"
     ]
    },
    {
     "name": "stdout",
     "output_type": "stream",
     "text": [
      "local_docker://torchx/torchx_utils_python-d2dhm72659sc6\n"
     ]
    }
   ],
   "source": [
    "%%sh\n",
    "torchx run --scheduler local_docker utils.python --script my_app.py \"your name\""
   ]
  },
  {
   "cell_type": "markdown",
   "id": "2f8161bd",
   "metadata": {},
   "source": [
    "TorchX defaults to using the\n",
    "[ghcr.io/pytorch/torchx](https://ghcr.io/pytorch/torchx) Docker container image\n",
    "which contains the PyTorch libraries, TorchX and related dependencies.\n",
    "\n",
    "## Distributed\n",
    "\n",
    "TorchX's `dist.ddp` component uses\n",
    "[TorchElastic](https://pytorch.org/docs/stable/distributed.elastic.html)\n",
    "to manage the workers. This means you can launch multi-worker and multi-host\n",
    "jobs out of the box on all of the schedulers we support."
   ]
  },
  {
   "cell_type": "code",
   "execution_count": 6,
   "id": "c72d6d3f",
   "metadata": {
    "execution": {
     "iopub.execute_input": "2025-03-28T21:32:47.079817Z",
     "iopub.status.busy": "2025-03-28T21:32:47.079594Z",
     "iopub.status.idle": "2025-03-28T21:32:48.159697Z",
     "shell.execute_reply": "2025-03-28T21:32:48.159119Z"
    }
   },
   "outputs": [
    {
     "name": "stdout",
     "output_type": "stream",
     "text": [
      "usage: torchx run <run args...> ddp  [--help] [--script str] [-m str]\n",
      "                              "
     ]
    },
    {
     "name": "stdout",
     "output_type": "stream",
     "text": [
      "       [--image str] [--name str] [-h str]\n",
      "                                     [--cpu int] [--gpu i"
     ]
    },
    {
     "name": "stdout",
     "output_type": "stream",
     "text": [
      "nt] [--memMB int]\n",
      "                                     [-j str] [--env str] [--max_retries int]\n",
      "    "
     ]
    },
    {
     "name": "stdout",
     "output_type": "stream",
     "text": [
      "                                 [--rdzv_port int] [--rdzv_backend str]\n",
      "                            "
     ]
    },
    {
     "name": "stdout",
     "output_type": "stream",
     "text": [
      "         [--mounts str] [--debug str] [--tee int]\n",
      "                                     ...\n",
      "\n",
      "Distribu"
     ]
    },
    {
     "name": "stdout",
     "output_type": "stream",
     "text": [
      "ted data parallel style application (one role, multi-replica).\n",
      "Uses `torch.distributed.run <https://"
     ]
    },
    {
     "name": "stdout",
     "output_type": "stream",
     "text": [
      "pytorch.org/docs/stable/distributed.elastic.html>`_\n",
      "to launch and coordinate PyTorch worker processe"
     ]
    },
    {
     "name": "stdout",
     "output_type": "stream",
     "text": [
      "s. Defaults to using ``c10d`` rendezvous backend\n",
      "on rendezvous_endpoint ``$rank_0_host:$rdzv_port``."
     ]
    },
    {
     "name": "stdout",
     "output_type": "stream",
     "text": [
      " Note that ``rdzv_port`` parameter is ignored\n",
      "when running on single node, and instead we use port 0"
     ]
    },
    {
     "name": "stdout",
     "output_type": "stream",
     "text": [
      " which instructs torchelastic to chose\n",
      "a free random port on the host.\n",
      "\n",
      "Note: (cpu, gpu, memMB) para"
     ]
    },
    {
     "name": "stdout",
     "output_type": "stream",
     "text": [
      "meters are mutually exclusive with ``h`` (named resource) where\n",
      "      ``h`` takes precedence if spec"
     ]
    },
    {
     "name": "stdout",
     "output_type": "stream",
     "text": [
      "ified for setting resource requirements.\n",
      "      See `registering named resources <https://pytorch.org"
     ]
    },
    {
     "name": "stdout",
     "output_type": "stream",
     "text": [
      "/torchx/latest/advanced.html#registering-named-resources>`_.\n",
      "\n",
      "positional arguments:\n",
      "  str           "
     ]
    },
    {
     "name": "stdout",
     "output_type": "stream",
     "text": [
      "      arguments to the main module (required)\n",
      "\n",
      "options:\n",
      "  --help              show this help message"
     ]
    },
    {
     "name": "stdout",
     "output_type": "stream",
     "text": [
      " and exit\n",
      "  --script str        script or binary to run within the image (default: None)\n",
      "  -m str, -"
     ]
    },
    {
     "name": "stdout",
     "output_type": "stream",
     "text": [
      "-m str     the python module path to run (default: None)\n",
      "  --image str         image (e.g. docker) ("
     ]
    },
    {
     "name": "stdout",
     "output_type": "stream",
     "text": [
      "default:\n",
      "                      ghcr.io/pytorch/torchx:0.8.0dev0)\n",
      "  --name str          job name over"
     ]
    },
    {
     "name": "stdout",
     "output_type": "stream",
     "text": [
      "ride in the following format:\n",
      "                      ``{experimentname}/{runname}`` or ``{experimentn"
     ]
    },
    {
     "name": "stdout",
     "output_type": "stream",
     "text": [
      "ame}/``\n",
      "                      or ``/{runname}`` or ``{runname}``. Uses the script or\n",
      "               "
     ]
    },
    {
     "name": "stdout",
     "output_type": "stream",
     "text": [
      "       module name if ``{runname}`` not specified. (default: /)\n",
      "  -h str, --h str     a registered n"
     ]
    },
    {
     "name": "stdout",
     "output_type": "stream",
     "text": [
      "amed resource (if specified takes\n",
      "                      precedence over cpu, gpu, memMB) (default: N"
     ]
    },
    {
     "name": "stdout",
     "output_type": "stream",
     "text": [
      "one)\n",
      "  --cpu int           number of cpus per replica (default: 2)\n",
      "  --gpu int           number of g"
     ]
    },
    {
     "name": "stdout",
     "output_type": "stream",
     "text": [
      "pus per replica (default: 0)\n",
      "  --memMB int         cpu memory in MB per replica (default: 1024)\n",
      "  -j"
     ]
    },
    {
     "name": "stdout",
     "output_type": "stream",
     "text": [
      " str, --j str     [{min_nnodes}:]{nnodes}x{nproc_per_node}, for gpu hosts,\n",
      "                      npr"
     ]
    },
    {
     "name": "stdout",
     "output_type": "stream",
     "text": [
      "oc_per_node must not exceed num gpus (default: 1x2)\n",
      "  --env str           environment varibles to be"
     ]
    },
    {
     "name": "stdout",
     "output_type": "stream",
     "text": [
      " passed to the run (e.g.\n",
      "                      ENV1=v1,ENV2=v2,ENV3=v3) (default: None)\n",
      "  --max_retr"
     ]
    },
    {
     "name": "stdout",
     "output_type": "stream",
     "text": [
      "ies int   the number of scheduler retries allowed (default: 0)\n",
      "  --rdzv_port int     the port on ran"
     ]
    },
    {
     "name": "stdout",
     "output_type": "stream",
     "text": [
      "k0's host to use for hosting the c10d\n",
      "                      store used for rendezvous. Only takes ef"
     ]
    },
    {
     "name": "stdout",
     "output_type": "stream",
     "text": [
      "fect when\n",
      "                      running multi-node. When running single node, this\n",
      "                 "
     ]
    },
    {
     "name": "stdout",
     "output_type": "stream",
     "text": [
      "     parameter is ignored and a random free port is chosen.\n",
      "                      (default: 29500)\n",
      " "
     ]
    },
    {
     "name": "stdout",
     "output_type": "stream",
     "text": [
      " --rdzv_backend str  the rendezvous backend to use. Only takes effect when\n",
      "                      run"
     ]
    },
    {
     "name": "stdout",
     "output_type": "stream",
     "text": [
      "ning multi-node. (default: c10d)\n",
      "  --mounts str        mounts to mount into the worker environment/c"
     ]
    },
    {
     "name": "stdout",
     "output_type": "stream",
     "text": [
      "ontainer\n",
      "                      (ex. type=<bind/volume>,src=/host,dst=/job[,readonly]).\n",
      "             "
     ]
    },
    {
     "name": "stdout",
     "output_type": "stream",
     "text": [
      "         See scheduler documentation for more info. (default:\n",
      "                      None)\n",
      "  --debug "
     ]
    },
    {
     "name": "stdout",
     "output_type": "stream",
     "text": [
      "str         whether to run with preset debug flags enabled (default:\n",
      "                      False)\n",
      "  "
     ]
    },
    {
     "name": "stdout",
     "output_type": "stream",
     "text": [
      "--tee int           tees the specified std stream(s) to console + file. 0:\n",
      "                      non"
     ]
    },
    {
     "name": "stdout",
     "output_type": "stream",
     "text": [
      "e, 1: stdout, 2: stderr, 3: both (default: 3)\n"
     ]
    }
   ],
   "source": [
    "%%sh\n",
    "torchx run --scheduler local_docker dist.ddp --help"
   ]
  },
  {
   "cell_type": "markdown",
   "id": "5bb4bb85",
   "metadata": {},
   "source": [
    "Lets create a slightly more interesting app to leverage the TorchX distributed\n",
    "support."
   ]
  },
  {
   "cell_type": "code",
   "execution_count": 7,
   "id": "570a254a",
   "metadata": {
    "execution": {
     "iopub.execute_input": "2025-03-28T21:32:48.162082Z",
     "iopub.status.busy": "2025-03-28T21:32:48.161571Z",
     "iopub.status.idle": "2025-03-28T21:32:48.165461Z",
     "shell.execute_reply": "2025-03-28T21:32:48.164957Z"
    }
   },
   "outputs": [
    {
     "name": "stdout",
     "output_type": "stream",
     "text": [
      "Writing dist_app.py\n"
     ]
    }
   ],
   "source": [
    "%%writefile dist_app.py\n",
    "\n",
    "import torch\n",
    "import torch.distributed as dist\n",
    "\n",
    "dist.init_process_group(backend=\"gloo\")\n",
    "print(f\"I am worker {dist.get_rank()} of {dist.get_world_size()}!\")\n",
    "\n",
    "a = torch.tensor([dist.get_rank()])\n",
    "dist.all_reduce(a)\n",
    "print(f\"all_reduce output = {a}\")"
   ]
  },
  {
   "cell_type": "markdown",
   "id": "f336a519",
   "metadata": {},
   "source": [
    "Let launch a small job with 2 nodes and 2 worker processes per node:"
   ]
  },
  {
   "cell_type": "code",
   "execution_count": 8,
   "id": "4b15d9ba",
   "metadata": {
    "execution": {
     "iopub.execute_input": "2025-03-28T21:32:48.167218Z",
     "iopub.status.busy": "2025-03-28T21:32:48.167028Z",
     "iopub.status.idle": "2025-03-28T21:33:12.182086Z",
     "shell.execute_reply": "2025-03-28T21:33:12.181324Z"
    }
   },
   "outputs": [
    {
     "name": "stderr",
     "output_type": "stream",
     "text": [
      "torchx 2025-03-28 21:32:49 INFO     Tracker configurations: {}\n"
     ]
    },
    {
     "name": "stderr",
     "output_type": "stream",
     "text": [
      "torchx 2025-03-28 21:32:49 INFO     Checking for changes in workspace `file:///home/runner/work/torc"
     ]
    },
    {
     "name": "stderr",
     "output_type": "stream",
     "text": [
      "hx/torchx/docs/source`...\n",
      "torchx 2025-03-28 21:32:49 INFO     To disable workspaces pass: --workspac"
     ]
    },
    {
     "name": "stderr",
     "output_type": "stream",
     "text": [
      "e=\"\" from CLI or workspace=None programmatically.\n"
     ]
    },
    {
     "name": "stderr",
     "output_type": "stream",
     "text": [
      "torchx 2025-03-28 21:32:49 INFO     Workspace `file:///home/runner/work/torchx/torchx/docs/source` r"
     ]
    },
    {
     "name": "stderr",
     "output_type": "stream",
     "text": [
      "esolved to filesystem path `/home/runner/work/torchx/torchx/docs/source`\n"
     ]
    },
    {
     "name": "stderr",
     "output_type": "stream",
     "text": [
      "torchx 2025-03-28 21:32:49 INFO     Building workspace docker image (this may take a while)...\n"
     ]
    },
    {
     "name": "stderr",
     "output_type": "stream",
     "text": [
      "torchx 2025-03-28 21:32:49 INFO     Step 1/4 : ARG IMAGE\n"
     ]
    },
    {
     "name": "stderr",
     "output_type": "stream",
     "text": [
      "torchx 2025-03-28 21:32:49 INFO     Step 2/4 : FROM $IMAGE\n",
      "torchx 2025-03-28 21:32:49 INFO      --->"
     ]
    },
    {
     "name": "stderr",
     "output_type": "stream",
     "text": [
      " be5f9b1cd2f1\n",
      "torchx 2025-03-28 21:32:49 INFO     Step 3/4 : COPY . .\n"
     ]
    },
    {
     "name": "stderr",
     "output_type": "stream",
     "text": [
      "torchx 2025-03-28 21:32:57 INFO      ---> 423b53557a3b\n"
     ]
    },
    {
     "name": "stderr",
     "output_type": "stream",
     "text": [
      "torchx 2025-03-28 21:32:57 INFO     Step 4/4 : LABEL torchx.pytorch.org/version=0.8.0dev0\n"
     ]
    },
    {
     "name": "stderr",
     "output_type": "stream",
     "text": [
      "torchx 2025-03-28 21:32:57 INFO      ---> Running in 602a8614692d\n"
     ]
    },
    {
     "name": "stderr",
     "output_type": "stream",
     "text": [
      "torchx 2025-03-28 21:33:04 INFO      ---> Removed intermediate container 602a8614692d\n"
     ]
    },
    {
     "name": "stderr",
     "output_type": "stream",
     "text": [
      "torchx 2025-03-28 21:33:04 INFO      ---> 5d6159e2475c\n",
      "torchx 2025-03-28 21:33:04 INFO     [Warning]"
     ]
    },
    {
     "name": "stderr",
     "output_type": "stream",
     "text": [
      " One or more build-args [WORKSPACE] were not consumed\n"
     ]
    },
    {
     "name": "stderr",
     "output_type": "stream",
     "text": [
      "torchx 2025-03-28 21:33:04 INFO     Successfully built 5d6159e2475c\n"
     ]
    },
    {
     "name": "stderr",
     "output_type": "stream",
     "text": [
      "torchx 2025-03-28 21:33:04 INFO     Built new image `sha256:5d6159e2475c07cfdf85945881cad6750dfedd3d"
     ]
    },
    {
     "name": "stderr",
     "output_type": "stream",
     "text": [
      "570d98f0f30cbc090016b449` based on original image `ghcr.io/pytorch/torchx:0.8.0dev0` and changes in "
     ]
    },
    {
     "name": "stderr",
     "output_type": "stream",
     "text": [
      "workspace `file:///home/runner/work/torchx/torchx/docs/source` for role[0]=dist_app.\n"
     ]
    },
    {
     "name": "stderr",
     "output_type": "stream",
     "text": [
      "torchx 2025-03-28 21:33:05 INFO     Waiting for the app to finish...\n"
     ]
    },
    {
     "name": "stderr",
     "output_type": "stream",
     "text": [
      "dist_app/1 /opt/conda/lib/python3.10/site-packages/torch/utils/_pytree.py:185: FutureWarning: optree"
     ]
    },
    {
     "name": "stderr",
     "output_type": "stream",
     "text": [
      " is installed but the version is too old to support PyTorch Dynamo in C++ pytree. C++ pytree support"
     ]
    },
    {
     "name": "stderr",
     "output_type": "stream",
     "text": [
      " is disabled. Please consider upgrading optree using `python3 -m pip install --upgrade 'optree>=0.13"
     ]
    },
    {
     "name": "stderr",
     "output_type": "stream",
     "text": [
      ".0'`.\n",
      "dist_app/1   warnings.warn(\n"
     ]
    },
    {
     "name": "stderr",
     "output_type": "stream",
     "text": [
      "dist_app/0 /opt/conda/lib/python3.10/site-packages/torch/utils/_pytree.py:185: FutureWarning: optree"
     ]
    },
    {
     "name": "stderr",
     "output_type": "stream",
     "text": [
      " is installed but the version is too old to support PyTorch Dynamo in C++ pytree. C++ pytree support"
     ]
    },
    {
     "name": "stderr",
     "output_type": "stream",
     "text": [
      " is disabled. Please consider upgrading optree using `python3 -m pip install --upgrade 'optree>=0.13"
     ]
    },
    {
     "name": "stderr",
     "output_type": "stream",
     "text": [
      ".0'`.\n",
      "dist_app/0   warnings.warn(\n"
     ]
    },
    {
     "name": "stderr",
     "output_type": "stream",
     "text": [
      "dist_app/0 W0328 21:33:07.158000 1 site-packages/torch/distributed/run.py:792] \n",
      "dist_app/0 W0328 21:"
     ]
    },
    {
     "name": "stderr",
     "output_type": "stream",
     "text": [
      "33:07.158000 1 site-packages/torch/distributed/run.py:792] *****************************************"
     ]
    },
    {
     "name": "stderr",
     "output_type": "stream",
     "text": [
      "\n",
      "dist_app/0 W0328 21:33:07.158000 1 site-packages/torch/distributed/run.py:792] Setting OMP_NUM_THRE"
     ]
    },
    {
     "name": "stderr",
     "output_type": "stream",
     "text": [
      "ADS environment variable for each process to be 1 in default, to avoid your system being overloaded,"
     ]
    },
    {
     "name": "stderr",
     "output_type": "stream",
     "text": [
      " please further tune the variable for optimal performance in your application as needed. \n",
      "dist_app/0"
     ]
    },
    {
     "name": "stderr",
     "output_type": "stream",
     "text": [
      " W0328 21:33:07.158000 1 site-packages/torch/distributed/run.py:792] *******************************"
     ]
    },
    {
     "name": "stderr",
     "output_type": "stream",
     "text": [
      "**********\n"
     ]
    },
    {
     "name": "stderr",
     "output_type": "stream",
     "text": [
      "dist_app/1 W0328 21:33:07.159000 1 site-packages/torch/distributed/run.py:792] \n",
      "dist_app/1 W0328 21:"
     ]
    },
    {
     "name": "stderr",
     "output_type": "stream",
     "text": [
      "33:07.159000 1 site-packages/torch/distributed/run.py:792] *****************************************"
     ]
    },
    {
     "name": "stderr",
     "output_type": "stream",
     "text": [
      "\n",
      "dist_app/1 W0328 21:33:07.159000 1 site-packages/torch/distributed/run.py:792] Setting OMP_NUM_THRE"
     ]
    },
    {
     "name": "stderr",
     "output_type": "stream",
     "text": [
      "ADS environment variable for each process to be 1 in default, to avoid your system being overloaded,"
     ]
    },
    {
     "name": "stderr",
     "output_type": "stream",
     "text": [
      " please further tune the variable for optimal performance in your application as needed. \n",
      "dist_app/1"
     ]
    },
    {
     "name": "stderr",
     "output_type": "stream",
     "text": [
      " W0328 21:33:07.159000 1 site-packages/torch/distributed/run.py:792] *******************************"
     ]
    },
    {
     "name": "stderr",
     "output_type": "stream",
     "text": [
      "**********\n"
     ]
    },
    {
     "name": "stderr",
     "output_type": "stream",
     "text": [
      "dist_app/0 [0]:/opt/conda/lib/python3.10/site-packages/torch/utils/_pytree.py:185: FutureWarning: op"
     ]
    },
    {
     "name": "stderr",
     "output_type": "stream",
     "text": [
      "tree is installed but the version is too old to support PyTorch Dynamo in C++ pytree. C++ pytree sup"
     ]
    },
    {
     "name": "stderr",
     "output_type": "stream",
     "text": [
      "port is disabled. Please consider upgrading optree using `python3 -m pip install --upgrade 'optree>="
     ]
    },
    {
     "name": "stderr",
     "output_type": "stream",
     "text": [
      "0.13.0'`.\n",
      "dist_app/0 [0]:  warnings.warn(\n"
     ]
    },
    {
     "name": "stderr",
     "output_type": "stream",
     "text": [
      "dist_app/0 [1]:/opt/conda/lib/python3.10/site-packages/torch/utils/_pytree.py:185: FutureWarning: op"
     ]
    },
    {
     "name": "stderr",
     "output_type": "stream",
     "text": [
      "tree is installed but the version is too old to support PyTorch Dynamo in C++ pytree. C++ pytree sup"
     ]
    },
    {
     "name": "stderr",
     "output_type": "stream",
     "text": [
      "port is disabled. Please consider upgrading optree using `python3 -m pip install --upgrade 'optree>="
     ]
    },
    {
     "name": "stderr",
     "output_type": "stream",
     "text": [
      "0.13.0'`.\n",
      "dist_app/0 [1]:  warnings.warn(\n",
      "dist_app/1 [0]:/opt/conda/lib/python3.10/site-packages/tor"
     ]
    },
    {
     "name": "stderr",
     "output_type": "stream",
     "text": [
      "ch/utils/_pytree.py:185: FutureWarning: optree is installed but the version is too old to support Py"
     ]
    },
    {
     "name": "stderr",
     "output_type": "stream",
     "text": [
      "Torch Dynamo in C++ pytree. C++ pytree support is disabled. Please consider upgrading optree using `"
     ]
    },
    {
     "name": "stderr",
     "output_type": "stream",
     "text": [
      "python3 -m pip install --upgrade 'optree>=0.13.0'`.\n",
      "dist_app/1 [0]:  warnings.warn(\n"
     ]
    },
    {
     "name": "stderr",
     "output_type": "stream",
     "text": [
      "dist_app/1 [1]:/opt/conda/lib/python3.10/site-packages/torch/utils/_pytree.py:185: FutureWarning: op"
     ]
    },
    {
     "name": "stderr",
     "output_type": "stream",
     "text": [
      "tree is installed but the version is too old to support PyTorch Dynamo in C++ pytree. C++ pytree sup"
     ]
    },
    {
     "name": "stderr",
     "output_type": "stream",
     "text": [
      "port is disabled. Please consider upgrading optree using `python3 -m pip install --upgrade 'optree>="
     ]
    },
    {
     "name": "stderr",
     "output_type": "stream",
     "text": [
      "0.13.0'`.\n",
      "dist_app/1 [1]:  warnings.warn(\n"
     ]
    },
    {
     "name": "stderr",
     "output_type": "stream",
     "text": [
      "dist_app/1 [0]:I am worker 2 of 4!\n",
      "dist_app/1 [0]:all_reduce output = tensor([6])\n"
     ]
    },
    {
     "name": "stderr",
     "output_type": "stream",
     "text": [
      "dist_app/1 [1]:I am worker 3 of 4!\n",
      "dist_app/1 [1]:all_reduce output = tensor([6])\n"
     ]
    },
    {
     "name": "stderr",
     "output_type": "stream",
     "text": [
      "dist_app/0 [1]:I am worker 1 of 4!\n",
      "dist_app/0 [1]:all_reduce output = tensor([6])\n",
      "dist_app/0 [0]:I a"
     ]
    },
    {
     "name": "stderr",
     "output_type": "stream",
     "text": [
      "m worker 0 of 4!\n",
      "dist_app/0 [0]:all_reduce output = tensor([6])\n"
     ]
    },
    {
     "name": "stderr",
     "output_type": "stream",
     "text": [
      "torchx 2025-03-28 21:33:12 INFO     Job finished: SUCCEEDED\n"
     ]
    },
    {
     "name": "stdout",
     "output_type": "stream",
     "text": [
      "local_docker://torchx/dist_app-cpb5d9ss71w72\n"
     ]
    }
   ],
   "source": [
    "%%sh\n",
    "torchx run --scheduler local_docker dist.ddp -j 2x2 --script dist_app.py"
   ]
  },
  {
   "cell_type": "markdown",
   "id": "9bb777f9",
   "metadata": {},
   "source": [
    "## Workspaces / Patching\n",
    "\n",
    "For each scheduler there's a concept of an `image`. For `local_cwd` and `slurm`\n",
    "it uses the current working directory. For container based schedulers such as\n",
    "`local_docker`, `kubernetes` and `aws_batch` it uses a docker container.\n",
    "\n",
    "To provide the same environment between local and remote jobs, TorchX CLI uses\n",
    "workspaces to automatically patch images for remote jobs on a per scheduler\n",
    "basis.\n",
    "\n",
    "When you launch a job via `torchx run` it'll overlay the current directory on\n",
    "top of the provided image so your code is available in the launched job.\n",
    "\n",
    "For `docker` based schedulers you'll need a local docker daemon to build and\n",
    "push the image to your remote docker repository.\n",
    "\n",
    "## `.torchxconfig`\n",
    "\n",
    "Arguments to schedulers can be specified either via a command line flag to\n",
    "`torchx run -s <scheduler> -c <args>` or on a per scheduler basis via a\n",
    "`.torchxconfig` file."
   ]
  },
  {
   "cell_type": "code",
   "execution_count": 9,
   "id": "c67fce49",
   "metadata": {
    "execution": {
     "iopub.execute_input": "2025-03-28T21:33:12.184592Z",
     "iopub.status.busy": "2025-03-28T21:33:12.184146Z",
     "iopub.status.idle": "2025-03-28T21:33:12.188123Z",
     "shell.execute_reply": "2025-03-28T21:33:12.187521Z"
    }
   },
   "outputs": [
    {
     "name": "stdout",
     "output_type": "stream",
     "text": [
      "Writing .torchxconfig\n"
     ]
    }
   ],
   "source": [
    "%%writefile .torchxconfig\n",
    "\n",
    "[kubernetes]\n",
    "queue=torchx\n",
    "image_repo=<your docker image repository>\n",
    "\n",
    "[slurm]\n",
    "partition=torchx"
   ]
  },
  {
   "cell_type": "markdown",
   "id": "eb11d79e",
   "metadata": {},
   "source": [
    "## Remote Schedulers\n",
    "\n",
    "TorchX supports a large number of schedulers.\n",
    "Don't see yours?\n",
    "[Request it!](https://github.com/pytorch/torchx/issues/new?assignees=&labels=&template=feature-request.md)\n",
    "\n",
    "Remote schedulers operate the exact same way the local schedulers do. The same\n",
    "run command for local works out of the box on remote."
   ]
  },
  {
   "cell_type": "markdown",
   "id": "f7bd3a65",
   "metadata": {
    "region_name": "md"
   },
   "source": [
    "```sh\n",
    "$ torchx run --scheduler slurm dist.ddp -j 2x2 --script dist_app.py\n",
    "$ torchx run --scheduler kubernetes dist.ddp -j 2x2 --script dist_app.py\n",
    "$ torchx run --scheduler aws_batch dist.ddp -j 2x2 --script dist_app.py\n",
    "$ torchx run --scheduler ray dist.ddp -j 2x2 --script dist_app.py\n",
    "```"
   ]
  },
  {
   "cell_type": "markdown",
   "id": "650edc85",
   "metadata": {},
   "source": [
    "Depending on the scheduler there may be a few extra configuration parameters so\n",
    "TorchX knows where to run the job and upload built images. These can either be\n",
    "set via `-c` or in the `.torchxconfig` file."
   ]
  },
  {
   "cell_type": "markdown",
   "id": "58dd3f0c",
   "metadata": {},
   "source": [
    "All config options:"
   ]
  },
  {
   "cell_type": "code",
   "execution_count": 10,
   "id": "1ee637b8",
   "metadata": {
    "execution": {
     "iopub.execute_input": "2025-03-28T21:33:12.190368Z",
     "iopub.status.busy": "2025-03-28T21:33:12.190000Z",
     "iopub.status.idle": "2025-03-28T21:33:14.746882Z",
     "shell.execute_reply": "2025-03-28T21:33:14.746305Z"
    },
    "lines_to_next_cell": 2
   },
   "outputs": [
    {
     "name": "stdout",
     "output_type": "stream",
     "text": [
      "local_docker:\n",
      "    usage:\n",
      "        [copy_env=COPY_ENV],[env=ENV],[privileged=PRIVILEGED],[image_repo=I"
     ]
    },
    {
     "name": "stdout",
     "output_type": "stream",
     "text": [
      "MAGE_REPO],[quiet=QUIET]\n",
      "\n",
      "    optional arguments:\n",
      "        copy_env=COPY_ENV (typing.List[str], None)"
     ]
    },
    {
     "name": "stdout",
     "output_type": "stream",
     "text": [
      "\n",
      "            list of glob patterns of environment variables to copy if not set in AppDef. Ex: FOO_*\n"
     ]
    },
    {
     "name": "stdout",
     "output_type": "stream",
     "text": [
      "        env=ENV (typing.Dict[str, str], None)\n",
      "            environment variables to be passed to the "
     ]
    },
    {
     "name": "stdout",
     "output_type": "stream",
     "text": [
      "run. The separator sign can be eiher comma or semicolon\n",
      "            (e.g. ENV1:v1,ENV2:v2,ENV3:v3 or"
     ]
    },
    {
     "name": "stdout",
     "output_type": "stream",
     "text": [
      " ENV1:V1;ENV2:V2). Environment variables from env will be applied on top\n",
      "            of the ones fro"
     ]
    },
    {
     "name": "stdout",
     "output_type": "stream",
     "text": [
      "m copy_env\n",
      "        privileged=PRIVILEGED (bool, False)\n",
      "            If true runs the container with e"
     ]
    },
    {
     "name": "stdout",
     "output_type": "stream",
     "text": [
      "levated permissions. Equivalent to running with `docker run --privileged`.\n",
      "        image_repo=IMAGE_"
     ]
    },
    {
     "name": "stdout",
     "output_type": "stream",
     "text": [
      "REPO (str, None)\n",
      "            (remote jobs) the image repository to use when pushing patched images, "
     ]
    },
    {
     "name": "stdout",
     "output_type": "stream",
     "text": [
      "must have push access. Ex: example.com/your/container\n",
      "        quiet=QUIET (bool, False)\n",
      "            "
     ]
    },
    {
     "name": "stdout",
     "output_type": "stream",
     "text": [
      "whether to suppress verbose output for image building. Defaults to ``False``.\n",
      "\n",
      "local_cwd:\n",
      "    usage:"
     ]
    },
    {
     "name": "stdout",
     "output_type": "stream",
     "text": [
      "\n",
      "        [log_dir=LOG_DIR],[prepend_cwd=PREPEND_CWD],[auto_set_cuda_visible_devices=AUTO_SET_CUDA_VI"
     ]
    },
    {
     "name": "stdout",
     "output_type": "stream",
     "text": [
      "SIBLE_DEVICES]\n",
      "\n",
      "    optional arguments:\n",
      "        log_dir=LOG_DIR (str, None)\n",
      "            dir to write"
     ]
    },
    {
     "name": "stdout",
     "output_type": "stream",
     "text": [
      " stdout/stderr log files of replicas\n",
      "        prepend_cwd=PREPEND_CWD (bool, False)\n",
      "            if se"
     ]
    },
    {
     "name": "stdout",
     "output_type": "stream",
     "text": [
      "t, prepends CWD to replica's PATH env var making any binaries in CWD take precedence over those in P"
     ]
    },
    {
     "name": "stdout",
     "output_type": "stream",
     "text": [
      "ATH\n",
      "        auto_set_cuda_visible_devices=AUTO_SET_CUDA_VISIBLE_DEVICES (bool, False)\n",
      "            se"
     ]
    },
    {
     "name": "stdout",
     "output_type": "stream",
     "text": [
      "ts the `CUDA_AVAILABLE_DEVICES` for roles that request GPU resources. Each role replica will be assi"
     ]
    },
    {
     "name": "stdout",
     "output_type": "stream",
     "text": [
      "gned one GPU. Does nothing if the device count is less than replicas.\n",
      "\n",
      "slurm:\n",
      "    usage:\n",
      "        [pa"
     ]
    },
    {
     "name": "stdout",
     "output_type": "stream",
     "text": [
      "rtition=PARTITION],[time=TIME],[comment=COMMENT],[constraint=CONSTRAINT],[mail-user=MAIL-USER],[mail"
     ]
    },
    {
     "name": "stdout",
     "output_type": "stream",
     "text": [
      "-type=MAIL-TYPE],[job_dir=JOB_DIR]\n",
      "\n",
      "    optional arguments:\n",
      "        partition=PARTITION (str, None)\n"
     ]
    },
    {
     "name": "stdout",
     "output_type": "stream",
     "text": [
      "            The partition to run the job in.\n",
      "        time=TIME (str, None)\n",
      "            The maximum t"
     ]
    },
    {
     "name": "stdout",
     "output_type": "stream",
     "text": [
      "ime the job is allowed to run for. Formats:             \"minutes\", \"minutes:seconds\", \"hours:minutes"
     ]
    },
    {
     "name": "stdout",
     "output_type": "stream",
     "text": [
      ":seconds\", \"days-hours\",             \"days-hours:minutes\" or \"days-hours:minutes:seconds\"\n",
      "        co"
     ]
    },
    {
     "name": "stdout",
     "output_type": "stream",
     "text": [
      "mment=COMMENT (str, None)\n",
      "            Comment to set on the slurm job.\n",
      "        constraint=CONSTRAINT"
     ]
    },
    {
     "name": "stdout",
     "output_type": "stream",
     "text": [
      " (str, None)\n",
      "            Constraint to use for the slurm job.\n",
      "        mail-user=MAIL-USER (str, None"
     ]
    },
    {
     "name": "stdout",
     "output_type": "stream",
     "text": [
      ")\n",
      "            User to mail on job end.\n",
      "        mail-type=MAIL-TYPE (str, None)\n",
      "            What even"
     ]
    },
    {
     "name": "stdout",
     "output_type": "stream",
     "text": [
      "ts to mail users on.\n",
      "        job_dir=JOB_DIR (str, None)\n",
      "            The directory to place the job "
     ]
    },
    {
     "name": "stdout",
     "output_type": "stream",
     "text": [
      "code and outputs. The\n",
      "            directory must not exist and will be created. To enable log\n",
      "      "
     ]
    },
    {
     "name": "stdout",
     "output_type": "stream",
     "text": [
      "      iteration, jobs will be tracked in ``.torchxslurmjobdirs``.\n",
      "            \n",
      "\n",
      "kubernetes:\n",
      "    usag"
     ]
    },
    {
     "name": "stdout",
     "output_type": "stream",
     "text": [
      "e:\n",
      "        queue=QUEUE,[namespace=NAMESPACE],[service_account=SERVICE_ACCOUNT],[priority_class=PRIOR"
     ]
    },
    {
     "name": "stdout",
     "output_type": "stream",
     "text": [
      "ITY_CLASS],[image_repo=IMAGE_REPO],[quiet=QUIET]\n",
      "\n",
      "    required arguments:\n",
      "        queue=QUEUE (str)\n"
     ]
    },
    {
     "name": "stdout",
     "output_type": "stream",
     "text": [
      "            Volcano queue to schedule job in\n",
      "\n",
      "    optional arguments:\n",
      "        namespace=NAMESPACE (s"
     ]
    },
    {
     "name": "stdout",
     "output_type": "stream",
     "text": [
      "tr, default)\n",
      "            Kubernetes namespace to schedule job in\n",
      "        service_account=SERVICE_ACC"
     ]
    },
    {
     "name": "stdout",
     "output_type": "stream",
     "text": [
      "OUNT (str, None)\n",
      "            The service account name to set on the pod specs\n",
      "        priority_class"
     ]
    },
    {
     "name": "stdout",
     "output_type": "stream",
     "text": [
      "=PRIORITY_CLASS (str, None)\n",
      "            The name of the PriorityClass to set on the job specs\n",
      "      "
     ]
    },
    {
     "name": "stdout",
     "output_type": "stream",
     "text": [
      "  image_repo=IMAGE_REPO (str, None)\n",
      "            (remote jobs) the image repository to use when pushi"
     ]
    },
    {
     "name": "stdout",
     "output_type": "stream",
     "text": [
      "ng patched images, must have push access. Ex: example.com/your/container\n",
      "        quiet=QUIET (bool, "
     ]
    },
    {
     "name": "stdout",
     "output_type": "stream",
     "text": [
      "False)\n",
      "            whether to suppress verbose output for image building. Defaults to ``False``.\n",
      "\n",
      "ku"
     ]
    },
    {
     "name": "stdout",
     "output_type": "stream",
     "text": [
      "bernetes_mcad:\n",
      "    usage:\n",
      "        [namespace=NAMESPACE],[image_repo=IMAGE_REPO],[service_account=SER"
     ]
    },
    {
     "name": "stdout",
     "output_type": "stream",
     "text": [
      "VICE_ACCOUNT],[priority=PRIORITY],[priority_class_name=PRIORITY_CLASS_NAME],[image_secret=IMAGE_SECR"
     ]
    },
    {
     "name": "stdout",
     "output_type": "stream",
     "text": [
      "ET],[coscheduler_name=COSCHEDULER_NAME],[network=NETWORK]\n",
      "\n",
      "    optional arguments:\n",
      "        namespace"
     ]
    },
    {
     "name": "stdout",
     "output_type": "stream",
     "text": [
      "=NAMESPACE (str, default)\n",
      "            Kubernetes namespace to schedule job in\n",
      "        image_repo=IMA"
     ]
    },
    {
     "name": "stdout",
     "output_type": "stream",
     "text": [
      "GE_REPO (str, None)\n",
      "            The image repository to use when pushing patched images, must have p"
     ]
    },
    {
     "name": "stdout",
     "output_type": "stream",
     "text": [
      "ush access. Ex: example.com/your/container\n",
      "        service_account=SERVICE_ACCOUNT (str, None)\n",
      "     "
     ]
    },
    {
     "name": "stdout",
     "output_type": "stream",
     "text": [
      "       The service account name to set on the pod specs\n",
      "        priority=PRIORITY (int, None)\n",
      "      "
     ]
    },
    {
     "name": "stdout",
     "output_type": "stream",
     "text": [
      "      The priority level to set on the job specs. Higher integer value means higher priority\n",
      "       "
     ]
    },
    {
     "name": "stdout",
     "output_type": "stream",
     "text": [
      " priority_class_name=PRIORITY_CLASS_NAME (str, None)\n",
      "            Pod specific priority level. Check "
     ]
    },
    {
     "name": "stdout",
     "output_type": "stream",
     "text": [
      "with your Kubernetes cluster admin if Priority classes are defined on your system\n",
      "        image_secr"
     ]
    },
    {
     "name": "stdout",
     "output_type": "stream",
     "text": [
      "et=IMAGE_SECRET (str, None)\n",
      "            The name of the Kubernetes/OpenShift secret set up for priva"
     ]
    },
    {
     "name": "stdout",
     "output_type": "stream",
     "text": [
      "te images\n",
      "        coscheduler_name=COSCHEDULER_NAME (str, None)\n",
      "            Option to run TorchX-MCA"
     ]
    },
    {
     "name": "stdout",
     "output_type": "stream",
     "text": [
      "D with a co-scheduler. User must provide the co-scheduler name.\n",
      "        network=NETWORK (str, None)\n"
     ]
    },
    {
     "name": "stdout",
     "output_type": "stream",
     "text": [
      "            Name of additional pod-to-pod network beyond default Kubernetes network\n",
      "\n",
      "aws_batch:\n",
      "    "
     ]
    },
    {
     "name": "stdout",
     "output_type": "stream",
     "text": [
      "usage:\n",
      "        queue=QUEUE,[user=USER],[privileged=PRIVILEGED],[share_id=SHARE_ID],[priority=PRIORIT"
     ]
    },
    {
     "name": "stdout",
     "output_type": "stream",
     "text": [
      "Y],[job_role_arn=JOB_ROLE_ARN],[execution_role_arn=EXECUTION_ROLE_ARN],[image_repo=IMAGE_REPO],[quie"
     ]
    },
    {
     "name": "stdout",
     "output_type": "stream",
     "text": [
      "t=QUIET]\n",
      "\n",
      "    required arguments:\n",
      "        queue=QUEUE (str)\n",
      "            queue to schedule job in\n",
      "\n",
      "  "
     ]
    },
    {
     "name": "stdout",
     "output_type": "stream",
     "text": [
      "  optional arguments:\n",
      "        user=USER (str, runner)\n",
      "            The username to tag the job with. "
     ]
    },
    {
     "name": "stdout",
     "output_type": "stream",
     "text": [
      "`getpass.getuser()` if not specified.\n",
      "        privileged=PRIVILEGED (bool, False)\n",
      "            If tru"
     ]
    },
    {
     "name": "stdout",
     "output_type": "stream",
     "text": [
      "e runs the container with elevated permissions. Equivalent to running with `docker run --privileged`"
     ]
    },
    {
     "name": "stdout",
     "output_type": "stream",
     "text": [
      ".\n",
      "        share_id=SHARE_ID (str, None)\n",
      "            The share identifier for the job. This must be s"
     ]
    },
    {
     "name": "stdout",
     "output_type": "stream",
     "text": [
      "et if and only if the job queue has a scheduling policy.\n",
      "        priority=PRIORITY (int, 0)\n",
      "        "
     ]
    },
    {
     "name": "stdout",
     "output_type": "stream",
     "text": [
      "    The scheduling priority for the job within the context of share_id. Higher number (between 0 and"
     ]
    },
    {
     "name": "stdout",
     "output_type": "stream",
     "text": [
      " 9999) means higher priority. This will only take effect if the job queue has a scheduling policy.\n",
      " "
     ]
    },
    {
     "name": "stdout",
     "output_type": "stream",
     "text": [
      "       job_role_arn=JOB_ROLE_ARN (str, None)\n",
      "            The Amazon Resource Name (ARN) of the IAM r"
     ]
    },
    {
     "name": "stdout",
     "output_type": "stream",
     "text": [
      "ole that the container can assume for AWS permissions.\n",
      "        execution_role_arn=EXECUTION_ROLE_ARN"
     ]
    },
    {
     "name": "stdout",
     "output_type": "stream",
     "text": [
      " (str, None)\n",
      "            The Amazon Resource Name (ARN) of the IAM role that the ECS agent can assum"
     ]
    },
    {
     "name": "stdout",
     "output_type": "stream",
     "text": [
      "e for AWS permissions.\n",
      "        image_repo=IMAGE_REPO (str, None)\n",
      "            (remote jobs) the image"
     ]
    },
    {
     "name": "stdout",
     "output_type": "stream",
     "text": [
      " repository to use when pushing patched images, must have push access. Ex: example.com/your/containe"
     ]
    },
    {
     "name": "stdout",
     "output_type": "stream",
     "text": [
      "r\n",
      "        quiet=QUIET (bool, False)\n",
      "            whether to suppress verbose output for image buildin"
     ]
    },
    {
     "name": "stdout",
     "output_type": "stream",
     "text": [
      "g. Defaults to ``False``.\n",
      "\n",
      "sagemaker.config INFO - Not applying SDK defaults from location: /etc/xdg"
     ]
    },
    {
     "name": "stdout",
     "output_type": "stream",
     "text": [
      "/sagemaker/config.yaml\n",
      "sagemaker.config INFO - Not applying SDK defaults from location: /home/runner"
     ]
    },
    {
     "name": "stdout",
     "output_type": "stream",
     "text": [
      "/.config/sagemaker/config.yaml\n"
     ]
    },
    {
     "name": "stdout",
     "output_type": "stream",
     "text": [
      "aws_sagemaker:\n",
      "    usage:\n",
      "        role=ROLE,instance_type=INSTANCE_TYPE,[instance_count=INSTANCE_COU"
     ]
    },
    {
     "name": "stdout",
     "output_type": "stream",
     "text": [
      "NT],[user=USER],[keep_alive_period_in_seconds=KEEP_ALIVE_PERIOD_IN_SECONDS],[volume_size=VOLUME_SIZE"
     ]
    },
    {
     "name": "stdout",
     "output_type": "stream",
     "text": [
      "],[volume_kms_key=VOLUME_KMS_KEY],[max_run=MAX_RUN],[input_mode=INPUT_MODE],[output_path=OUTPUT_PATH"
     ]
    },
    {
     "name": "stdout",
     "output_type": "stream",
     "text": [
      "],[output_kms_key=OUTPUT_KMS_KEY],[base_job_name=BASE_JOB_NAME],[tags=TAGS],[subnets=SUBNETS],[secur"
     ]
    },
    {
     "name": "stdout",
     "output_type": "stream",
     "text": [
      "ity_group_ids=SECURITY_GROUP_IDS],[model_uri=MODEL_URI],[model_channel_name=MODEL_CHANNEL_NAME],[met"
     ]
    },
    {
     "name": "stdout",
     "output_type": "stream",
     "text": [
      "ric_definitions=METRIC_DEFINITIONS],[encrypt_inter_container_traffic=ENCRYPT_INTER_CONTAINER_TRAFFIC"
     ]
    },
    {
     "name": "stdout",
     "output_type": "stream",
     "text": [
      "],[use_spot_instances=USE_SPOT_INSTANCES],[max_wait=MAX_WAIT],[checkpoint_s3_uri=CHECKPOINT_S3_URI],"
     ]
    },
    {
     "name": "stdout",
     "output_type": "stream",
     "text": [
      "[checkpoint_local_path=CHECKPOINT_LOCAL_PATH],[debugger_hook_config=DEBUGGER_HOOK_CONFIG],[enable_sa"
     ]
    },
    {
     "name": "stdout",
     "output_type": "stream",
     "text": [
      "gemaker_metrics=ENABLE_SAGEMAKER_METRICS],[enable_network_isolation=ENABLE_NETWORK_ISOLATION],[disab"
     ]
    },
    {
     "name": "stdout",
     "output_type": "stream",
     "text": [
      "le_profiler=DISABLE_PROFILER],[environment=ENVIRONMENT],[max_retry_attempts=MAX_RETRY_ATTEMPTS],[sou"
     ]
    },
    {
     "name": "stdout",
     "output_type": "stream",
     "text": [
      "rce_dir=SOURCE_DIR],[git_config=GIT_CONFIG],[hyperparameters=HYPERPARAMETERS],[container_log_level=C"
     ]
    },
    {
     "name": "stdout",
     "output_type": "stream",
     "text": [
      "ONTAINER_LOG_LEVEL],[code_location=CODE_LOCATION],[dependencies=DEPENDENCIES],[training_repository_a"
     ]
    },
    {
     "name": "stdout",
     "output_type": "stream",
     "text": [
      "ccess_mode=TRAINING_REPOSITORY_ACCESS_MODE],[training_repository_credentials_provider_arn=TRAINING_R"
     ]
    },
    {
     "name": "stdout",
     "output_type": "stream",
     "text": [
      "EPOSITORY_CREDENTIALS_PROVIDER_ARN],[disable_output_compression=DISABLE_OUTPUT_COMPRESSION],[enable_"
     ]
    },
    {
     "name": "stdout",
     "output_type": "stream",
     "text": [
      "infra_check=ENABLE_INFRA_CHECK],[image_repo=IMAGE_REPO],[quiet=QUIET]\n",
      "\n",
      "    required arguments:\n",
      "     "
     ]
    },
    {
     "name": "stdout",
     "output_type": "stream",
     "text": [
      "   role=ROLE (str)\n",
      "            an AWS IAM role (either name or full ARN). The Amazon SageMaker train"
     ]
    },
    {
     "name": "stdout",
     "output_type": "stream",
     "text": [
      "ing jobs and APIs that create Amazon SageMaker endpoints use this role to access training data and m"
     ]
    },
    {
     "name": "stdout",
     "output_type": "stream",
     "text": [
      "odel artifacts. After the endpoint is created, the inference code might use the IAM role, if it need"
     ]
    },
    {
     "name": "stdout",
     "output_type": "stream",
     "text": [
      "s to access an AWS resource.\n",
      "        instance_type=INSTANCE_TYPE (str)\n",
      "            type of EC2 insta"
     ]
    },
    {
     "name": "stdout",
     "output_type": "stream",
     "text": [
      "nce to use for training, for example, 'ml.c4.xlarge'\n",
      "\n",
      "    optional arguments:\n",
      "        instance_count"
     ]
    },
    {
     "name": "stdout",
     "output_type": "stream",
     "text": [
      "=INSTANCE_COUNT (int, 1)\n",
      "            number of Amazon EC2 instances to use for training. Required if"
     ]
    },
    {
     "name": "stdout",
     "output_type": "stream",
     "text": [
      " instance_groups is not set.\n",
      "        user=USER (str, runner)\n",
      "            the username to tag the job"
     ]
    },
    {
     "name": "stdout",
     "output_type": "stream",
     "text": [
      " with. `getpass.getuser()` if not specified.\n",
      "        keep_alive_period_in_seconds=KEEP_ALIVE_PERIOD_"
     ]
    },
    {
     "name": "stdout",
     "output_type": "stream",
     "text": [
      "IN_SECONDS (int, None)\n",
      "            the duration of time in seconds to retain configured resources in"
     ]
    },
    {
     "name": "stdout",
     "output_type": "stream",
     "text": [
      " a warm pool for subsequent training jobs.\n",
      "        volume_size=VOLUME_SIZE (int, None)\n",
      "            s"
     ]
    },
    {
     "name": "stdout",
     "output_type": "stream",
     "text": [
      "ize in GB of the storage volume to use for storing input and output data during training (default: 3"
     ]
    },
    {
     "name": "stdout",
     "output_type": "stream",
     "text": [
      "0).\n",
      "        volume_kms_key=VOLUME_KMS_KEY (str, None)\n",
      "            KMS key ID for encrypting EBS volu"
     ]
    },
    {
     "name": "stdout",
     "output_type": "stream",
     "text": [
      "me attached to the training instance.\n",
      "        max_run=MAX_RUN (int, None)\n",
      "            timeout in sec"
     ]
    },
    {
     "name": "stdout",
     "output_type": "stream",
     "text": [
      "onds for training (default: 24 * 60 * 60).\n",
      "        input_mode=INPUT_MODE (str, None)\n",
      "            the"
     ]
    },
    {
     "name": "stdout",
     "output_type": "stream",
     "text": [
      " input mode that the algorithm supports (default: ‘File’).\n",
      "        output_path=OUTPUT_PATH (str,"
     ]
    },
    {
     "name": "stdout",
     "output_type": "stream",
     "text": [
      " None)\n",
      "            S3 location for saving the training result (model artifacts and output files). If"
     ]
    },
    {
     "name": "stdout",
     "output_type": "stream",
     "text": [
      " not specified, results are stored to a default bucket. If the bucket with the specific name does no"
     ]
    },
    {
     "name": "stdout",
     "output_type": "stream",
     "text": [
      "t exist, the estimator creates the bucket during the fit() method execution.\n",
      "        output_kms_key="
     ]
    },
    {
     "name": "stdout",
     "output_type": "stream",
     "text": [
      "OUTPUT_KMS_KEY (str, None)\n",
      "            KMS key ID for encrypting the training output (default: Your "
     ]
    },
    {
     "name": "stdout",
     "output_type": "stream",
     "text": [
      "IAM role’s KMS key for Amazon S3).\n",
      "        base_job_name=BASE_JOB_NAME (str, None)\n",
      "            pre"
     ]
    },
    {
     "name": "stdout",
     "output_type": "stream",
     "text": [
      "fix for training job name when the fit() method launches. If not specified, the estimator generates "
     ]
    },
    {
     "name": "stdout",
     "output_type": "stream",
     "text": [
      "a default job name based on the training image name and current timestamp.\n",
      "        tags=TAGS (typing"
     ]
    },
    {
     "name": "stdout",
     "output_type": "stream",
     "text": [
      ".List[typing.Dict[str, str]], None)\n",
      "            list of tags for labeling a training job.\n",
      "        su"
     ]
    },
    {
     "name": "stdout",
     "output_type": "stream",
     "text": [
      "bnets=SUBNETS (typing.List[str], None)\n",
      "            list of subnet ids. If not specified training job"
     ]
    },
    {
     "name": "stdout",
     "output_type": "stream",
     "text": [
      " will be created without VPC config.\n",
      "        security_group_ids=SECURITY_GROUP_IDS (typing.List[str]"
     ]
    },
    {
     "name": "stdout",
     "output_type": "stream",
     "text": [
      ", None)\n",
      "            list of security group ids. If not specified training job will be created withou"
     ]
    },
    {
     "name": "stdout",
     "output_type": "stream",
     "text": [
      "t VPC config.\n",
      "        model_uri=MODEL_URI (str, None)\n",
      "            URI where a pre-trained model is s"
     ]
    },
    {
     "name": "stdout",
     "output_type": "stream",
     "text": [
      "tored, either locally or in S3.\n",
      "        model_channel_name=MODEL_CHANNEL_NAME (str, None)\n",
      "          "
     ]
    },
    {
     "name": "stdout",
     "output_type": "stream",
     "text": [
      "  name of the channel where ‘model_uri’ will be downloaded (default: ‘model’).\n",
      "        metri"
     ]
    },
    {
     "name": "stdout",
     "output_type": "stream",
     "text": [
      "c_definitions=METRIC_DEFINITIONS (typing.List[typing.Dict[str, str]], None)\n",
      "            list of dict"
     ]
    },
    {
     "name": "stdout",
     "output_type": "stream",
     "text": [
      "ionaries that defines the metric(s) used to evaluate the training jobs. Each dictionary contains two"
     ]
    },
    {
     "name": "stdout",
     "output_type": "stream",
     "text": [
      " keys: ‘Name’ for the name of the metric, and ‘Regex’ for the regular expression used to ext"
     ]
    },
    {
     "name": "stdout",
     "output_type": "stream",
     "text": [
      "ract the metric from the logs.\n",
      "        encrypt_inter_container_traffic=ENCRYPT_INTER_CONTAINER_TRAFF"
     ]
    },
    {
     "name": "stdout",
     "output_type": "stream",
     "text": [
      "IC (bool, None)\n",
      "            specifies whether traffic between training containers is encrypted for t"
     ]
    },
    {
     "name": "stdout",
     "output_type": "stream",
     "text": [
      "he training job (default: False).\n",
      "        use_spot_instances=USE_SPOT_INSTANCES (bool, None)\n",
      "       "
     ]
    },
    {
     "name": "stdout",
     "output_type": "stream",
     "text": [
      "     specifies whether to use SageMaker Managed Spot instances for training. If enabled then the max"
     ]
    },
    {
     "name": "stdout",
     "output_type": "stream",
     "text": [
      "_wait arg should also be set.\n",
      "        max_wait=MAX_WAIT (int, None)\n",
      "            timeout in seconds w"
     ]
    },
    {
     "name": "stdout",
     "output_type": "stream",
     "text": [
      "aiting for spot training job.\n",
      "        checkpoint_s3_uri=CHECKPOINT_S3_URI (str, None)\n",
      "            S3"
     ]
    },
    {
     "name": "stdout",
     "output_type": "stream",
     "text": [
      " URI in which to persist checkpoints that the algorithm persists (if any) during training.\n",
      "        c"
     ]
    },
    {
     "name": "stdout",
     "output_type": "stream",
     "text": [
      "heckpoint_local_path=CHECKPOINT_LOCAL_PATH (str, None)\n",
      "            local path that the algorithm wri"
     ]
    },
    {
     "name": "stdout",
     "output_type": "stream",
     "text": [
      "tes its checkpoints to.\n",
      "        debugger_hook_config=DEBUGGER_HOOK_CONFIG (bool, None)\n",
      "            c"
     ]
    },
    {
     "name": "stdout",
     "output_type": "stream",
     "text": [
      "onfiguration for how debugging information is emitted with SageMaker Debugger. If not specified, a d"
     ]
    },
    {
     "name": "stdout",
     "output_type": "stream",
     "text": [
      "efault one is created using the estimator’s output_path, unless the region does not support SageMa"
     ]
    },
    {
     "name": "stdout",
     "output_type": "stream",
     "text": [
      "ker Debugger. To disable SageMaker Debugger, set this parameter to False.\n",
      "        enable_sagemaker_m"
     ]
    },
    {
     "name": "stdout",
     "output_type": "stream",
     "text": [
      "etrics=ENABLE_SAGEMAKER_METRICS (bool, None)\n",
      "            enable SageMaker Metrics Time Series.\n",
      "     "
     ]
    },
    {
     "name": "stdout",
     "output_type": "stream",
     "text": [
      "   enable_network_isolation=ENABLE_NETWORK_ISOLATION (bool, None)\n",
      "            specifies whether cont"
     ]
    },
    {
     "name": "stdout",
     "output_type": "stream",
     "text": [
      "ainer will run in network isolation mode (default: False).\n",
      "        disable_profiler=DISABLE_PROFILER"
     ]
    },
    {
     "name": "stdout",
     "output_type": "stream",
     "text": [
      " (bool, None)\n",
      "            specifies whether Debugger monitoring and profiling will be disabled (defa"
     ]
    },
    {
     "name": "stdout",
     "output_type": "stream",
     "text": [
      "ult: False).\n",
      "        environment=ENVIRONMENT (typing.Dict[str, str], None)\n",
      "            environment v"
     ]
    },
    {
     "name": "stdout",
     "output_type": "stream",
     "text": [
      "ariables to be set for use during training job\n",
      "        max_retry_attempts=MAX_RETRY_ATTEMPTS (int, N"
     ]
    },
    {
     "name": "stdout",
     "output_type": "stream",
     "text": [
      "one)\n",
      "            number of times to move a job to the STARTING status. You can specify between 1 and"
     ]
    },
    {
     "name": "stdout",
     "output_type": "stream",
     "text": [
      " 30 attempts.\n",
      "        source_dir=SOURCE_DIR (str, None)\n",
      "            absolute, relative, or S3 URI Pa"
     ]
    },
    {
     "name": "stdout",
     "output_type": "stream",
     "text": [
      "th to a directory with any other training source code dependencies aside from the entry point file ("
     ]
    },
    {
     "name": "stdout",
     "output_type": "stream",
     "text": [
      "default: current working directory)\n",
      "        git_config=GIT_CONFIG (typing.Dict[str, str], None)\n",
      "    "
     ]
    },
    {
     "name": "stdout",
     "output_type": "stream",
     "text": [
      "        git configurations used for cloning files, including repo, branch, commit, 2FA_enabled, user"
     ]
    },
    {
     "name": "stdout",
     "output_type": "stream",
     "text": [
      "name, password, and token.\n",
      "        hyperparameters=HYPERPARAMETERS (typing.Dict[str, str], None)\n",
      "   "
     ]
    },
    {
     "name": "stdout",
     "output_type": "stream",
     "text": [
      "         dictionary containing the hyperparameters to initialize this estimator with.\n",
      "        contai"
     ]
    },
    {
     "name": "stdout",
     "output_type": "stream",
     "text": [
      "ner_log_level=CONTAINER_LOG_LEVEL (int, None)\n",
      "            log level to use within the container (def"
     ]
    },
    {
     "name": "stdout",
     "output_type": "stream",
     "text": [
      "ault: logging.INFO).\n",
      "        code_location=CODE_LOCATION (str, None)\n",
      "            S3 prefix URI where"
     ]
    },
    {
     "name": "stdout",
     "output_type": "stream",
     "text": [
      " custom code is uploaded.\n",
      "        dependencies=DEPENDENCIES (typing.List[str], None)\n",
      "            lis"
     ]
    },
    {
     "name": "stdout",
     "output_type": "stream",
     "text": [
      "t of absolute or relative paths to directories with any additional libraries that should be exported"
     ]
    },
    {
     "name": "stdout",
     "output_type": "stream",
     "text": [
      " to the container.\n",
      "        training_repository_access_mode=TRAINING_REPOSITORY_ACCESS_MODE (str, Non"
     ]
    },
    {
     "name": "stdout",
     "output_type": "stream",
     "text": [
      "e)\n",
      "            specifies how SageMaker accesses the Docker image that contains the training algorith"
     ]
    },
    {
     "name": "stdout",
     "output_type": "stream",
     "text": [
      "m.\n",
      "        training_repository_credentials_provider_arn=TRAINING_REPOSITORY_CREDENTIALS_PROVIDER_ARN"
     ]
    },
    {
     "name": "stdout",
     "output_type": "stream",
     "text": [
      " (str, None)\n",
      "            Amazon Resource Name (ARN) of an AWS Lambda function that provides credenti"
     ]
    },
    {
     "name": "stdout",
     "output_type": "stream",
     "text": [
      "als to authenticate to the private Docker registry where your training image is hosted.\n",
      "        disa"
     ]
    },
    {
     "name": "stdout",
     "output_type": "stream",
     "text": [
      "ble_output_compression=DISABLE_OUTPUT_COMPRESSION (bool, None)\n",
      "            when set to true, Model i"
     ]
    },
    {
     "name": "stdout",
     "output_type": "stream",
     "text": [
      "s uploaded to Amazon S3 without compression after training finishes.\n",
      "        enable_infra_check=ENAB"
     ]
    },
    {
     "name": "stdout",
     "output_type": "stream",
     "text": [
      "LE_INFRA_CHECK (bool, None)\n",
      "            specifies whether it is running Sagemaker built-in infra che"
     ]
    },
    {
     "name": "stdout",
     "output_type": "stream",
     "text": [
      "ck jobs.\n",
      "        image_repo=IMAGE_REPO (str, None)\n",
      "            (remote jobs) the image repository to"
     ]
    },
    {
     "name": "stdout",
     "output_type": "stream",
     "text": [
      " use when pushing patched images, must have push access. Ex: example.com/your/container\n",
      "        quie"
     ]
    },
    {
     "name": "stdout",
     "output_type": "stream",
     "text": [
      "t=QUIET (bool, False)\n",
      "            whether to suppress verbose output for image building. Defaults to"
     ]
    },
    {
     "name": "stdout",
     "output_type": "stream",
     "text": [
      " ``False``.\n"
     ]
    },
    {
     "name": "stdout",
     "output_type": "stream",
     "text": [
      "\n",
      "gcp_batch:\n",
      "    usage:\n",
      "        [project=PROJECT],[location=LOCATION]\n",
      "\n",
      "    optional arguments:\n",
      "      "
     ]
    },
    {
     "name": "stdout",
     "output_type": "stream",
     "text": [
      "  project=PROJECT (str, None)\n",
      "            Name of the GCP project. Defaults to the configured GCP pr"
     ]
    },
    {
     "name": "stdout",
     "output_type": "stream",
     "text": [
      "oject in the environment\n",
      "        location=LOCATION (str, us-central1)\n",
      "            Name of the locati"
     ]
    },
    {
     "name": "stdout",
     "output_type": "stream",
     "text": [
      "on to schedule the job in. Defaults to us-central1\n",
      "\n",
      "ray:\n",
      "    usage:\n",
      "        [cluster_config_file=CLU"
     ]
    },
    {
     "name": "stdout",
     "output_type": "stream",
     "text": [
      "STER_CONFIG_FILE],[cluster_name=CLUSTER_NAME],[dashboard_address=DASHBOARD_ADDRESS],[requirements=RE"
     ]
    },
    {
     "name": "stdout",
     "output_type": "stream",
     "text": [
      "QUIREMENTS]\n",
      "\n",
      "    optional arguments:\n",
      "        cluster_config_file=CLUSTER_CONFIG_FILE (str, None)\n",
      "   "
     ]
    },
    {
     "name": "stdout",
     "output_type": "stream",
     "text": [
      "         Use CLUSTER_CONFIG_FILE to access or create the Ray cluster.\n",
      "        cluster_name=CLUSTER_N"
     ]
    },
    {
     "name": "stdout",
     "output_type": "stream",
     "text": [
      "AME (str, None)\n",
      "            Override the configured cluster name.\n",
      "        dashboard_address=DASHBOAR"
     ]
    },
    {
     "name": "stdout",
     "output_type": "stream",
     "text": [
      "D_ADDRESS (str, 127.0.0.1:8265)\n",
      "            Use ray status to get the dashboard address you will sub"
     ]
    },
    {
     "name": "stdout",
     "output_type": "stream",
     "text": [
      "mit jobs against\n",
      "        requirements=REQUIREMENTS (str, None)\n",
      "            Path to requirements.txt\n"
     ]
    },
    {
     "name": "stdout",
     "output_type": "stream",
     "text": [
      "\n",
      "lsf:\n",
      "    usage:\n",
      "        [lsf_queue=LSF_QUEUE],[jobdir=JOBDIR],[container_workdir=CONTAINER_WORKDIR]"
     ]
    },
    {
     "name": "stdout",
     "output_type": "stream",
     "text": [
      ",[host_network=HOST_NETWORK],[shm_size=SHM_SIZE]\n",
      "\n",
      "    optional arguments:\n",
      "        lsf_queue=LSF_QUEU"
     ]
    },
    {
     "name": "stdout",
     "output_type": "stream",
     "text": [
      "E (str, None)\n",
      "            queue name to submit jobs\n",
      "        jobdir=JOBDIR (str, None)\n",
      "            Th"
     ]
    },
    {
     "name": "stdout",
     "output_type": "stream",
     "text": [
      "e directory to place the job code and outputs. The directory must not exist and will be created.\n",
      "   "
     ]
    },
    {
     "name": "stdout",
     "output_type": "stream",
     "text": [
      "     container_workdir=CONTAINER_WORKDIR (str, None)\n",
      "            working directory in container jobs"
     ]
    },
    {
     "name": "stdout",
     "output_type": "stream",
     "text": [
      "\n",
      "        host_network=HOST_NETWORK (bool, False)\n",
      "            True if using the host network for jobs"
     ]
    },
    {
     "name": "stdout",
     "output_type": "stream",
     "text": [
      "\n",
      "        shm_size=SHM_SIZE (str, 64m)\n",
      "            size of shared memory (/dev/shm) for jobs\n",
      "\n"
     ]
    }
   ],
   "source": [
    "%%sh\n",
    "torchx runopts"
   ]
  },
  {
   "cell_type": "markdown",
   "id": "047398e4",
   "metadata": {},
   "source": [
    "## Custom Images\n",
    "\n",
    "### Docker-based Schedulers\n",
    "\n",
    "If you want more than the standard PyTorch libraries you can add custom\n",
    "Dockerfile or build your own docker container and use it as the base image for\n",
    "your TorchX jobs.\n"
   ]
  },
  {
   "cell_type": "code",
   "execution_count": 11,
   "id": "0c84d19d",
   "metadata": {
    "execution": {
     "iopub.execute_input": "2025-03-28T21:33:14.749525Z",
     "iopub.status.busy": "2025-03-28T21:33:14.749004Z",
     "iopub.status.idle": "2025-03-28T21:33:14.752887Z",
     "shell.execute_reply": "2025-03-28T21:33:14.752370Z"
    }
   },
   "outputs": [
    {
     "name": "stdout",
     "output_type": "stream",
     "text": [
      "Writing timm_app.py\n"
     ]
    }
   ],
   "source": [
    "%%writefile timm_app.py\n",
    "\n",
    "import timm\n",
    "\n",
    "print(timm.models.resnet18())"
   ]
  },
  {
   "cell_type": "code",
   "execution_count": 12,
   "id": "da20f009",
   "metadata": {
    "execution": {
     "iopub.execute_input": "2025-03-28T21:33:14.754771Z",
     "iopub.status.busy": "2025-03-28T21:33:14.754570Z",
     "iopub.status.idle": "2025-03-28T21:33:14.758236Z",
     "shell.execute_reply": "2025-03-28T21:33:14.757696Z"
    }
   },
   "outputs": [
    {
     "name": "stdout",
     "output_type": "stream",
     "text": [
      "Writing Dockerfile.torchx\n"
     ]
    }
   ],
   "source": [
    "%%writefile Dockerfile.torchx\n",
    "\n",
    "FROM pytorch/pytorch:1.10.0-cuda11.3-cudnn8-runtime\n",
    "\n",
    "RUN pip install timm\n",
    "\n",
    "COPY . ."
   ]
  },
  {
   "cell_type": "markdown",
   "id": "efd48ebc",
   "metadata": {},
   "source": [
    "Once we have the Dockerfile created we can launch as normal and TorchX will\n",
    "automatically build the image with the newly provided Dockerfile instead of the\n",
    "default one."
   ]
  },
  {
   "cell_type": "code",
   "execution_count": 13,
   "id": "98c6e6d7",
   "metadata": {
    "execution": {
     "iopub.execute_input": "2025-03-28T21:33:14.760262Z",
     "iopub.status.busy": "2025-03-28T21:33:14.759886Z",
     "iopub.status.idle": "2025-03-28T21:34:53.480856Z",
     "shell.execute_reply": "2025-03-28T21:34:53.480138Z"
    }
   },
   "outputs": [
    {
     "name": "stderr",
     "output_type": "stream",
     "text": [
      "torchx 2025-03-28 21:33:15 INFO     loaded configs from /home/runner/work/torchx/torchx/docs/source/"
     ]
    },
    {
     "name": "stderr",
     "output_type": "stream",
     "text": [
      ".torchxconfig\n"
     ]
    },
    {
     "name": "stderr",
     "output_type": "stream",
     "text": [
      "torchx 2025-03-28 21:33:15 INFO     Tracker configurations: {}\n"
     ]
    },
    {
     "name": "stderr",
     "output_type": "stream",
     "text": [
      "torchx 2025-03-28 21:33:15 INFO     Checking for changes in workspace `file:///home/runner/work/torc"
     ]
    },
    {
     "name": "stderr",
     "output_type": "stream",
     "text": [
      "hx/torchx/docs/source`...\n",
      "torchx 2025-03-28 21:33:15 INFO     To disable workspaces pass: --workspac"
     ]
    },
    {
     "name": "stderr",
     "output_type": "stream",
     "text": [
      "e=\"\" from CLI or workspace=None programmatically.\n"
     ]
    },
    {
     "name": "stderr",
     "output_type": "stream",
     "text": [
      "torchx 2025-03-28 21:33:15 INFO     Workspace `file:///home/runner/work/torchx/torchx/docs/source` r"
     ]
    },
    {
     "name": "stderr",
     "output_type": "stream",
     "text": [
      "esolved to filesystem path `/home/runner/work/torchx/torchx/docs/source`\n"
     ]
    },
    {
     "name": "stderr",
     "output_type": "stream",
     "text": [
      "torchx 2025-03-28 21:33:16 INFO     Building workspace docker image (this may take a while)...\n"
     ]
    },
    {
     "name": "stderr",
     "output_type": "stream",
     "text": [
      "torchx 2025-03-28 21:33:16 INFO     Step 1/4 : FROM pytorch/pytorch:1.10.0-cuda11.3-cudnn8-runtime\n"
     ]
    },
    {
     "name": "stderr",
     "output_type": "stream",
     "text": [
      "torchx 2025-03-28 21:34:34 INFO      ---> c3f17e5ac010\n",
      "torchx 2025-03-28 21:34:34 INFO     Step 2/4 "
     ]
    },
    {
     "name": "stderr",
     "output_type": "stream",
     "text": [
      ": RUN pip install timm\n"
     ]
    },
    {
     "name": "stderr",
     "output_type": "stream",
     "text": [
      "torchx 2025-03-28 21:34:34 INFO      ---> Running in 66bf6172ce54\n"
     ]
    },
    {
     "name": "stderr",
     "output_type": "stream",
     "text": [
      "torchx 2025-03-28 21:34:34 INFO     Collecting timm\n"
     ]
    },
    {
     "name": "stderr",
     "output_type": "stream",
     "text": [
      "torchx 2025-03-28 21:34:34 INFO       Downloading timm-0.9.12-py3-none-any.whl (2.2 MB)\n"
     ]
    },
    {
     "name": "stderr",
     "output_type": "stream",
     "text": [
      "torchx 2025-03-28 21:34:34 INFO     Requirement already satisfied: torchvision in /opt/conda/lib/pyt"
     ]
    },
    {
     "name": "stderr",
     "output_type": "stream",
     "text": [
      "hon3.7/site-packages (from timm) (0.11.0)\n"
     ]
    },
    {
     "name": "stderr",
     "output_type": "stream",
     "text": [
      "torchx 2025-03-28 21:34:34 INFO     Requirement already satisfied: pyyaml in /opt/conda/lib/python3."
     ]
    },
    {
     "name": "stderr",
     "output_type": "stream",
     "text": [
      "7/site-packages (from timm) (5.4.1)\n"
     ]
    },
    {
     "name": "stderr",
     "output_type": "stream",
     "text": [
      "torchx 2025-03-28 21:34:35 INFO     Collecting huggingface-hub\n"
     ]
    },
    {
     "name": "stderr",
     "output_type": "stream",
     "text": [
      "torchx 2025-03-28 21:34:35 INFO       Downloading huggingface_hub-0.16.4-py3-none-any.whl (268 kB)\n"
     ]
    },
    {
     "name": "stderr",
     "output_type": "stream",
     "text": [
      "torchx 2025-03-28 21:34:35 INFO     Requirement already satisfied: torch>=1.7 in /opt/conda/lib/pyth"
     ]
    },
    {
     "name": "stderr",
     "output_type": "stream",
     "text": [
      "on3.7/site-packages (from timm) (1.10.0)\n"
     ]
    },
    {
     "name": "stderr",
     "output_type": "stream",
     "text": [
      "torchx 2025-03-28 21:34:35 INFO     Collecting safetensors\n"
     ]
    },
    {
     "name": "stderr",
     "output_type": "stream",
     "text": [
      "torchx 2025-03-28 21:34:35 INFO       Downloading safetensors-0.5.3.tar.gz (67 kB)\n"
     ]
    },
    {
     "name": "stderr",
     "output_type": "stream",
     "text": [
      "torchx 2025-03-28 21:34:35 INFO       Installing build dependencies: started\n"
     ]
    },
    {
     "name": "stderr",
     "output_type": "stream",
     "text": [
      "torchx 2025-03-28 21:34:37 INFO       Installing build dependencies: finished with status 'done'\n"
     ]
    },
    {
     "name": "stderr",
     "output_type": "stream",
     "text": [
      "torchx 2025-03-28 21:34:37 INFO       Getting requirements to build wheel: started\n"
     ]
    },
    {
     "name": "stderr",
     "output_type": "stream",
     "text": [
      "torchx 2025-03-28 21:34:37 INFO       Getting requirements to build wheel: finished with status 'don"
     ]
    },
    {
     "name": "stderr",
     "output_type": "stream",
     "text": [
      "e'\n"
     ]
    },
    {
     "name": "stderr",
     "output_type": "stream",
     "text": [
      "torchx 2025-03-28 21:34:37 INFO         Preparing wheel metadata: started\n"
     ]
    },
    {
     "name": "stderr",
     "output_type": "stream",
     "text": [
      "torchx 2025-03-28 21:34:37 INFO         Preparing wheel metadata: finished with status 'error'\n"
     ]
    },
    {
     "name": "stderr",
     "output_type": "stream",
     "text": [
      "torchx 2025-03-28 21:34:37 INFO     \u001b[91m    ERROR: Command errored out with exit status 1:\n",
      "     com"
     ]
    },
    {
     "name": "stderr",
     "output_type": "stream",
     "text": [
      "mand: /opt/conda/bin/python /opt/conda/lib/python3.7/site-packages/pip/_vendor/pep517/_in_process.py"
     ]
    },
    {
     "name": "stderr",
     "output_type": "stream",
     "text": [
      " prepare_metadata_for_build_wheel /tmp/tmpgotx296l\n",
      "         cwd: /tmp/pip-install-lp3e2r16/safetenso"
     ]
    },
    {
     "name": "stderr",
     "output_type": "stream",
     "text": [
      "rs_dd1e8d7f1cbd41d292c3f6a8cec732eb\n",
      "    Complete output (6 lines):\n",
      "    \n",
      "    Cargo, the Rust package "
     ]
    },
    {
     "name": "stderr",
     "output_type": "stream",
     "text": [
      "manager, is not installed or is not on PATH.\n",
      "    This package requires Rust and Cargo to compile ext"
     ]
    },
    {
     "name": "stderr",
     "output_type": "stream",
     "text": [
      "ensions. Install it through\n",
      "    the system's package manager or via https://rustup.rs/\n",
      "    \n",
      "    Chec"
     ]
    },
    {
     "name": "stderr",
     "output_type": "stream",
     "text": [
      "king for Rust toolchain....\n",
      "    ----------------------------------------\n",
      "\u001b[0m\n",
      "torchx 2025-03-28 21:3"
     ]
    },
    {
     "name": "stderr",
     "output_type": "stream",
     "text": [
      "4:37 INFO     \u001b[91mWARNING: Discarding https://files.pythonhosted.org/packages/71/7e/2d5d6ee7b40c068"
     ]
    },
    {
     "name": "stderr",
     "output_type": "stream",
     "text": [
      "2315367ec7475693d110f512922d582fef1bd4a63adc3/safetensors-0.5.3.tar.gz#sha256=b6b0d6ecacec39a4fdd99c"
     ]
    },
    {
     "name": "stderr",
     "output_type": "stream",
     "text": [
      "c19f4576f5219ce858e6fd8dbe7609df0b8dc56965 (from https://pypi.org/simple/safetensors/) (requires-pyt"
     ]
    },
    {
     "name": "stderr",
     "output_type": "stream",
     "text": [
      "hon:>=3.7). Command errored out with exit status 1: /opt/conda/bin/python /opt/conda/lib/python3.7/s"
     ]
    },
    {
     "name": "stderr",
     "output_type": "stream",
     "text": [
      "ite-packages/pip/_vendor/pep517/_in_process.py prepare_metadata_for_build_wheel /tmp/tmpgotx296l Che"
     ]
    },
    {
     "name": "stderr",
     "output_type": "stream",
     "text": [
      "ck the logs for full command output.\n",
      "\u001b[0m\n"
     ]
    },
    {
     "name": "stderr",
     "output_type": "stream",
     "text": [
      "torchx 2025-03-28 21:34:37 INFO       Downloading safetensors-0.5.2.tar.gz (66 kB)\n"
     ]
    },
    {
     "name": "stderr",
     "output_type": "stream",
     "text": [
      "torchx 2025-03-28 21:34:37 INFO       Installing build dependencies: started\n"
     ]
    },
    {
     "name": "stderr",
     "output_type": "stream",
     "text": [
      "torchx 2025-03-28 21:34:39 INFO       Installing build dependencies: finished with status 'done'\n"
     ]
    },
    {
     "name": "stderr",
     "output_type": "stream",
     "text": [
      "torchx 2025-03-28 21:34:39 INFO       Getting requirements to build wheel: started\n"
     ]
    },
    {
     "name": "stderr",
     "output_type": "stream",
     "text": [
      "torchx 2025-03-28 21:34:39 INFO       Getting requirements to build wheel: finished with status 'don"
     ]
    },
    {
     "name": "stderr",
     "output_type": "stream",
     "text": [
      "e'\n"
     ]
    },
    {
     "name": "stderr",
     "output_type": "stream",
     "text": [
      "torchx 2025-03-28 21:34:39 INFO         Preparing wheel metadata: started\n"
     ]
    },
    {
     "name": "stderr",
     "output_type": "stream",
     "text": [
      "torchx 2025-03-28 21:34:39 INFO         Preparing wheel metadata: finished with status 'error'\n"
     ]
    },
    {
     "name": "stderr",
     "output_type": "stream",
     "text": [
      "torchx 2025-03-28 21:34:39 INFO     \u001b[91m    ERROR: Command errored out with exit status 1:\n",
      "     com"
     ]
    },
    {
     "name": "stderr",
     "output_type": "stream",
     "text": [
      "mand: /opt/conda/bin/python /opt/conda/lib/python3.7/site-packages/pip/_vendor/pep517/_in_process.py"
     ]
    },
    {
     "name": "stderr",
     "output_type": "stream",
     "text": [
      " prepare_metadata_for_build_wheel /tmp/tmp2tlg0sc8\n",
      "         cwd: /tmp/pip-install-lp3e2r16/safetenso"
     ]
    },
    {
     "name": "stderr",
     "output_type": "stream",
     "text": [
      "rs_48909e6a9a314cc7a88abff148051544\n",
      "    Complete output (6 lines):\n",
      "    \n",
      "    Cargo, the Rust package "
     ]
    },
    {
     "name": "stderr",
     "output_type": "stream",
     "text": [
      "manager, is not installed or is not on PATH.\n",
      "    This package requires Rust and Cargo to compile ext"
     ]
    },
    {
     "name": "stderr",
     "output_type": "stream",
     "text": [
      "ensions. Install it through\n",
      "    the system's package manager or via https://rustup.rs/\n",
      "    \n",
      "    Chec"
     ]
    },
    {
     "name": "stderr",
     "output_type": "stream",
     "text": [
      "king for Rust toolchain....\n",
      "    ----------------------------------------\n",
      "\u001b[0m\n",
      "torchx 2025-03-28 21:3"
     ]
    },
    {
     "name": "stderr",
     "output_type": "stream",
     "text": [
      "4:39 INFO     \u001b[91mWARNING: Discarding https://files.pythonhosted.org/packages/f4/4f/2ef9ef1766f8c19"
     ]
    },
    {
     "name": "stderr",
     "output_type": "stream",
     "text": [
      "4b01b67a63a444d2e557c8fe1d82faf3ebd85f370a917/safetensors-0.5.2.tar.gz#sha256=cb4a8d98ba12fa016f4241"
     ]
    },
    {
     "name": "stderr",
     "output_type": "stream",
     "text": [
      "932b1fc5e702e5143f5374bba0bbcf7ddc1c4cf2b8 (from https://pypi.org/simple/safetensors/) (requires-pyt"
     ]
    },
    {
     "name": "stderr",
     "output_type": "stream",
     "text": [
      "hon:>=3.7). Command errored out with exit status 1: /opt/conda/bin/python /opt/conda/lib/python3.7/s"
     ]
    },
    {
     "name": "stderr",
     "output_type": "stream",
     "text": [
      "ite-packages/pip/_vendor/pep517/_in_process.py prepare_metadata_for_build_wheel /tmp/tmp2tlg0sc8 Che"
     ]
    },
    {
     "name": "stderr",
     "output_type": "stream",
     "text": [
      "ck the logs for full command output.\n",
      "\u001b[0m\n"
     ]
    },
    {
     "name": "stderr",
     "output_type": "stream",
     "text": [
      "torchx 2025-03-28 21:34:39 INFO       Downloading safetensors-0.5.1.tar.gz (66 kB)\n"
     ]
    },
    {
     "name": "stderr",
     "output_type": "stream",
     "text": [
      "torchx 2025-03-28 21:34:39 INFO       Installing build dependencies: started\n"
     ]
    },
    {
     "name": "stderr",
     "output_type": "stream",
     "text": [
      "torchx 2025-03-28 21:34:40 INFO       Installing build dependencies: finished with status 'done'\n"
     ]
    },
    {
     "name": "stderr",
     "output_type": "stream",
     "text": [
      "torchx 2025-03-28 21:34:40 INFO       Getting requirements to build wheel: started\n"
     ]
    },
    {
     "name": "stderr",
     "output_type": "stream",
     "text": [
      "torchx 2025-03-28 21:34:40 INFO       Getting requirements to build wheel: finished with status 'don"
     ]
    },
    {
     "name": "stderr",
     "output_type": "stream",
     "text": [
      "e'\n"
     ]
    },
    {
     "name": "stderr",
     "output_type": "stream",
     "text": [
      "torchx 2025-03-28 21:34:40 INFO         Preparing wheel metadata: started\n"
     ]
    },
    {
     "name": "stderr",
     "output_type": "stream",
     "text": [
      "torchx 2025-03-28 21:34:40 INFO         Preparing wheel metadata: finished with status 'error'\n"
     ]
    },
    {
     "name": "stderr",
     "output_type": "stream",
     "text": [
      "torchx 2025-03-28 21:34:40 INFO     \u001b[91m    ERROR: Command errored out with exit status 1:\n",
      "     com"
     ]
    },
    {
     "name": "stderr",
     "output_type": "stream",
     "text": [
      "mand: /opt/conda/bin/python /opt/conda/lib/python3.7/site-packages/pip/_vendor/pep517/_in_process.py"
     ]
    },
    {
     "name": "stderr",
     "output_type": "stream",
     "text": [
      " prepare_metadata_for_build_wheel /tmp/tmpbh63jrqa\n",
      "         cwd: /tmp/pip-install-lp3e2r16/safetenso"
     ]
    },
    {
     "name": "stderr",
     "output_type": "stream",
     "text": [
      "rs_e26c07f73b08411c823a8a85b3b5a1ba\n",
      "    Complete output (6 lines):\n",
      "    \n",
      "    Cargo, the Rust package "
     ]
    },
    {
     "name": "stderr",
     "output_type": "stream",
     "text": [
      "manager, is not installed or is not on PATH.\n",
      "    This package requires Rust and Cargo to compile ext"
     ]
    },
    {
     "name": "stderr",
     "output_type": "stream",
     "text": [
      "ensions. Install it through\n",
      "    the system's package manager or via https://rustup.rs/\n",
      "    \n",
      "    Chec"
     ]
    },
    {
     "name": "stderr",
     "output_type": "stream",
     "text": [
      "king for Rust toolchain....\n",
      "    ----------------------------------------\n",
      "\u001b[0m\n",
      "torchx 2025-03-28 21:3"
     ]
    },
    {
     "name": "stderr",
     "output_type": "stream",
     "text": [
      "4:40 INFO     \u001b[91mWARNING: Discarding https://files.pythonhosted.org/packages/cd/4b/a45aedf2375cd86"
     ]
    },
    {
     "name": "stderr",
     "output_type": "stream",
     "text": [
      "314749ad4760545b6e4ec7b306cfa142776daaca6c980/safetensors-0.5.1.tar.gz#sha256=75927919a73b0f34d6943b"
     ]
    },
    {
     "name": "stderr",
     "output_type": "stream",
     "text": [
      "531d757f724e65797a900d88d8081fe8b4448eadc3 (from https://pypi.org/simple/safetensors/) (requires-pyt"
     ]
    },
    {
     "name": "stderr",
     "output_type": "stream",
     "text": [
      "hon:>=3.7). Command errored out with exit status 1: /opt/conda/bin/python /opt/conda/lib/python3.7/s"
     ]
    },
    {
     "name": "stderr",
     "output_type": "stream",
     "text": [
      "ite-packages/pip/_vendor/pep517/_in_process.py prepare_metadata_for_build_wheel /tmp/tmpbh63jrqa Che"
     ]
    },
    {
     "name": "stderr",
     "output_type": "stream",
     "text": [
      "ck the logs for full command output.\n",
      "\u001b[0m\n"
     ]
    },
    {
     "name": "stderr",
     "output_type": "stream",
     "text": [
      "torchx 2025-03-28 21:34:40 INFO       Downloading safetensors-0.5.0.tar.gz (65 kB)\n"
     ]
    },
    {
     "name": "stderr",
     "output_type": "stream",
     "text": [
      "torchx 2025-03-28 21:34:40 INFO       Installing build dependencies: started\n"
     ]
    },
    {
     "name": "stderr",
     "output_type": "stream",
     "text": [
      "torchx 2025-03-28 21:34:42 INFO       Installing build dependencies: finished with status 'done'\n"
     ]
    },
    {
     "name": "stderr",
     "output_type": "stream",
     "text": [
      "torchx 2025-03-28 21:34:42 INFO       Getting requirements to build wheel: started\n"
     ]
    },
    {
     "name": "stderr",
     "output_type": "stream",
     "text": [
      "torchx 2025-03-28 21:34:42 INFO       Getting requirements to build wheel: finished with status 'don"
     ]
    },
    {
     "name": "stderr",
     "output_type": "stream",
     "text": [
      "e'\n"
     ]
    },
    {
     "name": "stderr",
     "output_type": "stream",
     "text": [
      "torchx 2025-03-28 21:34:42 INFO         Preparing wheel metadata: started\n"
     ]
    },
    {
     "name": "stderr",
     "output_type": "stream",
     "text": [
      "torchx 2025-03-28 21:34:42 INFO         Preparing wheel metadata: finished with status 'error'\n"
     ]
    },
    {
     "name": "stderr",
     "output_type": "stream",
     "text": [
      "torchx 2025-03-28 21:34:42 INFO     \u001b[91m    ERROR: Command errored out with exit status 1:\n",
      "     com"
     ]
    },
    {
     "name": "stderr",
     "output_type": "stream",
     "text": [
      "mand: /opt/conda/bin/python /opt/conda/lib/python3.7/site-packages/pip/_vendor/pep517/_in_process.py"
     ]
    },
    {
     "name": "stderr",
     "output_type": "stream",
     "text": [
      " prepare_metadata_for_build_wheel /tmp/tmp8rfbzk0_\n",
      "         cwd: /tmp/pip-install-lp3e2r16/safetenso"
     ]
    },
    {
     "name": "stderr",
     "output_type": "stream",
     "text": [
      "rs_c04a0dbed3bd4395a67c440477da00e5\n",
      "    Complete output (6 lines):\n",
      "    \n",
      "    Cargo, the Rust package "
     ]
    },
    {
     "name": "stderr",
     "output_type": "stream",
     "text": [
      "manager, is not installed or is not on PATH.\n",
      "    This package requires Rust and Cargo to compile ext"
     ]
    },
    {
     "name": "stderr",
     "output_type": "stream",
     "text": [
      "ensions. Install it through\n",
      "    the system's package manager or via https://rustup.rs/\n",
      "    \n",
      "    Chec"
     ]
    },
    {
     "name": "stderr",
     "output_type": "stream",
     "text": [
      "king for Rust toolchain....\n",
      "    ----------------------------------------\n",
      "\u001b[0m\n",
      "torchx 2025-03-28 21:3"
     ]
    },
    {
     "name": "stderr",
     "output_type": "stream",
     "text": [
      "4:42 INFO     \u001b[91mWARNING: Discarding https://files.pythonhosted.org/packages/5d/b3/1d9000e9d047049"
     ]
    },
    {
     "name": "stderr",
     "output_type": "stream",
     "text": [
      "9d124ca63c6908f8092b528b48bd95ba11507e14d9dba/safetensors-0.5.0.tar.gz#sha256=c47b34c549fa1e0c655c46"
     ]
    },
    {
     "name": "stderr",
     "output_type": "stream",
     "text": [
      "44da31332c61332c732c47c8dd9399347e9aac69d1 (from https://pypi.org/simple/safetensors/) (requires-pyt"
     ]
    },
    {
     "name": "stderr",
     "output_type": "stream",
     "text": [
      "hon:>=3.7). Command errored out with exit status 1: /opt/conda/bin/python /opt/conda/lib/python3.7/s"
     ]
    },
    {
     "name": "stderr",
     "output_type": "stream",
     "text": [
      "ite-packages/pip/_vendor/pep517/_in_process.py prepare_metadata_for_build_wheel /tmp/tmp8rfbzk0_ Che"
     ]
    },
    {
     "name": "stderr",
     "output_type": "stream",
     "text": [
      "ck the logs for full command output.\n",
      "\u001b[0m\n"
     ]
    },
    {
     "name": "stderr",
     "output_type": "stream",
     "text": [
      "torchx 2025-03-28 21:34:42 INFO       Downloading safetensors-0.4.5-cp37-cp37m-manylinux_2_17_x86_64"
     ]
    },
    {
     "name": "stderr",
     "output_type": "stream",
     "text": [
      ".manylinux2014_x86_64.whl (436 kB)\n"
     ]
    },
    {
     "name": "stderr",
     "output_type": "stream",
     "text": [
      "torchx 2025-03-28 21:34:42 INFO     Requirement already satisfied: typing_extensions in /opt/conda/l"
     ]
    },
    {
     "name": "stderr",
     "output_type": "stream",
     "text": [
      "ib/python3.7/site-packages (from torch>=1.7->timm) (3.10.0.2)\n"
     ]
    },
    {
     "name": "stderr",
     "output_type": "stream",
     "text": [
      "torchx 2025-03-28 21:34:42 INFO     Requirement already satisfied: requests in /opt/conda/lib/python"
     ]
    },
    {
     "name": "stderr",
     "output_type": "stream",
     "text": [
      "3.7/site-packages (from huggingface-hub->timm) (2.25.1)\n"
     ]
    },
    {
     "name": "stderr",
     "output_type": "stream",
     "text": [
      "torchx 2025-03-28 21:34:42 INFO     Requirement already satisfied: filelock in /opt/conda/lib/python"
     ]
    },
    {
     "name": "stderr",
     "output_type": "stream",
     "text": [
      "3.7/site-packages (from huggingface-hub->timm) (3.0.12)\n"
     ]
    },
    {
     "name": "stderr",
     "output_type": "stream",
     "text": [
      "torchx 2025-03-28 21:34:42 INFO     Collecting fsspec\n"
     ]
    },
    {
     "name": "stderr",
     "output_type": "stream",
     "text": [
      "torchx 2025-03-28 21:34:42 INFO       Downloading fsspec-2023.1.0-py3-none-any.whl (143 kB)\n"
     ]
    },
    {
     "name": "stderr",
     "output_type": "stream",
     "text": [
      "torchx 2025-03-28 21:34:42 INFO     Collecting importlib-metadata\n"
     ]
    },
    {
     "name": "stderr",
     "output_type": "stream",
     "text": [
      "torchx 2025-03-28 21:34:42 INFO       Downloading importlib_metadata-6.7.0-py3-none-any.whl (22 kB)\n"
     ]
    },
    {
     "name": "stderr",
     "output_type": "stream",
     "text": [
      "torchx 2025-03-28 21:34:42 INFO     Requirement already satisfied: tqdm>=4.42.1 in /opt/conda/lib/py"
     ]
    },
    {
     "name": "stderr",
     "output_type": "stream",
     "text": [
      "thon3.7/site-packages (from huggingface-hub->timm) (4.61.2)\n"
     ]
    },
    {
     "name": "stderr",
     "output_type": "stream",
     "text": [
      "torchx 2025-03-28 21:34:42 INFO     Collecting packaging>=20.9\n"
     ]
    },
    {
     "name": "stderr",
     "output_type": "stream",
     "text": [
      "torchx 2025-03-28 21:34:42 INFO       Downloading packaging-24.0-py3-none-any.whl (53 kB)\n"
     ]
    },
    {
     "name": "stderr",
     "output_type": "stream",
     "text": [
      "torchx 2025-03-28 21:34:42 INFO     Collecting zipp>=0.5\n"
     ]
    },
    {
     "name": "stderr",
     "output_type": "stream",
     "text": [
      "torchx 2025-03-28 21:34:42 INFO       Downloading zipp-3.15.0-py3-none-any.whl (6.8 kB)\n"
     ]
    },
    {
     "name": "stderr",
     "output_type": "stream",
     "text": [
      "torchx 2025-03-28 21:34:42 INFO     Requirement already satisfied: certifi>=2017.4.17 in /opt/conda/"
     ]
    },
    {
     "name": "stderr",
     "output_type": "stream",
     "text": [
      "lib/python3.7/site-packages (from requests->huggingface-hub->timm) (2021.10.8)\n"
     ]
    },
    {
     "name": "stderr",
     "output_type": "stream",
     "text": [
      "torchx 2025-03-28 21:34:42 INFO     Requirement already satisfied: urllib3<1.27,>=1.21.1 in /opt/con"
     ]
    },
    {
     "name": "stderr",
     "output_type": "stream",
     "text": [
      "da/lib/python3.7/site-packages (from requests->huggingface-hub->timm) (1.26.6)\n"
     ]
    },
    {
     "name": "stderr",
     "output_type": "stream",
     "text": [
      "torchx 2025-03-28 21:34:42 INFO     Requirement already satisfied: idna<3,>=2.5 in /opt/conda/lib/py"
     ]
    },
    {
     "name": "stderr",
     "output_type": "stream",
     "text": [
      "thon3.7/site-packages (from requests->huggingface-hub->timm) (2.10)\n"
     ]
    },
    {
     "name": "stderr",
     "output_type": "stream",
     "text": [
      "torchx 2025-03-28 21:34:42 INFO     Requirement already satisfied: chardet<5,>=3.0.2 in /opt/conda/l"
     ]
    },
    {
     "name": "stderr",
     "output_type": "stream",
     "text": [
      "ib/python3.7/site-packages (from requests->huggingface-hub->timm) (4.0.0)\n"
     ]
    },
    {
     "name": "stderr",
     "output_type": "stream",
     "text": [
      "torchx 2025-03-28 21:34:42 INFO     Requirement already satisfied: numpy in /opt/conda/lib/python3.7"
     ]
    },
    {
     "name": "stderr",
     "output_type": "stream",
     "text": [
      "/site-packages (from torchvision->timm) (1.21.2)\n"
     ]
    },
    {
     "name": "stderr",
     "output_type": "stream",
     "text": [
      "torchx 2025-03-28 21:34:42 INFO     Requirement already satisfied: pillow!=8.3.0,>=5.3.0 in /opt/con"
     ]
    },
    {
     "name": "stderr",
     "output_type": "stream",
     "text": [
      "da/lib/python3.7/site-packages (from torchvision->timm) (8.4.0)\n"
     ]
    },
    {
     "name": "stderr",
     "output_type": "stream",
     "text": [
      "torchx 2025-03-28 21:34:43 INFO     Installing collected packages: zipp, packaging, importlib-metada"
     ]
    },
    {
     "name": "stderr",
     "output_type": "stream",
     "text": [
      "ta, fsspec, safetensors, huggingface-hub, timm\n"
     ]
    },
    {
     "name": "stderr",
     "output_type": "stream",
     "text": [
      "torchx 2025-03-28 21:34:43 INFO     Successfully installed fsspec-2023.1.0 huggingface-hub-0.16.4 im"
     ]
    },
    {
     "name": "stderr",
     "output_type": "stream",
     "text": [
      "portlib-metadata-6.7.0 packaging-24.0 safetensors-0.4.5 timm-0.9.12 zipp-3.15.0\n"
     ]
    },
    {
     "name": "stderr",
     "output_type": "stream",
     "text": [
      "torchx 2025-03-28 21:34:46 INFO      ---> Removed intermediate container 66bf6172ce54\n"
     ]
    },
    {
     "name": "stderr",
     "output_type": "stream",
     "text": [
      "torchx 2025-03-28 21:34:46 INFO      ---> d56ca431f7b6\n",
      "torchx 2025-03-28 21:34:46 INFO     Step 3/4 "
     ]
    },
    {
     "name": "stderr",
     "output_type": "stream",
     "text": [
      ": COPY . .\n"
     ]
    },
    {
     "name": "stderr",
     "output_type": "stream",
     "text": [
      "torchx 2025-03-28 21:34:48 INFO      ---> 6374c63a07d6\n"
     ]
    },
    {
     "name": "stderr",
     "output_type": "stream",
     "text": [
      "torchx 2025-03-28 21:34:48 INFO     Step 4/4 : LABEL torchx.pytorch.org/version=0.8.0dev0\n"
     ]
    },
    {
     "name": "stderr",
     "output_type": "stream",
     "text": [
      "torchx 2025-03-28 21:34:48 INFO      ---> Running in 9922b1da2b38\n"
     ]
    },
    {
     "name": "stderr",
     "output_type": "stream",
     "text": [
      "torchx 2025-03-28 21:34:51 INFO      ---> Removed intermediate container 9922b1da2b38\n"
     ]
    },
    {
     "name": "stderr",
     "output_type": "stream",
     "text": [
      "torchx 2025-03-28 21:34:51 INFO      ---> a0978917b6ff\n",
      "torchx 2025-03-28 21:34:51 INFO     [Warning]"
     ]
    },
    {
     "name": "stderr",
     "output_type": "stream",
     "text": [
      " One or more build-args [IMAGE WORKSPACE] were not consumed\n"
     ]
    },
    {
     "name": "stderr",
     "output_type": "stream",
     "text": [
      "torchx 2025-03-28 21:34:51 INFO     Successfully built a0978917b6ff\n"
     ]
    },
    {
     "name": "stderr",
     "output_type": "stream",
     "text": [
      "torchx 2025-03-28 21:34:51 INFO     Built new image `sha256:a0978917b6ff5ce050c0714588ad6b743cf8ddb6"
     ]
    },
    {
     "name": "stderr",
     "output_type": "stream",
     "text": [
      "dfe4c8bda9e9f1692bcdb4e4` based on original image `ghcr.io/pytorch/torchx:0.8.0dev0` and changes in "
     ]
    },
    {
     "name": "stderr",
     "output_type": "stream",
     "text": [
      "workspace `file:///home/runner/work/torchx/torchx/docs/source` for role[0]=python.\n"
     ]
    },
    {
     "name": "stderr",
     "output_type": "stream",
     "text": [
      "torchx 2025-03-28 21:34:51 INFO     Waiting for the app to finish...\n"
     ]
    },
    {
     "name": "stderr",
     "output_type": "stream",
     "text": [
      "python/0 ResNet(\n",
      "python/0   (conv1): Conv2d(3, 64, kernel_size=(7, 7), stride=(2, 2), padding=(3, 3)"
     ]
    },
    {
     "name": "stderr",
     "output_type": "stream",
     "text": [
      ", bias=False)\n",
      "python/0   (bn1): BatchNorm2d(64, eps=1e-05, momentum=0.1, affine=True, track_running_"
     ]
    },
    {
     "name": "stderr",
     "output_type": "stream",
     "text": [
      "stats=True)\n",
      "python/0   (act1): ReLU(inplace=True)\n",
      "python/0   (maxpool): MaxPool2d(kernel_size=3, str"
     ]
    },
    {
     "name": "stderr",
     "output_type": "stream",
     "text": [
      "ide=2, padding=1, dilation=1, ceil_mode=False)\n",
      "python/0   (layer1): Sequential(\n",
      "python/0     (0): Ba"
     ]
    },
    {
     "name": "stderr",
     "output_type": "stream",
     "text": [
      "sicBlock(\n",
      "python/0       (conv1): Conv2d(64, 64, kernel_size=(3, 3), stride=(1, 1), padding=(1, 1), "
     ]
    },
    {
     "name": "stderr",
     "output_type": "stream",
     "text": [
      "bias=False)\n",
      "python/0       (bn1): BatchNorm2d(64, eps=1e-05, momentum=0.1, affine=True, track_runnin"
     ]
    },
    {
     "name": "stderr",
     "output_type": "stream",
     "text": [
      "g_stats=True)\n",
      "python/0       (drop_block): Identity()\n",
      "python/0       (act1): ReLU(inplace=True)\n",
      "pyth"
     ]
    },
    {
     "name": "stderr",
     "output_type": "stream",
     "text": [
      "on/0       (aa): Identity()\n",
      "python/0       (conv2): Conv2d(64, 64, kernel_size=(3, 3), stride=(1, 1)"
     ]
    },
    {
     "name": "stderr",
     "output_type": "stream",
     "text": [
      ", padding=(1, 1), bias=False)\n",
      "python/0       (bn2): BatchNorm2d(64, eps=1e-05, momentum=0.1, affine="
     ]
    },
    {
     "name": "stderr",
     "output_type": "stream",
     "text": [
      "True, track_running_stats=True)\n",
      "python/0       (act2): ReLU(inplace=True)\n",
      "python/0     )\n",
      "python/0   "
     ]
    },
    {
     "name": "stderr",
     "output_type": "stream",
     "text": [
      "  (1): BasicBlock(\n",
      "python/0       (conv1): Conv2d(64, 64, kernel_size=(3, 3), stride=(1, 1), padding"
     ]
    },
    {
     "name": "stderr",
     "output_type": "stream",
     "text": [
      "=(1, 1), bias=False)\n",
      "python/0       (bn1): BatchNorm2d(64, eps=1e-05, momentum=0.1, affine=True, tra"
     ]
    },
    {
     "name": "stderr",
     "output_type": "stream",
     "text": [
      "ck_running_stats=True)\n"
     ]
    },
    {
     "name": "stderr",
     "output_type": "stream",
     "text": [
      "python/0       (drop_block): Identity()\n",
      "python/0       (act1): ReLU(inplace=True)\n",
      "python/0       (aa"
     ]
    },
    {
     "name": "stderr",
     "output_type": "stream",
     "text": [
      "): Identity()\n",
      "python/0       (conv2): Conv2d(64, 64, kernel_size=(3, 3), stride=(1, 1), padding=(1, "
     ]
    },
    {
     "name": "stderr",
     "output_type": "stream",
     "text": [
      "1), bias=False)\n",
      "python/0       (bn2): BatchNorm2d(64, eps=1e-05, momentum=0.1, affine=True, track_ru"
     ]
    },
    {
     "name": "stderr",
     "output_type": "stream",
     "text": [
      "nning_stats=True)\n",
      "python/0       (act2): ReLU(inplace=True)\n"
     ]
    },
    {
     "name": "stderr",
     "output_type": "stream",
     "text": [
      "python/0     )\n",
      "python/0   )\n",
      "python/0   (layer2): Sequential(\n",
      "python/0     (0): BasicBlock(\n",
      "python/0 "
     ]
    },
    {
     "name": "stderr",
     "output_type": "stream",
     "text": [
      "      (conv1): Conv2d(64, 128, kernel_size=(3, 3), stride=(2, 2), padding=(1, 1), bias=False)\n",
      "python"
     ]
    },
    {
     "name": "stderr",
     "output_type": "stream",
     "text": [
      "/0       (bn1): BatchNorm2d(128, eps=1e-05, momentum=0.1, affine=True, track_running_stats=True)\n",
      "pyt"
     ]
    },
    {
     "name": "stderr",
     "output_type": "stream",
     "text": [
      "hon/0       (drop_block): Identity()\n",
      "python/0       (act1): ReLU(inplace=True)\n",
      "python/0       (aa): "
     ]
    },
    {
     "name": "stderr",
     "output_type": "stream",
     "text": [
      "Identity()\n",
      "python/0       (conv2): Conv2d(128, 128, kernel_size=(3, 3), stride=(1, 1), padding=(1, 1"
     ]
    },
    {
     "name": "stderr",
     "output_type": "stream",
     "text": [
      "), bias=False)\n",
      "python/0       (bn2): BatchNorm2d(128, eps=1e-05, momentum=0.1, affine=True, track_ru"
     ]
    },
    {
     "name": "stderr",
     "output_type": "stream",
     "text": [
      "nning_stats=True)\n",
      "python/0       (act2): ReLU(inplace=True)\n",
      "python/0       (downsample): Sequential("
     ]
    },
    {
     "name": "stderr",
     "output_type": "stream",
     "text": [
      "\n",
      "python/0         (0): Conv2d(64, 128, kernel_size=(1, 1), stride=(2, 2), bias=False)\n",
      "python/0      "
     ]
    },
    {
     "name": "stderr",
     "output_type": "stream",
     "text": [
      "   (1): BatchNorm2d(128, eps=1e-05, momentum=0.1, affine=True, track_running_stats=True)\n",
      "python/0   "
     ]
    },
    {
     "name": "stderr",
     "output_type": "stream",
     "text": [
      "    )\n",
      "python/0     )\n",
      "python/0     (1): BasicBlock(\n",
      "python/0       (conv1): Conv2d(128, 128, kernel_s"
     ]
    },
    {
     "name": "stderr",
     "output_type": "stream",
     "text": [
      "ize=(3, 3), stride=(1, 1), padding=(1, 1), bias=False)\n",
      "python/0       (bn1): BatchNorm2d(128, eps=1e"
     ]
    },
    {
     "name": "stderr",
     "output_type": "stream",
     "text": [
      "-05, momentum=0.1, affine=True, track_running_stats=True)\n",
      "python/0       (drop_block): Identity()\n",
      "py"
     ]
    },
    {
     "name": "stderr",
     "output_type": "stream",
     "text": [
      "thon/0       (act1): ReLU(inplace=True)\n",
      "python/0       (aa): Identity()\n",
      "python/0       (conv2): Conv"
     ]
    },
    {
     "name": "stderr",
     "output_type": "stream",
     "text": [
      "2d(128, 128, kernel_size=(3, 3), stride=(1, 1), padding=(1, 1), bias=False)\n",
      "python/0       (bn2): Ba"
     ]
    },
    {
     "name": "stderr",
     "output_type": "stream",
     "text": [
      "tchNorm2d(128, eps=1e-05, momentum=0.1, affine=True, track_running_stats=True)\n",
      "python/0       (act2)"
     ]
    },
    {
     "name": "stderr",
     "output_type": "stream",
     "text": [
      ": ReLU(inplace=True)\n",
      "python/0     )\n",
      "python/0   )\n",
      "python/0   (layer3): Sequential(\n",
      "python/0     (0): "
     ]
    },
    {
     "name": "stderr",
     "output_type": "stream",
     "text": [
      "BasicBlock(\n",
      "python/0       (conv1): Conv2d(128, 256, kernel_size=(3, 3), stride=(2, 2), padding=(1, "
     ]
    },
    {
     "name": "stderr",
     "output_type": "stream",
     "text": [
      "1), bias=False)\n",
      "python/0       (bn1): BatchNorm2d(256, eps=1e-05, momentum=0.1, affine=True, track_r"
     ]
    },
    {
     "name": "stderr",
     "output_type": "stream",
     "text": [
      "unning_stats=True)\n",
      "python/0       (drop_block): Identity()\n",
      "python/0       (act1): ReLU(inplace=True)"
     ]
    },
    {
     "name": "stderr",
     "output_type": "stream",
     "text": [
      "\n",
      "python/0       (aa): Identity()\n",
      "python/0       (conv2): Conv2d(256, 256, kernel_size=(3, 3), stride"
     ]
    },
    {
     "name": "stderr",
     "output_type": "stream",
     "text": [
      "=(1, 1), padding=(1, 1), bias=False)\n",
      "python/0       (bn2): BatchNorm2d(256, eps=1e-05, momentum=0.1,"
     ]
    },
    {
     "name": "stderr",
     "output_type": "stream",
     "text": [
      " affine=True, track_running_stats=True)\n",
      "python/0       (act2): ReLU(inplace=True)\n",
      "python/0       (do"
     ]
    },
    {
     "name": "stderr",
     "output_type": "stream",
     "text": [
      "wnsample): Sequential(\n",
      "python/0         (0): Conv2d(128, 256, kernel_size=(1, 1), stride=(2, 2), bia"
     ]
    },
    {
     "name": "stderr",
     "output_type": "stream",
     "text": [
      "s=False)\n",
      "python/0         (1): BatchNorm2d(256, eps=1e-05, momentum=0.1, affine=True, track_running_"
     ]
    },
    {
     "name": "stderr",
     "output_type": "stream",
     "text": [
      "stats=True)\n",
      "python/0       )\n",
      "python/0     )\n",
      "python/0     (1): BasicBlock(\n",
      "python/0       (conv1): Co"
     ]
    },
    {
     "name": "stderr",
     "output_type": "stream",
     "text": [
      "nv2d(256, 256, kernel_size=(3, 3), stride=(1, 1), padding=(1, 1), bias=False)\n",
      "python/0       (bn1): "
     ]
    },
    {
     "name": "stderr",
     "output_type": "stream",
     "text": [
      "BatchNorm2d(256, eps=1e-05, momentum=0.1, affine=True, track_running_stats=True)\n",
      "python/0       (dro"
     ]
    },
    {
     "name": "stderr",
     "output_type": "stream",
     "text": [
      "p_block): Identity()\n",
      "python/0       (act1): ReLU(inplace=True)\n",
      "python/0       (aa): Identity()\n",
      "pytho"
     ]
    },
    {
     "name": "stderr",
     "output_type": "stream",
     "text": [
      "n/0       (conv2): Conv2d(256, 256, kernel_size=(3, 3), stride=(1, 1), padding=(1, 1), bias=False)\n",
      "p"
     ]
    },
    {
     "name": "stderr",
     "output_type": "stream",
     "text": [
      "ython/0       (bn2): BatchNorm2d(256, eps=1e-05, momentum=0.1, affine=True, track_running_stats=True"
     ]
    },
    {
     "name": "stderr",
     "output_type": "stream",
     "text": [
      ")\n",
      "python/0       (act2): ReLU(inplace=True)\n",
      "python/0     )\n",
      "python/0   )\n",
      "python/0   (layer4): Sequent"
     ]
    },
    {
     "name": "stderr",
     "output_type": "stream",
     "text": [
      "ial(\n",
      "python/0     (0): BasicBlock(\n",
      "python/0       (conv1): Conv2d(256, 512, kernel_size=(3, 3), stri"
     ]
    },
    {
     "name": "stderr",
     "output_type": "stream",
     "text": [
      "de=(2, 2), padding=(1, 1), bias=False)\n",
      "python/0       (bn1): BatchNorm2d(512, eps=1e-05, momentum=0."
     ]
    },
    {
     "name": "stderr",
     "output_type": "stream",
     "text": [
      "1, affine=True, track_running_stats=True)\n",
      "python/0       (drop_block): Identity()\n",
      "python/0       (ac"
     ]
    },
    {
     "name": "stderr",
     "output_type": "stream",
     "text": [
      "t1): ReLU(inplace=True)\n",
      "python/0       (aa): Identity()\n",
      "python/0       (conv2): Conv2d(512, 512, ker"
     ]
    },
    {
     "name": "stderr",
     "output_type": "stream",
     "text": [
      "nel_size=(3, 3), stride=(1, 1), padding=(1, 1), bias=False)\n",
      "python/0       (bn2): BatchNorm2d(512, e"
     ]
    },
    {
     "name": "stderr",
     "output_type": "stream",
     "text": [
      "ps=1e-05, momentum=0.1, affine=True, track_running_stats=True)\n",
      "python/0       (act2): ReLU(inplace=T"
     ]
    },
    {
     "name": "stderr",
     "output_type": "stream",
     "text": [
      "rue)\n",
      "python/0       (downsample): Sequential(\n",
      "python/0         (0): Conv2d(256, 512, kernel_size=(1,"
     ]
    },
    {
     "name": "stderr",
     "output_type": "stream",
     "text": [
      " 1), stride=(2, 2), bias=False)\n",
      "python/0         (1): BatchNorm2d(512, eps=1e-05, momentum=0.1, affi"
     ]
    },
    {
     "name": "stderr",
     "output_type": "stream",
     "text": [
      "ne=True, track_running_stats=True)\n",
      "python/0       )\n",
      "python/0     )\n",
      "python/0     (1): BasicBlock(\n",
      "pyt"
     ]
    },
    {
     "name": "stderr",
     "output_type": "stream",
     "text": [
      "hon/0       (conv1): Conv2d(512, 512, kernel_size=(3, 3), stride=(1, 1), padding=(1, 1), bias=False)"
     ]
    },
    {
     "name": "stderr",
     "output_type": "stream",
     "text": [
      "\n",
      "python/0       (bn1): BatchNorm2d(512, eps=1e-05, momentum=0.1, affine=True, track_running_stats=Tr"
     ]
    },
    {
     "name": "stderr",
     "output_type": "stream",
     "text": [
      "ue)\n",
      "python/0       (drop_block): Identity()\n",
      "python/0       (act1): ReLU(inplace=True)\n",
      "python/0      "
     ]
    },
    {
     "name": "stderr",
     "output_type": "stream",
     "text": [
      " (aa): Identity()\n",
      "python/0       (conv2): Conv2d(512, 512, kernel_size=(3, 3), stride=(1, 1), paddin"
     ]
    },
    {
     "name": "stderr",
     "output_type": "stream",
     "text": [
      "g=(1, 1), bias=False)\n",
      "python/0       (bn2): BatchNorm2d(512, eps=1e-05, momentum=0.1, affine=True, t"
     ]
    },
    {
     "name": "stderr",
     "output_type": "stream",
     "text": [
      "rack_running_stats=True)\n",
      "python/0       (act2): ReLU(inplace=True)\n",
      "python/0     )\n",
      "python/0   )\n",
      "pytho"
     ]
    },
    {
     "name": "stderr",
     "output_type": "stream",
     "text": [
      "n/0   (global_pool): SelectAdaptivePool2d(pool_type=avg, flatten=Flatten(start_dim=1, end_dim=-1))\n",
      "p"
     ]
    },
    {
     "name": "stderr",
     "output_type": "stream",
     "text": [
      "ython/0   (fc): Linear(in_features=512, out_features=1000, bias=True)\n",
      "python/0 )\n"
     ]
    },
    {
     "name": "stderr",
     "output_type": "stream",
     "text": [
      "torchx 2025-03-28 21:34:53 INFO     Job finished: SUCCEEDED\n"
     ]
    },
    {
     "name": "stdout",
     "output_type": "stream",
     "text": [
      "local_docker://torchx/torchx_utils_python-s76055jk1jn5d\n"
     ]
    }
   ],
   "source": [
    "%%sh\n",
    "torchx run --scheduler local_docker utils.python --script timm_app.py"
   ]
  },
  {
   "cell_type": "markdown",
   "id": "001529f9",
   "metadata": {},
   "source": [
    "### Slurm\n",
    "\n",
    "The `slurm` and `local_cwd` use the current environment so you can use `pip` and\n",
    "`conda` as normal."
   ]
  },
  {
   "cell_type": "markdown",
   "id": "46887253",
   "metadata": {},
   "source": [
    "## Next Steps\n",
    "\n",
    "1. Checkout other features of the [torchx CLI](cli.rst)\n",
    "2. Take a look at the [list of schedulers](schedulers.rst) supported by the runner\n",
    "3. Browse through the collection of [builtin components](components/overview.rst)\n",
    "4. See which [ML pipeline platforms](pipelines.rst) you can run components on\n",
    "5. See a [training app example](examples_apps/index.rst)"
   ]
  }
 ],
 "metadata": {
  "jupytext": {
   "text_representation": {
    "extension": ".md",
    "format_name": "markdown",
    "format_version": "1.1",
    "jupytext_version": "1.1.0"
   }
  },
  "kernelspec": {
   "display_name": "Python 3",
   "language": "python",
   "name": "python3"
  },
  "language_info": {
   "codemirror_mode": {
    "name": "ipython",
    "version": 3
   },
   "file_extension": ".py",
   "mimetype": "text/x-python",
   "name": "python",
   "nbconvert_exporter": "python",
   "pygments_lexer": "ipython3",
   "version": "3.10.16"
  }
 },
 "nbformat": 4,
 "nbformat_minor": 5
}
