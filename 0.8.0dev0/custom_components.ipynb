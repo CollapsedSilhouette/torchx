{
 "cells": [
  {
   "cell_type": "markdown",
   "id": "8905e281",
   "metadata": {},
   "source": [
    "# Custom Components\n",
    "\n",
    "This is a guide on how to build a simple app and custom component spec and\n",
    "launch it via two different schedulers.\n",
    "\n",
    "See the [Quickstart Guide](quickstart.md) for installation and basic usage.\n",
    "\n",
    "## Builtins\n",
    "\n",
    "Before writing a custom component, check if any of the builtin components\n",
    "satisfy your needs. TorchX provides a number of builtin components with premade\n",
    "images. You can discover them via:"
   ]
  },
  {
   "cell_type": "code",
   "execution_count": 1,
   "id": "618ca096",
   "metadata": {
    "execution": {
     "iopub.execute_input": "2025-06-18T18:38:33.251274Z",
     "iopub.status.busy": "2025-06-18T18:38:33.251077Z",
     "iopub.status.idle": "2025-06-18T18:38:34.179741Z",
     "shell.execute_reply": "2025-06-18T18:38:34.178924Z"
    }
   },
   "outputs": [
    {
     "name": "stdout",
     "output_type": "stream",
     "text": [
      "Found 11 builtin components:\n",
      "  1. dist.ddp\n",
      "  2. dist.spmd\n",
      "  3. metrics.tensorboard\n",
      "  4. serve.torchs"
     ]
    },
    {
     "name": "stdout",
     "output_type": "stream",
     "text": [
      "erve\n",
      "  5. utils.binary\n",
      "  6. utils.booth\n",
      "  7. utils.copy\n",
      "  8. utils.echo\n",
      "  9. utils.python\n",
      " 10. utils"
     ]
    },
    {
     "name": "stdout",
     "output_type": "stream",
     "text": [
      ".sh\n",
      " 11. utils.touch\n"
     ]
    }
   ],
   "source": [
    "%%sh\n",
    "torchx builtins"
   ]
  },
  {
   "cell_type": "markdown",
   "id": "7dae474c",
   "metadata": {},
   "source": [
    "You can use these either from the CLI, from a pipeline or programmatically like\n",
    "you would any other component."
   ]
  },
  {
   "cell_type": "code",
   "execution_count": 2,
   "id": "b9e60e59",
   "metadata": {
    "execution": {
     "iopub.execute_input": "2025-06-18T18:38:34.183215Z",
     "iopub.status.busy": "2025-06-18T18:38:34.182484Z",
     "iopub.status.idle": "2025-06-18T18:41:31.461683Z",
     "shell.execute_reply": "2025-06-18T18:41:31.460935Z"
    }
   },
   "outputs": [
    {
     "name": "stderr",
     "output_type": "stream",
     "text": [
      "torchx 2025-06-18 18:38:35 INFO     Tracker configurations: {}\n"
     ]
    },
    {
     "name": "stderr",
     "output_type": "stream",
     "text": [
      "torchx 2025-06-18 18:38:35 INFO     Checking for changes in workspace `file:///home/runner/work/torc"
     ]
    },
    {
     "name": "stderr",
     "output_type": "stream",
     "text": [
      "hx/torchx/docs/source`...\n",
      "torchx 2025-06-18 18:38:35 INFO     To disable workspaces pass: --workspac"
     ]
    },
    {
     "name": "stderr",
     "output_type": "stream",
     "text": [
      "e=\"\" from CLI or workspace=None programmatically.\n"
     ]
    },
    {
     "name": "stderr",
     "output_type": "stream",
     "text": [
      "torchx 2025-06-18 18:38:35 INFO     Workspace `file:///home/runner/work/torchx/torchx/docs/source` r"
     ]
    },
    {
     "name": "stderr",
     "output_type": "stream",
     "text": [
      "esolved to filesystem path `/home/runner/work/torchx/torchx/docs/source`\n"
     ]
    },
    {
     "name": "stderr",
     "output_type": "stream",
     "text": [
      "torchx 2025-06-18 18:41:14 INFO     Building workspace docker image (this may take a while)...\n"
     ]
    },
    {
     "name": "stderr",
     "output_type": "stream",
     "text": [
      "torchx 2025-06-18 18:41:14 INFO     Step 1/4 : ARG IMAGE\n"
     ]
    },
    {
     "name": "stderr",
     "output_type": "stream",
     "text": [
      "torchx 2025-06-18 18:41:14 INFO     Step 2/4 : FROM $IMAGE\n"
     ]
    },
    {
     "name": "stderr",
     "output_type": "stream",
     "text": [
      "torchx 2025-06-18 18:41:14 INFO      ---> 7b3057a0f85e\n"
     ]
    },
    {
     "name": "stderr",
     "output_type": "stream",
     "text": [
      "torchx 2025-06-18 18:41:14 INFO     Step 3/4 : COPY . .\n"
     ]
    },
    {
     "name": "stderr",
     "output_type": "stream",
     "text": [
      "torchx 2025-06-18 18:41:22 INFO      ---> 78d95b62aba6\n"
     ]
    },
    {
     "name": "stderr",
     "output_type": "stream",
     "text": [
      "torchx 2025-06-18 18:41:22 INFO     Step 4/4 : LABEL torchx.pytorch.org/version=0.8.0dev0\n"
     ]
    },
    {
     "name": "stderr",
     "output_type": "stream",
     "text": [
      "torchx 2025-06-18 18:41:22 INFO      ---> Running in c9e456f6405a\n"
     ]
    },
    {
     "name": "stderr",
     "output_type": "stream",
     "text": [
      "torchx 2025-06-18 18:41:30 INFO      ---> Removed intermediate container c9e456f6405a\n"
     ]
    },
    {
     "name": "stderr",
     "output_type": "stream",
     "text": [
      "torchx 2025-06-18 18:41:30 INFO      ---> 984d2e63e1bb\n"
     ]
    },
    {
     "name": "stderr",
     "output_type": "stream",
     "text": [
      "torchx 2025-06-18 18:41:30 INFO     [Warning] One or more build-args [WORKSPACE] were not consumed\n"
     ]
    },
    {
     "name": "stderr",
     "output_type": "stream",
     "text": [
      "torchx 2025-06-18 18:41:30 INFO     Successfully built 984d2e63e1bb\n"
     ]
    },
    {
     "name": "stderr",
     "output_type": "stream",
     "text": [
      "torchx 2025-06-18 18:41:30 INFO     Built new image `sha256:984d2e63e1bb44943f3960cb30f363e09aafc660"
     ]
    },
    {
     "name": "stderr",
     "output_type": "stream",
     "text": [
      "0f0cee6ddbe85736c1d2c5fb` based on original image `ghcr.io/pytorch/torchx:0.8.0dev0` and changes in "
     ]
    },
    {
     "name": "stderr",
     "output_type": "stream",
     "text": [
      "workspace `file:///home/runner/work/torchx/torchx/docs/source` for role[0]=echo.\n"
     ]
    },
    {
     "name": "stderr",
     "output_type": "stream",
     "text": [
      "torchx 2025-06-18 18:41:31 INFO     Waiting for the app to finish...\n"
     ]
    },
    {
     "name": "stderr",
     "output_type": "stream",
     "text": [
      "torchx 2025-06-18 18:41:31 INFO     Job finished: SUCCEEDED\n"
     ]
    },
    {
     "name": "stderr",
     "output_type": "stream",
     "text": [
      "echo/0 Hello :)\n"
     ]
    },
    {
     "name": "stdout",
     "output_type": "stream",
     "text": [
      "local_docker://torchx/echo-z09vj0pw23116c\n"
     ]
    }
   ],
   "source": [
    "%%sh\n",
    "torchx run utils.echo --msg \"Hello :)\""
   ]
  },
  {
   "cell_type": "markdown",
   "id": "fc5866c6",
   "metadata": {},
   "source": [
    "## Hello World\n",
    "\n",
    "Lets start off with writing a simple \"Hello World\" python app. This is just a\n",
    "normal python program and can contain anything you'd like.\n",
    "\n",
    "<div class=\"admonition note\">\n",
    "<div class=\"admonition-title\">Note</div>\n",
    "This example uses Jupyter Notebook `%%writefile` to create local files for\n",
    "example purposes. Under normal usage you would have these as standalone files.\n",
    "</div>"
   ]
  },
  {
   "cell_type": "code",
   "execution_count": 3,
   "id": "67bbebc8",
   "metadata": {
    "execution": {
     "iopub.execute_input": "2025-06-18T18:41:31.464424Z",
     "iopub.status.busy": "2025-06-18T18:41:31.464006Z",
     "iopub.status.idle": "2025-06-18T18:41:31.468318Z",
     "shell.execute_reply": "2025-06-18T18:41:31.467711Z"
    }
   },
   "outputs": [
    {
     "name": "stdout",
     "output_type": "stream",
     "text": [
      "Writing my_app.py\n"
     ]
    }
   ],
   "source": [
    "%%writefile my_app.py\n",
    "\n",
    "import sys\n",
    "import argparse\n",
    "\n",
    "def main(user: str) -> None:\n",
    "    print(f\"Hello, {user}!\")\n",
    "\n",
    "if __name__ == \"__main__\":\n",
    "    parser = argparse.ArgumentParser(\n",
    "        description=\"Hello world app\"\n",
    "    )\n",
    "    parser.add_argument(\n",
    "        \"--user\",\n",
    "        type=str,\n",
    "        help=\"the person to greet\",\n",
    "        required=True,\n",
    "    )\n",
    "    args = parser.parse_args(sys.argv[1:])\n",
    "\n",
    "    main(args.user)"
   ]
  },
  {
   "cell_type": "markdown",
   "id": "9b01582d",
   "metadata": {},
   "source": [
    "Now that we have an app we can write the component file for it. This function\n",
    "allows us to reuse and share our app in a user friendly way.\n",
    "\n",
    "We can use this component from the `torchx` cli or programmatically as part of a\n",
    "pipeline."
   ]
  },
  {
   "cell_type": "code",
   "execution_count": 4,
   "id": "186fbf36",
   "metadata": {
    "execution": {
     "iopub.execute_input": "2025-06-18T18:41:31.470467Z",
     "iopub.status.busy": "2025-06-18T18:41:31.470073Z",
     "iopub.status.idle": "2025-06-18T18:41:31.474192Z",
     "shell.execute_reply": "2025-06-18T18:41:31.473617Z"
    }
   },
   "outputs": [
    {
     "name": "stdout",
     "output_type": "stream",
     "text": [
      "Writing my_component.py\n"
     ]
    }
   ],
   "source": [
    "%%writefile my_component.py\n",
    "\n",
    "import torchx.specs as specs\n",
    "\n",
    "def greet(user: str, image: str = \"my_app:latest\") -> specs.AppDef:\n",
    "    return specs.AppDef(\n",
    "        name=\"hello_world\",\n",
    "        roles=[\n",
    "            specs.Role(\n",
    "                name=\"greeter\",\n",
    "                image=image,\n",
    "                entrypoint=\"python\",\n",
    "                args=[\n",
    "                    \"-m\", \"my_app\",\n",
    "                    \"--user\", user,\n",
    "                ],\n",
    "            )\n",
    "        ],\n",
    "    )"
   ]
  },
  {
   "cell_type": "markdown",
   "id": "3eeec33a",
   "metadata": {},
   "source": [
    "We can execute our component via `torchx run`. The `local_cwd` scheduler\n",
    "executes the component relative to the current directory."
   ]
  },
  {
   "cell_type": "code",
   "execution_count": 5,
   "id": "6b29e123",
   "metadata": {
    "execution": {
     "iopub.execute_input": "2025-06-18T18:41:31.476366Z",
     "iopub.status.busy": "2025-06-18T18:41:31.475966Z",
     "iopub.status.idle": "2025-06-18T18:41:32.919504Z",
     "shell.execute_reply": "2025-06-18T18:41:32.918911Z"
    }
   },
   "outputs": [
    {
     "name": "stderr",
     "output_type": "stream",
     "text": [
      "torchx 2025-06-18 18:41:31 INFO     Tracker configurations: {}\n"
     ]
    },
    {
     "name": "stderr",
     "output_type": "stream",
     "text": [
      "torchx 2025-06-18 18:41:31 INFO     Log directory not set in scheduler cfg. Creating a temporary log"
     ]
    },
    {
     "name": "stderr",
     "output_type": "stream",
     "text": [
      " dir that will be deleted on exit. To preserve log directory set the `log_dir` cfg option\n",
      "torchx 202"
     ]
    },
    {
     "name": "stderr",
     "output_type": "stream",
     "text": [
      "5-06-18 18:41:31 INFO     Log directory is: /tmp/torchx_ridm1gh9\n"
     ]
    },
    {
     "name": "stderr",
     "output_type": "stream",
     "text": [
      "torchx 2025-06-18 18:41:31 INFO     Waiting for the app to finish...\n"
     ]
    },
    {
     "name": "stderr",
     "output_type": "stream",
     "text": [
      "greeter/0 Hello, your name!\n"
     ]
    },
    {
     "name": "stderr",
     "output_type": "stream",
     "text": [
      "torchx 2025-06-18 18:41:32 INFO     Job finished: SUCCEEDED\n"
     ]
    },
    {
     "name": "stdout",
     "output_type": "stream",
     "text": [
      "local_cwd://torchx/hello_world-qb61q61tq995qc\n"
     ]
    }
   ],
   "source": [
    "%%sh\n",
    "torchx run --scheduler local_cwd my_component.py:greet --user \"your name\""
   ]
  },
  {
   "cell_type": "markdown",
   "id": "a702aa14",
   "metadata": {},
   "source": [
    "If we want to run in other environments, we can build a Docker container so we\n",
    "can run our component in Docker enabled environments such as Kubernetes or via\n",
    "the local Docker scheduler.\n",
    "\n",
    "<div class=\"admonition note\">\n",
    "<div class=\"admonition-title\">Note</div>\n",
    "This requires Docker installed and won't work in environments such as Google\n",
    "Colab. If you have not done so already follow the install instructions on:\n",
    "[https://docs.docker.com/get-docker/](https://docs.docker.com/get-docker/)</a>\n",
    "</div>"
   ]
  },
  {
   "cell_type": "code",
   "execution_count": 6,
   "id": "a75c8946",
   "metadata": {
    "execution": {
     "iopub.execute_input": "2025-06-18T18:41:32.922019Z",
     "iopub.status.busy": "2025-06-18T18:41:32.921638Z",
     "iopub.status.idle": "2025-06-18T18:41:32.925763Z",
     "shell.execute_reply": "2025-06-18T18:41:32.925199Z"
    }
   },
   "outputs": [
    {
     "name": "stdout",
     "output_type": "stream",
     "text": [
      "Writing Dockerfile.custom\n"
     ]
    }
   ],
   "source": [
    "%%writefile Dockerfile.custom\n",
    "\n",
    "FROM ghcr.io/pytorch/torchx:0.1.0rc1\n",
    "\n",
    "ADD my_app.py ."
   ]
  },
  {
   "cell_type": "markdown",
   "id": "26b4d104",
   "metadata": {},
   "source": [
    "Once we have the Dockerfile created we can create our docker image."
   ]
  },
  {
   "cell_type": "code",
   "execution_count": 7,
   "id": "cc446c17",
   "metadata": {
    "execution": {
     "iopub.execute_input": "2025-06-18T18:41:32.927932Z",
     "iopub.status.busy": "2025-06-18T18:41:32.927470Z",
     "iopub.status.idle": "2025-06-18T18:43:11.275918Z",
     "shell.execute_reply": "2025-06-18T18:43:11.275313Z"
    }
   },
   "outputs": [
    {
     "name": "stderr",
     "output_type": "stream",
     "text": [
      "#0 building with \"default\" instance using docker driver\n",
      "\n",
      "#1 [internal] load build definition from Do"
     ]
    },
    {
     "name": "stderr",
     "output_type": "stream",
     "text": [
      "ckerfile.custom\n",
      "#1 transferring dockerfile: 99B done\n",
      "#1 DONE 0.0s\n",
      "\n",
      "#2 [internal] load metadata for g"
     ]
    },
    {
     "name": "stderr",
     "output_type": "stream",
     "text": [
      "hcr.io/pytorch/torchx:0.1.0rc1\n"
     ]
    },
    {
     "name": "stderr",
     "output_type": "stream",
     "text": [
      "#2 DONE 0.6s\n"
     ]
    },
    {
     "name": "stderr",
     "output_type": "stream",
     "text": [
      "\n",
      "#3 [internal] load .dockerignore\n",
      "#3 transferring context: 2B done\n",
      "#3 DONE 0.0s\n",
      "\n",
      "#4 [internal] load "
     ]
    },
    {
     "name": "stderr",
     "output_type": "stream",
     "text": [
      "build context\n",
      "#4 transferring context: 425B done\n",
      "#4 DONE 0.0s\n",
      "\n",
      "#5 [1/2] FROM ghcr.io/pytorch/torchx:"
     ]
    },
    {
     "name": "stderr",
     "output_type": "stream",
     "text": [
      "0.1.0rc1@sha256:a738949601d82e7f100fa1efeb8dde0c35ce44c66726cf38596f96d78dcd7ad3\n",
      "#5 resolve ghcr.io/"
     ]
    },
    {
     "name": "stderr",
     "output_type": "stream",
     "text": [
      "pytorch/torchx:0.1.0rc1@sha256:a738949601d82e7f100fa1efeb8dde0c35ce44c66726cf38596f96d78dcd7ad3 done"
     ]
    },
    {
     "name": "stderr",
     "output_type": "stream",
     "text": [
      "\n"
     ]
    },
    {
     "name": "stderr",
     "output_type": "stream",
     "text": [
      "#5 sha256:3dbec59e804974689ff0739216fb012d3e1cd6694632cd3a85b74b572266ec5c 7.21kB / 7.21kB done\n",
      "#5 s"
     ]
    },
    {
     "name": "stderr",
     "output_type": "stream",
     "text": [
      "ha256:a738949601d82e7f100fa1efeb8dde0c35ce44c66726cf38596f96d78dcd7ad3 3.25kB / 3.25kB done\n",
      "#5 sha25"
     ]
    },
    {
     "name": "stderr",
     "output_type": "stream",
     "text": [
      "6:4bbfd2c87b7524455f144a03bf387c88b6d4200e5e0df9139a9d5e79110f89ca 0B / 26.70MB 0.1s\n",
      "#5 sha256:889a7"
     ]
    },
    {
     "name": "stderr",
     "output_type": "stream",
     "text": [
      "173dcfeb409f9d88054a97ab2445f5a799a823f719a5573365ee3662b6f 0B / 189B 0.1s\n",
      "#5 sha256:d2e110be24e168b"
     ]
    },
    {
     "name": "stderr",
     "output_type": "stream",
     "text": [
      "42c1a2ddbc4a476a217b73cccdba69cdcb212b812a88f5726 0B / 857B 0.1s\n"
     ]
    },
    {
     "name": "stderr",
     "output_type": "stream",
     "text": [
      "#5 sha256:4bbfd2c87b7524455f144a03bf387c88b6d4200e5e0df9139a9d5e79110f89ca 8.39MB / 26.70MB 0.2s\n",
      "#5 "
     ]
    },
    {
     "name": "stderr",
     "output_type": "stream",
     "text": [
      "sha256:d2e110be24e168b42c1a2ddbc4a476a217b73cccdba69cdcb212b812a88f5726 857B / 857B 0.2s done\n",
      "#5 sha"
     ]
    },
    {
     "name": "stderr",
     "output_type": "stream",
     "text": [
      "256:6009a622672af862e3a3979ffd58a348f95208a4bc3b6f6cea2efda4e8390203 0B / 9.94MB 0.2s\n"
     ]
    },
    {
     "name": "stderr",
     "output_type": "stream",
     "text": [
      "#5 sha256:4bbfd2c87b7524455f144a03bf387c88b6d4200e5e0df9139a9d5e79110f89ca 17.83MB / 26.70MB 0.3s\n",
      "#5"
     ]
    },
    {
     "name": "stderr",
     "output_type": "stream",
     "text": [
      " sha256:143f801954310499daa44a8499a49797d2f282b5d56be601557ebe6cbf796907 0B / 2.00GB 0.3s\n"
     ]
    },
    {
     "name": "stderr",
     "output_type": "stream",
     "text": [
      "#5 sha256:4bbfd2c87b7524455f144a03bf387c88b6d4200e5e0df9139a9d5e79110f89ca 26.70MB / 26.70MB 0.4s do"
     ]
    },
    {
     "name": "stderr",
     "output_type": "stream",
     "text": [
      "ne\n",
      "#5 sha256:889a7173dcfeb409f9d88054a97ab2445f5a799a823f719a5573365ee3662b6f 189B / 189B 0.2s done\n"
     ]
    },
    {
     "name": "stderr",
     "output_type": "stream",
     "text": [
      "#5 sha256:6009a622672af862e3a3979ffd58a348f95208a4bc3b6f6cea2efda4e8390203 9.94MB / 9.94MB 0.4s done"
     ]
    },
    {
     "name": "stderr",
     "output_type": "stream",
     "text": [
      "\n",
      "#5 extracting sha256:4bbfd2c87b7524455f144a03bf387c88b6d4200e5e0df9139a9d5e79110f89ca 0.1s\n",
      "#5 sha25"
     ]
    },
    {
     "name": "stderr",
     "output_type": "stream",
     "text": [
      "6:d4c7af0d4fa735e6727a24afcea4022492c7f29ac85e31ddf3d385bfbf704f71 0B / 21.46MB 0.4s\n",
      "#5 sha256:eccbe"
     ]
    },
    {
     "name": "stderr",
     "output_type": "stream",
     "text": [
      "17c44e1b27c836dddc42f204bde06f73568b50833556b50324146bd43aa 0B / 132B 0.4s\n"
     ]
    },
    {
     "name": "stderr",
     "output_type": "stream",
     "text": [
      "#5 sha256:d4c7af0d4fa735e6727a24afcea4022492c7f29ac85e31ddf3d385bfbf704f71 5.24MB / 21.46MB 0.6s\n",
      "#5 "
     ]
    },
    {
     "name": "stderr",
     "output_type": "stream",
     "text": [
      "sha256:eccbe17c44e1b27c836dddc42f204bde06f73568b50833556b50324146bd43aa 132B / 132B 0.5s done\n",
      "#5 sha"
     ]
    },
    {
     "name": "stderr",
     "output_type": "stream",
     "text": [
      "256:06b5edd6bf524455a7c5a54cb27ced3ecc540414ecf38c24c80ba4368ebc77de 257B / 257B 0.6s done\n",
      "#5 sha256"
     ]
    },
    {
     "name": "stderr",
     "output_type": "stream",
     "text": [
      ":f18d016c4ccc1c57c9e34cb119e1e1966287b08aa9b4d52a38b30815a56574b6 0B / 1.71GB 0.6s\n"
     ]
    },
    {
     "name": "stderr",
     "output_type": "stream",
     "text": [
      "#5 sha256:d4c7af0d4fa735e6727a24afcea4022492c7f29ac85e31ddf3d385bfbf704f71 16.78MB / 21.46MB 0.7s\n"
     ]
    },
    {
     "name": "stderr",
     "output_type": "stream",
     "text": [
      "#5 sha256:d4c7af0d4fa735e6727a24afcea4022492c7f29ac85e31ddf3d385bfbf704f71 21.46MB / 21.46MB 0.7s do"
     ]
    },
    {
     "name": "stderr",
     "output_type": "stream",
     "text": [
      "ne\n",
      "#5 sha256:c0ad16d9fa05dbf708784e8aa10d69153465bae391345020be52cbe0a1701932 0B / 92B 0.8s\n"
     ]
    },
    {
     "name": "stderr",
     "output_type": "stream",
     "text": [
      "#5 sha256:c0ad16d9fa05dbf708784e8aa10d69153465bae391345020be52cbe0a1701932 92B / 92B 0.8s done\n",
      "#5 sh"
     ]
    },
    {
     "name": "stderr",
     "output_type": "stream",
     "text": [
      "a256:30587ba7fd6bcbd1c883125d84517055b2d7f2d35a13faedbc8b15f94b900cc2 0B / 352B 1.0s\n"
     ]
    },
    {
     "name": "stderr",
     "output_type": "stream",
     "text": [
      "#5 sha256:30587ba7fd6bcbd1c883125d84517055b2d7f2d35a13faedbc8b15f94b900cc2 352B / 352B 1.0s done\n",
      "#5 "
     ]
    },
    {
     "name": "stderr",
     "output_type": "stream",
     "text": [
      "sha256:909695be1d5003de345714eec2ca3020a48dd8f407fe918cbd47a8db73d7a233 0B / 341.29MB 1.1s\n"
     ]
    },
    {
     "name": "stderr",
     "output_type": "stream",
     "text": [
      "#5 sha256:143f801954310499daa44a8499a49797d2f282b5d56be601557ebe6cbf796907 100.66MB / 2.00GB 1.2s\n"
     ]
    },
    {
     "name": "stderr",
     "output_type": "stream",
     "text": [
      "#5 extracting sha256:4bbfd2c87b7524455f144a03bf387c88b6d4200e5e0df9139a9d5e79110f89ca 1.0s done\n",
      "#5 s"
     ]
    },
    {
     "name": "stderr",
     "output_type": "stream",
     "text": [
      "ha256:f18d016c4ccc1c57c9e34cb119e1e1966287b08aa9b4d52a38b30815a56574b6 88.08MB / 1.71GB 1.4s\n",
      "#5 sha2"
     ]
    },
    {
     "name": "stderr",
     "output_type": "stream",
     "text": [
      "56:909695be1d5003de345714eec2ca3020a48dd8f407fe918cbd47a8db73d7a233 36.84MB / 341.29MB 1.4s\n",
      "#5 extra"
     ]
    },
    {
     "name": "stderr",
     "output_type": "stream",
     "text": [
      "cting sha256:d2e110be24e168b42c1a2ddbc4a476a217b73cccdba69cdcb212b812a88f5726\n"
     ]
    },
    {
     "name": "stderr",
     "output_type": "stream",
     "text": [
      "#5 sha256:909695be1d5003de345714eec2ca3020a48dd8f407fe918cbd47a8db73d7a233 69.21MB / 341.29MB 1.6s\n",
      "#"
     ]
    },
    {
     "name": "stderr",
     "output_type": "stream",
     "text": [
      "5 extracting sha256:d2e110be24e168b42c1a2ddbc4a476a217b73cccdba69cdcb212b812a88f5726 done\n"
     ]
    },
    {
     "name": "stderr",
     "output_type": "stream",
     "text": [
      "#5 sha256:143f801954310499daa44a8499a49797d2f282b5d56be601557ebe6cbf796907 211.81MB / 2.00GB 1.8s\n",
      "#5"
     ]
    },
    {
     "name": "stderr",
     "output_type": "stream",
     "text": [
      " sha256:909695be1d5003de345714eec2ca3020a48dd8f407fe918cbd47a8db73d7a233 92.27MB / 341.29MB 1.8s\n"
     ]
    },
    {
     "name": "stderr",
     "output_type": "stream",
     "text": [
      "#5 sha256:f18d016c4ccc1c57c9e34cb119e1e1966287b08aa9b4d52a38b30815a56574b6 188.74MB / 1.71GB 2.1s\n",
      "#5"
     ]
    },
    {
     "name": "stderr",
     "output_type": "stream",
     "text": [
      " sha256:909695be1d5003de345714eec2ca3020a48dd8f407fe918cbd47a8db73d7a233 133.17MB / 341.29MB 2.1s\n"
     ]
    },
    {
     "name": "stderr",
     "output_type": "stream",
     "text": [
      "#5 sha256:143f801954310499daa44a8499a49797d2f282b5d56be601557ebe6cbf796907 312.74MB / 2.00GB 2.7s\n",
      "#5"
     ]
    },
    {
     "name": "stderr",
     "output_type": "stream",
     "text": [
      " sha256:909695be1d5003de345714eec2ca3020a48dd8f407fe918cbd47a8db73d7a233 166.72MB / 341.29MB 2.7s\n"
     ]
    },
    {
     "name": "stderr",
     "output_type": "stream",
     "text": [
      "#5 sha256:f18d016c4ccc1c57c9e34cb119e1e1966287b08aa9b4d52a38b30815a56574b6 313.52MB / 1.71GB 3.0s\n",
      "#5"
     ]
    },
    {
     "name": "stderr",
     "output_type": "stream",
     "text": [
      " sha256:909695be1d5003de345714eec2ca3020a48dd8f407fe918cbd47a8db73d7a233 202.38MB / 341.29MB 3.0s\n",
      "#5"
     ]
    },
    {
     "name": "stderr",
     "output_type": "stream",
     "text": [
      " extracting sha256:889a7173dcfeb409f9d88054a97ab2445f5a799a823f719a5573365ee3662b6f done\n"
     ]
    },
    {
     "name": "stderr",
     "output_type": "stream",
     "text": [
      "#5 sha256:909695be1d5003de345714eec2ca3020a48dd8f407fe918cbd47a8db73d7a233 243.27MB / 341.29MB 3.5s\n"
     ]
    },
    {
     "name": "stderr",
     "output_type": "stream",
     "text": [
      "#5 extracting sha256:6009a622672af862e3a3979ffd58a348f95208a4bc3b6f6cea2efda4e8390203\n"
     ]
    },
    {
     "name": "stderr",
     "output_type": "stream",
     "text": [
      "#5 sha256:143f801954310499daa44a8499a49797d2f282b5d56be601557ebe6cbf796907 439.35MB / 2.00GB 3.7s\n",
      "#5"
     ]
    },
    {
     "name": "stderr",
     "output_type": "stream",
     "text": [
      " sha256:f18d016c4ccc1c57c9e34cb119e1e1966287b08aa9b4d52a38b30815a56574b6 411.04MB / 1.71GB 3.7s\n",
      "#5 s"
     ]
    },
    {
     "name": "stderr",
     "output_type": "stream",
     "text": [
      "ha256:909695be1d5003de345714eec2ca3020a48dd8f407fe918cbd47a8db73d7a233 276.82MB / 341.29MB 3.7s\n"
     ]
    },
    {
     "name": "stderr",
     "output_type": "stream",
     "text": [
      "#5 sha256:909695be1d5003de345714eec2ca3020a48dd8f407fe918cbd47a8db73d7a233 310.38MB / 341.29MB 4.0s\n"
     ]
    },
    {
     "name": "stderr",
     "output_type": "stream",
     "text": [
      "#5 sha256:909695be1d5003de345714eec2ca3020a48dd8f407fe918cbd47a8db73d7a233 331.35MB / 341.29MB 4.1s\n"
     ]
    },
    {
     "name": "stderr",
     "output_type": "stream",
     "text": [
      "#5 sha256:909695be1d5003de345714eec2ca3020a48dd8f407fe918cbd47a8db73d7a233 341.29MB / 341.29MB 4.2s "
     ]
    },
    {
     "name": "stderr",
     "output_type": "stream",
     "text": [
      "done\n"
     ]
    },
    {
     "name": "stderr",
     "output_type": "stream",
     "text": [
      "#5 sha256:f119a6d0a466a041afbcb08344ff624b5c5ac5f68b93d33af4827529ea1a6800 0B / 563.38kB 4.2s\n"
     ]
    },
    {
     "name": "stderr",
     "output_type": "stream",
     "text": [
      "#5 sha256:143f801954310499daa44a8499a49797d2f282b5d56be601557ebe6cbf796907 545.26MB / 2.00GB 4.4s\n",
      "#5"
     ]
    },
    {
     "name": "stderr",
     "output_type": "stream",
     "text": [
      " sha256:f18d016c4ccc1c57c9e34cb119e1e1966287b08aa9b4d52a38b30815a56574b6 515.90MB / 1.71GB 4.4s\n",
      "#5 e"
     ]
    },
    {
     "name": "stderr",
     "output_type": "stream",
     "text": [
      "xtracting sha256:6009a622672af862e3a3979ffd58a348f95208a4bc3b6f6cea2efda4e8390203 0.8s done\n",
      "#5 sha25"
     ]
    },
    {
     "name": "stderr",
     "output_type": "stream",
     "text": [
      "6:f119a6d0a466a041afbcb08344ff624b5c5ac5f68b93d33af4827529ea1a6800 563.38kB / 563.38kB 4.3s done\n",
      "#5 "
     ]
    },
    {
     "name": "stderr",
     "output_type": "stream",
     "text": [
      "sha256:88d87059c913e67971846680d4032b75f96f599f8a67062f668fed6471fc2968 0B / 556.96kB 4.4s\n"
     ]
    },
    {
     "name": "stderr",
     "output_type": "stream",
     "text": [
      "#5 sha256:88d87059c913e67971846680d4032b75f96f599f8a67062f668fed6471fc2968 556.96kB / 556.96kB 4.5s\n"
     ]
    },
    {
     "name": "stderr",
     "output_type": "stream",
     "text": [
      "#5 sha256:f18d016c4ccc1c57c9e34cb119e1e1966287b08aa9b4d52a38b30815a56574b6 622.69MB / 1.71GB 5.2s\n",
      "#5"
     ]
    },
    {
     "name": "stderr",
     "output_type": "stream",
     "text": [
      " sha256:88d87059c913e67971846680d4032b75f96f599f8a67062f668fed6471fc2968 556.96kB / 556.96kB 5.0s do"
     ]
    },
    {
     "name": "stderr",
     "output_type": "stream",
     "text": [
      "ne\n"
     ]
    },
    {
     "name": "stderr",
     "output_type": "stream",
     "text": [
      "#5 sha256:f18d016c4ccc1c57c9e34cb119e1e1966287b08aa9b4d52a38b30815a56574b6 716.18MB / 1.71GB 5.5s\n"
     ]
    },
    {
     "name": "stderr",
     "output_type": "stream",
     "text": [
      "#5 sha256:143f801954310499daa44a8499a49797d2f282b5d56be601557ebe6cbf796907 654.31MB / 2.00GB 5.7s\n"
     ]
    },
    {
     "name": "stderr",
     "output_type": "stream",
     "text": [
      "#5 sha256:f18d016c4ccc1c57c9e34cb119e1e1966287b08aa9b4d52a38b30815a56574b6 808.45MB / 1.71GB 6.4s\n"
     ]
    },
    {
     "name": "stderr",
     "output_type": "stream",
     "text": [
      "#5 sha256:143f801954310499daa44a8499a49797d2f282b5d56be601557ebe6cbf796907 767.56MB / 2.00GB 6.7s\n"
     ]
    },
    {
     "name": "stderr",
     "output_type": "stream",
     "text": [
      "#5 sha256:f18d016c4ccc1c57c9e34cb119e1e1966287b08aa9b4d52a38b30815a56574b6 916.46MB / 1.71GB 6.9s\n"
     ]
    },
    {
     "name": "stderr",
     "output_type": "stream",
     "text": [
      "#5 sha256:143f801954310499daa44a8499a49797d2f282b5d56be601557ebe6cbf796907 893.39MB / 2.00GB 7.5s\n"
     ]
    },
    {
     "name": "stderr",
     "output_type": "stream",
     "text": [
      "#5 sha256:f18d016c4ccc1c57c9e34cb119e1e1966287b08aa9b4d52a38b30815a56574b6 1.01GB / 1.71GB 7.6s\n"
     ]
    },
    {
     "name": "stderr",
     "output_type": "stream",
     "text": [
      "#5 sha256:f18d016c4ccc1c57c9e34cb119e1e1966287b08aa9b4d52a38b30815a56574b6 1.10GB / 1.71GB 8.3s\n"
     ]
    },
    {
     "name": "stderr",
     "output_type": "stream",
     "text": [
      "#5 sha256:143f801954310499daa44a8499a49797d2f282b5d56be601557ebe6cbf796907 1.00GB / 2.00GB 8.4s\n"
     ]
    },
    {
     "name": "stderr",
     "output_type": "stream",
     "text": [
      "#5 sha256:f18d016c4ccc1c57c9e34cb119e1e1966287b08aa9b4d52a38b30815a56574b6 1.19GB / 1.71GB 8.9s\n"
     ]
    },
    {
     "name": "stderr",
     "output_type": "stream",
     "text": [
      "#5 sha256:f18d016c4ccc1c57c9e34cb119e1e1966287b08aa9b4d52a38b30815a56574b6 1.28GB / 1.71GB 9.5s\n"
     ]
    },
    {
     "name": "stderr",
     "output_type": "stream",
     "text": [
      "#5 sha256:143f801954310499daa44a8499a49797d2f282b5d56be601557ebe6cbf796907 1.11GB / 2.00GB 9.7s\n"
     ]
    },
    {
     "name": "stderr",
     "output_type": "stream",
     "text": [
      "#5 sha256:f18d016c4ccc1c57c9e34cb119e1e1966287b08aa9b4d52a38b30815a56574b6 1.39GB / 1.71GB 10.3s\n"
     ]
    },
    {
     "name": "stderr",
     "output_type": "stream",
     "text": [
      "#5 sha256:143f801954310499daa44a8499a49797d2f282b5d56be601557ebe6cbf796907 1.23GB / 2.00GB 10.9s\n"
     ]
    },
    {
     "name": "stderr",
     "output_type": "stream",
     "text": [
      "#5 sha256:f18d016c4ccc1c57c9e34cb119e1e1966287b08aa9b4d52a38b30815a56574b6 1.51GB / 1.71GB 11.1s\n"
     ]
    },
    {
     "name": "stderr",
     "output_type": "stream",
     "text": [
      "#5 sha256:143f801954310499daa44a8499a49797d2f282b5d56be601557ebe6cbf796907 1.33GB / 2.00GB 11.9s\n",
      "#5 "
     ]
    },
    {
     "name": "stderr",
     "output_type": "stream",
     "text": [
      "sha256:f18d016c4ccc1c57c9e34cb119e1e1966287b08aa9b4d52a38b30815a56574b6 1.61GB / 1.71GB 11.9s\n"
     ]
    },
    {
     "name": "stderr",
     "output_type": "stream",
     "text": [
      "#5 sha256:f18d016c4ccc1c57c9e34cb119e1e1966287b08aa9b4d52a38b30815a56574b6 1.69GB / 1.71GB 12.7s\n"
     ]
    },
    {
     "name": "stderr",
     "output_type": "stream",
     "text": [
      "#5 sha256:143f801954310499daa44a8499a49797d2f282b5d56be601557ebe6cbf796907 1.44GB / 2.00GB 13.3s\n"
     ]
    },
    {
     "name": "stderr",
     "output_type": "stream",
     "text": [
      "#5 sha256:143f801954310499daa44a8499a49797d2f282b5d56be601557ebe6cbf796907 1.54GB / 2.00GB 14.3s\n"
     ]
    },
    {
     "name": "stderr",
     "output_type": "stream",
     "text": [
      "#5 sha256:f18d016c4ccc1c57c9e34cb119e1e1966287b08aa9b4d52a38b30815a56574b6 1.71GB / 1.71GB 14.4s don"
     ]
    },
    {
     "name": "stderr",
     "output_type": "stream",
     "text": [
      "e\n"
     ]
    },
    {
     "name": "stderr",
     "output_type": "stream",
     "text": [
      "#5 sha256:143f801954310499daa44a8499a49797d2f282b5d56be601557ebe6cbf796907 1.65GB / 2.00GB 16.0s\n"
     ]
    },
    {
     "name": "stderr",
     "output_type": "stream",
     "text": [
      "#5 sha256:143f801954310499daa44a8499a49797d2f282b5d56be601557ebe6cbf796907 1.76GB / 2.00GB 17.1s\n"
     ]
    },
    {
     "name": "stderr",
     "output_type": "stream",
     "text": [
      "#5 sha256:143f801954310499daa44a8499a49797d2f282b5d56be601557ebe6cbf796907 1.86GB / 2.00GB 18.0s\n"
     ]
    },
    {
     "name": "stderr",
     "output_type": "stream",
     "text": [
      "#5 sha256:143f801954310499daa44a8499a49797d2f282b5d56be601557ebe6cbf796907 1.98GB / 2.00GB 18.8s\n"
     ]
    },
    {
     "name": "stderr",
     "output_type": "stream",
     "text": [
      "#5 extracting sha256:143f801954310499daa44a8499a49797d2f282b5d56be601557ebe6cbf796907\n"
     ]
    },
    {
     "name": "stderr",
     "output_type": "stream",
     "text": [
      "#5 sha256:143f801954310499daa44a8499a49797d2f282b5d56be601557ebe6cbf796907 2.00GB / 2.00GB 21.2s don"
     ]
    },
    {
     "name": "stderr",
     "output_type": "stream",
     "text": [
      "e\n"
     ]
    },
    {
     "name": "stderr",
     "output_type": "stream",
     "text": [
      "#5 extracting sha256:143f801954310499daa44a8499a49797d2f282b5d56be601557ebe6cbf796907 5.0s\n"
     ]
    },
    {
     "name": "stderr",
     "output_type": "stream",
     "text": [
      "#5 extracting sha256:143f801954310499daa44a8499a49797d2f282b5d56be601557ebe6cbf796907 10.0s\n"
     ]
    },
    {
     "name": "stderr",
     "output_type": "stream",
     "text": [
      "#5 extracting sha256:143f801954310499daa44a8499a49797d2f282b5d56be601557ebe6cbf796907 15.1s\n"
     ]
    },
    {
     "name": "stderr",
     "output_type": "stream",
     "text": [
      "#5 extracting sha256:143f801954310499daa44a8499a49797d2f282b5d56be601557ebe6cbf796907 20.1s\n"
     ]
    },
    {
     "name": "stderr",
     "output_type": "stream",
     "text": [
      "#5 extracting sha256:143f801954310499daa44a8499a49797d2f282b5d56be601557ebe6cbf796907 25.4s\n"
     ]
    },
    {
     "name": "stderr",
     "output_type": "stream",
     "text": [
      "#5 extracting sha256:143f801954310499daa44a8499a49797d2f282b5d56be601557ebe6cbf796907 28.3s done\n"
     ]
    },
    {
     "name": "stderr",
     "output_type": "stream",
     "text": [
      "#5 extracting sha256:eccbe17c44e1b27c836dddc42f204bde06f73568b50833556b50324146bd43aa\n"
     ]
    },
    {
     "name": "stderr",
     "output_type": "stream",
     "text": [
      "#5 extracting sha256:eccbe17c44e1b27c836dddc42f204bde06f73568b50833556b50324146bd43aa done\n",
      "#5 extrac"
     ]
    },
    {
     "name": "stderr",
     "output_type": "stream",
     "text": [
      "ting sha256:d4c7af0d4fa735e6727a24afcea4022492c7f29ac85e31ddf3d385bfbf704f71 0.1s\n"
     ]
    },
    {
     "name": "stderr",
     "output_type": "stream",
     "text": [
      "#5 extracting sha256:d4c7af0d4fa735e6727a24afcea4022492c7f29ac85e31ddf3d385bfbf704f71 0.8s done\n",
      "#5 e"
     ]
    },
    {
     "name": "stderr",
     "output_type": "stream",
     "text": [
      "xtracting sha256:06b5edd6bf524455a7c5a54cb27ced3ecc540414ecf38c24c80ba4368ebc77de\n"
     ]
    },
    {
     "name": "stderr",
     "output_type": "stream",
     "text": [
      "#5 extracting sha256:06b5edd6bf524455a7c5a54cb27ced3ecc540414ecf38c24c80ba4368ebc77de done\n",
      "#5 extrac"
     ]
    },
    {
     "name": "stderr",
     "output_type": "stream",
     "text": [
      "ting sha256:f18d016c4ccc1c57c9e34cb119e1e1966287b08aa9b4d52a38b30815a56574b6\n"
     ]
    },
    {
     "name": "stderr",
     "output_type": "stream",
     "text": [
      "#5 extracting sha256:f18d016c4ccc1c57c9e34cb119e1e1966287b08aa9b4d52a38b30815a56574b6 5.0s\n"
     ]
    },
    {
     "name": "stderr",
     "output_type": "stream",
     "text": [
      "#5 extracting sha256:f18d016c4ccc1c57c9e34cb119e1e1966287b08aa9b4d52a38b30815a56574b6 10.1s\n"
     ]
    },
    {
     "name": "stderr",
     "output_type": "stream",
     "text": [
      "#5 extracting sha256:f18d016c4ccc1c57c9e34cb119e1e1966287b08aa9b4d52a38b30815a56574b6 13.3s done\n"
     ]
    },
    {
     "name": "stderr",
     "output_type": "stream",
     "text": [
      "#5 extracting sha256:c0ad16d9fa05dbf708784e8aa10d69153465bae391345020be52cbe0a1701932\n"
     ]
    },
    {
     "name": "stderr",
     "output_type": "stream",
     "text": [
      "#5 extracting sha256:c0ad16d9fa05dbf708784e8aa10d69153465bae391345020be52cbe0a1701932 done\n",
      "#5 extrac"
     ]
    },
    {
     "name": "stderr",
     "output_type": "stream",
     "text": [
      "ting sha256:30587ba7fd6bcbd1c883125d84517055b2d7f2d35a13faedbc8b15f94b900cc2 done\n",
      "#5 extracting sha2"
     ]
    },
    {
     "name": "stderr",
     "output_type": "stream",
     "text": [
      "56:909695be1d5003de345714eec2ca3020a48dd8f407fe918cbd47a8db73d7a233 0.1s\n"
     ]
    },
    {
     "name": "stderr",
     "output_type": "stream",
     "text": [
      "#5 extracting sha256:909695be1d5003de345714eec2ca3020a48dd8f407fe918cbd47a8db73d7a233 5.2s\n"
     ]
    },
    {
     "name": "stderr",
     "output_type": "stream",
     "text": [
      "#5 extracting sha256:909695be1d5003de345714eec2ca3020a48dd8f407fe918cbd47a8db73d7a233 10.3s\n"
     ]
    },
    {
     "name": "stderr",
     "output_type": "stream",
     "text": [
      "#5 extracting sha256:909695be1d5003de345714eec2ca3020a48dd8f407fe918cbd47a8db73d7a233 14.0s done\n"
     ]
    },
    {
     "name": "stderr",
     "output_type": "stream",
     "text": [
      "#5 extracting sha256:f119a6d0a466a041afbcb08344ff624b5c5ac5f68b93d33af4827529ea1a6800\n"
     ]
    },
    {
     "name": "stderr",
     "output_type": "stream",
     "text": [
      "#5 extracting sha256:f119a6d0a466a041afbcb08344ff624b5c5ac5f68b93d33af4827529ea1a6800 0.0s done\n",
      "#5 e"
     ]
    },
    {
     "name": "stderr",
     "output_type": "stream",
     "text": [
      "xtracting sha256:88d87059c913e67971846680d4032b75f96f599f8a67062f668fed6471fc2968 0.0s done\n"
     ]
    },
    {
     "name": "stderr",
     "output_type": "stream",
     "text": [
      "#5 DONE 86.5s\n",
      "\n",
      "#6 [2/2] ADD my_app.py .\n",
      "#6 DONE 0.0s\n"
     ]
    },
    {
     "name": "stderr",
     "output_type": "stream",
     "text": [
      "\n",
      "#7 exporting to image\n",
      "#7 exporting layers\n"
     ]
    },
    {
     "name": "stderr",
     "output_type": "stream",
     "text": [
      "#7 exporting layers 4.4s done\n"
     ]
    },
    {
     "name": "stderr",
     "output_type": "stream",
     "text": [
      "#7 writing image sha256:c616d1db413c798df9ae24f4ecc55065831a0e5a4bf0ba17a17f9b77bc1d7b51 done\n",
      "#7 nam"
     ]
    },
    {
     "name": "stderr",
     "output_type": "stream",
     "text": [
      "ing to docker.io/library/my_app:latest done\n",
      "#7 DONE 4.4s\n"
     ]
    }
   ],
   "source": [
    "%%sh\n",
    "docker build -t my_app:latest -f Dockerfile.custom ."
   ]
  },
  {
   "cell_type": "markdown",
   "id": "cce6b90d",
   "metadata": {},
   "source": [
    "We can then launch it on the local scheduler."
   ]
  },
  {
   "cell_type": "code",
   "execution_count": 8,
   "id": "44b04934",
   "metadata": {
    "execution": {
     "iopub.execute_input": "2025-06-18T18:43:11.278200Z",
     "iopub.status.busy": "2025-06-18T18:43:11.277787Z",
     "iopub.status.idle": "2025-06-18T18:43:22.289714Z",
     "shell.execute_reply": "2025-06-18T18:43:22.288992Z"
    }
   },
   "outputs": [
    {
     "name": "stderr",
     "output_type": "stream",
     "text": [
      "torchx 2025-06-18 18:43:11 INFO     Tracker configurations: {}\n"
     ]
    },
    {
     "name": "stderr",
     "output_type": "stream",
     "text": [
      "torchx 2025-06-18 18:43:11 INFO     Checking for changes in workspace `file:///home/runner/work/torc"
     ]
    },
    {
     "name": "stderr",
     "output_type": "stream",
     "text": [
      "hx/torchx/docs/source`...\n",
      "torchx 2025-06-18 18:43:11 INFO     To disable workspaces pass: --workspac"
     ]
    },
    {
     "name": "stderr",
     "output_type": "stream",
     "text": [
      "e=\"\" from CLI or workspace=None programmatically.\n"
     ]
    },
    {
     "name": "stderr",
     "output_type": "stream",
     "text": [
      "torchx 2025-06-18 18:43:11 INFO     Workspace `file:///home/runner/work/torchx/torchx/docs/source` r"
     ]
    },
    {
     "name": "stderr",
     "output_type": "stream",
     "text": [
      "esolved to filesystem path `/home/runner/work/torchx/torchx/docs/source`\n"
     ]
    },
    {
     "name": "stderr",
     "output_type": "stream",
     "text": [
      "torchx 2025-06-18 18:43:12 WARNING  failed to pull image my_app:latest, falling back to local: 404 C"
     ]
    },
    {
     "name": "stderr",
     "output_type": "stream",
     "text": [
      "lient Error for http+docker://localhost/v1.48/images/create?tag=latest&fromImage=my_app: Not Found ("
     ]
    },
    {
     "name": "stderr",
     "output_type": "stream",
     "text": [
      "\"pull access denied for my_app, repository does not exist or may require 'docker login': denied: req"
     ]
    },
    {
     "name": "stderr",
     "output_type": "stream",
     "text": [
      "uested access to the resource is denied\")\n",
      "torchx 2025-06-18 18:43:12 INFO     Building workspace doc"
     ]
    },
    {
     "name": "stderr",
     "output_type": "stream",
     "text": [
      "ker image (this may take a while)...\n"
     ]
    },
    {
     "name": "stderr",
     "output_type": "stream",
     "text": [
      "torchx 2025-06-18 18:43:12 INFO     Step 1/4 : ARG IMAGE\n"
     ]
    },
    {
     "name": "stderr",
     "output_type": "stream",
     "text": [
      "torchx 2025-06-18 18:43:12 INFO     Step 2/4 : FROM $IMAGE\n",
      "torchx 2025-06-18 18:43:12 INFO      --->"
     ]
    },
    {
     "name": "stderr",
     "output_type": "stream",
     "text": [
      " c616d1db413c\n",
      "torchx 2025-06-18 18:43:12 INFO     Step 3/4 : COPY . .\n"
     ]
    },
    {
     "name": "stderr",
     "output_type": "stream",
     "text": [
      "torchx 2025-06-18 18:43:16 INFO      ---> 31b8e55729cf\n"
     ]
    },
    {
     "name": "stderr",
     "output_type": "stream",
     "text": [
      "torchx 2025-06-18 18:43:16 INFO     Step 4/4 : LABEL torchx.pytorch.org/version=0.8.0dev0\n"
     ]
    },
    {
     "name": "stderr",
     "output_type": "stream",
     "text": [
      "torchx 2025-06-18 18:43:16 INFO      ---> Running in 45d896c5175e\n"
     ]
    },
    {
     "name": "stderr",
     "output_type": "stream",
     "text": [
      "torchx 2025-06-18 18:43:21 INFO      ---> Removed intermediate container 45d896c5175e\n"
     ]
    },
    {
     "name": "stderr",
     "output_type": "stream",
     "text": [
      "torchx 2025-06-18 18:43:21 INFO      ---> 6d4c7195d8ca\n",
      "torchx 2025-06-18 18:43:21 INFO     [Warning]"
     ]
    },
    {
     "name": "stderr",
     "output_type": "stream",
     "text": [
      " One or more build-args [WORKSPACE] were not consumed\n"
     ]
    },
    {
     "name": "stderr",
     "output_type": "stream",
     "text": [
      "torchx 2025-06-18 18:43:21 INFO     Successfully built 6d4c7195d8ca\n"
     ]
    },
    {
     "name": "stderr",
     "output_type": "stream",
     "text": [
      "torchx 2025-06-18 18:43:21 INFO     Built new image `sha256:6d4c7195d8ca243843be4f8939c1c7ebee890ef5"
     ]
    },
    {
     "name": "stderr",
     "output_type": "stream",
     "text": [
      "b231f05d08d66b676a96d898` based on original image `my_app:latest` and changes in workspace `file:///"
     ]
    },
    {
     "name": "stderr",
     "output_type": "stream",
     "text": [
      "home/runner/work/torchx/torchx/docs/source` for role[0]=greeter.\n"
     ]
    },
    {
     "name": "stderr",
     "output_type": "stream",
     "text": [
      "torchx 2025-06-18 18:43:21 INFO     Waiting for the app to finish...\n"
     ]
    },
    {
     "name": "stderr",
     "output_type": "stream",
     "text": [
      "greeter/0 Hello, your name!\n"
     ]
    },
    {
     "name": "stderr",
     "output_type": "stream",
     "text": [
      "torchx 2025-06-18 18:43:22 INFO     Job finished: SUCCEEDED\n"
     ]
    },
    {
     "name": "stdout",
     "output_type": "stream",
     "text": [
      "local_docker://torchx/hello_world-ttj9r6wsmqkhk\n"
     ]
    }
   ],
   "source": [
    "%%sh\n",
    "torchx run --scheduler local_docker my_component.py:greet --image \"my_app:latest\" --user \"your name\""
   ]
  },
  {
   "cell_type": "markdown",
   "id": "0daf526f",
   "metadata": {},
   "source": [
    "If you have a Kubernetes cluster you can use the\n",
    "[Kubernetes scheduler](schedulers/kubernetes.rst) to launch this on the cluster\n",
    "instead."
   ]
  },
  {
   "cell_type": "markdown",
   "id": "bb96f3be",
   "metadata": {
    "region_name": "md"
   },
   "source": [
    "\n",
    "```sh\n",
    "$ docker push my_app:latest\n",
    "$ torchx run --scheduler kubernetes my_component.py:greet --image \"my_app:latest\" --user \"your name\"\n",
    "```\n"
   ]
  }
 ],
 "metadata": {
  "jupytext": {
   "text_representation": {
    "extension": ".md",
    "format_name": "markdown",
    "format_version": "1.1",
    "jupytext_version": "1.1.0"
   }
  },
  "kernelspec": {
   "display_name": "Python 3",
   "language": "python",
   "name": "python3"
  },
  "language_info": {
   "codemirror_mode": {
    "name": "ipython",
    "version": 3
   },
   "file_extension": ".py",
   "mimetype": "text/x-python",
   "name": "python",
   "nbconvert_exporter": "python",
   "pygments_lexer": "ipython3",
   "version": "3.10.18"
  }
 },
 "nbformat": 4,
 "nbformat_minor": 5
}
