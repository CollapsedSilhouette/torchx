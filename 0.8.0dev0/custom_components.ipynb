{
 "cells": [
  {
   "cell_type": "markdown",
   "id": "2897e88b",
   "metadata": {},
   "source": [
    "# Custom Components\n",
    "\n",
    "This is a guide on how to build a simple app and custom component spec and\n",
    "launch it via two different schedulers.\n",
    "\n",
    "See the [Quickstart Guide](quickstart.md) for installation and basic usage.\n",
    "\n",
    "## Builtins\n",
    "\n",
    "Before writing a custom component, check if any of the builtin components\n",
    "satisfy your needs. TorchX provides a number of builtin components with premade\n",
    "images. You can discover them via:"
   ]
  },
  {
   "cell_type": "code",
   "execution_count": 1,
   "id": "709c246d",
   "metadata": {
    "execution": {
     "iopub.execute_input": "2025-05-01T05:38:56.594717Z",
     "iopub.status.busy": "2025-05-01T05:38:56.594515Z",
     "iopub.status.idle": "2025-05-01T05:38:57.534220Z",
     "shell.execute_reply": "2025-05-01T05:38:57.533527Z"
    }
   },
   "outputs": [
    {
     "name": "stdout",
     "output_type": "stream",
     "text": [
      "Found 11 builtin components:\n",
      "  1. dist.ddp\n",
      "  2. dist.spmd\n",
      "  3. metrics.tensorboard\n",
      "  4. serve.torchs"
     ]
    },
    {
     "name": "stdout",
     "output_type": "stream",
     "text": [
      "erve\n",
      "  5. utils.binary\n",
      "  6. utils.booth\n",
      "  7. utils.copy\n",
      "  8. utils.echo\n",
      "  9. utils.python\n",
      " 10. utils"
     ]
    },
    {
     "name": "stdout",
     "output_type": "stream",
     "text": [
      ".sh\n",
      " 11. utils.touch\n"
     ]
    }
   ],
   "source": [
    "%%sh\n",
    "torchx builtins"
   ]
  },
  {
   "cell_type": "markdown",
   "id": "20905f90",
   "metadata": {},
   "source": [
    "You can use these either from the CLI, from a pipeline or programmatically like\n",
    "you would any other component."
   ]
  },
  {
   "cell_type": "code",
   "execution_count": 2,
   "id": "41eca2bf",
   "metadata": {
    "execution": {
     "iopub.execute_input": "2025-05-01T05:38:57.536716Z",
     "iopub.status.busy": "2025-05-01T05:38:57.536201Z",
     "iopub.status.idle": "2025-05-01T05:42:11.372958Z",
     "shell.execute_reply": "2025-05-01T05:42:11.372320Z"
    }
   },
   "outputs": [
    {
     "name": "stderr",
     "output_type": "stream",
     "text": [
      "torchx 2025-05-01 05:38:58 INFO     Tracker configurations: {}\n"
     ]
    },
    {
     "name": "stderr",
     "output_type": "stream",
     "text": [
      "torchx 2025-05-01 05:38:58 INFO     Checking for changes in workspace `file:///home/runner/work/torc"
     ]
    },
    {
     "name": "stderr",
     "output_type": "stream",
     "text": [
      "hx/torchx/docs/source`...\n",
      "torchx 2025-05-01 05:38:58 INFO     To disable workspaces pass: --workspac"
     ]
    },
    {
     "name": "stderr",
     "output_type": "stream",
     "text": [
      "e=\"\" from CLI or workspace=None programmatically.\n"
     ]
    },
    {
     "name": "stderr",
     "output_type": "stream",
     "text": [
      "torchx 2025-05-01 05:38:58 INFO     Workspace `file:///home/runner/work/torchx/torchx/docs/source` r"
     ]
    },
    {
     "name": "stderr",
     "output_type": "stream",
     "text": [
      "esolved to filesystem path `/home/runner/work/torchx/torchx/docs/source`\n"
     ]
    },
    {
     "name": "stderr",
     "output_type": "stream",
     "text": [
      "torchx 2025-05-01 05:41:55 INFO     Building workspace docker image (this may take a while)...\n"
     ]
    },
    {
     "name": "stderr",
     "output_type": "stream",
     "text": [
      "torchx 2025-05-01 05:41:55 INFO     Step 1/4 : ARG IMAGE\n"
     ]
    },
    {
     "name": "stderr",
     "output_type": "stream",
     "text": [
      "torchx 2025-05-01 05:41:55 INFO     Step 2/4 : FROM $IMAGE\n",
      "torchx 2025-05-01 05:41:55 INFO      --->"
     ]
    },
    {
     "name": "stderr",
     "output_type": "stream",
     "text": [
      " 87f5c345394a\n",
      "torchx 2025-05-01 05:41:55 INFO     Step 3/4 : COPY . .\n"
     ]
    },
    {
     "name": "stderr",
     "output_type": "stream",
     "text": [
      "torchx 2025-05-01 05:42:03 INFO      ---> 201d38d4d906\n"
     ]
    },
    {
     "name": "stderr",
     "output_type": "stream",
     "text": [
      "torchx 2025-05-01 05:42:03 INFO     Step 4/4 : LABEL torchx.pytorch.org/version=0.8.0dev0\n"
     ]
    },
    {
     "name": "stderr",
     "output_type": "stream",
     "text": [
      "torchx 2025-05-01 05:42:03 INFO      ---> Running in df05c99730c1\n"
     ]
    },
    {
     "name": "stderr",
     "output_type": "stream",
     "text": [
      "torchx 2025-05-01 05:42:10 INFO      ---> Removed intermediate container df05c99730c1\n"
     ]
    },
    {
     "name": "stderr",
     "output_type": "stream",
     "text": [
      "torchx 2025-05-01 05:42:10 INFO      ---> c74ea997d37b\n"
     ]
    },
    {
     "name": "stderr",
     "output_type": "stream",
     "text": [
      "torchx 2025-05-01 05:42:10 INFO     [Warning] One or more build-args [WORKSPACE] were not consumed\n"
     ]
    },
    {
     "name": "stderr",
     "output_type": "stream",
     "text": [
      "torchx 2025-05-01 05:42:10 INFO     Successfully built c74ea997d37b\n"
     ]
    },
    {
     "name": "stderr",
     "output_type": "stream",
     "text": [
      "torchx 2025-05-01 05:42:10 INFO     Built new image `sha256:c74ea997d37bd2e808d29523c7f6df7c65823689"
     ]
    },
    {
     "name": "stderr",
     "output_type": "stream",
     "text": [
      "2b1f03aa70b2669ce75ef11e` based on original image `ghcr.io/pytorch/torchx:0.8.0dev0` and changes in "
     ]
    },
    {
     "name": "stderr",
     "output_type": "stream",
     "text": [
      "workspace `file:///home/runner/work/torchx/torchx/docs/source` for role[0]=echo.\n"
     ]
    },
    {
     "name": "stderr",
     "output_type": "stream",
     "text": [
      "torchx 2025-05-01 05:42:11 INFO     Waiting for the app to finish...\n"
     ]
    },
    {
     "name": "stderr",
     "output_type": "stream",
     "text": [
      "torchx 2025-05-01 05:42:11 INFO     Job finished: SUCCEEDED\n"
     ]
    },
    {
     "name": "stderr",
     "output_type": "stream",
     "text": [
      "echo/0 Hello :)\n"
     ]
    },
    {
     "name": "stdout",
     "output_type": "stream",
     "text": [
      "local_docker://torchx/echo-rrd045ljg307t\n"
     ]
    }
   ],
   "source": [
    "%%sh\n",
    "torchx run utils.echo --msg \"Hello :)\""
   ]
  },
  {
   "cell_type": "markdown",
   "id": "9852b2ee",
   "metadata": {},
   "source": [
    "## Hello World\n",
    "\n",
    "Lets start off with writing a simple \"Hello World\" python app. This is just a\n",
    "normal python program and can contain anything you'd like.\n",
    "\n",
    "<div class=\"admonition note\">\n",
    "<div class=\"admonition-title\">Note</div>\n",
    "This example uses Jupyter Notebook `%%writefile` to create local files for\n",
    "example purposes. Under normal usage you would have these as standalone files.\n",
    "</div>"
   ]
  },
  {
   "cell_type": "code",
   "execution_count": 3,
   "id": "21f18469",
   "metadata": {
    "execution": {
     "iopub.execute_input": "2025-05-01T05:42:11.375464Z",
     "iopub.status.busy": "2025-05-01T05:42:11.375060Z",
     "iopub.status.idle": "2025-05-01T05:42:11.379400Z",
     "shell.execute_reply": "2025-05-01T05:42:11.378771Z"
    }
   },
   "outputs": [
    {
     "name": "stdout",
     "output_type": "stream",
     "text": [
      "Writing my_app.py\n"
     ]
    }
   ],
   "source": [
    "%%writefile my_app.py\n",
    "\n",
    "import sys\n",
    "import argparse\n",
    "\n",
    "def main(user: str) -> None:\n",
    "    print(f\"Hello, {user}!\")\n",
    "\n",
    "if __name__ == \"__main__\":\n",
    "    parser = argparse.ArgumentParser(\n",
    "        description=\"Hello world app\"\n",
    "    )\n",
    "    parser.add_argument(\n",
    "        \"--user\",\n",
    "        type=str,\n",
    "        help=\"the person to greet\",\n",
    "        required=True,\n",
    "    )\n",
    "    args = parser.parse_args(sys.argv[1:])\n",
    "\n",
    "    main(args.user)"
   ]
  },
  {
   "cell_type": "markdown",
   "id": "f1e762e3",
   "metadata": {},
   "source": [
    "Now that we have an app we can write the component file for it. This function\n",
    "allows us to reuse and share our app in a user friendly way.\n",
    "\n",
    "We can use this component from the `torchx` cli or programmatically as part of a\n",
    "pipeline."
   ]
  },
  {
   "cell_type": "code",
   "execution_count": 4,
   "id": "362c69d1",
   "metadata": {
    "execution": {
     "iopub.execute_input": "2025-05-01T05:42:11.381679Z",
     "iopub.status.busy": "2025-05-01T05:42:11.381203Z",
     "iopub.status.idle": "2025-05-01T05:42:11.385194Z",
     "shell.execute_reply": "2025-05-01T05:42:11.384631Z"
    }
   },
   "outputs": [
    {
     "name": "stdout",
     "output_type": "stream",
     "text": [
      "Writing my_component.py\n"
     ]
    }
   ],
   "source": [
    "%%writefile my_component.py\n",
    "\n",
    "import torchx.specs as specs\n",
    "\n",
    "def greet(user: str, image: str = \"my_app:latest\") -> specs.AppDef:\n",
    "    return specs.AppDef(\n",
    "        name=\"hello_world\",\n",
    "        roles=[\n",
    "            specs.Role(\n",
    "                name=\"greeter\",\n",
    "                image=image,\n",
    "                entrypoint=\"python\",\n",
    "                args=[\n",
    "                    \"-m\", \"my_app\",\n",
    "                    \"--user\", user,\n",
    "                ],\n",
    "            )\n",
    "        ],\n",
    "    )"
   ]
  },
  {
   "cell_type": "markdown",
   "id": "524f4338",
   "metadata": {},
   "source": [
    "We can execute our component via `torchx run`. The `local_cwd` scheduler\n",
    "executes the component relative to the current directory."
   ]
  },
  {
   "cell_type": "code",
   "execution_count": 5,
   "id": "318efa01",
   "metadata": {
    "execution": {
     "iopub.execute_input": "2025-05-01T05:42:11.387160Z",
     "iopub.status.busy": "2025-05-01T05:42:11.386777Z",
     "iopub.status.idle": "2025-05-01T05:42:12.793145Z",
     "shell.execute_reply": "2025-05-01T05:42:12.792564Z"
    }
   },
   "outputs": [
    {
     "name": "stderr",
     "output_type": "stream",
     "text": [
      "torchx 2025-05-01 05:42:11 INFO     Tracker configurations: {}\n"
     ]
    },
    {
     "name": "stderr",
     "output_type": "stream",
     "text": [
      "torchx 2025-05-01 05:42:11 INFO     Log directory not set in scheduler cfg. Creating a temporary log"
     ]
    },
    {
     "name": "stderr",
     "output_type": "stream",
     "text": [
      " dir that will be deleted on exit. To preserve log directory set the `log_dir` cfg option\n",
      "torchx 202"
     ]
    },
    {
     "name": "stderr",
     "output_type": "stream",
     "text": [
      "5-05-01 05:42:11 INFO     Log directory is: /tmp/torchx_etxvvnao\n"
     ]
    },
    {
     "name": "stderr",
     "output_type": "stream",
     "text": [
      "torchx 2025-05-01 05:42:11 INFO     Waiting for the app to finish...\n"
     ]
    },
    {
     "name": "stderr",
     "output_type": "stream",
     "text": [
      "greeter/0 Hello, your name!\n"
     ]
    },
    {
     "name": "stderr",
     "output_type": "stream",
     "text": [
      "torchx 2025-05-01 05:42:12 INFO     Job finished: SUCCEEDED\n"
     ]
    },
    {
     "name": "stdout",
     "output_type": "stream",
     "text": [
      "local_cwd://torchx/hello_world-g6w62l014m4n1\n"
     ]
    }
   ],
   "source": [
    "%%sh\n",
    "torchx run --scheduler local_cwd my_component.py:greet --user \"your name\""
   ]
  },
  {
   "cell_type": "markdown",
   "id": "15cfe7cf",
   "metadata": {},
   "source": [
    "If we want to run in other environments, we can build a Docker container so we\n",
    "can run our component in Docker enabled environments such as Kubernetes or via\n",
    "the local Docker scheduler.\n",
    "\n",
    "<div class=\"admonition note\">\n",
    "<div class=\"admonition-title\">Note</div>\n",
    "This requires Docker installed and won't work in environments such as Google\n",
    "Colab. If you have not done so already follow the install instructions on:\n",
    "[https://docs.docker.com/get-docker/](https://docs.docker.com/get-docker/)</a>\n",
    "</div>"
   ]
  },
  {
   "cell_type": "code",
   "execution_count": 6,
   "id": "d5c39eb5",
   "metadata": {
    "execution": {
     "iopub.execute_input": "2025-05-01T05:42:12.795425Z",
     "iopub.status.busy": "2025-05-01T05:42:12.795044Z",
     "iopub.status.idle": "2025-05-01T05:42:12.798707Z",
     "shell.execute_reply": "2025-05-01T05:42:12.798207Z"
    }
   },
   "outputs": [
    {
     "name": "stdout",
     "output_type": "stream",
     "text": [
      "Writing Dockerfile.custom\n"
     ]
    }
   ],
   "source": [
    "%%writefile Dockerfile.custom\n",
    "\n",
    "FROM ghcr.io/pytorch/torchx:0.1.0rc1\n",
    "\n",
    "ADD my_app.py ."
   ]
  },
  {
   "cell_type": "markdown",
   "id": "964a405d",
   "metadata": {},
   "source": [
    "Once we have the Dockerfile created we can create our docker image."
   ]
  },
  {
   "cell_type": "code",
   "execution_count": 7,
   "id": "2b1a843d",
   "metadata": {
    "execution": {
     "iopub.execute_input": "2025-05-01T05:42:12.800646Z",
     "iopub.status.busy": "2025-05-01T05:42:12.800276Z",
     "iopub.status.idle": "2025-05-01T05:43:55.197901Z",
     "shell.execute_reply": "2025-05-01T05:43:55.197195Z"
    }
   },
   "outputs": [
    {
     "name": "stderr",
     "output_type": "stream",
     "text": [
      "#0 building with \"default\" instance using docker driver\n",
      "\n",
      "#1 [internal] load build definition from Do"
     ]
    },
    {
     "name": "stderr",
     "output_type": "stream",
     "text": [
      "ckerfile.custom\n",
      "#1 transferring dockerfile: 99B done\n",
      "#1 DONE 0.0s\n",
      "\n",
      "#2 [internal] load metadata for g"
     ]
    },
    {
     "name": "stderr",
     "output_type": "stream",
     "text": [
      "hcr.io/pytorch/torchx:0.1.0rc1\n"
     ]
    },
    {
     "name": "stderr",
     "output_type": "stream",
     "text": [
      "#2 DONE 0.8s\n"
     ]
    },
    {
     "name": "stderr",
     "output_type": "stream",
     "text": [
      "\n",
      "#3 [internal] load .dockerignore\n"
     ]
    },
    {
     "name": "stderr",
     "output_type": "stream",
     "text": [
      "#3 transferring context: 2B done\n",
      "#3 DONE 0.0s\n",
      "\n",
      "#4 [internal] load build context\n",
      "#4 transferring cont"
     ]
    },
    {
     "name": "stderr",
     "output_type": "stream",
     "text": [
      "ext: 425B done\n",
      "#4 DONE 0.0s\n",
      "\n",
      "#5 [1/2] FROM ghcr.io/pytorch/torchx:0.1.0rc1@sha256:a738949601d82e7f10"
     ]
    },
    {
     "name": "stderr",
     "output_type": "stream",
     "text": [
      "0fa1efeb8dde0c35ce44c66726cf38596f96d78dcd7ad3\n",
      "#5 resolve ghcr.io/pytorch/torchx:0.1.0rc1@sha256:a73"
     ]
    },
    {
     "name": "stderr",
     "output_type": "stream",
     "text": [
      "8949601d82e7f100fa1efeb8dde0c35ce44c66726cf38596f96d78dcd7ad3 done\n",
      "#5 sha256:889a7173dcfeb409f9d8805"
     ]
    },
    {
     "name": "stderr",
     "output_type": "stream",
     "text": [
      "4a97ab2445f5a799a823f719a5573365ee3662b6f 0B / 189B 0.1s\n",
      "#5 sha256:d2e110be24e168b42c1a2ddbc4a476a21"
     ]
    },
    {
     "name": "stderr",
     "output_type": "stream",
     "text": [
      "7b73cccdba69cdcb212b812a88f5726 0B / 857B 0.1s\n"
     ]
    },
    {
     "name": "stderr",
     "output_type": "stream",
     "text": [
      "#5 sha256:3dbec59e804974689ff0739216fb012d3e1cd6694632cd3a85b74b572266ec5c 7.21kB / 7.21kB done\n",
      "#5 s"
     ]
    },
    {
     "name": "stderr",
     "output_type": "stream",
     "text": [
      "ha256:4bbfd2c87b7524455f144a03bf387c88b6d4200e5e0df9139a9d5e79110f89ca 0B / 26.70MB 0.1s\n",
      "#5 sha256:a"
     ]
    },
    {
     "name": "stderr",
     "output_type": "stream",
     "text": [
      "738949601d82e7f100fa1efeb8dde0c35ce44c66726cf38596f96d78dcd7ad3 3.25kB / 3.25kB done\n"
     ]
    },
    {
     "name": "stderr",
     "output_type": "stream",
     "text": [
      "#5 sha256:889a7173dcfeb409f9d88054a97ab2445f5a799a823f719a5573365ee3662b6f 189B / 189B 0.3s done\n",
      "#5 "
     ]
    },
    {
     "name": "stderr",
     "output_type": "stream",
     "text": [
      "sha256:d2e110be24e168b42c1a2ddbc4a476a217b73cccdba69cdcb212b812a88f5726 857B / 857B 0.2s done\n",
      "#5 sha"
     ]
    },
    {
     "name": "stderr",
     "output_type": "stream",
     "text": [
      "256:4bbfd2c87b7524455f144a03bf387c88b6d4200e5e0df9139a9d5e79110f89ca 5.24MB / 26.70MB 0.3s\n",
      "#5 sha256"
     ]
    },
    {
     "name": "stderr",
     "output_type": "stream",
     "text": [
      ":6009a622672af862e3a3979ffd58a348f95208a4bc3b6f6cea2efda4e8390203 0B / 9.94MB 0.3s\n",
      "#5 sha256:143f801"
     ]
    },
    {
     "name": "stderr",
     "output_type": "stream",
     "text": [
      "954310499daa44a8499a49797d2f282b5d56be601557ebe6cbf796907 0B / 2.00GB 0.3s\n"
     ]
    },
    {
     "name": "stderr",
     "output_type": "stream",
     "text": [
      "#5 sha256:4bbfd2c87b7524455f144a03bf387c88b6d4200e5e0df9139a9d5e79110f89ca 19.92MB / 26.70MB 0.5s\n",
      "#5"
     ]
    },
    {
     "name": "stderr",
     "output_type": "stream",
     "text": [
      " sha256:6009a622672af862e3a3979ffd58a348f95208a4bc3b6f6cea2efda4e8390203 3.15MB / 9.94MB 0.5s\n"
     ]
    },
    {
     "name": "stderr",
     "output_type": "stream",
     "text": [
      "#5 sha256:4bbfd2c87b7524455f144a03bf387c88b6d4200e5e0df9139a9d5e79110f89ca 25.17MB / 26.70MB 0.6s\n",
      "#5"
     ]
    },
    {
     "name": "stderr",
     "output_type": "stream",
     "text": [
      " sha256:6009a622672af862e3a3979ffd58a348f95208a4bc3b6f6cea2efda4e8390203 9.94MB / 9.94MB 0.6s done\n",
      "#"
     ]
    },
    {
     "name": "stderr",
     "output_type": "stream",
     "text": [
      "5 sha256:eccbe17c44e1b27c836dddc42f204bde06f73568b50833556b50324146bd43aa 0B / 132B 0.6s\n"
     ]
    },
    {
     "name": "stderr",
     "output_type": "stream",
     "text": [
      "#5 sha256:4bbfd2c87b7524455f144a03bf387c88b6d4200e5e0df9139a9d5e79110f89ca 26.70MB / 26.70MB 0.6s do"
     ]
    },
    {
     "name": "stderr",
     "output_type": "stream",
     "text": [
      "ne\n",
      "#5 extracting sha256:4bbfd2c87b7524455f144a03bf387c88b6d4200e5e0df9139a9d5e79110f89ca 0.1s\n",
      "#5 sha"
     ]
    },
    {
     "name": "stderr",
     "output_type": "stream",
     "text": [
      "256:d4c7af0d4fa735e6727a24afcea4022492c7f29ac85e31ddf3d385bfbf704f71 0B / 21.46MB 0.7s\n"
     ]
    },
    {
     "name": "stderr",
     "output_type": "stream",
     "text": [
      "#5 sha256:eccbe17c44e1b27c836dddc42f204bde06f73568b50833556b50324146bd43aa 132B / 132B 0.8s done\n",
      "#5 "
     ]
    },
    {
     "name": "stderr",
     "output_type": "stream",
     "text": [
      "sha256:06b5edd6bf524455a7c5a54cb27ced3ecc540414ecf38c24c80ba4368ebc77de 0B / 257B 0.8s\n"
     ]
    },
    {
     "name": "stderr",
     "output_type": "stream",
     "text": [
      "#5 sha256:d4c7af0d4fa735e6727a24afcea4022492c7f29ac85e31ddf3d385bfbf704f71 8.39MB / 21.46MB 0.9s\n"
     ]
    },
    {
     "name": "stderr",
     "output_type": "stream",
     "text": [
      "#5 sha256:d4c7af0d4fa735e6727a24afcea4022492c7f29ac85e31ddf3d385bfbf704f71 12.58MB / 21.46MB 1.0s\n",
      "#5"
     ]
    },
    {
     "name": "stderr",
     "output_type": "stream",
     "text": [
      " sha256:06b5edd6bf524455a7c5a54cb27ced3ecc540414ecf38c24c80ba4368ebc77de 257B / 257B 0.9s done\n",
      "#5 sh"
     ]
    },
    {
     "name": "stderr",
     "output_type": "stream",
     "text": [
      "a256:f18d016c4ccc1c57c9e34cb119e1e1966287b08aa9b4d52a38b30815a56574b6 0B / 1.71GB 1.0s\n"
     ]
    },
    {
     "name": "stderr",
     "output_type": "stream",
     "text": [
      "#5 sha256:d4c7af0d4fa735e6727a24afcea4022492c7f29ac85e31ddf3d385bfbf704f71 21.46MB / 21.46MB 1.1s do"
     ]
    },
    {
     "name": "stderr",
     "output_type": "stream",
     "text": [
      "ne\n",
      "#5 sha256:c0ad16d9fa05dbf708784e8aa10d69153465bae391345020be52cbe0a1701932 0B / 92B 1.2s\n"
     ]
    },
    {
     "name": "stderr",
     "output_type": "stream",
     "text": [
      "#5 sha256:c0ad16d9fa05dbf708784e8aa10d69153465bae391345020be52cbe0a1701932 92B / 92B 1.3s done\n"
     ]
    },
    {
     "name": "stderr",
     "output_type": "stream",
     "text": [
      "#5 sha256:30587ba7fd6bcbd1c883125d84517055b2d7f2d35a13faedbc8b15f94b900cc2 0B / 352B 1.4s\n"
     ]
    },
    {
     "name": "stderr",
     "output_type": "stream",
     "text": [
      "#5 extracting sha256:4bbfd2c87b7524455f144a03bf387c88b6d4200e5e0df9139a9d5e79110f89ca 0.9s done\n",
      "#5 e"
     ]
    },
    {
     "name": "stderr",
     "output_type": "stream",
     "text": [
      "xtracting sha256:d2e110be24e168b42c1a2ddbc4a476a217b73cccdba69cdcb212b812a88f5726\n"
     ]
    },
    {
     "name": "stderr",
     "output_type": "stream",
     "text": [
      "#5 sha256:30587ba7fd6bcbd1c883125d84517055b2d7f2d35a13faedbc8b15f94b900cc2 352B / 352B 1.5s done\n",
      "#5 "
     ]
    },
    {
     "name": "stderr",
     "output_type": "stream",
     "text": [
      "extracting sha256:d2e110be24e168b42c1a2ddbc4a476a217b73cccdba69cdcb212b812a88f5726 done\n"
     ]
    },
    {
     "name": "stderr",
     "output_type": "stream",
     "text": [
      "#5 sha256:909695be1d5003de345714eec2ca3020a48dd8f407fe918cbd47a8db73d7a233 0B / 341.29MB 1.7s\n"
     ]
    },
    {
     "name": "stderr",
     "output_type": "stream",
     "text": [
      "#5 extracting sha256:889a7173dcfeb409f9d88054a97ab2445f5a799a823f719a5573365ee3662b6f done\n"
     ]
    },
    {
     "name": "stderr",
     "output_type": "stream",
     "text": [
      "#5 extracting sha256:6009a622672af862e3a3979ffd58a348f95208a4bc3b6f6cea2efda4e8390203 0.1s\n"
     ]
    },
    {
     "name": "stderr",
     "output_type": "stream",
     "text": [
      "#5 sha256:143f801954310499daa44a8499a49797d2f282b5d56be601557ebe6cbf796907 106.95MB / 2.00GB 2.1s\n",
      "#5"
     ]
    },
    {
     "name": "stderr",
     "output_type": "stream",
     "text": [
      " sha256:909695be1d5003de345714eec2ca3020a48dd8f407fe918cbd47a8db73d7a233 21.00MB / 341.29MB 2.1s\n"
     ]
    },
    {
     "name": "stderr",
     "output_type": "stream",
     "text": [
      "#5 sha256:f18d016c4ccc1c57c9e34cb119e1e1966287b08aa9b4d52a38b30815a56574b6 88.08MB / 1.71GB 2.4s\n",
      "#5 "
     ]
    },
    {
     "name": "stderr",
     "output_type": "stream",
     "text": [
      "sha256:909695be1d5003de345714eec2ca3020a48dd8f407fe918cbd47a8db73d7a233 40.89MB / 341.29MB 2.4s\n"
     ]
    },
    {
     "name": "stderr",
     "output_type": "stream",
     "text": [
      "#5 sha256:909695be1d5003de345714eec2ca3020a48dd8f407fe918cbd47a8db73d7a233 60.82MB / 341.29MB 2.7s\n",
      "#"
     ]
    },
    {
     "name": "stderr",
     "output_type": "stream",
     "text": [
      "5 extracting sha256:6009a622672af862e3a3979ffd58a348f95208a4bc3b6f6cea2efda4e8390203 0.7s done\n"
     ]
    },
    {
     "name": "stderr",
     "output_type": "stream",
     "text": [
      "#5 sha256:909695be1d5003de345714eec2ca3020a48dd8f407fe918cbd47a8db73d7a233 88.08MB / 341.29MB 3.1s\n"
     ]
    },
    {
     "name": "stderr",
     "output_type": "stream",
     "text": [
      "#5 sha256:909695be1d5003de345714eec2ca3020a48dd8f407fe918cbd47a8db73d7a233 108.00MB / 341.29MB 3.4s\n"
     ]
    },
    {
     "name": "stderr",
     "output_type": "stream",
     "text": [
      "#5 sha256:143f801954310499daa44a8499a49797d2f282b5d56be601557ebe6cbf796907 208.67MB / 2.00GB 3.6s\n"
     ]
    },
    {
     "name": "stderr",
     "output_type": "stream",
     "text": [
      "#5 sha256:f18d016c4ccc1c57c9e34cb119e1e1966287b08aa9b4d52a38b30815a56574b6 186.65MB / 1.71GB 3.8s\n",
      "#5"
     ]
    },
    {
     "name": "stderr",
     "output_type": "stream",
     "text": [
      " sha256:909695be1d5003de345714eec2ca3020a48dd8f407fe918cbd47a8db73d7a233 135.27MB / 341.29MB 3.8s\n"
     ]
    },
    {
     "name": "stderr",
     "output_type": "stream",
     "text": [
      "#5 sha256:909695be1d5003de345714eec2ca3020a48dd8f407fe918cbd47a8db73d7a233 155.19MB / 341.29MB 4.1s\n"
     ]
    },
    {
     "name": "stderr",
     "output_type": "stream",
     "text": [
      "#5 sha256:909695be1d5003de345714eec2ca3020a48dd8f407fe918cbd47a8db73d7a233 181.40MB / 341.29MB 4.5s\n"
     ]
    },
    {
     "name": "stderr",
     "output_type": "stream",
     "text": [
      "#5 sha256:909695be1d5003de345714eec2ca3020a48dd8f407fe918cbd47a8db73d7a233 202.38MB / 341.29MB 4.8s\n"
     ]
    },
    {
     "name": "stderr",
     "output_type": "stream",
     "text": [
      "#5 sha256:143f801954310499daa44a8499a49797d2f282b5d56be601557ebe6cbf796907 316.71MB / 2.00GB 5.2s\n",
      "#5"
     ]
    },
    {
     "name": "stderr",
     "output_type": "stream",
     "text": [
      " sha256:f18d016c4ccc1c57c9e34cb119e1e1966287b08aa9b4d52a38b30815a56574b6 285.21MB / 1.71GB 5.2s\n",
      "#5 s"
     ]
    },
    {
     "name": "stderr",
     "output_type": "stream",
     "text": [
      "ha256:909695be1d5003de345714eec2ca3020a48dd8f407fe918cbd47a8db73d7a233 228.59MB / 341.29MB 5.2s\n"
     ]
    },
    {
     "name": "stderr",
     "output_type": "stream",
     "text": [
      "#5 sha256:909695be1d5003de345714eec2ca3020a48dd8f407fe918cbd47a8db73d7a233 249.56MB / 341.29MB 5.5s\n"
     ]
    },
    {
     "name": "stderr",
     "output_type": "stream",
     "text": [
      "#5 sha256:909695be1d5003de345714eec2ca3020a48dd8f407fe918cbd47a8db73d7a233 269.48MB / 341.29MB 5.8s\n"
     ]
    },
    {
     "name": "stderr",
     "output_type": "stream",
     "text": [
      "#5 sha256:909695be1d5003de345714eec2ca3020a48dd8f407fe918cbd47a8db73d7a233 289.41MB / 341.29MB 6.1s\n"
     ]
    },
    {
     "name": "stderr",
     "output_type": "stream",
     "text": [
      "#5 sha256:f18d016c4ccc1c57c9e34cb119e1e1966287b08aa9b4d52a38b30815a56574b6 375.39MB / 1.71GB 6.5s\n",
      "#5"
     ]
    },
    {
     "name": "stderr",
     "output_type": "stream",
     "text": [
      " sha256:909695be1d5003de345714eec2ca3020a48dd8f407fe918cbd47a8db73d7a233 316.67MB / 341.29MB 6.5s\n"
     ]
    },
    {
     "name": "stderr",
     "output_type": "stream",
     "text": [
      "#5 sha256:143f801954310499daa44a8499a49797d2f282b5d56be601557ebe6cbf796907 418.38MB / 2.00GB 6.7s\n"
     ]
    },
    {
     "name": "stderr",
     "output_type": "stream",
     "text": [
      "#5 sha256:909695be1d5003de345714eec2ca3020a48dd8f407fe918cbd47a8db73d7a233 341.29MB / 341.29MB 6.9s\n"
     ]
    },
    {
     "name": "stderr",
     "output_type": "stream",
     "text": [
      "#5 sha256:909695be1d5003de345714eec2ca3020a48dd8f407fe918cbd47a8db73d7a233 341.29MB / 341.29MB 7.2s "
     ]
    },
    {
     "name": "stderr",
     "output_type": "stream",
     "text": [
      "done\n",
      "#5 sha256:f119a6d0a466a041afbcb08344ff624b5c5ac5f68b93d33af4827529ea1a6800 0B / 563.38kB 7.3s\n"
     ]
    },
    {
     "name": "stderr",
     "output_type": "stream",
     "text": [
      "#5 sha256:f119a6d0a466a041afbcb08344ff624b5c5ac5f68b93d33af4827529ea1a6800 563.38kB / 563.38kB 7.4s "
     ]
    },
    {
     "name": "stderr",
     "output_type": "stream",
     "text": [
      "done\n",
      "#5 sha256:88d87059c913e67971846680d4032b75f96f599f8a67062f668fed6471fc2968 0B / 556.96kB 7.6s\n"
     ]
    },
    {
     "name": "stderr",
     "output_type": "stream",
     "text": [
      "#5 sha256:f18d016c4ccc1c57c9e34cb119e1e1966287b08aa9b4d52a38b30815a56574b6 466.62MB / 1.71GB 7.8s\n"
     ]
    },
    {
     "name": "stderr",
     "output_type": "stream",
     "text": [
      "#5 sha256:143f801954310499daa44a8499a49797d2f282b5d56be601557ebe6cbf796907 521.14MB / 2.00GB 8.2s\n",
      "#5"
     ]
    },
    {
     "name": "stderr",
     "output_type": "stream",
     "text": [
      " sha256:88d87059c913e67971846680d4032b75f96f599f8a67062f668fed6471fc2968 556.96kB / 556.96kB 8.1s do"
     ]
    },
    {
     "name": "stderr",
     "output_type": "stream",
     "text": [
      "ne\n"
     ]
    },
    {
     "name": "stderr",
     "output_type": "stream",
     "text": [
      "#5 sha256:f18d016c4ccc1c57c9e34cb119e1e1966287b08aa9b4d52a38b30815a56574b6 564.13MB / 1.71GB 9.2s\n"
     ]
    },
    {
     "name": "stderr",
     "output_type": "stream",
     "text": [
      "#5 sha256:143f801954310499daa44a8499a49797d2f282b5d56be601557ebe6cbf796907 622.85MB / 2.00GB 9.7s\n"
     ]
    },
    {
     "name": "stderr",
     "output_type": "stream",
     "text": [
      "#5 sha256:f18d016c4ccc1c57c9e34cb119e1e1966287b08aa9b4d52a38b30815a56574b6 662.70MB / 1.71GB 10.6s\n"
     ]
    },
    {
     "name": "stderr",
     "output_type": "stream",
     "text": [
      "#5 sha256:143f801954310499daa44a8499a49797d2f282b5d56be601557ebe6cbf796907 731.91MB / 2.00GB 11.3s\n"
     ]
    },
    {
     "name": "stderr",
     "output_type": "stream",
     "text": [
      "#5 sha256:f18d016c4ccc1c57c9e34cb119e1e1966287b08aa9b4d52a38b30815a56574b6 751.83MB / 1.71GB 11.9s\n"
     ]
    },
    {
     "name": "stderr",
     "output_type": "stream",
     "text": [
      "#5 sha256:143f801954310499daa44a8499a49797d2f282b5d56be601557ebe6cbf796907 839.91MB / 2.00GB 12.9s\n"
     ]
    },
    {
     "name": "stderr",
     "output_type": "stream",
     "text": [
      "#5 sha256:f18d016c4ccc1c57c9e34cb119e1e1966287b08aa9b4d52a38b30815a56574b6 844.10MB / 1.71GB 13.2s\n"
     ]
    },
    {
     "name": "stderr",
     "output_type": "stream",
     "text": [
      "#5 sha256:143f801954310499daa44a8499a49797d2f282b5d56be601557ebe6cbf796907 947.91MB / 2.00GB 14.5s\n",
      "#"
     ]
    },
    {
     "name": "stderr",
     "output_type": "stream",
     "text": [
      "5 sha256:f18d016c4ccc1c57c9e34cb119e1e1966287b08aa9b4d52a38b30815a56574b6 933.23MB / 1.71GB 14.5s\n"
     ]
    },
    {
     "name": "stderr",
     "output_type": "stream",
     "text": [
      "#5 sha256:f18d016c4ccc1c57c9e34cb119e1e1966287b08aa9b4d52a38b30815a56574b6 1.02GB / 1.71GB 15.8s\n"
     ]
    },
    {
     "name": "stderr",
     "output_type": "stream",
     "text": [
      "#5 sha256:143f801954310499daa44a8499a49797d2f282b5d56be601557ebe6cbf796907 1.06GB / 2.00GB 16.1s\n"
     ]
    },
    {
     "name": "stderr",
     "output_type": "stream",
     "text": [
      "#5 sha256:f18d016c4ccc1c57c9e34cb119e1e1966287b08aa9b4d52a38b30815a56574b6 1.12GB / 1.71GB 17.2s\n"
     ]
    },
    {
     "name": "stderr",
     "output_type": "stream",
     "text": [
      "#5 sha256:143f801954310499daa44a8499a49797d2f282b5d56be601557ebe6cbf796907 1.16GB / 2.00GB 17.6s\n"
     ]
    },
    {
     "name": "stderr",
     "output_type": "stream",
     "text": [
      "#5 sha256:f18d016c4ccc1c57c9e34cb119e1e1966287b08aa9b4d52a38b30815a56574b6 1.22GB / 1.71GB 18.6s\n"
     ]
    },
    {
     "name": "stderr",
     "output_type": "stream",
     "text": [
      "#5 sha256:143f801954310499daa44a8499a49797d2f282b5d56be601557ebe6cbf796907 1.26GB / 2.00GB 19.1s\n"
     ]
    },
    {
     "name": "stderr",
     "output_type": "stream",
     "text": [
      "#5 sha256:f18d016c4ccc1c57c9e34cb119e1e1966287b08aa9b4d52a38b30815a56574b6 1.31GB / 1.71GB 19.9s\n"
     ]
    },
    {
     "name": "stderr",
     "output_type": "stream",
     "text": [
      "#5 sha256:143f801954310499daa44a8499a49797d2f282b5d56be601557ebe6cbf796907 1.36GB / 2.00GB 20.9s\n"
     ]
    },
    {
     "name": "stderr",
     "output_type": "stream",
     "text": [
      "#5 sha256:f18d016c4ccc1c57c9e34cb119e1e1966287b08aa9b4d52a38b30815a56574b6 1.40GB / 1.71GB 21.2s\n"
     ]
    },
    {
     "name": "stderr",
     "output_type": "stream",
     "text": [
      "#5 sha256:143f801954310499daa44a8499a49797d2f282b5d56be601557ebe6cbf796907 1.46GB / 2.00GB 22.4s\n"
     ]
    },
    {
     "name": "stderr",
     "output_type": "stream",
     "text": [
      "#5 sha256:f18d016c4ccc1c57c9e34cb119e1e1966287b08aa9b4d52a38b30815a56574b6 1.50GB / 1.71GB 22.6s\n"
     ]
    },
    {
     "name": "stderr",
     "output_type": "stream",
     "text": [
      "#5 sha256:143f801954310499daa44a8499a49797d2f282b5d56be601557ebe6cbf796907 1.57GB / 2.00GB 24.0s\n",
      "#5 "
     ]
    },
    {
     "name": "stderr",
     "output_type": "stream",
     "text": [
      "sha256:f18d016c4ccc1c57c9e34cb119e1e1966287b08aa9b4d52a38b30815a56574b6 1.60GB / 1.71GB 24.0s\n"
     ]
    },
    {
     "name": "stderr",
     "output_type": "stream",
     "text": [
      "#5 sha256:f18d016c4ccc1c57c9e34cb119e1e1966287b08aa9b4d52a38b30815a56574b6 1.69GB / 1.71GB 25.4s\n"
     ]
    },
    {
     "name": "stderr",
     "output_type": "stream",
     "text": [
      "#5 sha256:143f801954310499daa44a8499a49797d2f282b5d56be601557ebe6cbf796907 1.67GB / 2.00GB 25.5s\n"
     ]
    },
    {
     "name": "stderr",
     "output_type": "stream",
     "text": [
      "#5 sha256:143f801954310499daa44a8499a49797d2f282b5d56be601557ebe6cbf796907 1.78GB / 2.00GB 27.0s\n"
     ]
    },
    {
     "name": "stderr",
     "output_type": "stream",
     "text": [
      "#5 sha256:f18d016c4ccc1c57c9e34cb119e1e1966287b08aa9b4d52a38b30815a56574b6 1.71GB / 1.71GB 27.1s don"
     ]
    },
    {
     "name": "stderr",
     "output_type": "stream",
     "text": [
      "e\n"
     ]
    },
    {
     "name": "stderr",
     "output_type": "stream",
     "text": [
      "#5 sha256:143f801954310499daa44a8499a49797d2f282b5d56be601557ebe6cbf796907 1.88GB / 2.00GB 28.5s\n"
     ]
    },
    {
     "name": "stderr",
     "output_type": "stream",
     "text": [
      "#5 sha256:143f801954310499daa44a8499a49797d2f282b5d56be601557ebe6cbf796907 1.98GB / 2.00GB 30.0s\n"
     ]
    },
    {
     "name": "stderr",
     "output_type": "stream",
     "text": [
      "#5 sha256:143f801954310499daa44a8499a49797d2f282b5d56be601557ebe6cbf796907 2.00GB / 2.00GB 32.1s don"
     ]
    },
    {
     "name": "stderr",
     "output_type": "stream",
     "text": [
      "e\n"
     ]
    },
    {
     "name": "stderr",
     "output_type": "stream",
     "text": [
      "#5 extracting sha256:143f801954310499daa44a8499a49797d2f282b5d56be601557ebe6cbf796907 0.1s\n"
     ]
    },
    {
     "name": "stderr",
     "output_type": "stream",
     "text": [
      "#5 extracting sha256:143f801954310499daa44a8499a49797d2f282b5d56be601557ebe6cbf796907 5.1s\n"
     ]
    },
    {
     "name": "stderr",
     "output_type": "stream",
     "text": [
      "#5 extracting sha256:143f801954310499daa44a8499a49797d2f282b5d56be601557ebe6cbf796907 10.3s\n"
     ]
    },
    {
     "name": "stderr",
     "output_type": "stream",
     "text": [
      "#5 extracting sha256:143f801954310499daa44a8499a49797d2f282b5d56be601557ebe6cbf796907 15.3s\n"
     ]
    },
    {
     "name": "stderr",
     "output_type": "stream",
     "text": [
      "#5 extracting sha256:143f801954310499daa44a8499a49797d2f282b5d56be601557ebe6cbf796907 20.4s\n"
     ]
    },
    {
     "name": "stderr",
     "output_type": "stream",
     "text": [
      "#5 extracting sha256:143f801954310499daa44a8499a49797d2f282b5d56be601557ebe6cbf796907 25.6s\n"
     ]
    },
    {
     "name": "stderr",
     "output_type": "stream",
     "text": [
      "#5 extracting sha256:143f801954310499daa44a8499a49797d2f282b5d56be601557ebe6cbf796907 28.5s done\n"
     ]
    },
    {
     "name": "stderr",
     "output_type": "stream",
     "text": [
      "#5 extracting sha256:eccbe17c44e1b27c836dddc42f204bde06f73568b50833556b50324146bd43aa\n"
     ]
    },
    {
     "name": "stderr",
     "output_type": "stream",
     "text": [
      "#5 extracting sha256:eccbe17c44e1b27c836dddc42f204bde06f73568b50833556b50324146bd43aa done\n",
      "#5 extrac"
     ]
    },
    {
     "name": "stderr",
     "output_type": "stream",
     "text": [
      "ting sha256:d4c7af0d4fa735e6727a24afcea4022492c7f29ac85e31ddf3d385bfbf704f71 0.1s\n"
     ]
    },
    {
     "name": "stderr",
     "output_type": "stream",
     "text": [
      "#5 extracting sha256:d4c7af0d4fa735e6727a24afcea4022492c7f29ac85e31ddf3d385bfbf704f71 0.7s done\n",
      "#5 e"
     ]
    },
    {
     "name": "stderr",
     "output_type": "stream",
     "text": [
      "xtracting sha256:06b5edd6bf524455a7c5a54cb27ced3ecc540414ecf38c24c80ba4368ebc77de\n"
     ]
    },
    {
     "name": "stderr",
     "output_type": "stream",
     "text": [
      "#5 extracting sha256:06b5edd6bf524455a7c5a54cb27ced3ecc540414ecf38c24c80ba4368ebc77de done\n",
      "#5 extrac"
     ]
    },
    {
     "name": "stderr",
     "output_type": "stream",
     "text": [
      "ting sha256:f18d016c4ccc1c57c9e34cb119e1e1966287b08aa9b4d52a38b30815a56574b6\n"
     ]
    },
    {
     "name": "stderr",
     "output_type": "stream",
     "text": [
      "#5 extracting sha256:f18d016c4ccc1c57c9e34cb119e1e1966287b08aa9b4d52a38b30815a56574b6 5.0s\n"
     ]
    },
    {
     "name": "stderr",
     "output_type": "stream",
     "text": [
      "#5 extracting sha256:f18d016c4ccc1c57c9e34cb119e1e1966287b08aa9b4d52a38b30815a56574b6 10.1s\n"
     ]
    },
    {
     "name": "stderr",
     "output_type": "stream",
     "text": [
      "#5 extracting sha256:f18d016c4ccc1c57c9e34cb119e1e1966287b08aa9b4d52a38b30815a56574b6 12.8s done\n"
     ]
    },
    {
     "name": "stderr",
     "output_type": "stream",
     "text": [
      "#5 extracting sha256:c0ad16d9fa05dbf708784e8aa10d69153465bae391345020be52cbe0a1701932\n"
     ]
    },
    {
     "name": "stderr",
     "output_type": "stream",
     "text": [
      "#5 extracting sha256:c0ad16d9fa05dbf708784e8aa10d69153465bae391345020be52cbe0a1701932 done\n",
      "#5 extrac"
     ]
    },
    {
     "name": "stderr",
     "output_type": "stream",
     "text": [
      "ting sha256:30587ba7fd6bcbd1c883125d84517055b2d7f2d35a13faedbc8b15f94b900cc2 done\n",
      "#5 extracting sha2"
     ]
    },
    {
     "name": "stderr",
     "output_type": "stream",
     "text": [
      "56:909695be1d5003de345714eec2ca3020a48dd8f407fe918cbd47a8db73d7a233\n"
     ]
    },
    {
     "name": "stderr",
     "output_type": "stream",
     "text": [
      "#5 extracting sha256:909695be1d5003de345714eec2ca3020a48dd8f407fe918cbd47a8db73d7a233 5.0s\n"
     ]
    },
    {
     "name": "stderr",
     "output_type": "stream",
     "text": [
      "#5 extracting sha256:909695be1d5003de345714eec2ca3020a48dd8f407fe918cbd47a8db73d7a233 10.1s\n"
     ]
    },
    {
     "name": "stderr",
     "output_type": "stream",
     "text": [
      "#5 extracting sha256:909695be1d5003de345714eec2ca3020a48dd8f407fe918cbd47a8db73d7a233 13.7s done\n"
     ]
    },
    {
     "name": "stderr",
     "output_type": "stream",
     "text": [
      "#5 extracting sha256:f119a6d0a466a041afbcb08344ff624b5c5ac5f68b93d33af4827529ea1a6800\n"
     ]
    },
    {
     "name": "stderr",
     "output_type": "stream",
     "text": [
      "#5 extracting sha256:f119a6d0a466a041afbcb08344ff624b5c5ac5f68b93d33af4827529ea1a6800 0.1s done\n"
     ]
    },
    {
     "name": "stderr",
     "output_type": "stream",
     "text": [
      "#5 extracting sha256:88d87059c913e67971846680d4032b75f96f599f8a67062f668fed6471fc2968\n"
     ]
    },
    {
     "name": "stderr",
     "output_type": "stream",
     "text": [
      "#5 extracting sha256:88d87059c913e67971846680d4032b75f96f599f8a67062f668fed6471fc2968 0.0s done\n",
      "#5 D"
     ]
    },
    {
     "name": "stderr",
     "output_type": "stream",
     "text": [
      "ONE 96.6s\n"
     ]
    },
    {
     "name": "stderr",
     "output_type": "stream",
     "text": [
      "\n",
      "#6 [2/2] ADD my_app.py .\n",
      "#6 DONE 0.0s\n",
      "\n",
      "#7 exporting to image\n",
      "#7 exporting layers\n"
     ]
    },
    {
     "name": "stderr",
     "output_type": "stream",
     "text": [
      "#7 exporting layers 4.4s done\n"
     ]
    },
    {
     "name": "stderr",
     "output_type": "stream",
     "text": [
      "#7 writing image sha256:981eb270945f4ca2f18288463993c37f894910b2a19f4fb13f1e33ebf65d5055 done\n",
      "#7 nam"
     ]
    },
    {
     "name": "stderr",
     "output_type": "stream",
     "text": [
      "ing to docker.io/library/my_app:latest done\n",
      "#7 DONE 4.4s\n"
     ]
    }
   ],
   "source": [
    "%%sh\n",
    "docker build -t my_app:latest -f Dockerfile.custom ."
   ]
  },
  {
   "cell_type": "markdown",
   "id": "9ccfab25",
   "metadata": {},
   "source": [
    "We can then launch it on the local scheduler."
   ]
  },
  {
   "cell_type": "code",
   "execution_count": 8,
   "id": "e519cf58",
   "metadata": {
    "execution": {
     "iopub.execute_input": "2025-05-01T05:43:55.200364Z",
     "iopub.status.busy": "2025-05-01T05:43:55.199909Z",
     "iopub.status.idle": "2025-05-01T05:44:06.736820Z",
     "shell.execute_reply": "2025-05-01T05:44:06.736213Z"
    }
   },
   "outputs": [
    {
     "name": "stderr",
     "output_type": "stream",
     "text": [
      "torchx 2025-05-01 05:43:55 INFO     Tracker configurations: {}\n"
     ]
    },
    {
     "name": "stderr",
     "output_type": "stream",
     "text": [
      "torchx 2025-05-01 05:43:55 INFO     Checking for changes in workspace `file:///home/runner/work/torc"
     ]
    },
    {
     "name": "stderr",
     "output_type": "stream",
     "text": [
      "hx/torchx/docs/source`...\n",
      "torchx 2025-05-01 05:43:55 INFO     To disable workspaces pass: --workspac"
     ]
    },
    {
     "name": "stderr",
     "output_type": "stream",
     "text": [
      "e=\"\" from CLI or workspace=None programmatically.\n"
     ]
    },
    {
     "name": "stderr",
     "output_type": "stream",
     "text": [
      "torchx 2025-05-01 05:43:55 INFO     Workspace `file:///home/runner/work/torchx/torchx/docs/source` r"
     ]
    },
    {
     "name": "stderr",
     "output_type": "stream",
     "text": [
      "esolved to filesystem path `/home/runner/work/torchx/torchx/docs/source`\n"
     ]
    },
    {
     "name": "stderr",
     "output_type": "stream",
     "text": [
      "torchx 2025-05-01 05:43:56 WARNING  failed to pull image my_app:latest, falling back to local: 404 C"
     ]
    },
    {
     "name": "stderr",
     "output_type": "stream",
     "text": [
      "lient Error for http+docker://localhost/v1.45/images/create?tag=latest&fromImage=my_app: Not Found ("
     ]
    },
    {
     "name": "stderr",
     "output_type": "stream",
     "text": [
      "\"pull access denied for my_app, repository does not exist or may require 'docker login': denied: req"
     ]
    },
    {
     "name": "stderr",
     "output_type": "stream",
     "text": [
      "uested access to the resource is denied\")\n",
      "torchx 2025-05-01 05:43:56 INFO     Building workspace doc"
     ]
    },
    {
     "name": "stderr",
     "output_type": "stream",
     "text": [
      "ker image (this may take a while)...\n"
     ]
    },
    {
     "name": "stderr",
     "output_type": "stream",
     "text": [
      "torchx 2025-05-01 05:43:56 INFO     Step 1/4 : ARG IMAGE\n"
     ]
    },
    {
     "name": "stderr",
     "output_type": "stream",
     "text": [
      "torchx 2025-05-01 05:43:56 INFO     Step 2/4 : FROM $IMAGE\n",
      "torchx 2025-05-01 05:43:56 INFO      --->"
     ]
    },
    {
     "name": "stderr",
     "output_type": "stream",
     "text": [
      " 981eb270945f\n",
      "torchx 2025-05-01 05:43:56 INFO     Step 3/4 : COPY . .\n"
     ]
    },
    {
     "name": "stderr",
     "output_type": "stream",
     "text": [
      "torchx 2025-05-01 05:44:01 INFO      ---> 8cfce56f9fe5\n"
     ]
    },
    {
     "name": "stderr",
     "output_type": "stream",
     "text": [
      "torchx 2025-05-01 05:44:01 INFO     Step 4/4 : LABEL torchx.pytorch.org/version=0.8.0dev0\n"
     ]
    },
    {
     "name": "stderr",
     "output_type": "stream",
     "text": [
      "torchx 2025-05-01 05:44:01 INFO      ---> Running in c6391e5ef514\n"
     ]
    },
    {
     "name": "stderr",
     "output_type": "stream",
     "text": [
      "torchx 2025-05-01 05:44:05 INFO      ---> Removed intermediate container c6391e5ef514\n"
     ]
    },
    {
     "name": "stderr",
     "output_type": "stream",
     "text": [
      "torchx 2025-05-01 05:44:05 INFO      ---> d5bdf0eaf7bc\n",
      "torchx 2025-05-01 05:44:05 INFO     [Warning]"
     ]
    },
    {
     "name": "stderr",
     "output_type": "stream",
     "text": [
      " One or more build-args [WORKSPACE] were not consumed\n"
     ]
    },
    {
     "name": "stderr",
     "output_type": "stream",
     "text": [
      "torchx 2025-05-01 05:44:05 INFO     Successfully built d5bdf0eaf7bc\n"
     ]
    },
    {
     "name": "stderr",
     "output_type": "stream",
     "text": [
      "torchx 2025-05-01 05:44:05 INFO     Built new image `sha256:d5bdf0eaf7bccaa79121e616758a274bf47a9fcc"
     ]
    },
    {
     "name": "stderr",
     "output_type": "stream",
     "text": [
      "e3722f3f7e88c8d41e3180f1` based on original image `my_app:latest` and changes in workspace `file:///"
     ]
    },
    {
     "name": "stderr",
     "output_type": "stream",
     "text": [
      "home/runner/work/torchx/torchx/docs/source` for role[0]=greeter.\n"
     ]
    },
    {
     "name": "stderr",
     "output_type": "stream",
     "text": [
      "torchx 2025-05-01 05:44:05 INFO     Waiting for the app to finish...\n"
     ]
    },
    {
     "name": "stderr",
     "output_type": "stream",
     "text": [
      "greeter/0 Hello, your name!\n"
     ]
    },
    {
     "name": "stderr",
     "output_type": "stream",
     "text": [
      "torchx 2025-05-01 05:44:06 INFO     Job finished: SUCCEEDED\n"
     ]
    },
    {
     "name": "stdout",
     "output_type": "stream",
     "text": [
      "local_docker://torchx/hello_world-t4mjlx42hdj60c\n"
     ]
    }
   ],
   "source": [
    "%%sh\n",
    "torchx run --scheduler local_docker my_component.py:greet --image \"my_app:latest\" --user \"your name\""
   ]
  },
  {
   "cell_type": "markdown",
   "id": "d475b853",
   "metadata": {},
   "source": [
    "If you have a Kubernetes cluster you can use the\n",
    "[Kubernetes scheduler](schedulers/kubernetes.rst) to launch this on the cluster\n",
    "instead."
   ]
  },
  {
   "cell_type": "markdown",
   "id": "39d7e5cd",
   "metadata": {
    "region_name": "md"
   },
   "source": [
    "\n",
    "```sh\n",
    "$ docker push my_app:latest\n",
    "$ torchx run --scheduler kubernetes my_component.py:greet --image \"my_app:latest\" --user \"your name\"\n",
    "```\n"
   ]
  }
 ],
 "metadata": {
  "jupytext": {
   "text_representation": {
    "extension": ".md",
    "format_name": "markdown",
    "format_version": "1.1",
    "jupytext_version": "1.1.0"
   }
  },
  "kernelspec": {
   "display_name": "Python 3",
   "language": "python",
   "name": "python3"
  },
  "language_info": {
   "codemirror_mode": {
    "name": "ipython",
    "version": 3
   },
   "file_extension": ".py",
   "mimetype": "text/x-python",
   "name": "python",
   "nbconvert_exporter": "python",
   "pygments_lexer": "ipython3",
   "version": "3.10.17"
  }
 },
 "nbformat": 4,
 "nbformat_minor": 5
}
