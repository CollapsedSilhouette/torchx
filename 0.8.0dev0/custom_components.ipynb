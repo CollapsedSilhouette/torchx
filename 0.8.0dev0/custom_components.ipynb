{
 "cells": [
  {
   "cell_type": "markdown",
   "id": "0ef4cfe7",
   "metadata": {},
   "source": [
    "# Custom Components\n",
    "\n",
    "This is a guide on how to build a simple app and custom component spec and\n",
    "launch it via two different schedulers.\n",
    "\n",
    "See the [Quickstart Guide](quickstart.md) for installation and basic usage.\n",
    "\n",
    "## Builtins\n",
    "\n",
    "Before writing a custom component, check if any of the builtin components\n",
    "satisfy your needs. TorchX provides a number of builtin components with premade\n",
    "images. You can discover them via:"
   ]
  },
  {
   "cell_type": "code",
   "execution_count": 1,
   "id": "8687a252",
   "metadata": {
    "execution": {
     "iopub.execute_input": "2025-05-10T13:53:50.003811Z",
     "iopub.status.busy": "2025-05-10T13:53:50.003615Z",
     "iopub.status.idle": "2025-05-10T13:53:50.953925Z",
     "shell.execute_reply": "2025-05-10T13:53:50.953151Z"
    }
   },
   "outputs": [
    {
     "name": "stdout",
     "output_type": "stream",
     "text": [
      "Found 11 builtin components:\n",
      "  1. dist.ddp\n",
      "  2. dist.spmd\n",
      "  3. metrics.tensorboard\n",
      "  4. serve.torchs"
     ]
    },
    {
     "name": "stdout",
     "output_type": "stream",
     "text": [
      "erve\n",
      "  5. utils.binary\n",
      "  6. utils.booth\n",
      "  7. utils.copy\n",
      "  8. utils.echo\n",
      "  9. utils.python\n",
      " 10. utils"
     ]
    },
    {
     "name": "stdout",
     "output_type": "stream",
     "text": [
      ".sh\n",
      " 11. utils.touch\n"
     ]
    }
   ],
   "source": [
    "%%sh\n",
    "torchx builtins"
   ]
  },
  {
   "cell_type": "markdown",
   "id": "9b07b9ad",
   "metadata": {},
   "source": [
    "You can use these either from the CLI, from a pipeline or programmatically like\n",
    "you would any other component."
   ]
  },
  {
   "cell_type": "code",
   "execution_count": 2,
   "id": "f9ebc5ce",
   "metadata": {
    "execution": {
     "iopub.execute_input": "2025-05-10T13:53:50.956305Z",
     "iopub.status.busy": "2025-05-10T13:53:50.956101Z",
     "iopub.status.idle": "2025-05-10T13:56:35.422417Z",
     "shell.execute_reply": "2025-05-10T13:56:35.421799Z"
    }
   },
   "outputs": [
    {
     "name": "stderr",
     "output_type": "stream",
     "text": [
      "torchx 2025-05-10 13:53:52 INFO     Tracker configurations: {}\n"
     ]
    },
    {
     "name": "stderr",
     "output_type": "stream",
     "text": [
      "torchx 2025-05-10 13:53:52 INFO     Checking for changes in workspace `file:///home/runner/work/torc"
     ]
    },
    {
     "name": "stderr",
     "output_type": "stream",
     "text": [
      "hx/torchx/docs/source`...\n",
      "torchx 2025-05-10 13:53:52 INFO     To disable workspaces pass: --workspac"
     ]
    },
    {
     "name": "stderr",
     "output_type": "stream",
     "text": [
      "e=\"\" from CLI or workspace=None programmatically.\n"
     ]
    },
    {
     "name": "stderr",
     "output_type": "stream",
     "text": [
      "torchx 2025-05-10 13:53:52 INFO     Workspace `file:///home/runner/work/torchx/torchx/docs/source` r"
     ]
    },
    {
     "name": "stderr",
     "output_type": "stream",
     "text": [
      "esolved to filesystem path `/home/runner/work/torchx/torchx/docs/source`\n"
     ]
    },
    {
     "name": "stderr",
     "output_type": "stream",
     "text": [
      "torchx 2025-05-10 13:56:18 INFO     Building workspace docker image (this may take a while)...\n"
     ]
    },
    {
     "name": "stderr",
     "output_type": "stream",
     "text": [
      "torchx 2025-05-10 13:56:18 INFO     Step 1/4 : ARG IMAGE\n"
     ]
    },
    {
     "name": "stderr",
     "output_type": "stream",
     "text": [
      "torchx 2025-05-10 13:56:18 INFO     Step 2/4 : FROM $IMAGE\n",
      "torchx 2025-05-10 13:56:18 INFO      --->"
     ]
    },
    {
     "name": "stderr",
     "output_type": "stream",
     "text": [
      " ff3071cdf07d\n",
      "torchx 2025-05-10 13:56:18 INFO     Step 3/4 : COPY . .\n"
     ]
    },
    {
     "name": "stderr",
     "output_type": "stream",
     "text": [
      "torchx 2025-05-10 13:56:26 INFO      ---> 5cc6a93f9989\n"
     ]
    },
    {
     "name": "stderr",
     "output_type": "stream",
     "text": [
      "torchx 2025-05-10 13:56:26 INFO     Step 4/4 : LABEL torchx.pytorch.org/version=0.8.0dev0\n"
     ]
    },
    {
     "name": "stderr",
     "output_type": "stream",
     "text": [
      "torchx 2025-05-10 13:56:26 INFO      ---> Running in aa7e80358f7f\n"
     ]
    },
    {
     "name": "stderr",
     "output_type": "stream",
     "text": [
      "torchx 2025-05-10 13:56:34 INFO      ---> Removed intermediate container aa7e80358f7f\n"
     ]
    },
    {
     "name": "stderr",
     "output_type": "stream",
     "text": [
      "torchx 2025-05-10 13:56:34 INFO      ---> 7c8ac31dbca2\n"
     ]
    },
    {
     "name": "stderr",
     "output_type": "stream",
     "text": [
      "torchx 2025-05-10 13:56:34 INFO     [Warning] One or more build-args [WORKSPACE] were not consumed\n"
     ]
    },
    {
     "name": "stderr",
     "output_type": "stream",
     "text": [
      "torchx 2025-05-10 13:56:34 INFO     Successfully built 7c8ac31dbca2\n"
     ]
    },
    {
     "name": "stderr",
     "output_type": "stream",
     "text": [
      "torchx 2025-05-10 13:56:34 INFO     Built new image `sha256:7c8ac31dbca258641517010ec1da4750728a5944"
     ]
    },
    {
     "name": "stderr",
     "output_type": "stream",
     "text": [
      "69ed7d848214e322e54be9eb` based on original image `ghcr.io/pytorch/torchx:0.8.0dev0` and changes in "
     ]
    },
    {
     "name": "stderr",
     "output_type": "stream",
     "text": [
      "workspace `file:///home/runner/work/torchx/torchx/docs/source` for role[0]=echo.\n"
     ]
    },
    {
     "name": "stderr",
     "output_type": "stream",
     "text": [
      "torchx 2025-05-10 13:56:34 INFO     Waiting for the app to finish...\n"
     ]
    },
    {
     "name": "stderr",
     "output_type": "stream",
     "text": [
      "echo/0 Hello :)\n"
     ]
    },
    {
     "name": "stderr",
     "output_type": "stream",
     "text": [
      "torchx 2025-05-10 13:56:35 INFO     Job finished: SUCCEEDED\n"
     ]
    },
    {
     "name": "stdout",
     "output_type": "stream",
     "text": [
      "local_docker://torchx/echo-mjbp5rmc173l1\n"
     ]
    }
   ],
   "source": [
    "%%sh\n",
    "torchx run utils.echo --msg \"Hello :)\""
   ]
  },
  {
   "cell_type": "markdown",
   "id": "961c2ad7",
   "metadata": {},
   "source": [
    "## Hello World\n",
    "\n",
    "Lets start off with writing a simple \"Hello World\" python app. This is just a\n",
    "normal python program and can contain anything you'd like.\n",
    "\n",
    "<div class=\"admonition note\">\n",
    "<div class=\"admonition-title\">Note</div>\n",
    "This example uses Jupyter Notebook `%%writefile` to create local files for\n",
    "example purposes. Under normal usage you would have these as standalone files.\n",
    "</div>"
   ]
  },
  {
   "cell_type": "code",
   "execution_count": 3,
   "id": "d97a0fc8",
   "metadata": {
    "execution": {
     "iopub.execute_input": "2025-05-10T13:56:35.424909Z",
     "iopub.status.busy": "2025-05-10T13:56:35.424431Z",
     "iopub.status.idle": "2025-05-10T13:56:35.429020Z",
     "shell.execute_reply": "2025-05-10T13:56:35.428455Z"
    }
   },
   "outputs": [
    {
     "name": "stdout",
     "output_type": "stream",
     "text": [
      "Writing my_app.py\n"
     ]
    }
   ],
   "source": [
    "%%writefile my_app.py\n",
    "\n",
    "import sys\n",
    "import argparse\n",
    "\n",
    "def main(user: str) -> None:\n",
    "    print(f\"Hello, {user}!\")\n",
    "\n",
    "if __name__ == \"__main__\":\n",
    "    parser = argparse.ArgumentParser(\n",
    "        description=\"Hello world app\"\n",
    "    )\n",
    "    parser.add_argument(\n",
    "        \"--user\",\n",
    "        type=str,\n",
    "        help=\"the person to greet\",\n",
    "        required=True,\n",
    "    )\n",
    "    args = parser.parse_args(sys.argv[1:])\n",
    "\n",
    "    main(args.user)"
   ]
  },
  {
   "cell_type": "markdown",
   "id": "2640bf07",
   "metadata": {},
   "source": [
    "Now that we have an app we can write the component file for it. This function\n",
    "allows us to reuse and share our app in a user friendly way.\n",
    "\n",
    "We can use this component from the `torchx` cli or programmatically as part of a\n",
    "pipeline."
   ]
  },
  {
   "cell_type": "code",
   "execution_count": 4,
   "id": "456f1a61",
   "metadata": {
    "execution": {
     "iopub.execute_input": "2025-05-10T13:56:35.431113Z",
     "iopub.status.busy": "2025-05-10T13:56:35.430727Z",
     "iopub.status.idle": "2025-05-10T13:56:35.434539Z",
     "shell.execute_reply": "2025-05-10T13:56:35.433934Z"
    }
   },
   "outputs": [
    {
     "name": "stdout",
     "output_type": "stream",
     "text": [
      "Writing my_component.py\n"
     ]
    }
   ],
   "source": [
    "%%writefile my_component.py\n",
    "\n",
    "import torchx.specs as specs\n",
    "\n",
    "def greet(user: str, image: str = \"my_app:latest\") -> specs.AppDef:\n",
    "    return specs.AppDef(\n",
    "        name=\"hello_world\",\n",
    "        roles=[\n",
    "            specs.Role(\n",
    "                name=\"greeter\",\n",
    "                image=image,\n",
    "                entrypoint=\"python\",\n",
    "                args=[\n",
    "                    \"-m\", \"my_app\",\n",
    "                    \"--user\", user,\n",
    "                ],\n",
    "            )\n",
    "        ],\n",
    "    )"
   ]
  },
  {
   "cell_type": "markdown",
   "id": "0b06ada6",
   "metadata": {},
   "source": [
    "We can execute our component via `torchx run`. The `local_cwd` scheduler\n",
    "executes the component relative to the current directory."
   ]
  },
  {
   "cell_type": "code",
   "execution_count": 5,
   "id": "fbe57cbe",
   "metadata": {
    "execution": {
     "iopub.execute_input": "2025-05-10T13:56:35.436534Z",
     "iopub.status.busy": "2025-05-10T13:56:35.436199Z",
     "iopub.status.idle": "2025-05-10T13:56:36.865292Z",
     "shell.execute_reply": "2025-05-10T13:56:36.864681Z"
    }
   },
   "outputs": [
    {
     "name": "stderr",
     "output_type": "stream",
     "text": [
      "torchx 2025-05-10 13:56:35 INFO     Tracker configurations: {}\n"
     ]
    },
    {
     "name": "stderr",
     "output_type": "stream",
     "text": [
      "torchx 2025-05-10 13:56:35 INFO     Log directory not set in scheduler cfg. Creating a temporary log"
     ]
    },
    {
     "name": "stderr",
     "output_type": "stream",
     "text": [
      " dir that will be deleted on exit. To preserve log directory set the `log_dir` cfg option\n",
      "torchx 202"
     ]
    },
    {
     "name": "stderr",
     "output_type": "stream",
     "text": [
      "5-05-10 13:56:35 INFO     Log directory is: /tmp/torchx_rou_e2fw\n"
     ]
    },
    {
     "name": "stderr",
     "output_type": "stream",
     "text": [
      "torchx 2025-05-10 13:56:35 INFO     Waiting for the app to finish...\n"
     ]
    },
    {
     "name": "stderr",
     "output_type": "stream",
     "text": [
      "greeter/0 Hello, your name!\n"
     ]
    },
    {
     "name": "stderr",
     "output_type": "stream",
     "text": [
      "torchx 2025-05-10 13:56:36 INFO     Job finished: SUCCEEDED\n"
     ]
    },
    {
     "name": "stdout",
     "output_type": "stream",
     "text": [
      "local_cwd://torchx/hello_world-wjqp4dbx2jcw\n"
     ]
    }
   ],
   "source": [
    "%%sh\n",
    "torchx run --scheduler local_cwd my_component.py:greet --user \"your name\""
   ]
  },
  {
   "cell_type": "markdown",
   "id": "e1a5221c",
   "metadata": {},
   "source": [
    "If we want to run in other environments, we can build a Docker container so we\n",
    "can run our component in Docker enabled environments such as Kubernetes or via\n",
    "the local Docker scheduler.\n",
    "\n",
    "<div class=\"admonition note\">\n",
    "<div class=\"admonition-title\">Note</div>\n",
    "This requires Docker installed and won't work in environments such as Google\n",
    "Colab. If you have not done so already follow the install instructions on:\n",
    "[https://docs.docker.com/get-docker/](https://docs.docker.com/get-docker/)</a>\n",
    "</div>"
   ]
  },
  {
   "cell_type": "code",
   "execution_count": 6,
   "id": "1d214e1d",
   "metadata": {
    "execution": {
     "iopub.execute_input": "2025-05-10T13:56:36.867941Z",
     "iopub.status.busy": "2025-05-10T13:56:36.867356Z",
     "iopub.status.idle": "2025-05-10T13:56:36.871623Z",
     "shell.execute_reply": "2025-05-10T13:56:36.870987Z"
    }
   },
   "outputs": [
    {
     "name": "stdout",
     "output_type": "stream",
     "text": [
      "Writing Dockerfile.custom\n"
     ]
    }
   ],
   "source": [
    "%%writefile Dockerfile.custom\n",
    "\n",
    "FROM ghcr.io/pytorch/torchx:0.1.0rc1\n",
    "\n",
    "ADD my_app.py ."
   ]
  },
  {
   "cell_type": "markdown",
   "id": "aab0017e",
   "metadata": {},
   "source": [
    "Once we have the Dockerfile created we can create our docker image."
   ]
  },
  {
   "cell_type": "code",
   "execution_count": 7,
   "id": "b5f85e83",
   "metadata": {
    "execution": {
     "iopub.execute_input": "2025-05-10T13:56:36.873866Z",
     "iopub.status.busy": "2025-05-10T13:56:36.873472Z",
     "iopub.status.idle": "2025-05-10T13:58:11.502998Z",
     "shell.execute_reply": "2025-05-10T13:58:11.502362Z"
    }
   },
   "outputs": [
    {
     "name": "stderr",
     "output_type": "stream",
     "text": [
      "#0 building with \"default\" instance using docker driver\n",
      "\n",
      "#1 [internal] load build definition from Do"
     ]
    },
    {
     "name": "stderr",
     "output_type": "stream",
     "text": [
      "ckerfile.custom\n",
      "#1 transferring dockerfile: 99B done\n",
      "#1 DONE 0.0s\n",
      "\n",
      "#2 [internal] load metadata for g"
     ]
    },
    {
     "name": "stderr",
     "output_type": "stream",
     "text": [
      "hcr.io/pytorch/torchx:0.1.0rc1\n"
     ]
    },
    {
     "name": "stderr",
     "output_type": "stream",
     "text": [
      "#2 DONE 0.5s\n"
     ]
    },
    {
     "name": "stderr",
     "output_type": "stream",
     "text": [
      "\n",
      "#3 [internal] load .dockerignore\n",
      "#3 transferring context: 2B done\n",
      "#3 DONE 0.0s\n",
      "\n",
      "#4 [internal] load "
     ]
    },
    {
     "name": "stderr",
     "output_type": "stream",
     "text": [
      "build context\n",
      "#4 transferring context: 425B done\n",
      "#4 DONE 0.0s\n",
      "\n",
      "#5 [1/2] FROM ghcr.io/pytorch/torchx:"
     ]
    },
    {
     "name": "stderr",
     "output_type": "stream",
     "text": [
      "0.1.0rc1@sha256:a738949601d82e7f100fa1efeb8dde0c35ce44c66726cf38596f96d78dcd7ad3\n",
      "#5 resolve ghcr.io/"
     ]
    },
    {
     "name": "stderr",
     "output_type": "stream",
     "text": [
      "pytorch/torchx:0.1.0rc1@sha256:a738949601d82e7f100fa1efeb8dde0c35ce44c66726cf38596f96d78dcd7ad3 done"
     ]
    },
    {
     "name": "stderr",
     "output_type": "stream",
     "text": [
      "\n",
      "#5 sha256:889a7173dcfeb409f9d88054a97ab2445f5a799a823f719a5573365ee3662b6f 0B / 189B 0.1s\n",
      "#5 sha256"
     ]
    },
    {
     "name": "stderr",
     "output_type": "stream",
     "text": [
      ":3dbec59e804974689ff0739216fb012d3e1cd6694632cd3a85b74b572266ec5c 7.21kB / 7.21kB done\n",
      "#5 sha256:a73"
     ]
    },
    {
     "name": "stderr",
     "output_type": "stream",
     "text": [
      "8949601d82e7f100fa1efeb8dde0c35ce44c66726cf38596f96d78dcd7ad3 3.25kB / 3.25kB done\n",
      "#5 sha256:d2e110b"
     ]
    },
    {
     "name": "stderr",
     "output_type": "stream",
     "text": [
      "e24e168b42c1a2ddbc4a476a217b73cccdba69cdcb212b812a88f5726 0B / 857B 0.1s\n"
     ]
    },
    {
     "name": "stderr",
     "output_type": "stream",
     "text": [
      "#5 sha256:889a7173dcfeb409f9d88054a97ab2445f5a799a823f719a5573365ee3662b6f 189B / 189B 0.2s done\n",
      "#5 "
     ]
    },
    {
     "name": "stderr",
     "output_type": "stream",
     "text": [
      "sha256:d2e110be24e168b42c1a2ddbc4a476a217b73cccdba69cdcb212b812a88f5726 857B / 857B 0.2s done\n",
      "#5 sha"
     ]
    },
    {
     "name": "stderr",
     "output_type": "stream",
     "text": [
      "256:4bbfd2c87b7524455f144a03bf387c88b6d4200e5e0df9139a9d5e79110f89ca 20.97MB / 26.70MB 0.3s\n",
      "#5 sha25"
     ]
    },
    {
     "name": "stderr",
     "output_type": "stream",
     "text": [
      "6:6009a622672af862e3a3979ffd58a348f95208a4bc3b6f6cea2efda4e8390203 1.05MB / 9.94MB 0.3s\n",
      "#5 sha256:14"
     ]
    },
    {
     "name": "stderr",
     "output_type": "stream",
     "text": [
      "3f801954310499daa44a8499a49797d2f282b5d56be601557ebe6cbf796907 7.34MB / 2.00GB 0.3s\n"
     ]
    },
    {
     "name": "stderr",
     "output_type": "stream",
     "text": [
      "#5 sha256:4bbfd2c87b7524455f144a03bf387c88b6d4200e5e0df9139a9d5e79110f89ca 26.70MB / 26.70MB 0.4s do"
     ]
    },
    {
     "name": "stderr",
     "output_type": "stream",
     "text": [
      "ne\n",
      "#5 sha256:6009a622672af862e3a3979ffd58a348f95208a4bc3b6f6cea2efda4e8390203 9.94MB / 9.94MB 0.3s d"
     ]
    },
    {
     "name": "stderr",
     "output_type": "stream",
     "text": [
      "one\n",
      "#5 extracting sha256:4bbfd2c87b7524455f144a03bf387c88b6d4200e5e0df9139a9d5e79110f89ca 0.1s\n",
      "#5 sh"
     ]
    },
    {
     "name": "stderr",
     "output_type": "stream",
     "text": [
      "a256:eccbe17c44e1b27c836dddc42f204bde06f73568b50833556b50324146bd43aa 0B / 132B 0.4s\n",
      "#5 sha256:d4c7a"
     ]
    },
    {
     "name": "stderr",
     "output_type": "stream",
     "text": [
      "f0d4fa735e6727a24afcea4022492c7f29ac85e31ddf3d385bfbf704f71 0B / 21.46MB 0.4s\n"
     ]
    },
    {
     "name": "stderr",
     "output_type": "stream",
     "text": [
      "#5 sha256:eccbe17c44e1b27c836dddc42f204bde06f73568b50833556b50324146bd43aa 132B / 132B 0.5s done\n",
      "#5 "
     ]
    },
    {
     "name": "stderr",
     "output_type": "stream",
     "text": [
      "sha256:06b5edd6bf524455a7c5a54cb27ced3ecc540414ecf38c24c80ba4368ebc77de 0B / 257B 0.5s\n"
     ]
    },
    {
     "name": "stderr",
     "output_type": "stream",
     "text": [
      "#5 sha256:d4c7af0d4fa735e6727a24afcea4022492c7f29ac85e31ddf3d385bfbf704f71 16.78MB / 21.46MB 0.6s\n",
      "#5"
     ]
    },
    {
     "name": "stderr",
     "output_type": "stream",
     "text": [
      " sha256:06b5edd6bf524455a7c5a54cb27ced3ecc540414ecf38c24c80ba4368ebc77de 257B / 257B 0.6s done\n",
      "#5 sh"
     ]
    },
    {
     "name": "stderr",
     "output_type": "stream",
     "text": [
      "a256:f18d016c4ccc1c57c9e34cb119e1e1966287b08aa9b4d52a38b30815a56574b6 0B / 1.71GB 0.6s\n"
     ]
    },
    {
     "name": "stderr",
     "output_type": "stream",
     "text": [
      "#5 sha256:d4c7af0d4fa735e6727a24afcea4022492c7f29ac85e31ddf3d385bfbf704f71 21.46MB / 21.46MB 0.6s do"
     ]
    },
    {
     "name": "stderr",
     "output_type": "stream",
     "text": [
      "ne\n"
     ]
    },
    {
     "name": "stderr",
     "output_type": "stream",
     "text": [
      "#5 sha256:c0ad16d9fa05dbf708784e8aa10d69153465bae391345020be52cbe0a1701932 0B / 92B 0.7s\n"
     ]
    },
    {
     "name": "stderr",
     "output_type": "stream",
     "text": [
      "#5 sha256:c0ad16d9fa05dbf708784e8aa10d69153465bae391345020be52cbe0a1701932 92B / 92B 0.7s done\n"
     ]
    },
    {
     "name": "stderr",
     "output_type": "stream",
     "text": [
      "#5 sha256:909695be1d5003de345714eec2ca3020a48dd8f407fe918cbd47a8db73d7a233 0B / 341.29MB 0.8s\n",
      "#5 sha"
     ]
    },
    {
     "name": "stderr",
     "output_type": "stream",
     "text": [
      "256:30587ba7fd6bcbd1c883125d84517055b2d7f2d35a13faedbc8b15f94b900cc2 352B / 352B 0.8s done\n"
     ]
    },
    {
     "name": "stderr",
     "output_type": "stream",
     "text": [
      "#5 sha256:143f801954310499daa44a8499a49797d2f282b5d56be601557ebe6cbf796907 114.29MB / 2.00GB 1.0s\n",
      "#5"
     ]
    },
    {
     "name": "stderr",
     "output_type": "stream",
     "text": [
      " sha256:909695be1d5003de345714eec2ca3020a48dd8f407fe918cbd47a8db73d7a233 20.27MB / 341.29MB 1.0s\n"
     ]
    },
    {
     "name": "stderr",
     "output_type": "stream",
     "text": [
      "#5 sha256:909695be1d5003de345714eec2ca3020a48dd8f407fe918cbd47a8db73d7a233 37.75MB / 341.29MB 1.1s\n"
     ]
    },
    {
     "name": "stderr",
     "output_type": "stream",
     "text": [
      "#5 sha256:909695be1d5003de345714eec2ca3020a48dd8f407fe918cbd47a8db73d7a233 61.87MB / 341.29MB 1.3s\n"
     ]
    },
    {
     "name": "stderr",
     "output_type": "stream",
     "text": [
      "#5 extracting sha256:4bbfd2c87b7524455f144a03bf387c88b6d4200e5e0df9139a9d5e79110f89ca 1.0s done\n",
      "#5 s"
     ]
    },
    {
     "name": "stderr",
     "output_type": "stream",
     "text": [
      "ha256:f18d016c4ccc1c57c9e34cb119e1e1966287b08aa9b4d52a38b30815a56574b6 101.71MB / 1.71GB 1.4s\n",
      "#5 ext"
     ]
    },
    {
     "name": "stderr",
     "output_type": "stream",
     "text": [
      "racting sha256:d2e110be24e168b42c1a2ddbc4a476a217b73cccdba69cdcb212b812a88f5726\n"
     ]
    },
    {
     "name": "stderr",
     "output_type": "stream",
     "text": [
      "#5 sha256:143f801954310499daa44a8499a49797d2f282b5d56be601557ebe6cbf796907 238.03MB / 2.00GB 1.6s\n",
      "#5"
     ]
    },
    {
     "name": "stderr",
     "output_type": "stream",
     "text": [
      " sha256:909695be1d5003de345714eec2ca3020a48dd8f407fe918cbd47a8db73d7a233 100.66MB / 341.29MB 1.6s\n",
      "#5"
     ]
    },
    {
     "name": "stderr",
     "output_type": "stream",
     "text": [
      " extracting sha256:d2e110be24e168b42c1a2ddbc4a476a217b73cccdba69cdcb212b812a88f5726 done\n"
     ]
    },
    {
     "name": "stderr",
     "output_type": "stream",
     "text": [
      "#5 sha256:909695be1d5003de345714eec2ca3020a48dd8f407fe918cbd47a8db73d7a233 128.97MB / 341.29MB 1.8s\n"
     ]
    },
    {
     "name": "stderr",
     "output_type": "stream",
     "text": [
      "#5 sha256:143f801954310499daa44a8499a49797d2f282b5d56be601557ebe6cbf796907 344.98MB / 2.00GB 2.1s\n",
      "#5"
     ]
    },
    {
     "name": "stderr",
     "output_type": "stream",
     "text": [
      " sha256:f18d016c4ccc1c57c9e34cb119e1e1966287b08aa9b4d52a38b30815a56574b6 206.57MB / 1.71GB 2.1s\n",
      "#5 s"
     ]
    },
    {
     "name": "stderr",
     "output_type": "stream",
     "text": [
      "ha256:909695be1d5003de345714eec2ca3020a48dd8f407fe918cbd47a8db73d7a233 173.02MB / 341.29MB 2.1s\n"
     ]
    },
    {
     "name": "stderr",
     "output_type": "stream",
     "text": [
      "#5 sha256:909695be1d5003de345714eec2ca3020a48dd8f407fe918cbd47a8db73d7a233 200.28MB / 341.29MB 2.3s\n"
     ]
    },
    {
     "name": "stderr",
     "output_type": "stream",
     "text": [
      "#5 sha256:909695be1d5003de345714eec2ca3020a48dd8f407fe918cbd47a8db73d7a233 233.83MB / 341.29MB 2.5s\n"
     ]
    },
    {
     "name": "stderr",
     "output_type": "stream",
     "text": [
      "#5 sha256:f18d016c4ccc1c57c9e34cb119e1e1966287b08aa9b4d52a38b30815a56574b6 299.89MB / 1.71GB 2.7s\n",
      "#5"
     ]
    },
    {
     "name": "stderr",
     "output_type": "stream",
     "text": [
      " sha256:909695be1d5003de345714eec2ca3020a48dd8f407fe918cbd47a8db73d7a233 261.10MB / 341.29MB 2.7s\n"
     ]
    },
    {
     "name": "stderr",
     "output_type": "stream",
     "text": [
      "#5 sha256:143f801954310499daa44a8499a49797d2f282b5d56be601557ebe6cbf796907 467.66MB / 2.00GB 2.8s\n"
     ]
    },
    {
     "name": "stderr",
     "output_type": "stream",
     "text": [
      "#5 sha256:909695be1d5003de345714eec2ca3020a48dd8f407fe918cbd47a8db73d7a233 313.25MB / 341.29MB 3.0s\n"
     ]
    },
    {
     "name": "stderr",
     "output_type": "stream",
     "text": [
      "#5 sha256:909695be1d5003de345714eec2ca3020a48dd8f407fe918cbd47a8db73d7a233 335.54MB / 341.29MB 3.1s\n"
     ]
    },
    {
     "name": "stderr",
     "output_type": "stream",
     "text": [
      "#5 sha256:f18d016c4ccc1c57c9e34cb119e1e1966287b08aa9b4d52a38b30815a56574b6 391.12MB / 1.71GB 3.3s\n"
     ]
    },
    {
     "name": "stderr",
     "output_type": "stream",
     "text": [
      "#5 sha256:143f801954310499daa44a8499a49797d2f282b5d56be601557ebe6cbf796907 574.62MB / 2.00GB 3.5s\n"
     ]
    },
    {
     "name": "stderr",
     "output_type": "stream",
     "text": [
      "#5 sha256:f18d016c4ccc1c57c9e34cb119e1e1966287b08aa9b4d52a38b30815a56574b6 497.03MB / 1.71GB 4.0s\n",
      "#5"
     ]
    },
    {
     "name": "stderr",
     "output_type": "stream",
     "text": [
      " sha256:909695be1d5003de345714eec2ca3020a48dd8f407fe918cbd47a8db73d7a233 341.29MB / 341.29MB 3.9s do"
     ]
    },
    {
     "name": "stderr",
     "output_type": "stream",
     "text": [
      "ne\n",
      "#5 extracting sha256:889a7173dcfeb409f9d88054a97ab2445f5a799a823f719a5573365ee3662b6f done\n",
      "#5 sha"
     ]
    },
    {
     "name": "stderr",
     "output_type": "stream",
     "text": [
      "256:f119a6d0a466a041afbcb08344ff624b5c5ac5f68b93d33af4827529ea1a6800 563.38kB / 563.38kB 4.0s\n"
     ]
    },
    {
     "name": "stderr",
     "output_type": "stream",
     "text": [
      "#5 sha256:143f801954310499daa44a8499a49797d2f282b5d56be601557ebe6cbf796907 696.25MB / 2.00GB 4.3s\n"
     ]
    },
    {
     "name": "stderr",
     "output_type": "stream",
     "text": [
      "#5 sha256:f119a6d0a466a041afbcb08344ff624b5c5ac5f68b93d33af4827529ea1a6800 563.38kB / 563.38kB 4.2s "
     ]
    },
    {
     "name": "stderr",
     "output_type": "stream",
     "text": [
      "done\n"
     ]
    },
    {
     "name": "stderr",
     "output_type": "stream",
     "text": [
      "#5 sha256:f18d016c4ccc1c57c9e34cb119e1e1966287b08aa9b4d52a38b30815a56574b6 596.64MB / 1.71GB 4.7s\n"
     ]
    },
    {
     "name": "stderr",
     "output_type": "stream",
     "text": [
      "#5 sha256:143f801954310499daa44a8499a49797d2f282b5d56be601557ebe6cbf796907 824.18MB / 2.00GB 5.3s\n",
      "#5"
     ]
    },
    {
     "name": "stderr",
     "output_type": "stream",
     "text": [
      " sha256:f18d016c4ccc1c57c9e34cb119e1e1966287b08aa9b4d52a38b30815a56574b6 683.67MB / 1.71GB 5.3s\n",
      "#5 s"
     ]
    },
    {
     "name": "stderr",
     "output_type": "stream",
     "text": [
      "ha256:88d87059c913e67971846680d4032b75f96f599f8a67062f668fed6471fc2968 556.96kB / 556.96kB 5.3s\n"
     ]
    },
    {
     "name": "stderr",
     "output_type": "stream",
     "text": [
      "#5 sha256:88d87059c913e67971846680d4032b75f96f599f8a67062f668fed6471fc2968 556.96kB / 556.96kB 5.5s "
     ]
    },
    {
     "name": "stderr",
     "output_type": "stream",
     "text": [
      "done\n",
      "#5 extracting sha256:6009a622672af862e3a3979ffd58a348f95208a4bc3b6f6cea2efda4e8390203 0.1s\n"
     ]
    },
    {
     "name": "stderr",
     "output_type": "stream",
     "text": [
      "#5 sha256:f18d016c4ccc1c57c9e34cb119e1e1966287b08aa9b4d52a38b30815a56574b6 771.75MB / 1.71GB 5.8s\n"
     ]
    },
    {
     "name": "stderr",
     "output_type": "stream",
     "text": [
      "#5 sha256:143f801954310499daa44a8499a49797d2f282b5d56be601557ebe6cbf796907 937.43MB / 2.00GB 6.0s\n"
     ]
    },
    {
     "name": "stderr",
     "output_type": "stream",
     "text": [
      "#5 sha256:f18d016c4ccc1c57c9e34cb119e1e1966287b08aa9b4d52a38b30815a56574b6 872.42MB / 1.71GB 6.3s\n",
      "#5"
     ]
    },
    {
     "name": "stderr",
     "output_type": "stream",
     "text": [
      " extracting sha256:6009a622672af862e3a3979ffd58a348f95208a4bc3b6f6cea2efda4e8390203 0.7s done\n"
     ]
    },
    {
     "name": "stderr",
     "output_type": "stream",
     "text": [
      "#5 sha256:143f801954310499daa44a8499a49797d2f282b5d56be601557ebe6cbf796907 1.06GB / 2.00GB 6.6s\n"
     ]
    },
    {
     "name": "stderr",
     "output_type": "stream",
     "text": [
      "#5 sha256:f18d016c4ccc1c57c9e34cb119e1e1966287b08aa9b4d52a38b30815a56574b6 977.27MB / 1.71GB 7.0s\n"
     ]
    },
    {
     "name": "stderr",
     "output_type": "stream",
     "text": [
      "#5 sha256:143f801954310499daa44a8499a49797d2f282b5d56be601557ebe6cbf796907 1.17GB / 2.00GB 7.3s\n"
     ]
    },
    {
     "name": "stderr",
     "output_type": "stream",
     "text": [
      "#5 sha256:143f801954310499daa44a8499a49797d2f282b5d56be601557ebe6cbf796907 1.30GB / 2.00GB 8.1s\n",
      "#5 s"
     ]
    },
    {
     "name": "stderr",
     "output_type": "stream",
     "text": [
      "ha256:f18d016c4ccc1c57c9e34cb119e1e1966287b08aa9b4d52a38b30815a56574b6 1.09GB / 1.71GB 8.1s\n"
     ]
    },
    {
     "name": "stderr",
     "output_type": "stream",
     "text": [
      "#5 sha256:143f801954310499daa44a8499a49797d2f282b5d56be601557ebe6cbf796907 1.40GB / 2.00GB 8.7s\n"
     ]
    },
    {
     "name": "stderr",
     "output_type": "stream",
     "text": [
      "#5 sha256:f18d016c4ccc1c57c9e34cb119e1e1966287b08aa9b4d52a38b30815a56574b6 1.18GB / 1.71GB 8.9s\n"
     ]
    },
    {
     "name": "stderr",
     "output_type": "stream",
     "text": [
      "#5 sha256:143f801954310499daa44a8499a49797d2f282b5d56be601557ebe6cbf796907 1.52GB / 2.00GB 9.4s\n"
     ]
    },
    {
     "name": "stderr",
     "output_type": "stream",
     "text": [
      "#5 sha256:f18d016c4ccc1c57c9e34cb119e1e1966287b08aa9b4d52a38b30815a56574b6 1.29GB / 1.71GB 9.6s\n"
     ]
    },
    {
     "name": "stderr",
     "output_type": "stream",
     "text": [
      "#5 sha256:f18d016c4ccc1c57c9e34cb119e1e1966287b08aa9b4d52a38b30815a56574b6 1.38GB / 1.71GB 10.2s\n"
     ]
    },
    {
     "name": "stderr",
     "output_type": "stream",
     "text": [
      "#5 sha256:143f801954310499daa44a8499a49797d2f282b5d56be601557ebe6cbf796907 1.63GB / 2.00GB 10.3s\n"
     ]
    },
    {
     "name": "stderr",
     "output_type": "stream",
     "text": [
      "#5 sha256:f18d016c4ccc1c57c9e34cb119e1e1966287b08aa9b4d52a38b30815a56574b6 1.48GB / 1.71GB 10.8s\n"
     ]
    },
    {
     "name": "stderr",
     "output_type": "stream",
     "text": [
      "#5 sha256:143f801954310499daa44a8499a49797d2f282b5d56be601557ebe6cbf796907 1.76GB / 2.00GB 11.1s\n"
     ]
    },
    {
     "name": "stderr",
     "output_type": "stream",
     "text": [
      "#5 sha256:f18d016c4ccc1c57c9e34cb119e1e1966287b08aa9b4d52a38b30815a56574b6 1.56GB / 1.71GB 11.3s\n"
     ]
    },
    {
     "name": "stderr",
     "output_type": "stream",
     "text": [
      "#5 sha256:143f801954310499daa44a8499a49797d2f282b5d56be601557ebe6cbf796907 1.87GB / 2.00GB 11.8s\n"
     ]
    },
    {
     "name": "stderr",
     "output_type": "stream",
     "text": [
      "#5 sha256:f18d016c4ccc1c57c9e34cb119e1e1966287b08aa9b4d52a38b30815a56574b6 1.66GB / 1.71GB 12.0s\n"
     ]
    },
    {
     "name": "stderr",
     "output_type": "stream",
     "text": [
      "#5 sha256:143f801954310499daa44a8499a49797d2f282b5d56be601557ebe6cbf796907 1.98GB / 2.00GB 12.5s\n"
     ]
    },
    {
     "name": "stderr",
     "output_type": "stream",
     "text": [
      "#5 sha256:f18d016c4ccc1c57c9e34cb119e1e1966287b08aa9b4d52a38b30815a56574b6 1.71GB / 1.71GB 14.4s don"
     ]
    },
    {
     "name": "stderr",
     "output_type": "stream",
     "text": [
      "e\n"
     ]
    },
    {
     "name": "stderr",
     "output_type": "stream",
     "text": [
      "#5 sha256:143f801954310499daa44a8499a49797d2f282b5d56be601557ebe6cbf796907 2.00GB / 2.00GB 15.2s don"
     ]
    },
    {
     "name": "stderr",
     "output_type": "stream",
     "text": [
      "e\n",
      "#5 extracting sha256:143f801954310499daa44a8499a49797d2f282b5d56be601557ebe6cbf796907\n"
     ]
    },
    {
     "name": "stderr",
     "output_type": "stream",
     "text": [
      "#5 extracting sha256:143f801954310499daa44a8499a49797d2f282b5d56be601557ebe6cbf796907 5.0s\n"
     ]
    },
    {
     "name": "stderr",
     "output_type": "stream",
     "text": [
      "#5 extracting sha256:143f801954310499daa44a8499a49797d2f282b5d56be601557ebe6cbf796907 10.1s\n"
     ]
    },
    {
     "name": "stderr",
     "output_type": "stream",
     "text": [
      "#5 extracting sha256:143f801954310499daa44a8499a49797d2f282b5d56be601557ebe6cbf796907 15.1s\n"
     ]
    },
    {
     "name": "stderr",
     "output_type": "stream",
     "text": [
      "#5 extracting sha256:143f801954310499daa44a8499a49797d2f282b5d56be601557ebe6cbf796907 20.2s\n"
     ]
    },
    {
     "name": "stderr",
     "output_type": "stream",
     "text": [
      "#5 extracting sha256:143f801954310499daa44a8499a49797d2f282b5d56be601557ebe6cbf796907 25.4s\n"
     ]
    },
    {
     "name": "stderr",
     "output_type": "stream",
     "text": [
      "#5 extracting sha256:143f801954310499daa44a8499a49797d2f282b5d56be601557ebe6cbf796907 28.2s done\n"
     ]
    },
    {
     "name": "stderr",
     "output_type": "stream",
     "text": [
      "#5 extracting sha256:eccbe17c44e1b27c836dddc42f204bde06f73568b50833556b50324146bd43aa\n"
     ]
    },
    {
     "name": "stderr",
     "output_type": "stream",
     "text": [
      "#5 extracting sha256:eccbe17c44e1b27c836dddc42f204bde06f73568b50833556b50324146bd43aa done\n",
      "#5 extrac"
     ]
    },
    {
     "name": "stderr",
     "output_type": "stream",
     "text": [
      "ting sha256:d4c7af0d4fa735e6727a24afcea4022492c7f29ac85e31ddf3d385bfbf704f71 0.1s\n"
     ]
    },
    {
     "name": "stderr",
     "output_type": "stream",
     "text": [
      "#5 extracting sha256:d4c7af0d4fa735e6727a24afcea4022492c7f29ac85e31ddf3d385bfbf704f71 0.7s done\n",
      "#5 e"
     ]
    },
    {
     "name": "stderr",
     "output_type": "stream",
     "text": [
      "xtracting sha256:06b5edd6bf524455a7c5a54cb27ced3ecc540414ecf38c24c80ba4368ebc77de\n"
     ]
    },
    {
     "name": "stderr",
     "output_type": "stream",
     "text": [
      "#5 extracting sha256:06b5edd6bf524455a7c5a54cb27ced3ecc540414ecf38c24c80ba4368ebc77de done\n",
      "#5 extrac"
     ]
    },
    {
     "name": "stderr",
     "output_type": "stream",
     "text": [
      "ting sha256:f18d016c4ccc1c57c9e34cb119e1e1966287b08aa9b4d52a38b30815a56574b6\n"
     ]
    },
    {
     "name": "stderr",
     "output_type": "stream",
     "text": [
      "#5 extracting sha256:f18d016c4ccc1c57c9e34cb119e1e1966287b08aa9b4d52a38b30815a56574b6 5.1s\n"
     ]
    },
    {
     "name": "stderr",
     "output_type": "stream",
     "text": [
      "#5 extracting sha256:f18d016c4ccc1c57c9e34cb119e1e1966287b08aa9b4d52a38b30815a56574b6 10.2s\n"
     ]
    },
    {
     "name": "stderr",
     "output_type": "stream",
     "text": [
      "#5 extracting sha256:f18d016c4ccc1c57c9e34cb119e1e1966287b08aa9b4d52a38b30815a56574b6 12.9s done\n"
     ]
    },
    {
     "name": "stderr",
     "output_type": "stream",
     "text": [
      "#5 extracting sha256:c0ad16d9fa05dbf708784e8aa10d69153465bae391345020be52cbe0a1701932\n"
     ]
    },
    {
     "name": "stderr",
     "output_type": "stream",
     "text": [
      "#5 extracting sha256:c0ad16d9fa05dbf708784e8aa10d69153465bae391345020be52cbe0a1701932 done\n",
      "#5 extrac"
     ]
    },
    {
     "name": "stderr",
     "output_type": "stream",
     "text": [
      "ting sha256:30587ba7fd6bcbd1c883125d84517055b2d7f2d35a13faedbc8b15f94b900cc2 done\n",
      "#5 extracting sha2"
     ]
    },
    {
     "name": "stderr",
     "output_type": "stream",
     "text": [
      "56:909695be1d5003de345714eec2ca3020a48dd8f407fe918cbd47a8db73d7a233 0.1s\n"
     ]
    },
    {
     "name": "stderr",
     "output_type": "stream",
     "text": [
      "#5 extracting sha256:909695be1d5003de345714eec2ca3020a48dd8f407fe918cbd47a8db73d7a233 5.2s\n"
     ]
    },
    {
     "name": "stderr",
     "output_type": "stream",
     "text": [
      "#5 extracting sha256:909695be1d5003de345714eec2ca3020a48dd8f407fe918cbd47a8db73d7a233 10.3s\n"
     ]
    },
    {
     "name": "stderr",
     "output_type": "stream",
     "text": [
      "#5 extracting sha256:909695be1d5003de345714eec2ca3020a48dd8f407fe918cbd47a8db73d7a233 13.8s done\n"
     ]
    },
    {
     "name": "stderr",
     "output_type": "stream",
     "text": [
      "#5 extracting sha256:f119a6d0a466a041afbcb08344ff624b5c5ac5f68b93d33af4827529ea1a6800\n"
     ]
    },
    {
     "name": "stderr",
     "output_type": "stream",
     "text": [
      "#5 extracting sha256:f119a6d0a466a041afbcb08344ff624b5c5ac5f68b93d33af4827529ea1a6800 0.0s done\n",
      "#5 e"
     ]
    },
    {
     "name": "stderr",
     "output_type": "stream",
     "text": [
      "xtracting sha256:88d87059c913e67971846680d4032b75f96f599f8a67062f668fed6471fc2968 0.0s done\n"
     ]
    },
    {
     "name": "stderr",
     "output_type": "stream",
     "text": [
      "#5 DONE 79.7s\n"
     ]
    },
    {
     "name": "stderr",
     "output_type": "stream",
     "text": [
      "\n",
      "#6 [2/2] ADD my_app.py .\n",
      "#6 DONE 0.0s\n",
      "\n",
      "#7 exporting to image\n",
      "#7 exporting layers\n"
     ]
    },
    {
     "name": "stderr",
     "output_type": "stream",
     "text": [
      "#7 exporting layers 4.3s done\n"
     ]
    },
    {
     "name": "stderr",
     "output_type": "stream",
     "text": [
      "#7 writing image sha256:f1461f31844e9bdf16a19a0813a66f8a5404874891f26fe31c7402407966d914 done\n",
      "#7 nam"
     ]
    },
    {
     "name": "stderr",
     "output_type": "stream",
     "text": [
      "ing to docker.io/library/my_app:latest done\n",
      "#7 DONE 4.3s\n"
     ]
    }
   ],
   "source": [
    "%%sh\n",
    "docker build -t my_app:latest -f Dockerfile.custom ."
   ]
  },
  {
   "cell_type": "markdown",
   "id": "cb788ac6",
   "metadata": {},
   "source": [
    "We can then launch it on the local scheduler."
   ]
  },
  {
   "cell_type": "code",
   "execution_count": 8,
   "id": "059c92bd",
   "metadata": {
    "execution": {
     "iopub.execute_input": "2025-05-10T13:58:11.505377Z",
     "iopub.status.busy": "2025-05-10T13:58:11.504883Z",
     "iopub.status.idle": "2025-05-10T13:58:22.355893Z",
     "shell.execute_reply": "2025-05-10T13:58:22.355152Z"
    }
   },
   "outputs": [
    {
     "name": "stderr",
     "output_type": "stream",
     "text": [
      "torchx 2025-05-10 13:58:12 INFO     Tracker configurations: {}\n"
     ]
    },
    {
     "name": "stderr",
     "output_type": "stream",
     "text": [
      "torchx 2025-05-10 13:58:12 INFO     Checking for changes in workspace `file:///home/runner/work/torc"
     ]
    },
    {
     "name": "stderr",
     "output_type": "stream",
     "text": [
      "hx/torchx/docs/source`...\n",
      "torchx 2025-05-10 13:58:12 INFO     To disable workspaces pass: --workspac"
     ]
    },
    {
     "name": "stderr",
     "output_type": "stream",
     "text": [
      "e=\"\" from CLI or workspace=None programmatically.\n"
     ]
    },
    {
     "name": "stderr",
     "output_type": "stream",
     "text": [
      "torchx 2025-05-10 13:58:12 INFO     Workspace `file:///home/runner/work/torchx/torchx/docs/source` r"
     ]
    },
    {
     "name": "stderr",
     "output_type": "stream",
     "text": [
      "esolved to filesystem path `/home/runner/work/torchx/torchx/docs/source`\n"
     ]
    },
    {
     "name": "stderr",
     "output_type": "stream",
     "text": [
      "torchx 2025-05-10 13:58:12 WARNING  failed to pull image my_app:latest, falling back to local: 404 C"
     ]
    },
    {
     "name": "stderr",
     "output_type": "stream",
     "text": [
      "lient Error for http+docker://localhost/v1.48/images/create?tag=latest&fromImage=my_app: Not Found ("
     ]
    },
    {
     "name": "stderr",
     "output_type": "stream",
     "text": [
      "\"pull access denied for my_app, repository does not exist or may require 'docker login': denied: req"
     ]
    },
    {
     "name": "stderr",
     "output_type": "stream",
     "text": [
      "uested access to the resource is denied\")\n",
      "torchx 2025-05-10 13:58:12 INFO     Building workspace doc"
     ]
    },
    {
     "name": "stderr",
     "output_type": "stream",
     "text": [
      "ker image (this may take a while)...\n"
     ]
    },
    {
     "name": "stderr",
     "output_type": "stream",
     "text": [
      "torchx 2025-05-10 13:58:12 INFO     Step 1/4 : ARG IMAGE\n"
     ]
    },
    {
     "name": "stderr",
     "output_type": "stream",
     "text": [
      "torchx 2025-05-10 13:58:12 INFO     Step 2/4 : FROM $IMAGE\n",
      "torchx 2025-05-10 13:58:12 INFO      --->"
     ]
    },
    {
     "name": "stderr",
     "output_type": "stream",
     "text": [
      " f1461f31844e\n",
      "torchx 2025-05-10 13:58:12 INFO     Step 3/4 : COPY . .\n"
     ]
    },
    {
     "name": "stderr",
     "output_type": "stream",
     "text": [
      "torchx 2025-05-10 13:58:16 INFO      ---> ddf1dbb88592\n"
     ]
    },
    {
     "name": "stderr",
     "output_type": "stream",
     "text": [
      "torchx 2025-05-10 13:58:16 INFO     Step 4/4 : LABEL torchx.pytorch.org/version=0.8.0dev0\n"
     ]
    },
    {
     "name": "stderr",
     "output_type": "stream",
     "text": [
      "torchx 2025-05-10 13:58:16 INFO      ---> Running in 2dfdd0b55ab2\n"
     ]
    },
    {
     "name": "stderr",
     "output_type": "stream",
     "text": [
      "torchx 2025-05-10 13:58:21 INFO      ---> Removed intermediate container 2dfdd0b55ab2\n",
      "torchx 2025-05"
     ]
    },
    {
     "name": "stderr",
     "output_type": "stream",
     "text": [
      "-10 13:58:21 INFO      ---> 7db2bd030c18\n"
     ]
    },
    {
     "name": "stderr",
     "output_type": "stream",
     "text": [
      "torchx 2025-05-10 13:58:21 INFO     [Warning] One or more build-args [WORKSPACE] were not consumed\n"
     ]
    },
    {
     "name": "stderr",
     "output_type": "stream",
     "text": [
      "torchx 2025-05-10 13:58:21 INFO     Successfully built 7db2bd030c18\n"
     ]
    },
    {
     "name": "stderr",
     "output_type": "stream",
     "text": [
      "torchx 2025-05-10 13:58:21 INFO     Built new image `sha256:7db2bd030c18a023816f7978965aa1d493b2f8fe"
     ]
    },
    {
     "name": "stderr",
     "output_type": "stream",
     "text": [
      "e4867b7db2a838c5600dc752` based on original image `my_app:latest` and changes in workspace `file:///"
     ]
    },
    {
     "name": "stderr",
     "output_type": "stream",
     "text": [
      "home/runner/work/torchx/torchx/docs/source` for role[0]=greeter.\n"
     ]
    },
    {
     "name": "stderr",
     "output_type": "stream",
     "text": [
      "torchx 2025-05-10 13:58:21 INFO     Waiting for the app to finish...\n"
     ]
    },
    {
     "name": "stderr",
     "output_type": "stream",
     "text": [
      "greeter/0 Hello, your name!\n"
     ]
    },
    {
     "name": "stderr",
     "output_type": "stream",
     "text": [
      "torchx 2025-05-10 13:58:22 INFO     Job finished: SUCCEEDED\n"
     ]
    },
    {
     "name": "stdout",
     "output_type": "stream",
     "text": [
      "local_docker://torchx/hello_world-sw9n2sr2phnvlc\n"
     ]
    }
   ],
   "source": [
    "%%sh\n",
    "torchx run --scheduler local_docker my_component.py:greet --image \"my_app:latest\" --user \"your name\""
   ]
  },
  {
   "cell_type": "markdown",
   "id": "02f83327",
   "metadata": {},
   "source": [
    "If you have a Kubernetes cluster you can use the\n",
    "[Kubernetes scheduler](schedulers/kubernetes.rst) to launch this on the cluster\n",
    "instead."
   ]
  },
  {
   "cell_type": "markdown",
   "id": "3115d80b",
   "metadata": {
    "region_name": "md"
   },
   "source": [
    "\n",
    "```sh\n",
    "$ docker push my_app:latest\n",
    "$ torchx run --scheduler kubernetes my_component.py:greet --image \"my_app:latest\" --user \"your name\"\n",
    "```\n"
   ]
  }
 ],
 "metadata": {
  "jupytext": {
   "text_representation": {
    "extension": ".md",
    "format_name": "markdown",
    "format_version": "1.1",
    "jupytext_version": "1.1.0"
   }
  },
  "kernelspec": {
   "display_name": "Python 3",
   "language": "python",
   "name": "python3"
  },
  "language_info": {
   "codemirror_mode": {
    "name": "ipython",
    "version": 3
   },
   "file_extension": ".py",
   "mimetype": "text/x-python",
   "name": "python",
   "nbconvert_exporter": "python",
   "pygments_lexer": "ipython3",
   "version": "3.10.17"
  }
 },
 "nbformat": 4,
 "nbformat_minor": 5
}
