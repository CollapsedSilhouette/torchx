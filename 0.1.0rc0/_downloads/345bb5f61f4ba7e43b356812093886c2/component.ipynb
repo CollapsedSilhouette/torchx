{
  "cells": [
    {
      "cell_type": "code",
      "execution_count": null,
      "metadata": {
        "collapsed": false
      },
      "outputs": [],
      "source": [
        "!pip install torchx[kfp]\n!wget --no-clobber https://github.com/pytorch/torchx/archive/refs/heads/main.tar.gz\n!tar xf main.tar.gz --strip-components=1\n\nNOTEBOOK = True"
      ]
    },
    {
      "cell_type": "markdown",
      "metadata": {},
      "source": [
        "\n# Datapreproc Component Example\n\nThis is a component definition that runs the example datapreproc app.\n"
      ]
    },
    {
      "cell_type": "code",
      "execution_count": null,
      "metadata": {
        "collapsed": false
      },
      "outputs": [],
      "source": [
        "from typing import Dict, Optional\n\nimport torchx.specs as specs\n\n\ndef data_preproc(\n    image: str,\n    entrypoint: str,\n    output_path: str,\n    input_path: str = \"http://cs231n.stanford.edu/tiny-imagenet-200.zip\",\n    input_md5: str = \"90528d7ca1a48142e341f4ef8d21d0de\",\n    env: Optional[Dict[str, str]] = None,\n    resource: Optional[str] = None,\n    name: str = \"datapreproc\",\n) -> specs.AppDef:\n    \"\"\"Data PreProc app.\n\n    Data PreProc app.\n\n    Args:\n        image: Image to use\n        entrypoint: User script to launch\n        output_path: Url-like path to save the processes compressed images\n        input_path: Url-like path to fetch the imagenet dataset\n        input_md5: Hash of the input imagenet dataset file\n        env: Env variables to transfer to the user script\n        resource: String representation of the resource\n        name: Name of the worker\n\n    Returns:\n        specs.AppDef: Torchx AppDef\n    \"\"\"\n\n    env = env or {}\n    ddp_role = specs.Role(\n        name=\"datapreproc_role\",\n        image=image,\n        entrypoint=entrypoint,\n        args=[\n            \"--input_path\",\n            input_path,\n            \"--input_md5\",\n            input_md5,\n            \"--output_path\",\n            output_path,\n        ],\n        env=env,\n        resource=specs.named_resources[resource]\n        if resource\n        else specs.Resource(cpu=1, gpu=0, memMB=1024),\n        num_replicas=1,\n    )\n\n    return specs.AppDef(name, roles=[ddp_role])"
      ]
    }
  ],
  "metadata": {
    "kernelspec": {
      "display_name": "Python 3",
      "language": "python",
      "name": "python3"
    },
    "language_info": {
      "codemirror_mode": {
        "name": "ipython",
        "version": 3
      },
      "file_extension": ".py",
      "mimetype": "text/x-python",
      "name": "python",
      "nbconvert_exporter": "python",
      "pygments_lexer": "ipython3",
      "version": "3.8.11"
    }
  },
  "nbformat": 4,
  "nbformat_minor": 0
}